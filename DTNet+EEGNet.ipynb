{
 "cells": [
  {
   "cell_type": "markdown",
   "id": "afcce337",
   "metadata": {},
   "source": [
    "#### Import Dependencies "
   ]
  },
  {
   "cell_type": "code",
   "execution_count": 1,
   "id": "7ce1d35b",
   "metadata": {},
   "outputs": [],
   "source": [
    "import os\n",
    "import sys\n",
    "import random\n",
    "import numpy as np\n",
    "import pandas as pd\n",
    "import scipy\n",
    "import matplotlib.pyplot as plt\n",
    "import torch\n",
    "import torchvision\n",
    "import torch.nn as nn\n",
    "import torch.optim as optim\n",
    "from torch.utils.data import DataLoader, Dataset, Subset\n",
    "import torchvision.transforms as transforms\n",
    "from sklearn.model_selection import train_test_split\n",
    "from sklearn.preprocessing import OneHotEncoder , StandardScaler\n",
    "from tqdm import tqdm\n",
    "import copy\n",
    "import pickle\n",
    "from itertools import product\n",
    "import pickle\n",
    "from pytorchtools import EarlyStopping"
   ]
  },
  {
   "cell_type": "code",
   "execution_count": 2,
   "id": "f7110ce4",
   "metadata": {},
   "outputs": [],
   "source": [
    "torch.backends.cudnn.benchmark = False\n",
    "torch.backends.cudnn.deterministic = True "
   ]
  },
  {
   "cell_type": "markdown",
   "id": "b17d2ac2",
   "metadata": {},
   "source": [
    "#### Load Dataset\n",
    "- Data must be in the following shape: \n",
    "    - X.shape = (number of trials for all subjects, timestamp, number of channels)\n",
    "    - Y.shape = (number of trials for all subjects, 2) (shape of 2 for an array([subject id, label])"
   ]
  },
  {
   "cell_type": "code",
   "execution_count": 3,
   "id": "52d974e7",
   "metadata": {},
   "outputs": [],
   "source": [
    "X, Y = pickle.load(open('CrossSubjects_MI.pkl', \"rb\"))"
   ]
  },
  {
   "cell_type": "code",
   "execution_count": 4,
   "id": "6c5d7600",
   "metadata": {},
   "outputs": [
    {
     "data": {
      "text/plain": [
       "((2328, 1750, 22), (2328, 2))"
      ]
     },
     "execution_count": 4,
     "metadata": {},
     "output_type": "execute_result"
    }
   ],
   "source": [
    "X.shape, Y.shape"
   ]
  },
  {
   "cell_type": "markdown",
   "id": "7a2f6a1f",
   "metadata": {},
   "source": [
    "#### Define Variables"
   ]
  },
  {
   "cell_type": "code",
   "execution_count": 5,
   "id": "219dc9aa",
   "metadata": {},
   "outputs": [],
   "source": [
    "subject = 0 # subject to leave out from training and then test on \n",
    "total_subjects = 9 #total number of subjects in dataset\n",
    "nchannels = 22 # number of EEG channels\n",
    "batch_size = 12 # batch size for training \n",
    "batch_size1 = 1 # batch size for testing \n",
    "num_epoch = 1000 # number of epochs for training \n",
    "lr = 1e-4 #learning rate \n",
    "patience = 50 # patience for early stopping\n",
    "timestamp = 1750 #timestamp recorded in trials\n",
    "nclasses = 4 #number of label classes \n",
    "lrQM = 10 #learning rate multiplier\n",
    "lmbd = 3  #lambda value "
   ]
  },
  {
   "cell_type": "markdown",
   "id": "9c302ddd",
   "metadata": {},
   "source": [
    "#### Data Preprocessing"
   ]
  },
  {
   "cell_type": "code",
   "execution_count": 6,
   "id": "bf0361c1",
   "metadata": {},
   "outputs": [],
   "source": [
    "#Specify which subject you want to leave out \n",
    "def subject_out(X,Y,subject=0):\n",
    "    XS = []\n",
    "    YS = []\n",
    "    XL = []\n",
    "    YL = []\n",
    "    for i in range(len(X)):\n",
    "        if Y[i][0] == subject:\n",
    "            XL.append(X[i])\n",
    "            YL.append(Y[i])\n",
    "        else:\n",
    "            XS.append(X[i])\n",
    "            YS.append(Y[i])\n",
    "    XS = np.array(XS)\n",
    "    YS = np.array(YS)\n",
    "    XL = np.array(XL)\n",
    "    YL = np.array(YL)\n",
    "    return XS, YS, XL, YL"
   ]
  },
  {
   "cell_type": "code",
   "execution_count": 7,
   "id": "b68232cb",
   "metadata": {},
   "outputs": [],
   "source": [
    "#Normalize the data per the number of EEG channels \n",
    "def prepsubdata(X,Y,nchannels):\n",
    "    X_train, X_test, y_train, y_test = train_test_split(X,Y, test_size=0.20, random_state=0)\n",
    "    \n",
    "    scaler = StandardScaler()\n",
    "    scaler.fit(X_train.reshape([-1,nchannels]))\n",
    "    X1_train = scaler.transform(X_train.reshape([-1,nchannels])).reshape(X_train.shape)\n",
    "    X1_test = scaler.transform(X_test.reshape([-1,nchannels])).reshape(X_test.shape)\n",
    "    \n",
    "    ########\n",
    "    \n",
    "    X1_train = torch.FloatTensor(X1_train).cuda()\n",
    "    Y1_train = torch.FloatTensor(y_train).cuda()\n",
    "    X1_test = torch.FloatTensor(X1_test).cuda()\n",
    "    Y1_test = torch.FloatTensor(y_test).cuda()\n",
    "\n",
    "    \n",
    "    return X1_train, X1_test, Y1_train, Y1_test, scaler\n",
    "\n",
    "def preploaders(X,Y,nchannels,batch_size):\n",
    "    X_train, X_test, Y_train, Y_test, scaler = prepsubdata(X,Y,nchannels)\n",
    "    train_data =[]\n",
    "    for i in range(len(X_train)):\n",
    "        train_data.append([X_train[i], Y_train[i]])\n",
    "    test_data =[]\n",
    "    for i in range(len(X_test)):\n",
    "        test_data.append([X_test[i], Y_test[i]])\n",
    "    \n",
    "    trainloader = DataLoader(train_data, batch_size) \n",
    "    testloader = DataLoader(test_data, batch_size)    \n",
    "    \n",
    "    return trainloader, testloader, scaler\n"
   ]
  },
  {
   "cell_type": "code",
   "execution_count": 8,
   "id": "9de59fe0",
   "metadata": {},
   "outputs": [],
   "source": [
    "#Load the data for the test subject \n",
    "def prepdataloader(X,Y,scaler,nchannels,batch_size1):\n",
    "    \n",
    "    #Normalize\n",
    "    XT = scaler.transform(X.reshape([-1,nchannels])).reshape(X.shape)\n",
    "    \n",
    "    XT = torch.FloatTensor(XT).cuda()\n",
    "    Y = torch.FloatTensor(Y).cuda()\n",
    "    \n",
    "\n",
    "    \n",
    "    #Prep Loader\n",
    "    data =[]\n",
    "    for i in range(len(XT)):\n",
    "        data.append([XT[i], Y[i]])\n",
    "    \n",
    "    xloader = DataLoader(data,batch_size1)\n",
    "    \n",
    "    return xloader\n",
    " \n"
   ]
  },
  {
   "cell_type": "markdown",
   "id": "54dd0af4",
   "metadata": {},
   "source": [
    "#### Define Networks"
   ]
  },
  {
   "cell_type": "code",
   "execution_count": 9,
   "id": "df73b2eb",
   "metadata": {},
   "outputs": [],
   "source": [
    "class DTNet(nn.Module):\n",
    "    def __init__(self):\n",
    "        super(DTNet, self).__init__()\n",
    "        self.T = timestamp\n",
    "        \n",
    "        # Layer 1\n",
    "        self.conv1 = nn.Conv2d(1, 16, (1, nchannels), padding = 0)\n",
    "\n",
    "    def forward(self, x):\n",
    "        # Layer 1\n",
    "        x = self.conv1(x)\n",
    "        return x\n",
    "\n",
    "\n",
    "class EEGNet(nn.Module):\n",
    "    def __init__(self):\n",
    "        super(EEGNet, self).__init__()\n",
    "        self.T = timestamp\n",
    "        \n",
    "        #Continuation of Layer 1\n",
    "        self.batchnorm1 = nn.BatchNorm2d(16, False)\n",
    "        self.dropout1 = nn.Dropout(p=0.25)\n",
    "        self.elu = nn.ELU()\n",
    "      \n",
    "        \n",
    "        # Layer 2\n",
    "        self.padding1 = nn.ZeroPad2d((16, 17, 0, 1))\n",
    "        self.conv2 = nn.Conv2d(1, 4, (2, 32))\n",
    "        self.batchnorm2 = nn.BatchNorm2d(4, False)\n",
    "        self.pooling2 = nn.MaxPool2d(2, 4)\n",
    "        \n",
    "        # Layer 3\n",
    "        self.padding2 = nn.ZeroPad2d((2, 1, 4, 3))\n",
    "        self.conv3 = nn.Conv2d(4, 4, (8, 4))\n",
    "        self.batchnorm3 = nn.BatchNorm2d(4, False)\n",
    "        self.pooling3 = nn.MaxPool2d((2, 4))\n",
    "        \n",
    "        # FC Layer \n",
    "        self.fc1 = nn.Linear(4*2*109, nclasses) #4*2*109 - x.shape[1]*x.shape[2]*x.shape[3]\n",
    "\n",
    "        \n",
    "\n",
    "    def forward(self, x):\n",
    "        \n",
    "        #Continuation of Layer 1\n",
    "        x = self.elu(x)\n",
    "        x = self.batchnorm1(x)\n",
    "        x = self.dropout1(x)\n",
    "        x = x.permute(0, 3, 1, 2)\n",
    "        \n",
    "        # Layer 2\n",
    "        x = self.padding1(x)\n",
    "        x = self.elu(self.conv2(x))\n",
    "        x = self.batchnorm2(x)\n",
    "        x = self.dropout1(x)\n",
    "        x = self.pooling2(x)\n",
    "        \n",
    "        # Layer 3\n",
    "        x = self.padding2(x)\n",
    "        x = self.elu(self.conv3(x))\n",
    "        x = self.batchnorm3(x)\n",
    "        x = self.dropout1(x)\n",
    "        x = self.pooling3(x)\n",
    "   \n",
    "        \n",
    "        # FC Layer\n",
    "        x = x.reshape([x.shape[0],x.shape[1]*x.shape[2]*x.shape[3]]) #flatten\n",
    "        x = self.fc1(x) #removed sigmoid \n",
    "        return x "
   ]
  },
  {
   "cell_type": "markdown",
   "id": "38e398ff",
   "metadata": {},
   "source": [
    "#### Train & Test Model\n",
    "- Run the following for cross-subject training/testing\n",
    "- Can try out different hyperparameters"
   ]
  },
  {
   "cell_type": "code",
   "execution_count": 10,
   "id": "bb4bc28b",
   "metadata": {},
   "outputs": [
    {
     "name": "stderr",
     "output_type": "stream",
     "text": [
      "  0%|▏                                                                                                                                                                 | 1/1000 [00:06<1:51:45,  6.71s/it]"
     ]
    },
    {
     "name": "stdout",
     "output_type": "stream",
     "text": [
      "Training Loss: 1.5858209246266497\n",
      "Validation Loss: 1.423403491292681\n",
      "Training Accuracy of the network: 23 %\n",
      "Validation Accuracy of the network: 27 %\n",
      "Validation loss decreased (inf --> 1.423403).  Saving model ...\n"
     ]
    },
    {
     "name": "stderr",
     "output_type": "stream",
     "text": [
      "  0%|▎                                                                                                                                                                 | 2/1000 [00:11<1:29:50,  5.40s/it]"
     ]
    },
    {
     "name": "stdout",
     "output_type": "stream",
     "text": [
      "Training Loss: 1.5338701845085534\n",
      "Validation Loss: 1.414586125101362\n",
      "Training Accuracy of the network: 26 %\n",
      "Validation Accuracy of the network: 27 %\n",
      "Validation loss decreased (1.423403 --> 1.414586).  Saving model ...\n"
     ]
    },
    {
     "name": "stderr",
     "output_type": "stream",
     "text": [
      "  0%|▍                                                                                                                                                                 | 3/1000 [00:15<1:23:11,  5.01s/it]"
     ]
    },
    {
     "name": "stdout",
     "output_type": "stream",
     "text": [
      "Training Loss: 1.4884228297393687\n",
      "Validation Loss: 1.4073371069771903\n",
      "Training Accuracy of the network: 27 %\n",
      "Validation Accuracy of the network: 26 %\n",
      "Validation loss decreased (1.414586 --> 1.407337).  Saving model ...\n"
     ]
    },
    {
     "name": "stderr",
     "output_type": "stream",
     "text": [
      "  0%|▋                                                                                                                                                                 | 4/1000 [00:20<1:21:25,  4.91s/it]"
     ]
    },
    {
     "name": "stdout",
     "output_type": "stream",
     "text": [
      "Training Loss: 1.4507049400440968\n",
      "Validation Loss: 1.3970252786363875\n",
      "Training Accuracy of the network: 29 %\n",
      "Validation Accuracy of the network: 25 %\n",
      "Validation loss decreased (1.407337 --> 1.397025).  Saving model ...\n"
     ]
    },
    {
     "name": "stderr",
     "output_type": "stream",
     "text": [
      "  0%|▊                                                                                                                                                                 | 5/1000 [00:25<1:19:49,  4.81s/it]"
     ]
    },
    {
     "name": "stdout",
     "output_type": "stream",
     "text": [
      "Training Loss: 1.416295121185971\n",
      "Validation Loss: 1.3886024815695626\n",
      "Training Accuracy of the network: 32 %\n",
      "Validation Accuracy of the network: 29 %\n",
      "Validation loss decreased (1.397025 --> 1.388602).  Saving model ...\n"
     ]
    },
    {
     "name": "stderr",
     "output_type": "stream",
     "text": [
      "  1%|▉                                                                                                                                                                 | 6/1000 [00:29<1:19:22,  4.79s/it]"
     ]
    },
    {
     "name": "stdout",
     "output_type": "stream",
     "text": [
      "Training Loss: 1.4019561161960128\n",
      "Validation Loss: 1.3812742267336164\n",
      "Training Accuracy of the network: 33 %\n",
      "Validation Accuracy of the network: 28 %\n",
      "Validation loss decreased (1.388602 --> 1.381274).  Saving model ...\n"
     ]
    },
    {
     "name": "stderr",
     "output_type": "stream",
     "text": [
      "  1%|█▏                                                                                                                                                                | 7/1000 [00:34<1:19:31,  4.81s/it]"
     ]
    },
    {
     "name": "stdout",
     "output_type": "stream",
     "text": [
      "Training Loss: 1.3656692095916636\n",
      "Validation Loss: 1.3679999215262277\n",
      "Training Accuracy of the network: 35 %\n",
      "Validation Accuracy of the network: 29 %\n",
      "Validation loss decreased (1.381274 --> 1.368000).  Saving model ...\n"
     ]
    },
    {
     "name": "stderr",
     "output_type": "stream",
     "text": [
      "  1%|█▎                                                                                                                                                                | 8/1000 [00:39<1:17:09,  4.67s/it]"
     ]
    },
    {
     "name": "stdout",
     "output_type": "stream",
     "text": [
      "Training Loss: 1.3411503873602317\n",
      "Validation Loss: 1.358604121208191\n",
      "Training Accuracy of the network: 37 %\n",
      "Validation Accuracy of the network: 28 %\n",
      "Validation loss decreased (1.368000 --> 1.358604).  Saving model ...\n"
     ]
    },
    {
     "name": "stderr",
     "output_type": "stream",
     "text": [
      "  1%|█▍                                                                                                                                                                | 9/1000 [00:43<1:17:21,  4.68s/it]"
     ]
    },
    {
     "name": "stdout",
     "output_type": "stream",
     "text": [
      "Training Loss: 1.341562175402676\n",
      "Validation Loss: 1.3543290955679756\n",
      "Training Accuracy of the network: 36 %\n",
      "Validation Accuracy of the network: 28 %\n",
      "Validation loss decreased (1.358604 --> 1.354329).  Saving model ...\n"
     ]
    },
    {
     "name": "stderr",
     "output_type": "stream",
     "text": [
      "  1%|█▌                                                                                                                                                               | 10/1000 [00:48<1:17:48,  4.72s/it]"
     ]
    },
    {
     "name": "stdout",
     "output_type": "stream",
     "text": [
      "Training Loss: 1.3133100132002449\n",
      "Validation Loss: 1.3437993628638132\n",
      "Training Accuracy of the network: 38 %\n",
      "Validation Accuracy of the network: 30 %\n",
      "Validation loss decreased (1.354329 --> 1.343799).  Saving model ...\n"
     ]
    },
    {
     "name": "stderr",
     "output_type": "stream",
     "text": [
      "  1%|█▊                                                                                                                                                               | 11/1000 [00:53<1:17:31,  4.70s/it]"
     ]
    },
    {
     "name": "stdout",
     "output_type": "stream",
     "text": [
      "Training Loss: 1.2934764514874368\n",
      "Validation Loss: 1.3375762598855154\n",
      "Training Accuracy of the network: 40 %\n",
      "Validation Accuracy of the network: 30 %\n",
      "Validation loss decreased (1.343799 --> 1.337576).  Saving model ...\n"
     ]
    },
    {
     "name": "stderr",
     "output_type": "stream",
     "text": [
      "  1%|█▉                                                                                                                                                               | 12/1000 [00:58<1:17:55,  4.73s/it]"
     ]
    },
    {
     "name": "stdout",
     "output_type": "stream",
     "text": [
      "Training Loss: 1.2901171641628237\n",
      "Validation Loss: 1.3334417172840662\n",
      "Training Accuracy of the network: 41 %\n",
      "Validation Accuracy of the network: 34 %\n",
      "Validation loss decreased (1.337576 --> 1.333442).  Saving model ...\n"
     ]
    },
    {
     "name": "stderr",
     "output_type": "stream",
     "text": [
      "  1%|██                                                                                                                                                               | 13/1000 [01:02<1:16:55,  4.68s/it]"
     ]
    },
    {
     "name": "stdout",
     "output_type": "stream",
     "text": [
      "Training Loss: 1.2724075617581387\n",
      "Validation Loss: 1.3291779450007848\n",
      "Training Accuracy of the network: 41 %\n",
      "Validation Accuracy of the network: 33 %\n",
      "Validation loss decreased (1.333442 --> 1.329178).  Saving model ...\n"
     ]
    },
    {
     "name": "stderr",
     "output_type": "stream",
     "text": [
      "  1%|██▎                                                                                                                                                              | 14/1000 [01:07<1:17:26,  4.71s/it]"
     ]
    },
    {
     "name": "stdout",
     "output_type": "stream",
     "text": [
      "Training Loss: 1.2534333767682095\n",
      "Validation Loss: 1.3182463918413434\n",
      "Training Accuracy of the network: 44 %\n",
      "Validation Accuracy of the network: 36 %\n",
      "Validation loss decreased (1.329178 --> 1.318246).  Saving model ...\n"
     ]
    },
    {
     "name": "stderr",
     "output_type": "stream",
     "text": [
      "  2%|██▍                                                                                                                                                              | 15/1000 [01:12<1:17:03,  4.69s/it]"
     ]
    },
    {
     "name": "stdout",
     "output_type": "stream",
     "text": [
      "Training Loss: 1.232967020386327\n",
      "Validation Loss: 1.314628951890128\n",
      "Training Accuracy of the network: 45 %\n",
      "Validation Accuracy of the network: 36 %\n",
      "Validation loss decreased (1.318246 --> 1.314629).  Saving model ...\n"
     ]
    },
    {
     "name": "stderr",
     "output_type": "stream",
     "text": [
      "  2%|██▌                                                                                                                                                              | 16/1000 [01:16<1:15:14,  4.59s/it]"
     ]
    },
    {
     "name": "stdout",
     "output_type": "stream",
     "text": [
      "Training Loss: 1.2316188994985426\n",
      "Validation Loss: 1.3072035142353602\n",
      "Training Accuracy of the network: 45 %\n",
      "Validation Accuracy of the network: 36 %\n",
      "Validation loss decreased (1.314629 --> 1.307204).  Saving model ...\n"
     ]
    },
    {
     "name": "stderr",
     "output_type": "stream",
     "text": [
      "  2%|██▋                                                                                                                                                              | 17/1000 [01:21<1:15:16,  4.59s/it]"
     ]
    },
    {
     "name": "stdout",
     "output_type": "stream",
     "text": [
      "Training Loss: 1.2037011676461158\n",
      "Validation Loss: 1.3098842654909406\n",
      "Training Accuracy of the network: 45 %\n",
      "Validation Accuracy of the network: 35 %\n",
      "EarlyStopping counter: 1 out of 50\n"
     ]
    },
    {
     "name": "stderr",
     "output_type": "stream",
     "text": [
      "  2%|██▉                                                                                                                                                              | 18/1000 [01:25<1:16:05,  4.65s/it]"
     ]
    },
    {
     "name": "stdout",
     "output_type": "stream",
     "text": [
      "Training Loss: 1.19814999825763\n",
      "Validation Loss: 1.3002992119107928\n",
      "Training Accuracy of the network: 45 %\n",
      "Validation Accuracy of the network: 36 %\n",
      "Validation loss decreased (1.307204 --> 1.300299).  Saving model ...\n"
     ]
    },
    {
     "name": "stderr",
     "output_type": "stream",
     "text": [
      "  2%|███                                                                                                                                                              | 19/1000 [01:30<1:15:49,  4.64s/it]"
     ]
    },
    {
     "name": "stdout",
     "output_type": "stream",
     "text": [
      "Training Loss: 1.1826437951004418\n",
      "Validation Loss: 1.29874518598829\n",
      "Training Accuracy of the network: 47 %\n",
      "Validation Accuracy of the network: 37 %\n",
      "Validation loss decreased (1.300299 --> 1.298745).  Saving model ...\n"
     ]
    },
    {
     "name": "stderr",
     "output_type": "stream",
     "text": [
      "  2%|███▏                                                                                                                                                             | 20/1000 [01:35<1:15:42,  4.64s/it]"
     ]
    },
    {
     "name": "stdout",
     "output_type": "stream",
     "text": [
      "Training Loss: 1.1675765962496292\n",
      "Validation Loss: 1.291874006816319\n",
      "Training Accuracy of the network: 49 %\n",
      "Validation Accuracy of the network: 38 %\n",
      "Validation loss decreased (1.298745 --> 1.291874).  Saving model ...\n"
     ]
    },
    {
     "name": "stderr",
     "output_type": "stream",
     "text": [
      "  2%|███▍                                                                                                                                                             | 21/1000 [01:39<1:14:53,  4.59s/it]"
     ]
    },
    {
     "name": "stdout",
     "output_type": "stream",
     "text": [
      "Training Loss: 1.1521139727891796\n",
      "Validation Loss: 1.282775388445173\n",
      "Training Accuracy of the network: 49 %\n",
      "Validation Accuracy of the network: 36 %\n",
      "Validation loss decreased (1.291874 --> 1.282775).  Saving model ...\n"
     ]
    },
    {
     "name": "stderr",
     "output_type": "stream",
     "text": [
      "  2%|███▌                                                                                                                                                             | 22/1000 [01:44<1:15:25,  4.63s/it]"
     ]
    },
    {
     "name": "stdout",
     "output_type": "stream",
     "text": [
      "Training Loss: 1.1447778970655733\n",
      "Validation Loss: 1.2931755440575736\n",
      "Training Accuracy of the network: 51 %\n",
      "Validation Accuracy of the network: 37 %\n",
      "EarlyStopping counter: 1 out of 50\n"
     ]
    },
    {
     "name": "stderr",
     "output_type": "stream",
     "text": [
      "  2%|███▋                                                                                                                                                             | 23/1000 [01:48<1:14:08,  4.55s/it]"
     ]
    },
    {
     "name": "stdout",
     "output_type": "stream",
     "text": [
      "Training Loss: 1.1251622821292737\n",
      "Validation Loss: 1.2799751826695034\n",
      "Training Accuracy of the network: 52 %\n",
      "Validation Accuracy of the network: 38 %\n",
      "Validation loss decreased (1.282775 --> 1.279975).  Saving model ...\n"
     ]
    },
    {
     "name": "stderr",
     "output_type": "stream",
     "text": [
      "  2%|███▊                                                                                                                                                             | 24/1000 [01:53<1:13:40,  4.53s/it]"
     ]
    },
    {
     "name": "stdout",
     "output_type": "stream",
     "text": [
      "Training Loss: 1.1042304826478888\n",
      "Validation Loss: 1.273177480697632\n",
      "Training Accuracy of the network: 53 %\n",
      "Validation Accuracy of the network: 40 %\n",
      "Validation loss decreased (1.279975 --> 1.273177).  Saving model ...\n"
     ]
    },
    {
     "name": "stderr",
     "output_type": "stream",
     "text": [
      "  2%|████                                                                                                                                                             | 25/1000 [01:57<1:14:33,  4.59s/it]"
     ]
    },
    {
     "name": "stdout",
     "output_type": "stream",
     "text": [
      "Training Loss: 1.0943330295764617\n",
      "Validation Loss: 1.261947798728943\n",
      "Training Accuracy of the network: 53 %\n",
      "Validation Accuracy of the network: 39 %\n",
      "Validation loss decreased (1.273177 --> 1.261948).  Saving model ...\n"
     ]
    },
    {
     "name": "stderr",
     "output_type": "stream",
     "text": [
      "  3%|████▏                                                                                                                                                            | 26/1000 [02:02<1:15:07,  4.63s/it]"
     ]
    },
    {
     "name": "stdout",
     "output_type": "stream",
     "text": [
      "Training Loss: 1.0723834207458218\n",
      "Validation Loss: 1.2569229977471488\n",
      "Training Accuracy of the network: 55 %\n",
      "Validation Accuracy of the network: 40 %\n",
      "Validation loss decreased (1.261948 --> 1.256923).  Saving model ...\n"
     ]
    },
    {
     "name": "stderr",
     "output_type": "stream",
     "text": [
      "  3%|████▎                                                                                                                                                            | 27/1000 [02:07<1:15:00,  4.63s/it]"
     ]
    },
    {
     "name": "stdout",
     "output_type": "stream",
     "text": [
      "Training Loss: 1.0572543548841546\n",
      "Validation Loss: 1.2433136837823051\n",
      "Training Accuracy of the network: 56 %\n",
      "Validation Accuracy of the network: 39 %\n",
      "Validation loss decreased (1.256923 --> 1.243314).  Saving model ...\n"
     ]
    },
    {
     "name": "stderr",
     "output_type": "stream",
     "text": [
      "  3%|████▌                                                                                                                                                            | 28/1000 [02:11<1:15:26,  4.66s/it]"
     ]
    },
    {
     "name": "stdout",
     "output_type": "stream",
     "text": [
      "Training Loss: 1.042372214968187\n",
      "Validation Loss: 1.241143992968968\n",
      "Training Accuracy of the network: 58 %\n",
      "Validation Accuracy of the network: 41 %\n",
      "Validation loss decreased (1.243314 --> 1.241144).  Saving model ...\n"
     ]
    },
    {
     "name": "stderr",
     "output_type": "stream",
     "text": [
      "  3%|████▋                                                                                                                                                            | 29/1000 [02:16<1:15:16,  4.65s/it]"
     ]
    },
    {
     "name": "stdout",
     "output_type": "stream",
     "text": [
      "Training Loss: 1.0297775168488497\n",
      "Validation Loss: 1.2236196841512408\n",
      "Training Accuracy of the network: 58 %\n",
      "Validation Accuracy of the network: 43 %\n",
      "Validation loss decreased (1.241144 --> 1.223620).  Saving model ...\n"
     ]
    },
    {
     "name": "stderr",
     "output_type": "stream",
     "text": [
      "  3%|████▊                                                                                                                                                            | 30/1000 [02:21<1:14:48,  4.63s/it]"
     ]
    },
    {
     "name": "stdout",
     "output_type": "stream",
     "text": [
      "Training Loss: 1.0144778581431313\n",
      "Validation Loss: 1.2273223144667489\n",
      "Training Accuracy of the network: 60 %\n",
      "Validation Accuracy of the network: 45 %\n",
      "EarlyStopping counter: 1 out of 50\n"
     ]
    },
    {
     "name": "stderr",
     "output_type": "stream",
     "text": [
      "  3%|████▉                                                                                                                                                            | 31/1000 [02:25<1:13:55,  4.58s/it]"
     ]
    },
    {
     "name": "stdout",
     "output_type": "stream",
     "text": [
      "Training Loss: 1.0063996741371433\n",
      "Validation Loss: 1.2094160863331387\n",
      "Training Accuracy of the network: 58 %\n",
      "Validation Accuracy of the network: 45 %\n",
      "Validation loss decreased (1.223620 --> 1.209416).  Saving model ...\n"
     ]
    },
    {
     "name": "stderr",
     "output_type": "stream",
     "text": [
      "  3%|█████▏                                                                                                                                                           | 32/1000 [02:29<1:12:24,  4.49s/it]"
     ]
    },
    {
     "name": "stdout",
     "output_type": "stream",
     "text": [
      "Training Loss: 0.9839675034919795\n",
      "Validation Loss: 1.208438961846488\n",
      "Training Accuracy of the network: 61 %\n",
      "Validation Accuracy of the network: 44 %\n",
      "Validation loss decreased (1.209416 --> 1.208439).  Saving model ...\n"
     ]
    },
    {
     "name": "stderr",
     "output_type": "stream",
     "text": [
      "  3%|█████▎                                                                                                                                                           | 33/1000 [02:34<1:13:21,  4.55s/it]"
     ]
    },
    {
     "name": "stdout",
     "output_type": "stream",
     "text": [
      "Training Loss: 0.9799417870758224\n",
      "Validation Loss: 1.218646924836295\n",
      "Training Accuracy of the network: 60 %\n",
      "Validation Accuracy of the network: 45 %\n",
      "EarlyStopping counter: 1 out of 50\n"
     ]
    },
    {
     "name": "stderr",
     "output_type": "stream",
     "text": [
      "  3%|█████▍                                                                                                                                                           | 34/1000 [02:39<1:14:28,  4.63s/it]"
     ]
    },
    {
     "name": "stdout",
     "output_type": "stream",
     "text": [
      "Training Loss: 0.9660558156723523\n",
      "Validation Loss: 1.1955607192856925\n",
      "Training Accuracy of the network: 62 %\n",
      "Validation Accuracy of the network: 45 %\n",
      "Validation loss decreased (1.208439 --> 1.195561).  Saving model ...\n"
     ]
    },
    {
     "name": "stderr",
     "output_type": "stream",
     "text": [
      "  4%|█████▋                                                                                                                                                           | 35/1000 [02:43<1:14:31,  4.63s/it]"
     ]
    },
    {
     "name": "stdout",
     "output_type": "stream",
     "text": [
      "Training Loss: 0.9321883333860522\n",
      "Validation Loss: 1.1978980370930263\n",
      "Training Accuracy of the network: 63 %\n",
      "Validation Accuracy of the network: 47 %\n",
      "EarlyStopping counter: 1 out of 50\n"
     ]
    },
    {
     "name": "stderr",
     "output_type": "stream",
     "text": [
      "  4%|█████▊                                                                                                                                                           | 36/1000 [02:48<1:14:37,  4.65s/it]"
     ]
    },
    {
     "name": "stdout",
     "output_type": "stream",
     "text": [
      "Training Loss: 0.9185319373207371\n",
      "Validation Loss: 1.1921705416270665\n",
      "Training Accuracy of the network: 65 %\n",
      "Validation Accuracy of the network: 47 %\n",
      "Validation loss decreased (1.195561 --> 1.192171).  Saving model ...\n"
     ]
    },
    {
     "name": "stderr",
     "output_type": "stream",
     "text": [
      "  4%|█████▉                                                                                                                                                           | 37/1000 [02:53<1:14:17,  4.63s/it]"
     ]
    },
    {
     "name": "stdout",
     "output_type": "stream",
     "text": [
      "Training Loss: 0.9102397478409927\n",
      "Validation Loss: 1.1746855701719012\n",
      "Training Accuracy of the network: 64 %\n",
      "Validation Accuracy of the network: 48 %\n",
      "Validation loss decreased (1.192171 --> 1.174686).  Saving model ...\n"
     ]
    },
    {
     "name": "stderr",
     "output_type": "stream",
     "text": [
      "  4%|██████                                                                                                                                                           | 38/1000 [02:57<1:12:53,  4.55s/it]"
     ]
    },
    {
     "name": "stdout",
     "output_type": "stream",
     "text": [
      "Training Loss: 0.905971159900192\n",
      "Validation Loss: 1.202636935029711\n",
      "Training Accuracy of the network: 64 %\n",
      "Validation Accuracy of the network: 45 %\n",
      "EarlyStopping counter: 1 out of 50\n"
     ]
    },
    {
     "name": "stderr",
     "output_type": "stream",
     "text": [
      "  4%|██████▎                                                                                                                                                          | 39/1000 [03:02<1:12:54,  4.55s/it]"
     ]
    },
    {
     "name": "stdout",
     "output_type": "stream",
     "text": [
      "Training Loss: 0.8773401534035258\n",
      "Validation Loss: 1.1842585018702916\n",
      "Training Accuracy of the network: 65 %\n",
      "Validation Accuracy of the network: 47 %\n",
      "EarlyStopping counter: 2 out of 50\n"
     ]
    },
    {
     "name": "stderr",
     "output_type": "stream",
     "text": [
      "  4%|██████▍                                                                                                                                                          | 40/1000 [03:06<1:13:55,  4.62s/it]"
     ]
    },
    {
     "name": "stdout",
     "output_type": "stream",
     "text": [
      "Training Loss: 0.8944428315127853\n",
      "Validation Loss: 1.189643325124468\n",
      "Training Accuracy of the network: 65 %\n",
      "Validation Accuracy of the network: 46 %\n",
      "EarlyStopping counter: 3 out of 50\n"
     ]
    },
    {
     "name": "stderr",
     "output_type": "stream",
     "text": [
      "  4%|██████▌                                                                                                                                                          | 41/1000 [03:11<1:13:43,  4.61s/it]"
     ]
    },
    {
     "name": "stdout",
     "output_type": "stream",
     "text": [
      "Training Loss: 0.8656940729948726\n",
      "Validation Loss: 1.1762818319456918\n",
      "Training Accuracy of the network: 66 %\n",
      "Validation Accuracy of the network: 47 %\n",
      "EarlyStopping counter: 4 out of 50\n"
     ]
    },
    {
     "name": "stderr",
     "output_type": "stream",
     "text": [
      "  4%|██████▊                                                                                                                                                          | 42/1000 [03:16<1:14:10,  4.65s/it]"
     ]
    },
    {
     "name": "stdout",
     "output_type": "stream",
     "text": [
      "Training Loss: 0.8538915353969936\n",
      "Validation Loss: 1.1744600943156651\n",
      "Training Accuracy of the network: 69 %\n",
      "Validation Accuracy of the network: 47 %\n",
      "Validation loss decreased (1.174686 --> 1.174460).  Saving model ...\n"
     ]
    },
    {
     "name": "stderr",
     "output_type": "stream",
     "text": [
      "  4%|██████▉                                                                                                                                                          | 43/1000 [03:20<1:13:58,  4.64s/it]"
     ]
    },
    {
     "name": "stdout",
     "output_type": "stream",
     "text": [
      "Training Loss: 0.8532670040200226\n",
      "Validation Loss: 1.1871674026761736\n",
      "Training Accuracy of the network: 68 %\n",
      "Validation Accuracy of the network: 48 %\n",
      "EarlyStopping counter: 1 out of 50\n"
     ]
    },
    {
     "name": "stderr",
     "output_type": "stream",
     "text": [
      "  4%|███████                                                                                                                                                          | 44/1000 [03:25<1:13:23,  4.61s/it]"
     ]
    },
    {
     "name": "stdout",
     "output_type": "stream",
     "text": [
      "Training Loss: 0.8361966166183026\n",
      "Validation Loss: 1.1605627076966423\n",
      "Training Accuracy of the network: 67 %\n",
      "Validation Accuracy of the network: 49 %\n",
      "Validation loss decreased (1.174460 --> 1.160563).  Saving model ...\n"
     ]
    },
    {
     "name": "stderr",
     "output_type": "stream",
     "text": [
      "  4%|███████▏                                                                                                                                                         | 45/1000 [03:30<1:13:36,  4.63s/it]"
     ]
    },
    {
     "name": "stdout",
     "output_type": "stream",
     "text": [
      "Training Loss: 0.8316002462032067\n",
      "Validation Loss: 1.1712541733469282\n",
      "Training Accuracy of the network: 68 %\n",
      "Validation Accuracy of the network: 47 %\n",
      "EarlyStopping counter: 1 out of 50\n"
     ]
    },
    {
     "name": "stderr",
     "output_type": "stream",
     "text": [
      "  5%|███████▍                                                                                                                                                         | 46/1000 [03:34<1:12:38,  4.57s/it]"
     ]
    },
    {
     "name": "stdout",
     "output_type": "stream",
     "text": [
      "Training Loss: 0.8073854009165381\n",
      "Validation Loss: 1.159616301740919\n",
      "Training Accuracy of the network: 70 %\n",
      "Validation Accuracy of the network: 50 %\n",
      "Validation loss decreased (1.160563 --> 1.159616).  Saving model ...\n"
     ]
    },
    {
     "name": "stderr",
     "output_type": "stream",
     "text": [
      "  5%|███████▌                                                                                                                                                         | 47/1000 [03:39<1:12:29,  4.56s/it]"
     ]
    },
    {
     "name": "stdout",
     "output_type": "stream",
     "text": [
      "Training Loss: 0.8032872320091637\n",
      "Validation Loss: 1.1633650251797267\n",
      "Training Accuracy of the network: 70 %\n",
      "Validation Accuracy of the network: 49 %\n",
      "EarlyStopping counter: 1 out of 50\n"
     ]
    },
    {
     "name": "stderr",
     "output_type": "stream",
     "text": [
      "  5%|███████▋                                                                                                                                                         | 48/1000 [03:43<1:12:45,  4.59s/it]"
     ]
    },
    {
     "name": "stdout",
     "output_type": "stream",
     "text": [
      "Training Loss: 0.786572288422689\n",
      "Validation Loss: 1.1574478813580105\n",
      "Training Accuracy of the network: 70 %\n",
      "Validation Accuracy of the network: 49 %\n",
      "Validation loss decreased (1.159616 --> 1.157448).  Saving model ...\n"
     ]
    },
    {
     "name": "stderr",
     "output_type": "stream",
     "text": [
      "  5%|███████▉                                                                                                                                                         | 49/1000 [03:48<1:12:42,  4.59s/it]"
     ]
    },
    {
     "name": "stdout",
     "output_type": "stream",
     "text": [
      "Training Loss: 0.7918386013403426\n",
      "Validation Loss: 1.1659332871437074\n",
      "Training Accuracy of the network: 70 %\n",
      "Validation Accuracy of the network: 47 %\n",
      "EarlyStopping counter: 1 out of 50\n"
     ]
    },
    {
     "name": "stderr",
     "output_type": "stream",
     "text": [
      "  5%|████████                                                                                                                                                         | 50/1000 [03:52<1:11:54,  4.54s/it]"
     ]
    },
    {
     "name": "stdout",
     "output_type": "stream",
     "text": [
      "Training Loss: 0.7716931968274778\n",
      "Validation Loss: 1.1502124803406852\n",
      "Training Accuracy of the network: 70 %\n",
      "Validation Accuracy of the network: 48 %\n",
      "Validation loss decreased (1.157448 --> 1.150212).  Saving model ...\n"
     ]
    },
    {
     "name": "stderr",
     "output_type": "stream",
     "text": [
      "  5%|████████▏                                                                                                                                                        | 51/1000 [03:57<1:11:23,  4.51s/it]"
     ]
    },
    {
     "name": "stdout",
     "output_type": "stream",
     "text": [
      "Training Loss: 0.7499673449210007\n",
      "Validation Loss: 1.1407474313463484\n",
      "Training Accuracy of the network: 72 %\n",
      "Validation Accuracy of the network: 51 %\n",
      "Validation loss decreased (1.150212 --> 1.140747).  Saving model ...\n"
     ]
    },
    {
     "name": "stderr",
     "output_type": "stream",
     "text": [
      "  5%|████████▎                                                                                                                                                        | 52/1000 [04:01<1:11:14,  4.51s/it]"
     ]
    },
    {
     "name": "stdout",
     "output_type": "stream",
     "text": [
      "Training Loss: 0.7541071298348643\n",
      "Validation Loss: 1.1578974229948862\n",
      "Training Accuracy of the network: 73 %\n",
      "Validation Accuracy of the network: 50 %\n",
      "EarlyStopping counter: 1 out of 50\n"
     ]
    },
    {
     "name": "stderr",
     "output_type": "stream",
     "text": [
      "  5%|████████▌                                                                                                                                                        | 53/1000 [04:05<1:10:00,  4.44s/it]"
     ]
    },
    {
     "name": "stdout",
     "output_type": "stream",
     "text": [
      "Training Loss: 0.7313535833445779\n",
      "Validation Loss: 1.1598441702978952\n",
      "Training Accuracy of the network: 73 %\n",
      "Validation Accuracy of the network: 49 %\n",
      "EarlyStopping counter: 2 out of 50\n"
     ]
    },
    {
     "name": "stderr",
     "output_type": "stream",
     "text": [
      "  5%|████████▋                                                                                                                                                        | 54/1000 [04:10<1:10:38,  4.48s/it]"
     ]
    },
    {
     "name": "stdout",
     "output_type": "stream",
     "text": [
      "Training Loss: 0.7156341780711265\n",
      "Validation Loss: 1.1365031259400504\n",
      "Training Accuracy of the network: 73 %\n",
      "Validation Accuracy of the network: 51 %\n",
      "Validation loss decreased (1.140747 --> 1.136503).  Saving model ...\n"
     ]
    },
    {
     "name": "stderr",
     "output_type": "stream",
     "text": [
      "  6%|████████▊                                                                                                                                                        | 55/1000 [04:15<1:10:44,  4.49s/it]"
     ]
    },
    {
     "name": "stdout",
     "output_type": "stream",
     "text": [
      "Training Loss: 0.7190452468221205\n",
      "Validation Loss: 1.1443477852003916\n",
      "Training Accuracy of the network: 74 %\n",
      "Validation Accuracy of the network: 52 %\n",
      "EarlyStopping counter: 1 out of 50\n"
     ]
    },
    {
     "name": "stderr",
     "output_type": "stream",
     "text": [
      "  6%|█████████                                                                                                                                                        | 56/1000 [04:19<1:11:47,  4.56s/it]"
     ]
    },
    {
     "name": "stdout",
     "output_type": "stream",
     "text": [
      "Training Loss: 0.7104066009939152\n",
      "Validation Loss: 1.172203883102962\n",
      "Training Accuracy of the network: 74 %\n",
      "Validation Accuracy of the network: 50 %\n",
      "EarlyStopping counter: 2 out of 50\n"
     ]
    },
    {
     "name": "stderr",
     "output_type": "stream",
     "text": [
      "  6%|█████████▏                                                                                                                                                       | 57/1000 [04:24<1:13:20,  4.67s/it]"
     ]
    },
    {
     "name": "stdout",
     "output_type": "stream",
     "text": [
      "Training Loss: 0.7100245293474545\n",
      "Validation Loss: 1.1530126588685172\n",
      "Training Accuracy of the network: 74 %\n",
      "Validation Accuracy of the network: 52 %\n",
      "EarlyStopping counter: 3 out of 50\n"
     ]
    },
    {
     "name": "stderr",
     "output_type": "stream",
     "text": [
      "  6%|█████████▎                                                                                                                                                       | 58/1000 [04:29<1:13:18,  4.67s/it]"
     ]
    },
    {
     "name": "stdout",
     "output_type": "stream",
     "text": [
      "Training Loss: 0.710897485922723\n",
      "Validation Loss: 1.1393472330910819\n",
      "Training Accuracy of the network: 74 %\n",
      "Validation Accuracy of the network: 51 %\n",
      "EarlyStopping counter: 4 out of 50\n"
     ]
    },
    {
     "name": "stderr",
     "output_type": "stream",
     "text": [
      "  6%|█████████▍                                                                                                                                                       | 59/1000 [04:34<1:13:19,  4.68s/it]"
     ]
    },
    {
     "name": "stdout",
     "output_type": "stream",
     "text": [
      "Training Loss: 0.6875352137280206\n",
      "Validation Loss: 1.1386471714292254\n",
      "Training Accuracy of the network: 75 %\n",
      "Validation Accuracy of the network: 51 %\n",
      "EarlyStopping counter: 5 out of 50\n"
     ]
    },
    {
     "name": "stderr",
     "output_type": "stream",
     "text": [
      "  6%|█████████▋                                                                                                                                                       | 60/1000 [04:38<1:13:46,  4.71s/it]"
     ]
    },
    {
     "name": "stdout",
     "output_type": "stream",
     "text": [
      "Training Loss: 0.6715483739428276\n",
      "Validation Loss: 1.146621354988643\n",
      "Training Accuracy of the network: 76 %\n",
      "Validation Accuracy of the network: 52 %\n",
      "EarlyStopping counter: 6 out of 50\n"
     ]
    },
    {
     "name": "stderr",
     "output_type": "stream",
     "text": [
      "  6%|█████████▊                                                                                                                                                       | 61/1000 [04:43<1:12:55,  4.66s/it]"
     ]
    },
    {
     "name": "stdout",
     "output_type": "stream",
     "text": [
      "Training Loss: 0.6466422870646428\n",
      "Validation Loss: 1.1566268648420062\n",
      "Training Accuracy of the network: 77 %\n",
      "Validation Accuracy of the network: 52 %\n",
      "EarlyStopping counter: 7 out of 50\n"
     ]
    },
    {
     "name": "stderr",
     "output_type": "stream",
     "text": [
      "  6%|█████████▉                                                                                                                                                       | 62/1000 [04:47<1:11:45,  4.59s/it]"
     ]
    },
    {
     "name": "stdout",
     "output_type": "stream",
     "text": [
      "Training Loss: 0.6616839870919277\n",
      "Validation Loss: 1.1306012221745083\n",
      "Training Accuracy of the network: 75 %\n",
      "Validation Accuracy of the network: 51 %\n",
      "Validation loss decreased (1.136503 --> 1.130601).  Saving model ...\n"
     ]
    },
    {
     "name": "stderr",
     "output_type": "stream",
     "text": [
      "  6%|██████████▏                                                                                                                                                      | 63/1000 [04:52<1:12:07,  4.62s/it]"
     ]
    },
    {
     "name": "stdout",
     "output_type": "stream",
     "text": [
      "Training Loss: 0.6513208070375623\n",
      "Validation Loss: 1.1435075197901046\n",
      "Training Accuracy of the network: 76 %\n",
      "Validation Accuracy of the network: 52 %\n",
      "EarlyStopping counter: 1 out of 50\n"
     ]
    },
    {
     "name": "stderr",
     "output_type": "stream",
     "text": [
      "  6%|██████████▎                                                                                                                                                      | 64/1000 [04:56<1:11:12,  4.56s/it]"
     ]
    },
    {
     "name": "stdout",
     "output_type": "stream",
     "text": [
      "Training Loss: 0.6469834233722548\n",
      "Validation Loss: 1.1472974130085536\n",
      "Training Accuracy of the network: 76 %\n",
      "Validation Accuracy of the network: 52 %\n",
      "EarlyStopping counter: 2 out of 50\n"
     ]
    },
    {
     "name": "stderr",
     "output_type": "stream",
     "text": [
      "  6%|██████████▍                                                                                                                                                      | 65/1000 [05:01<1:10:14,  4.51s/it]"
     ]
    },
    {
     "name": "stdout",
     "output_type": "stream",
     "text": [
      "Training Loss: 0.6509639229217585\n",
      "Validation Loss: 1.1223956755229405\n",
      "Training Accuracy of the network: 75 %\n",
      "Validation Accuracy of the network: 53 %\n",
      "Validation loss decreased (1.130601 --> 1.122396).  Saving model ...\n"
     ]
    },
    {
     "name": "stderr",
     "output_type": "stream",
     "text": [
      "  7%|██████████▋                                                                                                                                                      | 66/1000 [05:05<1:10:51,  4.55s/it]"
     ]
    },
    {
     "name": "stdout",
     "output_type": "stream",
     "text": [
      "Training Loss: 0.6381790246406611\n",
      "Validation Loss: 1.1409057974815369\n",
      "Training Accuracy of the network: 76 %\n",
      "Validation Accuracy of the network: 51 %\n",
      "EarlyStopping counter: 1 out of 50\n"
     ]
    },
    {
     "name": "stderr",
     "output_type": "stream",
     "text": [
      "  7%|██████████▊                                                                                                                                                      | 67/1000 [05:10<1:11:22,  4.59s/it]"
     ]
    },
    {
     "name": "stdout",
     "output_type": "stream",
     "text": [
      "Training Loss: 0.639993993905339\n",
      "Validation Loss: 1.1399121829441616\n",
      "Training Accuracy of the network: 76 %\n",
      "Validation Accuracy of the network: 52 %\n",
      "EarlyStopping counter: 2 out of 50\n"
     ]
    },
    {
     "name": "stderr",
     "output_type": "stream",
     "text": [
      "  7%|██████████▉                                                                                                                                                      | 68/1000 [05:15<1:11:09,  4.58s/it]"
     ]
    },
    {
     "name": "stdout",
     "output_type": "stream",
     "text": [
      "Training Loss: 0.6277396607137945\n",
      "Validation Loss: 1.1453375015939986\n",
      "Training Accuracy of the network: 77 %\n",
      "Validation Accuracy of the network: 52 %\n",
      "EarlyStopping counter: 3 out of 50\n"
     ]
    },
    {
     "name": "stderr",
     "output_type": "stream",
     "text": [
      "  7%|███████████                                                                                                                                                      | 69/1000 [05:19<1:10:59,  4.57s/it]"
     ]
    },
    {
     "name": "stdout",
     "output_type": "stream",
     "text": [
      "Training Loss: 0.5979202720370606\n",
      "Validation Loss: 1.1420961090496609\n",
      "Training Accuracy of the network: 79 %\n",
      "Validation Accuracy of the network: 52 %\n",
      "EarlyStopping counter: 4 out of 50\n"
     ]
    },
    {
     "name": "stderr",
     "output_type": "stream",
     "text": [
      "  7%|███████████▎                                                                                                                                                     | 70/1000 [05:24<1:11:59,  4.65s/it]"
     ]
    },
    {
     "name": "stdout",
     "output_type": "stream",
     "text": [
      "Training Loss: 0.605898362876725\n",
      "Validation Loss: 1.1751347269330705\n",
      "Training Accuracy of the network: 79 %\n",
      "Validation Accuracy of the network: 52 %\n",
      "EarlyStopping counter: 5 out of 50\n"
     ]
    },
    {
     "name": "stderr",
     "output_type": "stream",
     "text": [
      "  7%|███████████▍                                                                                                                                                     | 71/1000 [05:29<1:12:12,  4.66s/it]"
     ]
    },
    {
     "name": "stdout",
     "output_type": "stream",
     "text": [
      "Training Loss: 0.6202530863076231\n",
      "Validation Loss: 1.1421634452683584\n",
      "Training Accuracy of the network: 77 %\n",
      "Validation Accuracy of the network: 52 %\n",
      "EarlyStopping counter: 6 out of 50\n"
     ]
    },
    {
     "name": "stderr",
     "output_type": "stream",
     "text": [
      "  7%|███████████▌                                                                                                                                                     | 72/1000 [05:33<1:11:18,  4.61s/it]"
     ]
    },
    {
     "name": "stdout",
     "output_type": "stream",
     "text": [
      "Training Loss: 0.5906342291918985\n",
      "Validation Loss: 1.1360801764896937\n",
      "Training Accuracy of the network: 80 %\n",
      "Validation Accuracy of the network: 52 %\n",
      "EarlyStopping counter: 7 out of 50\n"
     ]
    },
    {
     "name": "stderr",
     "output_type": "stream",
     "text": [
      "  7%|███████████▊                                                                                                                                                     | 73/1000 [05:38<1:11:43,  4.64s/it]"
     ]
    },
    {
     "name": "stdout",
     "output_type": "stream",
     "text": [
      "Training Loss: 0.6069026874364728\n",
      "Validation Loss: 1.1507796560014998\n",
      "Training Accuracy of the network: 79 %\n",
      "Validation Accuracy of the network: 52 %\n",
      "EarlyStopping counter: 8 out of 50\n"
     ]
    },
    {
     "name": "stderr",
     "output_type": "stream",
     "text": [
      "  7%|███████████▉                                                                                                                                                     | 74/1000 [05:42<1:10:31,  4.57s/it]"
     ]
    },
    {
     "name": "stdout",
     "output_type": "stream",
     "text": [
      "Training Loss: 0.5903597633986577\n",
      "Validation Loss: 1.130794414452144\n",
      "Training Accuracy of the network: 80 %\n",
      "Validation Accuracy of the network: 53 %\n",
      "EarlyStopping counter: 9 out of 50\n"
     ]
    },
    {
     "name": "stderr",
     "output_type": "stream",
     "text": [
      "  8%|████████████                                                                                                                                                     | 75/1000 [05:47<1:10:54,  4.60s/it]"
     ]
    },
    {
     "name": "stdout",
     "output_type": "stream",
     "text": [
      "Training Loss: 0.5644292600833587\n",
      "Validation Loss: 1.1462248189108712\n",
      "Training Accuracy of the network: 81 %\n",
      "Validation Accuracy of the network: 54 %\n",
      "EarlyStopping counter: 10 out of 50\n"
     ]
    },
    {
     "name": "stderr",
     "output_type": "stream",
     "text": [
      "  8%|████████████▏                                                                                                                                                    | 76/1000 [05:52<1:11:18,  4.63s/it]"
     ]
    },
    {
     "name": "stdout",
     "output_type": "stream",
     "text": [
      "Training Loss: 0.5578370433654228\n",
      "Validation Loss: 1.155631184577942\n",
      "Training Accuracy of the network: 81 %\n",
      "Validation Accuracy of the network: 53 %\n",
      "EarlyStopping counter: 11 out of 50\n"
     ]
    },
    {
     "name": "stderr",
     "output_type": "stream",
     "text": [
      "  8%|████████████▍                                                                                                                                                    | 77/1000 [05:56<1:11:08,  4.62s/it]"
     ]
    },
    {
     "name": "stdout",
     "output_type": "stream",
     "text": [
      "Training Loss: 0.5563536627884329\n",
      "Validation Loss: 1.1532822472708566\n",
      "Training Accuracy of the network: 81 %\n",
      "Validation Accuracy of the network: 55 %\n",
      "EarlyStopping counter: 12 out of 50\n"
     ]
    },
    {
     "name": "stderr",
     "output_type": "stream",
     "text": [
      "  8%|████████████▌                                                                                                                                                    | 78/1000 [06:01<1:10:57,  4.62s/it]"
     ]
    },
    {
     "name": "stdout",
     "output_type": "stream",
     "text": [
      "Training Loss: 0.559350315019162\n",
      "Validation Loss: 1.141425163405282\n",
      "Training Accuracy of the network: 81 %\n",
      "Validation Accuracy of the network: 54 %\n",
      "EarlyStopping counter: 13 out of 50\n"
     ]
    },
    {
     "name": "stderr",
     "output_type": "stream",
     "text": [
      "  8%|████████████▋                                                                                                                                                    | 79/1000 [06:06<1:11:40,  4.67s/it]"
     ]
    },
    {
     "name": "stdout",
     "output_type": "stream",
     "text": [
      "Training Loss: 0.5615906020368102\n",
      "Validation Loss: 1.1533404758998327\n",
      "Training Accuracy of the network: 80 %\n",
      "Validation Accuracy of the network: 54 %\n",
      "EarlyStopping counter: 14 out of 50\n"
     ]
    },
    {
     "name": "stderr",
     "output_type": "stream",
     "text": [
      "  8%|████████████▉                                                                                                                                                    | 80/1000 [06:10<1:11:46,  4.68s/it]"
     ]
    },
    {
     "name": "stdout",
     "output_type": "stream",
     "text": [
      "Training Loss: 0.5431835872195933\n",
      "Validation Loss: 1.1653867959976196\n",
      "Training Accuracy of the network: 81 %\n",
      "Validation Accuracy of the network: 54 %\n",
      "EarlyStopping counter: 15 out of 50\n"
     ]
    },
    {
     "name": "stderr",
     "output_type": "stream",
     "text": [
      "  8%|█████████████                                                                                                                                                    | 81/1000 [06:15<1:11:27,  4.67s/it]"
     ]
    },
    {
     "name": "stdout",
     "output_type": "stream",
     "text": [
      "Training Loss: 0.5417495629865757\n",
      "Validation Loss: 1.1246140241622924\n",
      "Training Accuracy of the network: 81 %\n",
      "Validation Accuracy of the network: 55 %\n",
      "EarlyStopping counter: 16 out of 50\n"
     ]
    },
    {
     "name": "stderr",
     "output_type": "stream",
     "text": [
      "  8%|█████████████▏                                                                                                                                                   | 82/1000 [06:20<1:10:35,  4.61s/it]"
     ]
    },
    {
     "name": "stdout",
     "output_type": "stream",
     "text": [
      "Training Loss: 0.551651281705738\n",
      "Validation Loss: 1.183891522884369\n",
      "Training Accuracy of the network: 81 %\n",
      "Validation Accuracy of the network: 53 %\n",
      "EarlyStopping counter: 17 out of 50\n"
     ]
    },
    {
     "name": "stderr",
     "output_type": "stream",
     "text": [
      "  8%|█████████████▎                                                                                                                                                   | 83/1000 [06:24<1:10:25,  4.61s/it]"
     ]
    },
    {
     "name": "stdout",
     "output_type": "stream",
     "text": [
      "Training Loss: 0.5573776805922933\n",
      "Validation Loss: 1.1604019692965917\n",
      "Training Accuracy of the network: 80 %\n",
      "Validation Accuracy of the network: 54 %\n",
      "EarlyStopping counter: 18 out of 50\n"
     ]
    },
    {
     "name": "stderr",
     "output_type": "stream",
     "text": [
      "  8%|█████████████▌                                                                                                                                                   | 84/1000 [06:28<1:08:59,  4.52s/it]"
     ]
    },
    {
     "name": "stdout",
     "output_type": "stream",
     "text": [
      "Training Loss: 0.5531848890938028\n",
      "Validation Loss: 1.1474616272108895\n",
      "Training Accuracy of the network: 80 %\n",
      "Validation Accuracy of the network: 54 %\n",
      "EarlyStopping counter: 19 out of 50\n"
     ]
    },
    {
     "name": "stderr",
     "output_type": "stream",
     "text": [
      "  8%|█████████████▋                                                                                                                                                   | 85/1000 [06:33<1:09:59,  4.59s/it]"
     ]
    },
    {
     "name": "stdout",
     "output_type": "stream",
     "text": [
      "Training Loss: 0.5169009963308808\n",
      "Validation Loss: 1.1708481822695052\n",
      "Training Accuracy of the network: 81 %\n",
      "Validation Accuracy of the network: 51 %\n",
      "EarlyStopping counter: 20 out of 50\n"
     ]
    },
    {
     "name": "stderr",
     "output_type": "stream",
     "text": [
      "  9%|█████████████▊                                                                                                                                                   | 86/1000 [06:38<1:10:32,  4.63s/it]"
     ]
    },
    {
     "name": "stdout",
     "output_type": "stream",
     "text": [
      "Training Loss: 0.5189927040878004\n",
      "Validation Loss: 1.1498139722006662\n",
      "Training Accuracy of the network: 81 %\n",
      "Validation Accuracy of the network: 55 %\n",
      "EarlyStopping counter: 21 out of 50\n"
     ]
    },
    {
     "name": "stderr",
     "output_type": "stream",
     "text": [
      "  9%|██████████████                                                                                                                                                   | 87/1000 [06:43<1:10:34,  4.64s/it]"
     ]
    },
    {
     "name": "stdout",
     "output_type": "stream",
     "text": [
      "Training Loss: 0.5034568847095879\n",
      "Validation Loss: 1.1696533049855913\n",
      "Training Accuracy of the network: 82 %\n",
      "Validation Accuracy of the network: 54 %\n",
      "EarlyStopping counter: 22 out of 50\n"
     ]
    },
    {
     "name": "stderr",
     "output_type": "stream",
     "text": [
      "  9%|██████████████▏                                                                                                                                                  | 88/1000 [06:47<1:10:14,  4.62s/it]"
     ]
    },
    {
     "name": "stdout",
     "output_type": "stream",
     "text": [
      "Training Loss: 0.5312743294630607\n",
      "Validation Loss: 1.1740180594580514\n",
      "Training Accuracy of the network: 81 %\n",
      "Validation Accuracy of the network: 54 %\n",
      "EarlyStopping counter: 23 out of 50\n"
     ]
    },
    {
     "name": "stderr",
     "output_type": "stream",
     "text": [
      "  9%|██████████████▎                                                                                                                                                  | 89/1000 [06:52<1:09:18,  4.56s/it]"
     ]
    },
    {
     "name": "stdout",
     "output_type": "stream",
     "text": [
      "Training Loss: 0.5131084429521631\n",
      "Validation Loss: 1.1677704078810556\n",
      "Training Accuracy of the network: 82 %\n",
      "Validation Accuracy of the network: 54 %\n",
      "EarlyStopping counter: 24 out of 50\n"
     ]
    },
    {
     "name": "stderr",
     "output_type": "stream",
     "text": [
      "  9%|██████████████▍                                                                                                                                                  | 90/1000 [06:56<1:10:29,  4.65s/it]"
     ]
    },
    {
     "name": "stdout",
     "output_type": "stream",
     "text": [
      "Training Loss: 0.5291283533085872\n",
      "Validation Loss: 1.1615149549075536\n",
      "Training Accuracy of the network: 81 %\n",
      "Validation Accuracy of the network: 54 %\n",
      "EarlyStopping counter: 25 out of 50\n"
     ]
    },
    {
     "name": "stderr",
     "output_type": "stream",
     "text": [
      "  9%|██████████████▋                                                                                                                                                  | 91/1000 [07:01<1:10:08,  4.63s/it]"
     ]
    },
    {
     "name": "stdout",
     "output_type": "stream",
     "text": [
      "Training Loss: 0.5135271031491078\n",
      "Validation Loss: 1.151920565537044\n",
      "Training Accuracy of the network: 83 %\n",
      "Validation Accuracy of the network: 55 %\n",
      "EarlyStopping counter: 26 out of 50\n"
     ]
    },
    {
     "name": "stderr",
     "output_type": "stream",
     "text": [
      "  9%|██████████████▊                                                                                                                                                  | 92/1000 [07:06<1:10:07,  4.63s/it]"
     ]
    },
    {
     "name": "stdout",
     "output_type": "stream",
     "text": [
      "Training Loss: 0.4917891735795641\n",
      "Validation Loss: 1.207845710005079\n",
      "Training Accuracy of the network: 83 %\n",
      "Validation Accuracy of the network: 52 %\n",
      "EarlyStopping counter: 27 out of 50\n"
     ]
    },
    {
     "name": "stderr",
     "output_type": "stream",
     "text": [
      "  9%|██████████████▉                                                                                                                                                  | 93/1000 [07:11<1:10:58,  4.70s/it]"
     ]
    },
    {
     "name": "stdout",
     "output_type": "stream",
     "text": [
      "Training Loss: 0.4949013381978891\n",
      "Validation Loss: 1.1836101634161813\n",
      "Training Accuracy of the network: 82 %\n",
      "Validation Accuracy of the network: 54 %\n",
      "EarlyStopping counter: 28 out of 50\n"
     ]
    },
    {
     "name": "stderr",
     "output_type": "stream",
     "text": [
      "  9%|███████████████▏                                                                                                                                                 | 94/1000 [07:15<1:10:13,  4.65s/it]"
     ]
    },
    {
     "name": "stdout",
     "output_type": "stream",
     "text": [
      "Training Loss: 0.5109367700171297\n",
      "Validation Loss: 1.1695729323795863\n",
      "Training Accuracy of the network: 82 %\n",
      "Validation Accuracy of the network: 56 %\n",
      "EarlyStopping counter: 29 out of 50\n"
     ]
    },
    {
     "name": "stderr",
     "output_type": "stream",
     "text": [
      " 10%|███████████████▎                                                                                                                                                 | 95/1000 [07:20<1:09:06,  4.58s/it]"
     ]
    },
    {
     "name": "stdout",
     "output_type": "stream",
     "text": [
      "Training Loss: 0.4920903746664089\n",
      "Validation Loss: 1.164568041052137\n",
      "Training Accuracy of the network: 82 %\n",
      "Validation Accuracy of the network: 54 %\n",
      "EarlyStopping counter: 30 out of 50\n"
     ]
    },
    {
     "name": "stderr",
     "output_type": "stream",
     "text": [
      " 10%|███████████████▍                                                                                                                                                 | 96/1000 [07:24<1:09:32,  4.62s/it]"
     ]
    },
    {
     "name": "stdout",
     "output_type": "stream",
     "text": [
      "Training Loss: 0.48575572321449756\n",
      "Validation Loss: 1.1593356370925902\n",
      "Training Accuracy of the network: 83 %\n",
      "Validation Accuracy of the network: 54 %\n",
      "EarlyStopping counter: 31 out of 50\n"
     ]
    },
    {
     "name": "stderr",
     "output_type": "stream",
     "text": [
      " 10%|███████████████▌                                                                                                                                                 | 97/1000 [07:29<1:09:14,  4.60s/it]"
     ]
    },
    {
     "name": "stdout",
     "output_type": "stream",
     "text": [
      "Training Loss: 0.5012778127498\n",
      "Validation Loss: 1.1621116399765015\n",
      "Training Accuracy of the network: 82 %\n",
      "Validation Accuracy of the network: 55 %\n",
      "EarlyStopping counter: 32 out of 50\n"
     ]
    },
    {
     "name": "stderr",
     "output_type": "stream",
     "text": [
      " 10%|███████████████▊                                                                                                                                                 | 98/1000 [07:33<1:08:17,  4.54s/it]"
     ]
    },
    {
     "name": "stdout",
     "output_type": "stream",
     "text": [
      "Training Loss: 0.4871494185968037\n",
      "Validation Loss: 1.1854073439325605\n",
      "Training Accuracy of the network: 83 %\n",
      "Validation Accuracy of the network: 55 %\n",
      "EarlyStopping counter: 33 out of 50\n"
     ]
    },
    {
     "name": "stderr",
     "output_type": "stream",
     "text": [
      " 10%|███████████████▉                                                                                                                                                 | 99/1000 [07:38<1:07:39,  4.51s/it]"
     ]
    },
    {
     "name": "stdout",
     "output_type": "stream",
     "text": [
      "Training Loss: 0.4883102524454576\n",
      "Validation Loss: 1.1847354974065507\n",
      "Training Accuracy of the network: 83 %\n",
      "Validation Accuracy of the network: 53 %\n",
      "EarlyStopping counter: 34 out of 50\n"
     ]
    },
    {
     "name": "stderr",
     "output_type": "stream",
     "text": [
      " 10%|████████████████                                                                                                                                                | 100/1000 [07:42<1:07:28,  4.50s/it]"
     ]
    },
    {
     "name": "stdout",
     "output_type": "stream",
     "text": [
      "Training Loss: 0.4710638247919779\n",
      "Validation Loss: 1.2034869500568934\n",
      "Training Accuracy of the network: 85 %\n",
      "Validation Accuracy of the network: 54 %\n",
      "EarlyStopping counter: 35 out of 50\n"
     ]
    },
    {
     "name": "stderr",
     "output_type": "stream",
     "text": [
      " 10%|████████████████▏                                                                                                                                               | 101/1000 [07:47<1:08:09,  4.55s/it]"
     ]
    },
    {
     "name": "stdout",
     "output_type": "stream",
     "text": [
      "Training Loss: 0.4755343130252657\n",
      "Validation Loss: 1.2256308180945261\n",
      "Training Accuracy of the network: 84 %\n",
      "Validation Accuracy of the network: 51 %\n",
      "EarlyStopping counter: 36 out of 50\n"
     ]
    },
    {
     "name": "stderr",
     "output_type": "stream",
     "text": [
      " 10%|████████████████▎                                                                                                                                               | 102/1000 [07:51<1:08:21,  4.57s/it]"
     ]
    },
    {
     "name": "stdout",
     "output_type": "stream",
     "text": [
      "Training Loss: 0.4770715990423286\n",
      "Validation Loss: 1.166498007093157\n",
      "Training Accuracy of the network: 83 %\n",
      "Validation Accuracy of the network: 55 %\n",
      "EarlyStopping counter: 37 out of 50\n"
     ]
    },
    {
     "name": "stderr",
     "output_type": "stream",
     "text": [
      " 10%|████████████████▍                                                                                                                                               | 103/1000 [07:56<1:08:06,  4.56s/it]"
     ]
    },
    {
     "name": "stdout",
     "output_type": "stream",
     "text": [
      "Training Loss: 0.4678710258572641\n",
      "Validation Loss: 1.2089465379714965\n",
      "Training Accuracy of the network: 83 %\n",
      "Validation Accuracy of the network: 53 %\n",
      "EarlyStopping counter: 38 out of 50\n"
     ]
    },
    {
     "name": "stderr",
     "output_type": "stream",
     "text": [
      " 10%|████████████████▋                                                                                                                                               | 104/1000 [08:01<1:08:20,  4.58s/it]"
     ]
    },
    {
     "name": "stdout",
     "output_type": "stream",
     "text": [
      "Training Loss: 0.46144784443134806\n",
      "Validation Loss: 1.2025470035416739\n",
      "Training Accuracy of the network: 85 %\n",
      "Validation Accuracy of the network: 54 %\n",
      "EarlyStopping counter: 39 out of 50\n"
     ]
    },
    {
     "name": "stderr",
     "output_type": "stream",
     "text": [
      " 10%|████████████████▊                                                                                                                                               | 105/1000 [08:05<1:08:38,  4.60s/it]"
     ]
    },
    {
     "name": "stdout",
     "output_type": "stream",
     "text": [
      "Training Loss: 0.4508219256344503\n",
      "Validation Loss: 1.2120003938674926\n",
      "Training Accuracy of the network: 85 %\n",
      "Validation Accuracy of the network: 53 %\n",
      "EarlyStopping counter: 40 out of 50\n"
     ]
    },
    {
     "name": "stderr",
     "output_type": "stream",
     "text": [
      " 11%|████████████████▉                                                                                                                                               | 106/1000 [08:09<1:07:17,  4.52s/it]"
     ]
    },
    {
     "name": "stdout",
     "output_type": "stream",
     "text": [
      "Training Loss: 0.4787385287511088\n",
      "Validation Loss: 1.2213757157325744\n",
      "Training Accuracy of the network: 83 %\n",
      "Validation Accuracy of the network: 52 %\n",
      "EarlyStopping counter: 41 out of 50\n"
     ]
    },
    {
     "name": "stderr",
     "output_type": "stream",
     "text": [
      " 11%|█████████████████                                                                                                                                               | 107/1000 [08:13<1:02:08,  4.18s/it]"
     ]
    },
    {
     "name": "stdout",
     "output_type": "stream",
     "text": [
      "Training Loss: 0.43417621104821674\n",
      "Validation Loss: 1.2409078308514185\n",
      "Training Accuracy of the network: 85 %\n",
      "Validation Accuracy of the network: 55 %\n",
      "EarlyStopping counter: 42 out of 50\n"
     ]
    },
    {
     "name": "stderr",
     "output_type": "stream",
     "text": [
      " 11%|█████████████████▍                                                                                                                                                | 108/1000 [08:16<58:33,  3.94s/it]"
     ]
    },
    {
     "name": "stdout",
     "output_type": "stream",
     "text": [
      "Training Loss: 0.4531249721554944\n",
      "Validation Loss: 1.2404774716922216\n",
      "Training Accuracy of the network: 84 %\n",
      "Validation Accuracy of the network: 55 %\n",
      "EarlyStopping counter: 43 out of 50\n"
     ]
    },
    {
     "name": "stderr",
     "output_type": "stream",
     "text": [
      " 11%|█████████████████▋                                                                                                                                                | 109/1000 [08:20<57:38,  3.88s/it]"
     ]
    },
    {
     "name": "stdout",
     "output_type": "stream",
     "text": [
      "Training Loss: 0.46711140784033894\n",
      "Validation Loss: 1.2020955852099828\n",
      "Training Accuracy of the network: 83 %\n",
      "Validation Accuracy of the network: 54 %\n",
      "EarlyStopping counter: 44 out of 50\n"
     ]
    },
    {
     "name": "stderr",
     "output_type": "stream",
     "text": [
      " 11%|█████████████████▊                                                                                                                                                | 110/1000 [08:24<56:37,  3.82s/it]"
     ]
    },
    {
     "name": "stdout",
     "output_type": "stream",
     "text": [
      "Training Loss: 0.44454947907994263\n",
      "Validation Loss: 1.2326513699122839\n",
      "Training Accuracy of the network: 85 %\n",
      "Validation Accuracy of the network: 53 %\n",
      "EarlyStopping counter: 45 out of 50\n"
     ]
    },
    {
     "name": "stderr",
     "output_type": "stream",
     "text": [
      " 11%|█████████████████▉                                                                                                                                                | 111/1000 [08:28<56:34,  3.82s/it]"
     ]
    },
    {
     "name": "stdout",
     "output_type": "stream",
     "text": [
      "Training Loss: 0.4365960663034968\n",
      "Validation Loss: 1.1967443312917436\n",
      "Training Accuracy of the network: 85 %\n",
      "Validation Accuracy of the network: 56 %\n",
      "EarlyStopping counter: 46 out of 50\n"
     ]
    },
    {
     "name": "stderr",
     "output_type": "stream",
     "text": [
      " 11%|██████████████████▏                                                                                                                                               | 112/1000 [08:31<55:47,  3.77s/it]"
     ]
    },
    {
     "name": "stdout",
     "output_type": "stream",
     "text": [
      "Training Loss: 0.42861197377643445\n",
      "Validation Loss: 1.180692790235792\n",
      "Training Accuracy of the network: 86 %\n",
      "Validation Accuracy of the network: 54 %\n",
      "EarlyStopping counter: 47 out of 50\n"
     ]
    },
    {
     "name": "stderr",
     "output_type": "stream",
     "text": [
      " 11%|██████████████████▎                                                                                                                                               | 113/1000 [08:35<54:35,  3.69s/it]"
     ]
    },
    {
     "name": "stdout",
     "output_type": "stream",
     "text": [
      "Training Loss: 0.42132813391024176\n",
      "Validation Loss: 1.2084335821015495\n",
      "Training Accuracy of the network: 86 %\n",
      "Validation Accuracy of the network: 55 %\n",
      "EarlyStopping counter: 48 out of 50\n"
     ]
    },
    {
     "name": "stderr",
     "output_type": "stream",
     "text": [
      " 11%|██████████████████▍                                                                                                                                               | 114/1000 [08:38<54:12,  3.67s/it]"
     ]
    },
    {
     "name": "stdout",
     "output_type": "stream",
     "text": [
      "Training Loss: 0.434110043638379\n",
      "Validation Loss: 1.238770568370819\n",
      "Training Accuracy of the network: 85 %\n",
      "Validation Accuracy of the network: 53 %\n",
      "EarlyStopping counter: 49 out of 50\n"
     ]
    },
    {
     "name": "stderr",
     "output_type": "stream",
     "text": [
      " 11%|██████████████████▏                                                                                                                                             | 114/1000 [08:41<1:07:36,  4.58s/it]"
     ]
    },
    {
     "name": "stdout",
     "output_type": "stream",
     "text": [
      "Training Loss: 0.4276704383592536\n",
      "Validation Loss: 1.2043914675712586\n",
      "Training Accuracy of the network: 85 %\n",
      "Validation Accuracy of the network: 54 %\n",
      "EarlyStopping counter: 50 out of 50\n",
      "Early Stopping\n"
     ]
    },
    {
     "name": "stderr",
     "output_type": "stream",
     "text": [
      "\n",
      "100%|███████████████████████████████████████████████████████████████████████████████████████████████████████████████████████████████████████████████████████████████████████| 1/1 [00:00<00:00, 10.01it/s]\n"
     ]
    },
    {
     "name": "stdout",
     "output_type": "stream",
     "text": [
      "Extra Training Loss: 1.6521690969283764\n",
      "Extra Training Accuracy of the network: 46 %\n",
      "Extra Testing Loss: 1.142199993133545\n",
      "Extra Testing Accuracy of the network: 50 %\n"
     ]
    },
    {
     "name": "stderr",
     "output_type": "stream",
     "text": [
      "  0%|▏                                                                                                                                                                 | 1/1000 [00:03<1:02:31,  3.76s/it]"
     ]
    },
    {
     "name": "stdout",
     "output_type": "stream",
     "text": [
      "Training Loss: 1.607425356256789\n",
      "Validation Loss: 1.4325065442493983\n",
      "Training Accuracy of the network: 22 %\n",
      "Validation Accuracy of the network: 23 %\n",
      "Validation loss decreased (inf --> 1.432507).  Saving model ...\n"
     ]
    },
    {
     "name": "stderr",
     "output_type": "stream",
     "text": [
      "  0%|▎                                                                                                                                                                 | 2/1000 [00:07<1:01:03,  3.67s/it]"
     ]
    },
    {
     "name": "stdout",
     "output_type": "stream",
     "text": [
      "Training Loss: 1.537382089573404\n",
      "Validation Loss: 1.4140934126717704\n",
      "Training Accuracy of the network: 24 %\n",
      "Validation Accuracy of the network: 25 %\n",
      "Validation loss decreased (1.432507 --> 1.414093).  Saving model ...\n"
     ]
    },
    {
     "name": "stderr",
     "output_type": "stream",
     "text": [
      "  0%|▍                                                                                                                                                                 | 3/1000 [00:11<1:00:54,  3.67s/it]"
     ]
    },
    {
     "name": "stdout",
     "output_type": "stream",
     "text": [
      "Training Loss: 1.4867115953694219\n",
      "Validation Loss: 1.3904889822006226\n",
      "Training Accuracy of the network: 28 %\n",
      "Validation Accuracy of the network: 25 %\n",
      "Validation loss decreased (1.414093 --> 1.390489).  Saving model ...\n"
     ]
    },
    {
     "name": "stderr",
     "output_type": "stream",
     "text": [
      "  0%|▋                                                                                                                                                                 | 4/1000 [00:14<1:01:12,  3.69s/it]"
     ]
    },
    {
     "name": "stdout",
     "output_type": "stream",
     "text": [
      "Training Loss: 1.4610708727352861\n",
      "Validation Loss: 1.3751026834760394\n",
      "Training Accuracy of the network: 29 %\n",
      "Validation Accuracy of the network: 25 %\n",
      "Validation loss decreased (1.390489 --> 1.375103).  Saving model ...\n"
     ]
    },
    {
     "name": "stderr",
     "output_type": "stream",
     "text": [
      "  0%|▊                                                                                                                                                                 | 5/1000 [00:18<1:00:37,  3.66s/it]"
     ]
    },
    {
     "name": "stdout",
     "output_type": "stream",
     "text": [
      "Training Loss: 1.4140337809272434\n",
      "Validation Loss: 1.3699676309313094\n",
      "Training Accuracy of the network: 30 %\n",
      "Validation Accuracy of the network: 29 %\n",
      "Validation loss decreased (1.375103 --> 1.369968).  Saving model ...\n"
     ]
    },
    {
     "name": "stderr",
     "output_type": "stream",
     "text": [
      "  1%|▉                                                                                                                                                                 | 6/1000 [00:22<1:01:26,  3.71s/it]"
     ]
    },
    {
     "name": "stdout",
     "output_type": "stream",
     "text": [
      "Training Loss: 1.3892951884131501\n",
      "Validation Loss: 1.3550001621246337\n",
      "Training Accuracy of the network: 33 %\n",
      "Validation Accuracy of the network: 31 %\n",
      "Validation loss decreased (1.369968 --> 1.355000).  Saving model ...\n"
     ]
    },
    {
     "name": "stderr",
     "output_type": "stream",
     "text": [
      "  1%|█▏                                                                                                                                                                | 7/1000 [00:26<1:03:19,  3.83s/it]"
     ]
    },
    {
     "name": "stdout",
     "output_type": "stream",
     "text": [
      "Training Loss: 1.377363329348357\n",
      "Validation Loss: 1.343653086253575\n",
      "Training Accuracy of the network: 33 %\n",
      "Validation Accuracy of the network: 32 %\n",
      "Validation loss decreased (1.355000 --> 1.343653).  Saving model ...\n"
     ]
    },
    {
     "name": "stderr",
     "output_type": "stream",
     "text": [
      "  1%|█▎                                                                                                                                                                | 8/1000 [00:30<1:07:26,  4.08s/it]"
     ]
    },
    {
     "name": "stdout",
     "output_type": "stream",
     "text": [
      "Training Loss: 1.3342900319375854\n",
      "Validation Loss: 1.330492901802063\n",
      "Training Accuracy of the network: 37 %\n",
      "Validation Accuracy of the network: 37 %\n",
      "Validation loss decreased (1.343653 --> 1.330493).  Saving model ...\n"
     ]
    },
    {
     "name": "stderr",
     "output_type": "stream",
     "text": [
      "  1%|█▍                                                                                                                                                                | 9/1000 [00:35<1:10:49,  4.29s/it]"
     ]
    },
    {
     "name": "stdout",
     "output_type": "stream",
     "text": [
      "Training Loss: 1.324903858312662\n",
      "Validation Loss: 1.3141882487705776\n",
      "Training Accuracy of the network: 36 %\n",
      "Validation Accuracy of the network: 34 %\n",
      "Validation loss decreased (1.330493 --> 1.314188).  Saving model ...\n"
     ]
    },
    {
     "name": "stderr",
     "output_type": "stream",
     "text": [
      "  1%|█▌                                                                                                                                                               | 10/1000 [00:40<1:13:26,  4.45s/it]"
     ]
    },
    {
     "name": "stdout",
     "output_type": "stream",
     "text": [
      "Training Loss: 1.2844866280970366\n",
      "Validation Loss: 1.3072901282991682\n",
      "Training Accuracy of the network: 39 %\n",
      "Validation Accuracy of the network: 35 %\n",
      "Validation loss decreased (1.314188 --> 1.307290).  Saving model ...\n"
     ]
    },
    {
     "name": "stderr",
     "output_type": "stream",
     "text": [
      "  1%|█▊                                                                                                                                                               | 11/1000 [00:45<1:14:58,  4.55s/it]"
     ]
    },
    {
     "name": "stdout",
     "output_type": "stream",
     "text": [
      "Training Loss: 1.2881507281807885\n",
      "Validation Loss: 1.2932152714048113\n",
      "Training Accuracy of the network: 40 %\n",
      "Validation Accuracy of the network: 35 %\n",
      "Validation loss decreased (1.307290 --> 1.293215).  Saving model ...\n"
     ]
    },
    {
     "name": "stderr",
     "output_type": "stream",
     "text": [
      "  1%|█▉                                                                                                                                                               | 12/1000 [00:50<1:16:38,  4.65s/it]"
     ]
    },
    {
     "name": "stdout",
     "output_type": "stream",
     "text": [
      "Training Loss: 1.2712009933547697\n",
      "Validation Loss: 1.289586114883423\n",
      "Training Accuracy of the network: 40 %\n",
      "Validation Accuracy of the network: 33 %\n",
      "Validation loss decreased (1.293215 --> 1.289586).  Saving model ...\n"
     ]
    },
    {
     "name": "stderr",
     "output_type": "stream",
     "text": [
      "  1%|██                                                                                                                                                               | 13/1000 [00:54<1:16:45,  4.67s/it]"
     ]
    },
    {
     "name": "stdout",
     "output_type": "stream",
     "text": [
      "Training Loss: 1.2474096564279087\n",
      "Validation Loss: 1.2783820016043528\n",
      "Training Accuracy of the network: 43 %\n",
      "Validation Accuracy of the network: 38 %\n",
      "Validation loss decreased (1.289586 --> 1.278382).  Saving model ...\n"
     ]
    },
    {
     "name": "stderr",
     "output_type": "stream",
     "text": [
      "  1%|██▎                                                                                                                                                              | 14/1000 [00:59<1:16:54,  4.68s/it]"
     ]
    },
    {
     "name": "stdout",
     "output_type": "stream",
     "text": [
      "Training Loss: 1.2492002434488656\n",
      "Validation Loss: 1.2718455825533186\n",
      "Training Accuracy of the network: 43 %\n",
      "Validation Accuracy of the network: 38 %\n",
      "Validation loss decreased (1.278382 --> 1.271846).  Saving model ...\n"
     ]
    },
    {
     "name": "stderr",
     "output_type": "stream",
     "text": [
      "  2%|██▍                                                                                                                                                              | 15/1000 [01:04<1:16:08,  4.64s/it]"
     ]
    },
    {
     "name": "stdout",
     "output_type": "stream",
     "text": [
      "Training Loss: 1.226812052122061\n",
      "Validation Loss: 1.2660360506602697\n",
      "Training Accuracy of the network: 45 %\n",
      "Validation Accuracy of the network: 38 %\n",
      "Validation loss decreased (1.271846 --> 1.266036).  Saving model ...\n"
     ]
    },
    {
     "name": "stderr",
     "output_type": "stream",
     "text": [
      "  2%|██▌                                                                                                                                                              | 16/1000 [01:08<1:15:21,  4.59s/it]"
     ]
    },
    {
     "name": "stdout",
     "output_type": "stream",
     "text": [
      "Training Loss: 1.2157875830712526\n",
      "Validation Loss: 1.2550919464656285\n",
      "Training Accuracy of the network: 45 %\n",
      "Validation Accuracy of the network: 40 %\n",
      "Validation loss decreased (1.266036 --> 1.255092).  Saving model ...\n"
     ]
    },
    {
     "name": "stderr",
     "output_type": "stream",
     "text": [
      "  2%|██▋                                                                                                                                                              | 17/1000 [01:13<1:16:00,  4.64s/it]"
     ]
    },
    {
     "name": "stdout",
     "output_type": "stream",
     "text": [
      "Training Loss: 1.204744613688925\n",
      "Validation Loss: 1.2446858133588519\n",
      "Training Accuracy of the network: 46 %\n",
      "Validation Accuracy of the network: 41 %\n",
      "Validation loss decreased (1.255092 --> 1.244686).  Saving model ...\n"
     ]
    },
    {
     "name": "stderr",
     "output_type": "stream",
     "text": [
      "  2%|██▉                                                                                                                                                              | 18/1000 [01:18<1:17:05,  4.71s/it]"
     ]
    },
    {
     "name": "stdout",
     "output_type": "stream",
     "text": [
      "Training Loss: 1.1838970987693123\n",
      "Validation Loss: 1.2357464483806064\n",
      "Training Accuracy of the network: 47 %\n",
      "Validation Accuracy of the network: 38 %\n",
      "Validation loss decreased (1.244686 --> 1.235746).  Saving model ...\n"
     ]
    },
    {
     "name": "stderr",
     "output_type": "stream",
     "text": [
      "  2%|███                                                                                                                                                              | 19/1000 [01:22<1:17:23,  4.73s/it]"
     ]
    },
    {
     "name": "stdout",
     "output_type": "stream",
     "text": [
      "Training Loss: 1.1630818869756616\n",
      "Validation Loss: 1.2333820513316562\n",
      "Training Accuracy of the network: 49 %\n",
      "Validation Accuracy of the network: 39 %\n",
      "Validation loss decreased (1.235746 --> 1.233382).  Saving model ...\n"
     ]
    },
    {
     "name": "stderr",
     "output_type": "stream",
     "text": [
      "  2%|███▏                                                                                                                                                             | 20/1000 [01:27<1:17:19,  4.73s/it]"
     ]
    },
    {
     "name": "stdout",
     "output_type": "stream",
     "text": [
      "Training Loss: 1.1582976674688035\n",
      "Validation Loss: 1.2255861418587821\n",
      "Training Accuracy of the network: 48 %\n",
      "Validation Accuracy of the network: 40 %\n",
      "Validation loss decreased (1.233382 --> 1.225586).  Saving model ...\n"
     ]
    },
    {
     "name": "stderr",
     "output_type": "stream",
     "text": [
      "  2%|███▍                                                                                                                                                             | 21/1000 [01:32<1:18:13,  4.79s/it]"
     ]
    },
    {
     "name": "stdout",
     "output_type": "stream",
     "text": [
      "Training Loss: 1.149572997853376\n",
      "Validation Loss: 1.2097257443836757\n",
      "Training Accuracy of the network: 49 %\n",
      "Validation Accuracy of the network: 43 %\n",
      "Validation loss decreased (1.225586 --> 1.209726).  Saving model ...\n"
     ]
    },
    {
     "name": "stderr",
     "output_type": "stream",
     "text": [
      "  2%|███▌                                                                                                                                                             | 22/1000 [01:37<1:16:32,  4.70s/it]"
     ]
    },
    {
     "name": "stdout",
     "output_type": "stream",
     "text": [
      "Training Loss: 1.1388041333875794\n",
      "Validation Loss: 1.2161929947989327\n",
      "Training Accuracy of the network: 51 %\n",
      "Validation Accuracy of the network: 40 %\n",
      "EarlyStopping counter: 1 out of 50\n"
     ]
    },
    {
     "name": "stderr",
     "output_type": "stream",
     "text": [
      "  2%|███▋                                                                                                                                                             | 23/1000 [01:41<1:15:22,  4.63s/it]"
     ]
    },
    {
     "name": "stdout",
     "output_type": "stream",
     "text": [
      "Training Loss: 1.1138149944768436\n",
      "Validation Loss: 1.2132717098508563\n",
      "Training Accuracy of the network: 52 %\n",
      "Validation Accuracy of the network: 40 %\n",
      "EarlyStopping counter: 2 out of 50\n"
     ]
    },
    {
     "name": "stderr",
     "output_type": "stream",
     "text": [
      "  2%|███▊                                                                                                                                                             | 24/1000 [01:46<1:15:08,  4.62s/it]"
     ]
    },
    {
     "name": "stdout",
     "output_type": "stream",
     "text": [
      "Training Loss: 1.1104550806508549\n",
      "Validation Loss: 1.2116404465266637\n",
      "Training Accuracy of the network: 51 %\n",
      "Validation Accuracy of the network: 41 %\n",
      "EarlyStopping counter: 3 out of 50\n"
     ]
    },
    {
     "name": "stderr",
     "output_type": "stream",
     "text": [
      "  2%|████                                                                                                                                                             | 25/1000 [01:51<1:16:41,  4.72s/it]"
     ]
    },
    {
     "name": "stdout",
     "output_type": "stream",
     "text": [
      "Training Loss: 1.0930181322754293\n",
      "Validation Loss: 1.1973305361611501\n",
      "Training Accuracy of the network: 53 %\n",
      "Validation Accuracy of the network: 42 %\n",
      "Validation loss decreased (1.209726 --> 1.197331).  Saving model ...\n"
     ]
    },
    {
     "name": "stderr",
     "output_type": "stream",
     "text": [
      "  3%|████▏                                                                                                                                                            | 26/1000 [01:55<1:17:10,  4.75s/it]"
     ]
    },
    {
     "name": "stdout",
     "output_type": "stream",
     "text": [
      "Training Loss: 1.084741315116053\n",
      "Validation Loss: 1.185137927532196\n",
      "Training Accuracy of the network: 54 %\n",
      "Validation Accuracy of the network: 42 %\n",
      "Validation loss decreased (1.197331 --> 1.185138).  Saving model ...\n"
     ]
    },
    {
     "name": "stderr",
     "output_type": "stream",
     "text": [
      "  3%|████▎                                                                                                                                                            | 27/1000 [02:00<1:15:17,  4.64s/it]"
     ]
    },
    {
     "name": "stdout",
     "output_type": "stream",
     "text": [
      "Training Loss: 1.0802216128162716\n",
      "Validation Loss: 1.17638338804245\n",
      "Training Accuracy of the network: 54 %\n",
      "Validation Accuracy of the network: 44 %\n",
      "Validation loss decreased (1.185138 --> 1.176383).  Saving model ...\n"
     ]
    },
    {
     "name": "stderr",
     "output_type": "stream",
     "text": [
      "  3%|████▌                                                                                                                                                            | 28/1000 [02:05<1:17:21,  4.78s/it]"
     ]
    },
    {
     "name": "stdout",
     "output_type": "stream",
     "text": [
      "Training Loss: 1.0527132278767184\n",
      "Validation Loss: 1.1664015122822353\n",
      "Training Accuracy of the network: 56 %\n",
      "Validation Accuracy of the network: 44 %\n",
      "Validation loss decreased (1.176383 --> 1.166402).  Saving model ...\n"
     ]
    },
    {
     "name": "stderr",
     "output_type": "stream",
     "text": [
      "  3%|████▋                                                                                                                                                            | 29/1000 [02:10<1:16:52,  4.75s/it]"
     ]
    },
    {
     "name": "stdout",
     "output_type": "stream",
     "text": [
      "Training Loss: 1.046231587295947\n",
      "Validation Loss: 1.1693319490977696\n",
      "Training Accuracy of the network: 55 %\n",
      "Validation Accuracy of the network: 45 %\n",
      "EarlyStopping counter: 1 out of 50\n"
     ]
    },
    {
     "name": "stderr",
     "output_type": "stream",
     "text": [
      "  3%|████▊                                                                                                                                                            | 30/1000 [02:14<1:15:45,  4.69s/it]"
     ]
    },
    {
     "name": "stdout",
     "output_type": "stream",
     "text": [
      "Training Loss: 1.0331733632778777\n",
      "Validation Loss: 1.15770172391619\n",
      "Training Accuracy of the network: 56 %\n",
      "Validation Accuracy of the network: 46 %\n",
      "Validation loss decreased (1.166402 --> 1.157702).  Saving model ...\n"
     ]
    },
    {
     "name": "stderr",
     "output_type": "stream",
     "text": [
      "  3%|████▉                                                                                                                                                            | 31/1000 [02:19<1:15:05,  4.65s/it]"
     ]
    },
    {
     "name": "stdout",
     "output_type": "stream",
     "text": [
      "Training Loss: 1.0148031046425088\n",
      "Validation Loss: 1.149250316619873\n",
      "Training Accuracy of the network: 59 %\n",
      "Validation Accuracy of the network: 47 %\n",
      "Validation loss decreased (1.157702 --> 1.149250).  Saving model ...\n"
     ]
    },
    {
     "name": "stderr",
     "output_type": "stream",
     "text": [
      "  3%|█████▏                                                                                                                                                           | 32/1000 [02:23<1:15:37,  4.69s/it]"
     ]
    },
    {
     "name": "stdout",
     "output_type": "stream",
     "text": [
      "Training Loss: 1.0051089622404263\n",
      "Validation Loss: 1.1382339477539063\n",
      "Training Accuracy of the network: 60 %\n",
      "Validation Accuracy of the network: 46 %\n",
      "Validation loss decreased (1.149250 --> 1.138234).  Saving model ...\n"
     ]
    },
    {
     "name": "stderr",
     "output_type": "stream",
     "text": [
      "  3%|█████▎                                                                                                                                                           | 33/1000 [02:28<1:15:58,  4.71s/it]"
     ]
    },
    {
     "name": "stdout",
     "output_type": "stream",
     "text": [
      "Training Loss: 0.9933098057905833\n",
      "Validation Loss: 1.122961790221078\n",
      "Training Accuracy of the network: 60 %\n",
      "Validation Accuracy of the network: 49 %\n",
      "Validation loss decreased (1.138234 --> 1.122962).  Saving model ...\n"
     ]
    },
    {
     "name": "stderr",
     "output_type": "stream",
     "text": [
      "  3%|█████▍                                                                                                                                                           | 34/1000 [02:33<1:16:41,  4.76s/it]"
     ]
    },
    {
     "name": "stdout",
     "output_type": "stream",
     "text": [
      "Training Loss: 0.9875105280375135\n",
      "Validation Loss: 1.1165573051997593\n",
      "Training Accuracy of the network: 60 %\n",
      "Validation Accuracy of the network: 51 %\n",
      "Validation loss decreased (1.122962 --> 1.116557).  Saving model ...\n"
     ]
    },
    {
     "name": "stderr",
     "output_type": "stream",
     "text": [
      "  4%|█████▋                                                                                                                                                           | 35/1000 [02:38<1:16:36,  4.76s/it]"
     ]
    },
    {
     "name": "stdout",
     "output_type": "stream",
     "text": [
      "Training Loss: 0.9633645765159441\n",
      "Validation Loss: 1.1139628257070269\n",
      "Training Accuracy of the network: 61 %\n",
      "Validation Accuracy of the network: 50 %\n",
      "Validation loss decreased (1.116557 --> 1.113963).  Saving model ...\n"
     ]
    },
    {
     "name": "stderr",
     "output_type": "stream",
     "text": [
      "  4%|█████▊                                                                                                                                                           | 36/1000 [02:42<1:15:33,  4.70s/it]"
     ]
    },
    {
     "name": "stdout",
     "output_type": "stream",
     "text": [
      "Training Loss: 0.9451878941145496\n",
      "Validation Loss: 1.1107459817613874\n",
      "Training Accuracy of the network: 63 %\n",
      "Validation Accuracy of the network: 49 %\n",
      "Validation loss decreased (1.113963 --> 1.110746).  Saving model ...\n"
     ]
    },
    {
     "name": "stderr",
     "output_type": "stream",
     "text": [
      "  4%|█████▉                                                                                                                                                           | 37/1000 [02:47<1:14:12,  4.62s/it]"
     ]
    },
    {
     "name": "stdout",
     "output_type": "stream",
     "text": [
      "Training Loss: 0.9249029852773832\n",
      "Validation Loss: 1.089879696709769\n",
      "Training Accuracy of the network: 64 %\n",
      "Validation Accuracy of the network: 53 %\n",
      "Validation loss decreased (1.110746 --> 1.089880).  Saving model ...\n"
     ]
    },
    {
     "name": "stderr",
     "output_type": "stream",
     "text": [
      "  4%|██████                                                                                                                                                           | 38/1000 [02:51<1:12:18,  4.51s/it]"
     ]
    },
    {
     "name": "stdout",
     "output_type": "stream",
     "text": [
      "Training Loss: 0.9239236081855885\n",
      "Validation Loss: 1.0953921880040849\n",
      "Training Accuracy of the network: 63 %\n",
      "Validation Accuracy of the network: 51 %\n",
      "EarlyStopping counter: 1 out of 50\n"
     ]
    },
    {
     "name": "stderr",
     "output_type": "stream",
     "text": [
      "  4%|██████▎                                                                                                                                                          | 39/1000 [02:56<1:11:58,  4.49s/it]"
     ]
    },
    {
     "name": "stdout",
     "output_type": "stream",
     "text": [
      "Training Loss: 0.9145133745843086\n",
      "Validation Loss: 1.0913548469543457\n",
      "Training Accuracy of the network: 64 %\n",
      "Validation Accuracy of the network: 51 %\n",
      "EarlyStopping counter: 2 out of 50\n"
     ]
    },
    {
     "name": "stderr",
     "output_type": "stream",
     "text": [
      "  4%|██████▍                                                                                                                                                          | 40/1000 [03:00<1:13:26,  4.59s/it]"
     ]
    },
    {
     "name": "stdout",
     "output_type": "stream",
     "text": [
      "Training Loss: 0.8980691402718641\n",
      "Validation Loss: 1.095443878855024\n",
      "Training Accuracy of the network: 64 %\n",
      "Validation Accuracy of the network: 52 %\n",
      "EarlyStopping counter: 3 out of 50\n"
     ]
    },
    {
     "name": "stderr",
     "output_type": "stream",
     "text": [
      "  4%|██████▌                                                                                                                                                          | 41/1000 [03:05<1:14:33,  4.66s/it]"
     ]
    },
    {
     "name": "stdout",
     "output_type": "stream",
     "text": [
      "Training Loss: 0.8866636139759119\n",
      "Validation Loss: 1.0654363478933062\n",
      "Training Accuracy of the network: 67 %\n",
      "Validation Accuracy of the network: 53 %\n",
      "Validation loss decreased (1.089880 --> 1.065436).  Saving model ...\n"
     ]
    },
    {
     "name": "stderr",
     "output_type": "stream",
     "text": [
      "  4%|██████▊                                                                                                                                                          | 42/1000 [03:10<1:14:29,  4.67s/it]"
     ]
    },
    {
     "name": "stdout",
     "output_type": "stream",
     "text": [
      "Training Loss: 0.857818409152653\n",
      "Validation Loss: 1.0537560343742371\n",
      "Training Accuracy of the network: 67 %\n",
      "Validation Accuracy of the network: 54 %\n",
      "Validation loss decreased (1.065436 --> 1.053756).  Saving model ...\n"
     ]
    },
    {
     "name": "stderr",
     "output_type": "stream",
     "text": [
      "  4%|██████▉                                                                                                                                                          | 43/1000 [03:15<1:15:03,  4.71s/it]"
     ]
    },
    {
     "name": "stdout",
     "output_type": "stream",
     "text": [
      "Training Loss: 0.8457284692836844\n",
      "Validation Loss: 1.044441601208278\n",
      "Training Accuracy of the network: 69 %\n",
      "Validation Accuracy of the network: 54 %\n",
      "Validation loss decreased (1.053756 --> 1.044442).  Saving model ...\n"
     ]
    },
    {
     "name": "stderr",
     "output_type": "stream",
     "text": [
      "  4%|███████                                                                                                                                                          | 44/1000 [03:19<1:13:53,  4.64s/it]"
     ]
    },
    {
     "name": "stdout",
     "output_type": "stream",
     "text": [
      "Training Loss: 0.8309345663241718\n",
      "Validation Loss: 1.037107651574271\n",
      "Training Accuracy of the network: 69 %\n",
      "Validation Accuracy of the network: 54 %\n",
      "Validation loss decreased (1.044442 --> 1.037108).  Saving model ...\n"
     ]
    },
    {
     "name": "stderr",
     "output_type": "stream",
     "text": [
      "  4%|███████▏                                                                                                                                                         | 45/1000 [03:24<1:14:06,  4.66s/it]"
     ]
    },
    {
     "name": "stdout",
     "output_type": "stream",
     "text": [
      "Training Loss: 0.8219805953727253\n",
      "Validation Loss: 1.0347064903804235\n",
      "Training Accuracy of the network: 69 %\n",
      "Validation Accuracy of the network: 55 %\n",
      "Validation loss decreased (1.037108 --> 1.034706).  Saving model ...\n"
     ]
    },
    {
     "name": "stderr",
     "output_type": "stream",
     "text": [
      "  5%|███████▍                                                                                                                                                         | 46/1000 [03:28<1:13:51,  4.65s/it]"
     ]
    },
    {
     "name": "stdout",
     "output_type": "stream",
     "text": [
      "Training Loss: 0.7777446422024049\n",
      "Validation Loss: 1.025266488960811\n",
      "Training Accuracy of the network: 72 %\n",
      "Validation Accuracy of the network: 54 %\n",
      "Validation loss decreased (1.034706 --> 1.025266).  Saving model ...\n"
     ]
    },
    {
     "name": "stderr",
     "output_type": "stream",
     "text": [
      "  5%|███████▌                                                                                                                                                         | 47/1000 [03:33<1:14:31,  4.69s/it]"
     ]
    },
    {
     "name": "stdout",
     "output_type": "stream",
     "text": [
      "Training Loss: 0.7807886131863663\n",
      "Validation Loss: 1.0189447896821158\n",
      "Training Accuracy of the network: 71 %\n",
      "Validation Accuracy of the network: 54 %\n",
      "Validation loss decreased (1.025266 --> 1.018945).  Saving model ...\n"
     ]
    },
    {
     "name": "stderr",
     "output_type": "stream",
     "text": [
      "  5%|███████▋                                                                                                                                                         | 48/1000 [03:38<1:14:42,  4.71s/it]"
     ]
    },
    {
     "name": "stdout",
     "output_type": "stream",
     "text": [
      "Training Loss: 0.7819298145131789\n",
      "Validation Loss: 1.0141571419579642\n",
      "Training Accuracy of the network: 71 %\n",
      "Validation Accuracy of the network: 56 %\n",
      "Validation loss decreased (1.018945 --> 1.014157).  Saving model ...\n"
     ]
    },
    {
     "name": "stderr",
     "output_type": "stream",
     "text": [
      "  5%|███████▉                                                                                                                                                         | 49/1000 [03:43<1:15:53,  4.79s/it]"
     ]
    },
    {
     "name": "stdout",
     "output_type": "stream",
     "text": [
      "Training Loss: 0.7718244624742563\n",
      "Validation Loss: 0.9948711957250322\n",
      "Training Accuracy of the network: 71 %\n",
      "Validation Accuracy of the network: 57 %\n",
      "Validation loss decreased (1.014157 --> 0.994871).  Saving model ...\n"
     ]
    },
    {
     "name": "stderr",
     "output_type": "stream",
     "text": [
      "  5%|████████                                                                                                                                                         | 50/1000 [03:48<1:15:42,  4.78s/it]"
     ]
    },
    {
     "name": "stdout",
     "output_type": "stream",
     "text": [
      "Training Loss: 0.7633778387005778\n",
      "Validation Loss: 1.002928057738713\n",
      "Training Accuracy of the network: 71 %\n",
      "Validation Accuracy of the network: 57 %\n",
      "EarlyStopping counter: 1 out of 50\n"
     ]
    },
    {
     "name": "stderr",
     "output_type": "stream",
     "text": [
      "  5%|████████▏                                                                                                                                                        | 51/1000 [03:53<1:15:45,  4.79s/it]"
     ]
    },
    {
     "name": "stdout",
     "output_type": "stream",
     "text": [
      "Training Loss: 0.7618143549863843\n",
      "Validation Loss: 1.0110541718346733\n",
      "Training Accuracy of the network: 72 %\n",
      "Validation Accuracy of the network: 57 %\n",
      "EarlyStopping counter: 2 out of 50\n"
     ]
    },
    {
     "name": "stderr",
     "output_type": "stream",
     "text": [
      "  5%|████████▎                                                                                                                                                        | 52/1000 [03:57<1:15:22,  4.77s/it]"
     ]
    },
    {
     "name": "stdout",
     "output_type": "stream",
     "text": [
      "Training Loss: 0.7318113178446672\n",
      "Validation Loss: 0.9921521050589425\n",
      "Training Accuracy of the network: 72 %\n",
      "Validation Accuracy of the network: 58 %\n",
      "Validation loss decreased (0.994871 --> 0.992152).  Saving model ...\n"
     ]
    },
    {
     "name": "stderr",
     "output_type": "stream",
     "text": [
      "  5%|████████▌                                                                                                                                                        | 53/1000 [04:02<1:14:11,  4.70s/it]"
     ]
    },
    {
     "name": "stdout",
     "output_type": "stream",
     "text": [
      "Training Loss: 0.7198447157507357\n",
      "Validation Loss: 0.9888071639197213\n",
      "Training Accuracy of the network: 73 %\n",
      "Validation Accuracy of the network: 58 %\n",
      "Validation loss decreased (0.992152 --> 0.988807).  Saving model ...\n"
     ]
    },
    {
     "name": "stderr",
     "output_type": "stream",
     "text": [
      "  5%|████████▋                                                                                                                                                        | 54/1000 [04:06<1:13:43,  4.68s/it]"
     ]
    },
    {
     "name": "stdout",
     "output_type": "stream",
     "text": [
      "Training Loss: 0.7072935567601867\n",
      "Validation Loss: 0.9725312505449567\n",
      "Training Accuracy of the network: 74 %\n",
      "Validation Accuracy of the network: 59 %\n",
      "Validation loss decreased (0.988807 --> 0.972531).  Saving model ...\n"
     ]
    },
    {
     "name": "stderr",
     "output_type": "stream",
     "text": [
      "  6%|████████▊                                                                                                                                                        | 55/1000 [04:11<1:12:03,  4.58s/it]"
     ]
    },
    {
     "name": "stdout",
     "output_type": "stream",
     "text": [
      "Training Loss: 0.6844928174994994\n",
      "Validation Loss: 0.9624138900211879\n",
      "Training Accuracy of the network: 75 %\n",
      "Validation Accuracy of the network: 59 %\n",
      "Validation loss decreased (0.972531 --> 0.962414).  Saving model ...\n"
     ]
    },
    {
     "name": "stderr",
     "output_type": "stream",
     "text": [
      "  6%|█████████                                                                                                                                                        | 56/1000 [04:15<1:12:18,  4.60s/it]"
     ]
    },
    {
     "name": "stdout",
     "output_type": "stream",
     "text": [
      "Training Loss: 0.6980896203414254\n",
      "Validation Loss: 0.9589389749935695\n",
      "Training Accuracy of the network: 74 %\n",
      "Validation Accuracy of the network: 59 %\n",
      "Validation loss decreased (0.962414 --> 0.958939).  Saving model ...\n"
     ]
    },
    {
     "name": "stderr",
     "output_type": "stream",
     "text": [
      "  6%|█████████▏                                                                                                                                                       | 57/1000 [04:20<1:12:54,  4.64s/it]"
     ]
    },
    {
     "name": "stdout",
     "output_type": "stream",
     "text": [
      "Training Loss: 0.6853603681792384\n",
      "Validation Loss: 0.9508202195167541\n",
      "Training Accuracy of the network: 75 %\n",
      "Validation Accuracy of the network: 60 %\n",
      "Validation loss decreased (0.958939 --> 0.950820).  Saving model ...\n"
     ]
    },
    {
     "name": "stderr",
     "output_type": "stream",
     "text": [
      "  6%|█████████▎                                                                                                                                                       | 58/1000 [04:25<1:13:21,  4.67s/it]"
     ]
    },
    {
     "name": "stdout",
     "output_type": "stream",
     "text": [
      "Training Loss: 0.6784181717945181\n",
      "Validation Loss: 0.9558944225311279\n",
      "Training Accuracy of the network: 77 %\n",
      "Validation Accuracy of the network: 58 %\n",
      "EarlyStopping counter: 1 out of 50\n"
     ]
    },
    {
     "name": "stderr",
     "output_type": "stream",
     "text": [
      "  6%|█████████▍                                                                                                                                                       | 59/1000 [04:30<1:14:04,  4.72s/it]"
     ]
    },
    {
     "name": "stdout",
     "output_type": "stream",
     "text": [
      "Training Loss: 0.6547234911417615\n",
      "Validation Loss: 0.9449739234788077\n",
      "Training Accuracy of the network: 76 %\n",
      "Validation Accuracy of the network: 61 %\n",
      "Validation loss decreased (0.950820 --> 0.944974).  Saving model ...\n"
     ]
    },
    {
     "name": "stderr",
     "output_type": "stream",
     "text": [
      "  6%|█████████▋                                                                                                                                                       | 60/1000 [04:34<1:13:07,  4.67s/it]"
     ]
    },
    {
     "name": "stdout",
     "output_type": "stream",
     "text": [
      "Training Loss: 0.6394816887011563\n",
      "Validation Loss: 0.9460337826183864\n",
      "Training Accuracy of the network: 77 %\n",
      "Validation Accuracy of the network: 60 %\n",
      "EarlyStopping counter: 1 out of 50\n"
     ]
    },
    {
     "name": "stderr",
     "output_type": "stream",
     "text": [
      "  6%|█████████▊                                                                                                                                                       | 61/1000 [04:39<1:13:18,  4.68s/it]"
     ]
    },
    {
     "name": "stdout",
     "output_type": "stream",
     "text": [
      "Training Loss: 0.6535066477954388\n",
      "Validation Loss: 0.9393929643290383\n",
      "Training Accuracy of the network: 76 %\n",
      "Validation Accuracy of the network: 60 %\n",
      "Validation loss decreased (0.944974 --> 0.939393).  Saving model ...\n"
     ]
    },
    {
     "name": "stderr",
     "output_type": "stream",
     "text": [
      "  6%|█████████▉                                                                                                                                                       | 62/1000 [04:44<1:13:23,  4.69s/it]"
     ]
    },
    {
     "name": "stdout",
     "output_type": "stream",
     "text": [
      "Training Loss: 0.6388508408613827\n",
      "Validation Loss: 0.934013135944094\n",
      "Training Accuracy of the network: 78 %\n",
      "Validation Accuracy of the network: 59 %\n",
      "Validation loss decreased (0.939393 --> 0.934013).  Saving model ...\n"
     ]
    },
    {
     "name": "stderr",
     "output_type": "stream",
     "text": [
      "  6%|██████████▏                                                                                                                                                      | 63/1000 [04:48<1:13:08,  4.68s/it]"
     ]
    },
    {
     "name": "stdout",
     "output_type": "stream",
     "text": [
      "Training Loss: 0.6280727437224941\n",
      "Validation Loss: 0.9303699970245362\n",
      "Training Accuracy of the network: 77 %\n",
      "Validation Accuracy of the network: 61 %\n",
      "Validation loss decreased (0.934013 --> 0.930370).  Saving model ...\n"
     ]
    },
    {
     "name": "stderr",
     "output_type": "stream",
     "text": [
      "  6%|██████████▎                                                                                                                                                      | 64/1000 [04:53<1:13:52,  4.74s/it]"
     ]
    },
    {
     "name": "stdout",
     "output_type": "stream",
     "text": [
      "Training Loss: 0.6226239150417023\n",
      "Validation Loss: 0.934647809607642\n",
      "Training Accuracy of the network: 79 %\n",
      "Validation Accuracy of the network: 60 %\n",
      "EarlyStopping counter: 1 out of 50\n"
     ]
    },
    {
     "name": "stderr",
     "output_type": "stream",
     "text": [
      "  6%|██████████▍                                                                                                                                                      | 65/1000 [04:58<1:14:09,  4.76s/it]"
     ]
    },
    {
     "name": "stdout",
     "output_type": "stream",
     "text": [
      "Training Loss: 0.6272694978161134\n",
      "Validation Loss: 0.9208286489759173\n",
      "Training Accuracy of the network: 78 %\n",
      "Validation Accuracy of the network: 62 %\n",
      "Validation loss decreased (0.930370 --> 0.920829).  Saving model ...\n"
     ]
    },
    {
     "name": "stderr",
     "output_type": "stream",
     "text": [
      "  7%|██████████▋                                                                                                                                                      | 66/1000 [05:03<1:12:33,  4.66s/it]"
     ]
    },
    {
     "name": "stdout",
     "output_type": "stream",
     "text": [
      "Training Loss: 0.6279551983959433\n",
      "Validation Loss: 0.9226959407329559\n",
      "Training Accuracy of the network: 79 %\n",
      "Validation Accuracy of the network: 61 %\n",
      "EarlyStopping counter: 1 out of 50\n"
     ]
    },
    {
     "name": "stderr",
     "output_type": "stream",
     "text": [
      "  7%|██████████▊                                                                                                                                                      | 67/1000 [05:07<1:12:48,  4.68s/it]"
     ]
    },
    {
     "name": "stdout",
     "output_type": "stream",
     "text": [
      "Training Loss: 0.6185911332351574\n",
      "Validation Loss: 0.9134526593344552\n",
      "Training Accuracy of the network: 78 %\n",
      "Validation Accuracy of the network: 61 %\n",
      "Validation loss decreased (0.920829 --> 0.913453).  Saving model ...\n"
     ]
    },
    {
     "name": "stderr",
     "output_type": "stream",
     "text": [
      "  7%|██████████▉                                                                                                                                                      | 68/1000 [05:12<1:11:55,  4.63s/it]"
     ]
    },
    {
     "name": "stdout",
     "output_type": "stream",
     "text": [
      "Training Loss: 0.6041780089878518\n",
      "Validation Loss: 0.9085113900048393\n",
      "Training Accuracy of the network: 78 %\n",
      "Validation Accuracy of the network: 63 %\n",
      "Validation loss decreased (0.913453 --> 0.908511).  Saving model ...\n"
     ]
    },
    {
     "name": "stderr",
     "output_type": "stream",
     "text": [
      "  7%|███████████                                                                                                                                                      | 69/1000 [05:16<1:12:05,  4.65s/it]"
     ]
    },
    {
     "name": "stdout",
     "output_type": "stream",
     "text": [
      "Training Loss: 0.5809361793208814\n",
      "Validation Loss: 0.9036044810499464\n",
      "Training Accuracy of the network: 80 %\n",
      "Validation Accuracy of the network: 61 %\n",
      "Validation loss decreased (0.908511 --> 0.903604).  Saving model ...\n"
     ]
    },
    {
     "name": "stderr",
     "output_type": "stream",
     "text": [
      "  7%|███████████▎                                                                                                                                                     | 70/1000 [05:21<1:12:26,  4.67s/it]"
     ]
    },
    {
     "name": "stdout",
     "output_type": "stream",
     "text": [
      "Training Loss: 0.5815900477810182\n",
      "Validation Loss: 0.9210645173277173\n",
      "Training Accuracy of the network: 79 %\n",
      "Validation Accuracy of the network: 61 %\n",
      "EarlyStopping counter: 1 out of 50\n"
     ]
    },
    {
     "name": "stderr",
     "output_type": "stream",
     "text": [
      "  7%|███████████▍                                                                                                                                                     | 71/1000 [05:26<1:11:30,  4.62s/it]"
     ]
    },
    {
     "name": "stdout",
     "output_type": "stream",
     "text": [
      "Training Loss: 0.5763698130630065\n",
      "Validation Loss: 0.8991206313882555\n",
      "Training Accuracy of the network: 80 %\n",
      "Validation Accuracy of the network: 63 %\n",
      "Validation loss decreased (0.903604 --> 0.899121).  Saving model ...\n"
     ]
    },
    {
     "name": "stderr",
     "output_type": "stream",
     "text": [
      "  7%|███████████▌                                                                                                                                                     | 72/1000 [05:30<1:12:08,  4.66s/it]"
     ]
    },
    {
     "name": "stdout",
     "output_type": "stream",
     "text": [
      "Training Loss: 0.5699589634719102\n",
      "Validation Loss: 0.9013349371297019\n",
      "Training Accuracy of the network: 80 %\n",
      "Validation Accuracy of the network: 60 %\n",
      "EarlyStopping counter: 1 out of 50\n"
     ]
    },
    {
     "name": "stderr",
     "output_type": "stream",
     "text": [
      "  7%|███████████▊                                                                                                                                                     | 73/1000 [05:35<1:12:35,  4.70s/it]"
     ]
    },
    {
     "name": "stdout",
     "output_type": "stream",
     "text": [
      "Training Loss: 0.5753774274194586\n",
      "Validation Loss: 0.9091028937271664\n",
      "Training Accuracy of the network: 80 %\n",
      "Validation Accuracy of the network: 62 %\n",
      "EarlyStopping counter: 2 out of 50\n"
     ]
    },
    {
     "name": "stderr",
     "output_type": "stream",
     "text": [
      "  7%|███████████▉                                                                                                                                                     | 74/1000 [05:40<1:12:46,  4.72s/it]"
     ]
    },
    {
     "name": "stdout",
     "output_type": "stream",
     "text": [
      "Training Loss: 0.5571528253132019\n",
      "Validation Loss: 0.9134880270276751\n",
      "Training Accuracy of the network: 82 %\n",
      "Validation Accuracy of the network: 61 %\n",
      "EarlyStopping counter: 3 out of 50\n"
     ]
    },
    {
     "name": "stderr",
     "output_type": "stream",
     "text": [
      "  8%|████████████                                                                                                                                                     | 75/1000 [05:45<1:13:01,  4.74s/it]"
     ]
    },
    {
     "name": "stdout",
     "output_type": "stream",
     "text": [
      "Training Loss: 0.5704510271873163\n",
      "Validation Loss: 0.8974379658699035\n",
      "Training Accuracy of the network: 79 %\n",
      "Validation Accuracy of the network: 64 %\n",
      "Validation loss decreased (0.899121 --> 0.897438).  Saving model ...\n"
     ]
    },
    {
     "name": "stderr",
     "output_type": "stream",
     "text": [
      "  8%|████████████▏                                                                                                                                                    | 76/1000 [05:49<1:12:38,  4.72s/it]"
     ]
    },
    {
     "name": "stdout",
     "output_type": "stream",
     "text": [
      "Training Loss: 0.5560947809962259\n",
      "Validation Loss: 0.8844529032707215\n",
      "Training Accuracy of the network: 81 %\n",
      "Validation Accuracy of the network: 64 %\n",
      "Validation loss decreased (0.897438 --> 0.884453).  Saving model ...\n"
     ]
    },
    {
     "name": "stderr",
     "output_type": "stream",
     "text": [
      "  8%|████████████▍                                                                                                                                                    | 77/1000 [05:54<1:13:11,  4.76s/it]"
     ]
    },
    {
     "name": "stdout",
     "output_type": "stream",
     "text": [
      "Training Loss: 0.5508450942410938\n",
      "Validation Loss: 0.9193008158888135\n",
      "Training Accuracy of the network: 81 %\n",
      "Validation Accuracy of the network: 61 %\n",
      "EarlyStopping counter: 1 out of 50\n"
     ]
    },
    {
     "name": "stderr",
     "output_type": "stream",
     "text": [
      "  8%|████████████▌                                                                                                                                                    | 78/1000 [05:59<1:12:38,  4.73s/it]"
     ]
    },
    {
     "name": "stdout",
     "output_type": "stream",
     "text": [
      "Training Loss: 0.5336821497134541\n",
      "Validation Loss: 0.9010783893721445\n",
      "Training Accuracy of the network: 82 %\n",
      "Validation Accuracy of the network: 64 %\n",
      "EarlyStopping counter: 2 out of 50\n"
     ]
    },
    {
     "name": "stderr",
     "output_type": "stream",
     "text": [
      "  8%|████████████▋                                                                                                                                                    | 79/1000 [06:04<1:12:53,  4.75s/it]"
     ]
    },
    {
     "name": "stdout",
     "output_type": "stream",
     "text": [
      "Training Loss: 0.5423452071305634\n",
      "Validation Loss: 0.9012803801468441\n",
      "Training Accuracy of the network: 81 %\n",
      "Validation Accuracy of the network: 62 %\n",
      "EarlyStopping counter: 3 out of 50\n"
     ]
    },
    {
     "name": "stderr",
     "output_type": "stream",
     "text": [
      "  8%|████████████▉                                                                                                                                                    | 80/1000 [06:08<1:12:11,  4.71s/it]"
     ]
    },
    {
     "name": "stdout",
     "output_type": "stream",
     "text": [
      "Training Loss: 0.5327008717517921\n",
      "Validation Loss: 0.9065997779369355\n",
      "Training Accuracy of the network: 82 %\n",
      "Validation Accuracy of the network: 61 %\n",
      "EarlyStopping counter: 4 out of 50\n"
     ]
    },
    {
     "name": "stderr",
     "output_type": "stream",
     "text": [
      "  8%|█████████████                                                                                                                                                    | 81/1000 [06:13<1:10:59,  4.63s/it]"
     ]
    },
    {
     "name": "stdout",
     "output_type": "stream",
     "text": [
      "Training Loss: 0.5124186389688132\n",
      "Validation Loss: 0.8970730551651546\n",
      "Training Accuracy of the network: 82 %\n",
      "Validation Accuracy of the network: 61 %\n",
      "EarlyStopping counter: 5 out of 50\n"
     ]
    },
    {
     "name": "stderr",
     "output_type": "stream",
     "text": [
      "  8%|█████████████▏                                                                                                                                                   | 82/1000 [06:18<1:11:09,  4.65s/it]"
     ]
    },
    {
     "name": "stdout",
     "output_type": "stream",
     "text": [
      "Training Loss: 0.5117268492400214\n",
      "Validation Loss: 0.8993338891438075\n",
      "Training Accuracy of the network: 83 %\n",
      "Validation Accuracy of the network: 62 %\n",
      "EarlyStopping counter: 6 out of 50\n"
     ]
    },
    {
     "name": "stderr",
     "output_type": "stream",
     "text": [
      "  8%|█████████████▎                                                                                                                                                   | 83/1000 [06:22<1:11:15,  4.66s/it]"
     ]
    },
    {
     "name": "stdout",
     "output_type": "stream",
     "text": [
      "Training Loss: 0.5347861329066581\n",
      "Validation Loss: 0.8923390456608363\n",
      "Training Accuracy of the network: 81 %\n",
      "Validation Accuracy of the network: 62 %\n",
      "EarlyStopping counter: 7 out of 50\n"
     ]
    },
    {
     "name": "stderr",
     "output_type": "stream",
     "text": [
      "  8%|█████████████▌                                                                                                                                                   | 84/1000 [06:27<1:10:54,  4.65s/it]"
     ]
    },
    {
     "name": "stdout",
     "output_type": "stream",
     "text": [
      "Training Loss: 0.5300749316271665\n",
      "Validation Loss: 0.8982207008770534\n",
      "Training Accuracy of the network: 81 %\n",
      "Validation Accuracy of the network: 63 %\n",
      "EarlyStopping counter: 8 out of 50\n"
     ]
    },
    {
     "name": "stderr",
     "output_type": "stream",
     "text": [
      "  8%|█████████████▋                                                                                                                                                   | 85/1000 [06:31<1:10:04,  4.60s/it]"
     ]
    },
    {
     "name": "stdout",
     "output_type": "stream",
     "text": [
      "Training Loss: 0.49452580700533977\n",
      "Validation Loss: 0.907719018629619\n",
      "Training Accuracy of the network: 83 %\n",
      "Validation Accuracy of the network: 59 %\n",
      "EarlyStopping counter: 9 out of 50\n"
     ]
    },
    {
     "name": "stderr",
     "output_type": "stream",
     "text": [
      "  9%|█████████████▊                                                                                                                                                   | 86/1000 [06:36<1:10:07,  4.60s/it]"
     ]
    },
    {
     "name": "stdout",
     "output_type": "stream",
     "text": [
      "Training Loss: 0.494357506569097\n",
      "Validation Loss: 0.8995812364986965\n",
      "Training Accuracy of the network: 83 %\n",
      "Validation Accuracy of the network: 64 %\n",
      "EarlyStopping counter: 10 out of 50\n"
     ]
    },
    {
     "name": "stderr",
     "output_type": "stream",
     "text": [
      "  9%|██████████████                                                                                                                                                   | 87/1000 [06:41<1:10:09,  4.61s/it]"
     ]
    },
    {
     "name": "stdout",
     "output_type": "stream",
     "text": [
      "Training Loss: 0.49271598998187244\n",
      "Validation Loss: 0.9032795412199838\n",
      "Training Accuracy of the network: 83 %\n",
      "Validation Accuracy of the network: 61 %\n",
      "EarlyStopping counter: 11 out of 50\n"
     ]
    },
    {
     "name": "stderr",
     "output_type": "stream",
     "text": [
      "  9%|██████████████▏                                                                                                                                                  | 88/1000 [06:45<1:08:33,  4.51s/it]"
     ]
    },
    {
     "name": "stdout",
     "output_type": "stream",
     "text": [
      "Training Loss: 0.5024939004493796\n",
      "Validation Loss: 0.8893500711236682\n",
      "Training Accuracy of the network: 82 %\n",
      "Validation Accuracy of the network: 64 %\n",
      "EarlyStopping counter: 12 out of 50\n"
     ]
    },
    {
     "name": "stderr",
     "output_type": "stream",
     "text": [
      "  9%|██████████████▎                                                                                                                                                  | 89/1000 [06:49<1:08:48,  4.53s/it]"
     ]
    },
    {
     "name": "stdout",
     "output_type": "stream",
     "text": [
      "Training Loss: 0.5085730268147545\n",
      "Validation Loss: 0.8915900128228323\n",
      "Training Accuracy of the network: 82 %\n",
      "Validation Accuracy of the network: 63 %\n",
      "EarlyStopping counter: 13 out of 50\n"
     ]
    },
    {
     "name": "stderr",
     "output_type": "stream",
     "text": [
      "  9%|██████████████▍                                                                                                                                                  | 90/1000 [06:54<1:09:56,  4.61s/it]"
     ]
    },
    {
     "name": "stdout",
     "output_type": "stream",
     "text": [
      "Training Loss: 0.47166887800330703\n",
      "Validation Loss: 0.9033911049365997\n",
      "Training Accuracy of the network: 84 %\n",
      "Validation Accuracy of the network: 62 %\n",
      "EarlyStopping counter: 14 out of 50\n"
     ]
    },
    {
     "name": "stderr",
     "output_type": "stream",
     "text": [
      "  9%|██████████████▋                                                                                                                                                  | 91/1000 [06:59<1:10:08,  4.63s/it]"
     ]
    },
    {
     "name": "stdout",
     "output_type": "stream",
     "text": [
      "Training Loss: 0.4883270261242338\n",
      "Validation Loss: 0.8927697053977421\n",
      "Training Accuracy of the network: 84 %\n",
      "Validation Accuracy of the network: 64 %\n",
      "EarlyStopping counter: 15 out of 50\n"
     ]
    },
    {
     "name": "stderr",
     "output_type": "stream",
     "text": [
      "  9%|██████████████▊                                                                                                                                                  | 92/1000 [07:03<1:09:51,  4.62s/it]"
     ]
    },
    {
     "name": "stdout",
     "output_type": "stream",
     "text": [
      "Training Loss: 0.47344686350096826\n",
      "Validation Loss: 0.9011349030903407\n",
      "Training Accuracy of the network: 84 %\n",
      "Validation Accuracy of the network: 64 %\n",
      "EarlyStopping counter: 16 out of 50\n"
     ]
    },
    {
     "name": "stderr",
     "output_type": "stream",
     "text": [
      "  9%|██████████████▉                                                                                                                                                  | 93/1000 [07:08<1:09:08,  4.57s/it]"
     ]
    },
    {
     "name": "stdout",
     "output_type": "stream",
     "text": [
      "Training Loss: 0.4597645074776981\n",
      "Validation Loss: 0.9022186951977866\n",
      "Training Accuracy of the network: 84 %\n",
      "Validation Accuracy of the network: 62 %\n",
      "EarlyStopping counter: 17 out of 50\n"
     ]
    },
    {
     "name": "stderr",
     "output_type": "stream",
     "text": [
      "  9%|███████████████▏                                                                                                                                                 | 94/1000 [07:13<1:09:42,  4.62s/it]"
     ]
    },
    {
     "name": "stdout",
     "output_type": "stream",
     "text": [
      "Training Loss: 0.47252576158422493\n",
      "Validation Loss: 0.9033534739698682\n",
      "Training Accuracy of the network: 83 %\n",
      "Validation Accuracy of the network: 64 %\n",
      "EarlyStopping counter: 18 out of 50\n"
     ]
    },
    {
     "name": "stderr",
     "output_type": "stream",
     "text": [
      " 10%|███████████████▎                                                                                                                                                 | 95/1000 [07:17<1:10:18,  4.66s/it]"
     ]
    },
    {
     "name": "stdout",
     "output_type": "stream",
     "text": [
      "Training Loss: 0.4677940886737644\n",
      "Validation Loss: 0.8998996206692287\n",
      "Training Accuracy of the network: 84 %\n",
      "Validation Accuracy of the network: 64 %\n",
      "EarlyStopping counter: 19 out of 50\n"
     ]
    },
    {
     "name": "stderr",
     "output_type": "stream",
     "text": [
      " 10%|███████████████▍                                                                                                                                                 | 96/1000 [07:22<1:09:01,  4.58s/it]"
     ]
    },
    {
     "name": "stdout",
     "output_type": "stream",
     "text": [
      "Training Loss: 0.45998548592130345\n",
      "Validation Loss: 0.9085167126996176\n",
      "Training Accuracy of the network: 85 %\n",
      "Validation Accuracy of the network: 65 %\n",
      "EarlyStopping counter: 20 out of 50\n"
     ]
    },
    {
     "name": "stderr",
     "output_type": "stream",
     "text": [
      " 10%|███████████████▌                                                                                                                                                 | 97/1000 [07:26<1:09:08,  4.59s/it]"
     ]
    },
    {
     "name": "stdout",
     "output_type": "stream",
     "text": [
      "Training Loss: 0.4507861264805863\n",
      "Validation Loss: 0.9078015727656228\n",
      "Training Accuracy of the network: 86 %\n",
      "Validation Accuracy of the network: 63 %\n",
      "EarlyStopping counter: 21 out of 50\n"
     ]
    },
    {
     "name": "stderr",
     "output_type": "stream",
     "text": [
      " 10%|███████████████▊                                                                                                                                                 | 98/1000 [07:31<1:10:12,  4.67s/it]"
     ]
    },
    {
     "name": "stdout",
     "output_type": "stream",
     "text": [
      "Training Loss: 0.4419884622582923\n",
      "Validation Loss: 0.9020398012229375\n",
      "Training Accuracy of the network: 85 %\n",
      "Validation Accuracy of the network: 63 %\n",
      "EarlyStopping counter: 22 out of 50\n"
     ]
    },
    {
     "name": "stderr",
     "output_type": "stream",
     "text": [
      " 10%|███████████████▉                                                                                                                                                 | 99/1000 [07:36<1:11:26,  4.76s/it]"
     ]
    },
    {
     "name": "stdout",
     "output_type": "stream",
     "text": [
      "Training Loss: 0.45406366595863434\n",
      "Validation Loss: 0.903580333505358\n",
      "Training Accuracy of the network: 84 %\n",
      "Validation Accuracy of the network: 65 %\n",
      "EarlyStopping counter: 23 out of 50\n"
     ]
    },
    {
     "name": "stderr",
     "output_type": "stream",
     "text": [
      " 10%|████████████████                                                                                                                                                | 100/1000 [07:41<1:10:46,  4.72s/it]"
     ]
    },
    {
     "name": "stdout",
     "output_type": "stream",
     "text": [
      "Training Loss: 0.4613878191381261\n",
      "Validation Loss: 0.8986863485404424\n",
      "Training Accuracy of the network: 83 %\n",
      "Validation Accuracy of the network: 64 %\n",
      "EarlyStopping counter: 24 out of 50\n"
     ]
    },
    {
     "name": "stderr",
     "output_type": "stream",
     "text": [
      " 10%|████████████████▏                                                                                                                                               | 101/1000 [07:46<1:10:54,  4.73s/it]"
     ]
    },
    {
     "name": "stdout",
     "output_type": "stream",
     "text": [
      "Training Loss: 0.43701309033170127\n",
      "Validation Loss: 0.8971976918833596\n",
      "Training Accuracy of the network: 85 %\n",
      "Validation Accuracy of the network: 63 %\n",
      "EarlyStopping counter: 25 out of 50\n"
     ]
    },
    {
     "name": "stderr",
     "output_type": "stream",
     "text": [
      " 10%|████████████████▎                                                                                                                                               | 102/1000 [07:50<1:11:02,  4.75s/it]"
     ]
    },
    {
     "name": "stdout",
     "output_type": "stream",
     "text": [
      "Training Loss: 0.4388513812336369\n",
      "Validation Loss: 0.8738955770220075\n",
      "Training Accuracy of the network: 85 %\n",
      "Validation Accuracy of the network: 64 %\n",
      "Validation loss decreased (0.884453 --> 0.873896).  Saving model ...\n"
     ]
    },
    {
     "name": "stderr",
     "output_type": "stream",
     "text": [
      " 10%|████████████████▍                                                                                                                                               | 103/1000 [07:55<1:10:11,  4.70s/it]"
     ]
    },
    {
     "name": "stdout",
     "output_type": "stream",
     "text": [
      "Training Loss: 0.4444169869133528\n",
      "Validation Loss: 0.9232359332697732\n",
      "Training Accuracy of the network: 84 %\n",
      "Validation Accuracy of the network: 62 %\n",
      "EarlyStopping counter: 1 out of 50\n"
     ]
    },
    {
     "name": "stderr",
     "output_type": "stream",
     "text": [
      " 10%|████████████████▋                                                                                                                                               | 104/1000 [08:00<1:10:26,  4.72s/it]"
     ]
    },
    {
     "name": "stdout",
     "output_type": "stream",
     "text": [
      "Training Loss: 0.4370385224296563\n",
      "Validation Loss: 0.9168240300246647\n",
      "Training Accuracy of the network: 85 %\n",
      "Validation Accuracy of the network: 63 %\n",
      "EarlyStopping counter: 2 out of 50\n"
     ]
    },
    {
     "name": "stderr",
     "output_type": "stream",
     "text": [
      " 10%|████████████████▊                                                                                                                                               | 105/1000 [08:04<1:10:29,  4.73s/it]"
     ]
    },
    {
     "name": "stdout",
     "output_type": "stream",
     "text": [
      "Training Loss: 0.436133393558903\n",
      "Validation Loss: 0.8859135857650212\n",
      "Training Accuracy of the network: 84 %\n",
      "Validation Accuracy of the network: 64 %\n",
      "EarlyStopping counter: 3 out of 50\n"
     ]
    },
    {
     "name": "stderr",
     "output_type": "stream",
     "text": [
      " 11%|████████████████▉                                                                                                                                               | 106/1000 [08:09<1:10:40,  4.74s/it]"
     ]
    },
    {
     "name": "stdout",
     "output_type": "stream",
     "text": [
      "Training Loss: 0.42439575720092526\n",
      "Validation Loss: 0.8991555367197309\n",
      "Training Accuracy of the network: 85 %\n",
      "Validation Accuracy of the network: 65 %\n",
      "EarlyStopping counter: 4 out of 50\n"
     ]
    },
    {
     "name": "stderr",
     "output_type": "stream",
     "text": [
      " 11%|█████████████████                                                                                                                                               | 107/1000 [08:14<1:10:59,  4.77s/it]"
     ]
    },
    {
     "name": "stdout",
     "output_type": "stream",
     "text": [
      "Training Loss: 0.4383603522581035\n",
      "Validation Loss: 0.8929696168218341\n",
      "Training Accuracy of the network: 85 %\n",
      "Validation Accuracy of the network: 64 %\n",
      "EarlyStopping counter: 5 out of 50\n"
     ]
    },
    {
     "name": "stderr",
     "output_type": "stream",
     "text": [
      " 11%|█████████████████▎                                                                                                                                              | 108/1000 [08:19<1:11:52,  4.83s/it]"
     ]
    },
    {
     "name": "stdout",
     "output_type": "stream",
     "text": [
      "Training Loss: 0.42716211485474004\n",
      "Validation Loss: 0.9012981602123805\n",
      "Training Accuracy of the network: 85 %\n",
      "Validation Accuracy of the network: 65 %\n",
      "EarlyStopping counter: 6 out of 50\n"
     ]
    },
    {
     "name": "stderr",
     "output_type": "stream",
     "text": [
      " 11%|█████████████████▍                                                                                                                                              | 109/1000 [08:24<1:11:37,  4.82s/it]"
     ]
    },
    {
     "name": "stdout",
     "output_type": "stream",
     "text": [
      "Training Loss: 0.41483338074623677\n",
      "Validation Loss: 0.9078984609672002\n",
      "Training Accuracy of the network: 86 %\n",
      "Validation Accuracy of the network: 64 %\n",
      "EarlyStopping counter: 7 out of 50\n"
     ]
    },
    {
     "name": "stderr",
     "output_type": "stream",
     "text": [
      " 11%|█████████████████▌                                                                                                                                              | 110/1000 [08:28<1:10:04,  4.72s/it]"
     ]
    },
    {
     "name": "stdout",
     "output_type": "stream",
     "text": [
      "Training Loss: 0.43023680317876994\n",
      "Validation Loss: 0.91624579003879\n",
      "Training Accuracy of the network: 86 %\n",
      "Validation Accuracy of the network: 64 %\n",
      "EarlyStopping counter: 8 out of 50\n"
     ]
    },
    {
     "name": "stderr",
     "output_type": "stream",
     "text": [
      " 11%|█████████████████▊                                                                                                                                              | 111/1000 [08:33<1:08:27,  4.62s/it]"
     ]
    },
    {
     "name": "stdout",
     "output_type": "stream",
     "text": [
      "Training Loss: 0.43492787109984865\n",
      "Validation Loss: 0.9061402286802019\n",
      "Training Accuracy of the network: 86 %\n",
      "Validation Accuracy of the network: 64 %\n",
      "EarlyStopping counter: 9 out of 50\n"
     ]
    },
    {
     "name": "stderr",
     "output_type": "stream",
     "text": [
      " 11%|█████████████████▉                                                                                                                                              | 112/1000 [08:38<1:09:03,  4.67s/it]"
     ]
    },
    {
     "name": "stdout",
     "output_type": "stream",
     "text": [
      "Training Loss: 0.42262100228580873\n",
      "Validation Loss: 0.9119307884148189\n",
      "Training Accuracy of the network: 85 %\n",
      "Validation Accuracy of the network: 64 %\n",
      "EarlyStopping counter: 10 out of 50\n"
     ]
    },
    {
     "name": "stderr",
     "output_type": "stream",
     "text": [
      " 11%|██████████████████                                                                                                                                              | 113/1000 [08:42<1:09:28,  4.70s/it]"
     ]
    },
    {
     "name": "stdout",
     "output_type": "stream",
     "text": [
      "Training Loss: 0.41366975139016693\n",
      "Validation Loss: 0.8893391472952706\n",
      "Training Accuracy of the network: 85 %\n",
      "Validation Accuracy of the network: 65 %\n",
      "EarlyStopping counter: 11 out of 50\n"
     ]
    },
    {
     "name": "stderr",
     "output_type": "stream",
     "text": [
      " 11%|██████████████████▏                                                                                                                                             | 114/1000 [08:47<1:09:34,  4.71s/it]"
     ]
    },
    {
     "name": "stdout",
     "output_type": "stream",
     "text": [
      "Training Loss: 0.4062066046602052\n",
      "Validation Loss: 0.8988783861909594\n",
      "Training Accuracy of the network: 86 %\n",
      "Validation Accuracy of the network: 65 %\n",
      "EarlyStopping counter: 12 out of 50\n"
     ]
    },
    {
     "name": "stderr",
     "output_type": "stream",
     "text": [
      " 12%|██████████████████▍                                                                                                                                             | 115/1000 [08:52<1:09:52,  4.74s/it]"
     ]
    },
    {
     "name": "stdout",
     "output_type": "stream",
     "text": [
      "Training Loss: 0.3956133152317742\n",
      "Validation Loss: 0.9025162896939687\n",
      "Training Accuracy of the network: 87 %\n",
      "Validation Accuracy of the network: 66 %\n",
      "EarlyStopping counter: 13 out of 50\n"
     ]
    },
    {
     "name": "stderr",
     "output_type": "stream",
     "text": [
      " 12%|██████████████████▌                                                                                                                                             | 116/1000 [08:56<1:08:54,  4.68s/it]"
     ]
    },
    {
     "name": "stdout",
     "output_type": "stream",
     "text": [
      "Training Loss: 0.39704638708760776\n",
      "Validation Loss: 0.895169393505369\n",
      "Training Accuracy of the network: 86 %\n",
      "Validation Accuracy of the network: 64 %\n",
      "EarlyStopping counter: 14 out of 50\n"
     ]
    },
    {
     "name": "stderr",
     "output_type": "stream",
     "text": [
      " 12%|██████████████████▋                                                                                                                                             | 117/1000 [09:01<1:08:27,  4.65s/it]"
     ]
    },
    {
     "name": "stdout",
     "output_type": "stream",
     "text": [
      "Training Loss: 0.39717393346886704\n",
      "Validation Loss: 0.9047870363507952\n",
      "Training Accuracy of the network: 87 %\n",
      "Validation Accuracy of the network: 65 %\n",
      "EarlyStopping counter: 15 out of 50\n"
     ]
    },
    {
     "name": "stderr",
     "output_type": "stream",
     "text": [
      " 12%|██████████████████▉                                                                                                                                             | 118/1000 [09:05<1:06:48,  4.54s/it]"
     ]
    },
    {
     "name": "stdout",
     "output_type": "stream",
     "text": [
      "Training Loss: 0.39319478855400847\n",
      "Validation Loss: 0.9106020501681736\n",
      "Training Accuracy of the network: 87 %\n",
      "Validation Accuracy of the network: 65 %\n",
      "EarlyStopping counter: 16 out of 50\n"
     ]
    },
    {
     "name": "stderr",
     "output_type": "stream",
     "text": [
      " 12%|███████████████████                                                                                                                                             | 119/1000 [09:10<1:07:31,  4.60s/it]"
     ]
    },
    {
     "name": "stdout",
     "output_type": "stream",
     "text": [
      "Training Loss: 0.4116464958026789\n",
      "Validation Loss: 0.9179250614983695\n",
      "Training Accuracy of the network: 85 %\n",
      "Validation Accuracy of the network: 64 %\n",
      "EarlyStopping counter: 17 out of 50\n"
     ]
    },
    {
     "name": "stderr",
     "output_type": "stream",
     "text": [
      " 12%|███████████████████▏                                                                                                                                            | 120/1000 [09:15<1:07:16,  4.59s/it]"
     ]
    },
    {
     "name": "stdout",
     "output_type": "stream",
     "text": [
      "Training Loss: 0.3800716089435678\n",
      "Validation Loss: 0.9077923970563071\n",
      "Training Accuracy of the network: 88 %\n",
      "Validation Accuracy of the network: 65 %\n",
      "EarlyStopping counter: 18 out of 50\n"
     ]
    },
    {
     "name": "stderr",
     "output_type": "stream",
     "text": [
      " 12%|███████████████████▎                                                                                                                                            | 121/1000 [09:19<1:07:21,  4.60s/it]"
     ]
    },
    {
     "name": "stdout",
     "output_type": "stream",
     "text": [
      "Training Loss: 0.3940527069017939\n",
      "Validation Loss: 0.8919487876551492\n",
      "Training Accuracy of the network: 87 %\n",
      "Validation Accuracy of the network: 66 %\n",
      "EarlyStopping counter: 19 out of 50\n"
     ]
    },
    {
     "name": "stderr",
     "output_type": "stream",
     "text": [
      " 12%|███████████████████▌                                                                                                                                            | 122/1000 [09:24<1:07:01,  4.58s/it]"
     ]
    },
    {
     "name": "stdout",
     "output_type": "stream",
     "text": [
      "Training Loss: 0.38061008750852465\n",
      "Validation Loss: 0.902974677511624\n",
      "Training Accuracy of the network: 88 %\n",
      "Validation Accuracy of the network: 64 %\n",
      "EarlyStopping counter: 20 out of 50\n"
     ]
    },
    {
     "name": "stderr",
     "output_type": "stream",
     "text": [
      " 12%|███████████████████▋                                                                                                                                            | 123/1000 [09:28<1:07:17,  4.60s/it]"
     ]
    },
    {
     "name": "stdout",
     "output_type": "stream",
     "text": [
      "Training Loss: 0.39503055217041483\n",
      "Validation Loss: 0.914383961047445\n",
      "Training Accuracy of the network: 88 %\n",
      "Validation Accuracy of the network: 64 %\n",
      "EarlyStopping counter: 21 out of 50\n"
     ]
    },
    {
     "name": "stderr",
     "output_type": "stream",
     "text": [
      " 12%|███████████████████▊                                                                                                                                            | 124/1000 [09:33<1:06:56,  4.59s/it]"
     ]
    },
    {
     "name": "stdout",
     "output_type": "stream",
     "text": [
      "Training Loss: 0.3926015634467636\n",
      "Validation Loss: 0.926776898758752\n",
      "Training Accuracy of the network: 87 %\n",
      "Validation Accuracy of the network: 61 %\n",
      "EarlyStopping counter: 22 out of 50\n"
     ]
    },
    {
     "name": "stderr",
     "output_type": "stream",
     "text": [
      " 12%|████████████████████                                                                                                                                            | 125/1000 [09:38<1:07:47,  4.65s/it]"
     ]
    },
    {
     "name": "stdout",
     "output_type": "stream",
     "text": [
      "Training Loss: 0.3633593529246856\n",
      "Validation Loss: 0.9120787079845156\n",
      "Training Accuracy of the network: 88 %\n",
      "Validation Accuracy of the network: 63 %\n",
      "EarlyStopping counter: 23 out of 50\n"
     ]
    },
    {
     "name": "stderr",
     "output_type": "stream",
     "text": [
      " 13%|████████████████████▏                                                                                                                                           | 126/1000 [09:42<1:08:07,  4.68s/it]"
     ]
    },
    {
     "name": "stdout",
     "output_type": "stream",
     "text": [
      "Training Loss: 0.36676873749904876\n",
      "Validation Loss: 0.9021523232970919\n",
      "Training Accuracy of the network: 88 %\n",
      "Validation Accuracy of the network: 64 %\n",
      "EarlyStopping counter: 24 out of 50\n"
     ]
    },
    {
     "name": "stderr",
     "output_type": "stream",
     "text": [
      " 13%|████████████████████▎                                                                                                                                           | 127/1000 [09:47<1:08:59,  4.74s/it]"
     ]
    },
    {
     "name": "stdout",
     "output_type": "stream",
     "text": [
      "Training Loss: 0.36648327668291936\n",
      "Validation Loss: 0.9214118191174099\n",
      "Training Accuracy of the network: 88 %\n",
      "Validation Accuracy of the network: 64 %\n",
      "EarlyStopping counter: 25 out of 50\n"
     ]
    },
    {
     "name": "stderr",
     "output_type": "stream",
     "text": [
      " 13%|████████████████████▍                                                                                                                                           | 128/1000 [09:52<1:08:35,  4.72s/it]"
     ]
    },
    {
     "name": "stdout",
     "output_type": "stream",
     "text": [
      "Training Loss: 0.38005982647123543\n",
      "Validation Loss: 0.9313863822392054\n",
      "Training Accuracy of the network: 86 %\n",
      "Validation Accuracy of the network: 63 %\n",
      "EarlyStopping counter: 26 out of 50\n"
     ]
    },
    {
     "name": "stderr",
     "output_type": "stream",
     "text": [
      " 13%|████████████████████▋                                                                                                                                           | 129/1000 [09:57<1:08:57,  4.75s/it]"
     ]
    },
    {
     "name": "stdout",
     "output_type": "stream",
     "text": [
      "Training Loss: 0.3759831830697215\n",
      "Validation Loss: 0.9397956166948591\n",
      "Training Accuracy of the network: 87 %\n",
      "Validation Accuracy of the network: 64 %\n",
      "EarlyStopping counter: 27 out of 50\n"
     ]
    },
    {
     "name": "stderr",
     "output_type": "stream",
     "text": [
      " 13%|████████████████████▊                                                                                                                                           | 130/1000 [10:02<1:08:49,  4.75s/it]"
     ]
    },
    {
     "name": "stdout",
     "output_type": "stream",
     "text": [
      "Training Loss: 0.36192377845662227\n",
      "Validation Loss: 0.9179800174065998\n",
      "Training Accuracy of the network: 88 %\n",
      "Validation Accuracy of the network: 65 %\n",
      "EarlyStopping counter: 28 out of 50\n"
     ]
    },
    {
     "name": "stderr",
     "output_type": "stream",
     "text": [
      " 13%|████████████████████▉                                                                                                                                           | 131/1000 [10:06<1:08:00,  4.70s/it]"
     ]
    },
    {
     "name": "stdout",
     "output_type": "stream",
     "text": [
      "Training Loss: 0.359694991260767\n",
      "Validation Loss: 0.9142174954925265\n",
      "Training Accuracy of the network: 88 %\n",
      "Validation Accuracy of the network: 62 %\n",
      "EarlyStopping counter: 29 out of 50\n"
     ]
    },
    {
     "name": "stderr",
     "output_type": "stream",
     "text": [
      " 13%|█████████████████████                                                                                                                                           | 132/1000 [10:11<1:08:06,  4.71s/it]"
     ]
    },
    {
     "name": "stdout",
     "output_type": "stream",
     "text": [
      "Training Loss: 0.3622112142974916\n",
      "Validation Loss: 0.9120586671999522\n",
      "Training Accuracy of the network: 89 %\n",
      "Validation Accuracy of the network: 66 %\n",
      "EarlyStopping counter: 30 out of 50\n"
     ]
    },
    {
     "name": "stderr",
     "output_type": "stream",
     "text": [
      " 13%|█████████████████████▎                                                                                                                                          | 133/1000 [10:15<1:06:48,  4.62s/it]"
     ]
    },
    {
     "name": "stdout",
     "output_type": "stream",
     "text": [
      "Training Loss: 0.3434012030129847\n",
      "Validation Loss: 0.9280751428433827\n",
      "Training Accuracy of the network: 89 %\n",
      "Validation Accuracy of the network: 65 %\n",
      "EarlyStopping counter: 31 out of 50\n"
     ]
    },
    {
     "name": "stderr",
     "output_type": "stream",
     "text": [
      " 13%|█████████████████████▍                                                                                                                                          | 134/1000 [10:20<1:07:26,  4.67s/it]"
     ]
    },
    {
     "name": "stdout",
     "output_type": "stream",
     "text": [
      "Training Loss: 0.3792712027881888\n",
      "Validation Loss: 0.9400793637548174\n",
      "Training Accuracy of the network: 86 %\n",
      "Validation Accuracy of the network: 64 %\n",
      "EarlyStopping counter: 32 out of 50\n"
     ]
    },
    {
     "name": "stderr",
     "output_type": "stream",
     "text": [
      " 14%|█████████████████████▌                                                                                                                                          | 135/1000 [10:25<1:06:58,  4.65s/it]"
     ]
    },
    {
     "name": "stdout",
     "output_type": "stream",
     "text": [
      "Training Loss: 0.3729172207523083\n",
      "Validation Loss: 0.9629453335489545\n",
      "Training Accuracy of the network: 88 %\n",
      "Validation Accuracy of the network: 63 %\n",
      "EarlyStopping counter: 33 out of 50\n"
     ]
    },
    {
     "name": "stderr",
     "output_type": "stream",
     "text": [
      " 14%|█████████████████████▊                                                                                                                                          | 136/1000 [10:29<1:07:33,  4.69s/it]"
     ]
    },
    {
     "name": "stdout",
     "output_type": "stream",
     "text": [
      "Training Loss: 0.34770419605184294\n",
      "Validation Loss: 0.9570034078189305\n",
      "Training Accuracy of the network: 89 %\n",
      "Validation Accuracy of the network: 64 %\n",
      "EarlyStopping counter: 34 out of 50\n"
     ]
    },
    {
     "name": "stderr",
     "output_type": "stream",
     "text": [
      " 14%|█████████████████████▉                                                                                                                                          | 137/1000 [10:34<1:07:59,  4.73s/it]"
     ]
    },
    {
     "name": "stdout",
     "output_type": "stream",
     "text": [
      "Training Loss: 0.3547568322847719\n",
      "Validation Loss: 0.9489730562482561\n",
      "Training Accuracy of the network: 88 %\n",
      "Validation Accuracy of the network: 64 %\n",
      "EarlyStopping counter: 35 out of 50\n"
     ]
    },
    {
     "name": "stderr",
     "output_type": "stream",
     "text": [
      " 14%|██████████████████████                                                                                                                                          | 138/1000 [10:39<1:07:59,  4.73s/it]"
     ]
    },
    {
     "name": "stdout",
     "output_type": "stream",
     "text": [
      "Training Loss: 0.3314840206201526\n",
      "Validation Loss: 0.9656030246189662\n",
      "Training Accuracy of the network: 89 %\n",
      "Validation Accuracy of the network: 63 %\n",
      "EarlyStopping counter: 36 out of 50\n"
     ]
    },
    {
     "name": "stderr",
     "output_type": "stream",
     "text": [
      " 14%|██████████████████████▏                                                                                                                                         | 139/1000 [10:44<1:07:28,  4.70s/it]"
     ]
    },
    {
     "name": "stdout",
     "output_type": "stream",
     "text": [
      "Training Loss: 0.34642441900096077\n",
      "Validation Loss: 0.9594533405133656\n",
      "Training Accuracy of the network: 88 %\n",
      "Validation Accuracy of the network: 64 %\n",
      "EarlyStopping counter: 37 out of 50\n"
     ]
    },
    {
     "name": "stderr",
     "output_type": "stream",
     "text": [
      " 14%|██████████████████████▍                                                                                                                                         | 140/1000 [10:48<1:06:21,  4.63s/it]"
     ]
    },
    {
     "name": "stdout",
     "output_type": "stream",
     "text": [
      "Training Loss: 0.3558274082083633\n",
      "Validation Loss: 0.9342564761638641\n",
      "Training Accuracy of the network: 89 %\n",
      "Validation Accuracy of the network: 65 %\n",
      "EarlyStopping counter: 38 out of 50\n"
     ]
    },
    {
     "name": "stderr",
     "output_type": "stream",
     "text": [
      " 14%|██████████████████████▌                                                                                                                                         | 141/1000 [10:53<1:06:53,  4.67s/it]"
     ]
    },
    {
     "name": "stdout",
     "output_type": "stream",
     "text": [
      "Training Loss: 0.33872526514249435\n",
      "Validation Loss: 0.9452913965497698\n",
      "Training Accuracy of the network: 89 %\n",
      "Validation Accuracy of the network: 66 %\n",
      "EarlyStopping counter: 39 out of 50\n"
     ]
    },
    {
     "name": "stderr",
     "output_type": "stream",
     "text": [
      " 14%|██████████████████████▋                                                                                                                                         | 142/1000 [10:58<1:07:09,  4.70s/it]"
     ]
    },
    {
     "name": "stdout",
     "output_type": "stream",
     "text": [
      "Training Loss: 0.3375260425812524\n",
      "Validation Loss: 0.9743709589753832\n",
      "Training Accuracy of the network: 90 %\n",
      "Validation Accuracy of the network: 65 %\n",
      "EarlyStopping counter: 40 out of 50\n"
     ]
    },
    {
     "name": "stderr",
     "output_type": "stream",
     "text": [
      " 14%|██████████████████████▉                                                                                                                                         | 143/1000 [11:02<1:07:25,  4.72s/it]"
     ]
    },
    {
     "name": "stdout",
     "output_type": "stream",
     "text": [
      "Training Loss: 0.33771364266673726\n",
      "Validation Loss: 0.9453604349068233\n",
      "Training Accuracy of the network: 89 %\n",
      "Validation Accuracy of the network: 65 %\n",
      "EarlyStopping counter: 41 out of 50\n"
     ]
    },
    {
     "name": "stderr",
     "output_type": "stream",
     "text": [
      " 14%|███████████████████████                                                                                                                                         | 144/1000 [11:07<1:07:59,  4.77s/it]"
     ]
    },
    {
     "name": "stdout",
     "output_type": "stream",
     "text": [
      "Training Loss: 0.3400280400030855\n",
      "Validation Loss: 0.973680226291929\n",
      "Training Accuracy of the network: 89 %\n",
      "Validation Accuracy of the network: 62 %\n",
      "EarlyStopping counter: 42 out of 50\n"
     ]
    },
    {
     "name": "stderr",
     "output_type": "stream",
     "text": [
      " 14%|███████████████████████▏                                                                                                                                        | 145/1000 [11:12<1:07:53,  4.76s/it]"
     ]
    },
    {
     "name": "stdout",
     "output_type": "stream",
     "text": [
      "Training Loss: 0.3516032237937485\n",
      "Validation Loss: 0.9730042576789856\n",
      "Training Accuracy of the network: 88 %\n",
      "Validation Accuracy of the network: 64 %\n",
      "EarlyStopping counter: 43 out of 50\n"
     ]
    },
    {
     "name": "stderr",
     "output_type": "stream",
     "text": [
      " 15%|███████████████████████▎                                                                                                                                        | 146/1000 [11:17<1:07:17,  4.73s/it]"
     ]
    },
    {
     "name": "stdout",
     "output_type": "stream",
     "text": [
      "Training Loss: 0.3423179968435695\n",
      "Validation Loss: 0.982127388886043\n",
      "Training Accuracy of the network: 89 %\n",
      "Validation Accuracy of the network: 63 %\n",
      "EarlyStopping counter: 44 out of 50\n"
     ]
    },
    {
     "name": "stderr",
     "output_type": "stream",
     "text": [
      " 15%|███████████████████████▌                                                                                                                                        | 147/1000 [11:21<1:06:26,  4.67s/it]"
     ]
    },
    {
     "name": "stdout",
     "output_type": "stream",
     "text": [
      "Training Loss: 0.3271981057967397\n",
      "Validation Loss: 0.9833271384239197\n",
      "Training Accuracy of the network: 89 %\n",
      "Validation Accuracy of the network: 63 %\n",
      "EarlyStopping counter: 45 out of 50\n"
     ]
    },
    {
     "name": "stderr",
     "output_type": "stream",
     "text": [
      " 15%|███████████████████████▋                                                                                                                                        | 148/1000 [11:26<1:06:06,  4.66s/it]"
     ]
    },
    {
     "name": "stdout",
     "output_type": "stream",
     "text": [
      "Training Loss: 0.33926524435156497\n",
      "Validation Loss: 0.9955576236758913\n",
      "Training Accuracy of the network: 89 %\n",
      "Validation Accuracy of the network: 62 %\n",
      "EarlyStopping counter: 46 out of 50\n"
     ]
    },
    {
     "name": "stderr",
     "output_type": "stream",
     "text": [
      " 15%|███████████████████████▊                                                                                                                                        | 149/1000 [11:31<1:06:28,  4.69s/it]"
     ]
    },
    {
     "name": "stdout",
     "output_type": "stream",
     "text": [
      "Training Loss: 0.34451963020947535\n",
      "Validation Loss: 1.0040802116904939\n",
      "Training Accuracy of the network: 89 %\n",
      "Validation Accuracy of the network: 62 %\n",
      "EarlyStopping counter: 47 out of 50\n"
     ]
    },
    {
     "name": "stderr",
     "output_type": "stream",
     "text": [
      " 15%|████████████████████████                                                                                                                                        | 150/1000 [11:35<1:05:39,  4.63s/it]"
     ]
    },
    {
     "name": "stdout",
     "output_type": "stream",
     "text": [
      "Training Loss: 0.3515045487092457\n",
      "Validation Loss: 0.9605136492422649\n",
      "Training Accuracy of the network: 88 %\n",
      "Validation Accuracy of the network: 63 %\n",
      "EarlyStopping counter: 48 out of 50\n"
     ]
    },
    {
     "name": "stderr",
     "output_type": "stream",
     "text": [
      " 15%|████████████████████████▏                                                                                                                                       | 151/1000 [11:40<1:05:18,  4.62s/it]"
     ]
    },
    {
     "name": "stdout",
     "output_type": "stream",
     "text": [
      "Training Loss: 0.32374382909873256\n",
      "Validation Loss: 0.974630171912057\n",
      "Training Accuracy of the network: 89 %\n",
      "Validation Accuracy of the network: 64 %\n",
      "EarlyStopping counter: 49 out of 50\n"
     ]
    },
    {
     "name": "stderr",
     "output_type": "stream",
     "text": [
      " 15%|████████████████████████▏                                                                                                                                       | 151/1000 [11:45<1:06:04,  4.67s/it]\n"
     ]
    },
    {
     "name": "stdout",
     "output_type": "stream",
     "text": [
      "Training Loss: 0.33724619221428165\n",
      "Validation Loss: 0.9603202087538583\n",
      "Training Accuracy of the network: 89 %\n",
      "Validation Accuracy of the network: 66 %\n",
      "EarlyStopping counter: 50 out of 50\n",
      "Early Stopping\n"
     ]
    },
    {
     "name": "stderr",
     "output_type": "stream",
     "text": [
      "100%|███████████████████████████████████████████████████████████████████████████████████████████████████████████████████████████████████████████████████████████████████████| 1/1 [00:00<00:00,  6.13it/s]\n"
     ]
    },
    {
     "name": "stdout",
     "output_type": "stream",
     "text": [
      "Extra Training Loss: 1.741702532539001\n",
      "Extra Training Accuracy of the network: 38 %\n",
      "Extra Testing Loss: 1.3282326459884644\n",
      "Extra Testing Accuracy of the network: 43 %\n"
     ]
    },
    {
     "name": "stderr",
     "output_type": "stream",
     "text": [
      "  0%|▏                                                                                                                                                                 | 1/1000 [00:04<1:20:42,  4.85s/it]"
     ]
    },
    {
     "name": "stdout",
     "output_type": "stream",
     "text": [
      "Training Loss: 1.602346272572227\n",
      "Validation Loss: 1.4206058365958079\n",
      "Training Accuracy of the network: 22 %\n",
      "Validation Accuracy of the network: 26 %\n",
      "Validation loss decreased (inf --> 1.420606).  Saving model ...\n"
     ]
    },
    {
     "name": "stderr",
     "output_type": "stream",
     "text": [
      "  0%|▎                                                                                                                                                                 | 2/1000 [00:09<1:16:49,  4.62s/it]"
     ]
    },
    {
     "name": "stdout",
     "output_type": "stream",
     "text": [
      "Training Loss: 1.5338945812073306\n",
      "Validation Loss: 1.4144483055387225\n",
      "Training Accuracy of the network: 25 %\n",
      "Validation Accuracy of the network: 25 %\n",
      "Validation loss decreased (1.420606 --> 1.414448).  Saving model ...\n"
     ]
    },
    {
     "name": "stderr",
     "output_type": "stream",
     "text": [
      "  0%|▍                                                                                                                                                                 | 3/1000 [00:14<1:17:55,  4.69s/it]"
     ]
    },
    {
     "name": "stdout",
     "output_type": "stream",
     "text": [
      "Training Loss: 1.4965414456699206\n",
      "Validation Loss: 1.383505780356271\n",
      "Training Accuracy of the network: 27 %\n",
      "Validation Accuracy of the network: 27 %\n",
      "Validation loss decreased (1.414448 --> 1.383506).  Saving model ...\n"
     ]
    },
    {
     "name": "stderr",
     "output_type": "stream",
     "text": [
      "  0%|▋                                                                                                                                                                 | 4/1000 [00:18<1:18:18,  4.72s/it]"
     ]
    },
    {
     "name": "stdout",
     "output_type": "stream",
     "text": [
      "Training Loss: 1.469280653241752\n",
      "Validation Loss: 1.3688957248415266\n",
      "Training Accuracy of the network: 28 %\n",
      "Validation Accuracy of the network: 30 %\n",
      "Validation loss decreased (1.383506 --> 1.368896).  Saving model ...\n"
     ]
    },
    {
     "name": "stderr",
     "output_type": "stream",
     "text": [
      "  0%|▊                                                                                                                                                                 | 5/1000 [00:23<1:18:56,  4.76s/it]"
     ]
    },
    {
     "name": "stdout",
     "output_type": "stream",
     "text": [
      "Training Loss: 1.4241803262544714\n",
      "Validation Loss: 1.3647708824702671\n",
      "Training Accuracy of the network: 30 %\n",
      "Validation Accuracy of the network: 30 %\n",
      "Validation loss decreased (1.368896 --> 1.364771).  Saving model ...\n"
     ]
    },
    {
     "name": "stderr",
     "output_type": "stream",
     "text": [
      "  1%|▉                                                                                                                                                                 | 6/1000 [00:28<1:19:01,  4.77s/it]"
     ]
    },
    {
     "name": "stdout",
     "output_type": "stream",
     "text": [
      "Training Loss: 1.4058413661044578\n",
      "Validation Loss: 1.353381405557905\n",
      "Training Accuracy of the network: 31 %\n",
      "Validation Accuracy of the network: 30 %\n",
      "Validation loss decreased (1.364771 --> 1.353381).  Saving model ...\n"
     ]
    },
    {
     "name": "stderr",
     "output_type": "stream",
     "text": [
      "  1%|█▏                                                                                                                                                                | 7/1000 [00:32<1:17:23,  4.68s/it]"
     ]
    },
    {
     "name": "stdout",
     "output_type": "stream",
     "text": [
      "Training Loss: 1.379230908293655\n",
      "Validation Loss: 1.3404654230390276\n",
      "Training Accuracy of the network: 35 %\n",
      "Validation Accuracy of the network: 32 %\n",
      "Validation loss decreased (1.353381 --> 1.340465).  Saving model ...\n"
     ]
    },
    {
     "name": "stderr",
     "output_type": "stream",
     "text": [
      "  1%|█▎                                                                                                                                                                | 8/1000 [00:37<1:18:44,  4.76s/it]"
     ]
    },
    {
     "name": "stdout",
     "output_type": "stream",
     "text": [
      "Training Loss: 1.3494641944982004\n",
      "Validation Loss: 1.3396489654268537\n",
      "Training Accuracy of the network: 34 %\n",
      "Validation Accuracy of the network: 34 %\n",
      "Validation loss decreased (1.340465 --> 1.339649).  Saving model ...\n"
     ]
    },
    {
     "name": "stderr",
     "output_type": "stream",
     "text": [
      "  1%|█▍                                                                                                                                                                | 9/1000 [00:42<1:17:55,  4.72s/it]"
     ]
    },
    {
     "name": "stdout",
     "output_type": "stream",
     "text": [
      "Training Loss: 1.336821982394094\n",
      "Validation Loss: 1.3214674881526403\n",
      "Training Accuracy of the network: 36 %\n",
      "Validation Accuracy of the network: 33 %\n",
      "Validation loss decreased (1.339649 --> 1.321467).  Saving model ...\n"
     ]
    },
    {
     "name": "stderr",
     "output_type": "stream",
     "text": [
      "  1%|█▌                                                                                                                                                               | 10/1000 [00:47<1:18:20,  4.75s/it]"
     ]
    },
    {
     "name": "stdout",
     "output_type": "stream",
     "text": [
      "Training Loss: 1.3056632440159286\n",
      "Validation Loss: 1.316630462237767\n",
      "Training Accuracy of the network: 39 %\n",
      "Validation Accuracy of the network: 33 %\n",
      "Validation loss decreased (1.321467 --> 1.316630).  Saving model ...\n"
     ]
    },
    {
     "name": "stderr",
     "output_type": "stream",
     "text": [
      "  1%|█▊                                                                                                                                                               | 11/1000 [00:52<1:17:55,  4.73s/it]"
     ]
    },
    {
     "name": "stdout",
     "output_type": "stream",
     "text": [
      "Training Loss: 1.3104089792223945\n",
      "Validation Loss: 1.3129420586994716\n",
      "Training Accuracy of the network: 39 %\n",
      "Validation Accuracy of the network: 33 %\n",
      "Validation loss decreased (1.316630 --> 1.312942).  Saving model ...\n"
     ]
    },
    {
     "name": "stderr",
     "output_type": "stream",
     "text": [
      "  1%|█▉                                                                                                                                                               | 12/1000 [00:56<1:17:51,  4.73s/it]"
     ]
    },
    {
     "name": "stdout",
     "output_type": "stream",
     "text": [
      "Training Loss: 1.2927171281282452\n",
      "Validation Loss: 1.3061580692018782\n",
      "Training Accuracy of the network: 39 %\n",
      "Validation Accuracy of the network: 34 %\n",
      "Validation loss decreased (1.312942 --> 1.306158).  Saving model ...\n"
     ]
    },
    {
     "name": "stderr",
     "output_type": "stream",
     "text": [
      "  1%|██                                                                                                                                                               | 13/1000 [01:01<1:18:01,  4.74s/it]"
     ]
    },
    {
     "name": "stdout",
     "output_type": "stream",
     "text": [
      "Training Loss: 1.2675171593825023\n",
      "Validation Loss: 1.298909534726824\n",
      "Training Accuracy of the network: 42 %\n",
      "Validation Accuracy of the network: 34 %\n",
      "Validation loss decreased (1.306158 --> 1.298910).  Saving model ...\n"
     ]
    },
    {
     "name": "stderr",
     "output_type": "stream",
     "text": [
      "  1%|██▎                                                                                                                                                              | 14/1000 [01:06<1:17:57,  4.74s/it]"
     ]
    },
    {
     "name": "stdout",
     "output_type": "stream",
     "text": [
      "Training Loss: 1.2717947299065797\n",
      "Validation Loss: 1.2909737382616315\n",
      "Training Accuracy of the network: 41 %\n",
      "Validation Accuracy of the network: 37 %\n",
      "Validation loss decreased (1.298910 --> 1.290974).  Saving model ...\n"
     ]
    },
    {
     "name": "stderr",
     "output_type": "stream",
     "text": [
      "  2%|██▍                                                                                                                                                              | 15/1000 [01:11<1:18:15,  4.77s/it]"
     ]
    },
    {
     "name": "stdout",
     "output_type": "stream",
     "text": [
      "Training Loss: 1.2469538847605388\n",
      "Validation Loss: 1.294891721861703\n",
      "Training Accuracy of the network: 43 %\n",
      "Validation Accuracy of the network: 36 %\n",
      "EarlyStopping counter: 1 out of 50\n"
     ]
    },
    {
     "name": "stderr",
     "output_type": "stream",
     "text": [
      "  2%|██▌                                                                                                                                                              | 16/1000 [01:15<1:16:53,  4.69s/it]"
     ]
    },
    {
     "name": "stdout",
     "output_type": "stream",
     "text": [
      "Training Loss: 1.2336429508699887\n",
      "Validation Loss: 1.2922016416277204\n",
      "Training Accuracy of the network: 43 %\n",
      "Validation Accuracy of the network: 36 %\n",
      "EarlyStopping counter: 2 out of 50\n"
     ]
    },
    {
     "name": "stderr",
     "output_type": "stream",
     "text": [
      "  2%|██▋                                                                                                                                                              | 17/1000 [01:20<1:17:03,  4.70s/it]"
     ]
    },
    {
     "name": "stdout",
     "output_type": "stream",
     "text": [
      "Training Loss: 1.2246619622776473\n",
      "Validation Loss: 1.2805841582162039\n",
      "Training Accuracy of the network: 44 %\n",
      "Validation Accuracy of the network: 38 %\n",
      "Validation loss decreased (1.290974 --> 1.280584).  Saving model ...\n"
     ]
    },
    {
     "name": "stderr",
     "output_type": "stream",
     "text": [
      "  2%|██▉                                                                                                                                                              | 18/1000 [01:25<1:17:39,  4.74s/it]"
     ]
    },
    {
     "name": "stdout",
     "output_type": "stream",
     "text": [
      "Training Loss: 1.2029723753963693\n",
      "Validation Loss: 1.2691266196114677\n",
      "Training Accuracy of the network: 47 %\n",
      "Validation Accuracy of the network: 38 %\n",
      "Validation loss decreased (1.280584 --> 1.269127).  Saving model ...\n"
     ]
    },
    {
     "name": "stderr",
     "output_type": "stream",
     "text": [
      "  2%|███                                                                                                                                                              | 19/1000 [01:29<1:17:10,  4.72s/it]"
     ]
    },
    {
     "name": "stdout",
     "output_type": "stream",
     "text": [
      "Training Loss: 1.1866594017415806\n",
      "Validation Loss: 1.2697217634746008\n",
      "Training Accuracy of the network: 49 %\n",
      "Validation Accuracy of the network: 38 %\n",
      "EarlyStopping counter: 1 out of 50\n"
     ]
    },
    {
     "name": "stderr",
     "output_type": "stream",
     "text": [
      "  2%|███▏                                                                                                                                                             | 20/1000 [01:34<1:15:59,  4.65s/it]"
     ]
    },
    {
     "name": "stdout",
     "output_type": "stream",
     "text": [
      "Training Loss: 1.1667313282040581\n",
      "Validation Loss: 1.2554393121174403\n",
      "Training Accuracy of the network: 49 %\n",
      "Validation Accuracy of the network: 40 %\n",
      "Validation loss decreased (1.269127 --> 1.255439).  Saving model ...\n"
     ]
    },
    {
     "name": "stderr",
     "output_type": "stream",
     "text": [
      "  2%|███▍                                                                                                                                                             | 21/1000 [01:39<1:16:43,  4.70s/it]"
     ]
    },
    {
     "name": "stdout",
     "output_type": "stream",
     "text": [
      "Training Loss: 1.1702625898347385\n",
      "Validation Loss: 1.254856709071568\n",
      "Training Accuracy of the network: 50 %\n",
      "Validation Accuracy of the network: 39 %\n",
      "Validation loss decreased (1.255439 --> 1.254857).  Saving model ...\n"
     ]
    },
    {
     "name": "stderr",
     "output_type": "stream",
     "text": [
      "  2%|███▌                                                                                                                                                             | 22/1000 [01:43<1:16:22,  4.69s/it]"
     ]
    },
    {
     "name": "stdout",
     "output_type": "stream",
     "text": [
      "Training Loss: 1.14149746860283\n",
      "Validation Loss: 1.248419659478324\n",
      "Training Accuracy of the network: 52 %\n",
      "Validation Accuracy of the network: 41 %\n",
      "Validation loss decreased (1.254857 --> 1.248420).  Saving model ...\n"
     ]
    },
    {
     "name": "stderr",
     "output_type": "stream",
     "text": [
      "  2%|███▋                                                                                                                                                             | 23/1000 [01:48<1:15:46,  4.65s/it]"
     ]
    },
    {
     "name": "stdout",
     "output_type": "stream",
     "text": [
      "Training Loss: 1.1270890676456948\n",
      "Validation Loss: 1.2455826827457972\n",
      "Training Accuracy of the network: 52 %\n",
      "Validation Accuracy of the network: 40 %\n",
      "Validation loss decreased (1.248420 --> 1.245583).  Saving model ...\n"
     ]
    },
    {
     "name": "stderr",
     "output_type": "stream",
     "text": [
      "  2%|███▊                                                                                                                                                             | 24/1000 [01:52<1:14:38,  4.59s/it]"
     ]
    },
    {
     "name": "stdout",
     "output_type": "stream",
     "text": [
      "Training Loss: 1.1275233717068383\n",
      "Validation Loss: 1.2470570615359715\n",
      "Training Accuracy of the network: 52 %\n",
      "Validation Accuracy of the network: 40 %\n",
      "EarlyStopping counter: 1 out of 50\n"
     ]
    },
    {
     "name": "stderr",
     "output_type": "stream",
     "text": [
      "  2%|████                                                                                                                                                             | 25/1000 [01:57<1:16:08,  4.69s/it]"
     ]
    },
    {
     "name": "stdout",
     "output_type": "stream",
     "text": [
      "Training Loss: 1.1065700585427491\n",
      "Validation Loss: 1.2295182142938887\n",
      "Training Accuracy of the network: 53 %\n",
      "Validation Accuracy of the network: 41 %\n",
      "Validation loss decreased (1.245583 --> 1.229518).  Saving model ...\n"
     ]
    },
    {
     "name": "stderr",
     "output_type": "stream",
     "text": [
      "  3%|████▏                                                                                                                                                            | 26/1000 [02:02<1:16:53,  4.74s/it]"
     ]
    },
    {
     "name": "stdout",
     "output_type": "stream",
     "text": [
      "Training Loss: 1.0901331702868144\n",
      "Validation Loss: 1.232517783982413\n",
      "Training Accuracy of the network: 53 %\n",
      "Validation Accuracy of the network: 41 %\n",
      "EarlyStopping counter: 1 out of 50\n"
     ]
    },
    {
     "name": "stderr",
     "output_type": "stream",
     "text": [
      "  3%|████▎                                                                                                                                                            | 27/1000 [02:07<1:17:40,  4.79s/it]"
     ]
    },
    {
     "name": "stdout",
     "output_type": "stream",
     "text": [
      "Training Loss: 1.0869578609000081\n",
      "Validation Loss: 1.206835355077471\n",
      "Training Accuracy of the network: 55 %\n",
      "Validation Accuracy of the network: 44 %\n",
      "Validation loss decreased (1.229518 --> 1.206835).  Saving model ...\n"
     ]
    },
    {
     "name": "stderr",
     "output_type": "stream",
     "text": [
      "  3%|████▌                                                                                                                                                            | 28/1000 [02:11<1:16:01,  4.69s/it]"
     ]
    },
    {
     "name": "stdout",
     "output_type": "stream",
     "text": [
      "Training Loss: 1.0641513671995937\n",
      "Validation Loss: 1.2005559154919216\n",
      "Training Accuracy of the network: 57 %\n",
      "Validation Accuracy of the network: 44 %\n",
      "Validation loss decreased (1.206835 --> 1.200556).  Saving model ...\n"
     ]
    },
    {
     "name": "stderr",
     "output_type": "stream",
     "text": [
      "  3%|████▋                                                                                                                                                            | 29/1000 [02:16<1:15:06,  4.64s/it]"
     ]
    },
    {
     "name": "stdout",
     "output_type": "stream",
     "text": [
      "Training Loss: 1.0368484038373698\n",
      "Validation Loss: 1.1988182255199977\n",
      "Training Accuracy of the network: 57 %\n",
      "Validation Accuracy of the network: 44 %\n",
      "Validation loss decreased (1.200556 --> 1.198818).  Saving model ...\n"
     ]
    },
    {
     "name": "stderr",
     "output_type": "stream",
     "text": [
      "  3%|████▊                                                                                                                                                            | 30/1000 [02:21<1:15:43,  4.68s/it]"
     ]
    },
    {
     "name": "stdout",
     "output_type": "stream",
     "text": [
      "Training Loss: 1.0321883487960566\n",
      "Validation Loss: 1.1959387540817261\n",
      "Training Accuracy of the network: 58 %\n",
      "Validation Accuracy of the network: 42 %\n",
      "Validation loss decreased (1.198818 --> 1.195939).  Saving model ...\n"
     ]
    },
    {
     "name": "stderr",
     "output_type": "stream",
     "text": [
      "  3%|████▉                                                                                                                                                            | 31/1000 [02:25<1:15:43,  4.69s/it]"
     ]
    },
    {
     "name": "stdout",
     "output_type": "stream",
     "text": [
      "Training Loss: 1.0118922770455263\n",
      "Validation Loss: 1.1872570395469666\n",
      "Training Accuracy of the network: 59 %\n",
      "Validation Accuracy of the network: 45 %\n",
      "Validation loss decreased (1.195939 --> 1.187257).  Saving model ...\n"
     ]
    },
    {
     "name": "stderr",
     "output_type": "stream",
     "text": [
      "  3%|█████▏                                                                                                                                                           | 32/1000 [02:30<1:16:39,  4.75s/it]"
     ]
    },
    {
     "name": "stdout",
     "output_type": "stream",
     "text": [
      "Training Loss: 1.00780686714511\n",
      "Validation Loss: 1.1737019198281424\n",
      "Training Accuracy of the network: 59 %\n",
      "Validation Accuracy of the network: 45 %\n",
      "Validation loss decreased (1.187257 --> 1.173702).  Saving model ...\n"
     ]
    },
    {
     "name": "stderr",
     "output_type": "stream",
     "text": [
      "  3%|█████▎                                                                                                                                                           | 33/1000 [02:35<1:16:34,  4.75s/it]"
     ]
    },
    {
     "name": "stdout",
     "output_type": "stream",
     "text": [
      "Training Loss: 0.978792200917783\n",
      "Validation Loss: 1.1657559650284903\n",
      "Training Accuracy of the network: 62 %\n",
      "Validation Accuracy of the network: 45 %\n",
      "Validation loss decreased (1.173702 --> 1.165756).  Saving model ...\n"
     ]
    },
    {
     "name": "stderr",
     "output_type": "stream",
     "text": [
      "  3%|█████▍                                                                                                                                                           | 34/1000 [02:40<1:16:08,  4.73s/it]"
     ]
    },
    {
     "name": "stdout",
     "output_type": "stream",
     "text": [
      "Training Loss: 0.9781743506158608\n",
      "Validation Loss: 1.1601725901876176\n",
      "Training Accuracy of the network: 62 %\n",
      "Validation Accuracy of the network: 45 %\n",
      "Validation loss decreased (1.165756 --> 1.160173).  Saving model ...\n"
     ]
    },
    {
     "name": "stderr",
     "output_type": "stream",
     "text": [
      "  4%|█████▋                                                                                                                                                           | 35/1000 [02:45<1:16:26,  4.75s/it]"
     ]
    },
    {
     "name": "stdout",
     "output_type": "stream",
     "text": [
      "Training Loss: 0.9607437974300937\n",
      "Validation Loss: 1.1625925438744682\n",
      "Training Accuracy of the network: 63 %\n",
      "Validation Accuracy of the network: 48 %\n",
      "EarlyStopping counter: 1 out of 50\n"
     ]
    },
    {
     "name": "stderr",
     "output_type": "stream",
     "text": [
      "  4%|█████▊                                                                                                                                                           | 36/1000 [02:49<1:16:10,  4.74s/it]"
     ]
    },
    {
     "name": "stdout",
     "output_type": "stream",
     "text": [
      "Training Loss: 0.9492780734663424\n",
      "Validation Loss: 1.157177196230207\n",
      "Training Accuracy of the network: 63 %\n",
      "Validation Accuracy of the network: 47 %\n",
      "Validation loss decreased (1.160173 --> 1.157177).  Saving model ...\n"
     ]
    },
    {
     "name": "stderr",
     "output_type": "stream",
     "text": [
      "  4%|█████▉                                                                                                                                                           | 37/1000 [02:54<1:16:39,  4.78s/it]"
     ]
    },
    {
     "name": "stdout",
     "output_type": "stream",
     "text": [
      "Training Loss: 0.9337775501004164\n",
      "Validation Loss: 1.15054851770401\n",
      "Training Accuracy of the network: 64 %\n",
      "Validation Accuracy of the network: 47 %\n",
      "Validation loss decreased (1.157177 --> 1.150549).  Saving model ...\n"
     ]
    },
    {
     "name": "stderr",
     "output_type": "stream",
     "text": [
      "  4%|██████                                                                                                                                                           | 38/1000 [02:59<1:16:26,  4.77s/it]"
     ]
    },
    {
     "name": "stdout",
     "output_type": "stream",
     "text": [
      "Training Loss: 0.9172622740700624\n",
      "Validation Loss: 1.1476560235023499\n",
      "Training Accuracy of the network: 63 %\n",
      "Validation Accuracy of the network: 51 %\n",
      "Validation loss decreased (1.150549 --> 1.147656).  Saving model ...\n"
     ]
    },
    {
     "name": "stderr",
     "output_type": "stream",
     "text": [
      "  4%|██████▎                                                                                                                                                          | 39/1000 [03:04<1:16:04,  4.75s/it]"
     ]
    },
    {
     "name": "stdout",
     "output_type": "stream",
     "text": [
      "Training Loss: 0.9127505037231721\n",
      "Validation Loss: 1.1576131582260132\n",
      "Training Accuracy of the network: 64 %\n",
      "Validation Accuracy of the network: 46 %\n",
      "EarlyStopping counter: 1 out of 50\n"
     ]
    },
    {
     "name": "stderr",
     "output_type": "stream",
     "text": [
      "  4%|██████▍                                                                                                                                                          | 40/1000 [03:08<1:14:45,  4.67s/it]"
     ]
    },
    {
     "name": "stdout",
     "output_type": "stream",
     "text": [
      "Training Loss: 0.9018500272346579\n",
      "Validation Loss: 1.1568174413272312\n",
      "Training Accuracy of the network: 66 %\n",
      "Validation Accuracy of the network: 49 %\n",
      "EarlyStopping counter: 2 out of 50\n"
     ]
    },
    {
     "name": "stderr",
     "output_type": "stream",
     "text": [
      "  4%|██████▌                                                                                                                                                          | 41/1000 [03:13<1:14:39,  4.67s/it]"
     ]
    },
    {
     "name": "stdout",
     "output_type": "stream",
     "text": [
      "Training Loss: 0.8891320928283359\n",
      "Validation Loss: 1.14460917030062\n",
      "Training Accuracy of the network: 66 %\n",
      "Validation Accuracy of the network: 49 %\n",
      "Validation loss decreased (1.147656 --> 1.144609).  Saving model ...\n"
     ]
    },
    {
     "name": "stderr",
     "output_type": "stream",
     "text": [
      "  4%|██████▊                                                                                                                                                          | 42/1000 [03:17<1:14:20,  4.66s/it]"
     ]
    },
    {
     "name": "stdout",
     "output_type": "stream",
     "text": [
      "Training Loss: 0.8645846051150474\n",
      "Validation Loss: 1.117058961732047\n",
      "Training Accuracy of the network: 68 %\n",
      "Validation Accuracy of the network: 49 %\n",
      "Validation loss decreased (1.144609 --> 1.117059).  Saving model ...\n"
     ]
    },
    {
     "name": "stderr",
     "output_type": "stream",
     "text": [
      "  4%|██████▉                                                                                                                                                          | 43/1000 [03:22<1:12:54,  4.57s/it]"
     ]
    },
    {
     "name": "stdout",
     "output_type": "stream",
     "text": [
      "Training Loss: 0.8491880483385446\n",
      "Validation Loss: 1.1300938844680786\n",
      "Training Accuracy of the network: 67 %\n",
      "Validation Accuracy of the network: 49 %\n",
      "EarlyStopping counter: 1 out of 50\n"
     ]
    },
    {
     "name": "stderr",
     "output_type": "stream",
     "text": [
      "  4%|███████                                                                                                                                                          | 44/1000 [03:27<1:13:34,  4.62s/it]"
     ]
    },
    {
     "name": "stdout",
     "output_type": "stream",
     "text": [
      "Training Loss: 0.848301744007546\n",
      "Validation Loss: 1.1281227094786508\n",
      "Training Accuracy of the network: 68 %\n",
      "Validation Accuracy of the network: 48 %\n",
      "EarlyStopping counter: 2 out of 50\n"
     ]
    },
    {
     "name": "stderr",
     "output_type": "stream",
     "text": [
      "  4%|███████▏                                                                                                                                                         | 45/1000 [03:31<1:14:23,  4.67s/it]"
     ]
    },
    {
     "name": "stdout",
     "output_type": "stream",
     "text": [
      "Training Loss: 0.8284445916828902\n",
      "Validation Loss: 1.1323743496622358\n",
      "Training Accuracy of the network: 69 %\n",
      "Validation Accuracy of the network: 49 %\n",
      "EarlyStopping counter: 3 out of 50\n"
     ]
    },
    {
     "name": "stderr",
     "output_type": "stream",
     "text": [
      "  5%|███████▍                                                                                                                                                         | 46/1000 [03:36<1:13:36,  4.63s/it]"
     ]
    },
    {
     "name": "stdout",
     "output_type": "stream",
     "text": [
      "Training Loss: 0.8070025346849276\n",
      "Validation Loss: 1.1099842292921884\n",
      "Training Accuracy of the network: 69 %\n",
      "Validation Accuracy of the network: 49 %\n",
      "Validation loss decreased (1.117059 --> 1.109984).  Saving model ...\n"
     ]
    },
    {
     "name": "stderr",
     "output_type": "stream",
     "text": [
      "  5%|███████▌                                                                                                                                                         | 47/1000 [03:41<1:13:59,  4.66s/it]"
     ]
    },
    {
     "name": "stdout",
     "output_type": "stream",
     "text": [
      "Training Loss: 0.8055714685739814\n",
      "Validation Loss: 1.1193919335092817\n",
      "Training Accuracy of the network: 69 %\n",
      "Validation Accuracy of the network: 49 %\n",
      "EarlyStopping counter: 1 out of 50\n"
     ]
    },
    {
     "name": "stderr",
     "output_type": "stream",
     "text": [
      "  5%|███████▋                                                                                                                                                         | 48/1000 [03:45<1:14:28,  4.69s/it]"
     ]
    },
    {
     "name": "stdout",
     "output_type": "stream",
     "text": [
      "Training Loss: 0.8064444549381733\n",
      "Validation Loss: 1.1103941627911158\n",
      "Training Accuracy of the network: 68 %\n",
      "Validation Accuracy of the network: 49 %\n",
      "EarlyStopping counter: 2 out of 50\n"
     ]
    },
    {
     "name": "stderr",
     "output_type": "stream",
     "text": [
      "  5%|███████▉                                                                                                                                                         | 49/1000 [03:50<1:14:56,  4.73s/it]"
     ]
    },
    {
     "name": "stdout",
     "output_type": "stream",
     "text": [
      "Training Loss: 0.8056215883057186\n",
      "Validation Loss: 1.1192117350442068\n",
      "Training Accuracy of the network: 69 %\n",
      "Validation Accuracy of the network: 49 %\n",
      "EarlyStopping counter: 3 out of 50\n"
     ]
    },
    {
     "name": "stderr",
     "output_type": "stream",
     "text": [
      "  5%|████████                                                                                                                                                         | 50/1000 [03:55<1:15:42,  4.78s/it]"
     ]
    },
    {
     "name": "stdout",
     "output_type": "stream",
     "text": [
      "Training Loss: 0.7829334165738977\n",
      "Validation Loss: 1.1024773206029619\n",
      "Training Accuracy of the network: 69 %\n",
      "Validation Accuracy of the network: 51 %\n",
      "Validation loss decreased (1.109984 --> 1.102477).  Saving model ...\n"
     ]
    },
    {
     "name": "stderr",
     "output_type": "stream",
     "text": [
      "  5%|████████▏                                                                                                                                                        | 51/1000 [04:00<1:15:01,  4.74s/it]"
     ]
    },
    {
     "name": "stdout",
     "output_type": "stream",
     "text": [
      "Training Loss: 0.7735076359864594\n",
      "Validation Loss: 1.107222945349557\n",
      "Training Accuracy of the network: 71 %\n",
      "Validation Accuracy of the network: 49 %\n",
      "EarlyStopping counter: 1 out of 50\n"
     ]
    },
    {
     "name": "stderr",
     "output_type": "stream",
     "text": [
      "  5%|████████▎                                                                                                                                                        | 52/1000 [04:04<1:14:26,  4.71s/it]"
     ]
    },
    {
     "name": "stdout",
     "output_type": "stream",
     "text": [
      "Training Loss: 0.7746822041445884\n",
      "Validation Loss: 1.1083384820393154\n",
      "Training Accuracy of the network: 71 %\n",
      "Validation Accuracy of the network: 50 %\n",
      "EarlyStopping counter: 2 out of 50\n"
     ]
    },
    {
     "name": "stderr",
     "output_type": "stream",
     "text": [
      "  5%|████████▌                                                                                                                                                        | 53/1000 [04:09<1:12:06,  4.57s/it]"
     ]
    },
    {
     "name": "stdout",
     "output_type": "stream",
     "text": [
      "Training Loss: 0.7563382985367291\n",
      "Validation Loss: 1.105927656378065\n",
      "Training Accuracy of the network: 71 %\n",
      "Validation Accuracy of the network: 50 %\n",
      "EarlyStopping counter: 3 out of 50\n"
     ]
    },
    {
     "name": "stderr",
     "output_type": "stream",
     "text": [
      "  5%|████████▋                                                                                                                                                        | 54/1000 [04:13<1:12:32,  4.60s/it]"
     ]
    },
    {
     "name": "stdout",
     "output_type": "stream",
     "text": [
      "Training Loss: 0.7558689839274123\n",
      "Validation Loss: 1.106181459767478\n",
      "Training Accuracy of the network: 72 %\n",
      "Validation Accuracy of the network: 50 %\n",
      "EarlyStopping counter: 4 out of 50\n"
     ]
    },
    {
     "name": "stderr",
     "output_type": "stream",
     "text": [
      "  6%|████████▊                                                                                                                                                        | 55/1000 [04:18<1:13:00,  4.64s/it]"
     ]
    },
    {
     "name": "stdout",
     "output_type": "stream",
     "text": [
      "Training Loss: 0.7374751418828964\n",
      "Validation Loss: 1.090516119343894\n",
      "Training Accuracy of the network: 72 %\n",
      "Validation Accuracy of the network: 52 %\n",
      "Validation loss decreased (1.102477 --> 1.090516).  Saving model ...\n"
     ]
    },
    {
     "name": "stderr",
     "output_type": "stream",
     "text": [
      "  6%|█████████                                                                                                                                                        | 56/1000 [04:23<1:14:35,  4.74s/it]"
     ]
    },
    {
     "name": "stdout",
     "output_type": "stream",
     "text": [
      "Training Loss: 0.7377371330192124\n",
      "Validation Loss: 1.084770723751613\n",
      "Training Accuracy of the network: 73 %\n",
      "Validation Accuracy of the network: 52 %\n",
      "Validation loss decreased (1.090516 --> 1.084771).  Saving model ...\n"
     ]
    },
    {
     "name": "stderr",
     "output_type": "stream",
     "text": [
      "  6%|█████████▏                                                                                                                                                       | 57/1000 [04:28<1:15:02,  4.77s/it]"
     ]
    },
    {
     "name": "stdout",
     "output_type": "stream",
     "text": [
      "Training Loss: 0.7183290206003881\n",
      "Validation Loss: 1.092991840839386\n",
      "Training Accuracy of the network: 73 %\n",
      "Validation Accuracy of the network: 51 %\n",
      "EarlyStopping counter: 1 out of 50\n"
     ]
    },
    {
     "name": "stderr",
     "output_type": "stream",
     "text": [
      "  6%|█████████▎                                                                                                                                                       | 58/1000 [04:33<1:15:06,  4.78s/it]"
     ]
    },
    {
     "name": "stdout",
     "output_type": "stream",
     "text": [
      "Training Loss: 0.7291074329312297\n",
      "Validation Loss: 1.109672052519662\n",
      "Training Accuracy of the network: 74 %\n",
      "Validation Accuracy of the network: 50 %\n",
      "EarlyStopping counter: 2 out of 50\n"
     ]
    },
    {
     "name": "stderr",
     "output_type": "stream",
     "text": [
      "  6%|█████████▍                                                                                                                                                       | 59/1000 [04:37<1:14:43,  4.76s/it]"
     ]
    },
    {
     "name": "stdout",
     "output_type": "stream",
     "text": [
      "Training Loss: 0.7022994572053785\n",
      "Validation Loss: 1.10067446742739\n",
      "Training Accuracy of the network: 72 %\n",
      "Validation Accuracy of the network: 49 %\n",
      "EarlyStopping counter: 3 out of 50\n"
     ]
    },
    {
     "name": "stderr",
     "output_type": "stream",
     "text": [
      "  6%|█████████▋                                                                                                                                                       | 60/1000 [04:42<1:14:14,  4.74s/it]"
     ]
    },
    {
     "name": "stdout",
     "output_type": "stream",
     "text": [
      "Training Loss: 0.6939157488877359\n",
      "Validation Loss: 1.1138935497828892\n",
      "Training Accuracy of the network: 75 %\n",
      "Validation Accuracy of the network: 50 %\n",
      "EarlyStopping counter: 4 out of 50\n"
     ]
    },
    {
     "name": "stderr",
     "output_type": "stream",
     "text": [
      "  6%|█████████▊                                                                                                                                                       | 61/1000 [04:46<1:12:33,  4.64s/it]"
     ]
    },
    {
     "name": "stdout",
     "output_type": "stream",
     "text": [
      "Training Loss: 0.7020920710233243\n",
      "Validation Loss: 1.0981946110725402\n",
      "Training Accuracy of the network: 75 %\n",
      "Validation Accuracy of the network: 50 %\n",
      "EarlyStopping counter: 5 out of 50\n"
     ]
    },
    {
     "name": "stderr",
     "output_type": "stream",
     "text": [
      "  6%|█████████▉                                                                                                                                                       | 62/1000 [04:51<1:12:22,  4.63s/it]"
     ]
    },
    {
     "name": "stdout",
     "output_type": "stream",
     "text": [
      "Training Loss: 0.6806134853674017\n",
      "Validation Loss: 1.0858979208128794\n",
      "Training Accuracy of the network: 76 %\n",
      "Validation Accuracy of the network: 52 %\n",
      "EarlyStopping counter: 6 out of 50\n"
     ]
    },
    {
     "name": "stderr",
     "output_type": "stream",
     "text": [
      "  6%|██████████▏                                                                                                                                                      | 63/1000 [04:56<1:12:23,  4.64s/it]"
     ]
    },
    {
     "name": "stdout",
     "output_type": "stream",
     "text": [
      "Training Loss: 0.6777485519971537\n",
      "Validation Loss: 1.0883546216147286\n",
      "Training Accuracy of the network: 76 %\n",
      "Validation Accuracy of the network: 51 %\n",
      "EarlyStopping counter: 7 out of 50\n"
     ]
    },
    {
     "name": "stderr",
     "output_type": "stream",
     "text": [
      "  6%|██████████▎                                                                                                                                                      | 64/1000 [05:00<1:12:26,  4.64s/it]"
     ]
    },
    {
     "name": "stdout",
     "output_type": "stream",
     "text": [
      "Training Loss: 0.6806099073070547\n",
      "Validation Loss: 1.0885382958820888\n",
      "Training Accuracy of the network: 75 %\n",
      "Validation Accuracy of the network: 53 %\n",
      "EarlyStopping counter: 8 out of 50\n"
     ]
    },
    {
     "name": "stderr",
     "output_type": "stream",
     "text": [
      "  6%|██████████▍                                                                                                                                                      | 65/1000 [05:05<1:13:48,  4.74s/it]"
     ]
    },
    {
     "name": "stdout",
     "output_type": "stream",
     "text": [
      "Training Loss: 0.690466191943573\n",
      "Validation Loss: 1.085949126311711\n",
      "Training Accuracy of the network: 74 %\n",
      "Validation Accuracy of the network: 53 %\n",
      "EarlyStopping counter: 9 out of 50\n"
     ]
    },
    {
     "name": "stderr",
     "output_type": "stream",
     "text": [
      "  7%|██████████▋                                                                                                                                                      | 66/1000 [05:10<1:12:55,  4.69s/it]"
     ]
    },
    {
     "name": "stdout",
     "output_type": "stream",
     "text": [
      "Training Loss: 0.6717899755939193\n",
      "Validation Loss: 1.091766447680337\n",
      "Training Accuracy of the network: 76 %\n",
      "Validation Accuracy of the network: 50 %\n",
      "EarlyStopping counter: 10 out of 50\n"
     ]
    },
    {
     "name": "stderr",
     "output_type": "stream",
     "text": [
      "  7%|██████████▊                                                                                                                                                      | 67/1000 [05:14<1:11:37,  4.61s/it]"
     ]
    },
    {
     "name": "stdout",
     "output_type": "stream",
     "text": [
      "Training Loss: 0.6647541361010593\n",
      "Validation Loss: 1.0847560388701303\n",
      "Training Accuracy of the network: 76 %\n",
      "Validation Accuracy of the network: 52 %\n",
      "Validation loss decreased (1.084771 --> 1.084756).  Saving model ...\n"
     ]
    },
    {
     "name": "stderr",
     "output_type": "stream",
     "text": [
      "  7%|██████████▉                                                                                                                                                      | 68/1000 [05:19<1:10:35,  4.54s/it]"
     ]
    },
    {
     "name": "stdout",
     "output_type": "stream",
     "text": [
      "Training Loss: 0.6508118643060975\n",
      "Validation Loss: 1.0889459541865758\n",
      "Training Accuracy of the network: 76 %\n",
      "Validation Accuracy of the network: 51 %\n",
      "EarlyStopping counter: 1 out of 50\n"
     ]
    },
    {
     "name": "stderr",
     "output_type": "stream",
     "text": [
      "  7%|███████████                                                                                                                                                      | 69/1000 [05:23<1:11:45,  4.62s/it]"
     ]
    },
    {
     "name": "stdout",
     "output_type": "stream",
     "text": [
      "Training Loss: 0.6181066419551338\n",
      "Validation Loss: 1.0872692550931657\n",
      "Training Accuracy of the network: 78 %\n",
      "Validation Accuracy of the network: 51 %\n",
      "EarlyStopping counter: 2 out of 50\n"
     ]
    },
    {
     "name": "stderr",
     "output_type": "stream",
     "text": [
      "  7%|███████████▎                                                                                                                                                     | 70/1000 [05:28<1:12:15,  4.66s/it]"
     ]
    },
    {
     "name": "stdout",
     "output_type": "stream",
     "text": [
      "Training Loss: 0.6434782855752585\n",
      "Validation Loss: 1.0856984904834202\n",
      "Training Accuracy of the network: 77 %\n",
      "Validation Accuracy of the network: 50 %\n",
      "EarlyStopping counter: 3 out of 50\n"
     ]
    },
    {
     "name": "stderr",
     "output_type": "stream",
     "text": [
      "  7%|███████████▍                                                                                                                                                     | 71/1000 [05:33<1:12:05,  4.66s/it]"
     ]
    },
    {
     "name": "stdout",
     "output_type": "stream",
     "text": [
      "Training Loss: 0.6320565249230983\n",
      "Validation Loss: 1.0875683801514762\n",
      "Training Accuracy of the network: 77 %\n",
      "Validation Accuracy of the network: 55 %\n",
      "EarlyStopping counter: 4 out of 50\n"
     ]
    },
    {
     "name": "stderr",
     "output_type": "stream",
     "text": [
      "  7%|███████████▌                                                                                                                                                     | 72/1000 [05:38<1:12:10,  4.67s/it]"
     ]
    },
    {
     "name": "stdout",
     "output_type": "stream",
     "text": [
      "Training Loss: 0.6157976000205331\n",
      "Validation Loss: 1.0891493899481637\n",
      "Training Accuracy of the network: 77 %\n",
      "Validation Accuracy of the network: 50 %\n",
      "EarlyStopping counter: 5 out of 50\n"
     ]
    },
    {
     "name": "stderr",
     "output_type": "stream",
     "text": [
      "  7%|███████████▊                                                                                                                                                     | 73/1000 [05:42<1:12:41,  4.71s/it]"
     ]
    },
    {
     "name": "stdout",
     "output_type": "stream",
     "text": [
      "Training Loss: 0.6314604422212511\n",
      "Validation Loss: 1.0909453000341143\n",
      "Training Accuracy of the network: 76 %\n",
      "Validation Accuracy of the network: 50 %\n",
      "EarlyStopping counter: 6 out of 50\n"
     ]
    },
    {
     "name": "stderr",
     "output_type": "stream",
     "text": [
      "  7%|███████████▉                                                                                                                                                     | 74/1000 [05:47<1:13:24,  4.76s/it]"
     ]
    },
    {
     "name": "stdout",
     "output_type": "stream",
     "text": [
      "Training Loss: 0.6156218670092631\n",
      "Validation Loss: 1.0855593068259104\n",
      "Training Accuracy of the network: 78 %\n",
      "Validation Accuracy of the network: 53 %\n",
      "EarlyStopping counter: 7 out of 50\n"
     ]
    },
    {
     "name": "stderr",
     "output_type": "stream",
     "text": [
      "  8%|████████████                                                                                                                                                     | 75/1000 [05:52<1:12:28,  4.70s/it]"
     ]
    },
    {
     "name": "stdout",
     "output_type": "stream",
     "text": [
      "Training Loss: 0.6160069640347923\n",
      "Validation Loss: 1.0888019476618085\n",
      "Training Accuracy of the network: 77 %\n",
      "Validation Accuracy of the network: 52 %\n",
      "EarlyStopping counter: 8 out of 50\n"
     ]
    },
    {
     "name": "stderr",
     "output_type": "stream",
     "text": [
      "  8%|████████████▏                                                                                                                                                    | 76/1000 [05:57<1:13:16,  4.76s/it]"
     ]
    },
    {
     "name": "stdout",
     "output_type": "stream",
     "text": [
      "Training Loss: 0.6074024551966484\n",
      "Validation Loss: 1.0777970160756791\n",
      "Training Accuracy of the network: 78 %\n",
      "Validation Accuracy of the network: 53 %\n",
      "Validation loss decreased (1.084756 --> 1.077797).  Saving model ...\n"
     ]
    },
    {
     "name": "stderr",
     "output_type": "stream",
     "text": [
      "  8%|████████████▍                                                                                                                                                    | 77/1000 [06:02<1:13:42,  4.79s/it]"
     ]
    },
    {
     "name": "stdout",
     "output_type": "stream",
     "text": [
      "Training Loss: 0.6135758021171542\n",
      "Validation Loss: 1.0826661995479039\n",
      "Training Accuracy of the network: 78 %\n",
      "Validation Accuracy of the network: 53 %\n",
      "EarlyStopping counter: 1 out of 50\n"
     ]
    },
    {
     "name": "stderr",
     "output_type": "stream",
     "text": [
      "  8%|████████████▌                                                                                                                                                    | 78/1000 [06:07<1:14:36,  4.86s/it]"
     ]
    },
    {
     "name": "stdout",
     "output_type": "stream",
     "text": [
      "Training Loss: 0.5876869611118151\n",
      "Validation Loss: 1.0885946307863508\n",
      "Training Accuracy of the network: 79 %\n",
      "Validation Accuracy of the network: 53 %\n",
      "EarlyStopping counter: 2 out of 50\n"
     ]
    },
    {
     "name": "stderr",
     "output_type": "stream",
     "text": [
      "  8%|████████████▋                                                                                                                                                    | 79/1000 [06:11<1:14:30,  4.85s/it]"
     ]
    },
    {
     "name": "stdout",
     "output_type": "stream",
     "text": [
      "Training Loss: 0.5971095365998538\n",
      "Validation Loss: 1.0857213360922677\n",
      "Training Accuracy of the network: 78 %\n",
      "Validation Accuracy of the network: 52 %\n",
      "EarlyStopping counter: 3 out of 50\n"
     ]
    },
    {
     "name": "stderr",
     "output_type": "stream",
     "text": [
      "  8%|████████████▉                                                                                                                                                    | 80/1000 [06:16<1:13:03,  4.76s/it]"
     ]
    },
    {
     "name": "stdout",
     "output_type": "stream",
     "text": [
      "Training Loss: 0.5795715496861849\n",
      "Validation Loss: 1.0965632881437029\n",
      "Training Accuracy of the network: 80 %\n",
      "Validation Accuracy of the network: 52 %\n",
      "EarlyStopping counter: 4 out of 50\n"
     ]
    },
    {
     "name": "stderr",
     "output_type": "stream",
     "text": [
      "  8%|█████████████                                                                                                                                                    | 81/1000 [06:21<1:12:57,  4.76s/it]"
     ]
    },
    {
     "name": "stdout",
     "output_type": "stream",
     "text": [
      "Training Loss: 0.5799703081340893\n",
      "Validation Loss: 1.0933420096124922\n",
      "Training Accuracy of the network: 79 %\n",
      "Validation Accuracy of the network: 52 %\n",
      "EarlyStopping counter: 5 out of 50\n"
     ]
    },
    {
     "name": "stderr",
     "output_type": "stream",
     "text": [
      "  8%|█████████████▏                                                                                                                                                   | 82/1000 [06:25<1:11:50,  4.70s/it]"
     ]
    },
    {
     "name": "stdout",
     "output_type": "stream",
     "text": [
      "Training Loss: 0.5808080894791562\n",
      "Validation Loss: 1.0957890101841519\n",
      "Training Accuracy of the network: 80 %\n",
      "Validation Accuracy of the network: 52 %\n",
      "EarlyStopping counter: 6 out of 50\n"
     ]
    },
    {
     "name": "stderr",
     "output_type": "stream",
     "text": [
      "  8%|█████████████▎                                                                                                                                                   | 83/1000 [06:30<1:10:39,  4.62s/it]"
     ]
    },
    {
     "name": "stdout",
     "output_type": "stream",
     "text": [
      "Training Loss: 0.5642153237392937\n",
      "Validation Loss: 1.0833140117781503\n",
      "Training Accuracy of the network: 80 %\n",
      "Validation Accuracy of the network: 53 %\n",
      "EarlyStopping counter: 7 out of 50\n"
     ]
    },
    {
     "name": "stderr",
     "output_type": "stream",
     "text": [
      "  8%|█████████████▌                                                                                                                                                   | 84/1000 [06:35<1:11:56,  4.71s/it]"
     ]
    },
    {
     "name": "stdout",
     "output_type": "stream",
     "text": [
      "Training Loss: 0.5748336718998094\n",
      "Validation Loss: 1.0870215824672154\n",
      "Training Accuracy of the network: 79 %\n",
      "Validation Accuracy of the network: 52 %\n",
      "EarlyStopping counter: 8 out of 50\n"
     ]
    },
    {
     "name": "stderr",
     "output_type": "stream",
     "text": [
      "  8%|█████████████▋                                                                                                                                                   | 85/1000 [06:40<1:12:52,  4.78s/it]"
     ]
    },
    {
     "name": "stdout",
     "output_type": "stream",
     "text": [
      "Training Loss: 0.5506640795240367\n",
      "Validation Loss: 1.0879007288387843\n",
      "Training Accuracy of the network: 80 %\n",
      "Validation Accuracy of the network: 51 %\n",
      "EarlyStopping counter: 9 out of 50\n"
     ]
    },
    {
     "name": "stderr",
     "output_type": "stream",
     "text": [
      "  9%|█████████████▊                                                                                                                                                   | 86/1000 [06:45<1:13:54,  4.85s/it]"
     ]
    },
    {
     "name": "stdout",
     "output_type": "stream",
     "text": [
      "Training Loss: 0.5418044482020364\n",
      "Validation Loss: 1.0916055628231593\n",
      "Training Accuracy of the network: 80 %\n",
      "Validation Accuracy of the network: 53 %\n",
      "EarlyStopping counter: 10 out of 50\n"
     ]
    },
    {
     "name": "stderr",
     "output_type": "stream",
     "text": [
      "  9%|██████████████                                                                                                                                                   | 87/1000 [06:49<1:12:52,  4.79s/it]"
     ]
    },
    {
     "name": "stdout",
     "output_type": "stream",
     "text": [
      "Training Loss: 0.5477731377966162\n",
      "Validation Loss: 1.0872903994151524\n",
      "Training Accuracy of the network: 81 %\n",
      "Validation Accuracy of the network: 52 %\n",
      "EarlyStopping counter: 11 out of 50\n"
     ]
    },
    {
     "name": "stderr",
     "output_type": "stream",
     "text": [
      "  9%|██████████████▏                                                                                                                                                  | 88/1000 [06:54<1:12:50,  4.79s/it]"
     ]
    },
    {
     "name": "stdout",
     "output_type": "stream",
     "text": [
      "Training Loss: 0.5539376363698123\n",
      "Validation Loss: 1.0829500317573548\n",
      "Training Accuracy of the network: 81 %\n",
      "Validation Accuracy of the network: 55 %\n",
      "EarlyStopping counter: 12 out of 50\n"
     ]
    },
    {
     "name": "stderr",
     "output_type": "stream",
     "text": [
      "  9%|██████████████▎                                                                                                                                                  | 89/1000 [06:59<1:12:16,  4.76s/it]"
     ]
    },
    {
     "name": "stdout",
     "output_type": "stream",
     "text": [
      "Training Loss: 0.5631387306350297\n",
      "Validation Loss: 1.0875062993594578\n",
      "Training Accuracy of the network: 80 %\n",
      "Validation Accuracy of the network: 55 %\n",
      "EarlyStopping counter: 13 out of 50\n"
     ]
    },
    {
     "name": "stderr",
     "output_type": "stream",
     "text": [
      "  9%|██████████████▍                                                                                                                                                  | 90/1000 [07:03<1:11:21,  4.70s/it]"
     ]
    },
    {
     "name": "stdout",
     "output_type": "stream",
     "text": [
      "Training Loss: 0.5395957374324402\n",
      "Validation Loss: 1.103906910760062\n",
      "Training Accuracy of the network: 81 %\n",
      "Validation Accuracy of the network: 53 %\n",
      "EarlyStopping counter: 14 out of 50\n"
     ]
    },
    {
     "name": "stderr",
     "output_type": "stream",
     "text": [
      "  9%|██████████████▋                                                                                                                                                  | 91/1000 [07:08<1:10:51,  4.68s/it]"
     ]
    },
    {
     "name": "stdout",
     "output_type": "stream",
     "text": [
      "Training Loss: 0.5356885035238836\n",
      "Validation Loss: 1.0873948182378497\n",
      "Training Accuracy of the network: 80 %\n",
      "Validation Accuracy of the network: 53 %\n",
      "EarlyStopping counter: 15 out of 50\n"
     ]
    },
    {
     "name": "stderr",
     "output_type": "stream",
     "text": [
      "  9%|██████████████▊                                                                                                                                                  | 92/1000 [07:13<1:11:10,  4.70s/it]"
     ]
    },
    {
     "name": "stdout",
     "output_type": "stream",
     "text": [
      "Training Loss: 0.5405438126645227\n",
      "Validation Loss: 1.0942855153764997\n",
      "Training Accuracy of the network: 79 %\n",
      "Validation Accuracy of the network: 52 %\n",
      "EarlyStopping counter: 16 out of 50\n"
     ]
    },
    {
     "name": "stderr",
     "output_type": "stream",
     "text": [
      "  9%|██████████████▉                                                                                                                                                  | 93/1000 [07:18<1:11:37,  4.74s/it]"
     ]
    },
    {
     "name": "stdout",
     "output_type": "stream",
     "text": [
      "Training Loss: 0.5187552721388098\n",
      "Validation Loss: 1.0942182677132744\n",
      "Training Accuracy of the network: 82 %\n",
      "Validation Accuracy of the network: 55 %\n",
      "EarlyStopping counter: 17 out of 50\n"
     ]
    },
    {
     "name": "stderr",
     "output_type": "stream",
     "text": [
      "  9%|███████████████▏                                                                                                                                                 | 94/1000 [07:22<1:12:24,  4.79s/it]"
     ]
    },
    {
     "name": "stdout",
     "output_type": "stream",
     "text": [
      "Training Loss: 0.5313595647559218\n",
      "Validation Loss: 1.1019541995865958\n",
      "Training Accuracy of the network: 81 %\n",
      "Validation Accuracy of the network: 55 %\n",
      "EarlyStopping counter: 18 out of 50\n"
     ]
    },
    {
     "name": "stderr",
     "output_type": "stream",
     "text": [
      " 10%|███████████████▎                                                                                                                                                 | 95/1000 [07:27<1:13:23,  4.87s/it]"
     ]
    },
    {
     "name": "stdout",
     "output_type": "stream",
     "text": [
      "Training Loss: 0.5148408580841362\n",
      "Validation Loss: 1.08509681224823\n",
      "Training Accuracy of the network: 82 %\n",
      "Validation Accuracy of the network: 56 %\n",
      "EarlyStopping counter: 19 out of 50\n"
     ]
    },
    {
     "name": "stderr",
     "output_type": "stream",
     "text": [
      " 10%|███████████████▍                                                                                                                                                 | 96/1000 [07:32<1:12:22,  4.80s/it]"
     ]
    },
    {
     "name": "stdout",
     "output_type": "stream",
     "text": [
      "Training Loss: 0.5225617687447347\n",
      "Validation Loss: 1.0985698120934622\n",
      "Training Accuracy of the network: 82 %\n",
      "Validation Accuracy of the network: 53 %\n",
      "EarlyStopping counter: 20 out of 50\n"
     ]
    },
    {
     "name": "stderr",
     "output_type": "stream",
     "text": [
      " 10%|███████████████▌                                                                                                                                                 | 97/1000 [07:37<1:11:52,  4.78s/it]"
     ]
    },
    {
     "name": "stdout",
     "output_type": "stream",
     "text": [
      "Training Loss: 0.5100565080301486\n",
      "Validation Loss: 1.0942740951265608\n",
      "Training Accuracy of the network: 82 %\n",
      "Validation Accuracy of the network: 53 %\n",
      "EarlyStopping counter: 21 out of 50\n"
     ]
    },
    {
     "name": "stderr",
     "output_type": "stream",
     "text": [
      " 10%|███████████████▊                                                                                                                                                 | 98/1000 [07:42<1:13:08,  4.87s/it]"
     ]
    },
    {
     "name": "stdout",
     "output_type": "stream",
     "text": [
      "Training Loss: 0.4900242138815963\n",
      "Validation Loss: 1.108740987096514\n",
      "Training Accuracy of the network: 83 %\n",
      "Validation Accuracy of the network: 54 %\n",
      "EarlyStopping counter: 22 out of 50\n"
     ]
    },
    {
     "name": "stderr",
     "output_type": "stream",
     "text": [
      " 10%|███████████████▉                                                                                                                                                 | 99/1000 [07:47<1:13:57,  4.93s/it]"
     ]
    },
    {
     "name": "stdout",
     "output_type": "stream",
     "text": [
      "Training Loss: 0.5237796522029068\n",
      "Validation Loss: 1.1037000724247523\n",
      "Training Accuracy of the network: 81 %\n",
      "Validation Accuracy of the network: 54 %\n",
      "EarlyStopping counter: 23 out of 50\n"
     ]
    },
    {
     "name": "stderr",
     "output_type": "stream",
     "text": [
      " 10%|████████████████                                                                                                                                                | 100/1000 [07:52<1:13:17,  4.89s/it]"
     ]
    },
    {
     "name": "stdout",
     "output_type": "stream",
     "text": [
      "Training Loss: 0.5233541385851045\n",
      "Validation Loss: 1.0812711477279664\n",
      "Training Accuracy of the network: 81 %\n",
      "Validation Accuracy of the network: 54 %\n",
      "EarlyStopping counter: 24 out of 50\n"
     ]
    },
    {
     "name": "stderr",
     "output_type": "stream",
     "text": [
      " 10%|████████████████▏                                                                                                                                               | 101/1000 [07:57<1:13:44,  4.92s/it]"
     ]
    },
    {
     "name": "stdout",
     "output_type": "stream",
     "text": [
      "Training Loss: 0.5153917743675951\n",
      "Validation Loss: 1.1168540682111467\n",
      "Training Accuracy of the network: 82 %\n",
      "Validation Accuracy of the network: 53 %\n",
      "EarlyStopping counter: 25 out of 50\n"
     ]
    },
    {
     "name": "stderr",
     "output_type": "stream",
     "text": [
      " 10%|████████████████▎                                                                                                                                               | 102/1000 [08:02<1:13:34,  4.92s/it]"
     ]
    },
    {
     "name": "stdout",
     "output_type": "stream",
     "text": [
      "Training Loss: 0.5015376363543497\n",
      "Validation Loss: 1.084810323374612\n",
      "Training Accuracy of the network: 82 %\n",
      "Validation Accuracy of the network: 54 %\n",
      "EarlyStopping counter: 26 out of 50\n"
     ]
    },
    {
     "name": "stderr",
     "output_type": "stream",
     "text": [
      " 10%|████████████████▍                                                                                                                                               | 103/1000 [08:07<1:13:15,  4.90s/it]"
     ]
    },
    {
     "name": "stdout",
     "output_type": "stream",
     "text": [
      "Training Loss: 0.4877048365069904\n",
      "Validation Loss: 1.1274386491094317\n",
      "Training Accuracy of the network: 84 %\n",
      "Validation Accuracy of the network: 54 %\n",
      "EarlyStopping counter: 27 out of 50\n"
     ]
    },
    {
     "name": "stderr",
     "output_type": "stream",
     "text": [
      " 10%|████████████████▋                                                                                                                                               | 104/1000 [08:11<1:12:20,  4.84s/it]"
     ]
    },
    {
     "name": "stdout",
     "output_type": "stream",
     "text": [
      "Training Loss: 0.4877691898440969\n",
      "Validation Loss: 1.1190684608050756\n",
      "Training Accuracy of the network: 82 %\n",
      "Validation Accuracy of the network: 53 %\n",
      "EarlyStopping counter: 28 out of 50\n"
     ]
    },
    {
     "name": "stderr",
     "output_type": "stream",
     "text": [
      " 10%|████████████████▊                                                                                                                                               | 105/1000 [08:16<1:12:25,  4.86s/it]"
     ]
    },
    {
     "name": "stdout",
     "output_type": "stream",
     "text": [
      "Training Loss: 0.504945975633851\n",
      "Validation Loss: 1.0932223984173366\n",
      "Training Accuracy of the network: 82 %\n",
      "Validation Accuracy of the network: 53 %\n",
      "EarlyStopping counter: 29 out of 50\n"
     ]
    },
    {
     "name": "stderr",
     "output_type": "stream",
     "text": [
      " 11%|████████████████▉                                                                                                                                               | 106/1000 [08:21<1:12:05,  4.84s/it]"
     ]
    },
    {
     "name": "stdout",
     "output_type": "stream",
     "text": [
      "Training Loss: 0.4870218880258609\n",
      "Validation Loss: 1.0936394572257995\n",
      "Training Accuracy of the network: 83 %\n",
      "Validation Accuracy of the network: 55 %\n",
      "EarlyStopping counter: 30 out of 50\n"
     ]
    },
    {
     "name": "stderr",
     "output_type": "stream",
     "text": [
      " 11%|█████████████████                                                                                                                                               | 107/1000 [08:26<1:11:41,  4.82s/it]"
     ]
    },
    {
     "name": "stdout",
     "output_type": "stream",
     "text": [
      "Training Loss: 0.4936711016394522\n",
      "Validation Loss: 1.094816768169403\n",
      "Training Accuracy of the network: 83 %\n",
      "Validation Accuracy of the network: 55 %\n",
      "EarlyStopping counter: 31 out of 50\n"
     ]
    },
    {
     "name": "stderr",
     "output_type": "stream",
     "text": [
      " 11%|█████████████████▎                                                                                                                                              | 108/1000 [08:30<1:11:05,  4.78s/it]"
     ]
    },
    {
     "name": "stdout",
     "output_type": "stream",
     "text": [
      "Training Loss: 0.4793498343045729\n",
      "Validation Loss: 1.1201999391828263\n",
      "Training Accuracy of the network: 84 %\n",
      "Validation Accuracy of the network: 51 %\n",
      "EarlyStopping counter: 32 out of 50\n"
     ]
    },
    {
     "name": "stderr",
     "output_type": "stream",
     "text": [
      " 11%|█████████████████▍                                                                                                                                              | 109/1000 [08:35<1:10:49,  4.77s/it]"
     ]
    },
    {
     "name": "stdout",
     "output_type": "stream",
     "text": [
      "Training Loss: 0.47183554619550705\n",
      "Validation Loss: 1.1159289053508215\n",
      "Training Accuracy of the network: 84 %\n",
      "Validation Accuracy of the network: 54 %\n",
      "EarlyStopping counter: 33 out of 50\n"
     ]
    },
    {
     "name": "stderr",
     "output_type": "stream",
     "text": [
      " 11%|█████████████████▌                                                                                                                                              | 110/1000 [08:40<1:10:23,  4.75s/it]"
     ]
    },
    {
     "name": "stdout",
     "output_type": "stream",
     "text": [
      "Training Loss: 0.48505941157539684\n",
      "Validation Loss: 1.1042785968099322\n",
      "Training Accuracy of the network: 83 %\n",
      "Validation Accuracy of the network: 54 %\n",
      "EarlyStopping counter: 34 out of 50\n"
     ]
    },
    {
     "name": "stderr",
     "output_type": "stream",
     "text": [
      " 11%|█████████████████▊                                                                                                                                              | 111/1000 [08:44<1:08:56,  4.65s/it]"
     ]
    },
    {
     "name": "stdout",
     "output_type": "stream",
     "text": [
      "Training Loss: 0.47925228277302306\n",
      "Validation Loss: 1.101456230027335\n",
      "Training Accuracy of the network: 83 %\n",
      "Validation Accuracy of the network: 54 %\n",
      "EarlyStopping counter: 35 out of 50\n"
     ]
    },
    {
     "name": "stderr",
     "output_type": "stream",
     "text": [
      " 11%|█████████████████▉                                                                                                                                              | 112/1000 [08:49<1:09:25,  4.69s/it]"
     ]
    },
    {
     "name": "stdout",
     "output_type": "stream",
     "text": [
      "Training Loss: 0.47544101277447265\n",
      "Validation Loss: 1.1175326568739754\n",
      "Training Accuracy of the network: 84 %\n",
      "Validation Accuracy of the network: 55 %\n",
      "EarlyStopping counter: 36 out of 50\n"
     ]
    },
    {
     "name": "stderr",
     "output_type": "stream",
     "text": [
      " 11%|██████████████████                                                                                                                                              | 113/1000 [08:54<1:09:42,  4.72s/it]"
     ]
    },
    {
     "name": "stdout",
     "output_type": "stream",
     "text": [
      "Training Loss: 0.4801780926198631\n",
      "Validation Loss: 1.1103493469102041\n",
      "Training Accuracy of the network: 83 %\n",
      "Validation Accuracy of the network: 51 %\n",
      "EarlyStopping counter: 37 out of 50\n"
     ]
    },
    {
     "name": "stderr",
     "output_type": "stream",
     "text": [
      " 11%|██████████████████▏                                                                                                                                             | 114/1000 [08:58<1:08:37,  4.65s/it]"
     ]
    },
    {
     "name": "stdout",
     "output_type": "stream",
     "text": [
      "Training Loss: 0.49105428588455136\n",
      "Validation Loss: 1.105374596800123\n",
      "Training Accuracy of the network: 83 %\n",
      "Validation Accuracy of the network: 54 %\n",
      "EarlyStopping counter: 38 out of 50\n"
     ]
    },
    {
     "name": "stderr",
     "output_type": "stream",
     "text": [
      " 12%|██████████████████▍                                                                                                                                             | 115/1000 [09:03<1:07:25,  4.57s/it]"
     ]
    },
    {
     "name": "stdout",
     "output_type": "stream",
     "text": [
      "Training Loss: 0.4488341429851193\n",
      "Validation Loss: 1.0828184689794267\n",
      "Training Accuracy of the network: 85 %\n",
      "Validation Accuracy of the network: 57 %\n",
      "EarlyStopping counter: 39 out of 50\n"
     ]
    },
    {
     "name": "stderr",
     "output_type": "stream",
     "text": [
      " 12%|██████████████████▌                                                                                                                                             | 116/1000 [09:08<1:08:32,  4.65s/it]"
     ]
    },
    {
     "name": "stdout",
     "output_type": "stream",
     "text": [
      "Training Loss: 0.45220843384015386\n",
      "Validation Loss: 1.1006629501070295\n",
      "Training Accuracy of the network: 84 %\n",
      "Validation Accuracy of the network: 55 %\n",
      "EarlyStopping counter: 40 out of 50\n"
     ]
    },
    {
     "name": "stderr",
     "output_type": "stream",
     "text": [
      " 12%|██████████████████▋                                                                                                                                             | 117/1000 [09:12<1:08:03,  4.62s/it]"
     ]
    },
    {
     "name": "stdout",
     "output_type": "stream",
     "text": [
      "Training Loss: 0.46843644193765044\n",
      "Validation Loss: 1.1169448546000889\n",
      "Training Accuracy of the network: 83 %\n",
      "Validation Accuracy of the network: 54 %\n",
      "EarlyStopping counter: 41 out of 50\n"
     ]
    },
    {
     "name": "stderr",
     "output_type": "stream",
     "text": [
      " 12%|██████████████████▉                                                                                                                                             | 118/1000 [09:17<1:08:34,  4.66s/it]"
     ]
    },
    {
     "name": "stdout",
     "output_type": "stream",
     "text": [
      "Training Loss: 0.45609123297575593\n",
      "Validation Loss: 1.1400881511824472\n",
      "Training Accuracy of the network: 84 %\n",
      "Validation Accuracy of the network: 53 %\n",
      "EarlyStopping counter: 42 out of 50\n"
     ]
    },
    {
     "name": "stderr",
     "output_type": "stream",
     "text": [
      " 12%|███████████████████                                                                                                                                             | 119/1000 [09:21<1:08:11,  4.64s/it]"
     ]
    },
    {
     "name": "stdout",
     "output_type": "stream",
     "text": [
      "Training Loss: 0.4792070215217013\n",
      "Validation Loss: 1.118400354044778\n",
      "Training Accuracy of the network: 84 %\n",
      "Validation Accuracy of the network: 55 %\n",
      "EarlyStopping counter: 43 out of 50\n"
     ]
    },
    {
     "name": "stderr",
     "output_type": "stream",
     "text": [
      " 12%|███████████████████▏                                                                                                                                            | 120/1000 [09:26<1:08:43,  4.69s/it]"
     ]
    },
    {
     "name": "stdout",
     "output_type": "stream",
     "text": [
      "Training Loss: 0.4589832963394946\n",
      "Validation Loss: 1.08585399048669\n",
      "Training Accuracy of the network: 85 %\n",
      "Validation Accuracy of the network: 56 %\n",
      "EarlyStopping counter: 44 out of 50\n"
     ]
    },
    {
     "name": "stderr",
     "output_type": "stream",
     "text": [
      " 12%|███████████████████▎                                                                                                                                            | 121/1000 [09:31<1:09:22,  4.74s/it]"
     ]
    },
    {
     "name": "stdout",
     "output_type": "stream",
     "text": [
      "Training Loss: 0.4449421618187773\n",
      "Validation Loss: 1.116482240813119\n",
      "Training Accuracy of the network: 85 %\n",
      "Validation Accuracy of the network: 54 %\n",
      "EarlyStopping counter: 45 out of 50\n"
     ]
    },
    {
     "name": "stderr",
     "output_type": "stream",
     "text": [
      " 12%|███████████████████▌                                                                                                                                            | 122/1000 [09:36<1:09:47,  4.77s/it]"
     ]
    },
    {
     "name": "stdout",
     "output_type": "stream",
     "text": [
      "Training Loss: 0.4578940656198108\n",
      "Validation Loss: 1.101206418446132\n",
      "Training Accuracy of the network: 85 %\n",
      "Validation Accuracy of the network: 55 %\n",
      "EarlyStopping counter: 46 out of 50\n"
     ]
    },
    {
     "name": "stderr",
     "output_type": "stream",
     "text": [
      " 12%|███████████████████▋                                                                                                                                            | 123/1000 [09:41<1:09:47,  4.78s/it]"
     ]
    },
    {
     "name": "stdout",
     "output_type": "stream",
     "text": [
      "Training Loss: 0.4426993029597013\n",
      "Validation Loss: 1.1281467710222517\n",
      "Training Accuracy of the network: 85 %\n",
      "Validation Accuracy of the network: 54 %\n",
      "EarlyStopping counter: 47 out of 50\n"
     ]
    },
    {
     "name": "stderr",
     "output_type": "stream",
     "text": [
      " 12%|███████████████████▊                                                                                                                                            | 124/1000 [09:45<1:07:57,  4.65s/it]"
     ]
    },
    {
     "name": "stdout",
     "output_type": "stream",
     "text": [
      "Training Loss: 0.440306156873703\n",
      "Validation Loss: 1.1411941375051227\n",
      "Training Accuracy of the network: 84 %\n",
      "Validation Accuracy of the network: 52 %\n",
      "EarlyStopping counter: 48 out of 50\n"
     ]
    },
    {
     "name": "stderr",
     "output_type": "stream",
     "text": [
      " 12%|████████████████████                                                                                                                                            | 125/1000 [09:50<1:07:23,  4.62s/it]"
     ]
    },
    {
     "name": "stdout",
     "output_type": "stream",
     "text": [
      "Training Loss: 0.4335173550939214\n",
      "Validation Loss: 1.1122555341039384\n",
      "Training Accuracy of the network: 85 %\n",
      "Validation Accuracy of the network: 54 %\n",
      "EarlyStopping counter: 49 out of 50\n"
     ]
    },
    {
     "name": "stderr",
     "output_type": "stream",
     "text": [
      " 12%|████████████████████                                                                                                                                            | 125/1000 [09:54<1:09:22,  4.76s/it]\n"
     ]
    },
    {
     "name": "stdout",
     "output_type": "stream",
     "text": [
      "Training Loss: 0.43066540970534517\n",
      "Validation Loss: 1.132049936907632\n",
      "Training Accuracy of the network: 86 %\n",
      "Validation Accuracy of the network: 55 %\n",
      "EarlyStopping counter: 50 out of 50\n",
      "Early Stopping\n"
     ]
    },
    {
     "name": "stderr",
     "output_type": "stream",
     "text": [
      "100%|███████████████████████████████████████████████████████████████████████████████████████████████████████████████████████████████████████████████████████████████████████| 1/1 [00:00<00:00,  5.48it/s]\n"
     ]
    },
    {
     "name": "stdout",
     "output_type": "stream",
     "text": [
      "Extra Training Loss: 1.2359518758379495\n",
      "Extra Training Accuracy of the network: 69 %\n",
      "Extra Testing Loss: 1.0687534809112549\n",
      "Extra Testing Accuracy of the network: 54 %\n"
     ]
    },
    {
     "name": "stderr",
     "output_type": "stream",
     "text": [
      "  0%|▏                                                                                                                                                                 | 1/1000 [00:04<1:21:18,  4.88s/it]"
     ]
    },
    {
     "name": "stdout",
     "output_type": "stream",
     "text": [
      "Training Loss: 1.6039275358552518\n",
      "Validation Loss: 1.415422763143267\n",
      "Training Accuracy of the network: 22 %\n",
      "Validation Accuracy of the network: 28 %\n",
      "Validation loss decreased (inf --> 1.415423).  Saving model ...\n"
     ]
    },
    {
     "name": "stderr",
     "output_type": "stream",
     "text": [
      "  0%|▎                                                                                                                                                                 | 2/1000 [00:09<1:19:42,  4.79s/it]"
     ]
    },
    {
     "name": "stdout",
     "output_type": "stream",
     "text": [
      "Training Loss: 1.4929544096407683\n",
      "Validation Loss: 1.4088901894433157\n",
      "Training Accuracy of the network: 29 %\n",
      "Validation Accuracy of the network: 28 %\n",
      "Validation loss decreased (1.415423 --> 1.408890).  Saving model ...\n"
     ]
    },
    {
     "name": "stderr",
     "output_type": "stream",
     "text": [
      "  0%|▍                                                                                                                                                                 | 3/1000 [00:14<1:19:43,  4.80s/it]"
     ]
    },
    {
     "name": "stdout",
     "output_type": "stream",
     "text": [
      "Training Loss: 1.4815032715382783\n",
      "Validation Loss: 1.3914970636367798\n",
      "Training Accuracy of the network: 28 %\n",
      "Validation Accuracy of the network: 30 %\n",
      "Validation loss decreased (1.408890 --> 1.391497).  Saving model ...\n"
     ]
    },
    {
     "name": "stderr",
     "output_type": "stream",
     "text": [
      "  0%|▋                                                                                                                                                                 | 4/1000 [00:19<1:19:37,  4.80s/it]"
     ]
    },
    {
     "name": "stdout",
     "output_type": "stream",
     "text": [
      "Training Loss: 1.4637396758881167\n",
      "Validation Loss: 1.3855943202972412\n",
      "Training Accuracy of the network: 27 %\n",
      "Validation Accuracy of the network: 28 %\n",
      "Validation loss decreased (1.391497 --> 1.385594).  Saving model ...\n"
     ]
    },
    {
     "name": "stderr",
     "output_type": "stream",
     "text": [
      "  0%|▊                                                                                                                                                                 | 5/1000 [00:23<1:18:29,  4.73s/it]"
     ]
    },
    {
     "name": "stdout",
     "output_type": "stream",
     "text": [
      "Training Loss: 1.4387844999631245\n",
      "Validation Loss: 1.3738207578659059\n",
      "Training Accuracy of the network: 31 %\n",
      "Validation Accuracy of the network: 29 %\n",
      "Validation loss decreased (1.385594 --> 1.373821).  Saving model ...\n"
     ]
    },
    {
     "name": "stderr",
     "output_type": "stream",
     "text": [
      "  1%|▉                                                                                                                                                                 | 6/1000 [00:28<1:17:27,  4.68s/it]"
     ]
    },
    {
     "name": "stdout",
     "output_type": "stream",
     "text": [
      "Training Loss: 1.408046274945356\n",
      "Validation Loss: 1.3697067703519548\n",
      "Training Accuracy of the network: 32 %\n",
      "Validation Accuracy of the network: 31 %\n",
      "Validation loss decreased (1.373821 --> 1.369707).  Saving model ...\n"
     ]
    },
    {
     "name": "stderr",
     "output_type": "stream",
     "text": [
      "  1%|█▏                                                                                                                                                                | 7/1000 [00:32<1:15:39,  4.57s/it]"
     ]
    },
    {
     "name": "stdout",
     "output_type": "stream",
     "text": [
      "Training Loss: 1.3706589678059453\n",
      "Validation Loss: 1.3597871780395507\n",
      "Training Accuracy of the network: 34 %\n",
      "Validation Accuracy of the network: 33 %\n",
      "Validation loss decreased (1.369707 --> 1.359787).  Saving model ...\n"
     ]
    },
    {
     "name": "stderr",
     "output_type": "stream",
     "text": [
      "  1%|█▎                                                                                                                                                                | 8/1000 [00:37<1:16:21,  4.62s/it]"
     ]
    },
    {
     "name": "stdout",
     "output_type": "stream",
     "text": [
      "Training Loss: 1.3439707008824833\n",
      "Validation Loss: 1.3441978420530047\n",
      "Training Accuracy of the network: 36 %\n",
      "Validation Accuracy of the network: 36 %\n",
      "Validation loss decreased (1.359787 --> 1.344198).  Saving model ...\n"
     ]
    },
    {
     "name": "stderr",
     "output_type": "stream",
     "text": [
      "  1%|█▍                                                                                                                                                                | 9/1000 [00:42<1:16:57,  4.66s/it]"
     ]
    },
    {
     "name": "stdout",
     "output_type": "stream",
     "text": [
      "Training Loss: 1.329993431550869\n",
      "Validation Loss: 1.342075800895691\n",
      "Training Accuracy of the network: 39 %\n",
      "Validation Accuracy of the network: 32 %\n",
      "Validation loss decreased (1.344198 --> 1.342076).  Saving model ...\n"
     ]
    },
    {
     "name": "stderr",
     "output_type": "stream",
     "text": [
      "  1%|█▌                                                                                                                                                               | 10/1000 [00:46<1:16:56,  4.66s/it]"
     ]
    },
    {
     "name": "stdout",
     "output_type": "stream",
     "text": [
      "Training Loss: 1.301476028950318\n",
      "Validation Loss: 1.3371049846921648\n",
      "Training Accuracy of the network: 39 %\n",
      "Validation Accuracy of the network: 33 %\n",
      "Validation loss decreased (1.342076 --> 1.337105).  Saving model ...\n"
     ]
    },
    {
     "name": "stderr",
     "output_type": "stream",
     "text": [
      "  1%|█▊                                                                                                                                                               | 11/1000 [00:51<1:16:17,  4.63s/it]"
     ]
    },
    {
     "name": "stdout",
     "output_type": "stream",
     "text": [
      "Training Loss: 1.2828399599462315\n",
      "Validation Loss: 1.3234599045344762\n",
      "Training Accuracy of the network: 40 %\n",
      "Validation Accuracy of the network: 37 %\n",
      "Validation loss decreased (1.337105 --> 1.323460).  Saving model ...\n"
     ]
    },
    {
     "name": "stderr",
     "output_type": "stream",
     "text": [
      "  1%|█▉                                                                                                                                                               | 12/1000 [00:56<1:17:05,  4.68s/it]"
     ]
    },
    {
     "name": "stdout",
     "output_type": "stream",
     "text": [
      "Training Loss: 1.2617059198842533\n",
      "Validation Loss: 1.3139835562024798\n",
      "Training Accuracy of the network: 44 %\n",
      "Validation Accuracy of the network: 38 %\n",
      "Validation loss decreased (1.323460 --> 1.313984).  Saving model ...\n"
     ]
    },
    {
     "name": "stderr",
     "output_type": "stream",
     "text": [
      "  1%|██                                                                                                                                                               | 13/1000 [01:00<1:17:02,  4.68s/it]"
     ]
    },
    {
     "name": "stdout",
     "output_type": "stream",
     "text": [
      "Training Loss: 1.2476758965547534\n",
      "Validation Loss: 1.3160181147711618\n",
      "Training Accuracy of the network: 42 %\n",
      "Validation Accuracy of the network: 35 %\n",
      "EarlyStopping counter: 1 out of 50\n"
     ]
    },
    {
     "name": "stderr",
     "output_type": "stream",
     "text": [
      "  1%|██▎                                                                                                                                                              | 14/1000 [01:05<1:16:56,  4.68s/it]"
     ]
    },
    {
     "name": "stdout",
     "output_type": "stream",
     "text": [
      "Training Loss: 1.2224756224431854\n",
      "Validation Loss: 1.3001162324632918\n",
      "Training Accuracy of the network: 45 %\n",
      "Validation Accuracy of the network: 36 %\n",
      "Validation loss decreased (1.313984 --> 1.300116).  Saving model ...\n"
     ]
    },
    {
     "name": "stderr",
     "output_type": "stream",
     "text": [
      "  2%|██▍                                                                                                                                                              | 15/1000 [01:10<1:17:12,  4.70s/it]"
     ]
    },
    {
     "name": "stdout",
     "output_type": "stream",
     "text": [
      "Training Loss: 1.2036579488844112\n",
      "Validation Loss: 1.3049402918134416\n",
      "Training Accuracy of the network: 47 %\n",
      "Validation Accuracy of the network: 36 %\n",
      "EarlyStopping counter: 1 out of 50\n"
     ]
    },
    {
     "name": "stderr",
     "output_type": "stream",
     "text": [
      "  2%|██▌                                                                                                                                                              | 16/1000 [01:15<1:16:51,  4.69s/it]"
     ]
    },
    {
     "name": "stdout",
     "output_type": "stream",
     "text": [
      "Training Loss: 1.1858903264653855\n",
      "Validation Loss: 1.2991473027638027\n",
      "Training Accuracy of the network: 48 %\n",
      "Validation Accuracy of the network: 40 %\n",
      "Validation loss decreased (1.300116 --> 1.299147).  Saving model ...\n"
     ]
    },
    {
     "name": "stderr",
     "output_type": "stream",
     "text": [
      "  2%|██▋                                                                                                                                                              | 17/1000 [01:19<1:17:08,  4.71s/it]"
     ]
    },
    {
     "name": "stdout",
     "output_type": "stream",
     "text": [
      "Training Loss: 1.1754622433496558\n",
      "Validation Loss: 1.2917252234050205\n",
      "Training Accuracy of the network: 48 %\n",
      "Validation Accuracy of the network: 39 %\n",
      "Validation loss decreased (1.299147 --> 1.291725).  Saving model ...\n"
     ]
    },
    {
     "name": "stderr",
     "output_type": "stream",
     "text": [
      "  2%|██▉                                                                                                                                                              | 18/1000 [01:24<1:17:30,  4.74s/it]"
     ]
    },
    {
     "name": "stdout",
     "output_type": "stream",
     "text": [
      "Training Loss: 1.154057516567949\n",
      "Validation Loss: 1.2955395596367971\n",
      "Training Accuracy of the network: 49 %\n",
      "Validation Accuracy of the network: 38 %\n",
      "EarlyStopping counter: 1 out of 50\n"
     ]
    },
    {
     "name": "stderr",
     "output_type": "stream",
     "text": [
      "  2%|███                                                                                                                                                              | 19/1000 [01:29<1:17:03,  4.71s/it]"
     ]
    },
    {
     "name": "stdout",
     "output_type": "stream",
     "text": [
      "Training Loss: 1.1483057655286097\n",
      "Validation Loss: 1.289567460332598\n",
      "Training Accuracy of the network: 50 %\n",
      "Validation Accuracy of the network: 38 %\n",
      "Validation loss decreased (1.291725 --> 1.289567).  Saving model ...\n"
     ]
    },
    {
     "name": "stderr",
     "output_type": "stream",
     "text": [
      "  2%|███▏                                                                                                                                                             | 20/1000 [01:33<1:16:51,  4.71s/it]"
     ]
    },
    {
     "name": "stdout",
     "output_type": "stream",
     "text": [
      "Training Loss: 1.1283030082350192\n",
      "Validation Loss: 1.2916824545179095\n",
      "Training Accuracy of the network: 52 %\n",
      "Validation Accuracy of the network: 39 %\n",
      "EarlyStopping counter: 1 out of 50\n"
     ]
    },
    {
     "name": "stderr",
     "output_type": "stream",
     "text": [
      "  2%|███▍                                                                                                                                                             | 21/1000 [01:38<1:16:26,  4.68s/it]"
     ]
    },
    {
     "name": "stdout",
     "output_type": "stream",
     "text": [
      "Training Loss: 1.1170598808406056\n",
      "Validation Loss: 1.2887300763811385\n",
      "Training Accuracy of the network: 52 %\n",
      "Validation Accuracy of the network: 39 %\n",
      "Validation loss decreased (1.289567 --> 1.288730).  Saving model ...\n"
     ]
    },
    {
     "name": "stderr",
     "output_type": "stream",
     "text": [
      "  2%|███▌                                                                                                                                                             | 22/1000 [01:43<1:16:56,  4.72s/it]"
     ]
    },
    {
     "name": "stdout",
     "output_type": "stream",
     "text": [
      "Training Loss: 1.1032295710798623\n",
      "Validation Loss: 1.2738253593444824\n",
      "Training Accuracy of the network: 54 %\n",
      "Validation Accuracy of the network: 40 %\n",
      "Validation loss decreased (1.288730 --> 1.273825).  Saving model ...\n"
     ]
    },
    {
     "name": "stderr",
     "output_type": "stream",
     "text": [
      "  2%|███▋                                                                                                                                                             | 23/1000 [01:48<1:17:21,  4.75s/it]"
     ]
    },
    {
     "name": "stdout",
     "output_type": "stream",
     "text": [
      "Training Loss: 1.0837066480215045\n",
      "Validation Loss: 1.28729681457792\n",
      "Training Accuracy of the network: 54 %\n",
      "Validation Accuracy of the network: 36 %\n",
      "EarlyStopping counter: 1 out of 50\n"
     ]
    },
    {
     "name": "stderr",
     "output_type": "stream",
     "text": [
      "  2%|███▊                                                                                                                                                             | 24/1000 [01:52<1:17:20,  4.75s/it]"
     ]
    },
    {
     "name": "stdout",
     "output_type": "stream",
     "text": [
      "Training Loss: 1.0699176088623379\n",
      "Validation Loss: 1.2799023117337909\n",
      "Training Accuracy of the network: 55 %\n",
      "Validation Accuracy of the network: 39 %\n",
      "EarlyStopping counter: 2 out of 50\n"
     ]
    },
    {
     "name": "stderr",
     "output_type": "stream",
     "text": [
      "  2%|████                                                                                                                                                             | 25/1000 [01:57<1:17:04,  4.74s/it]"
     ]
    },
    {
     "name": "stdout",
     "output_type": "stream",
     "text": [
      "Training Loss: 1.064229801081229\n",
      "Validation Loss: 1.2602197987692696\n",
      "Training Accuracy of the network: 56 %\n",
      "Validation Accuracy of the network: 40 %\n",
      "Validation loss decreased (1.273825 --> 1.260220).  Saving model ...\n"
     ]
    },
    {
     "name": "stderr",
     "output_type": "stream",
     "text": [
      "  3%|████▏                                                                                                                                                            | 26/1000 [02:02<1:16:23,  4.71s/it]"
     ]
    },
    {
     "name": "stdout",
     "output_type": "stream",
     "text": [
      "Training Loss: 1.0345708948114645\n",
      "Validation Loss: 1.2540851848466055\n",
      "Training Accuracy of the network: 57 %\n",
      "Validation Accuracy of the network: 41 %\n",
      "Validation loss decreased (1.260220 --> 1.254085).  Saving model ...\n"
     ]
    },
    {
     "name": "stderr",
     "output_type": "stream",
     "text": [
      "  3%|████▎                                                                                                                                                            | 27/1000 [02:06<1:16:15,  4.70s/it]"
     ]
    },
    {
     "name": "stdout",
     "output_type": "stream",
     "text": [
      "Training Loss: 1.0327422459056412\n",
      "Validation Loss: 1.2532670855522157\n",
      "Training Accuracy of the network: 59 %\n",
      "Validation Accuracy of the network: 43 %\n",
      "Validation loss decreased (1.254085 --> 1.253267).  Saving model ...\n"
     ]
    },
    {
     "name": "stderr",
     "output_type": "stream",
     "text": [
      "  3%|████▌                                                                                                                                                            | 28/1000 [02:11<1:15:13,  4.64s/it]"
     ]
    },
    {
     "name": "stdout",
     "output_type": "stream",
     "text": [
      "Training Loss: 1.0040384457595106\n",
      "Validation Loss: 1.266614988871983\n",
      "Training Accuracy of the network: 60 %\n",
      "Validation Accuracy of the network: 42 %\n",
      "EarlyStopping counter: 1 out of 50\n"
     ]
    },
    {
     "name": "stderr",
     "output_type": "stream",
     "text": [
      "  3%|████▋                                                                                                                                                            | 29/1000 [02:16<1:15:08,  4.64s/it]"
     ]
    },
    {
     "name": "stdout",
     "output_type": "stream",
     "text": [
      "Training Loss: 0.9963899643524833\n",
      "Validation Loss: 1.2425034642219543\n",
      "Training Accuracy of the network: 59 %\n",
      "Validation Accuracy of the network: 42 %\n",
      "Validation loss decreased (1.253267 --> 1.242503).  Saving model ...\n"
     ]
    },
    {
     "name": "stderr",
     "output_type": "stream",
     "text": [
      "  3%|████▊                                                                                                                                                            | 30/1000 [02:20<1:14:58,  4.64s/it]"
     ]
    },
    {
     "name": "stdout",
     "output_type": "stream",
     "text": [
      "Training Loss: 0.9809037887531779\n",
      "Validation Loss: 1.2519672206469945\n",
      "Training Accuracy of the network: 59 %\n",
      "Validation Accuracy of the network: 42 %\n",
      "EarlyStopping counter: 1 out of 50\n"
     ]
    },
    {
     "name": "stderr",
     "output_type": "stream",
     "text": [
      "  3%|████▉                                                                                                                                                            | 31/1000 [02:25<1:15:39,  4.68s/it]"
     ]
    },
    {
     "name": "stdout",
     "output_type": "stream",
     "text": [
      "Training Loss: 0.9701249871564948\n",
      "Validation Loss: 1.2513053127697535\n",
      "Training Accuracy of the network: 60 %\n",
      "Validation Accuracy of the network: 42 %\n",
      "EarlyStopping counter: 2 out of 50\n"
     ]
    },
    {
     "name": "stderr",
     "output_type": "stream",
     "text": [
      "  3%|█████▏                                                                                                                                                           | 32/1000 [02:30<1:15:32,  4.68s/it]"
     ]
    },
    {
     "name": "stdout",
     "output_type": "stream",
     "text": [
      "Training Loss: 0.9699758956397789\n",
      "Validation Loss: 1.2449189645903451\n",
      "Training Accuracy of the network: 62 %\n",
      "Validation Accuracy of the network: 41 %\n",
      "EarlyStopping counter: 3 out of 50\n"
     ]
    },
    {
     "name": "stderr",
     "output_type": "stream",
     "text": [
      "  3%|█████▎                                                                                                                                                           | 33/1000 [02:34<1:14:52,  4.65s/it]"
     ]
    },
    {
     "name": "stdout",
     "output_type": "stream",
     "text": [
      "Training Loss: 0.943137564520905\n",
      "Validation Loss: 1.2362012028694154\n",
      "Training Accuracy of the network: 63 %\n",
      "Validation Accuracy of the network: 41 %\n",
      "Validation loss decreased (1.242503 --> 1.236201).  Saving model ...\n"
     ]
    },
    {
     "name": "stderr",
     "output_type": "stream",
     "text": [
      "  3%|█████▍                                                                                                                                                           | 34/1000 [02:39<1:15:25,  4.69s/it]"
     ]
    },
    {
     "name": "stdout",
     "output_type": "stream",
     "text": [
      "Training Loss: 0.9395455761232238\n",
      "Validation Loss: 1.240953482900347\n",
      "Training Accuracy of the network: 62 %\n",
      "Validation Accuracy of the network: 42 %\n",
      "EarlyStopping counter: 1 out of 50\n"
     ]
    },
    {
     "name": "stderr",
     "output_type": "stream",
     "text": [
      "  4%|█████▋                                                                                                                                                           | 35/1000 [02:44<1:15:05,  4.67s/it]"
     ]
    },
    {
     "name": "stdout",
     "output_type": "stream",
     "text": [
      "Training Loss: 0.912675482639368\n",
      "Validation Loss: 1.2416621957506453\n",
      "Training Accuracy of the network: 64 %\n",
      "Validation Accuracy of the network: 42 %\n",
      "EarlyStopping counter: 2 out of 50\n"
     ]
    },
    {
     "name": "stderr",
     "output_type": "stream",
     "text": [
      "  4%|█████▊                                                                                                                                                           | 36/1000 [02:48<1:14:12,  4.62s/it]"
     ]
    },
    {
     "name": "stdout",
     "output_type": "stream",
     "text": [
      "Training Loss: 0.9047276319369025\n",
      "Validation Loss: 1.2404989532061985\n",
      "Training Accuracy of the network: 65 %\n",
      "Validation Accuracy of the network: 44 %\n",
      "EarlyStopping counter: 3 out of 50\n"
     ]
    },
    {
     "name": "stderr",
     "output_type": "stream",
     "text": [
      "  4%|█████▉                                                                                                                                                           | 37/1000 [02:53<1:13:36,  4.59s/it]"
     ]
    },
    {
     "name": "stdout",
     "output_type": "stream",
     "text": [
      "Training Loss: 0.9003896117210388\n",
      "Validation Loss: 1.234085510458265\n",
      "Training Accuracy of the network: 66 %\n",
      "Validation Accuracy of the network: 42 %\n",
      "Validation loss decreased (1.236201 --> 1.234086).  Saving model ...\n"
     ]
    },
    {
     "name": "stderr",
     "output_type": "stream",
     "text": [
      "  4%|██████                                                                                                                                                           | 38/1000 [02:57<1:13:52,  4.61s/it]"
     ]
    },
    {
     "name": "stdout",
     "output_type": "stream",
     "text": [
      "Training Loss: 0.8795145037381545\n",
      "Validation Loss: 1.2325146402631486\n",
      "Training Accuracy of the network: 66 %\n",
      "Validation Accuracy of the network: 42 %\n",
      "Validation loss decreased (1.234086 --> 1.232515).  Saving model ...\n"
     ]
    },
    {
     "name": "stderr",
     "output_type": "stream",
     "text": [
      "  4%|██████▎                                                                                                                                                          | 39/1000 [03:02<1:14:27,  4.65s/it]"
     ]
    },
    {
     "name": "stdout",
     "output_type": "stream",
     "text": [
      "Training Loss: 0.8791605216869409\n",
      "Validation Loss: 1.2443455355507986\n",
      "Training Accuracy of the network: 66 %\n",
      "Validation Accuracy of the network: 42 %\n",
      "EarlyStopping counter: 1 out of 50\n"
     ]
    },
    {
     "name": "stderr",
     "output_type": "stream",
     "text": [
      "  4%|██████▍                                                                                                                                                          | 40/1000 [03:07<1:14:40,  4.67s/it]"
     ]
    },
    {
     "name": "stdout",
     "output_type": "stream",
     "text": [
      "Training Loss: 0.8617572317952695\n",
      "Validation Loss: 1.2304805551256452\n",
      "Training Accuracy of the network: 66 %\n",
      "Validation Accuracy of the network: 43 %\n",
      "Validation loss decreased (1.232515 --> 1.230481).  Saving model ...\n"
     ]
    },
    {
     "name": "stderr",
     "output_type": "stream",
     "text": [
      "  4%|██████▌                                                                                                                                                          | 41/1000 [03:12<1:15:13,  4.71s/it]"
     ]
    },
    {
     "name": "stdout",
     "output_type": "stream",
     "text": [
      "Training Loss: 0.8559606619503187\n",
      "Validation Loss: 1.218256916318621\n",
      "Training Accuracy of the network: 68 %\n",
      "Validation Accuracy of the network: 43 %\n",
      "Validation loss decreased (1.230481 --> 1.218257).  Saving model ...\n"
     ]
    },
    {
     "name": "stderr",
     "output_type": "stream",
     "text": [
      "  4%|██████▊                                                                                                                                                          | 42/1000 [03:16<1:15:49,  4.75s/it]"
     ]
    },
    {
     "name": "stdout",
     "output_type": "stream",
     "text": [
      "Training Loss: 0.8413850209419278\n",
      "Validation Loss: 1.2183428457805088\n",
      "Training Accuracy of the network: 67 %\n",
      "Validation Accuracy of the network: 43 %\n",
      "EarlyStopping counter: 1 out of 50\n"
     ]
    },
    {
     "name": "stderr",
     "output_type": "stream",
     "text": [
      "  4%|██████▉                                                                                                                                                          | 43/1000 [03:21<1:14:51,  4.69s/it]"
     ]
    },
    {
     "name": "stdout",
     "output_type": "stream",
     "text": [
      "Training Loss: 0.8384745920049972\n",
      "Validation Loss: 1.2283340658460344\n",
      "Training Accuracy of the network: 68 %\n",
      "Validation Accuracy of the network: 43 %\n",
      "EarlyStopping counter: 2 out of 50\n"
     ]
    },
    {
     "name": "stderr",
     "output_type": "stream",
     "text": [
      "  4%|███████                                                                                                                                                          | 44/1000 [03:26<1:14:43,  4.69s/it]"
     ]
    },
    {
     "name": "stdout",
     "output_type": "stream",
     "text": [
      "Training Loss: 0.8163490170154019\n",
      "Validation Loss: 1.2180887273379735\n",
      "Training Accuracy of the network: 69 %\n",
      "Validation Accuracy of the network: 43 %\n",
      "Validation loss decreased (1.218257 --> 1.218089).  Saving model ...\n"
     ]
    },
    {
     "name": "stderr",
     "output_type": "stream",
     "text": [
      "  4%|███████▏                                                                                                                                                         | 45/1000 [03:31<1:15:31,  4.74s/it]"
     ]
    },
    {
     "name": "stdout",
     "output_type": "stream",
     "text": [
      "Training Loss: 0.8194451519976491\n",
      "Validation Loss: 1.2235402056149074\n",
      "Training Accuracy of the network: 68 %\n",
      "Validation Accuracy of the network: 44 %\n",
      "EarlyStopping counter: 1 out of 50\n"
     ]
    },
    {
     "name": "stderr",
     "output_type": "stream",
     "text": [
      "  5%|███████▍                                                                                                                                                         | 46/1000 [03:35<1:14:57,  4.71s/it]"
     ]
    },
    {
     "name": "stdout",
     "output_type": "stream",
     "text": [
      "Training Loss: 0.8127203125884568\n",
      "Validation Loss: 1.2125355516161238\n",
      "Training Accuracy of the network: 69 %\n",
      "Validation Accuracy of the network: 45 %\n",
      "Validation loss decreased (1.218089 --> 1.212536).  Saving model ...\n"
     ]
    },
    {
     "name": "stderr",
     "output_type": "stream",
     "text": [
      "  5%|███████▌                                                                                                                                                         | 47/1000 [03:40<1:14:29,  4.69s/it]"
     ]
    },
    {
     "name": "stdout",
     "output_type": "stream",
     "text": [
      "Training Loss: 0.7822062900100929\n",
      "Validation Loss: 1.2210695045334952\n",
      "Training Accuracy of the network: 71 %\n",
      "Validation Accuracy of the network: 44 %\n",
      "EarlyStopping counter: 1 out of 50\n"
     ]
    },
    {
     "name": "stderr",
     "output_type": "stream",
     "text": [
      "  5%|███████▋                                                                                                                                                         | 48/1000 [03:45<1:14:43,  4.71s/it]"
     ]
    },
    {
     "name": "stdout",
     "output_type": "stream",
     "text": [
      "Training Loss: 0.7710380053174668\n",
      "Validation Loss: 1.227191080365862\n",
      "Training Accuracy of the network: 72 %\n",
      "Validation Accuracy of the network: 42 %\n",
      "EarlyStopping counter: 2 out of 50\n"
     ]
    },
    {
     "name": "stderr",
     "output_type": "stream",
     "text": [
      "  5%|███████▉                                                                                                                                                         | 49/1000 [03:50<1:15:42,  4.78s/it]"
     ]
    },
    {
     "name": "stdout",
     "output_type": "stream",
     "text": [
      "Training Loss: 0.7783098149558773\n",
      "Validation Loss: 1.2326684951782227\n",
      "Training Accuracy of the network: 71 %\n",
      "Validation Accuracy of the network: 43 %\n",
      "EarlyStopping counter: 3 out of 50\n"
     ]
    },
    {
     "name": "stderr",
     "output_type": "stream",
     "text": [
      "  5%|████████                                                                                                                                                         | 50/1000 [03:54<1:14:59,  4.74s/it]"
     ]
    },
    {
     "name": "stdout",
     "output_type": "stream",
     "text": [
      "Training Loss: 0.7605836629003718\n",
      "Validation Loss: 1.2160123194966996\n",
      "Training Accuracy of the network: 72 %\n",
      "Validation Accuracy of the network: 44 %\n",
      "EarlyStopping counter: 4 out of 50\n"
     ]
    },
    {
     "name": "stderr",
     "output_type": "stream",
     "text": [
      "  5%|████████▏                                                                                                                                                        | 51/1000 [03:58<1:12:46,  4.60s/it]"
     ]
    },
    {
     "name": "stdout",
     "output_type": "stream",
     "text": [
      "Training Loss: 0.7520216526328654\n",
      "Validation Loss: 1.2270110726356507\n",
      "Training Accuracy of the network: 72 %\n",
      "Validation Accuracy of the network: 44 %\n",
      "EarlyStopping counter: 5 out of 50\n"
     ]
    },
    {
     "name": "stderr",
     "output_type": "stream",
     "text": [
      "  5%|████████▎                                                                                                                                                        | 52/1000 [04:03<1:12:43,  4.60s/it]"
     ]
    },
    {
     "name": "stdout",
     "output_type": "stream",
     "text": [
      "Training Loss: 0.7367162246634995\n",
      "Validation Loss: 1.2242492181914193\n",
      "Training Accuracy of the network: 73 %\n",
      "Validation Accuracy of the network: 44 %\n",
      "EarlyStopping counter: 6 out of 50\n"
     ]
    },
    {
     "name": "stderr",
     "output_type": "stream",
     "text": [
      "  5%|████████▌                                                                                                                                                        | 53/1000 [04:08<1:12:01,  4.56s/it]"
     ]
    },
    {
     "name": "stdout",
     "output_type": "stream",
     "text": [
      "Training Loss: 0.7263041898824166\n",
      "Validation Loss: 1.2192190272467478\n",
      "Training Accuracy of the network: 73 %\n",
      "Validation Accuracy of the network: 46 %\n",
      "EarlyStopping counter: 7 out of 50\n"
     ]
    },
    {
     "name": "stderr",
     "output_type": "stream",
     "text": [
      "  5%|████████▋                                                                                                                                                        | 54/1000 [04:12<1:13:10,  4.64s/it]"
     ]
    },
    {
     "name": "stdout",
     "output_type": "stream",
     "text": [
      "Training Loss: 0.7329607029323992\n",
      "Validation Loss: 1.2093698178018844\n",
      "Training Accuracy of the network: 72 %\n",
      "Validation Accuracy of the network: 45 %\n",
      "Validation loss decreased (1.212536 --> 1.209370).  Saving model ...\n"
     ]
    },
    {
     "name": "stderr",
     "output_type": "stream",
     "text": [
      "  6%|████████▊                                                                                                                                                        | 55/1000 [04:17<1:13:52,  4.69s/it]"
     ]
    },
    {
     "name": "stdout",
     "output_type": "stream",
     "text": [
      "Training Loss: 0.7222348121197327\n",
      "Validation Loss: 1.228088525363377\n",
      "Training Accuracy of the network: 73 %\n",
      "Validation Accuracy of the network: 44 %\n",
      "EarlyStopping counter: 1 out of 50\n"
     ]
    },
    {
     "name": "stderr",
     "output_type": "stream",
     "text": [
      "  6%|█████████                                                                                                                                                        | 56/1000 [04:22<1:14:22,  4.73s/it]"
     ]
    },
    {
     "name": "stdout",
     "output_type": "stream",
     "text": [
      "Training Loss: 0.7128808362328488\n",
      "Validation Loss: 1.2091884578977312\n",
      "Training Accuracy of the network: 74 %\n",
      "Validation Accuracy of the network: 46 %\n",
      "Validation loss decreased (1.209370 --> 1.209188).  Saving model ...\n"
     ]
    },
    {
     "name": "stderr",
     "output_type": "stream",
     "text": [
      "  6%|█████████▏                                                                                                                                                       | 57/1000 [04:27<1:14:18,  4.73s/it]"
     ]
    },
    {
     "name": "stdout",
     "output_type": "stream",
     "text": [
      "Training Loss: 0.7110927530388901\n",
      "Validation Loss: 1.2132756216185434\n",
      "Training Accuracy of the network: 74 %\n",
      "Validation Accuracy of the network: 46 %\n",
      "EarlyStopping counter: 1 out of 50\n"
     ]
    },
    {
     "name": "stderr",
     "output_type": "stream",
     "text": [
      "  6%|█████████▎                                                                                                                                                       | 58/1000 [04:31<1:13:54,  4.71s/it]"
     ]
    },
    {
     "name": "stdout",
     "output_type": "stream",
     "text": [
      "Training Loss: 0.7181431074505267\n",
      "Validation Loss: 1.2070406811577934\n",
      "Training Accuracy of the network: 73 %\n",
      "Validation Accuracy of the network: 47 %\n",
      "Validation loss decreased (1.209188 --> 1.207041).  Saving model ...\n"
     ]
    },
    {
     "name": "stderr",
     "output_type": "stream",
     "text": [
      "  6%|█████████▍                                                                                                                                                       | 59/1000 [04:36<1:14:27,  4.75s/it]"
     ]
    },
    {
     "name": "stdout",
     "output_type": "stream",
     "text": [
      "Training Loss: 0.6929465085268021\n",
      "Validation Loss: 1.2195579051971435\n",
      "Training Accuracy of the network: 75 %\n",
      "Validation Accuracy of the network: 45 %\n",
      "EarlyStopping counter: 1 out of 50\n"
     ]
    },
    {
     "name": "stderr",
     "output_type": "stream",
     "text": [
      "  6%|█████████▋                                                                                                                                                       | 60/1000 [04:41<1:15:03,  4.79s/it]"
     ]
    },
    {
     "name": "stdout",
     "output_type": "stream",
     "text": [
      "Training Loss: 0.6879361153080843\n",
      "Validation Loss: 1.205178851740701\n",
      "Training Accuracy of the network: 74 %\n",
      "Validation Accuracy of the network: 46 %\n",
      "Validation loss decreased (1.207041 --> 1.205179).  Saving model ...\n"
     ]
    },
    {
     "name": "stderr",
     "output_type": "stream",
     "text": [
      "  6%|█████████▊                                                                                                                                                       | 61/1000 [04:46<1:15:46,  4.84s/it]"
     ]
    },
    {
     "name": "stdout",
     "output_type": "stream",
     "text": [
      "Training Loss: 0.6819010925465736\n",
      "Validation Loss: 1.2109424539974758\n",
      "Training Accuracy of the network: 75 %\n",
      "Validation Accuracy of the network: 46 %\n",
      "EarlyStopping counter: 1 out of 50\n"
     ]
    },
    {
     "name": "stderr",
     "output_type": "stream",
     "text": [
      "  6%|█████████▉                                                                                                                                                       | 62/1000 [04:51<1:15:57,  4.86s/it]"
     ]
    },
    {
     "name": "stdout",
     "output_type": "stream",
     "text": [
      "Training Loss: 0.6785982173422108\n",
      "Validation Loss: 1.215197776045118\n",
      "Training Accuracy of the network: 75 %\n",
      "Validation Accuracy of the network: 43 %\n",
      "EarlyStopping counter: 2 out of 50\n"
     ]
    },
    {
     "name": "stderr",
     "output_type": "stream",
     "text": [
      "  6%|██████████▏                                                                                                                                                      | 63/1000 [04:56<1:15:39,  4.84s/it]"
     ]
    },
    {
     "name": "stdout",
     "output_type": "stream",
     "text": [
      "Training Loss: 0.6620971571276153\n",
      "Validation Loss: 1.1989225217274257\n",
      "Training Accuracy of the network: 75 %\n",
      "Validation Accuracy of the network: 46 %\n",
      "Validation loss decreased (1.205179 --> 1.198923).  Saving model ...\n"
     ]
    },
    {
     "name": "stderr",
     "output_type": "stream",
     "text": [
      "  6%|██████████▎                                                                                                                                                      | 64/1000 [05:01<1:15:20,  4.83s/it]"
     ]
    },
    {
     "name": "stdout",
     "output_type": "stream",
     "text": [
      "Training Loss: 0.6408448925484782\n",
      "Validation Loss: 1.2058824130467005\n",
      "Training Accuracy of the network: 76 %\n",
      "Validation Accuracy of the network: 45 %\n",
      "EarlyStopping counter: 1 out of 50\n"
     ]
    },
    {
     "name": "stderr",
     "output_type": "stream",
     "text": [
      "  6%|██████████▍                                                                                                                                                      | 65/1000 [05:05<1:14:19,  4.77s/it]"
     ]
    },
    {
     "name": "stdout",
     "output_type": "stream",
     "text": [
      "Training Loss: 0.655900785456533\n",
      "Validation Loss: 1.218372871194567\n",
      "Training Accuracy of the network: 76 %\n",
      "Validation Accuracy of the network: 46 %\n",
      "EarlyStopping counter: 2 out of 50\n"
     ]
    },
    {
     "name": "stderr",
     "output_type": "stream",
     "text": [
      "  7%|██████████▋                                                                                                                                                      | 66/1000 [05:10<1:14:36,  4.79s/it]"
     ]
    },
    {
     "name": "stdout",
     "output_type": "stream",
     "text": [
      "Training Loss: 0.6333963376456413\n",
      "Validation Loss: 1.2219115086964198\n",
      "Training Accuracy of the network: 77 %\n",
      "Validation Accuracy of the network: 47 %\n",
      "EarlyStopping counter: 3 out of 50\n"
     ]
    },
    {
     "name": "stderr",
     "output_type": "stream",
     "text": [
      "  7%|██████████▊                                                                                                                                                      | 67/1000 [05:15<1:14:25,  4.79s/it]"
     ]
    },
    {
     "name": "stdout",
     "output_type": "stream",
     "text": [
      "Training Loss: 0.6226461098893828\n",
      "Validation Loss: 1.2352115818432399\n",
      "Training Accuracy of the network: 78 %\n",
      "Validation Accuracy of the network: 46 %\n",
      "EarlyStopping counter: 4 out of 50\n"
     ]
    },
    {
     "name": "stderr",
     "output_type": "stream",
     "text": [
      "  7%|██████████▉                                                                                                                                                      | 68/1000 [05:19<1:13:24,  4.73s/it]"
     ]
    },
    {
     "name": "stdout",
     "output_type": "stream",
     "text": [
      "Training Loss: 0.6188963109600372\n",
      "Validation Loss: 1.237039908340999\n",
      "Training Accuracy of the network: 78 %\n",
      "Validation Accuracy of the network: 46 %\n",
      "EarlyStopping counter: 5 out of 50\n"
     ]
    },
    {
     "name": "stderr",
     "output_type": "stream",
     "text": [
      "  7%|███████████                                                                                                                                                      | 69/1000 [05:24<1:12:41,  4.68s/it]"
     ]
    },
    {
     "name": "stdout",
     "output_type": "stream",
     "text": [
      "Training Loss: 0.6355522845102393\n",
      "Validation Loss: 1.2340187617710658\n",
      "Training Accuracy of the network: 76 %\n",
      "Validation Accuracy of the network: 47 %\n",
      "EarlyStopping counter: 6 out of 50\n"
     ]
    },
    {
     "name": "stderr",
     "output_type": "stream",
     "text": [
      "  7%|███████████▎                                                                                                                                                     | 70/1000 [05:29<1:12:57,  4.71s/it]"
     ]
    },
    {
     "name": "stdout",
     "output_type": "stream",
     "text": [
      "Training Loss: 0.6240435760954152\n",
      "Validation Loss: 1.2136482494218008\n",
      "Training Accuracy of the network: 77 %\n",
      "Validation Accuracy of the network: 47 %\n",
      "EarlyStopping counter: 7 out of 50\n"
     ]
    },
    {
     "name": "stderr",
     "output_type": "stream",
     "text": [
      "  7%|███████████▍                                                                                                                                                     | 71/1000 [05:33<1:12:34,  4.69s/it]"
     ]
    },
    {
     "name": "stdout",
     "output_type": "stream",
     "text": [
      "Training Loss: 0.6001817282775174\n",
      "Validation Loss: 1.2412600704601833\n",
      "Training Accuracy of the network: 80 %\n",
      "Validation Accuracy of the network: 47 %\n",
      "EarlyStopping counter: 8 out of 50\n"
     ]
    },
    {
     "name": "stderr",
     "output_type": "stream",
     "text": [
      "  7%|███████████▌                                                                                                                                                     | 72/1000 [05:38<1:11:47,  4.64s/it]"
     ]
    },
    {
     "name": "stdout",
     "output_type": "stream",
     "text": [
      "Training Loss: 0.6054209561451621\n",
      "Validation Loss: 1.246016332081386\n",
      "Training Accuracy of the network: 79 %\n",
      "Validation Accuracy of the network: 45 %\n",
      "EarlyStopping counter: 9 out of 50\n"
     ]
    },
    {
     "name": "stderr",
     "output_type": "stream",
     "text": [
      "  7%|███████████▊                                                                                                                                                     | 73/1000 [05:42<1:11:03,  4.60s/it]"
     ]
    },
    {
     "name": "stdout",
     "output_type": "stream",
     "text": [
      "Training Loss: 0.6029384874779246\n",
      "Validation Loss: 1.2498592972755431\n",
      "Training Accuracy of the network: 79 %\n",
      "Validation Accuracy of the network: 45 %\n",
      "EarlyStopping counter: 10 out of 50\n"
     ]
    },
    {
     "name": "stderr",
     "output_type": "stream",
     "text": [
      "  7%|███████████▉                                                                                                                                                     | 74/1000 [05:47<1:11:15,  4.62s/it]"
     ]
    },
    {
     "name": "stdout",
     "output_type": "stream",
     "text": [
      "Training Loss: 0.5736974274766617\n",
      "Validation Loss: 1.241960074220385\n",
      "Training Accuracy of the network: 80 %\n",
      "Validation Accuracy of the network: 46 %\n",
      "EarlyStopping counter: 11 out of 50\n"
     ]
    },
    {
     "name": "stderr",
     "output_type": "stream",
     "text": [
      "  8%|████████████                                                                                                                                                     | 75/1000 [05:52<1:12:08,  4.68s/it]"
     ]
    },
    {
     "name": "stdout",
     "output_type": "stream",
     "text": [
      "Training Loss: 0.587874496112699\n",
      "Validation Loss: 1.228348502090999\n",
      "Training Accuracy of the network: 79 %\n",
      "Validation Accuracy of the network: 47 %\n",
      "EarlyStopping counter: 12 out of 50\n"
     ]
    },
    {
     "name": "stderr",
     "output_type": "stream",
     "text": [
      "  8%|████████████▏                                                                                                                                                    | 76/1000 [05:57<1:12:21,  4.70s/it]"
     ]
    },
    {
     "name": "stdout",
     "output_type": "stream",
     "text": [
      "Training Loss: 0.581726215455843\n",
      "Validation Loss: 1.2427385432379587\n",
      "Training Accuracy of the network: 80 %\n",
      "Validation Accuracy of the network: 45 %\n",
      "EarlyStopping counter: 13 out of 50\n"
     ]
    },
    {
     "name": "stderr",
     "output_type": "stream",
     "text": [
      "  8%|████████████▍                                                                                                                                                    | 77/1000 [06:01<1:12:24,  4.71s/it]"
     ]
    },
    {
     "name": "stdout",
     "output_type": "stream",
     "text": [
      "Training Loss: 0.5776206325145735\n",
      "Validation Loss: 1.251609468460083\n",
      "Training Accuracy of the network: 79 %\n",
      "Validation Accuracy of the network: 46 %\n",
      "EarlyStopping counter: 14 out of 50\n"
     ]
    },
    {
     "name": "stderr",
     "output_type": "stream",
     "text": [
      "  8%|████████████▌                                                                                                                                                    | 78/1000 [06:06<1:12:54,  4.74s/it]"
     ]
    },
    {
     "name": "stdout",
     "output_type": "stream",
     "text": [
      "Training Loss: 0.5780429060476414\n",
      "Validation Loss: 1.2397374595914568\n",
      "Training Accuracy of the network: 80 %\n",
      "Validation Accuracy of the network: 46 %\n",
      "EarlyStopping counter: 15 out of 50\n"
     ]
    },
    {
     "name": "stderr",
     "output_type": "stream",
     "text": [
      "  8%|████████████▋                                                                                                                                                    | 79/1000 [06:11<1:12:23,  4.72s/it]"
     ]
    },
    {
     "name": "stdout",
     "output_type": "stream",
     "text": [
      "Training Loss: 0.5815320852873982\n",
      "Validation Loss: 1.2535063641411917\n",
      "Training Accuracy of the network: 79 %\n",
      "Validation Accuracy of the network: 45 %\n",
      "EarlyStopping counter: 16 out of 50\n"
     ]
    },
    {
     "name": "stderr",
     "output_type": "stream",
     "text": [
      "  8%|████████████▉                                                                                                                                                    | 80/1000 [06:16<1:12:15,  4.71s/it]"
     ]
    },
    {
     "name": "stdout",
     "output_type": "stream",
     "text": [
      "Training Loss: 0.5681854242431945\n",
      "Validation Loss: 1.228307969229562\n",
      "Training Accuracy of the network: 79 %\n",
      "Validation Accuracy of the network: 46 %\n",
      "EarlyStopping counter: 17 out of 50\n"
     ]
    },
    {
     "name": "stderr",
     "output_type": "stream",
     "text": [
      "  8%|█████████████                                                                                                                                                    | 81/1000 [06:20<1:11:35,  4.67s/it]"
     ]
    },
    {
     "name": "stdout",
     "output_type": "stream",
     "text": [
      "Training Loss: 0.5482281915087631\n",
      "Validation Loss: 1.243052239077432\n",
      "Training Accuracy of the network: 80 %\n",
      "Validation Accuracy of the network: 46 %\n",
      "EarlyStopping counter: 18 out of 50\n"
     ]
    },
    {
     "name": "stderr",
     "output_type": "stream",
     "text": [
      "  8%|█████████████▏                                                                                                                                                   | 82/1000 [06:25<1:11:18,  4.66s/it]"
     ]
    },
    {
     "name": "stdout",
     "output_type": "stream",
     "text": [
      "Training Loss: 0.5470362018415893\n",
      "Validation Loss: 1.2356383425848825\n",
      "Training Accuracy of the network: 82 %\n",
      "Validation Accuracy of the network: 47 %\n",
      "EarlyStopping counter: 19 out of 50\n"
     ]
    },
    {
     "name": "stderr",
     "output_type": "stream",
     "text": [
      "  8%|█████████████▎                                                                                                                                                   | 83/1000 [06:30<1:11:39,  4.69s/it]"
     ]
    },
    {
     "name": "stdout",
     "output_type": "stream",
     "text": [
      "Training Loss: 0.5522556554364122\n",
      "Validation Loss: 1.191107165813446\n",
      "Training Accuracy of the network: 80 %\n",
      "Validation Accuracy of the network: 47 %\n",
      "Validation loss decreased (1.198923 --> 1.191107).  Saving model ...\n"
     ]
    },
    {
     "name": "stderr",
     "output_type": "stream",
     "text": [
      "  8%|█████████████▌                                                                                                                                                   | 84/1000 [06:34<1:12:03,  4.72s/it]"
     ]
    },
    {
     "name": "stdout",
     "output_type": "stream",
     "text": [
      "Training Loss: 0.538966336220071\n",
      "Validation Loss: 1.2375575065612794\n",
      "Training Accuracy of the network: 80 %\n",
      "Validation Accuracy of the network: 48 %\n",
      "EarlyStopping counter: 1 out of 50\n"
     ]
    },
    {
     "name": "stderr",
     "output_type": "stream",
     "text": [
      "  8%|█████████████▋                                                                                                                                                   | 85/1000 [06:39<1:12:28,  4.75s/it]"
     ]
    },
    {
     "name": "stdout",
     "output_type": "stream",
     "text": [
      "Training Loss: 0.539559996754363\n",
      "Validation Loss: 1.2411647864750452\n",
      "Training Accuracy of the network: 81 %\n",
      "Validation Accuracy of the network: 47 %\n",
      "EarlyStopping counter: 2 out of 50\n"
     ]
    },
    {
     "name": "stderr",
     "output_type": "stream",
     "text": [
      "  9%|█████████████▊                                                                                                                                                   | 86/1000 [06:44<1:12:20,  4.75s/it]"
     ]
    },
    {
     "name": "stdout",
     "output_type": "stream",
     "text": [
      "Training Loss: 0.522556834678719\n",
      "Validation Loss: 1.2440308724130904\n",
      "Training Accuracy of the network: 82 %\n",
      "Validation Accuracy of the network: 48 %\n",
      "EarlyStopping counter: 3 out of 50\n"
     ]
    },
    {
     "name": "stderr",
     "output_type": "stream",
     "text": [
      "  9%|██████████████                                                                                                                                                   | 87/1000 [06:48<1:11:29,  4.70s/it]"
     ]
    },
    {
     "name": "stdout",
     "output_type": "stream",
     "text": [
      "Training Loss: 0.5354952016386433\n",
      "Validation Loss: 1.2228322574070523\n",
      "Training Accuracy of the network: 81 %\n",
      "Validation Accuracy of the network: 47 %\n",
      "EarlyStopping counter: 4 out of 50\n"
     ]
    },
    {
     "name": "stderr",
     "output_type": "stream",
     "text": [
      "  9%|██████████████▏                                                                                                                                                  | 88/1000 [06:53<1:11:23,  4.70s/it]"
     ]
    },
    {
     "name": "stdout",
     "output_type": "stream",
     "text": [
      "Training Loss: 0.5138363708620486\n",
      "Validation Loss: 1.2486937778336662\n",
      "Training Accuracy of the network: 82 %\n",
      "Validation Accuracy of the network: 45 %\n",
      "EarlyStopping counter: 5 out of 50\n"
     ]
    },
    {
     "name": "stderr",
     "output_type": "stream",
     "text": [
      "  9%|██████████████▎                                                                                                                                                  | 89/1000 [06:58<1:10:56,  4.67s/it]"
     ]
    },
    {
     "name": "stdout",
     "output_type": "stream",
     "text": [
      "Training Loss: 0.5102241880435875\n",
      "Validation Loss: 1.2145297493253435\n",
      "Training Accuracy of the network: 81 %\n",
      "Validation Accuracy of the network: 48 %\n",
      "EarlyStopping counter: 6 out of 50\n"
     ]
    },
    {
     "name": "stderr",
     "output_type": "stream",
     "text": [
      "  9%|██████████████▍                                                                                                                                                  | 90/1000 [07:03<1:11:15,  4.70s/it]"
     ]
    },
    {
     "name": "stdout",
     "output_type": "stream",
     "text": [
      "Training Loss: 0.5167746877540713\n",
      "Validation Loss: 1.2395607369286674\n",
      "Training Accuracy of the network: 82 %\n",
      "Validation Accuracy of the network: 48 %\n",
      "EarlyStopping counter: 7 out of 50\n"
     ]
    },
    {
     "name": "stderr",
     "output_type": "stream",
     "text": [
      "  9%|██████████████▋                                                                                                                                                  | 91/1000 [07:07<1:11:58,  4.75s/it]"
     ]
    },
    {
     "name": "stdout",
     "output_type": "stream",
     "text": [
      "Training Loss: 0.5304757977525393\n",
      "Validation Loss: 1.2503176961626326\n",
      "Training Accuracy of the network: 81 %\n",
      "Validation Accuracy of the network: 47 %\n",
      "EarlyStopping counter: 8 out of 50\n"
     ]
    },
    {
     "name": "stderr",
     "output_type": "stream",
     "text": [
      "  9%|██████████████▊                                                                                                                                                  | 92/1000 [07:12<1:11:26,  4.72s/it]"
     ]
    },
    {
     "name": "stdout",
     "output_type": "stream",
     "text": [
      "Training Loss: 0.5112919458660526\n",
      "Validation Loss: 1.252920777457101\n",
      "Training Accuracy of the network: 83 %\n",
      "Validation Accuracy of the network: 46 %\n",
      "EarlyStopping counter: 9 out of 50\n"
     ]
    },
    {
     "name": "stderr",
     "output_type": "stream",
     "text": [
      "  9%|██████████████▉                                                                                                                                                  | 93/1000 [07:17<1:10:33,  4.67s/it]"
     ]
    },
    {
     "name": "stdout",
     "output_type": "stream",
     "text": [
      "Training Loss: 0.5139630171267883\n",
      "Validation Loss: 1.2489040425845555\n",
      "Training Accuracy of the network: 82 %\n",
      "Validation Accuracy of the network: 48 %\n",
      "EarlyStopping counter: 10 out of 50\n"
     ]
    },
    {
     "name": "stderr",
     "output_type": "stream",
     "text": [
      "  9%|███████████████▏                                                                                                                                                 | 94/1000 [07:21<1:11:24,  4.73s/it]"
     ]
    },
    {
     "name": "stdout",
     "output_type": "stream",
     "text": [
      "Training Loss: 0.49289126802181854\n",
      "Validation Loss: 1.2579565593174526\n",
      "Training Accuracy of the network: 82 %\n",
      "Validation Accuracy of the network: 46 %\n",
      "EarlyStopping counter: 11 out of 50\n"
     ]
    },
    {
     "name": "stderr",
     "output_type": "stream",
     "text": [
      " 10%|███████████████▎                                                                                                                                                 | 95/1000 [07:26<1:10:35,  4.68s/it]"
     ]
    },
    {
     "name": "stdout",
     "output_type": "stream",
     "text": [
      "Training Loss: 0.5178659713786581\n",
      "Validation Loss: 1.2490708368165153\n",
      "Training Accuracy of the network: 82 %\n",
      "Validation Accuracy of the network: 47 %\n",
      "EarlyStopping counter: 12 out of 50\n"
     ]
    },
    {
     "name": "stderr",
     "output_type": "stream",
     "text": [
      " 10%|███████████████▍                                                                                                                                                 | 96/1000 [07:31<1:11:05,  4.72s/it]"
     ]
    },
    {
     "name": "stdout",
     "output_type": "stream",
     "text": [
      "Training Loss: 0.5088096600079882\n",
      "Validation Loss: 1.2526418583733694\n",
      "Training Accuracy of the network: 82 %\n",
      "Validation Accuracy of the network: 48 %\n",
      "EarlyStopping counter: 13 out of 50\n"
     ]
    },
    {
     "name": "stderr",
     "output_type": "stream",
     "text": [
      " 10%|███████████████▌                                                                                                                                                 | 97/1000 [07:36<1:11:18,  4.74s/it]"
     ]
    },
    {
     "name": "stdout",
     "output_type": "stream",
     "text": [
      "Training Loss: 0.5047172744205033\n",
      "Validation Loss: 1.255895643574851\n",
      "Training Accuracy of the network: 82 %\n",
      "Validation Accuracy of the network: 49 %\n",
      "EarlyStopping counter: 14 out of 50\n"
     ]
    },
    {
     "name": "stderr",
     "output_type": "stream",
     "text": [
      " 10%|███████████████▊                                                                                                                                                 | 98/1000 [07:40<1:10:35,  4.70s/it]"
     ]
    },
    {
     "name": "stdout",
     "output_type": "stream",
     "text": [
      "Training Loss: 0.5017547283483588\n",
      "Validation Loss: 1.2640540497643606\n",
      "Training Accuracy of the network: 82 %\n",
      "Validation Accuracy of the network: 49 %\n",
      "EarlyStopping counter: 15 out of 50\n"
     ]
    },
    {
     "name": "stderr",
     "output_type": "stream",
     "text": [
      " 10%|███████████████▉                                                                                                                                                 | 99/1000 [07:45<1:11:10,  4.74s/it]"
     ]
    },
    {
     "name": "stdout",
     "output_type": "stream",
     "text": [
      "Training Loss: 0.4981437541436458\n",
      "Validation Loss: 1.2884489825793675\n",
      "Training Accuracy of the network: 82 %\n",
      "Validation Accuracy of the network: 48 %\n",
      "EarlyStopping counter: 16 out of 50\n"
     ]
    },
    {
     "name": "stderr",
     "output_type": "stream",
     "text": [
      " 10%|████████████████                                                                                                                                                | 100/1000 [07:50<1:10:55,  4.73s/it]"
     ]
    },
    {
     "name": "stdout",
     "output_type": "stream",
     "text": [
      "Training Loss: 0.4742946965970855\n",
      "Validation Loss: 1.2386313915252685\n",
      "Training Accuracy of the network: 84 %\n",
      "Validation Accuracy of the network: 47 %\n",
      "EarlyStopping counter: 17 out of 50\n"
     ]
    },
    {
     "name": "stderr",
     "output_type": "stream",
     "text": [
      " 10%|████████████████▏                                                                                                                                               | 101/1000 [07:54<1:10:41,  4.72s/it]"
     ]
    },
    {
     "name": "stdout",
     "output_type": "stream",
     "text": [
      "Training Loss: 0.4701826378055241\n",
      "Validation Loss: 1.292874002456665\n",
      "Training Accuracy of the network: 84 %\n",
      "Validation Accuracy of the network: 47 %\n",
      "EarlyStopping counter: 18 out of 50\n"
     ]
    },
    {
     "name": "stderr",
     "output_type": "stream",
     "text": [
      " 10%|████████████████▎                                                                                                                                               | 102/1000 [07:59<1:10:48,  4.73s/it]"
     ]
    },
    {
     "name": "stdout",
     "output_type": "stream",
     "text": [
      "Training Loss: 0.48117727915877884\n",
      "Validation Loss: 1.2448552438191005\n",
      "Training Accuracy of the network: 82 %\n",
      "Validation Accuracy of the network: 48 %\n",
      "EarlyStopping counter: 19 out of 50\n"
     ]
    },
    {
     "name": "stderr",
     "output_type": "stream",
     "text": [
      " 10%|████████████████▍                                                                                                                                               | 103/1000 [08:04<1:10:39,  4.73s/it]"
     ]
    },
    {
     "name": "stdout",
     "output_type": "stream",
     "text": [
      "Training Loss: 0.4771515660095906\n",
      "Validation Loss: 1.2765381370271955\n",
      "Training Accuracy of the network: 84 %\n",
      "Validation Accuracy of the network: 46 %\n",
      "EarlyStopping counter: 20 out of 50\n"
     ]
    },
    {
     "name": "stderr",
     "output_type": "stream",
     "text": [
      " 10%|████████████████▋                                                                                                                                               | 104/1000 [08:09<1:10:01,  4.69s/it]"
     ]
    },
    {
     "name": "stdout",
     "output_type": "stream",
     "text": [
      "Training Loss: 0.4740803634774858\n",
      "Validation Loss: 1.257584479876927\n",
      "Training Accuracy of the network: 84 %\n",
      "Validation Accuracy of the network: 48 %\n",
      "EarlyStopping counter: 21 out of 50\n"
     ]
    },
    {
     "name": "stderr",
     "output_type": "stream",
     "text": [
      " 10%|████████████████▊                                                                                                                                               | 105/1000 [08:13<1:09:59,  4.69s/it]"
     ]
    },
    {
     "name": "stdout",
     "output_type": "stream",
     "text": [
      "Training Loss: 0.48389250947081525\n",
      "Validation Loss: 1.2787065744400024\n",
      "Training Accuracy of the network: 84 %\n",
      "Validation Accuracy of the network: 47 %\n",
      "EarlyStopping counter: 22 out of 50\n"
     ]
    },
    {
     "name": "stderr",
     "output_type": "stream",
     "text": [
      " 11%|████████████████▉                                                                                                                                               | 106/1000 [08:18<1:10:15,  4.71s/it]"
     ]
    },
    {
     "name": "stdout",
     "output_type": "stream",
     "text": [
      "Training Loss: 0.45475750859232916\n",
      "Validation Loss: 1.239438429900578\n",
      "Training Accuracy of the network: 84 %\n",
      "Validation Accuracy of the network: 50 %\n",
      "EarlyStopping counter: 23 out of 50\n"
     ]
    },
    {
     "name": "stderr",
     "output_type": "stream",
     "text": [
      " 11%|█████████████████                                                                                                                                               | 107/1000 [08:23<1:10:20,  4.73s/it]"
     ]
    },
    {
     "name": "stdout",
     "output_type": "stream",
     "text": [
      "Training Loss: 0.4716830737348916\n",
      "Validation Loss: 1.2802168607711792\n",
      "Training Accuracy of the network: 84 %\n",
      "Validation Accuracy of the network: 49 %\n",
      "EarlyStopping counter: 24 out of 50\n"
     ]
    },
    {
     "name": "stderr",
     "output_type": "stream",
     "text": [
      " 11%|█████████████████▎                                                                                                                                              | 108/1000 [08:27<1:09:54,  4.70s/it]"
     ]
    },
    {
     "name": "stdout",
     "output_type": "stream",
     "text": [
      "Training Loss: 0.46176739587731985\n",
      "Validation Loss: 1.2362378886767795\n",
      "Training Accuracy of the network: 84 %\n",
      "Validation Accuracy of the network: 49 %\n",
      "EarlyStopping counter: 25 out of 50\n"
     ]
    },
    {
     "name": "stderr",
     "output_type": "stream",
     "text": [
      " 11%|█████████████████▍                                                                                                                                              | 109/1000 [08:32<1:09:59,  4.71s/it]"
     ]
    },
    {
     "name": "stdout",
     "output_type": "stream",
     "text": [
      "Training Loss: 0.4579969145681547\n",
      "Validation Loss: 1.2689979876790727\n",
      "Training Accuracy of the network: 85 %\n",
      "Validation Accuracy of the network: 47 %\n",
      "EarlyStopping counter: 26 out of 50\n"
     ]
    },
    {
     "name": "stderr",
     "output_type": "stream",
     "text": [
      " 11%|█████████████████▌                                                                                                                                              | 110/1000 [08:37<1:09:22,  4.68s/it]"
     ]
    },
    {
     "name": "stdout",
     "output_type": "stream",
     "text": [
      "Training Loss: 0.4577081904247187\n",
      "Validation Loss: 1.2641375286238534\n",
      "Training Accuracy of the network: 84 %\n",
      "Validation Accuracy of the network: 47 %\n",
      "EarlyStopping counter: 27 out of 50\n"
     ]
    },
    {
     "name": "stderr",
     "output_type": "stream",
     "text": [
      " 11%|█████████████████▊                                                                                                                                              | 111/1000 [08:42<1:09:58,  4.72s/it]"
     ]
    },
    {
     "name": "stdout",
     "output_type": "stream",
     "text": [
      "Training Loss: 0.46266764218824497\n",
      "Validation Loss: 1.2778215595654079\n",
      "Training Accuracy of the network: 85 %\n",
      "Validation Accuracy of the network: 45 %\n",
      "EarlyStopping counter: 28 out of 50\n"
     ]
    },
    {
     "name": "stderr",
     "output_type": "stream",
     "text": [
      " 11%|█████████████████▉                                                                                                                                              | 112/1000 [08:47<1:10:53,  4.79s/it]"
     ]
    },
    {
     "name": "stdout",
     "output_type": "stream",
     "text": [
      "Training Loss: 0.4464500852037167\n",
      "Validation Loss: 1.2763809050832475\n",
      "Training Accuracy of the network: 84 %\n",
      "Validation Accuracy of the network: 47 %\n",
      "EarlyStopping counter: 29 out of 50\n"
     ]
    },
    {
     "name": "stderr",
     "output_type": "stream",
     "text": [
      " 11%|██████████████████                                                                                                                                              | 113/1000 [08:51<1:10:28,  4.77s/it]"
     ]
    },
    {
     "name": "stdout",
     "output_type": "stream",
     "text": [
      "Training Loss: 0.46409496254679083\n",
      "Validation Loss: 1.244013272012983\n",
      "Training Accuracy of the network: 84 %\n",
      "Validation Accuracy of the network: 47 %\n",
      "EarlyStopping counter: 30 out of 50\n"
     ]
    },
    {
     "name": "stderr",
     "output_type": "stream",
     "text": [
      " 11%|██████████████████▏                                                                                                                                             | 114/1000 [08:56<1:10:31,  4.78s/it]"
     ]
    },
    {
     "name": "stdout",
     "output_type": "stream",
     "text": [
      "Training Loss: 0.43697909265756607\n",
      "Validation Loss: 1.2808060067040579\n",
      "Training Accuracy of the network: 84 %\n",
      "Validation Accuracy of the network: 49 %\n",
      "EarlyStopping counter: 31 out of 50\n"
     ]
    },
    {
     "name": "stderr",
     "output_type": "stream",
     "text": [
      " 12%|██████████████████▍                                                                                                                                             | 115/1000 [09:01<1:09:53,  4.74s/it]"
     ]
    },
    {
     "name": "stdout",
     "output_type": "stream",
     "text": [
      "Training Loss: 0.44588259175635764\n",
      "Validation Loss: 1.2556423340524947\n",
      "Training Accuracy of the network: 85 %\n",
      "Validation Accuracy of the network: 48 %\n",
      "EarlyStopping counter: 32 out of 50\n"
     ]
    },
    {
     "name": "stderr",
     "output_type": "stream",
     "text": [
      " 12%|██████████████████▌                                                                                                                                             | 116/1000 [09:05<1:10:02,  4.75s/it]"
     ]
    },
    {
     "name": "stdout",
     "output_type": "stream",
     "text": [
      "Training Loss: 0.4382451782407968\n",
      "Validation Loss: 1.291248060975756\n",
      "Training Accuracy of the network: 84 %\n",
      "Validation Accuracy of the network: 48 %\n",
      "EarlyStopping counter: 33 out of 50\n"
     ]
    },
    {
     "name": "stderr",
     "output_type": "stream",
     "text": [
      " 12%|██████████████████▋                                                                                                                                             | 117/1000 [09:10<1:09:00,  4.69s/it]"
     ]
    },
    {
     "name": "stdout",
     "output_type": "stream",
     "text": [
      "Training Loss: 0.418922725579013\n",
      "Validation Loss: 1.2917660100119455\n",
      "Training Accuracy of the network: 86 %\n",
      "Validation Accuracy of the network: 47 %\n",
      "EarlyStopping counter: 34 out of 50\n"
     ]
    },
    {
     "name": "stderr",
     "output_type": "stream",
     "text": [
      " 12%|██████████████████▉                                                                                                                                             | 118/1000 [09:15<1:09:08,  4.70s/it]"
     ]
    },
    {
     "name": "stdout",
     "output_type": "stream",
     "text": [
      "Training Loss: 0.423382214769937\n",
      "Validation Loss: 1.272597052369799\n",
      "Training Accuracy of the network: 86 %\n",
      "Validation Accuracy of the network: 47 %\n",
      "EarlyStopping counter: 35 out of 50\n"
     ]
    },
    {
     "name": "stderr",
     "output_type": "stream",
     "text": [
      " 12%|███████████████████                                                                                                                                             | 119/1000 [09:19<1:09:09,  4.71s/it]"
     ]
    },
    {
     "name": "stdout",
     "output_type": "stream",
     "text": [
      "Training Loss: 0.43503372630347376\n",
      "Validation Loss: 1.3102810961859568\n",
      "Training Accuracy of the network: 84 %\n",
      "Validation Accuracy of the network: 47 %\n",
      "EarlyStopping counter: 36 out of 50\n"
     ]
    },
    {
     "name": "stderr",
     "output_type": "stream",
     "text": [
      " 12%|███████████████████▏                                                                                                                                            | 120/1000 [09:24<1:08:37,  4.68s/it]"
     ]
    },
    {
     "name": "stdout",
     "output_type": "stream",
     "text": [
      "Training Loss: 0.4084232425776081\n",
      "Validation Loss: 1.2722959194864545\n",
      "Training Accuracy of the network: 87 %\n",
      "Validation Accuracy of the network: 47 %\n",
      "EarlyStopping counter: 37 out of 50\n"
     ]
    },
    {
     "name": "stderr",
     "output_type": "stream",
     "text": [
      " 12%|███████████████████▎                                                                                                                                            | 121/1000 [09:29<1:08:59,  4.71s/it]"
     ]
    },
    {
     "name": "stdout",
     "output_type": "stream",
     "text": [
      "Training Loss: 0.4168235587253087\n",
      "Validation Loss: 1.3150472266333444\n",
      "Training Accuracy of the network: 86 %\n",
      "Validation Accuracy of the network: 46 %\n",
      "EarlyStopping counter: 38 out of 50\n"
     ]
    },
    {
     "name": "stderr",
     "output_type": "stream",
     "text": [
      " 12%|███████████████████▌                                                                                                                                            | 122/1000 [09:34<1:08:53,  4.71s/it]"
     ]
    },
    {
     "name": "stdout",
     "output_type": "stream",
     "text": [
      "Training Loss: 0.4248198738348657\n",
      "Validation Loss: 1.283471623488835\n",
      "Training Accuracy of the network: 86 %\n",
      "Validation Accuracy of the network: 48 %\n",
      "EarlyStopping counter: 39 out of 50\n"
     ]
    },
    {
     "name": "stderr",
     "output_type": "stream",
     "text": [
      " 12%|███████████████████▋                                                                                                                                            | 123/1000 [09:38<1:08:58,  4.72s/it]"
     ]
    },
    {
     "name": "stdout",
     "output_type": "stream",
     "text": [
      "Training Loss: 0.43540933447471564\n",
      "Validation Loss: 1.3133168305669511\n",
      "Training Accuracy of the network: 86 %\n",
      "Validation Accuracy of the network: 46 %\n",
      "EarlyStopping counter: 40 out of 50\n"
     ]
    },
    {
     "name": "stderr",
     "output_type": "stream",
     "text": [
      " 12%|███████████████████▊                                                                                                                                            | 124/1000 [09:43<1:09:21,  4.75s/it]"
     ]
    },
    {
     "name": "stdout",
     "output_type": "stream",
     "text": [
      "Training Loss: 0.44698055444852164\n",
      "Validation Loss: 1.3486457415989468\n",
      "Training Accuracy of the network: 84 %\n",
      "Validation Accuracy of the network: 46 %\n",
      "EarlyStopping counter: 41 out of 50\n"
     ]
    },
    {
     "name": "stderr",
     "output_type": "stream",
     "text": [
      " 12%|████████████████████                                                                                                                                            | 125/1000 [09:48<1:08:32,  4.70s/it]"
     ]
    },
    {
     "name": "stdout",
     "output_type": "stream",
     "text": [
      "Training Loss: 0.41651396075452585\n",
      "Validation Loss: 1.264425015449524\n",
      "Training Accuracy of the network: 86 %\n",
      "Validation Accuracy of the network: 49 %\n",
      "EarlyStopping counter: 42 out of 50\n"
     ]
    },
    {
     "name": "stderr",
     "output_type": "stream",
     "text": [
      " 13%|████████████████████▏                                                                                                                                           | 126/1000 [09:52<1:08:36,  4.71s/it]"
     ]
    },
    {
     "name": "stdout",
     "output_type": "stream",
     "text": [
      "Training Loss: 0.4173027282391769\n",
      "Validation Loss: 1.2653600079672678\n",
      "Training Accuracy of the network: 87 %\n",
      "Validation Accuracy of the network: 48 %\n",
      "EarlyStopping counter: 43 out of 50\n"
     ]
    },
    {
     "name": "stderr",
     "output_type": "stream",
     "text": [
      " 13%|████████████████████▎                                                                                                                                           | 127/1000 [09:57<1:08:17,  4.69s/it]"
     ]
    },
    {
     "name": "stdout",
     "output_type": "stream",
     "text": [
      "Training Loss: 0.4177729736851609\n",
      "Validation Loss: 1.296331342629024\n",
      "Training Accuracy of the network: 85 %\n",
      "Validation Accuracy of the network: 49 %\n",
      "EarlyStopping counter: 44 out of 50\n"
     ]
    },
    {
     "name": "stderr",
     "output_type": "stream",
     "text": [
      " 13%|████████████████████▍                                                                                                                                           | 128/1000 [10:02<1:08:42,  4.73s/it]"
     ]
    },
    {
     "name": "stdout",
     "output_type": "stream",
     "text": [
      "Training Loss: 0.40209702391555346\n",
      "Validation Loss: 1.3168721505573817\n",
      "Training Accuracy of the network: 87 %\n",
      "Validation Accuracy of the network: 50 %\n",
      "EarlyStopping counter: 45 out of 50\n"
     ]
    },
    {
     "name": "stderr",
     "output_type": "stream",
     "text": [
      " 13%|████████████████████▋                                                                                                                                           | 129/1000 [10:07<1:08:03,  4.69s/it]"
     ]
    },
    {
     "name": "stdout",
     "output_type": "stream",
     "text": [
      "Training Loss: 0.4233214046428169\n",
      "Validation Loss: 1.28092793907438\n",
      "Training Accuracy of the network: 86 %\n",
      "Validation Accuracy of the network: 49 %\n",
      "EarlyStopping counter: 46 out of 50\n"
     ]
    },
    {
     "name": "stderr",
     "output_type": "stream",
     "text": [
      " 13%|████████████████████▊                                                                                                                                           | 130/1000 [10:11<1:08:36,  4.73s/it]"
     ]
    },
    {
     "name": "stdout",
     "output_type": "stream",
     "text": [
      "Training Loss: 0.41399427492549457\n",
      "Validation Loss: 1.2896561350141253\n",
      "Training Accuracy of the network: 87 %\n",
      "Validation Accuracy of the network: 48 %\n",
      "EarlyStopping counter: 47 out of 50\n"
     ]
    },
    {
     "name": "stderr",
     "output_type": "stream",
     "text": [
      " 13%|████████████████████▉                                                                                                                                           | 131/1000 [10:16<1:08:25,  4.72s/it]"
     ]
    },
    {
     "name": "stdout",
     "output_type": "stream",
     "text": [
      "Training Loss: 0.4017493432738643\n",
      "Validation Loss: 1.2583685517311096\n",
      "Training Accuracy of the network: 86 %\n",
      "Validation Accuracy of the network: 49 %\n",
      "EarlyStopping counter: 48 out of 50\n"
     ]
    },
    {
     "name": "stderr",
     "output_type": "stream",
     "text": [
      " 13%|█████████████████████                                                                                                                                           | 132/1000 [10:21<1:07:40,  4.68s/it]"
     ]
    },
    {
     "name": "stdout",
     "output_type": "stream",
     "text": [
      "Training Loss: 0.394501729287963\n",
      "Validation Loss: 1.3069031528064183\n",
      "Training Accuracy of the network: 87 %\n",
      "Validation Accuracy of the network: 48 %\n",
      "EarlyStopping counter: 49 out of 50\n"
     ]
    },
    {
     "name": "stderr",
     "output_type": "stream",
     "text": [
      " 13%|█████████████████████                                                                                                                                           | 132/1000 [10:26<1:08:36,  4.74s/it]\n"
     ]
    },
    {
     "name": "stdout",
     "output_type": "stream",
     "text": [
      "Training Loss: 0.40990241886912915\n",
      "Validation Loss: 1.323007457596915\n",
      "Training Accuracy of the network: 86 %\n",
      "Validation Accuracy of the network: 49 %\n",
      "EarlyStopping counter: 50 out of 50\n",
      "Early Stopping\n"
     ]
    },
    {
     "name": "stderr",
     "output_type": "stream",
     "text": [
      "100%|███████████████████████████████████████████████████████████████████████████████████████████████████████████████████████████████████████████████████████████████████████| 1/1 [00:00<00:00,  6.14it/s]\n"
     ]
    },
    {
     "name": "stdout",
     "output_type": "stream",
     "text": [
      "Extra Training Loss: 1.5002023451603377\n",
      "Extra Training Accuracy of the network: 46 %\n",
      "Extra Testing Loss: 1.2981069087982178\n",
      "Extra Testing Accuracy of the network: 44 %\n"
     ]
    },
    {
     "name": "stderr",
     "output_type": "stream",
     "text": [
      "  0%|▏                                                                                                                                                                 | 1/1000 [00:04<1:21:52,  4.92s/it]"
     ]
    },
    {
     "name": "stdout",
     "output_type": "stream",
     "text": [
      "Training Loss: 1.5992898111758025\n",
      "Validation Loss: 1.4196405717304774\n",
      "Training Accuracy of the network: 23 %\n",
      "Validation Accuracy of the network: 27 %\n",
      "Validation loss decreased (inf --> 1.419641).  Saving model ...\n"
     ]
    },
    {
     "name": "stderr",
     "output_type": "stream",
     "text": [
      "  0%|▎                                                                                                                                                                 | 2/1000 [00:09<1:20:19,  4.83s/it]"
     ]
    },
    {
     "name": "stdout",
     "output_type": "stream",
     "text": [
      "Training Loss: 1.4973789781763933\n",
      "Validation Loss: 1.413692900112697\n",
      "Training Accuracy of the network: 27 %\n",
      "Validation Accuracy of the network: 26 %\n",
      "Validation loss decreased (1.419641 --> 1.413693).  Saving model ...\n"
     ]
    },
    {
     "name": "stderr",
     "output_type": "stream",
     "text": [
      "  0%|▍                                                                                                                                                                 | 3/1000 [00:14<1:19:45,  4.80s/it]"
     ]
    },
    {
     "name": "stdout",
     "output_type": "stream",
     "text": [
      "Training Loss: 1.4776176741157754\n",
      "Validation Loss: 1.394194313458034\n",
      "Training Accuracy of the network: 30 %\n",
      "Validation Accuracy of the network: 31 %\n",
      "Validation loss decreased (1.413693 --> 1.394194).  Saving model ...\n"
     ]
    },
    {
     "name": "stderr",
     "output_type": "stream",
     "text": [
      "  0%|▋                                                                                                                                                                 | 4/1000 [00:19<1:18:54,  4.75s/it]"
     ]
    },
    {
     "name": "stdout",
     "output_type": "stream",
     "text": [
      "Training Loss: 1.4585065522055696\n",
      "Validation Loss: 1.3828444719314574\n",
      "Training Accuracy of the network: 29 %\n",
      "Validation Accuracy of the network: 28 %\n",
      "Validation loss decreased (1.394194 --> 1.382844).  Saving model ...\n"
     ]
    },
    {
     "name": "stderr",
     "output_type": "stream",
     "text": [
      "  0%|▊                                                                                                                                                                 | 5/1000 [00:23<1:19:17,  4.78s/it]"
     ]
    },
    {
     "name": "stdout",
     "output_type": "stream",
     "text": [
      "Training Loss: 1.4231270681256833\n",
      "Validation Loss: 1.3641162020819528\n",
      "Training Accuracy of the network: 31 %\n",
      "Validation Accuracy of the network: 32 %\n",
      "Validation loss decreased (1.382844 --> 1.364116).  Saving model ...\n"
     ]
    },
    {
     "name": "stderr",
     "output_type": "stream",
     "text": [
      "  1%|▉                                                                                                                                                                 | 6/1000 [00:28<1:18:57,  4.77s/it]"
     ]
    },
    {
     "name": "stdout",
     "output_type": "stream",
     "text": [
      "Training Loss: 1.384562651316325\n",
      "Validation Loss: 1.3636948892048426\n",
      "Training Accuracy of the network: 34 %\n",
      "Validation Accuracy of the network: 31 %\n",
      "Validation loss decreased (1.364116 --> 1.363695).  Saving model ...\n"
     ]
    },
    {
     "name": "stderr",
     "output_type": "stream",
     "text": [
      "  1%|█▏                                                                                                                                                                | 7/1000 [00:33<1:19:20,  4.79s/it]"
     ]
    },
    {
     "name": "stdout",
     "output_type": "stream",
     "text": [
      "Training Loss: 1.3573659762092258\n",
      "Validation Loss: 1.3554235117776052\n",
      "Training Accuracy of the network: 36 %\n",
      "Validation Accuracy of the network: 31 %\n",
      "Validation loss decreased (1.363695 --> 1.355424).  Saving model ...\n"
     ]
    },
    {
     "name": "stderr",
     "output_type": "stream",
     "text": [
      "  1%|█▎                                                                                                                                                                | 8/1000 [00:38<1:19:28,  4.81s/it]"
     ]
    },
    {
     "name": "stdout",
     "output_type": "stream",
     "text": [
      "Training Loss: 1.3341191739275835\n",
      "Validation Loss: 1.3368054798671178\n",
      "Training Accuracy of the network: 37 %\n",
      "Validation Accuracy of the network: 32 %\n",
      "Validation loss decreased (1.355424 --> 1.336805).  Saving model ...\n"
     ]
    },
    {
     "name": "stderr",
     "output_type": "stream",
     "text": [
      "  1%|█▍                                                                                                                                                                | 9/1000 [00:43<1:19:15,  4.80s/it]"
     ]
    },
    {
     "name": "stdout",
     "output_type": "stream",
     "text": [
      "Training Loss: 1.312963916339736\n",
      "Validation Loss: 1.3232798337936402\n",
      "Training Accuracy of the network: 38 %\n",
      "Validation Accuracy of the network: 35 %\n",
      "Validation loss decreased (1.336805 --> 1.323280).  Saving model ...\n"
     ]
    },
    {
     "name": "stderr",
     "output_type": "stream",
     "text": [
      "  1%|█▌                                                                                                                                                               | 10/1000 [00:47<1:19:06,  4.79s/it]"
     ]
    },
    {
     "name": "stdout",
     "output_type": "stream",
     "text": [
      "Training Loss: 1.2814557280229486\n",
      "Validation Loss: 1.3144932508468627\n",
      "Training Accuracy of the network: 39 %\n",
      "Validation Accuracy of the network: 36 %\n",
      "Validation loss decreased (1.323280 --> 1.314493).  Saving model ...\n"
     ]
    },
    {
     "name": "stderr",
     "output_type": "stream",
     "text": [
      "  1%|█▊                                                                                                                                                               | 11/1000 [00:52<1:18:55,  4.79s/it]"
     ]
    },
    {
     "name": "stdout",
     "output_type": "stream",
     "text": [
      "Training Loss: 1.2665004246476768\n",
      "Validation Loss: 1.3037726197923933\n",
      "Training Accuracy of the network: 42 %\n",
      "Validation Accuracy of the network: 38 %\n",
      "Validation loss decreased (1.314493 --> 1.303773).  Saving model ...\n"
     ]
    },
    {
     "name": "stderr",
     "output_type": "stream",
     "text": [
      "  1%|█▉                                                                                                                                                               | 12/1000 [00:57<1:20:15,  4.87s/it]"
     ]
    },
    {
     "name": "stdout",
     "output_type": "stream",
     "text": [
      "Training Loss: 1.2444324212661688\n",
      "Validation Loss: 1.2992213487625122\n",
      "Training Accuracy of the network: 44 %\n",
      "Validation Accuracy of the network: 38 %\n",
      "Validation loss decreased (1.303773 --> 1.299221).  Saving model ...\n"
     ]
    },
    {
     "name": "stderr",
     "output_type": "stream",
     "text": [
      "  1%|██                                                                                                                                                               | 13/1000 [01:02<1:20:38,  4.90s/it]"
     ]
    },
    {
     "name": "stdout",
     "output_type": "stream",
     "text": [
      "Training Loss: 1.2292076055554375\n",
      "Validation Loss: 1.2947278124945505\n",
      "Training Accuracy of the network: 45 %\n",
      "Validation Accuracy of the network: 36 %\n",
      "Validation loss decreased (1.299221 --> 1.294728).  Saving model ...\n"
     ]
    },
    {
     "name": "stderr",
     "output_type": "stream",
     "text": [
      "  1%|██▎                                                                                                                                                              | 14/1000 [01:07<1:20:27,  4.90s/it]"
     ]
    },
    {
     "name": "stdout",
     "output_type": "stream",
     "text": [
      "Training Loss: 1.2087645068548727\n",
      "Validation Loss: 1.2883810111454554\n",
      "Training Accuracy of the network: 46 %\n",
      "Validation Accuracy of the network: 35 %\n",
      "Validation loss decreased (1.294728 --> 1.288381).  Saving model ...\n"
     ]
    },
    {
     "name": "stderr",
     "output_type": "stream",
     "text": [
      "  2%|██▍                                                                                                                                                              | 15/1000 [01:12<1:19:37,  4.85s/it]"
     ]
    },
    {
     "name": "stdout",
     "output_type": "stream",
     "text": [
      "Training Loss: 1.191768098136653\n",
      "Validation Loss: 1.2801883935928344\n",
      "Training Accuracy of the network: 47 %\n",
      "Validation Accuracy of the network: 40 %\n",
      "Validation loss decreased (1.288381 --> 1.280188).  Saving model ...\n"
     ]
    },
    {
     "name": "stderr",
     "output_type": "stream",
     "text": [
      "  2%|██▌                                                                                                                                                              | 16/1000 [01:17<1:18:56,  4.81s/it]"
     ]
    },
    {
     "name": "stdout",
     "output_type": "stream",
     "text": [
      "Training Loss: 1.1753735408402872\n",
      "Validation Loss: 1.2770964009421213\n",
      "Training Accuracy of the network: 49 %\n",
      "Validation Accuracy of the network: 40 %\n",
      "Validation loss decreased (1.280188 --> 1.277096).  Saving model ...\n"
     ]
    },
    {
     "name": "stderr",
     "output_type": "stream",
     "text": [
      "  2%|██▋                                                                                                                                                              | 17/1000 [01:21<1:18:38,  4.80s/it]"
     ]
    },
    {
     "name": "stdout",
     "output_type": "stream",
     "text": [
      "Training Loss: 1.1666515594807223\n",
      "Validation Loss: 1.2659372738429477\n",
      "Training Accuracy of the network: 48 %\n",
      "Validation Accuracy of the network: 40 %\n",
      "Validation loss decreased (1.277096 --> 1.265937).  Saving model ...\n"
     ]
    },
    {
     "name": "stderr",
     "output_type": "stream",
     "text": [
      "  2%|██▉                                                                                                                                                              | 18/1000 [01:26<1:18:49,  4.82s/it]"
     ]
    },
    {
     "name": "stdout",
     "output_type": "stream",
     "text": [
      "Training Loss: 1.1418468433877695\n",
      "Validation Loss: 1.2637907879693167\n",
      "Training Accuracy of the network: 50 %\n",
      "Validation Accuracy of the network: 39 %\n",
      "Validation loss decreased (1.265937 --> 1.263791).  Saving model ...\n"
     ]
    },
    {
     "name": "stderr",
     "output_type": "stream",
     "text": [
      "  2%|███                                                                                                                                                              | 19/1000 [01:31<1:18:57,  4.83s/it]"
     ]
    },
    {
     "name": "stdout",
     "output_type": "stream",
     "text": [
      "Training Loss: 1.1385218587474546\n",
      "Validation Loss: 1.2639243534633091\n",
      "Training Accuracy of the network: 51 %\n",
      "Validation Accuracy of the network: 38 %\n",
      "EarlyStopping counter: 1 out of 50\n"
     ]
    },
    {
     "name": "stderr",
     "output_type": "stream",
     "text": [
      "  2%|███▏                                                                                                                                                             | 20/1000 [01:36<1:18:42,  4.82s/it]"
     ]
    },
    {
     "name": "stdout",
     "output_type": "stream",
     "text": [
      "Training Loss: 1.1203119387661202\n",
      "Validation Loss: 1.2576259102140155\n",
      "Training Accuracy of the network: 52 %\n",
      "Validation Accuracy of the network: 39 %\n",
      "Validation loss decreased (1.263791 --> 1.257626).  Saving model ...\n"
     ]
    },
    {
     "name": "stderr",
     "output_type": "stream",
     "text": [
      "  2%|███▍                                                                                                                                                             | 21/1000 [01:41<1:18:34,  4.82s/it]"
     ]
    },
    {
     "name": "stdout",
     "output_type": "stream",
     "text": [
      "Training Loss: 1.1054081515125607\n",
      "Validation Loss: 1.2511952502386912\n",
      "Training Accuracy of the network: 53 %\n",
      "Validation Accuracy of the network: 41 %\n",
      "Validation loss decreased (1.257626 --> 1.251195).  Saving model ...\n"
     ]
    },
    {
     "name": "stderr",
     "output_type": "stream",
     "text": [
      "  2%|███▌                                                                                                                                                             | 22/1000 [01:45<1:18:23,  4.81s/it]"
     ]
    },
    {
     "name": "stdout",
     "output_type": "stream",
     "text": [
      "Training Loss: 1.0839532259581746\n",
      "Validation Loss: 1.2355257272720337\n",
      "Training Accuracy of the network: 55 %\n",
      "Validation Accuracy of the network: 42 %\n",
      "Validation loss decreased (1.251195 --> 1.235526).  Saving model ...\n"
     ]
    },
    {
     "name": "stderr",
     "output_type": "stream",
     "text": [
      "  2%|███▋                                                                                                                                                             | 23/1000 [01:50<1:17:13,  4.74s/it]"
     ]
    },
    {
     "name": "stdout",
     "output_type": "stream",
     "text": [
      "Training Loss: 1.0724404925021573\n",
      "Validation Loss: 1.2412915195737566\n",
      "Training Accuracy of the network: 54 %\n",
      "Validation Accuracy of the network: 40 %\n",
      "EarlyStopping counter: 1 out of 50\n"
     ]
    },
    {
     "name": "stderr",
     "output_type": "stream",
     "text": [
      "  2%|███▊                                                                                                                                                             | 24/1000 [01:55<1:16:53,  4.73s/it]"
     ]
    },
    {
     "name": "stdout",
     "output_type": "stream",
     "text": [
      "Training Loss: 1.055155573979668\n",
      "Validation Loss: 1.2375010762895857\n",
      "Training Accuracy of the network: 56 %\n",
      "Validation Accuracy of the network: 42 %\n",
      "EarlyStopping counter: 2 out of 50\n"
     ]
    },
    {
     "name": "stderr",
     "output_type": "stream",
     "text": [
      "  2%|████                                                                                                                                                             | 25/1000 [02:00<1:17:30,  4.77s/it]"
     ]
    },
    {
     "name": "stdout",
     "output_type": "stream",
     "text": [
      "Training Loss: 1.0451632962710615\n",
      "Validation Loss: 1.2302698935781207\n",
      "Training Accuracy of the network: 56 %\n",
      "Validation Accuracy of the network: 42 %\n",
      "Validation loss decreased (1.235526 --> 1.230270).  Saving model ...\n"
     ]
    },
    {
     "name": "stderr",
     "output_type": "stream",
     "text": [
      "  3%|████▏                                                                                                                                                            | 26/1000 [02:05<1:17:58,  4.80s/it]"
     ]
    },
    {
     "name": "stdout",
     "output_type": "stream",
     "text": [
      "Training Loss: 1.026634194712708\n",
      "Validation Loss: 1.2210310850824628\n",
      "Training Accuracy of the network: 59 %\n",
      "Validation Accuracy of the network: 43 %\n",
      "Validation loss decreased (1.230270 --> 1.221031).  Saving model ...\n"
     ]
    },
    {
     "name": "stderr",
     "output_type": "stream",
     "text": [
      "  3%|████▎                                                                                                                                                            | 27/1000 [02:09<1:17:09,  4.76s/it]"
     ]
    },
    {
     "name": "stdout",
     "output_type": "stream",
     "text": [
      "Training Loss: 1.0236628941003827\n",
      "Validation Loss: 1.2112027747290475\n",
      "Training Accuracy of the network: 57 %\n",
      "Validation Accuracy of the network: 43 %\n",
      "Validation loss decreased (1.221031 --> 1.211203).  Saving model ...\n"
     ]
    },
    {
     "name": "stderr",
     "output_type": "stream",
     "text": [
      "  3%|████▌                                                                                                                                                            | 28/1000 [02:14<1:17:42,  4.80s/it]"
     ]
    },
    {
     "name": "stdout",
     "output_type": "stream",
     "text": [
      "Training Loss: 0.997699257688246\n",
      "Validation Loss: 1.2228884867259435\n",
      "Training Accuracy of the network: 58 %\n",
      "Validation Accuracy of the network: 42 %\n",
      "EarlyStopping counter: 1 out of 50\n"
     ]
    },
    {
     "name": "stderr",
     "output_type": "stream",
     "text": [
      "  3%|████▋                                                                                                                                                            | 29/1000 [02:19<1:18:34,  4.86s/it]"
     ]
    },
    {
     "name": "stdout",
     "output_type": "stream",
     "text": [
      "Training Loss: 0.9893813012302786\n",
      "Validation Loss: 1.19954229422978\n",
      "Training Accuracy of the network: 60 %\n",
      "Validation Accuracy of the network: 45 %\n",
      "Validation loss decreased (1.211203 --> 1.199542).  Saving model ...\n"
     ]
    },
    {
     "name": "stderr",
     "output_type": "stream",
     "text": [
      "  3%|████▊                                                                                                                                                            | 30/1000 [02:24<1:17:35,  4.80s/it]"
     ]
    },
    {
     "name": "stdout",
     "output_type": "stream",
     "text": [
      "Training Loss: 0.9679332638996235\n",
      "Validation Loss: 1.2011071750095912\n",
      "Training Accuracy of the network: 60 %\n",
      "Validation Accuracy of the network: 45 %\n",
      "EarlyStopping counter: 1 out of 50\n"
     ]
    },
    {
     "name": "stderr",
     "output_type": "stream",
     "text": [
      "  3%|████▉                                                                                                                                                            | 31/1000 [02:28<1:17:17,  4.79s/it]"
     ]
    },
    {
     "name": "stdout",
     "output_type": "stream",
     "text": [
      "Training Loss: 0.970512134441431\n",
      "Validation Loss: 1.192152886731284\n",
      "Training Accuracy of the network: 60 %\n",
      "Validation Accuracy of the network: 45 %\n",
      "Validation loss decreased (1.199542 --> 1.192153).  Saving model ...\n"
     ]
    },
    {
     "name": "stderr",
     "output_type": "stream",
     "text": [
      "  3%|█████▏                                                                                                                                                           | 32/1000 [02:33<1:17:10,  4.78s/it]"
     ]
    },
    {
     "name": "stdout",
     "output_type": "stream",
     "text": [
      "Training Loss: 0.9640623676604119\n",
      "Validation Loss: 1.1983601212501527\n",
      "Training Accuracy of the network: 60 %\n",
      "Validation Accuracy of the network: 43 %\n",
      "EarlyStopping counter: 1 out of 50\n"
     ]
    },
    {
     "name": "stderr",
     "output_type": "stream",
     "text": [
      "  3%|█████▎                                                                                                                                                           | 33/1000 [02:38<1:16:31,  4.75s/it]"
     ]
    },
    {
     "name": "stdout",
     "output_type": "stream",
     "text": [
      "Training Loss: 0.9409618839837502\n",
      "Validation Loss: 1.1978304283959524\n",
      "Training Accuracy of the network: 62 %\n",
      "Validation Accuracy of the network: 43 %\n",
      "EarlyStopping counter: 2 out of 50\n"
     ]
    },
    {
     "name": "stderr",
     "output_type": "stream",
     "text": [
      "  3%|█████▍                                                                                                                                                           | 34/1000 [02:43<1:16:26,  4.75s/it]"
     ]
    },
    {
     "name": "stdout",
     "output_type": "stream",
     "text": [
      "Training Loss: 0.9281293628872305\n",
      "Validation Loss: 1.1879651137760707\n",
      "Training Accuracy of the network: 62 %\n",
      "Validation Accuracy of the network: 45 %\n",
      "Validation loss decreased (1.192153 --> 1.187965).  Saving model ...\n"
     ]
    },
    {
     "name": "stderr",
     "output_type": "stream",
     "text": [
      "  4%|█████▋                                                                                                                                                           | 35/1000 [02:47<1:16:10,  4.74s/it]"
     ]
    },
    {
     "name": "stdout",
     "output_type": "stream",
     "text": [
      "Training Loss: 0.9017519037360731\n",
      "Validation Loss: 1.190576343876975\n",
      "Training Accuracy of the network: 65 %\n",
      "Validation Accuracy of the network: 45 %\n",
      "EarlyStopping counter: 1 out of 50\n"
     ]
    },
    {
     "name": "stderr",
     "output_type": "stream",
     "text": [
      "  4%|█████▊                                                                                                                                                           | 36/1000 [02:52<1:15:45,  4.71s/it]"
     ]
    },
    {
     "name": "stdout",
     "output_type": "stream",
     "text": [
      "Training Loss: 0.9129325011070224\n",
      "Validation Loss: 1.1830069933618819\n",
      "Training Accuracy of the network: 64 %\n",
      "Validation Accuracy of the network: 45 %\n",
      "Validation loss decreased (1.187965 --> 1.183007).  Saving model ...\n"
     ]
    },
    {
     "name": "stderr",
     "output_type": "stream",
     "text": [
      "  4%|█████▉                                                                                                                                                           | 37/1000 [02:57<1:15:34,  4.71s/it]"
     ]
    },
    {
     "name": "stdout",
     "output_type": "stream",
     "text": [
      "Training Loss: 0.8900137567433758\n",
      "Validation Loss: 1.1734589781079974\n",
      "Training Accuracy of the network: 65 %\n",
      "Validation Accuracy of the network: 47 %\n",
      "Validation loss decreased (1.183007 --> 1.173459).  Saving model ...\n"
     ]
    },
    {
     "name": "stderr",
     "output_type": "stream",
     "text": [
      "  4%|██████                                                                                                                                                           | 38/1000 [03:02<1:16:20,  4.76s/it]"
     ]
    },
    {
     "name": "stdout",
     "output_type": "stream",
     "text": [
      "Training Loss: 0.8841293726278387\n",
      "Validation Loss: 1.167829726423536\n",
      "Training Accuracy of the network: 66 %\n",
      "Validation Accuracy of the network: 49 %\n",
      "Validation loss decreased (1.173459 --> 1.167830).  Saving model ...\n"
     ]
    },
    {
     "name": "stderr",
     "output_type": "stream",
     "text": [
      "  4%|██████▎                                                                                                                                                          | 39/1000 [03:06<1:16:23,  4.77s/it]"
     ]
    },
    {
     "name": "stdout",
     "output_type": "stream",
     "text": [
      "Training Loss: 0.87957390602948\n",
      "Validation Loss: 1.1866686650684901\n",
      "Training Accuracy of the network: 65 %\n",
      "Validation Accuracy of the network: 46 %\n",
      "EarlyStopping counter: 1 out of 50\n"
     ]
    },
    {
     "name": "stderr",
     "output_type": "stream",
     "text": [
      "  4%|██████▍                                                                                                                                                          | 40/1000 [03:11<1:16:29,  4.78s/it]"
     ]
    },
    {
     "name": "stdout",
     "output_type": "stream",
     "text": [
      "Training Loss: 0.8581111539101255\n",
      "Validation Loss: 1.1732169798442296\n",
      "Training Accuracy of the network: 65 %\n",
      "Validation Accuracy of the network: 47 %\n",
      "EarlyStopping counter: 2 out of 50\n"
     ]
    },
    {
     "name": "stderr",
     "output_type": "stream",
     "text": [
      "  4%|██████▌                                                                                                                                                          | 41/1000 [03:16<1:16:15,  4.77s/it]"
     ]
    },
    {
     "name": "stdout",
     "output_type": "stream",
     "text": [
      "Training Loss: 0.8533566324175268\n",
      "Validation Loss: 1.1666487659726823\n",
      "Training Accuracy of the network: 67 %\n",
      "Validation Accuracy of the network: 48 %\n",
      "Validation loss decreased (1.167830 --> 1.166649).  Saving model ...\n"
     ]
    },
    {
     "name": "stderr",
     "output_type": "stream",
     "text": [
      "  4%|██████▊                                                                                                                                                          | 42/1000 [03:21<1:16:56,  4.82s/it]"
     ]
    },
    {
     "name": "stdout",
     "output_type": "stream",
     "text": [
      "Training Loss: 0.8428561955258467\n",
      "Validation Loss: 1.1556982329913548\n",
      "Training Accuracy of the network: 67 %\n",
      "Validation Accuracy of the network: 50 %\n",
      "Validation loss decreased (1.166649 --> 1.155698).  Saving model ...\n"
     ]
    },
    {
     "name": "stderr",
     "output_type": "stream",
     "text": [
      "  4%|██████▉                                                                                                                                                          | 43/1000 [03:26<1:16:19,  4.79s/it]"
     ]
    },
    {
     "name": "stdout",
     "output_type": "stream",
     "text": [
      "Training Loss: 0.8344695265742316\n",
      "Validation Loss: 1.169473329612187\n",
      "Training Accuracy of the network: 67 %\n",
      "Validation Accuracy of the network: 47 %\n",
      "EarlyStopping counter: 1 out of 50\n"
     ]
    },
    {
     "name": "stderr",
     "output_type": "stream",
     "text": [
      "  4%|███████                                                                                                                                                          | 44/1000 [03:30<1:15:42,  4.75s/it]"
     ]
    },
    {
     "name": "stdout",
     "output_type": "stream",
     "text": [
      "Training Loss: 0.8172135435152745\n",
      "Validation Loss: 1.1674786124910628\n",
      "Training Accuracy of the network: 69 %\n",
      "Validation Accuracy of the network: 47 %\n",
      "EarlyStopping counter: 2 out of 50\n"
     ]
    },
    {
     "name": "stderr",
     "output_type": "stream",
     "text": [
      "  4%|███████▏                                                                                                                                                         | 45/1000 [03:35<1:15:49,  4.76s/it]"
     ]
    },
    {
     "name": "stdout",
     "output_type": "stream",
     "text": [
      "Training Loss: 0.8203510633413342\n",
      "Validation Loss: 1.1600814819335938\n",
      "Training Accuracy of the network: 68 %\n",
      "Validation Accuracy of the network: 48 %\n",
      "EarlyStopping counter: 3 out of 50\n"
     ]
    },
    {
     "name": "stderr",
     "output_type": "stream",
     "text": [
      "  5%|███████▍                                                                                                                                                         | 46/1000 [03:40<1:15:57,  4.78s/it]"
     ]
    },
    {
     "name": "stdout",
     "output_type": "stream",
     "text": [
      "Training Loss: 0.8039354018974996\n",
      "Validation Loss: 1.1615219899586269\n",
      "Training Accuracy of the network: 70 %\n",
      "Validation Accuracy of the network: 47 %\n",
      "EarlyStopping counter: 4 out of 50\n"
     ]
    },
    {
     "name": "stderr",
     "output_type": "stream",
     "text": [
      "  5%|███████▌                                                                                                                                                         | 47/1000 [03:45<1:15:56,  4.78s/it]"
     ]
    },
    {
     "name": "stdout",
     "output_type": "stream",
     "text": [
      "Training Loss: 0.7939048202141471\n",
      "Validation Loss: 1.1771118027823313\n",
      "Training Accuracy of the network: 69 %\n",
      "Validation Accuracy of the network: 45 %\n",
      "EarlyStopping counter: 5 out of 50\n"
     ]
    },
    {
     "name": "stderr",
     "output_type": "stream",
     "text": [
      "  5%|███████▋                                                                                                                                                         | 48/1000 [03:49<1:15:47,  4.78s/it]"
     ]
    },
    {
     "name": "stdout",
     "output_type": "stream",
     "text": [
      "Training Loss: 0.7890944122404292\n",
      "Validation Loss: 1.1590643508093699\n",
      "Training Accuracy of the network: 69 %\n",
      "Validation Accuracy of the network: 48 %\n",
      "EarlyStopping counter: 6 out of 50\n"
     ]
    },
    {
     "name": "stderr",
     "output_type": "stream",
     "text": [
      "  5%|███████▉                                                                                                                                                         | 49/1000 [03:54<1:15:41,  4.78s/it]"
     ]
    },
    {
     "name": "stdout",
     "output_type": "stream",
     "text": [
      "Training Loss: 0.7698243646949962\n",
      "Validation Loss: 1.1667668546949115\n",
      "Training Accuracy of the network: 72 %\n",
      "Validation Accuracy of the network: 50 %\n",
      "EarlyStopping counter: 7 out of 50\n"
     ]
    },
    {
     "name": "stderr",
     "output_type": "stream",
     "text": [
      "  5%|████████                                                                                                                                                         | 50/1000 [03:59<1:15:53,  4.79s/it]"
     ]
    },
    {
     "name": "stdout",
     "output_type": "stream",
     "text": [
      "Training Loss: 0.7695311528185139\n",
      "Validation Loss: 1.1507965564727782\n",
      "Training Accuracy of the network: 71 %\n",
      "Validation Accuracy of the network: 48 %\n",
      "Validation loss decreased (1.155698 --> 1.150797).  Saving model ...\n"
     ]
    },
    {
     "name": "stderr",
     "output_type": "stream",
     "text": [
      "  5%|████████▏                                                                                                                                                        | 51/1000 [04:04<1:15:02,  4.74s/it]"
     ]
    },
    {
     "name": "stdout",
     "output_type": "stream",
     "text": [
      "Training Loss: 0.7618945003419683\n",
      "Validation Loss: 1.1977165290287564\n",
      "Training Accuracy of the network: 71 %\n",
      "Validation Accuracy of the network: 47 %\n",
      "EarlyStopping counter: 1 out of 50\n"
     ]
    },
    {
     "name": "stderr",
     "output_type": "stream",
     "text": [
      "  5%|████████▎                                                                                                                                                        | 52/1000 [04:09<1:15:35,  4.78s/it]"
     ]
    },
    {
     "name": "stdout",
     "output_type": "stream",
     "text": [
      "Training Loss: 0.7549897764903911\n",
      "Validation Loss: 1.1706186379705157\n",
      "Training Accuracy of the network: 72 %\n",
      "Validation Accuracy of the network: 46 %\n",
      "EarlyStopping counter: 2 out of 50\n"
     ]
    },
    {
     "name": "stderr",
     "output_type": "stream",
     "text": [
      "  5%|████████▌                                                                                                                                                        | 53/1000 [04:13<1:15:55,  4.81s/it]"
     ]
    },
    {
     "name": "stdout",
     "output_type": "stream",
     "text": [
      "Training Loss: 0.7425471412530844\n",
      "Validation Loss: 1.177787162576403\n",
      "Training Accuracy of the network: 72 %\n",
      "Validation Accuracy of the network: 47 %\n",
      "EarlyStopping counter: 3 out of 50\n"
     ]
    },
    {
     "name": "stderr",
     "output_type": "stream",
     "text": [
      "  5%|████████▋                                                                                                                                                        | 54/1000 [04:18<1:15:28,  4.79s/it]"
     ]
    },
    {
     "name": "stdout",
     "output_type": "stream",
     "text": [
      "Training Loss: 0.7383122791846594\n",
      "Validation Loss: 1.1573404618671963\n",
      "Training Accuracy of the network: 72 %\n",
      "Validation Accuracy of the network: 49 %\n",
      "EarlyStopping counter: 4 out of 50\n"
     ]
    },
    {
     "name": "stderr",
     "output_type": "stream",
     "text": [
      "  6%|████████▊                                                                                                                                                        | 55/1000 [04:23<1:15:29,  4.79s/it]"
     ]
    },
    {
     "name": "stdout",
     "output_type": "stream",
     "text": [
      "Training Loss: 0.733684001625448\n",
      "Validation Loss: 1.1553321055003576\n",
      "Training Accuracy of the network: 73 %\n",
      "Validation Accuracy of the network: 50 %\n",
      "EarlyStopping counter: 5 out of 50\n"
     ]
    },
    {
     "name": "stderr",
     "output_type": "stream",
     "text": [
      "  6%|█████████                                                                                                                                                        | 56/1000 [04:28<1:14:59,  4.77s/it]"
     ]
    },
    {
     "name": "stdout",
     "output_type": "stream",
     "text": [
      "Training Loss: 0.7163753569989965\n",
      "Validation Loss: 1.1476405143737793\n",
      "Training Accuracy of the network: 73 %\n",
      "Validation Accuracy of the network: 50 %\n",
      "Validation loss decreased (1.150797 --> 1.147641).  Saving model ...\n"
     ]
    },
    {
     "name": "stderr",
     "output_type": "stream",
     "text": [
      "  6%|█████████▏                                                                                                                                                       | 57/1000 [04:32<1:15:09,  4.78s/it]"
     ]
    },
    {
     "name": "stdout",
     "output_type": "stream",
     "text": [
      "Training Loss: 0.7051951105611912\n",
      "Validation Loss: 1.1611377647944858\n",
      "Training Accuracy of the network: 75 %\n",
      "Validation Accuracy of the network: 49 %\n",
      "EarlyStopping counter: 1 out of 50\n"
     ]
    },
    {
     "name": "stderr",
     "output_type": "stream",
     "text": [
      "  6%|█████████▎                                                                                                                                                       | 58/1000 [04:37<1:14:17,  4.73s/it]"
     ]
    },
    {
     "name": "stdout",
     "output_type": "stream",
     "text": [
      "Training Loss: 0.7184029042288878\n",
      "Validation Loss: 1.1496635471071517\n",
      "Training Accuracy of the network: 73 %\n",
      "Validation Accuracy of the network: 49 %\n",
      "EarlyStopping counter: 2 out of 50\n"
     ]
    },
    {
     "name": "stderr",
     "output_type": "stream",
     "text": [
      "  6%|█████████▍                                                                                                                                                       | 59/1000 [04:42<1:14:05,  4.72s/it]"
     ]
    },
    {
     "name": "stdout",
     "output_type": "stream",
     "text": [
      "Training Loss: 0.7023658050575118\n",
      "Validation Loss: 1.1752571140016828\n",
      "Training Accuracy of the network: 74 %\n",
      "Validation Accuracy of the network: 49 %\n",
      "EarlyStopping counter: 3 out of 50\n"
     ]
    },
    {
     "name": "stderr",
     "output_type": "stream",
     "text": [
      "  6%|█████████▋                                                                                                                                                       | 60/1000 [04:47<1:14:14,  4.74s/it]"
     ]
    },
    {
     "name": "stdout",
     "output_type": "stream",
     "text": [
      "Training Loss: 0.6985722829898199\n",
      "Validation Loss: 1.145884110246386\n",
      "Training Accuracy of the network: 74 %\n",
      "Validation Accuracy of the network: 50 %\n",
      "Validation loss decreased (1.147641 --> 1.145884).  Saving model ...\n"
     ]
    },
    {
     "name": "stderr",
     "output_type": "stream",
     "text": [
      "  6%|█████████▊                                                                                                                                                       | 61/1000 [04:51<1:14:19,  4.75s/it]"
     ]
    },
    {
     "name": "stdout",
     "output_type": "stream",
     "text": [
      "Training Loss: 0.6916598638762599\n",
      "Validation Loss: 1.1448026061058045\n",
      "Training Accuracy of the network: 74 %\n",
      "Validation Accuracy of the network: 50 %\n",
      "Validation loss decreased (1.145884 --> 1.144803).  Saving model ...\n"
     ]
    },
    {
     "name": "stderr",
     "output_type": "stream",
     "text": [
      "  6%|█████████▉                                                                                                                                                       | 62/1000 [04:56<1:15:07,  4.81s/it]"
     ]
    },
    {
     "name": "stdout",
     "output_type": "stream",
     "text": [
      "Training Loss: 0.6701167279827422\n",
      "Validation Loss: 1.143452629021236\n",
      "Training Accuracy of the network: 76 %\n",
      "Validation Accuracy of the network: 50 %\n",
      "Validation loss decreased (1.144803 --> 1.143453).  Saving model ...\n"
     ]
    },
    {
     "name": "stderr",
     "output_type": "stream",
     "text": [
      "  6%|██████████▏                                                                                                                                                      | 63/1000 [05:01<1:14:23,  4.76s/it]"
     ]
    },
    {
     "name": "stdout",
     "output_type": "stream",
     "text": [
      "Training Loss: 0.67898461719354\n",
      "Validation Loss: 1.1391321437699453\n",
      "Training Accuracy of the network: 75 %\n",
      "Validation Accuracy of the network: 50 %\n",
      "Validation loss decreased (1.143453 --> 1.139132).  Saving model ...\n"
     ]
    },
    {
     "name": "stderr",
     "output_type": "stream",
     "text": [
      "  6%|██████████▎                                                                                                                                                      | 64/1000 [05:06<1:14:59,  4.81s/it]"
     ]
    },
    {
     "name": "stdout",
     "output_type": "stream",
     "text": [
      "Training Loss: 0.6638805324184722\n",
      "Validation Loss: 1.143796261719295\n",
      "Training Accuracy of the network: 75 %\n",
      "Validation Accuracy of the network: 50 %\n",
      "EarlyStopping counter: 1 out of 50\n"
     ]
    },
    {
     "name": "stderr",
     "output_type": "stream",
     "text": [
      "  6%|██████████▍                                                                                                                                                      | 65/1000 [05:11<1:14:11,  4.76s/it]"
     ]
    },
    {
     "name": "stdout",
     "output_type": "stream",
     "text": [
      "Training Loss: 0.6718613472969636\n",
      "Validation Loss: 1.1738423585891724\n",
      "Training Accuracy of the network: 76 %\n",
      "Validation Accuracy of the network: 49 %\n",
      "EarlyStopping counter: 2 out of 50\n"
     ]
    },
    {
     "name": "stderr",
     "output_type": "stream",
     "text": [
      "  7%|██████████▋                                                                                                                                                      | 66/1000 [05:14<1:08:45,  4.42s/it]"
     ]
    },
    {
     "name": "stdout",
     "output_type": "stream",
     "text": [
      "Training Loss: 0.653823600407096\n",
      "Validation Loss: 1.1623420374734061\n",
      "Training Accuracy of the network: 76 %\n",
      "Validation Accuracy of the network: 49 %\n",
      "EarlyStopping counter: 3 out of 50\n"
     ]
    },
    {
     "name": "stderr",
     "output_type": "stream",
     "text": [
      "  7%|██████████▊                                                                                                                                                      | 67/1000 [05:18<1:05:02,  4.18s/it]"
     ]
    },
    {
     "name": "stdout",
     "output_type": "stream",
     "text": [
      "Training Loss: 0.6589509589948516\n",
      "Validation Loss: 1.1587233236857823\n",
      "Training Accuracy of the network: 75 %\n",
      "Validation Accuracy of the network: 49 %\n",
      "EarlyStopping counter: 4 out of 50\n"
     ]
    },
    {
     "name": "stderr",
     "output_type": "stream",
     "text": [
      "  7%|██████████▉                                                                                                                                                      | 68/1000 [05:21<1:02:11,  4.00s/it]"
     ]
    },
    {
     "name": "stdout",
     "output_type": "stream",
     "text": [
      "Training Loss: 0.6452899281529413\n",
      "Validation Loss: 1.1423991543906076\n",
      "Training Accuracy of the network: 75 %\n",
      "Validation Accuracy of the network: 49 %\n",
      "EarlyStopping counter: 5 out of 50\n"
     ]
    },
    {
     "name": "stderr",
     "output_type": "stream",
     "text": [
      "  7%|███████████                                                                                                                                                      | 69/1000 [05:25<1:01:05,  3.94s/it]"
     ]
    },
    {
     "name": "stdout",
     "output_type": "stream",
     "text": [
      "Training Loss: 0.6583954380906146\n",
      "Validation Loss: 1.1479257660252706\n",
      "Training Accuracy of the network: 76 %\n",
      "Validation Accuracy of the network: 51 %\n",
      "EarlyStopping counter: 6 out of 50\n"
     ]
    },
    {
     "name": "stderr",
     "output_type": "stream",
     "text": [
      "  7%|███████████▍                                                                                                                                                       | 70/1000 [05:29<59:19,  3.83s/it]"
     ]
    },
    {
     "name": "stdout",
     "output_type": "stream",
     "text": [
      "Training Loss: 0.6323807602343352\n",
      "Validation Loss: 1.1638641663960048\n",
      "Training Accuracy of the network: 77 %\n",
      "Validation Accuracy of the network: 49 %\n",
      "EarlyStopping counter: 7 out of 50\n"
     ]
    },
    {
     "name": "stderr",
     "output_type": "stream",
     "text": [
      "  7%|███████████▌                                                                                                                                                       | 71/1000 [05:32<57:47,  3.73s/it]"
     ]
    },
    {
     "name": "stdout",
     "output_type": "stream",
     "text": [
      "Training Loss: 0.6314961465372555\n",
      "Validation Loss: 1.1736011249678475\n",
      "Training Accuracy of the network: 77 %\n",
      "Validation Accuracy of the network: 50 %\n",
      "EarlyStopping counter: 8 out of 50\n"
     ]
    },
    {
     "name": "stderr",
     "output_type": "stream",
     "text": [
      "  7%|███████████▋                                                                                                                                                       | 72/1000 [05:36<57:24,  3.71s/it]"
     ]
    },
    {
     "name": "stdout",
     "output_type": "stream",
     "text": [
      "Training Loss: 0.6311389441075532\n",
      "Validation Loss: 1.1766290954181127\n",
      "Training Accuracy of the network: 77 %\n",
      "Validation Accuracy of the network: 50 %\n",
      "EarlyStopping counter: 9 out of 50\n"
     ]
    },
    {
     "name": "stderr",
     "output_type": "stream",
     "text": [
      "  7%|███████████▉                                                                                                                                                       | 73/1000 [05:40<57:22,  3.71s/it]"
     ]
    },
    {
     "name": "stdout",
     "output_type": "stream",
     "text": [
      "Training Loss: 0.6223451784555463\n",
      "Validation Loss: 1.1555881023406982\n",
      "Training Accuracy of the network: 78 %\n",
      "Validation Accuracy of the network: 50 %\n",
      "EarlyStopping counter: 10 out of 50\n"
     ]
    },
    {
     "name": "stderr",
     "output_type": "stream",
     "text": [
      "  7%|████████████                                                                                                                                                       | 74/1000 [05:43<57:18,  3.71s/it]"
     ]
    },
    {
     "name": "stdout",
     "output_type": "stream",
     "text": [
      "Training Loss: 0.6113996043585349\n",
      "Validation Loss: 1.1388506940432956\n",
      "Training Accuracy of the network: 79 %\n",
      "Validation Accuracy of the network: 51 %\n",
      "Validation loss decreased (1.139132 --> 1.138851).  Saving model ...\n"
     ]
    },
    {
     "name": "stderr",
     "output_type": "stream",
     "text": [
      "  8%|████████████▏                                                                                                                                                      | 75/1000 [05:47<57:22,  3.72s/it]"
     ]
    },
    {
     "name": "stdout",
     "output_type": "stream",
     "text": [
      "Training Loss: 0.6203443349703498\n",
      "Validation Loss: 1.119539053099496\n",
      "Training Accuracy of the network: 77 %\n",
      "Validation Accuracy of the network: 51 %\n",
      "Validation loss decreased (1.138851 --> 1.119539).  Saving model ...\n"
     ]
    },
    {
     "name": "stderr",
     "output_type": "stream",
     "text": [
      "  8%|████████████▏                                                                                                                                                    | 76/1000 [05:52<1:02:41,  4.07s/it]"
     ]
    },
    {
     "name": "stdout",
     "output_type": "stream",
     "text": [
      "Training Loss: 0.6053296964669573\n",
      "Validation Loss: 1.1796433355127063\n",
      "Training Accuracy of the network: 77 %\n",
      "Validation Accuracy of the network: 50 %\n",
      "EarlyStopping counter: 1 out of 50\n"
     ]
    },
    {
     "name": "stderr",
     "output_type": "stream",
     "text": [
      "  8%|████████████▍                                                                                                                                                    | 77/1000 [05:57<1:05:30,  4.26s/it]"
     ]
    },
    {
     "name": "stdout",
     "output_type": "stream",
     "text": [
      "Training Loss: 0.6015335723109867\n",
      "Validation Loss: 1.1608134933880396\n",
      "Training Accuracy of the network: 79 %\n",
      "Validation Accuracy of the network: 51 %\n",
      "EarlyStopping counter: 2 out of 50\n"
     ]
    },
    {
     "name": "stderr",
     "output_type": "stream",
     "text": [
      "  8%|████████████▌                                                                                                                                                    | 78/1000 [06:01<1:08:03,  4.43s/it]"
     ]
    },
    {
     "name": "stdout",
     "output_type": "stream",
     "text": [
      "Training Loss: 0.6173226738321609\n",
      "Validation Loss: 1.1453485574041093\n",
      "Training Accuracy of the network: 78 %\n",
      "Validation Accuracy of the network: 51 %\n",
      "EarlyStopping counter: 3 out of 50\n"
     ]
    },
    {
     "name": "stderr",
     "output_type": "stream",
     "text": [
      "  8%|████████████▋                                                                                                                                                    | 79/1000 [06:06<1:09:45,  4.54s/it]"
     ]
    },
    {
     "name": "stdout",
     "output_type": "stream",
     "text": [
      "Training Loss: 0.6026187133097994\n",
      "Validation Loss: 1.1569529507841383\n",
      "Training Accuracy of the network: 79 %\n",
      "Validation Accuracy of the network: 51 %\n",
      "EarlyStopping counter: 4 out of 50\n"
     ]
    },
    {
     "name": "stderr",
     "output_type": "stream",
     "text": [
      "  8%|████████████▉                                                                                                                                                    | 80/1000 [06:11<1:11:02,  4.63s/it]"
     ]
    },
    {
     "name": "stdout",
     "output_type": "stream",
     "text": [
      "Training Loss: 0.5906780148329942\n",
      "Validation Loss: 1.1325142783778055\n",
      "Training Accuracy of the network: 79 %\n",
      "Validation Accuracy of the network: 52 %\n",
      "EarlyStopping counter: 5 out of 50\n"
     ]
    },
    {
     "name": "stderr",
     "output_type": "stream",
     "text": [
      "  8%|█████████████                                                                                                                                                    | 81/1000 [06:16<1:11:42,  4.68s/it]"
     ]
    },
    {
     "name": "stdout",
     "output_type": "stream",
     "text": [
      "Training Loss: 0.5707577531752379\n",
      "Validation Loss: 1.137068830217634\n",
      "Training Accuracy of the network: 79 %\n",
      "Validation Accuracy of the network: 52 %\n",
      "EarlyStopping counter: 6 out of 50\n"
     ]
    },
    {
     "name": "stderr",
     "output_type": "stream",
     "text": [
      "  8%|█████████████▏                                                                                                                                                   | 82/1000 [06:21<1:11:32,  4.68s/it]"
     ]
    },
    {
     "name": "stdout",
     "output_type": "stream",
     "text": [
      "Training Loss: 0.5663382642079091\n",
      "Validation Loss: 1.1388996064662933\n",
      "Training Accuracy of the network: 80 %\n",
      "Validation Accuracy of the network: 52 %\n",
      "EarlyStopping counter: 7 out of 50\n"
     ]
    },
    {
     "name": "stderr",
     "output_type": "stream",
     "text": [
      "  8%|█████████████▎                                                                                                                                                   | 83/1000 [06:25<1:11:15,  4.66s/it]"
     ]
    },
    {
     "name": "stdout",
     "output_type": "stream",
     "text": [
      "Training Loss: 0.5723382530437\n",
      "Validation Loss: 1.148067180599485\n",
      "Training Accuracy of the network: 79 %\n",
      "Validation Accuracy of the network: 51 %\n",
      "EarlyStopping counter: 8 out of 50\n"
     ]
    },
    {
     "name": "stderr",
     "output_type": "stream",
     "text": [
      "  8%|█████████████▌                                                                                                                                                   | 84/1000 [06:30<1:11:36,  4.69s/it]"
     ]
    },
    {
     "name": "stdout",
     "output_type": "stream",
     "text": [
      "Training Loss: 0.558263025637986\n",
      "Validation Loss: 1.1225159091608865\n",
      "Training Accuracy of the network: 80 %\n",
      "Validation Accuracy of the network: 53 %\n",
      "EarlyStopping counter: 9 out of 50\n"
     ]
    },
    {
     "name": "stderr",
     "output_type": "stream",
     "text": [
      "  8%|█████████████▋                                                                                                                                                   | 85/1000 [06:35<1:11:36,  4.70s/it]"
     ]
    },
    {
     "name": "stdout",
     "output_type": "stream",
     "text": [
      "Training Loss: 0.5562617818730465\n",
      "Validation Loss: 1.152659273147583\n",
      "Training Accuracy of the network: 81 %\n",
      "Validation Accuracy of the network: 50 %\n",
      "EarlyStopping counter: 10 out of 50\n"
     ]
    },
    {
     "name": "stderr",
     "output_type": "stream",
     "text": [
      "  9%|█████████████▊                                                                                                                                                   | 86/1000 [06:39<1:11:11,  4.67s/it]"
     ]
    },
    {
     "name": "stdout",
     "output_type": "stream",
     "text": [
      "Training Loss: 0.5639574858157531\n",
      "Validation Loss: 1.136552689756666\n",
      "Training Accuracy of the network: 79 %\n",
      "Validation Accuracy of the network: 52 %\n",
      "EarlyStopping counter: 11 out of 50\n"
     ]
    },
    {
     "name": "stderr",
     "output_type": "stream",
     "text": [
      "  9%|██████████████                                                                                                                                                   | 87/1000 [06:44<1:12:06,  4.74s/it]"
     ]
    },
    {
     "name": "stdout",
     "output_type": "stream",
     "text": [
      "Training Loss: 0.5542276216589886\n",
      "Validation Loss: 1.1440487359251295\n",
      "Training Accuracy of the network: 81 %\n",
      "Validation Accuracy of the network: 53 %\n",
      "EarlyStopping counter: 12 out of 50\n"
     ]
    },
    {
     "name": "stderr",
     "output_type": "stream",
     "text": [
      "  9%|██████████████▏                                                                                                                                                  | 88/1000 [06:49<1:12:05,  4.74s/it]"
     ]
    },
    {
     "name": "stdout",
     "output_type": "stream",
     "text": [
      "Training Loss: 0.5514193409378978\n",
      "Validation Loss: 1.1868516147136687\n",
      "Training Accuracy of the network: 80 %\n",
      "Validation Accuracy of the network: 50 %\n",
      "EarlyStopping counter: 13 out of 50\n"
     ]
    },
    {
     "name": "stderr",
     "output_type": "stream",
     "text": [
      "  9%|██████████████▎                                                                                                                                                  | 89/1000 [06:54<1:12:19,  4.76s/it]"
     ]
    },
    {
     "name": "stdout",
     "output_type": "stream",
     "text": [
      "Training Loss: 0.543387917936712\n",
      "Validation Loss: 1.1317225864955358\n",
      "Training Accuracy of the network: 79 %\n",
      "Validation Accuracy of the network: 51 %\n",
      "EarlyStopping counter: 14 out of 50\n"
     ]
    },
    {
     "name": "stderr",
     "output_type": "stream",
     "text": [
      "  9%|██████████████▍                                                                                                                                                  | 90/1000 [06:58<1:12:00,  4.75s/it]"
     ]
    },
    {
     "name": "stdout",
     "output_type": "stream",
     "text": [
      "Training Loss: 0.5365966162171917\n",
      "Validation Loss: 1.168399657521929\n",
      "Training Accuracy of the network: 80 %\n",
      "Validation Accuracy of the network: 50 %\n",
      "EarlyStopping counter: 15 out of 50\n"
     ]
    },
    {
     "name": "stderr",
     "output_type": "stream",
     "text": [
      "  9%|██████████████▋                                                                                                                                                  | 91/1000 [07:03<1:12:24,  4.78s/it]"
     ]
    },
    {
     "name": "stdout",
     "output_type": "stream",
     "text": [
      "Training Loss: 0.5287637848784958\n",
      "Validation Loss: 1.1322639754840307\n",
      "Training Accuracy of the network: 82 %\n",
      "Validation Accuracy of the network: 52 %\n",
      "EarlyStopping counter: 16 out of 50\n"
     ]
    },
    {
     "name": "stderr",
     "output_type": "stream",
     "text": [
      "  9%|██████████████▊                                                                                                                                                  | 92/1000 [07:08<1:11:51,  4.75s/it]"
     ]
    },
    {
     "name": "stdout",
     "output_type": "stream",
     "text": [
      "Training Loss: 0.525450044783993\n",
      "Validation Loss: 1.1740889957972935\n",
      "Training Accuracy of the network: 81 %\n",
      "Validation Accuracy of the network: 52 %\n",
      "EarlyStopping counter: 17 out of 50\n"
     ]
    },
    {
     "name": "stderr",
     "output_type": "stream",
     "text": [
      "  9%|██████████████▉                                                                                                                                                  | 93/1000 [07:13<1:12:37,  4.80s/it]"
     ]
    },
    {
     "name": "stdout",
     "output_type": "stream",
     "text": [
      "Training Loss: 0.5197253727178642\n",
      "Validation Loss: 1.162704542704991\n",
      "Training Accuracy of the network: 81 %\n",
      "Validation Accuracy of the network: 51 %\n",
      "EarlyStopping counter: 18 out of 50\n"
     ]
    },
    {
     "name": "stderr",
     "output_type": "stream",
     "text": [
      "  9%|███████████████▏                                                                                                                                                 | 94/1000 [07:18<1:12:23,  4.79s/it]"
     ]
    },
    {
     "name": "stdout",
     "output_type": "stream",
     "text": [
      "Training Loss: 0.5194967160190361\n",
      "Validation Loss: 1.1646544924804143\n",
      "Training Accuracy of the network: 82 %\n",
      "Validation Accuracy of the network: 51 %\n",
      "EarlyStopping counter: 19 out of 50\n"
     ]
    },
    {
     "name": "stderr",
     "output_type": "stream",
     "text": [
      " 10%|███████████████▎                                                                                                                                                 | 95/1000 [07:23<1:12:34,  4.81s/it]"
     ]
    },
    {
     "name": "stdout",
     "output_type": "stream",
     "text": [
      "Training Loss: 0.5568331776969675\n",
      "Validation Loss: 1.1577476280076162\n",
      "Training Accuracy of the network: 80 %\n",
      "Validation Accuracy of the network: 52 %\n",
      "EarlyStopping counter: 20 out of 50\n"
     ]
    },
    {
     "name": "stderr",
     "output_type": "stream",
     "text": [
      " 10%|███████████████▍                                                                                                                                                 | 96/1000 [07:27<1:12:35,  4.82s/it]"
     ]
    },
    {
     "name": "stdout",
     "output_type": "stream",
     "text": [
      "Training Loss: 0.5359086632944535\n",
      "Validation Loss: 1.1573634931019374\n",
      "Training Accuracy of the network: 82 %\n",
      "Validation Accuracy of the network: 52 %\n",
      "EarlyStopping counter: 21 out of 50\n"
     ]
    },
    {
     "name": "stderr",
     "output_type": "stream",
     "text": [
      " 10%|███████████████▌                                                                                                                                                 | 97/1000 [07:32<1:11:43,  4.77s/it]"
     ]
    },
    {
     "name": "stdout",
     "output_type": "stream",
     "text": [
      "Training Loss: 0.5274888185271318\n",
      "Validation Loss: 1.1470395181860242\n",
      "Training Accuracy of the network: 80 %\n",
      "Validation Accuracy of the network: 53 %\n",
      "EarlyStopping counter: 22 out of 50\n"
     ]
    },
    {
     "name": "stderr",
     "output_type": "stream",
     "text": [
      " 10%|███████████████▊                                                                                                                                                 | 98/1000 [07:37<1:11:46,  4.77s/it]"
     ]
    },
    {
     "name": "stdout",
     "output_type": "stream",
     "text": [
      "Training Loss: 0.5082607487405556\n",
      "Validation Loss: 1.1662307151726314\n",
      "Training Accuracy of the network: 81 %\n",
      "Validation Accuracy of the network: 52 %\n",
      "EarlyStopping counter: 23 out of 50\n"
     ]
    },
    {
     "name": "stderr",
     "output_type": "stream",
     "text": [
      " 10%|███████████████▉                                                                                                                                                 | 99/1000 [07:41<1:10:56,  4.72s/it]"
     ]
    },
    {
     "name": "stdout",
     "output_type": "stream",
     "text": [
      "Training Loss: 0.5260012955337331\n",
      "Validation Loss: 1.19072419660432\n",
      "Training Accuracy of the network: 82 %\n",
      "Validation Accuracy of the network: 53 %\n",
      "EarlyStopping counter: 24 out of 50\n"
     ]
    },
    {
     "name": "stderr",
     "output_type": "stream",
     "text": [
      " 10%|████████████████                                                                                                                                                | 100/1000 [07:46<1:11:21,  4.76s/it]"
     ]
    },
    {
     "name": "stdout",
     "output_type": "stream",
     "text": [
      "Training Loss: 0.5063485449207001\n",
      "Validation Loss: 1.1667755152497972\n",
      "Training Accuracy of the network: 82 %\n",
      "Validation Accuracy of the network: 53 %\n",
      "EarlyStopping counter: 25 out of 50\n"
     ]
    },
    {
     "name": "stderr",
     "output_type": "stream",
     "text": [
      " 10%|████████████████▏                                                                                                                                               | 101/1000 [07:51<1:11:36,  4.78s/it]"
     ]
    },
    {
     "name": "stdout",
     "output_type": "stream",
     "text": [
      "Training Loss: 0.5011118232556011\n",
      "Validation Loss: 1.2151958048343658\n",
      "Training Accuracy of the network: 82 %\n",
      "Validation Accuracy of the network: 52 %\n",
      "EarlyStopping counter: 26 out of 50\n"
     ]
    },
    {
     "name": "stderr",
     "output_type": "stream",
     "text": [
      " 10%|████████████████▎                                                                                                                                               | 102/1000 [07:56<1:11:54,  4.80s/it]"
     ]
    },
    {
     "name": "stdout",
     "output_type": "stream",
     "text": [
      "Training Loss: 0.48909978633341583\n",
      "Validation Loss: 1.150857707432338\n",
      "Training Accuracy of the network: 82 %\n",
      "Validation Accuracy of the network: 53 %\n",
      "EarlyStopping counter: 27 out of 50\n"
     ]
    },
    {
     "name": "stderr",
     "output_type": "stream",
     "text": [
      " 10%|████████████████▍                                                                                                                                               | 103/1000 [08:01<1:11:42,  4.80s/it]"
     ]
    },
    {
     "name": "stdout",
     "output_type": "stream",
     "text": [
      "Training Loss: 0.4937652999508208\n",
      "Validation Loss: 1.1572067703519548\n",
      "Training Accuracy of the network: 82 %\n",
      "Validation Accuracy of the network: 52 %\n",
      "EarlyStopping counter: 28 out of 50\n"
     ]
    },
    {
     "name": "stderr",
     "output_type": "stream",
     "text": [
      " 10%|████████████████▋                                                                                                                                               | 104/1000 [08:05<1:10:38,  4.73s/it]"
     ]
    },
    {
     "name": "stdout",
     "output_type": "stream",
     "text": [
      "Training Loss: 0.5089111520328383\n",
      "Validation Loss: 1.1713466610227312\n",
      "Training Accuracy of the network: 82 %\n",
      "Validation Accuracy of the network: 53 %\n",
      "EarlyStopping counter: 29 out of 50\n"
     ]
    },
    {
     "name": "stderr",
     "output_type": "stream",
     "text": [
      " 10%|████████████████▊                                                                                                                                               | 105/1000 [08:10<1:10:44,  4.74s/it]"
     ]
    },
    {
     "name": "stdout",
     "output_type": "stream",
     "text": [
      "Training Loss: 0.5088613759996234\n",
      "Validation Loss: 1.1512849628925323\n",
      "Training Accuracy of the network: 82 %\n",
      "Validation Accuracy of the network: 53 %\n",
      "EarlyStopping counter: 30 out of 50\n"
     ]
    },
    {
     "name": "stderr",
     "output_type": "stream",
     "text": [
      " 11%|████████████████▉                                                                                                                                               | 106/1000 [08:15<1:10:23,  4.72s/it]"
     ]
    },
    {
     "name": "stdout",
     "output_type": "stream",
     "text": [
      "Training Loss: 0.49113808215960214\n",
      "Validation Loss: 1.1784621443067278\n",
      "Training Accuracy of the network: 82 %\n",
      "Validation Accuracy of the network: 52 %\n",
      "EarlyStopping counter: 31 out of 50\n"
     ]
    },
    {
     "name": "stderr",
     "output_type": "stream",
     "text": [
      " 11%|█████████████████                                                                                                                                               | 107/1000 [08:19<1:10:11,  4.72s/it]"
     ]
    },
    {
     "name": "stdout",
     "output_type": "stream",
     "text": [
      "Training Loss: 0.4711818197283192\n",
      "Validation Loss: 1.1786102099078042\n",
      "Training Accuracy of the network: 83 %\n",
      "Validation Accuracy of the network: 53 %\n",
      "EarlyStopping counter: 32 out of 50\n"
     ]
    },
    {
     "name": "stderr",
     "output_type": "stream",
     "text": [
      " 11%|█████████████████▎                                                                                                                                              | 108/1000 [08:24<1:10:37,  4.75s/it]"
     ]
    },
    {
     "name": "stdout",
     "output_type": "stream",
     "text": [
      "Training Loss: 0.48702555905649625\n",
      "Validation Loss: 1.179590322290148\n",
      "Training Accuracy of the network: 83 %\n",
      "Validation Accuracy of the network: 52 %\n",
      "EarlyStopping counter: 33 out of 50\n"
     ]
    },
    {
     "name": "stderr",
     "output_type": "stream",
     "text": [
      " 11%|█████████████████▍                                                                                                                                              | 109/1000 [08:29<1:09:55,  4.71s/it]"
     ]
    },
    {
     "name": "stdout",
     "output_type": "stream",
     "text": [
      "Training Loss: 0.4988356520948203\n",
      "Validation Loss: 1.2176356451851982\n",
      "Training Accuracy of the network: 81 %\n",
      "Validation Accuracy of the network: 51 %\n",
      "EarlyStopping counter: 34 out of 50\n"
     ]
    },
    {
     "name": "stderr",
     "output_type": "stream",
     "text": [
      " 11%|█████████████████▌                                                                                                                                              | 110/1000 [08:34<1:10:19,  4.74s/it]"
     ]
    },
    {
     "name": "stdout",
     "output_type": "stream",
     "text": [
      "Training Loss: 0.4786200065543686\n",
      "Validation Loss: 1.1676751468862807\n",
      "Training Accuracy of the network: 84 %\n",
      "Validation Accuracy of the network: 53 %\n",
      "EarlyStopping counter: 35 out of 50\n"
     ]
    },
    {
     "name": "stderr",
     "output_type": "stream",
     "text": [
      " 11%|█████████████████▊                                                                                                                                              | 111/1000 [08:38<1:10:23,  4.75s/it]"
     ]
    },
    {
     "name": "stdout",
     "output_type": "stream",
     "text": [
      "Training Loss: 0.4753940980071607\n",
      "Validation Loss: 1.1833179371697562\n",
      "Training Accuracy of the network: 84 %\n",
      "Validation Accuracy of the network: 53 %\n",
      "EarlyStopping counter: 36 out of 50\n"
     ]
    },
    {
     "name": "stderr",
     "output_type": "stream",
     "text": [
      " 11%|█████████████████▉                                                                                                                                              | 112/1000 [08:43<1:10:14,  4.75s/it]"
     ]
    },
    {
     "name": "stdout",
     "output_type": "stream",
     "text": [
      "Training Loss: 0.4671581289258556\n",
      "Validation Loss: 1.1857508531638554\n",
      "Training Accuracy of the network: 84 %\n",
      "Validation Accuracy of the network: 52 %\n",
      "EarlyStopping counter: 37 out of 50\n"
     ]
    },
    {
     "name": "stderr",
     "output_type": "stream",
     "text": [
      " 11%|██████████████████                                                                                                                                              | 113/1000 [08:48<1:10:38,  4.78s/it]"
     ]
    },
    {
     "name": "stdout",
     "output_type": "stream",
     "text": [
      "Training Loss: 0.46954485622869024\n",
      "Validation Loss: 1.2258621905531202\n",
      "Training Accuracy of the network: 84 %\n",
      "Validation Accuracy of the network: 51 %\n",
      "EarlyStopping counter: 38 out of 50\n"
     ]
    },
    {
     "name": "stderr",
     "output_type": "stream",
     "text": [
      " 11%|██████████████████▏                                                                                                                                             | 114/1000 [08:52<1:06:13,  4.49s/it]"
     ]
    },
    {
     "name": "stdout",
     "output_type": "stream",
     "text": [
      "Training Loss: 0.44205586018337717\n",
      "Validation Loss: 1.1821670276778085\n",
      "Training Accuracy of the network: 86 %\n",
      "Validation Accuracy of the network: 52 %\n",
      "EarlyStopping counter: 39 out of 50\n"
     ]
    },
    {
     "name": "stderr",
     "output_type": "stream",
     "text": [
      " 12%|██████████████████▍                                                                                                                                             | 115/1000 [08:56<1:02:43,  4.25s/it]"
     ]
    },
    {
     "name": "stdout",
     "output_type": "stream",
     "text": [
      "Training Loss: 0.46189520659222116\n",
      "Validation Loss: 1.1642446415764944\n",
      "Training Accuracy of the network: 84 %\n",
      "Validation Accuracy of the network: 53 %\n",
      "EarlyStopping counter: 40 out of 50\n"
     ]
    },
    {
     "name": "stderr",
     "output_type": "stream",
     "text": [
      " 12%|██████████████████▌                                                                                                                                             | 116/1000 [08:59<1:00:24,  4.10s/it]"
     ]
    },
    {
     "name": "stdout",
     "output_type": "stream",
     "text": [
      "Training Loss: 0.45236025977393857\n",
      "Validation Loss: 1.1857355892658235\n",
      "Training Accuracy of the network: 85 %\n",
      "Validation Accuracy of the network: 52 %\n",
      "EarlyStopping counter: 41 out of 50\n"
     ]
    },
    {
     "name": "stderr",
     "output_type": "stream",
     "text": [
      " 12%|██████████████████▉                                                                                                                                               | 117/1000 [09:03<58:06,  3.95s/it]"
     ]
    },
    {
     "name": "stdout",
     "output_type": "stream",
     "text": [
      "Training Loss: 0.4461869782079821\n",
      "Validation Loss: 1.1659394664423806\n",
      "Training Accuracy of the network: 84 %\n",
      "Validation Accuracy of the network: 56 %\n",
      "EarlyStopping counter: 42 out of 50\n"
     ]
    },
    {
     "name": "stderr",
     "output_type": "stream",
     "text": [
      " 12%|███████████████████                                                                                                                                               | 118/1000 [09:07<56:36,  3.85s/it]"
     ]
    },
    {
     "name": "stdout",
     "output_type": "stream",
     "text": [
      "Training Loss: 0.450615130148936\n",
      "Validation Loss: 1.215486000265394\n",
      "Training Accuracy of the network: 84 %\n",
      "Validation Accuracy of the network: 52 %\n",
      "EarlyStopping counter: 43 out of 50\n"
     ]
    },
    {
     "name": "stderr",
     "output_type": "stream",
     "text": [
      " 12%|███████████████████▎                                                                                                                                              | 119/1000 [09:10<56:01,  3.82s/it]"
     ]
    },
    {
     "name": "stdout",
     "output_type": "stream",
     "text": [
      "Training Loss: 0.44980836162964505\n",
      "Validation Loss: 1.1732615521975926\n",
      "Training Accuracy of the network: 84 %\n",
      "Validation Accuracy of the network: 52 %\n",
      "EarlyStopping counter: 44 out of 50\n"
     ]
    },
    {
     "name": "stderr",
     "output_type": "stream",
     "text": [
      " 12%|███████████████████▍                                                                                                                                              | 120/1000 [09:14<55:43,  3.80s/it]"
     ]
    },
    {
     "name": "stdout",
     "output_type": "stream",
     "text": [
      "Training Loss: 0.4400537945330143\n",
      "Validation Loss: 1.2245901542050497\n",
      "Training Accuracy of the network: 85 %\n",
      "Validation Accuracy of the network: 53 %\n",
      "EarlyStopping counter: 45 out of 50\n"
     ]
    },
    {
     "name": "stderr",
     "output_type": "stream",
     "text": [
      " 12%|███████████████████▌                                                                                                                                              | 121/1000 [09:18<55:33,  3.79s/it]"
     ]
    },
    {
     "name": "stdout",
     "output_type": "stream",
     "text": [
      "Training Loss: 0.4615649724568146\n",
      "Validation Loss: 1.1930728418486458\n",
      "Training Accuracy of the network: 84 %\n",
      "Validation Accuracy of the network: 52 %\n",
      "EarlyStopping counter: 46 out of 50\n"
     ]
    },
    {
     "name": "stderr",
     "output_type": "stream",
     "text": [
      " 12%|███████████████████▊                                                                                                                                              | 122/1000 [09:21<54:48,  3.75s/it]"
     ]
    },
    {
     "name": "stdout",
     "output_type": "stream",
     "text": [
      "Training Loss: 0.4431327822199766\n",
      "Validation Loss: 1.1981872626713344\n",
      "Training Accuracy of the network: 85 %\n",
      "Validation Accuracy of the network: 54 %\n",
      "EarlyStopping counter: 47 out of 50\n"
     ]
    },
    {
     "name": "stderr",
     "output_type": "stream",
     "text": [
      " 12%|███████████████████▉                                                                                                                                              | 123/1000 [09:26<59:05,  4.04s/it]"
     ]
    },
    {
     "name": "stdout",
     "output_type": "stream",
     "text": [
      "Training Loss: 0.44022521462993347\n",
      "Validation Loss: 1.2239675189767565\n",
      "Training Accuracy of the network: 85 %\n",
      "Validation Accuracy of the network: 53 %\n",
      "EarlyStopping counter: 48 out of 50\n"
     ]
    },
    {
     "name": "stderr",
     "output_type": "stream",
     "text": [
      " 12%|███████████████████▊                                                                                                                                            | 124/1000 [09:31<1:02:13,  4.26s/it]"
     ]
    },
    {
     "name": "stdout",
     "output_type": "stream",
     "text": [
      "Training Loss: 0.4532878724993139\n",
      "Validation Loss: 1.191846386875425\n",
      "Training Accuracy of the network: 84 %\n",
      "Validation Accuracy of the network: 55 %\n",
      "EarlyStopping counter: 49 out of 50\n"
     ]
    },
    {
     "name": "stderr",
     "output_type": "stream",
     "text": [
      " 12%|███████████████████▊                                                                                                                                            | 124/1000 [09:36<1:07:49,  4.65s/it]\n"
     ]
    },
    {
     "name": "stdout",
     "output_type": "stream",
     "text": [
      "Training Loss: 0.4350642787589543\n",
      "Validation Loss: 1.199377291543143\n",
      "Training Accuracy of the network: 85 %\n",
      "Validation Accuracy of the network: 56 %\n",
      "EarlyStopping counter: 50 out of 50\n",
      "Early Stopping\n"
     ]
    },
    {
     "name": "stderr",
     "output_type": "stream",
     "text": [
      "100%|███████████████████████████████████████████████████████████████████████████████████████████████████████████████████████████████████████████████████████████████████████| 1/1 [00:00<00:00,  6.19it/s]\n"
     ]
    },
    {
     "name": "stdout",
     "output_type": "stream",
     "text": [
      "Extra Training Loss: 1.3173209726810455\n",
      "Extra Training Accuracy of the network: 38 %\n",
      "Extra Testing Loss: 1.473605751991272\n",
      "Extra Testing Accuracy of the network: 38 %\n"
     ]
    },
    {
     "name": "stderr",
     "output_type": "stream",
     "text": [
      "  0%|▏                                                                                                                                                                 | 1/1000 [00:04<1:20:19,  4.82s/it]"
     ]
    },
    {
     "name": "stdout",
     "output_type": "stream",
     "text": [
      "Training Loss: 1.5992014053020072\n",
      "Validation Loss: 1.3899325761530135\n",
      "Training Accuracy of the network: 23 %\n",
      "Validation Accuracy of the network: 26 %\n",
      "Validation loss decreased (inf --> 1.389933).  Saving model ...\n"
     ]
    },
    {
     "name": "stderr",
     "output_type": "stream",
     "text": [
      "  0%|▎                                                                                                                                                                 | 2/1000 [00:09<1:21:34,  4.90s/it]"
     ]
    },
    {
     "name": "stdout",
     "output_type": "stream",
     "text": [
      "Training Loss: 1.5356455035243475\n",
      "Validation Loss: 1.3887548314200506\n",
      "Training Accuracy of the network: 25 %\n",
      "Validation Accuracy of the network: 30 %\n",
      "Validation loss decreased (1.389933 --> 1.388755).  Saving model ...\n"
     ]
    },
    {
     "name": "stderr",
     "output_type": "stream",
     "text": [
      "  0%|▍                                                                                                                                                                 | 3/1000 [00:14<1:20:44,  4.86s/it]"
     ]
    },
    {
     "name": "stdout",
     "output_type": "stream",
     "text": [
      "Training Loss: 1.4862502111610791\n",
      "Validation Loss: 1.3731882340378232\n",
      "Training Accuracy of the network: 27 %\n",
      "Validation Accuracy of the network: 28 %\n",
      "Validation loss decreased (1.388755 --> 1.373188).  Saving model ...\n"
     ]
    },
    {
     "name": "stderr",
     "output_type": "stream",
     "text": [
      "  0%|▋                                                                                                                                                                 | 4/1000 [00:19<1:20:40,  4.86s/it]"
     ]
    },
    {
     "name": "stdout",
     "output_type": "stream",
     "text": [
      "Training Loss: 1.4495128122627312\n",
      "Validation Loss: 1.3642338481214311\n",
      "Training Accuracy of the network: 30 %\n",
      "Validation Accuracy of the network: 30 %\n",
      "Validation loss decreased (1.373188 --> 1.364234).  Saving model ...\n"
     ]
    },
    {
     "name": "stderr",
     "output_type": "stream",
     "text": [
      "  0%|▊                                                                                                                                                                 | 5/1000 [00:24<1:20:03,  4.83s/it]"
     ]
    },
    {
     "name": "stdout",
     "output_type": "stream",
     "text": [
      "Training Loss: 1.40818944552266\n",
      "Validation Loss: 1.3486770921283298\n",
      "Training Accuracy of the network: 32 %\n",
      "Validation Accuracy of the network: 34 %\n",
      "Validation loss decreased (1.364234 --> 1.348677).  Saving model ...\n"
     ]
    },
    {
     "name": "stderr",
     "output_type": "stream",
     "text": [
      "  1%|▉                                                                                                                                                                 | 6/1000 [00:29<1:20:12,  4.84s/it]"
     ]
    },
    {
     "name": "stdout",
     "output_type": "stream",
     "text": [
      "Training Loss: 1.391207033860768\n",
      "Validation Loss: 1.341491911146376\n",
      "Training Accuracy of the network: 34 %\n",
      "Validation Accuracy of the network: 31 %\n",
      "Validation loss decreased (1.348677 --> 1.341492).  Saving model ...\n"
     ]
    },
    {
     "name": "stderr",
     "output_type": "stream",
     "text": [
      "  1%|█▏                                                                                                                                                                | 7/1000 [00:34<1:20:32,  4.87s/it]"
     ]
    },
    {
     "name": "stdout",
     "output_type": "stream",
     "text": [
      "Training Loss: 1.3802781198041658\n",
      "Validation Loss: 1.3231360647413466\n",
      "Training Accuracy of the network: 34 %\n",
      "Validation Accuracy of the network: 36 %\n",
      "Validation loss decreased (1.341492 --> 1.323136).  Saving model ...\n"
     ]
    },
    {
     "name": "stderr",
     "output_type": "stream",
     "text": [
      "  1%|█▎                                                                                                                                                                | 8/1000 [00:38<1:20:18,  4.86s/it]"
     ]
    },
    {
     "name": "stdout",
     "output_type": "stream",
     "text": [
      "Training Loss: 1.3501601100813412\n",
      "Validation Loss: 1.3235993749565549\n",
      "Training Accuracy of the network: 35 %\n",
      "Validation Accuracy of the network: 34 %\n",
      "EarlyStopping counter: 1 out of 50\n"
     ]
    },
    {
     "name": "stderr",
     "output_type": "stream",
     "text": [
      "  1%|█▍                                                                                                                                                                | 9/1000 [00:43<1:20:17,  4.86s/it]"
     ]
    },
    {
     "name": "stdout",
     "output_type": "stream",
     "text": [
      "Training Loss: 1.3227653275144862\n",
      "Validation Loss: 1.314956419997745\n",
      "Training Accuracy of the network: 37 %\n",
      "Validation Accuracy of the network: 37 %\n",
      "Validation loss decreased (1.323136 --> 1.314956).  Saving model ...\n"
     ]
    },
    {
     "name": "stderr",
     "output_type": "stream",
     "text": [
      "  1%|█▌                                                                                                                                                               | 10/1000 [00:48<1:20:32,  4.88s/it]"
     ]
    },
    {
     "name": "stdout",
     "output_type": "stream",
     "text": [
      "Training Loss: 1.2920774745602979\n",
      "Validation Loss: 1.3072924183474646\n",
      "Training Accuracy of the network: 39 %\n",
      "Validation Accuracy of the network: 36 %\n",
      "Validation loss decreased (1.314956 --> 1.307292).  Saving model ...\n"
     ]
    },
    {
     "name": "stderr",
     "output_type": "stream",
     "text": [
      "  1%|█▊                                                                                                                                                               | 11/1000 [00:53<1:20:25,  4.88s/it]"
     ]
    },
    {
     "name": "stdout",
     "output_type": "stream",
     "text": [
      "Training Loss: 1.2836075074283788\n",
      "Validation Loss: 1.2868546942869823\n",
      "Training Accuracy of the network: 41 %\n",
      "Validation Accuracy of the network: 38 %\n",
      "Validation loss decreased (1.307292 --> 1.286855).  Saving model ...\n"
     ]
    },
    {
     "name": "stderr",
     "output_type": "stream",
     "text": [
      "  1%|█▉                                                                                                                                                               | 12/1000 [00:58<1:20:45,  4.90s/it]"
     ]
    },
    {
     "name": "stdout",
     "output_type": "stream",
     "text": [
      "Training Loss: 1.2731195265519704\n",
      "Validation Loss: 1.2885437342855666\n",
      "Training Accuracy of the network: 42 %\n",
      "Validation Accuracy of the network: 37 %\n",
      "EarlyStopping counter: 1 out of 50\n"
     ]
    },
    {
     "name": "stderr",
     "output_type": "stream",
     "text": [
      "  1%|██                                                                                                                                                               | 13/1000 [01:03<1:20:23,  4.89s/it]"
     ]
    },
    {
     "name": "stdout",
     "output_type": "stream",
     "text": [
      "Training Loss: 1.2476710207918857\n",
      "Validation Loss: 1.2841780251926846\n",
      "Training Accuracy of the network: 43 %\n",
      "Validation Accuracy of the network: 37 %\n",
      "Validation loss decreased (1.286855 --> 1.284178).  Saving model ...\n"
     ]
    },
    {
     "name": "stderr",
     "output_type": "stream",
     "text": [
      "  1%|██▎                                                                                                                                                              | 14/1000 [01:08<1:20:51,  4.92s/it]"
     ]
    },
    {
     "name": "stdout",
     "output_type": "stream",
     "text": [
      "Training Loss: 1.2387271383975416\n",
      "Validation Loss: 1.280473315053516\n",
      "Training Accuracy of the network: 44 %\n",
      "Validation Accuracy of the network: 35 %\n",
      "Validation loss decreased (1.284178 --> 1.280473).  Saving model ...\n"
     ]
    },
    {
     "name": "stderr",
     "output_type": "stream",
     "text": [
      "  2%|██▍                                                                                                                                                              | 15/1000 [01:13<1:20:21,  4.89s/it]"
     ]
    },
    {
     "name": "stdout",
     "output_type": "stream",
     "text": [
      "Training Loss: 1.2296532544683902\n",
      "Validation Loss: 1.2764116161399417\n",
      "Training Accuracy of the network: 44 %\n",
      "Validation Accuracy of the network: 37 %\n",
      "Validation loss decreased (1.280473 --> 1.276412).  Saving model ...\n"
     ]
    },
    {
     "name": "stderr",
     "output_type": "stream",
     "text": [
      "  2%|██▌                                                                                                                                                              | 16/1000 [01:17<1:19:41,  4.86s/it]"
     ]
    },
    {
     "name": "stdout",
     "output_type": "stream",
     "text": [
      "Training Loss: 1.209570716881583\n",
      "Validation Loss: 1.2672635184393988\n",
      "Training Accuracy of the network: 46 %\n",
      "Validation Accuracy of the network: 39 %\n",
      "Validation loss decreased (1.276412 --> 1.267264).  Saving model ...\n"
     ]
    },
    {
     "name": "stderr",
     "output_type": "stream",
     "text": [
      "  2%|██▋                                                                                                                                                              | 17/1000 [01:22<1:20:00,  4.88s/it]"
     ]
    },
    {
     "name": "stdout",
     "output_type": "stream",
     "text": [
      "Training Loss: 1.2014152416100738\n",
      "Validation Loss: 1.2654140492280324\n",
      "Training Accuracy of the network: 46 %\n",
      "Validation Accuracy of the network: 37 %\n",
      "Validation loss decreased (1.267264 --> 1.265414).  Saving model ...\n"
     ]
    },
    {
     "name": "stderr",
     "output_type": "stream",
     "text": [
      "  2%|██▉                                                                                                                                                              | 18/1000 [01:27<1:20:00,  4.89s/it]"
     ]
    },
    {
     "name": "stdout",
     "output_type": "stream",
     "text": [
      "Training Loss: 1.190829077088241\n",
      "Validation Loss: 1.2541246347957187\n",
      "Training Accuracy of the network: 47 %\n",
      "Validation Accuracy of the network: 37 %\n",
      "Validation loss decreased (1.265414 --> 1.254125).  Saving model ...\n"
     ]
    },
    {
     "name": "stderr",
     "output_type": "stream",
     "text": [
      "  2%|███                                                                                                                                                              | 19/1000 [01:32<1:20:08,  4.90s/it]"
     ]
    },
    {
     "name": "stdout",
     "output_type": "stream",
     "text": [
      "Training Loss: 1.1764419281736334\n",
      "Validation Loss: 1.2481030722459157\n",
      "Training Accuracy of the network: 49 %\n",
      "Validation Accuracy of the network: 40 %\n",
      "Validation loss decreased (1.254125 --> 1.248103).  Saving model ...\n"
     ]
    },
    {
     "name": "stderr",
     "output_type": "stream",
     "text": [
      "  2%|███▏                                                                                                                                                             | 20/1000 [01:37<1:19:47,  4.89s/it]"
     ]
    },
    {
     "name": "stdout",
     "output_type": "stream",
     "text": [
      "Training Loss: 1.1717486931077132\n",
      "Validation Loss: 1.2485835717784033\n",
      "Training Accuracy of the network: 49 %\n",
      "Validation Accuracy of the network: 38 %\n",
      "EarlyStopping counter: 1 out of 50\n"
     ]
    },
    {
     "name": "stderr",
     "output_type": "stream",
     "text": [
      "  2%|███▍                                                                                                                                                             | 21/1000 [01:42<1:19:14,  4.86s/it]"
     ]
    },
    {
     "name": "stdout",
     "output_type": "stream",
     "text": [
      "Training Loss: 1.1417442471423047\n",
      "Validation Loss: 1.2465154594845242\n",
      "Training Accuracy of the network: 50 %\n",
      "Validation Accuracy of the network: 40 %\n",
      "Validation loss decreased (1.248103 --> 1.246515).  Saving model ...\n"
     ]
    },
    {
     "name": "stderr",
     "output_type": "stream",
     "text": [
      "  2%|███▌                                                                                                                                                             | 22/1000 [01:47<1:20:01,  4.91s/it]"
     ]
    },
    {
     "name": "stdout",
     "output_type": "stream",
     "text": [
      "Training Loss: 1.1382038373473689\n",
      "Validation Loss: 1.235324387749036\n",
      "Training Accuracy of the network: 50 %\n",
      "Validation Accuracy of the network: 39 %\n",
      "Validation loss decreased (1.246515 --> 1.235324).  Saving model ...\n"
     ]
    },
    {
     "name": "stderr",
     "output_type": "stream",
     "text": [
      "  2%|███▋                                                                                                                                                             | 23/1000 [01:52<1:20:14,  4.93s/it]"
     ]
    },
    {
     "name": "stdout",
     "output_type": "stream",
     "text": [
      "Training Loss: 1.1051027893174625\n",
      "Validation Loss: 1.231803900665707\n",
      "Training Accuracy of the network: 53 %\n",
      "Validation Accuracy of the network: 41 %\n",
      "Validation loss decreased (1.235324 --> 1.231804).  Saving model ...\n"
     ]
    },
    {
     "name": "stderr",
     "output_type": "stream",
     "text": [
      "  2%|███▊                                                                                                                                                             | 24/1000 [01:57<1:19:04,  4.86s/it]"
     ]
    },
    {
     "name": "stdout",
     "output_type": "stream",
     "text": [
      "Training Loss: 1.1004530681785962\n",
      "Validation Loss: 1.2181855191787083\n",
      "Training Accuracy of the network: 52 %\n",
      "Validation Accuracy of the network: 41 %\n",
      "Validation loss decreased (1.231804 --> 1.218186).  Saving model ...\n"
     ]
    },
    {
     "name": "stderr",
     "output_type": "stream",
     "text": [
      "  2%|████                                                                                                                                                             | 25/1000 [02:01<1:18:20,  4.82s/it]"
     ]
    },
    {
     "name": "stdout",
     "output_type": "stream",
     "text": [
      "Training Loss: 1.0823763968251277\n",
      "Validation Loss: 1.2109360380305185\n",
      "Training Accuracy of the network: 54 %\n",
      "Validation Accuracy of the network: 40 %\n",
      "Validation loss decreased (1.218186 --> 1.210936).  Saving model ...\n"
     ]
    },
    {
     "name": "stderr",
     "output_type": "stream",
     "text": [
      "  3%|████▏                                                                                                                                                            | 26/1000 [02:06<1:18:51,  4.86s/it]"
     ]
    },
    {
     "name": "stdout",
     "output_type": "stream",
     "text": [
      "Training Loss: 1.0739981105141605\n",
      "Validation Loss: 1.2042401946253247\n",
      "Training Accuracy of the network: 55 %\n",
      "Validation Accuracy of the network: 43 %\n",
      "Validation loss decreased (1.210936 --> 1.204240).  Saving model ...\n"
     ]
    },
    {
     "name": "stderr",
     "output_type": "stream",
     "text": [
      "  3%|████▎                                                                                                                                                            | 27/1000 [02:11<1:18:39,  4.85s/it]"
     ]
    },
    {
     "name": "stdout",
     "output_type": "stream",
     "text": [
      "Training Loss: 1.0519205027438225\n",
      "Validation Loss: 1.2020103931427002\n",
      "Training Accuracy of the network: 56 %\n",
      "Validation Accuracy of the network: 43 %\n",
      "Validation loss decreased (1.204240 --> 1.202010).  Saving model ...\n"
     ]
    },
    {
     "name": "stderr",
     "output_type": "stream",
     "text": [
      "  3%|████▌                                                                                                                                                            | 28/1000 [02:16<1:18:29,  4.85s/it]"
     ]
    },
    {
     "name": "stdout",
     "output_type": "stream",
     "text": [
      "Training Loss: 1.036760003008741\n",
      "Validation Loss: 1.1966160370243921\n",
      "Training Accuracy of the network: 56 %\n",
      "Validation Accuracy of the network: 43 %\n",
      "Validation loss decreased (1.202010 --> 1.196616).  Saving model ...\n"
     ]
    },
    {
     "name": "stderr",
     "output_type": "stream",
     "text": [
      "  3%|████▋                                                                                                                                                            | 29/1000 [02:21<1:18:12,  4.83s/it]"
     ]
    },
    {
     "name": "stdout",
     "output_type": "stream",
     "text": [
      "Training Loss: 1.0212489725850153\n",
      "Validation Loss: 1.189317986369133\n",
      "Training Accuracy of the network: 58 %\n",
      "Validation Accuracy of the network: 44 %\n",
      "Validation loss decreased (1.196616 --> 1.189318).  Saving model ...\n"
     ]
    },
    {
     "name": "stderr",
     "output_type": "stream",
     "text": [
      "  3%|████▊                                                                                                                                                            | 30/1000 [02:26<1:18:09,  4.83s/it]"
     ]
    },
    {
     "name": "stdout",
     "output_type": "stream",
     "text": [
      "Training Loss: 1.010113314111182\n",
      "Validation Loss: 1.183384554253684\n",
      "Training Accuracy of the network: 58 %\n",
      "Validation Accuracy of the network: 44 %\n",
      "Validation loss decreased (1.189318 --> 1.183385).  Saving model ...\n"
     ]
    },
    {
     "name": "stderr",
     "output_type": "stream",
     "text": [
      "  3%|████▉                                                                                                                                                            | 31/1000 [02:30<1:17:51,  4.82s/it]"
     ]
    },
    {
     "name": "stdout",
     "output_type": "stream",
     "text": [
      "Training Loss: 0.9836131021486106\n",
      "Validation Loss: 1.1669743955135345\n",
      "Training Accuracy of the network: 59 %\n",
      "Validation Accuracy of the network: 46 %\n",
      "Validation loss decreased (1.183385 --> 1.166974).  Saving model ...\n"
     ]
    },
    {
     "name": "stderr",
     "output_type": "stream",
     "text": [
      "  3%|█████▏                                                                                                                                                           | 32/1000 [02:35<1:18:22,  4.86s/it]"
     ]
    },
    {
     "name": "stdout",
     "output_type": "stream",
     "text": [
      "Training Loss: 0.9789200327920575\n",
      "Validation Loss: 1.1687925424840715\n",
      "Training Accuracy of the network: 60 %\n",
      "Validation Accuracy of the network: 46 %\n",
      "EarlyStopping counter: 1 out of 50\n"
     ]
    },
    {
     "name": "stderr",
     "output_type": "stream",
     "text": [
      "  3%|█████▎                                                                                                                                                           | 33/1000 [02:40<1:18:27,  4.87s/it]"
     ]
    },
    {
     "name": "stdout",
     "output_type": "stream",
     "text": [
      "Training Loss: 0.9563826292964583\n",
      "Validation Loss: 1.1753639760944579\n",
      "Training Accuracy of the network: 61 %\n",
      "Validation Accuracy of the network: 45 %\n",
      "EarlyStopping counter: 2 out of 50\n"
     ]
    },
    {
     "name": "stderr",
     "output_type": "stream",
     "text": [
      "  3%|█████▍                                                                                                                                                           | 34/1000 [02:45<1:18:08,  4.85s/it]"
     ]
    },
    {
     "name": "stdout",
     "output_type": "stream",
     "text": [
      "Training Loss: 0.9388186001608557\n",
      "Validation Loss: 1.1619790958033667\n",
      "Training Accuracy of the network: 63 %\n",
      "Validation Accuracy of the network: 47 %\n",
      "Validation loss decreased (1.166974 --> 1.161979).  Saving model ...\n"
     ]
    },
    {
     "name": "stderr",
     "output_type": "stream",
     "text": [
      "  4%|█████▋                                                                                                                                                           | 35/1000 [02:50<1:18:14,  4.87s/it]"
     ]
    },
    {
     "name": "stdout",
     "output_type": "stream",
     "text": [
      "Training Loss: 0.9276821993766947\n",
      "Validation Loss: 1.1563618845409818\n",
      "Training Accuracy of the network: 63 %\n",
      "Validation Accuracy of the network: 47 %\n",
      "Validation loss decreased (1.161979 --> 1.156362).  Saving model ...\n"
     ]
    },
    {
     "name": "stderr",
     "output_type": "stream",
     "text": [
      "  4%|█████▊                                                                                                                                                           | 36/1000 [02:55<1:18:31,  4.89s/it]"
     ]
    },
    {
     "name": "stdout",
     "output_type": "stream",
     "text": [
      "Training Loss: 0.9184330310804624\n",
      "Validation Loss: 1.1543641868564818\n",
      "Training Accuracy of the network: 64 %\n",
      "Validation Accuracy of the network: 47 %\n",
      "Validation loss decreased (1.156362 --> 1.154364).  Saving model ...\n"
     ]
    },
    {
     "name": "stderr",
     "output_type": "stream",
     "text": [
      "  4%|█████▉                                                                                                                                                           | 37/1000 [03:00<1:18:53,  4.92s/it]"
     ]
    },
    {
     "name": "stdout",
     "output_type": "stream",
     "text": [
      "Training Loss: 0.9112890713603784\n",
      "Validation Loss: 1.1610967301660113\n",
      "Training Accuracy of the network: 65 %\n",
      "Validation Accuracy of the network: 49 %\n",
      "EarlyStopping counter: 1 out of 50\n"
     ]
    },
    {
     "name": "stderr",
     "output_type": "stream",
     "text": [
      "  4%|██████                                                                                                                                                           | 38/1000 [03:05<1:19:02,  4.93s/it]"
     ]
    },
    {
     "name": "stdout",
     "output_type": "stream",
     "text": [
      "Training Loss: 0.8900416480733994\n",
      "Validation Loss: 1.1594536122348573\n",
      "Training Accuracy of the network: 64 %\n",
      "Validation Accuracy of the network: 48 %\n",
      "EarlyStopping counter: 2 out of 50\n"
     ]
    },
    {
     "name": "stderr",
     "output_type": "stream",
     "text": [
      "  4%|██████▎                                                                                                                                                          | 39/1000 [03:10<1:18:44,  4.92s/it]"
     ]
    },
    {
     "name": "stdout",
     "output_type": "stream",
     "text": [
      "Training Loss: 0.8798086283900214\n",
      "Validation Loss: 1.1310832136207156\n",
      "Training Accuracy of the network: 66 %\n",
      "Validation Accuracy of the network: 49 %\n",
      "Validation loss decreased (1.154364 --> 1.131083).  Saving model ...\n"
     ]
    },
    {
     "name": "stderr",
     "output_type": "stream",
     "text": [
      "  4%|██████▍                                                                                                                                                          | 40/1000 [03:14<1:17:55,  4.87s/it]"
     ]
    },
    {
     "name": "stdout",
     "output_type": "stream",
     "text": [
      "Training Loss: 0.8786778699421713\n",
      "Validation Loss: 1.150093341867129\n",
      "Training Accuracy of the network: 66 %\n",
      "Validation Accuracy of the network: 48 %\n",
      "EarlyStopping counter: 1 out of 50\n"
     ]
    },
    {
     "name": "stderr",
     "output_type": "stream",
     "text": [
      "  4%|██████▌                                                                                                                                                          | 41/1000 [03:19<1:16:32,  4.79s/it]"
     ]
    },
    {
     "name": "stdout",
     "output_type": "stream",
     "text": [
      "Training Loss: 0.855251948884193\n",
      "Validation Loss: 1.1527483860651653\n",
      "Training Accuracy of the network: 67 %\n",
      "Validation Accuracy of the network: 48 %\n",
      "EarlyStopping counter: 2 out of 50\n"
     ]
    },
    {
     "name": "stderr",
     "output_type": "stream",
     "text": [
      "  4%|██████▊                                                                                                                                                          | 42/1000 [03:24<1:17:22,  4.85s/it]"
     ]
    },
    {
     "name": "stdout",
     "output_type": "stream",
     "text": [
      "Training Loss: 0.8525694374074327\n",
      "Validation Loss: 1.1455221705966525\n",
      "Training Accuracy of the network: 66 %\n",
      "Validation Accuracy of the network: 51 %\n",
      "EarlyStopping counter: 3 out of 50\n"
     ]
    },
    {
     "name": "stderr",
     "output_type": "stream",
     "text": [
      "  4%|██████▉                                                                                                                                                          | 43/1000 [03:29<1:18:25,  4.92s/it]"
     ]
    },
    {
     "name": "stdout",
     "output_type": "stream",
     "text": [
      "Training Loss: 0.8425285900738222\n",
      "Validation Loss: 1.1421241495344374\n",
      "Training Accuracy of the network: 67 %\n",
      "Validation Accuracy of the network: 50 %\n",
      "EarlyStopping counter: 4 out of 50\n"
     ]
    },
    {
     "name": "stderr",
     "output_type": "stream",
     "text": [
      "  4%|███████                                                                                                                                                          | 44/1000 [03:34<1:18:38,  4.94s/it]"
     ]
    },
    {
     "name": "stdout",
     "output_type": "stream",
     "text": [
      "Training Loss: 0.8435464919881618\n",
      "Validation Loss: 1.1365003900395498\n",
      "Training Accuracy of the network: 67 %\n",
      "Validation Accuracy of the network: 49 %\n",
      "EarlyStopping counter: 5 out of 50\n"
     ]
    },
    {
     "name": "stderr",
     "output_type": "stream",
     "text": [
      "  4%|███████▏                                                                                                                                                         | 45/1000 [03:39<1:18:08,  4.91s/it]"
     ]
    },
    {
     "name": "stdout",
     "output_type": "stream",
     "text": [
      "Training Loss: 0.8190991257099395\n",
      "Validation Loss: 1.1257315791315503\n",
      "Training Accuracy of the network: 69 %\n",
      "Validation Accuracy of the network: 50 %\n",
      "Validation loss decreased (1.131083 --> 1.125732).  Saving model ...\n"
     ]
    },
    {
     "name": "stderr",
     "output_type": "stream",
     "text": [
      "  5%|███████▍                                                                                                                                                         | 46/1000 [03:44<1:18:07,  4.91s/it]"
     ]
    },
    {
     "name": "stdout",
     "output_type": "stream",
     "text": [
      "Training Loss: 0.8018920379327544\n",
      "Validation Loss: 1.1355082657602098\n",
      "Training Accuracy of the network: 70 %\n",
      "Validation Accuracy of the network: 50 %\n",
      "EarlyStopping counter: 1 out of 50\n"
     ]
    },
    {
     "name": "stderr",
     "output_type": "stream",
     "text": [
      "  5%|███████▌                                                                                                                                                         | 47/1000 [03:49<1:17:20,  4.87s/it]"
     ]
    },
    {
     "name": "stdout",
     "output_type": "stream",
     "text": [
      "Training Loss: 0.7879669761404078\n",
      "Validation Loss: 1.135278547803561\n",
      "Training Accuracy of the network: 69 %\n",
      "Validation Accuracy of the network: 49 %\n",
      "EarlyStopping counter: 2 out of 50\n"
     ]
    },
    {
     "name": "stderr",
     "output_type": "stream",
     "text": [
      "  5%|███████▋                                                                                                                                                         | 48/1000 [03:54<1:17:31,  4.89s/it]"
     ]
    },
    {
     "name": "stdout",
     "output_type": "stream",
     "text": [
      "Training Loss: 0.7931149766800252\n",
      "Validation Loss: 1.1118691249026194\n",
      "Training Accuracy of the network: 70 %\n",
      "Validation Accuracy of the network: 51 %\n",
      "Validation loss decreased (1.125732 --> 1.111869).  Saving model ...\n"
     ]
    },
    {
     "name": "stderr",
     "output_type": "stream",
     "text": [
      "  5%|███████▉                                                                                                                                                         | 49/1000 [03:58<1:17:12,  4.87s/it]"
     ]
    },
    {
     "name": "stdout",
     "output_type": "stream",
     "text": [
      "Training Loss: 0.7786775235588669\n",
      "Validation Loss: 1.1191629585292604\n",
      "Training Accuracy of the network: 70 %\n",
      "Validation Accuracy of the network: 52 %\n",
      "EarlyStopping counter: 1 out of 50\n"
     ]
    },
    {
     "name": "stderr",
     "output_type": "stream",
     "text": [
      "  5%|████████                                                                                                                                                         | 50/1000 [04:03<1:16:55,  4.86s/it]"
     ]
    },
    {
     "name": "stdout",
     "output_type": "stream",
     "text": [
      "Training Loss: 0.7657697016888476\n",
      "Validation Loss: 1.1177389257484012\n",
      "Training Accuracy of the network: 71 %\n",
      "Validation Accuracy of the network: 51 %\n",
      "EarlyStopping counter: 2 out of 50\n"
     ]
    },
    {
     "name": "stderr",
     "output_type": "stream",
     "text": [
      "  5%|████████▏                                                                                                                                                        | 51/1000 [04:08<1:17:19,  4.89s/it]"
     ]
    },
    {
     "name": "stdout",
     "output_type": "stream",
     "text": [
      "Training Loss: 0.7606017853774077\n",
      "Validation Loss: 1.125679944952329\n",
      "Training Accuracy of the network: 71 %\n",
      "Validation Accuracy of the network: 52 %\n",
      "EarlyStopping counter: 3 out of 50\n"
     ]
    },
    {
     "name": "stderr",
     "output_type": "stream",
     "text": [
      "  5%|████████▎                                                                                                                                                        | 52/1000 [04:13<1:17:13,  4.89s/it]"
     ]
    },
    {
     "name": "stdout",
     "output_type": "stream",
     "text": [
      "Training Loss: 0.7417374635841829\n",
      "Validation Loss: 1.1253022717105017\n",
      "Training Accuracy of the network: 72 %\n",
      "Validation Accuracy of the network: 51 %\n",
      "EarlyStopping counter: 4 out of 50\n"
     ]
    },
    {
     "name": "stderr",
     "output_type": "stream",
     "text": [
      "  5%|████████▌                                                                                                                                                        | 53/1000 [04:18<1:16:26,  4.84s/it]"
     ]
    },
    {
     "name": "stdout",
     "output_type": "stream",
     "text": [
      "Training Loss: 0.739699273033345\n",
      "Validation Loss: 1.1142068141036563\n",
      "Training Accuracy of the network: 72 %\n",
      "Validation Accuracy of the network: 52 %\n",
      "EarlyStopping counter: 5 out of 50\n"
     ]
    },
    {
     "name": "stderr",
     "output_type": "stream",
     "text": [
      "  5%|████████▋                                                                                                                                                        | 54/1000 [04:23<1:16:13,  4.83s/it]"
     ]
    },
    {
     "name": "stdout",
     "output_type": "stream",
     "text": [
      "Training Loss: 0.7318624816042312\n",
      "Validation Loss: 1.1207818339268367\n",
      "Training Accuracy of the network: 72 %\n",
      "Validation Accuracy of the network: 52 %\n",
      "EarlyStopping counter: 6 out of 50\n"
     ]
    },
    {
     "name": "stderr",
     "output_type": "stream",
     "text": [
      "  6%|████████▊                                                                                                                                                        | 55/1000 [04:27<1:16:32,  4.86s/it]"
     ]
    },
    {
     "name": "stdout",
     "output_type": "stream",
     "text": [
      "Training Loss: 0.7293579781309087\n",
      "Validation Loss: 1.1012078026930492\n",
      "Training Accuracy of the network: 73 %\n",
      "Validation Accuracy of the network: 52 %\n",
      "Validation loss decreased (1.111869 --> 1.101208).  Saving model ...\n"
     ]
    },
    {
     "name": "stderr",
     "output_type": "stream",
     "text": [
      "  6%|█████████                                                                                                                                                        | 56/1000 [04:32<1:16:37,  4.87s/it]"
     ]
    },
    {
     "name": "stdout",
     "output_type": "stream",
     "text": [
      "Training Loss: 0.7227325847385623\n",
      "Validation Loss: 1.0950082739194233\n",
      "Training Accuracy of the network: 73 %\n",
      "Validation Accuracy of the network: 53 %\n",
      "Validation loss decreased (1.101208 --> 1.095008).  Saving model ...\n"
     ]
    },
    {
     "name": "stderr",
     "output_type": "stream",
     "text": [
      "  6%|█████████▏                                                                                                                                                       | 57/1000 [04:37<1:16:36,  4.87s/it]"
     ]
    },
    {
     "name": "stdout",
     "output_type": "stream",
     "text": [
      "Training Loss: 0.714512844880422\n",
      "Validation Loss: 1.1172218057844374\n",
      "Training Accuracy of the network: 72 %\n",
      "Validation Accuracy of the network: 54 %\n",
      "EarlyStopping counter: 1 out of 50\n"
     ]
    },
    {
     "name": "stderr",
     "output_type": "stream",
     "text": [
      "  6%|█████████▎                                                                                                                                                       | 58/1000 [04:42<1:16:18,  4.86s/it]"
     ]
    },
    {
     "name": "stdout",
     "output_type": "stream",
     "text": [
      "Training Loss: 0.6920413026150237\n",
      "Validation Loss: 1.1169708768526714\n",
      "Training Accuracy of the network: 73 %\n",
      "Validation Accuracy of the network: 51 %\n",
      "EarlyStopping counter: 2 out of 50\n"
     ]
    },
    {
     "name": "stderr",
     "output_type": "stream",
     "text": [
      "  6%|█████████▍                                                                                                                                                       | 59/1000 [04:47<1:16:41,  4.89s/it]"
     ]
    },
    {
     "name": "stdout",
     "output_type": "stream",
     "text": [
      "Training Loss: 0.6920334009836752\n",
      "Validation Loss: 1.1166306088368099\n",
      "Training Accuracy of the network: 74 %\n",
      "Validation Accuracy of the network: 54 %\n",
      "EarlyStopping counter: 3 out of 50\n"
     ]
    },
    {
     "name": "stderr",
     "output_type": "stream",
     "text": [
      "  6%|█████████▋                                                                                                                                                       | 60/1000 [04:52<1:17:13,  4.93s/it]"
     ]
    },
    {
     "name": "stdout",
     "output_type": "stream",
     "text": [
      "Training Loss: 0.6758421915220031\n",
      "Validation Loss: 1.1052941415044997\n",
      "Training Accuracy of the network: 75 %\n",
      "Validation Accuracy of the network: 56 %\n",
      "EarlyStopping counter: 4 out of 50\n"
     ]
    },
    {
     "name": "stderr",
     "output_type": "stream",
     "text": [
      "  6%|█████████▊                                                                                                                                                       | 61/1000 [04:57<1:15:58,  4.85s/it]"
     ]
    },
    {
     "name": "stdout",
     "output_type": "stream",
     "text": [
      "Training Loss: 0.6870915316943581\n",
      "Validation Loss: 1.11753521197372\n",
      "Training Accuracy of the network: 75 %\n",
      "Validation Accuracy of the network: 53 %\n",
      "EarlyStopping counter: 5 out of 50\n"
     ]
    },
    {
     "name": "stderr",
     "output_type": "stream",
     "text": [
      "  6%|█████████▉                                                                                                                                                       | 62/1000 [05:01<1:15:23,  4.82s/it]"
     ]
    },
    {
     "name": "stdout",
     "output_type": "stream",
     "text": [
      "Training Loss: 0.6742087837229384\n",
      "Validation Loss: 1.108509471019109\n",
      "Training Accuracy of the network: 75 %\n",
      "Validation Accuracy of the network: 53 %\n",
      "EarlyStopping counter: 6 out of 50\n"
     ]
    },
    {
     "name": "stderr",
     "output_type": "stream",
     "text": [
      "  6%|██████████▏                                                                                                                                                      | 63/1000 [05:07<1:16:40,  4.91s/it]"
     ]
    },
    {
     "name": "stdout",
     "output_type": "stream",
     "text": [
      "Training Loss: 0.6540830238913813\n",
      "Validation Loss: 1.131929361157947\n",
      "Training Accuracy of the network: 76 %\n",
      "Validation Accuracy of the network: 51 %\n",
      "EarlyStopping counter: 7 out of 50\n"
     ]
    },
    {
     "name": "stderr",
     "output_type": "stream",
     "text": [
      "  6%|██████████▎                                                                                                                                                      | 64/1000 [05:12<1:16:38,  4.91s/it]"
     ]
    },
    {
     "name": "stdout",
     "output_type": "stream",
     "text": [
      "Training Loss: 0.6558261809619605\n",
      "Validation Loss: 1.1230164567629497\n",
      "Training Accuracy of the network: 76 %\n",
      "Validation Accuracy of the network: 54 %\n",
      "EarlyStopping counter: 8 out of 50\n"
     ]
    },
    {
     "name": "stderr",
     "output_type": "stream",
     "text": [
      "  6%|██████████▍                                                                                                                                                      | 65/1000 [05:16<1:16:34,  4.91s/it]"
     ]
    },
    {
     "name": "stdout",
     "output_type": "stream",
     "text": [
      "Training Loss: 0.6615417861769385\n",
      "Validation Loss: 1.1395329236984253\n",
      "Training Accuracy of the network: 75 %\n",
      "Validation Accuracy of the network: 53 %\n",
      "EarlyStopping counter: 9 out of 50\n"
     ]
    },
    {
     "name": "stderr",
     "output_type": "stream",
     "text": [
      "  7%|██████████▋                                                                                                                                                      | 66/1000 [05:21<1:16:37,  4.92s/it]"
     ]
    },
    {
     "name": "stdout",
     "output_type": "stream",
     "text": [
      "Training Loss: 0.6533226702652924\n",
      "Validation Loss: 1.1158352196216583\n",
      "Training Accuracy of the network: 76 %\n",
      "Validation Accuracy of the network: 52 %\n",
      "EarlyStopping counter: 10 out of 50\n"
     ]
    },
    {
     "name": "stderr",
     "output_type": "stream",
     "text": [
      "  7%|██████████▊                                                                                                                                                      | 67/1000 [05:26<1:16:34,  4.92s/it]"
     ]
    },
    {
     "name": "stdout",
     "output_type": "stream",
     "text": [
      "Training Loss: 0.6565492597032101\n",
      "Validation Loss: 1.1039939026037853\n",
      "Training Accuracy of the network: 76 %\n",
      "Validation Accuracy of the network: 52 %\n",
      "EarlyStopping counter: 11 out of 50\n"
     ]
    },
    {
     "name": "stderr",
     "output_type": "stream",
     "text": [
      "  7%|██████████▉                                                                                                                                                      | 68/1000 [05:31<1:15:53,  4.89s/it]"
     ]
    },
    {
     "name": "stdout",
     "output_type": "stream",
     "text": [
      "Training Loss: 0.6299833848755411\n",
      "Validation Loss: 1.1125600354539023\n",
      "Training Accuracy of the network: 76 %\n",
      "Validation Accuracy of the network: 54 %\n",
      "EarlyStopping counter: 12 out of 50\n"
     ]
    },
    {
     "name": "stderr",
     "output_type": "stream",
     "text": [
      "  7%|███████████                                                                                                                                                      | 69/1000 [05:36<1:15:38,  4.87s/it]"
     ]
    },
    {
     "name": "stdout",
     "output_type": "stream",
     "text": [
      "Training Loss: 0.6544395135649552\n",
      "Validation Loss: 1.1188574598895178\n",
      "Training Accuracy of the network: 75 %\n",
      "Validation Accuracy of the network: 53 %\n",
      "EarlyStopping counter: 13 out of 50\n"
     ]
    },
    {
     "name": "stderr",
     "output_type": "stream",
     "text": [
      "  7%|███████████▎                                                                                                                                                     | 70/1000 [05:41<1:15:10,  4.85s/it]"
     ]
    },
    {
     "name": "stdout",
     "output_type": "stream",
     "text": [
      "Training Loss: 0.6331833772202755\n",
      "Validation Loss: 1.109917637374666\n",
      "Training Accuracy of the network: 77 %\n",
      "Validation Accuracy of the network: 53 %\n",
      "EarlyStopping counter: 14 out of 50\n"
     ]
    },
    {
     "name": "stderr",
     "output_type": "stream",
     "text": [
      "  7%|███████████▍                                                                                                                                                     | 71/1000 [05:46<1:15:36,  4.88s/it]"
     ]
    },
    {
     "name": "stdout",
     "output_type": "stream",
     "text": [
      "Training Loss: 0.6090704933971378\n",
      "Validation Loss: 1.139897088209788\n",
      "Training Accuracy of the network: 77 %\n",
      "Validation Accuracy of the network: 55 %\n",
      "EarlyStopping counter: 15 out of 50\n"
     ]
    },
    {
     "name": "stderr",
     "output_type": "stream",
     "text": [
      "  7%|███████████▌                                                                                                                                                     | 72/1000 [05:51<1:16:20,  4.94s/it]"
     ]
    },
    {
     "name": "stdout",
     "output_type": "stream",
     "text": [
      "Training Loss: 0.5983218208272406\n",
      "Validation Loss: 1.1281012180778716\n",
      "Training Accuracy of the network: 78 %\n",
      "Validation Accuracy of the network: 53 %\n",
      "EarlyStopping counter: 16 out of 50\n"
     ]
    },
    {
     "name": "stderr",
     "output_type": "stream",
     "text": [
      "  7%|███████████▊                                                                                                                                                     | 73/1000 [05:56<1:15:33,  4.89s/it]"
     ]
    },
    {
     "name": "stdout",
     "output_type": "stream",
     "text": [
      "Training Loss: 0.6118670224297976\n",
      "Validation Loss: 1.1128766553269491\n",
      "Training Accuracy of the network: 78 %\n",
      "Validation Accuracy of the network: 52 %\n",
      "EarlyStopping counter: 17 out of 50\n"
     ]
    },
    {
     "name": "stderr",
     "output_type": "stream",
     "text": [
      "  7%|███████████▉                                                                                                                                                     | 74/1000 [06:00<1:15:41,  4.90s/it]"
     ]
    },
    {
     "name": "stdout",
     "output_type": "stream",
     "text": [
      "Training Loss: 0.5874207645443315\n",
      "Validation Loss: 1.135748631424374\n",
      "Training Accuracy of the network: 79 %\n",
      "Validation Accuracy of the network: 52 %\n",
      "EarlyStopping counter: 18 out of 50\n"
     ]
    },
    {
     "name": "stderr",
     "output_type": "stream",
     "text": [
      "  8%|████████████                                                                                                                                                     | 75/1000 [06:05<1:15:21,  4.89s/it]"
     ]
    },
    {
     "name": "stdout",
     "output_type": "stream",
     "text": [
      "Training Loss: 0.5851695389612347\n",
      "Validation Loss: 1.0973262223932478\n",
      "Training Accuracy of the network: 79 %\n",
      "Validation Accuracy of the network: 54 %\n",
      "EarlyStopping counter: 19 out of 50\n"
     ]
    },
    {
     "name": "stderr",
     "output_type": "stream",
     "text": [
      "  8%|████████████▏                                                                                                                                                    | 76/1000 [06:10<1:15:01,  4.87s/it]"
     ]
    },
    {
     "name": "stdout",
     "output_type": "stream",
     "text": [
      "Training Loss: 0.5915883741480239\n",
      "Validation Loss: 1.1226897123787138\n",
      "Training Accuracy of the network: 79 %\n",
      "Validation Accuracy of the network: 54 %\n",
      "EarlyStopping counter: 20 out of 50\n"
     ]
    },
    {
     "name": "stderr",
     "output_type": "stream",
     "text": [
      "  8%|████████████▍                                                                                                                                                    | 77/1000 [06:15<1:15:23,  4.90s/it]"
     ]
    },
    {
     "name": "stdout",
     "output_type": "stream",
     "text": [
      "Training Loss: 0.5747473797899612\n",
      "Validation Loss: 1.1128035121493869\n",
      "Training Accuracy of the network: 79 %\n",
      "Validation Accuracy of the network: 54 %\n",
      "EarlyStopping counter: 21 out of 50\n"
     ]
    },
    {
     "name": "stderr",
     "output_type": "stream",
     "text": [
      "  8%|████████████▌                                                                                                                                                    | 78/1000 [06:20<1:15:04,  4.89s/it]"
     ]
    },
    {
     "name": "stdout",
     "output_type": "stream",
     "text": [
      "Training Loss: 0.5657907321732095\n",
      "Validation Loss: 1.1156285388602152\n",
      "Training Accuracy of the network: 79 %\n",
      "Validation Accuracy of the network: 54 %\n",
      "EarlyStopping counter: 22 out of 50\n"
     ]
    },
    {
     "name": "stderr",
     "output_type": "stream",
     "text": [
      "  8%|████████████▋                                                                                                                                                    | 79/1000 [06:25<1:15:22,  4.91s/it]"
     ]
    },
    {
     "name": "stdout",
     "output_type": "stream",
     "text": [
      "Training Loss: 0.5731718295009424\n",
      "Validation Loss: 1.1396335346831217\n",
      "Training Accuracy of the network: 79 %\n",
      "Validation Accuracy of the network: 54 %\n",
      "EarlyStopping counter: 23 out of 50\n"
     ]
    },
    {
     "name": "stderr",
     "output_type": "stream",
     "text": [
      "  8%|████████████▉                                                                                                                                                    | 80/1000 [06:30<1:14:48,  4.88s/it]"
     ]
    },
    {
     "name": "stdout",
     "output_type": "stream",
     "text": [
      "Training Loss: 0.557928446548205\n",
      "Validation Loss: 1.1282527330848906\n",
      "Training Accuracy of the network: 79 %\n",
      "Validation Accuracy of the network: 54 %\n",
      "EarlyStopping counter: 24 out of 50\n"
     ]
    },
    {
     "name": "stderr",
     "output_type": "stream",
     "text": [
      "  8%|█████████████                                                                                                                                                    | 81/1000 [06:35<1:14:12,  4.85s/it]"
     ]
    },
    {
     "name": "stdout",
     "output_type": "stream",
     "text": [
      "Training Loss: 0.5627605297886733\n",
      "Validation Loss: 1.1181597179836698\n",
      "Training Accuracy of the network: 80 %\n",
      "Validation Accuracy of the network: 55 %\n",
      "EarlyStopping counter: 25 out of 50\n"
     ]
    },
    {
     "name": "stderr",
     "output_type": "stream",
     "text": [
      "  8%|█████████████▏                                                                                                                                                   | 82/1000 [06:39<1:14:04,  4.84s/it]"
     ]
    },
    {
     "name": "stdout",
     "output_type": "stream",
     "text": [
      "Training Loss: 0.5590014487293595\n",
      "Validation Loss: 1.156462139553494\n",
      "Training Accuracy of the network: 80 %\n",
      "Validation Accuracy of the network: 54 %\n",
      "EarlyStopping counter: 26 out of 50\n"
     ]
    },
    {
     "name": "stderr",
     "output_type": "stream",
     "text": [
      "  8%|█████████████▎                                                                                                                                                   | 83/1000 [06:44<1:14:05,  4.85s/it]"
     ]
    },
    {
     "name": "stdout",
     "output_type": "stream",
     "text": [
      "Training Loss: 0.5387559635630736\n",
      "Validation Loss: 1.1202101906140645\n",
      "Training Accuracy of the network: 81 %\n",
      "Validation Accuracy of the network: 53 %\n",
      "EarlyStopping counter: 27 out of 50\n"
     ]
    },
    {
     "name": "stderr",
     "output_type": "stream",
     "text": [
      "  8%|█████████████▌                                                                                                                                                   | 84/1000 [06:49<1:14:29,  4.88s/it]"
     ]
    },
    {
     "name": "stdout",
     "output_type": "stream",
     "text": [
      "Training Loss: 0.5499261746592555\n",
      "Validation Loss: 1.1302378525336583\n",
      "Training Accuracy of the network: 80 %\n",
      "Validation Accuracy of the network: 53 %\n",
      "EarlyStopping counter: 28 out of 50\n"
     ]
    },
    {
     "name": "stderr",
     "output_type": "stream",
     "text": [
      "  8%|█████████████▋                                                                                                                                                   | 85/1000 [06:54<1:14:14,  4.87s/it]"
     ]
    },
    {
     "name": "stdout",
     "output_type": "stream",
     "text": [
      "Training Loss: 0.5514994857581794\n",
      "Validation Loss: 1.1104110611809626\n",
      "Training Accuracy of the network: 80 %\n",
      "Validation Accuracy of the network: 54 %\n",
      "EarlyStopping counter: 29 out of 50\n"
     ]
    },
    {
     "name": "stderr",
     "output_type": "stream",
     "text": [
      "  9%|█████████████▊                                                                                                                                                   | 86/1000 [06:59<1:14:26,  4.89s/it]"
     ]
    },
    {
     "name": "stdout",
     "output_type": "stream",
     "text": [
      "Training Loss: 0.5158562166682372\n",
      "Validation Loss: 1.1256972286436293\n",
      "Training Accuracy of the network: 81 %\n",
      "Validation Accuracy of the network: 54 %\n",
      "EarlyStopping counter: 30 out of 50\n"
     ]
    },
    {
     "name": "stderr",
     "output_type": "stream",
     "text": [
      "  9%|██████████████                                                                                                                                                   | 87/1000 [07:04<1:13:45,  4.85s/it]"
     ]
    },
    {
     "name": "stdout",
     "output_type": "stream",
     "text": [
      "Training Loss: 0.534899927834247\n",
      "Validation Loss: 1.1257658385568194\n",
      "Training Accuracy of the network: 81 %\n",
      "Validation Accuracy of the network: 53 %\n",
      "EarlyStopping counter: 31 out of 50\n"
     ]
    },
    {
     "name": "stderr",
     "output_type": "stream",
     "text": [
      "  9%|██████████████▏                                                                                                                                                  | 88/1000 [07:08<1:12:24,  4.76s/it]"
     ]
    },
    {
     "name": "stdout",
     "output_type": "stream",
     "text": [
      "Training Loss: 0.5194004318604233\n",
      "Validation Loss: 1.1117947200934093\n",
      "Training Accuracy of the network: 82 %\n",
      "Validation Accuracy of the network: 54 %\n",
      "EarlyStopping counter: 32 out of 50\n"
     ]
    },
    {
     "name": "stderr",
     "output_type": "stream",
     "text": [
      "  9%|██████████████▎                                                                                                                                                  | 89/1000 [07:13<1:13:04,  4.81s/it]"
     ]
    },
    {
     "name": "stdout",
     "output_type": "stream",
     "text": [
      "Training Loss: 0.5177617188252456\n",
      "Validation Loss: 1.096023044652409\n",
      "Training Accuracy of the network: 82 %\n",
      "Validation Accuracy of the network: 56 %\n",
      "EarlyStopping counter: 33 out of 50\n"
     ]
    },
    {
     "name": "stderr",
     "output_type": "stream",
     "text": [
      "  9%|██████████████▍                                                                                                                                                  | 90/1000 [07:18<1:12:59,  4.81s/it]"
     ]
    },
    {
     "name": "stdout",
     "output_type": "stream",
     "text": [
      "Training Loss: 0.5267269979131982\n",
      "Validation Loss: 1.1402600126134024\n",
      "Training Accuracy of the network: 81 %\n",
      "Validation Accuracy of the network: 55 %\n",
      "EarlyStopping counter: 34 out of 50\n"
     ]
    },
    {
     "name": "stderr",
     "output_type": "stream",
     "text": [
      "  9%|██████████████▋                                                                                                                                                  | 91/1000 [07:23<1:13:21,  4.84s/it]"
     ]
    },
    {
     "name": "stdout",
     "output_type": "stream",
     "text": [
      "Training Loss: 0.509686235417711\n",
      "Validation Loss: 1.0908791638082929\n",
      "Training Accuracy of the network: 82 %\n",
      "Validation Accuracy of the network: 58 %\n",
      "Validation loss decreased (1.095008 --> 1.090879).  Saving model ...\n"
     ]
    },
    {
     "name": "stderr",
     "output_type": "stream",
     "text": [
      "  9%|██████████████▊                                                                                                                                                  | 92/1000 [07:28<1:13:40,  4.87s/it]"
     ]
    },
    {
     "name": "stdout",
     "output_type": "stream",
     "text": [
      "Training Loss: 0.5266600659130313\n",
      "Validation Loss: 1.1361482756005392\n",
      "Training Accuracy of the network: 81 %\n",
      "Validation Accuracy of the network: 54 %\n",
      "EarlyStopping counter: 1 out of 50\n"
     ]
    },
    {
     "name": "stderr",
     "output_type": "stream",
     "text": [
      "  9%|██████████████▉                                                                                                                                                  | 93/1000 [07:33<1:13:41,  4.88s/it]"
     ]
    },
    {
     "name": "stdout",
     "output_type": "stream",
     "text": [
      "Training Loss: 0.5024570702238286\n",
      "Validation Loss: 1.1159484138091404\n",
      "Training Accuracy of the network: 82 %\n",
      "Validation Accuracy of the network: 54 %\n",
      "EarlyStopping counter: 2 out of 50\n"
     ]
    },
    {
     "name": "stderr",
     "output_type": "stream",
     "text": [
      "  9%|███████████████▏                                                                                                                                                 | 94/1000 [07:38<1:13:39,  4.88s/it]"
     ]
    },
    {
     "name": "stdout",
     "output_type": "stream",
     "text": [
      "Training Loss: 0.49222224063061654\n",
      "Validation Loss: 1.1391286336713367\n",
      "Training Accuracy of the network: 82 %\n",
      "Validation Accuracy of the network: 54 %\n",
      "EarlyStopping counter: 3 out of 50\n"
     ]
    },
    {
     "name": "stderr",
     "output_type": "stream",
     "text": [
      " 10%|███████████████▎                                                                                                                                                 | 95/1000 [07:42<1:12:52,  4.83s/it]"
     ]
    },
    {
     "name": "stdout",
     "output_type": "stream",
     "text": [
      "Training Loss: 0.4998361311905773\n",
      "Validation Loss: 1.1264832814534504\n",
      "Training Accuracy of the network: 82 %\n",
      "Validation Accuracy of the network: 56 %\n",
      "EarlyStopping counter: 4 out of 50\n"
     ]
    },
    {
     "name": "stderr",
     "output_type": "stream",
     "text": [
      " 10%|███████████████▍                                                                                                                                                 | 96/1000 [07:47<1:12:53,  4.84s/it]"
     ]
    },
    {
     "name": "stdout",
     "output_type": "stream",
     "text": [
      "Training Loss: 0.4929931105662745\n",
      "Validation Loss: 1.1150825487242804\n",
      "Training Accuracy of the network: 83 %\n",
      "Validation Accuracy of the network: 57 %\n",
      "EarlyStopping counter: 5 out of 50\n"
     ]
    },
    {
     "name": "stderr",
     "output_type": "stream",
     "text": [
      " 10%|███████████████▌                                                                                                                                                 | 97/1000 [07:52<1:12:26,  4.81s/it]"
     ]
    },
    {
     "name": "stdout",
     "output_type": "stream",
     "text": [
      "Training Loss: 0.5087991090531044\n",
      "Validation Loss: 1.1690058277712927\n",
      "Training Accuracy of the network: 82 %\n",
      "Validation Accuracy of the network: 53 %\n",
      "EarlyStopping counter: 6 out of 50\n"
     ]
    },
    {
     "name": "stderr",
     "output_type": "stream",
     "text": [
      " 10%|███████████████▊                                                                                                                                                 | 98/1000 [07:57<1:13:04,  4.86s/it]"
     ]
    },
    {
     "name": "stdout",
     "output_type": "stream",
     "text": [
      "Training Loss: 0.482278788132025\n",
      "Validation Loss: 1.1450779752598867\n",
      "Training Accuracy of the network: 84 %\n",
      "Validation Accuracy of the network: 56 %\n",
      "EarlyStopping counter: 7 out of 50\n"
     ]
    },
    {
     "name": "stderr",
     "output_type": "stream",
     "text": [
      " 10%|███████████████▉                                                                                                                                                 | 99/1000 [08:02<1:13:04,  4.87s/it]"
     ]
    },
    {
     "name": "stdout",
     "output_type": "stream",
     "text": [
      "Training Loss: 0.47774861140031344\n",
      "Validation Loss: 1.1185436795155208\n",
      "Training Accuracy of the network: 84 %\n",
      "Validation Accuracy of the network: 55 %\n",
      "EarlyStopping counter: 8 out of 50\n"
     ]
    },
    {
     "name": "stderr",
     "output_type": "stream",
     "text": [
      " 10%|████████████████                                                                                                                                                | 100/1000 [08:06<1:11:54,  4.79s/it]"
     ]
    },
    {
     "name": "stdout",
     "output_type": "stream",
     "text": [
      "Training Loss: 0.4786228412854756\n",
      "Validation Loss: 1.179648083117273\n",
      "Training Accuracy of the network: 83 %\n",
      "Validation Accuracy of the network: 53 %\n",
      "EarlyStopping counter: 9 out of 50\n"
     ]
    },
    {
     "name": "stderr",
     "output_type": "stream",
     "text": [
      " 10%|████████████████▏                                                                                                                                               | 101/1000 [08:11<1:12:22,  4.83s/it]"
     ]
    },
    {
     "name": "stdout",
     "output_type": "stream",
     "text": [
      "Training Loss: 0.48451674438960163\n",
      "Validation Loss: 1.1589647316270404\n",
      "Training Accuracy of the network: 82 %\n",
      "Validation Accuracy of the network: 55 %\n",
      "EarlyStopping counter: 10 out of 50\n"
     ]
    },
    {
     "name": "stderr",
     "output_type": "stream",
     "text": [
      " 10%|████████████████▎                                                                                                                                               | 102/1000 [08:16<1:11:12,  4.76s/it]"
     ]
    },
    {
     "name": "stdout",
     "output_type": "stream",
     "text": [
      "Training Loss: 0.47236812865057737\n",
      "Validation Loss: 1.1346613764762878\n",
      "Training Accuracy of the network: 85 %\n",
      "Validation Accuracy of the network: 56 %\n",
      "EarlyStopping counter: 11 out of 50\n"
     ]
    },
    {
     "name": "stderr",
     "output_type": "stream",
     "text": [
      " 10%|████████████████▍                                                                                                                                               | 103/1000 [08:21<1:11:27,  4.78s/it]"
     ]
    },
    {
     "name": "stdout",
     "output_type": "stream",
     "text": [
      "Training Loss: 0.46335479426891246\n",
      "Validation Loss: 1.1577516562408872\n",
      "Training Accuracy of the network: 84 %\n",
      "Validation Accuracy of the network: 55 %\n",
      "EarlyStopping counter: 12 out of 50\n"
     ]
    },
    {
     "name": "stderr",
     "output_type": "stream",
     "text": [
      " 10%|████████████████▋                                                                                                                                               | 104/1000 [08:25<1:11:00,  4.75s/it]"
     ]
    },
    {
     "name": "stdout",
     "output_type": "stream",
     "text": [
      "Training Loss: 0.4615491840010839\n",
      "Validation Loss: 1.154640331864357\n",
      "Training Accuracy of the network: 84 %\n",
      "Validation Accuracy of the network: 54 %\n",
      "EarlyStopping counter: 13 out of 50\n"
     ]
    },
    {
     "name": "stderr",
     "output_type": "stream",
     "text": [
      " 10%|████████████████▊                                                                                                                                               | 105/1000 [08:30<1:11:28,  4.79s/it]"
     ]
    },
    {
     "name": "stdout",
     "output_type": "stream",
     "text": [
      "Training Loss: 0.47319808898242655\n",
      "Validation Loss: 1.1470525231626298\n",
      "Training Accuracy of the network: 83 %\n",
      "Validation Accuracy of the network: 55 %\n",
      "EarlyStopping counter: 14 out of 50\n"
     ]
    },
    {
     "name": "stderr",
     "output_type": "stream",
     "text": [
      " 11%|████████████████▉                                                                                                                                               | 106/1000 [08:35<1:11:59,  4.83s/it]"
     ]
    },
    {
     "name": "stdout",
     "output_type": "stream",
     "text": [
      "Training Loss: 0.47640577582180077\n",
      "Validation Loss: 1.1431156545877457\n",
      "Training Accuracy of the network: 83 %\n",
      "Validation Accuracy of the network: 56 %\n",
      "EarlyStopping counter: 15 out of 50\n"
     ]
    },
    {
     "name": "stderr",
     "output_type": "stream",
     "text": [
      " 11%|█████████████████                                                                                                                                               | 107/1000 [08:40<1:11:41,  4.82s/it]"
     ]
    },
    {
     "name": "stdout",
     "output_type": "stream",
     "text": [
      "Training Loss: 0.4451931579738644\n",
      "Validation Loss: 1.1719534148772557\n",
      "Training Accuracy of the network: 85 %\n",
      "Validation Accuracy of the network: 54 %\n",
      "EarlyStopping counter: 16 out of 50\n"
     ]
    },
    {
     "name": "stderr",
     "output_type": "stream",
     "text": [
      " 11%|█████████████████▎                                                                                                                                              | 108/1000 [08:45<1:12:11,  4.86s/it]"
     ]
    },
    {
     "name": "stdout",
     "output_type": "stream",
     "text": [
      "Training Loss: 0.4623775671348504\n",
      "Validation Loss: 1.2091554419861898\n",
      "Training Accuracy of the network: 84 %\n",
      "Validation Accuracy of the network: 54 %\n",
      "EarlyStopping counter: 17 out of 50\n"
     ]
    },
    {
     "name": "stderr",
     "output_type": "stream",
     "text": [
      " 11%|█████████████████▍                                                                                                                                              | 109/1000 [08:50<1:12:05,  4.85s/it]"
     ]
    },
    {
     "name": "stdout",
     "output_type": "stream",
     "text": [
      "Training Loss: 0.44774432258403046\n",
      "Validation Loss: 1.19669199652142\n",
      "Training Accuracy of the network: 84 %\n",
      "Validation Accuracy of the network: 54 %\n",
      "EarlyStopping counter: 18 out of 50\n"
     ]
    },
    {
     "name": "stderr",
     "output_type": "stream",
     "text": [
      " 11%|█████████████████▌                                                                                                                                              | 110/1000 [08:55<1:12:07,  4.86s/it]"
     ]
    },
    {
     "name": "stdout",
     "output_type": "stream",
     "text": [
      "Training Loss: 0.44002501772227864\n",
      "Validation Loss: 1.1701641082763672\n",
      "Training Accuracy of the network: 85 %\n",
      "Validation Accuracy of the network: 54 %\n",
      "EarlyStopping counter: 19 out of 50\n"
     ]
    },
    {
     "name": "stderr",
     "output_type": "stream",
     "text": [
      " 11%|█████████████████▊                                                                                                                                              | 111/1000 [08:59<1:11:32,  4.83s/it]"
     ]
    },
    {
     "name": "stdout",
     "output_type": "stream",
     "text": [
      "Training Loss: 0.4678007864148904\n",
      "Validation Loss: 1.2049596856037776\n",
      "Training Accuracy of the network: 84 %\n",
      "Validation Accuracy of the network: 54 %\n",
      "EarlyStopping counter: 20 out of 50\n"
     ]
    },
    {
     "name": "stderr",
     "output_type": "stream",
     "text": [
      " 11%|█████████████████▉                                                                                                                                              | 112/1000 [09:04<1:11:40,  4.84s/it]"
     ]
    },
    {
     "name": "stdout",
     "output_type": "stream",
     "text": [
      "Training Loss: 0.44397734306382797\n",
      "Validation Loss: 1.154070946905348\n",
      "Training Accuracy of the network: 84 %\n",
      "Validation Accuracy of the network: 56 %\n",
      "EarlyStopping counter: 21 out of 50\n"
     ]
    },
    {
     "name": "stderr",
     "output_type": "stream",
     "text": [
      " 11%|██████████████████                                                                                                                                              | 113/1000 [09:09<1:12:02,  4.87s/it]"
     ]
    },
    {
     "name": "stdout",
     "output_type": "stream",
     "text": [
      "Training Loss: 0.4214739929488365\n",
      "Validation Loss: 1.212297123339441\n",
      "Training Accuracy of the network: 86 %\n",
      "Validation Accuracy of the network: 55 %\n",
      "EarlyStopping counter: 22 out of 50\n"
     ]
    },
    {
     "name": "stderr",
     "output_type": "stream",
     "text": [
      " 11%|██████████████████▏                                                                                                                                             | 114/1000 [09:14<1:12:09,  4.89s/it]"
     ]
    },
    {
     "name": "stdout",
     "output_type": "stream",
     "text": [
      "Training Loss: 0.43059498568375904\n",
      "Validation Loss: 1.1443407668007746\n",
      "Training Accuracy of the network: 85 %\n",
      "Validation Accuracy of the network: 55 %\n",
      "EarlyStopping counter: 23 out of 50\n"
     ]
    },
    {
     "name": "stderr",
     "output_type": "stream",
     "text": [
      " 12%|██████████████████▍                                                                                                                                             | 115/1000 [09:19<1:12:12,  4.90s/it]"
     ]
    },
    {
     "name": "stdout",
     "output_type": "stream",
     "text": [
      "Training Loss: 0.45012613634268445\n",
      "Validation Loss: 1.164349302649498\n",
      "Training Accuracy of the network: 85 %\n",
      "Validation Accuracy of the network: 54 %\n",
      "EarlyStopping counter: 24 out of 50\n"
     ]
    },
    {
     "name": "stderr",
     "output_type": "stream",
     "text": [
      " 12%|██████████████████▌                                                                                                                                             | 116/1000 [09:24<1:11:39,  4.86s/it]"
     ]
    },
    {
     "name": "stdout",
     "output_type": "stream",
     "text": [
      "Training Loss: 0.4267607750833457\n",
      "Validation Loss: 1.1897995587852266\n",
      "Training Accuracy of the network: 86 %\n",
      "Validation Accuracy of the network: 55 %\n",
      "EarlyStopping counter: 25 out of 50\n"
     ]
    },
    {
     "name": "stderr",
     "output_type": "stream",
     "text": [
      " 12%|██████████████████▋                                                                                                                                             | 117/1000 [09:29<1:11:41,  4.87s/it]"
     ]
    },
    {
     "name": "stdout",
     "output_type": "stream",
     "text": [
      "Training Loss: 0.45059660753459796\n",
      "Validation Loss: 1.1557092931535509\n",
      "Training Accuracy of the network: 84 %\n",
      "Validation Accuracy of the network: 55 %\n",
      "EarlyStopping counter: 26 out of 50\n"
     ]
    },
    {
     "name": "stderr",
     "output_type": "stream",
     "text": [
      " 12%|██████████████████▉                                                                                                                                             | 118/1000 [09:34<1:12:25,  4.93s/it]"
     ]
    },
    {
     "name": "stdout",
     "output_type": "stream",
     "text": [
      "Training Loss: 0.4262379539985183\n",
      "Validation Loss: 1.1871537731753454\n",
      "Training Accuracy of the network: 85 %\n",
      "Validation Accuracy of the network: 55 %\n",
      "EarlyStopping counter: 27 out of 50\n"
     ]
    },
    {
     "name": "stderr",
     "output_type": "stream",
     "text": [
      " 12%|███████████████████                                                                                                                                             | 119/1000 [09:39<1:11:50,  4.89s/it]"
     ]
    },
    {
     "name": "stdout",
     "output_type": "stream",
     "text": [
      "Training Loss: 0.4284651274165363\n",
      "Validation Loss: 1.1443480518129137\n",
      "Training Accuracy of the network: 85 %\n",
      "Validation Accuracy of the network: 55 %\n",
      "EarlyStopping counter: 28 out of 50\n"
     ]
    },
    {
     "name": "stderr",
     "output_type": "stream",
     "text": [
      " 12%|███████████████████▏                                                                                                                                            | 120/1000 [09:44<1:11:25,  4.87s/it]"
     ]
    },
    {
     "name": "stdout",
     "output_type": "stream",
     "text": [
      "Training Loss: 0.4369518834014311\n",
      "Validation Loss: 1.1439612474706438\n",
      "Training Accuracy of the network: 86 %\n",
      "Validation Accuracy of the network: 56 %\n",
      "EarlyStopping counter: 29 out of 50\n"
     ]
    },
    {
     "name": "stderr",
     "output_type": "stream",
     "text": [
      " 12%|███████████████████▎                                                                                                                                            | 121/1000 [09:48<1:11:25,  4.88s/it]"
     ]
    },
    {
     "name": "stdout",
     "output_type": "stream",
     "text": [
      "Training Loss: 0.4161900372264233\n",
      "Validation Loss: 1.1429162356588576\n",
      "Training Accuracy of the network: 86 %\n",
      "Validation Accuracy of the network: 56 %\n",
      "EarlyStopping counter: 30 out of 50\n"
     ]
    },
    {
     "name": "stderr",
     "output_type": "stream",
     "text": [
      " 12%|███████████████████▌                                                                                                                                            | 122/1000 [09:54<1:12:25,  4.95s/it]"
     ]
    },
    {
     "name": "stdout",
     "output_type": "stream",
     "text": [
      "Training Loss: 0.4130943714515537\n",
      "Validation Loss: 1.134526100423601\n",
      "Training Accuracy of the network: 86 %\n",
      "Validation Accuracy of the network: 59 %\n",
      "EarlyStopping counter: 31 out of 50\n"
     ]
    },
    {
     "name": "stderr",
     "output_type": "stream",
     "text": [
      " 12%|███████████████████▋                                                                                                                                            | 123/1000 [09:58<1:11:21,  4.88s/it]"
     ]
    },
    {
     "name": "stdout",
     "output_type": "stream",
     "text": [
      "Training Loss: 0.41079932514657364\n",
      "Validation Loss: 1.1495086120234594\n",
      "Training Accuracy of the network: 86 %\n",
      "Validation Accuracy of the network: 57 %\n",
      "EarlyStopping counter: 32 out of 50\n"
     ]
    },
    {
     "name": "stderr",
     "output_type": "stream",
     "text": [
      " 12%|███████████████████▊                                                                                                                                            | 124/1000 [10:03<1:11:36,  4.91s/it]"
     ]
    },
    {
     "name": "stdout",
     "output_type": "stream",
     "text": [
      "Training Loss: 0.4118289164406188\n",
      "Validation Loss: 1.1972717460658815\n",
      "Training Accuracy of the network: 85 %\n",
      "Validation Accuracy of the network: 56 %\n",
      "EarlyStopping counter: 33 out of 50\n"
     ]
    },
    {
     "name": "stderr",
     "output_type": "stream",
     "text": [
      " 12%|████████████████████                                                                                                                                            | 125/1000 [10:08<1:11:37,  4.91s/it]"
     ]
    },
    {
     "name": "stdout",
     "output_type": "stream",
     "text": [
      "Training Loss: 0.398853747768605\n",
      "Validation Loss: 1.1503310766485002\n",
      "Training Accuracy of the network: 86 %\n",
      "Validation Accuracy of the network: 56 %\n",
      "EarlyStopping counter: 34 out of 50\n"
     ]
    },
    {
     "name": "stderr",
     "output_type": "stream",
     "text": [
      " 13%|████████████████████▏                                                                                                                                           | 126/1000 [10:13<1:11:55,  4.94s/it]"
     ]
    },
    {
     "name": "stdout",
     "output_type": "stream",
     "text": [
      "Training Loss: 0.40208293624380803\n",
      "Validation Loss: 1.160103244913949\n",
      "Training Accuracy of the network: 86 %\n",
      "Validation Accuracy of the network: 54 %\n",
      "EarlyStopping counter: 35 out of 50\n"
     ]
    },
    {
     "name": "stderr",
     "output_type": "stream",
     "text": [
      " 13%|████████████████████▎                                                                                                                                           | 127/1000 [10:18<1:11:41,  4.93s/it]"
     ]
    },
    {
     "name": "stdout",
     "output_type": "stream",
     "text": [
      "Training Loss: 0.4067508357425108\n",
      "Validation Loss: 1.1640712536043591\n",
      "Training Accuracy of the network: 85 %\n",
      "Validation Accuracy of the network: 56 %\n",
      "EarlyStopping counter: 36 out of 50\n"
     ]
    },
    {
     "name": "stderr",
     "output_type": "stream",
     "text": [
      " 13%|████████████████████▍                                                                                                                                           | 128/1000 [10:23<1:11:13,  4.90s/it]"
     ]
    },
    {
     "name": "stdout",
     "output_type": "stream",
     "text": [
      "Training Loss: 0.39947044405531373\n",
      "Validation Loss: 1.1821041777729988\n",
      "Training Accuracy of the network: 86 %\n",
      "Validation Accuracy of the network: 56 %\n",
      "EarlyStopping counter: 37 out of 50\n"
     ]
    },
    {
     "name": "stderr",
     "output_type": "stream",
     "text": [
      " 13%|████████████████████▋                                                                                                                                           | 129/1000 [10:28<1:11:32,  4.93s/it]"
     ]
    },
    {
     "name": "stdout",
     "output_type": "stream",
     "text": [
      "Training Loss: 0.4037064883514499\n",
      "Validation Loss: 1.1831745008627574\n",
      "Training Accuracy of the network: 86 %\n",
      "Validation Accuracy of the network: 54 %\n",
      "EarlyStopping counter: 38 out of 50\n"
     ]
    },
    {
     "name": "stderr",
     "output_type": "stream",
     "text": [
      " 13%|████████████████████▊                                                                                                                                           | 130/1000 [10:33<1:10:46,  4.88s/it]"
     ]
    },
    {
     "name": "stdout",
     "output_type": "stream",
     "text": [
      "Training Loss: 0.4099599049023703\n",
      "Validation Loss: 1.1742780490054026\n",
      "Training Accuracy of the network: 86 %\n",
      "Validation Accuracy of the network: 57 %\n",
      "EarlyStopping counter: 39 out of 50\n"
     ]
    },
    {
     "name": "stderr",
     "output_type": "stream",
     "text": [
      " 13%|████████████████████▉                                                                                                                                           | 131/1000 [10:37<1:10:29,  4.87s/it]"
     ]
    },
    {
     "name": "stdout",
     "output_type": "stream",
     "text": [
      "Training Loss: 0.3998757223499582\n",
      "Validation Loss: 1.178978317313724\n",
      "Training Accuracy of the network: 86 %\n",
      "Validation Accuracy of the network: 57 %\n",
      "EarlyStopping counter: 40 out of 50\n"
     ]
    },
    {
     "name": "stderr",
     "output_type": "stream",
     "text": [
      " 13%|█████████████████████                                                                                                                                           | 132/1000 [10:42<1:10:58,  4.91s/it]"
     ]
    },
    {
     "name": "stdout",
     "output_type": "stream",
     "text": [
      "Training Loss: 0.3891626713229409\n",
      "Validation Loss: 1.163840427994728\n",
      "Training Accuracy of the network: 86 %\n",
      "Validation Accuracy of the network: 56 %\n",
      "EarlyStopping counter: 41 out of 50\n"
     ]
    },
    {
     "name": "stderr",
     "output_type": "stream",
     "text": [
      " 13%|█████████████████████▎                                                                                                                                          | 133/1000 [10:47<1:10:48,  4.90s/it]"
     ]
    },
    {
     "name": "stdout",
     "output_type": "stream",
     "text": [
      "Training Loss: 0.3957184397793831\n",
      "Validation Loss: 1.1833932018942304\n",
      "Training Accuracy of the network: 86 %\n",
      "Validation Accuracy of the network: 55 %\n",
      "EarlyStopping counter: 42 out of 50\n"
     ]
    },
    {
     "name": "stderr",
     "output_type": "stream",
     "text": [
      " 13%|█████████████████████▍                                                                                                                                          | 134/1000 [10:52<1:10:57,  4.92s/it]"
     ]
    },
    {
     "name": "stdout",
     "output_type": "stream",
     "text": [
      "Training Loss: 0.3896634970785033\n",
      "Validation Loss: 1.1597486552264955\n",
      "Training Accuracy of the network: 87 %\n",
      "Validation Accuracy of the network: 55 %\n",
      "EarlyStopping counter: 43 out of 50\n"
     ]
    },
    {
     "name": "stderr",
     "output_type": "stream",
     "text": [
      " 14%|█████████████████████▌                                                                                                                                          | 135/1000 [10:57<1:11:00,  4.93s/it]"
     ]
    },
    {
     "name": "stdout",
     "output_type": "stream",
     "text": [
      "Training Loss: 0.387695238205558\n",
      "Validation Loss: 1.1934147659275267\n",
      "Training Accuracy of the network: 87 %\n",
      "Validation Accuracy of the network: 56 %\n",
      "EarlyStopping counter: 44 out of 50\n"
     ]
    },
    {
     "name": "stderr",
     "output_type": "stream",
     "text": [
      " 14%|█████████████████████▊                                                                                                                                          | 136/1000 [11:02<1:10:46,  4.92s/it]"
     ]
    },
    {
     "name": "stdout",
     "output_type": "stream",
     "text": [
      "Training Loss: 0.396098533737744\n",
      "Validation Loss: 1.1846582425965204\n",
      "Training Accuracy of the network: 86 %\n",
      "Validation Accuracy of the network: 56 %\n",
      "EarlyStopping counter: 45 out of 50\n"
     ]
    },
    {
     "name": "stderr",
     "output_type": "stream",
     "text": [
      " 14%|█████████████████████▉                                                                                                                                          | 137/1000 [11:07<1:10:08,  4.88s/it]"
     ]
    },
    {
     "name": "stdout",
     "output_type": "stream",
     "text": [
      "Training Loss: 0.4152955766899366\n",
      "Validation Loss: 1.1455552039874926\n",
      "Training Accuracy of the network: 86 %\n",
      "Validation Accuracy of the network: 56 %\n",
      "EarlyStopping counter: 46 out of 50\n"
     ]
    },
    {
     "name": "stderr",
     "output_type": "stream",
     "text": [
      " 14%|██████████████████████                                                                                                                                          | 138/1000 [11:12<1:10:09,  4.88s/it]"
     ]
    },
    {
     "name": "stdout",
     "output_type": "stream",
     "text": [
      "Training Loss: 0.3798990823487018\n",
      "Validation Loss: 1.1657566726207733\n",
      "Training Accuracy of the network: 87 %\n",
      "Validation Accuracy of the network: 56 %\n",
      "EarlyStopping counter: 47 out of 50\n"
     ]
    },
    {
     "name": "stderr",
     "output_type": "stream",
     "text": [
      " 14%|██████████████████████▏                                                                                                                                         | 139/1000 [11:17<1:10:31,  4.91s/it]"
     ]
    },
    {
     "name": "stdout",
     "output_type": "stream",
     "text": [
      "Training Loss: 0.3788292923717634\n",
      "Validation Loss: 1.1904534217384126\n",
      "Training Accuracy of the network: 88 %\n",
      "Validation Accuracy of the network: 58 %\n",
      "EarlyStopping counter: 48 out of 50\n"
     ]
    },
    {
     "name": "stderr",
     "output_type": "stream",
     "text": [
      " 14%|██████████████████████▍                                                                                                                                         | 140/1000 [11:22<1:10:28,  4.92s/it]"
     ]
    },
    {
     "name": "stdout",
     "output_type": "stream",
     "text": [
      "Training Loss: 0.39031714185121213\n",
      "Validation Loss: 1.1989642745918698\n",
      "Training Accuracy of the network: 87 %\n",
      "Validation Accuracy of the network: 54 %\n",
      "EarlyStopping counter: 49 out of 50\n"
     ]
    },
    {
     "name": "stderr",
     "output_type": "stream",
     "text": [
      " 14%|██████████████████████▍                                                                                                                                         | 140/1000 [11:27<1:10:21,  4.91s/it]\n"
     ]
    },
    {
     "name": "stdout",
     "output_type": "stream",
     "text": [
      "Training Loss: 0.3845616119339111\n",
      "Validation Loss: 1.154815372493532\n",
      "Training Accuracy of the network: 87 %\n",
      "Validation Accuracy of the network: 56 %\n",
      "EarlyStopping counter: 50 out of 50\n",
      "Early Stopping\n"
     ]
    },
    {
     "name": "stderr",
     "output_type": "stream",
     "text": [
      "  0%|                                                                                                                                                                               | 0/1 [00:00<?, ?it/s]"
     ]
    },
    {
     "name": "stdout",
     "output_type": "stream",
     "text": [
      "Extra Training Loss: 1.0283038539811968\n",
      "Extra Training Accuracy of the network: 60 %\n"
     ]
    },
    {
     "name": "stderr",
     "output_type": "stream",
     "text": [
      "100%|███████████████████████████████████████████████████████████████████████████████████████████████████████████████████████████████████████████████████████████████████████| 1/1 [00:00<00:00,  8.02it/s]\n"
     ]
    },
    {
     "name": "stdout",
     "output_type": "stream",
     "text": [
      "Extra Testing Loss: 1.6323919296264648\n",
      "Extra Testing Accuracy of the network: 45 %\n"
     ]
    },
    {
     "name": "stderr",
     "output_type": "stream",
     "text": [
      "  0%|▏                                                                                                                                                                 | 1/1000 [00:04<1:17:50,  4.68s/it]"
     ]
    },
    {
     "name": "stdout",
     "output_type": "stream",
     "text": [
      "Training Loss: 1.5840427046236785\n",
      "Validation Loss: 1.4098793642861502\n",
      "Training Accuracy of the network: 25 %\n",
      "Validation Accuracy of the network: 28 %\n",
      "Validation loss decreased (inf --> 1.409879).  Saving model ...\n"
     ]
    },
    {
     "name": "stderr",
     "output_type": "stream",
     "text": [
      "  0%|▎                                                                                                                                                                 | 2/1000 [00:09<1:15:16,  4.53s/it]"
     ]
    },
    {
     "name": "stdout",
     "output_type": "stream",
     "text": [
      "Training Loss: 1.5292745940927146\n",
      "Validation Loss: 1.401750349998474\n",
      "Training Accuracy of the network: 28 %\n",
      "Validation Accuracy of the network: 29 %\n",
      "Validation loss decreased (1.409879 --> 1.401750).  Saving model ...\n"
     ]
    },
    {
     "name": "stderr",
     "output_type": "stream",
     "text": [
      "  0%|▍                                                                                                                                                                 | 3/1000 [00:14<1:18:15,  4.71s/it]"
     ]
    },
    {
     "name": "stdout",
     "output_type": "stream",
     "text": [
      "Training Loss: 1.483043144578519\n",
      "Validation Loss: 1.3872859273638045\n",
      "Training Accuracy of the network: 28 %\n",
      "Validation Accuracy of the network: 28 %\n",
      "Validation loss decreased (1.401750 --> 1.387286).  Saving model ...\n"
     ]
    },
    {
     "name": "stderr",
     "output_type": "stream",
     "text": [
      "  0%|▋                                                                                                                                                                 | 4/1000 [00:18<1:18:24,  4.72s/it]"
     ]
    },
    {
     "name": "stdout",
     "output_type": "stream",
     "text": [
      "Training Loss: 1.4436148491458616\n",
      "Validation Loss: 1.382229460988726\n",
      "Training Accuracy of the network: 29 %\n",
      "Validation Accuracy of the network: 30 %\n",
      "Validation loss decreased (1.387286 --> 1.382229).  Saving model ...\n"
     ]
    },
    {
     "name": "stderr",
     "output_type": "stream",
     "text": [
      "  0%|▊                                                                                                                                                                 | 5/1000 [00:23<1:18:56,  4.76s/it]"
     ]
    },
    {
     "name": "stdout",
     "output_type": "stream",
     "text": [
      "Training Loss: 1.404636239659959\n",
      "Validation Loss: 1.3734126601900374\n",
      "Training Accuracy of the network: 34 %\n",
      "Validation Accuracy of the network: 29 %\n",
      "Validation loss decreased (1.382229 --> 1.373413).  Saving model ...\n"
     ]
    },
    {
     "name": "stderr",
     "output_type": "stream",
     "text": [
      "  1%|▉                                                                                                                                                                 | 6/1000 [00:28<1:18:55,  4.76s/it]"
     ]
    },
    {
     "name": "stdout",
     "output_type": "stream",
     "text": [
      "Training Loss: 1.3759683292845022\n",
      "Validation Loss: 1.365502531187875\n",
      "Training Accuracy of the network: 35 %\n",
      "Validation Accuracy of the network: 30 %\n",
      "Validation loss decreased (1.373413 --> 1.365503).  Saving model ...\n"
     ]
    },
    {
     "name": "stderr",
     "output_type": "stream",
     "text": [
      "  1%|█▏                                                                                                                                                                | 7/1000 [00:33<1:18:14,  4.73s/it]"
     ]
    },
    {
     "name": "stdout",
     "output_type": "stream",
     "text": [
      "Training Loss: 1.358399694380553\n",
      "Validation Loss: 1.3474598509924753\n",
      "Training Accuracy of the network: 35 %\n",
      "Validation Accuracy of the network: 31 %\n",
      "Validation loss decreased (1.365503 --> 1.347460).  Saving model ...\n"
     ]
    },
    {
     "name": "stderr",
     "output_type": "stream",
     "text": [
      "  1%|█▎                                                                                                                                                                | 8/1000 [00:37<1:18:45,  4.76s/it]"
     ]
    },
    {
     "name": "stdout",
     "output_type": "stream",
     "text": [
      "Training Loss: 1.3325795565826306\n",
      "Validation Loss: 1.3389777251652308\n",
      "Training Accuracy of the network: 38 %\n",
      "Validation Accuracy of the network: 33 %\n",
      "Validation loss decreased (1.347460 --> 1.338978).  Saving model ...\n"
     ]
    },
    {
     "name": "stderr",
     "output_type": "stream",
     "text": [
      "  1%|█▍                                                                                                                                                                | 9/1000 [00:42<1:17:26,  4.69s/it]"
     ]
    },
    {
     "name": "stdout",
     "output_type": "stream",
     "text": [
      "Training Loss: 1.2972064175899478\n",
      "Validation Loss: 1.322598041806902\n",
      "Training Accuracy of the network: 39 %\n",
      "Validation Accuracy of the network: 32 %\n",
      "Validation loss decreased (1.338978 --> 1.322598).  Saving model ...\n"
     ]
    },
    {
     "name": "stderr",
     "output_type": "stream",
     "text": [
      "  1%|█▌                                                                                                                                                               | 10/1000 [00:47<1:17:22,  4.69s/it]"
     ]
    },
    {
     "name": "stdout",
     "output_type": "stream",
     "text": [
      "Training Loss: 1.2898247768913491\n",
      "Validation Loss: 1.3205400194440569\n",
      "Training Accuracy of the network: 41 %\n",
      "Validation Accuracy of the network: 35 %\n",
      "Validation loss decreased (1.322598 --> 1.320540).  Saving model ...\n"
     ]
    },
    {
     "name": "stderr",
     "output_type": "stream",
     "text": [
      "  1%|█▊                                                                                                                                                               | 11/1000 [00:51<1:17:39,  4.71s/it]"
     ]
    },
    {
     "name": "stdout",
     "output_type": "stream",
     "text": [
      "Training Loss: 1.2747490146885747\n",
      "Validation Loss: 1.310689425468445\n",
      "Training Accuracy of the network: 41 %\n",
      "Validation Accuracy of the network: 35 %\n",
      "Validation loss decreased (1.320540 --> 1.310689).  Saving model ...\n"
     ]
    },
    {
     "name": "stderr",
     "output_type": "stream",
     "text": [
      "  1%|█▉                                                                                                                                                               | 12/1000 [00:56<1:17:23,  4.70s/it]"
     ]
    },
    {
     "name": "stdout",
     "output_type": "stream",
     "text": [
      "Training Loss: 1.2414192838081415\n",
      "Validation Loss: 1.2948148148400442\n",
      "Training Accuracy of the network: 45 %\n",
      "Validation Accuracy of the network: 36 %\n",
      "Validation loss decreased (1.310689 --> 1.294815).  Saving model ...\n"
     ]
    },
    {
     "name": "stderr",
     "output_type": "stream",
     "text": [
      "  1%|██                                                                                                                                                               | 13/1000 [01:01<1:17:58,  4.74s/it]"
     ]
    },
    {
     "name": "stdout",
     "output_type": "stream",
     "text": [
      "Training Loss: 1.2361926531446152\n",
      "Validation Loss: 1.2971178122929163\n",
      "Training Accuracy of the network: 43 %\n",
      "Validation Accuracy of the network: 35 %\n",
      "EarlyStopping counter: 1 out of 50\n"
     ]
    },
    {
     "name": "stderr",
     "output_type": "stream",
     "text": [
      "  1%|██▎                                                                                                                                                              | 14/1000 [01:05<1:17:20,  4.71s/it]"
     ]
    },
    {
     "name": "stdout",
     "output_type": "stream",
     "text": [
      "Training Loss: 1.2250515293815862\n",
      "Validation Loss: 1.2930628980909076\n",
      "Training Accuracy of the network: 44 %\n",
      "Validation Accuracy of the network: 36 %\n",
      "Validation loss decreased (1.294815 --> 1.293063).  Saving model ...\n"
     ]
    },
    {
     "name": "stderr",
     "output_type": "stream",
     "text": [
      "  2%|██▍                                                                                                                                                              | 15/1000 [01:10<1:17:49,  4.74s/it]"
     ]
    },
    {
     "name": "stdout",
     "output_type": "stream",
     "text": [
      "Training Loss: 1.201563195257947\n",
      "Validation Loss: 1.282014458520072\n",
      "Training Accuracy of the network: 45 %\n",
      "Validation Accuracy of the network: 38 %\n",
      "Validation loss decreased (1.293063 --> 1.282014).  Saving model ...\n"
     ]
    },
    {
     "name": "stderr",
     "output_type": "stream",
     "text": [
      "  2%|██▌                                                                                                                                                              | 16/1000 [01:15<1:17:05,  4.70s/it]"
     ]
    },
    {
     "name": "stdout",
     "output_type": "stream",
     "text": [
      "Training Loss: 1.1973186571528946\n",
      "Validation Loss: 1.2729181970868793\n",
      "Training Accuracy of the network: 45 %\n",
      "Validation Accuracy of the network: 39 %\n",
      "Validation loss decreased (1.282014 --> 1.272918).  Saving model ...\n"
     ]
    },
    {
     "name": "stderr",
     "output_type": "stream",
     "text": [
      "  2%|██▋                                                                                                                                                              | 17/1000 [01:20<1:17:09,  4.71s/it]"
     ]
    },
    {
     "name": "stdout",
     "output_type": "stream",
     "text": [
      "Training Loss: 1.1847316704798436\n",
      "Validation Loss: 1.272832829611642\n",
      "Training Accuracy of the network: 45 %\n",
      "Validation Accuracy of the network: 40 %\n",
      "Validation loss decreased (1.272918 --> 1.272833).  Saving model ...\n"
     ]
    },
    {
     "name": "stderr",
     "output_type": "stream",
     "text": [
      "  2%|██▉                                                                                                                                                              | 18/1000 [01:24<1:17:00,  4.71s/it]"
     ]
    },
    {
     "name": "stdout",
     "output_type": "stream",
     "text": [
      "Training Loss: 1.1743913346874542\n",
      "Validation Loss: 1.2656217064176287\n",
      "Training Accuracy of the network: 47 %\n",
      "Validation Accuracy of the network: 39 %\n",
      "Validation loss decreased (1.272833 --> 1.265622).  Saving model ...\n"
     ]
    },
    {
     "name": "stderr",
     "output_type": "stream",
     "text": [
      "  2%|███                                                                                                                                                              | 19/1000 [01:29<1:17:48,  4.76s/it]"
     ]
    },
    {
     "name": "stdout",
     "output_type": "stream",
     "text": [
      "Training Loss: 1.1618677587180897\n",
      "Validation Loss: 1.260353342124394\n",
      "Training Accuracy of the network: 48 %\n",
      "Validation Accuracy of the network: 41 %\n",
      "Validation loss decreased (1.265622 --> 1.260353).  Saving model ...\n"
     ]
    },
    {
     "name": "stderr",
     "output_type": "stream",
     "text": [
      "  2%|███▏                                                                                                                                                             | 20/1000 [01:34<1:17:37,  4.75s/it]"
     ]
    },
    {
     "name": "stdout",
     "output_type": "stream",
     "text": [
      "Training Loss: 1.154869690861391\n",
      "Validation Loss: 1.2544812406812396\n",
      "Training Accuracy of the network: 48 %\n",
      "Validation Accuracy of the network: 40 %\n",
      "Validation loss decreased (1.260353 --> 1.254481).  Saving model ...\n"
     ]
    },
    {
     "name": "stderr",
     "output_type": "stream",
     "text": [
      "  2%|███▍                                                                                                                                                             | 21/1000 [01:39<1:18:07,  4.79s/it]"
     ]
    },
    {
     "name": "stdout",
     "output_type": "stream",
     "text": [
      "Training Loss: 1.1379457364479701\n",
      "Validation Loss: 1.2538691316332136\n",
      "Training Accuracy of the network: 50 %\n",
      "Validation Accuracy of the network: 41 %\n",
      "Validation loss decreased (1.254481 --> 1.253869).  Saving model ...\n"
     ]
    },
    {
     "name": "stderr",
     "output_type": "stream",
     "text": [
      "  2%|███▌                                                                                                                                                             | 22/1000 [01:44<1:18:16,  4.80s/it]"
     ]
    },
    {
     "name": "stdout",
     "output_type": "stream",
     "text": [
      "Training Loss: 1.1236289985801862\n",
      "Validation Loss: 1.2475983330181666\n",
      "Training Accuracy of the network: 50 %\n",
      "Validation Accuracy of the network: 42 %\n",
      "Validation loss decreased (1.253869 --> 1.247598).  Saving model ...\n"
     ]
    },
    {
     "name": "stderr",
     "output_type": "stream",
     "text": [
      "  2%|███▋                                                                                                                                                             | 23/1000 [01:48<1:17:49,  4.78s/it]"
     ]
    },
    {
     "name": "stdout",
     "output_type": "stream",
     "text": [
      "Training Loss: 1.125667822101842\n",
      "Validation Loss: 1.2438925862312318\n",
      "Training Accuracy of the network: 52 %\n",
      "Validation Accuracy of the network: 42 %\n",
      "Validation loss decreased (1.247598 --> 1.243893).  Saving model ...\n"
     ]
    },
    {
     "name": "stderr",
     "output_type": "stream",
     "text": [
      "  2%|███▊                                                                                                                                                             | 24/1000 [01:53<1:17:09,  4.74s/it]"
     ]
    },
    {
     "name": "stdout",
     "output_type": "stream",
     "text": [
      "Training Loss: 1.1005058372798173\n",
      "Validation Loss: 1.250900832244328\n",
      "Training Accuracy of the network: 52 %\n",
      "Validation Accuracy of the network: 42 %\n",
      "EarlyStopping counter: 1 out of 50\n"
     ]
    },
    {
     "name": "stderr",
     "output_type": "stream",
     "text": [
      "  2%|████                                                                                                                                                             | 25/1000 [01:58<1:17:01,  4.74s/it]"
     ]
    },
    {
     "name": "stdout",
     "output_type": "stream",
     "text": [
      "Training Loss: 1.0980962804262189\n",
      "Validation Loss: 1.2280306271144321\n",
      "Training Accuracy of the network: 52 %\n",
      "Validation Accuracy of the network: 42 %\n",
      "Validation loss decreased (1.243893 --> 1.228031).  Saving model ...\n"
     ]
    },
    {
     "name": "stderr",
     "output_type": "stream",
     "text": [
      "  3%|████▏                                                                                                                                                            | 26/1000 [02:02<1:16:15,  4.70s/it]"
     ]
    },
    {
     "name": "stdout",
     "output_type": "stream",
     "text": [
      "Training Loss: 1.083518975454828\n",
      "Validation Loss: 1.2197530201503208\n",
      "Training Accuracy of the network: 54 %\n",
      "Validation Accuracy of the network: 42 %\n",
      "Validation loss decreased (1.228031 --> 1.219753).  Saving model ...\n"
     ]
    },
    {
     "name": "stderr",
     "output_type": "stream",
     "text": [
      "  3%|████▎                                                                                                                                                            | 27/1000 [02:07<1:16:56,  4.74s/it]"
     ]
    },
    {
     "name": "stdout",
     "output_type": "stream",
     "text": [
      "Training Loss: 1.0672785133879255\n",
      "Validation Loss: 1.2179340754236494\n",
      "Training Accuracy of the network: 54 %\n",
      "Validation Accuracy of the network: 40 %\n",
      "Validation loss decreased (1.219753 --> 1.217934).  Saving model ...\n"
     ]
    },
    {
     "name": "stderr",
     "output_type": "stream",
     "text": [
      "  3%|████▌                                                                                                                                                            | 28/1000 [02:12<1:17:28,  4.78s/it]"
     ]
    },
    {
     "name": "stdout",
     "output_type": "stream",
     "text": [
      "Training Loss: 1.067532203119734\n",
      "Validation Loss: 1.2044813871383666\n",
      "Training Accuracy of the network: 54 %\n",
      "Validation Accuracy of the network: 44 %\n",
      "Validation loss decreased (1.217934 --> 1.204481).  Saving model ...\n"
     ]
    },
    {
     "name": "stderr",
     "output_type": "stream",
     "text": [
      "  3%|████▋                                                                                                                                                            | 29/1000 [02:17<1:17:02,  4.76s/it]"
     ]
    },
    {
     "name": "stdout",
     "output_type": "stream",
     "text": [
      "Training Loss: 1.0456562042236328\n",
      "Validation Loss: 1.204803320339748\n",
      "Training Accuracy of the network: 54 %\n",
      "Validation Accuracy of the network: 45 %\n",
      "EarlyStopping counter: 1 out of 50\n"
     ]
    },
    {
     "name": "stderr",
     "output_type": "stream",
     "text": [
      "  3%|████▊                                                                                                                                                            | 30/1000 [02:21<1:16:21,  4.72s/it]"
     ]
    },
    {
     "name": "stdout",
     "output_type": "stream",
     "text": [
      "Training Loss: 1.0346075127954069\n",
      "Validation Loss: 1.213006101335798\n",
      "Training Accuracy of the network: 57 %\n",
      "Validation Accuracy of the network: 44 %\n",
      "EarlyStopping counter: 2 out of 50\n"
     ]
    },
    {
     "name": "stderr",
     "output_type": "stream",
     "text": [
      "  3%|████▉                                                                                                                                                            | 31/1000 [02:26<1:16:32,  4.74s/it]"
     ]
    },
    {
     "name": "stdout",
     "output_type": "stream",
     "text": [
      "Training Loss: 1.0266579778298088\n",
      "Validation Loss: 1.2054822972842625\n",
      "Training Accuracy of the network: 57 %\n",
      "Validation Accuracy of the network: 44 %\n",
      "EarlyStopping counter: 3 out of 50\n"
     ]
    },
    {
     "name": "stderr",
     "output_type": "stream",
     "text": [
      "  3%|█████▏                                                                                                                                                           | 32/1000 [02:31<1:16:15,  4.73s/it]"
     ]
    },
    {
     "name": "stdout",
     "output_type": "stream",
     "text": [
      "Training Loss: 1.0226372387530147\n",
      "Validation Loss: 1.1875581281525749\n",
      "Training Accuracy of the network: 57 %\n",
      "Validation Accuracy of the network: 45 %\n",
      "Validation loss decreased (1.204481 --> 1.187558).  Saving model ...\n"
     ]
    },
    {
     "name": "stderr",
     "output_type": "stream",
     "text": [
      "  3%|█████▎                                                                                                                                                           | 33/1000 [02:36<1:16:14,  4.73s/it]"
     ]
    },
    {
     "name": "stdout",
     "output_type": "stream",
     "text": [
      "Training Loss: 1.0074306819317997\n",
      "Validation Loss: 1.1956654395375932\n",
      "Training Accuracy of the network: 57 %\n",
      "Validation Accuracy of the network: 44 %\n",
      "EarlyStopping counter: 1 out of 50\n"
     ]
    },
    {
     "name": "stderr",
     "output_type": "stream",
     "text": [
      "  3%|█████▍                                                                                                                                                           | 34/1000 [02:40<1:16:25,  4.75s/it]"
     ]
    },
    {
     "name": "stdout",
     "output_type": "stream",
     "text": [
      "Training Loss: 0.9948451942291813\n",
      "Validation Loss: 1.174175487245832\n",
      "Training Accuracy of the network: 59 %\n",
      "Validation Accuracy of the network: 43 %\n",
      "Validation loss decreased (1.187558 --> 1.174175).  Saving model ...\n"
     ]
    },
    {
     "name": "stderr",
     "output_type": "stream",
     "text": [
      "  4%|█████▋                                                                                                                                                           | 35/1000 [02:45<1:16:35,  4.76s/it]"
     ]
    },
    {
     "name": "stdout",
     "output_type": "stream",
     "text": [
      "Training Loss: 0.9819705341605173\n",
      "Validation Loss: 1.1660231624330792\n",
      "Training Accuracy of the network: 59 %\n",
      "Validation Accuracy of the network: 50 %\n",
      "Validation loss decreased (1.174175 --> 1.166023).  Saving model ...\n"
     ]
    },
    {
     "name": "stderr",
     "output_type": "stream",
     "text": [
      "  4%|█████▊                                                                                                                                                           | 36/1000 [02:50<1:15:30,  4.70s/it]"
     ]
    },
    {
     "name": "stdout",
     "output_type": "stream",
     "text": [
      "Training Loss: 0.9736072576564291\n",
      "Validation Loss: 1.1631744282586234\n",
      "Training Accuracy of the network: 60 %\n",
      "Validation Accuracy of the network: 47 %\n",
      "Validation loss decreased (1.166023 --> 1.163174).  Saving model ...\n"
     ]
    },
    {
     "name": "stderr",
     "output_type": "stream",
     "text": [
      "  4%|█████▉                                                                                                                                                           | 37/1000 [02:54<1:15:00,  4.67s/it]"
     ]
    },
    {
     "name": "stdout",
     "output_type": "stream",
     "text": [
      "Training Loss: 0.9519066696149715\n",
      "Validation Loss: 1.1526271734918867\n",
      "Training Accuracy of the network: 62 %\n",
      "Validation Accuracy of the network: 50 %\n",
      "Validation loss decreased (1.163174 --> 1.152627).  Saving model ...\n"
     ]
    },
    {
     "name": "stderr",
     "output_type": "stream",
     "text": [
      "  4%|██████                                                                                                                                                           | 38/1000 [02:59<1:15:36,  4.72s/it]"
     ]
    },
    {
     "name": "stdout",
     "output_type": "stream",
     "text": [
      "Training Loss: 0.9507088881471882\n",
      "Validation Loss: 1.1427182061331613\n",
      "Training Accuracy of the network: 61 %\n",
      "Validation Accuracy of the network: 48 %\n",
      "Validation loss decreased (1.152627 --> 1.142718).  Saving model ...\n"
     ]
    },
    {
     "name": "stderr",
     "output_type": "stream",
     "text": [
      "  4%|██████▎                                                                                                                                                          | 39/1000 [03:04<1:15:12,  4.70s/it]"
     ]
    },
    {
     "name": "stdout",
     "output_type": "stream",
     "text": [
      "Training Loss: 0.9190553815198549\n",
      "Validation Loss: 1.151862280709403\n",
      "Training Accuracy of the network: 63 %\n",
      "Validation Accuracy of the network: 49 %\n",
      "EarlyStopping counter: 1 out of 50\n"
     ]
    },
    {
     "name": "stderr",
     "output_type": "stream",
     "text": [
      "  4%|██████▍                                                                                                                                                          | 40/1000 [03:09<1:14:59,  4.69s/it]"
     ]
    },
    {
     "name": "stdout",
     "output_type": "stream",
     "text": [
      "Training Loss: 0.9193649756843629\n",
      "Validation Loss: 1.1371137261390687\n",
      "Training Accuracy of the network: 62 %\n",
      "Validation Accuracy of the network: 48 %\n",
      "Validation loss decreased (1.142718 --> 1.137114).  Saving model ...\n"
     ]
    },
    {
     "name": "stderr",
     "output_type": "stream",
     "text": [
      "  4%|██████▌                                                                                                                                                          | 41/1000 [03:13<1:15:13,  4.71s/it]"
     ]
    },
    {
     "name": "stdout",
     "output_type": "stream",
     "text": [
      "Training Loss: 0.9233845638624136\n",
      "Validation Loss: 1.141409841605595\n",
      "Training Accuracy of the network: 62 %\n",
      "Validation Accuracy of the network: 48 %\n",
      "EarlyStopping counter: 1 out of 50\n"
     ]
    },
    {
     "name": "stderr",
     "output_type": "stream",
     "text": [
      "  4%|██████▊                                                                                                                                                          | 42/1000 [03:18<1:15:08,  4.71s/it]"
     ]
    },
    {
     "name": "stdout",
     "output_type": "stream",
     "text": [
      "Training Loss: 0.9046423067001329\n",
      "Validation Loss: 1.153341954095023\n",
      "Training Accuracy of the network: 64 %\n",
      "Validation Accuracy of the network: 45 %\n",
      "EarlyStopping counter: 2 out of 50\n"
     ]
    },
    {
     "name": "stderr",
     "output_type": "stream",
     "text": [
      "  4%|██████▉                                                                                                                                                          | 43/1000 [03:23<1:15:17,  4.72s/it]"
     ]
    },
    {
     "name": "stdout",
     "output_type": "stream",
     "text": [
      "Training Loss: 0.8800302846492201\n",
      "Validation Loss: 1.1327586770057678\n",
      "Training Accuracy of the network: 65 %\n",
      "Validation Accuracy of the network: 50 %\n",
      "Validation loss decreased (1.137114 --> 1.132759).  Saving model ...\n"
     ]
    },
    {
     "name": "stderr",
     "output_type": "stream",
     "text": [
      "  4%|███████                                                                                                                                                          | 44/1000 [03:27<1:15:04,  4.71s/it]"
     ]
    },
    {
     "name": "stdout",
     "output_type": "stream",
     "text": [
      "Training Loss: 0.8896192535218121\n",
      "Validation Loss: 1.1240115250859941\n",
      "Training Accuracy of the network: 63 %\n",
      "Validation Accuracy of the network: 49 %\n",
      "Validation loss decreased (1.132759 --> 1.124012).  Saving model ...\n"
     ]
    },
    {
     "name": "stderr",
     "output_type": "stream",
     "text": [
      "  4%|███████▏                                                                                                                                                         | 45/1000 [03:32<1:15:07,  4.72s/it]"
     ]
    },
    {
     "name": "stdout",
     "output_type": "stream",
     "text": [
      "Training Loss: 0.8487233973067739\n",
      "Validation Loss: 1.1234493323734829\n",
      "Training Accuracy of the network: 68 %\n",
      "Validation Accuracy of the network: 50 %\n",
      "Validation loss decreased (1.124012 --> 1.123449).  Saving model ...\n"
     ]
    },
    {
     "name": "stderr",
     "output_type": "stream",
     "text": [
      "  5%|███████▍                                                                                                                                                         | 46/1000 [03:37<1:15:02,  4.72s/it]"
     ]
    },
    {
     "name": "stdout",
     "output_type": "stream",
     "text": [
      "Training Loss: 0.8382864093434983\n",
      "Validation Loss: 1.1286783337593078\n",
      "Training Accuracy of the network: 66 %\n",
      "Validation Accuracy of the network: 51 %\n",
      "EarlyStopping counter: 1 out of 50\n"
     ]
    },
    {
     "name": "stderr",
     "output_type": "stream",
     "text": [
      "  5%|███████▌                                                                                                                                                         | 47/1000 [03:42<1:15:29,  4.75s/it]"
     ]
    },
    {
     "name": "stdout",
     "output_type": "stream",
     "text": [
      "Training Loss: 0.8471681225127068\n",
      "Validation Loss: 1.1106430104800633\n",
      "Training Accuracy of the network: 67 %\n",
      "Validation Accuracy of the network: 50 %\n",
      "Validation loss decreased (1.123449 --> 1.110643).  Saving model ...\n"
     ]
    },
    {
     "name": "stderr",
     "output_type": "stream",
     "text": [
      "  5%|███████▋                                                                                                                                                         | 48/1000 [03:47<1:15:41,  4.77s/it]"
     ]
    },
    {
     "name": "stdout",
     "output_type": "stream",
     "text": [
      "Training Loss: 0.8151550755120706\n",
      "Validation Loss: 1.118122204712459\n",
      "Training Accuracy of the network: 70 %\n",
      "Validation Accuracy of the network: 49 %\n",
      "EarlyStopping counter: 1 out of 50\n"
     ]
    },
    {
     "name": "stderr",
     "output_type": "stream",
     "text": [
      "  5%|███████▉                                                                                                                                                         | 49/1000 [03:51<1:16:24,  4.82s/it]"
     ]
    },
    {
     "name": "stdout",
     "output_type": "stream",
     "text": [
      "Training Loss: 0.823329862261164\n",
      "Validation Loss: 1.111363889489855\n",
      "Training Accuracy of the network: 68 %\n",
      "Validation Accuracy of the network: 49 %\n",
      "EarlyStopping counter: 2 out of 50\n"
     ]
    },
    {
     "name": "stderr",
     "output_type": "stream",
     "text": [
      "  5%|████████                                                                                                                                                         | 50/1000 [03:56<1:16:21,  4.82s/it]"
     ]
    },
    {
     "name": "stdout",
     "output_type": "stream",
     "text": [
      "Training Loss: 0.8091159274504669\n",
      "Validation Loss: 1.0822865894862583\n",
      "Training Accuracy of the network: 69 %\n",
      "Validation Accuracy of the network: 52 %\n",
      "Validation loss decreased (1.110643 --> 1.082287).  Saving model ...\n"
     ]
    },
    {
     "name": "stderr",
     "output_type": "stream",
     "text": [
      "  5%|████████▏                                                                                                                                                        | 51/1000 [04:01<1:15:28,  4.77s/it]"
     ]
    },
    {
     "name": "stdout",
     "output_type": "stream",
     "text": [
      "Training Loss: 0.7917880915861198\n",
      "Validation Loss: 1.1002066493034364\n",
      "Training Accuracy of the network: 69 %\n",
      "Validation Accuracy of the network: 50 %\n",
      "EarlyStopping counter: 1 out of 50\n"
     ]
    },
    {
     "name": "stderr",
     "output_type": "stream",
     "text": [
      "  5%|████████▎                                                                                                                                                        | 52/1000 [04:06<1:15:12,  4.76s/it]"
     ]
    },
    {
     "name": "stdout",
     "output_type": "stream",
     "text": [
      "Training Loss: 0.7998320064035015\n",
      "Validation Loss: 1.092148036616189\n",
      "Training Accuracy of the network: 70 %\n",
      "Validation Accuracy of the network: 50 %\n",
      "EarlyStopping counter: 2 out of 50\n"
     ]
    },
    {
     "name": "stderr",
     "output_type": "stream",
     "text": [
      "  5%|████████▌                                                                                                                                                        | 53/1000 [04:10<1:15:22,  4.78s/it]"
     ]
    },
    {
     "name": "stdout",
     "output_type": "stream",
     "text": [
      "Training Loss: 0.7732642296215763\n",
      "Validation Loss: 1.10046671799251\n",
      "Training Accuracy of the network: 71 %\n",
      "Validation Accuracy of the network: 50 %\n",
      "EarlyStopping counter: 3 out of 50\n"
     ]
    },
    {
     "name": "stderr",
     "output_type": "stream",
     "text": [
      "  5%|████████▋                                                                                                                                                        | 54/1000 [04:15<1:15:53,  4.81s/it]"
     ]
    },
    {
     "name": "stdout",
     "output_type": "stream",
     "text": [
      "Training Loss: 0.7703900992654372\n",
      "Validation Loss: 1.0974390506744385\n",
      "Training Accuracy of the network: 71 %\n",
      "Validation Accuracy of the network: 51 %\n",
      "EarlyStopping counter: 4 out of 50\n"
     ]
    },
    {
     "name": "stderr",
     "output_type": "stream",
     "text": [
      "  6%|████████▊                                                                                                                                                        | 55/1000 [04:20<1:14:57,  4.76s/it]"
     ]
    },
    {
     "name": "stdout",
     "output_type": "stream",
     "text": [
      "Training Loss: 0.7619827488518279\n",
      "Validation Loss: 1.0853343197277614\n",
      "Training Accuracy of the network: 72 %\n",
      "Validation Accuracy of the network: 50 %\n",
      "EarlyStopping counter: 5 out of 50\n"
     ]
    },
    {
     "name": "stderr",
     "output_type": "stream",
     "text": [
      "  6%|█████████                                                                                                                                                        | 56/1000 [04:25<1:14:41,  4.75s/it]"
     ]
    },
    {
     "name": "stdout",
     "output_type": "stream",
     "text": [
      "Training Loss: 0.7567123237025478\n",
      "Validation Loss: 1.0607685003961835\n",
      "Training Accuracy of the network: 72 %\n",
      "Validation Accuracy of the network: 52 %\n",
      "Validation loss decreased (1.082287 --> 1.060769).  Saving model ...\n"
     ]
    },
    {
     "name": "stderr",
     "output_type": "stream",
     "text": [
      "  6%|█████████▏                                                                                                                                                       | 57/1000 [04:30<1:14:48,  4.76s/it]"
     ]
    },
    {
     "name": "stdout",
     "output_type": "stream",
     "text": [
      "Training Loss: 0.7445200280002926\n",
      "Validation Loss: 1.0736245802470616\n",
      "Training Accuracy of the network: 71 %\n",
      "Validation Accuracy of the network: 54 %\n",
      "EarlyStopping counter: 1 out of 50\n"
     ]
    },
    {
     "name": "stderr",
     "output_type": "stream",
     "text": [
      "  6%|█████████▎                                                                                                                                                       | 58/1000 [04:34<1:14:44,  4.76s/it]"
     ]
    },
    {
     "name": "stdout",
     "output_type": "stream",
     "text": [
      "Training Loss: 0.7384961162680301\n",
      "Validation Loss: 1.0792722838265556\n",
      "Training Accuracy of the network: 72 %\n",
      "Validation Accuracy of the network: 53 %\n",
      "EarlyStopping counter: 2 out of 50\n"
     ]
    },
    {
     "name": "stderr",
     "output_type": "stream",
     "text": [
      "  6%|█████████▍                                                                                                                                                       | 59/1000 [04:39<1:14:18,  4.74s/it]"
     ]
    },
    {
     "name": "stdout",
     "output_type": "stream",
     "text": [
      "Training Loss: 0.7347323803258115\n",
      "Validation Loss: 1.059095709664481\n",
      "Training Accuracy of the network: 73 %\n",
      "Validation Accuracy of the network: 54 %\n",
      "Validation loss decreased (1.060769 --> 1.059096).  Saving model ...\n"
     ]
    },
    {
     "name": "stderr",
     "output_type": "stream",
     "text": [
      "  6%|█████████▋                                                                                                                                                       | 60/1000 [04:44<1:14:13,  4.74s/it]"
     ]
    },
    {
     "name": "stdout",
     "output_type": "stream",
     "text": [
      "Training Loss: 0.7134748215692631\n",
      "Validation Loss: 1.077549181665693\n",
      "Training Accuracy of the network: 73 %\n",
      "Validation Accuracy of the network: 52 %\n",
      "EarlyStopping counter: 1 out of 50\n"
     ]
    },
    {
     "name": "stderr",
     "output_type": "stream",
     "text": [
      "  6%|█████████▊                                                                                                                                                       | 61/1000 [04:49<1:14:36,  4.77s/it]"
     ]
    },
    {
     "name": "stdout",
     "output_type": "stream",
     "text": [
      "Training Loss: 0.7035999704098356\n",
      "Validation Loss: 1.0814900023596627\n",
      "Training Accuracy of the network: 74 %\n",
      "Validation Accuracy of the network: 53 %\n",
      "EarlyStopping counter: 2 out of 50\n"
     ]
    },
    {
     "name": "stderr",
     "output_type": "stream",
     "text": [
      "  6%|█████████▉                                                                                                                                                       | 62/1000 [04:53<1:13:45,  4.72s/it]"
     ]
    },
    {
     "name": "stdout",
     "output_type": "stream",
     "text": [
      "Training Loss: 0.7042408800427464\n",
      "Validation Loss: 1.0669165883745466\n",
      "Training Accuracy of the network: 74 %\n",
      "Validation Accuracy of the network: 52 %\n",
      "EarlyStopping counter: 3 out of 50\n"
     ]
    },
    {
     "name": "stderr",
     "output_type": "stream",
     "text": [
      "  6%|██████████▏                                                                                                                                                      | 63/1000 [04:58<1:13:38,  4.72s/it]"
     ]
    },
    {
     "name": "stdout",
     "output_type": "stream",
     "text": [
      "Training Loss: 0.6919084720961426\n",
      "Validation Loss: 1.0701876725469317\n",
      "Training Accuracy of the network: 74 %\n",
      "Validation Accuracy of the network: 54 %\n",
      "EarlyStopping counter: 4 out of 50\n"
     ]
    },
    {
     "name": "stderr",
     "output_type": "stream",
     "text": [
      "  6%|██████████▎                                                                                                                                                      | 64/1000 [05:03<1:13:54,  4.74s/it]"
     ]
    },
    {
     "name": "stdout",
     "output_type": "stream",
     "text": [
      "Training Loss: 0.6872757852239453\n",
      "Validation Loss: 1.0593290124620711\n",
      "Training Accuracy of the network: 75 %\n",
      "Validation Accuracy of the network: 54 %\n",
      "EarlyStopping counter: 5 out of 50\n"
     ]
    },
    {
     "name": "stderr",
     "output_type": "stream",
     "text": [
      "  6%|██████████▍                                                                                                                                                      | 65/1000 [05:07<1:13:36,  4.72s/it]"
     ]
    },
    {
     "name": "stdout",
     "output_type": "stream",
     "text": [
      "Training Loss: 0.6750693442164988\n",
      "Validation Loss: 1.0874192305973598\n",
      "Training Accuracy of the network: 76 %\n",
      "Validation Accuracy of the network: 53 %\n",
      "EarlyStopping counter: 6 out of 50\n"
     ]
    },
    {
     "name": "stderr",
     "output_type": "stream",
     "text": [
      "  7%|██████████▋                                                                                                                                                      | 66/1000 [05:12<1:12:53,  4.68s/it]"
     ]
    },
    {
     "name": "stdout",
     "output_type": "stream",
     "text": [
      "Training Loss: 0.6775048500385837\n",
      "Validation Loss: 1.0667841553688049\n",
      "Training Accuracy of the network: 76 %\n",
      "Validation Accuracy of the network: 54 %\n",
      "EarlyStopping counter: 7 out of 50\n"
     ]
    },
    {
     "name": "stderr",
     "output_type": "stream",
     "text": [
      "  7%|██████████▊                                                                                                                                                      | 67/1000 [05:17<1:12:55,  4.69s/it]"
     ]
    },
    {
     "name": "stdout",
     "output_type": "stream",
     "text": [
      "Training Loss: 0.668949833382731\n",
      "Validation Loss: 1.071899608203343\n",
      "Training Accuracy of the network: 75 %\n",
      "Validation Accuracy of the network: 54 %\n",
      "EarlyStopping counter: 8 out of 50\n"
     ]
    },
    {
     "name": "stderr",
     "output_type": "stream",
     "text": [
      "  7%|██████████▉                                                                                                                                                      | 68/1000 [05:22<1:13:57,  4.76s/it]"
     ]
    },
    {
     "name": "stdout",
     "output_type": "stream",
     "text": [
      "Training Loss: 0.6653086714770483\n",
      "Validation Loss: 1.0601634519440788\n",
      "Training Accuracy of the network: 75 %\n",
      "Validation Accuracy of the network: 53 %\n",
      "EarlyStopping counter: 9 out of 50\n"
     ]
    },
    {
     "name": "stderr",
     "output_type": "stream",
     "text": [
      "  7%|███████████                                                                                                                                                      | 69/1000 [05:27<1:14:54,  4.83s/it]"
     ]
    },
    {
     "name": "stdout",
     "output_type": "stream",
     "text": [
      "Training Loss: 0.6496001243915247\n",
      "Validation Loss: 1.0608619008745466\n",
      "Training Accuracy of the network: 77 %\n",
      "Validation Accuracy of the network: 54 %\n",
      "EarlyStopping counter: 10 out of 50\n"
     ]
    },
    {
     "name": "stderr",
     "output_type": "stream",
     "text": [
      "  7%|███████████▎                                                                                                                                                     | 70/1000 [05:31<1:14:42,  4.82s/it]"
     ]
    },
    {
     "name": "stdout",
     "output_type": "stream",
     "text": [
      "Training Loss: 0.6324766354932301\n",
      "Validation Loss: 1.0442463874816894\n",
      "Training Accuracy of the network: 77 %\n",
      "Validation Accuracy of the network: 53 %\n",
      "Validation loss decreased (1.059096 --> 1.044246).  Saving model ...\n"
     ]
    },
    {
     "name": "stderr",
     "output_type": "stream",
     "text": [
      "  7%|███████████▍                                                                                                                                                     | 71/1000 [05:36<1:14:07,  4.79s/it]"
     ]
    },
    {
     "name": "stdout",
     "output_type": "stream",
     "text": [
      "Training Loss: 0.638691414039636\n",
      "Validation Loss: 1.0567235554967607\n",
      "Training Accuracy of the network: 75 %\n",
      "Validation Accuracy of the network: 54 %\n",
      "EarlyStopping counter: 1 out of 50\n"
     ]
    },
    {
     "name": "stderr",
     "output_type": "stream",
     "text": [
      "  7%|███████████▌                                                                                                                                                     | 72/1000 [05:41<1:12:49,  4.71s/it]"
     ]
    },
    {
     "name": "stdout",
     "output_type": "stream",
     "text": [
      "Training Loss: 0.6261397906835529\n",
      "Validation Loss: 1.0588783127920969\n",
      "Training Accuracy of the network: 77 %\n",
      "Validation Accuracy of the network: 54 %\n",
      "EarlyStopping counter: 2 out of 50\n"
     ]
    },
    {
     "name": "stderr",
     "output_type": "stream",
     "text": [
      "  7%|███████████▊                                                                                                                                                     | 73/1000 [05:45<1:12:31,  4.69s/it]"
     ]
    },
    {
     "name": "stdout",
     "output_type": "stream",
     "text": [
      "Training Loss: 0.6094632395205722\n",
      "Validation Loss: 1.0494847536087035\n",
      "Training Accuracy of the network: 78 %\n",
      "Validation Accuracy of the network: 54 %\n",
      "EarlyStopping counter: 3 out of 50\n"
     ]
    },
    {
     "name": "stderr",
     "output_type": "stream",
     "text": [
      "  7%|███████████▉                                                                                                                                                     | 74/1000 [05:50<1:12:12,  4.68s/it]"
     ]
    },
    {
     "name": "stdout",
     "output_type": "stream",
     "text": [
      "Training Loss: 0.6070812937088202\n",
      "Validation Loss: 1.0504178268568856\n",
      "Training Accuracy of the network: 77 %\n",
      "Validation Accuracy of the network: 53 %\n",
      "EarlyStopping counter: 4 out of 50\n"
     ]
    },
    {
     "name": "stderr",
     "output_type": "stream",
     "text": [
      "  8%|████████████                                                                                                                                                     | 75/1000 [05:55<1:12:47,  4.72s/it]"
     ]
    },
    {
     "name": "stdout",
     "output_type": "stream",
     "text": [
      "Training Loss: 0.6055332611220471\n",
      "Validation Loss: 1.0314239280564443\n",
      "Training Accuracy of the network: 78 %\n",
      "Validation Accuracy of the network: 56 %\n",
      "Validation loss decreased (1.044246 --> 1.031424).  Saving model ...\n"
     ]
    },
    {
     "name": "stderr",
     "output_type": "stream",
     "text": [
      "  8%|████████████▏                                                                                                                                                    | 76/1000 [06:00<1:13:16,  4.76s/it]"
     ]
    },
    {
     "name": "stdout",
     "output_type": "stream",
     "text": [
      "Training Loss: 0.6081714288911958\n",
      "Validation Loss: 1.0487375020980836\n",
      "Training Accuracy of the network: 78 %\n",
      "Validation Accuracy of the network: 52 %\n",
      "EarlyStopping counter: 1 out of 50\n"
     ]
    },
    {
     "name": "stderr",
     "output_type": "stream",
     "text": [
      "  8%|████████████▍                                                                                                                                                    | 77/1000 [06:04<1:13:32,  4.78s/it]"
     ]
    },
    {
     "name": "stdout",
     "output_type": "stream",
     "text": [
      "Training Loss: 0.6106822028810132\n",
      "Validation Loss: 1.0444948877607072\n",
      "Training Accuracy of the network: 78 %\n",
      "Validation Accuracy of the network: 55 %\n",
      "EarlyStopping counter: 2 out of 50\n"
     ]
    },
    {
     "name": "stderr",
     "output_type": "stream",
     "text": [
      "  8%|████████████▌                                                                                                                                                    | 78/1000 [06:09<1:13:30,  4.78s/it]"
     ]
    },
    {
     "name": "stdout",
     "output_type": "stream",
     "text": [
      "Training Loss: 0.6145015506316787\n",
      "Validation Loss: 1.0443176797458105\n",
      "Training Accuracy of the network: 77 %\n",
      "Validation Accuracy of the network: 56 %\n",
      "EarlyStopping counter: 3 out of 50\n"
     ]
    },
    {
     "name": "stderr",
     "output_type": "stream",
     "text": [
      "  8%|████████████▋                                                                                                                                                    | 79/1000 [06:14<1:12:38,  4.73s/it]"
     ]
    },
    {
     "name": "stdout",
     "output_type": "stream",
     "text": [
      "Training Loss: 0.6194719692719155\n",
      "Validation Loss: 1.0658543092863901\n",
      "Training Accuracy of the network: 76 %\n",
      "Validation Accuracy of the network: 54 %\n",
      "EarlyStopping counter: 4 out of 50\n"
     ]
    },
    {
     "name": "stderr",
     "output_type": "stream",
     "text": [
      "  8%|████████████▉                                                                                                                                                    | 80/1000 [06:19<1:12:42,  4.74s/it]"
     ]
    },
    {
     "name": "stdout",
     "output_type": "stream",
     "text": [
      "Training Loss: 0.5863463649445254\n",
      "Validation Loss: 1.0524193865912301\n",
      "Training Accuracy of the network: 79 %\n",
      "Validation Accuracy of the network: 54 %\n",
      "EarlyStopping counter: 5 out of 50\n"
     ]
    },
    {
     "name": "stderr",
     "output_type": "stream",
     "text": [
      "  8%|█████████████                                                                                                                                                    | 81/1000 [06:23<1:12:35,  4.74s/it]"
     ]
    },
    {
     "name": "stdout",
     "output_type": "stream",
     "text": [
      "Training Loss: 0.5837737707340199\n",
      "Validation Loss: 1.0667066284588405\n",
      "Training Accuracy of the network: 79 %\n",
      "Validation Accuracy of the network: 54 %\n",
      "EarlyStopping counter: 6 out of 50\n"
     ]
    },
    {
     "name": "stderr",
     "output_type": "stream",
     "text": [
      "  8%|█████████████▏                                                                                                                                                   | 82/1000 [06:28<1:12:00,  4.71s/it]"
     ]
    },
    {
     "name": "stdout",
     "output_type": "stream",
     "text": [
      "Training Loss: 0.594478156471598\n",
      "Validation Loss: 1.0450631073543004\n",
      "Training Accuracy of the network: 78 %\n",
      "Validation Accuracy of the network: 56 %\n",
      "EarlyStopping counter: 7 out of 50\n"
     ]
    },
    {
     "name": "stderr",
     "output_type": "stream",
     "text": [
      "  8%|█████████████▎                                                                                                                                                   | 83/1000 [06:33<1:12:15,  4.73s/it]"
     ]
    },
    {
     "name": "stdout",
     "output_type": "stream",
     "text": [
      "Training Loss: 0.6018855263195608\n",
      "Validation Loss: 1.0211846555982318\n",
      "Training Accuracy of the network: 79 %\n",
      "Validation Accuracy of the network: 57 %\n",
      "Validation loss decreased (1.031424 --> 1.021185).  Saving model ...\n"
     ]
    },
    {
     "name": "stderr",
     "output_type": "stream",
     "text": [
      "  8%|█████████████▌                                                                                                                                                   | 84/1000 [06:37<1:12:17,  4.74s/it]"
     ]
    },
    {
     "name": "stdout",
     "output_type": "stream",
     "text": [
      "Training Loss: 0.5821538712235464\n",
      "Validation Loss: 1.0414420570646012\n",
      "Training Accuracy of the network: 78 %\n",
      "Validation Accuracy of the network: 56 %\n",
      "EarlyStopping counter: 1 out of 50\n"
     ]
    },
    {
     "name": "stderr",
     "output_type": "stream",
     "text": [
      "  8%|█████████████▋                                                                                                                                                   | 85/1000 [06:42<1:12:16,  4.74s/it]"
     ]
    },
    {
     "name": "stdout",
     "output_type": "stream",
     "text": [
      "Training Loss: 0.5716855254942093\n",
      "Validation Loss: 1.063674751349858\n",
      "Training Accuracy of the network: 79 %\n",
      "Validation Accuracy of the network: 56 %\n",
      "EarlyStopping counter: 2 out of 50\n"
     ]
    },
    {
     "name": "stderr",
     "output_type": "stream",
     "text": [
      "  9%|█████████████▊                                                                                                                                                   | 86/1000 [06:47<1:12:28,  4.76s/it]"
     ]
    },
    {
     "name": "stdout",
     "output_type": "stream",
     "text": [
      "Training Loss: 0.5645916166080944\n",
      "Validation Loss: 1.068399828672409\n",
      "Training Accuracy of the network: 79 %\n",
      "Validation Accuracy of the network: 53 %\n",
      "EarlyStopping counter: 3 out of 50\n"
     ]
    },
    {
     "name": "stderr",
     "output_type": "stream",
     "text": [
      "  9%|██████████████                                                                                                                                                   | 87/1000 [06:51<1:11:04,  4.67s/it]"
     ]
    },
    {
     "name": "stdout",
     "output_type": "stream",
     "text": [
      "Training Loss: 0.5553109802413678\n",
      "Validation Loss: 1.031164344719478\n",
      "Training Accuracy of the network: 80 %\n",
      "Validation Accuracy of the network: 56 %\n",
      "EarlyStopping counter: 4 out of 50\n"
     ]
    },
    {
     "name": "stderr",
     "output_type": "stream",
     "text": [
      "  9%|██████████████▏                                                                                                                                                  | 88/1000 [06:56<1:11:35,  4.71s/it]"
     ]
    },
    {
     "name": "stdout",
     "output_type": "stream",
     "text": [
      "Training Loss: 0.5516095164677371\n",
      "Validation Loss: 1.0484166077205113\n",
      "Training Accuracy of the network: 79 %\n",
      "Validation Accuracy of the network: 54 %\n",
      "EarlyStopping counter: 5 out of 50\n"
     ]
    },
    {
     "name": "stderr",
     "output_type": "stream",
     "text": [
      "  9%|██████████████▎                                                                                                                                                  | 89/1000 [07:01<1:11:22,  4.70s/it]"
     ]
    },
    {
     "name": "stdout",
     "output_type": "stream",
     "text": [
      "Training Loss: 0.5413434151830017\n",
      "Validation Loss: 1.0392777562141418\n",
      "Training Accuracy of the network: 81 %\n",
      "Validation Accuracy of the network: 55 %\n",
      "EarlyStopping counter: 6 out of 50\n"
     ]
    },
    {
     "name": "stderr",
     "output_type": "stream",
     "text": [
      "  9%|██████████████▍                                                                                                                                                  | 90/1000 [07:06<1:11:05,  4.69s/it]"
     ]
    },
    {
     "name": "stdout",
     "output_type": "stream",
     "text": [
      "Training Loss: 0.5331433187036411\n",
      "Validation Loss: 1.0291115607534136\n",
      "Training Accuracy of the network: 82 %\n",
      "Validation Accuracy of the network: 55 %\n",
      "EarlyStopping counter: 7 out of 50\n"
     ]
    },
    {
     "name": "stderr",
     "output_type": "stream",
     "text": [
      "  9%|██████████████▋                                                                                                                                                  | 91/1000 [07:10<1:11:09,  4.70s/it]"
     ]
    },
    {
     "name": "stdout",
     "output_type": "stream",
     "text": [
      "Training Loss: 0.5363499933070894\n",
      "Validation Loss: 1.0345493486949375\n",
      "Training Accuracy of the network: 81 %\n",
      "Validation Accuracy of the network: 56 %\n",
      "EarlyStopping counter: 8 out of 50\n"
     ]
    },
    {
     "name": "stderr",
     "output_type": "stream",
     "text": [
      "  9%|██████████████▊                                                                                                                                                  | 92/1000 [07:15<1:11:28,  4.72s/it]"
     ]
    },
    {
     "name": "stdout",
     "output_type": "stream",
     "text": [
      "Training Loss: 0.5368571736026502\n",
      "Validation Loss: 1.027756289073399\n",
      "Training Accuracy of the network: 80 %\n",
      "Validation Accuracy of the network: 56 %\n",
      "EarlyStopping counter: 9 out of 50\n"
     ]
    },
    {
     "name": "stderr",
     "output_type": "stream",
     "text": [
      "  9%|██████████████▉                                                                                                                                                  | 93/1000 [07:20<1:11:34,  4.73s/it]"
     ]
    },
    {
     "name": "stdout",
     "output_type": "stream",
     "text": [
      "Training Loss: 0.538192491789443\n",
      "Validation Loss: 1.03634272643498\n",
      "Training Accuracy of the network: 80 %\n",
      "Validation Accuracy of the network: 57 %\n",
      "EarlyStopping counter: 10 out of 50\n"
     ]
    },
    {
     "name": "stderr",
     "output_type": "stream",
     "text": [
      "  9%|███████████████▏                                                                                                                                                 | 94/1000 [07:25<1:11:34,  4.74s/it]"
     ]
    },
    {
     "name": "stdout",
     "output_type": "stream",
     "text": [
      "Training Loss: 0.515893484155337\n",
      "Validation Loss: 1.0431628363473076\n",
      "Training Accuracy of the network: 82 %\n",
      "Validation Accuracy of the network: 56 %\n",
      "EarlyStopping counter: 11 out of 50\n"
     ]
    },
    {
     "name": "stderr",
     "output_type": "stream",
     "text": [
      " 10%|███████████████▎                                                                                                                                                 | 95/1000 [07:29<1:11:05,  4.71s/it]"
     ]
    },
    {
     "name": "stdout",
     "output_type": "stream",
     "text": [
      "Training Loss: 0.5418815452443517\n",
      "Validation Loss: 1.0496540188789367\n",
      "Training Accuracy of the network: 79 %\n",
      "Validation Accuracy of the network: 55 %\n",
      "EarlyStopping counter: 12 out of 50\n"
     ]
    },
    {
     "name": "stderr",
     "output_type": "stream",
     "text": [
      " 10%|███████████████▍                                                                                                                                                 | 96/1000 [07:34<1:10:59,  4.71s/it]"
     ]
    },
    {
     "name": "stdout",
     "output_type": "stream",
     "text": [
      "Training Loss: 0.5203569913687913\n",
      "Validation Loss: 1.049041346992765\n",
      "Training Accuracy of the network: 82 %\n",
      "Validation Accuracy of the network: 55 %\n",
      "EarlyStopping counter: 13 out of 50\n"
     ]
    },
    {
     "name": "stderr",
     "output_type": "stream",
     "text": [
      " 10%|███████████████▌                                                                                                                                                 | 97/1000 [07:39<1:11:04,  4.72s/it]"
     ]
    },
    {
     "name": "stdout",
     "output_type": "stream",
     "text": [
      "Training Loss: 0.5265791595953963\n",
      "Validation Loss: 1.03099867105484\n",
      "Training Accuracy of the network: 81 %\n",
      "Validation Accuracy of the network: 54 %\n",
      "EarlyStopping counter: 14 out of 50\n"
     ]
    },
    {
     "name": "stderr",
     "output_type": "stream",
     "text": [
      " 10%|███████████████▊                                                                                                                                                 | 98/1000 [07:44<1:11:34,  4.76s/it]"
     ]
    },
    {
     "name": "stdout",
     "output_type": "stream",
     "text": [
      "Training Loss: 0.522373171793162\n",
      "Validation Loss: 1.062294168983187\n",
      "Training Accuracy of the network: 80 %\n",
      "Validation Accuracy of the network: 55 %\n",
      "EarlyStopping counter: 15 out of 50\n"
     ]
    },
    {
     "name": "stderr",
     "output_type": "stream",
     "text": [
      " 10%|███████████████▉                                                                                                                                                 | 99/1000 [07:48<1:11:21,  4.75s/it]"
     ]
    },
    {
     "name": "stdout",
     "output_type": "stream",
     "text": [
      "Training Loss: 0.5049564343323742\n",
      "Validation Loss: 1.044661716903959\n",
      "Training Accuracy of the network: 82 %\n",
      "Validation Accuracy of the network: 58 %\n",
      "EarlyStopping counter: 16 out of 50\n"
     ]
    },
    {
     "name": "stderr",
     "output_type": "stream",
     "text": [
      " 10%|████████████████                                                                                                                                                | 100/1000 [07:53<1:11:16,  4.75s/it]"
     ]
    },
    {
     "name": "stdout",
     "output_type": "stream",
     "text": [
      "Training Loss: 0.5127851107306238\n",
      "Validation Loss: 1.044239842891693\n",
      "Training Accuracy of the network: 81 %\n",
      "Validation Accuracy of the network: 58 %\n",
      "EarlyStopping counter: 17 out of 50\n"
     ]
    },
    {
     "name": "stderr",
     "output_type": "stream",
     "text": [
      " 10%|████████████████▏                                                                                                                                               | 101/1000 [07:58<1:10:59,  4.74s/it]"
     ]
    },
    {
     "name": "stdout",
     "output_type": "stream",
     "text": [
      "Training Loss: 0.509410990861015\n",
      "Validation Loss: 1.0483865405832018\n",
      "Training Accuracy of the network: 82 %\n",
      "Validation Accuracy of the network: 56 %\n",
      "EarlyStopping counter: 18 out of 50\n"
     ]
    },
    {
     "name": "stderr",
     "output_type": "stream",
     "text": [
      " 10%|████████████████▎                                                                                                                                               | 102/1000 [08:03<1:11:04,  4.75s/it]"
     ]
    },
    {
     "name": "stdout",
     "output_type": "stream",
     "text": [
      "Training Loss: 0.4919534516993208\n",
      "Validation Loss: 1.0355812294142588\n",
      "Training Accuracy of the network: 83 %\n",
      "Validation Accuracy of the network: 57 %\n",
      "EarlyStopping counter: 19 out of 50\n"
     ]
    },
    {
     "name": "stderr",
     "output_type": "stream",
     "text": [
      " 10%|████████████████▍                                                                                                                                               | 103/1000 [08:07<1:11:21,  4.77s/it]"
     ]
    },
    {
     "name": "stdout",
     "output_type": "stream",
     "text": [
      "Training Loss: 0.5040326992022819\n",
      "Validation Loss: 1.0545579867703574\n",
      "Training Accuracy of the network: 82 %\n",
      "Validation Accuracy of the network: 55 %\n",
      "EarlyStopping counter: 20 out of 50\n"
     ]
    },
    {
     "name": "stderr",
     "output_type": "stream",
     "text": [
      " 10%|████████████████▋                                                                                                                                               | 104/1000 [08:12<1:11:26,  4.78s/it]"
     ]
    },
    {
     "name": "stdout",
     "output_type": "stream",
     "text": [
      "Training Loss: 0.48455122156419617\n",
      "Validation Loss: 1.0486962940011706\n",
      "Training Accuracy of the network: 82 %\n",
      "Validation Accuracy of the network: 56 %\n",
      "EarlyStopping counter: 21 out of 50\n"
     ]
    },
    {
     "name": "stderr",
     "output_type": "stream",
     "text": [
      " 10%|████████████████▊                                                                                                                                               | 105/1000 [08:17<1:11:20,  4.78s/it]"
     ]
    },
    {
     "name": "stdout",
     "output_type": "stream",
     "text": [
      "Training Loss: 0.5081774088675561\n",
      "Validation Loss: 1.0552469721862248\n",
      "Training Accuracy of the network: 81 %\n",
      "Validation Accuracy of the network: 56 %\n",
      "EarlyStopping counter: 22 out of 50\n"
     ]
    },
    {
     "name": "stderr",
     "output_type": "stream",
     "text": [
      " 11%|████████████████▉                                                                                                                                               | 106/1000 [08:22<1:10:58,  4.76s/it]"
     ]
    },
    {
     "name": "stdout",
     "output_type": "stream",
     "text": [
      "Training Loss: 0.4973841850524363\n",
      "Validation Loss: 1.0465057568890708\n",
      "Training Accuracy of the network: 82 %\n",
      "Validation Accuracy of the network: 59 %\n",
      "EarlyStopping counter: 23 out of 50\n"
     ]
    },
    {
     "name": "stderr",
     "output_type": "stream",
     "text": [
      " 11%|█████████████████                                                                                                                                               | 107/1000 [08:27<1:11:16,  4.79s/it]"
     ]
    },
    {
     "name": "stdout",
     "output_type": "stream",
     "text": [
      "Training Loss: 0.4892559110092512\n",
      "Validation Loss: 1.0549515341009412\n",
      "Training Accuracy of the network: 82 %\n",
      "Validation Accuracy of the network: 56 %\n",
      "EarlyStopping counter: 24 out of 50\n"
     ]
    },
    {
     "name": "stderr",
     "output_type": "stream",
     "text": [
      " 11%|█████████████████▎                                                                                                                                              | 108/1000 [08:31<1:11:04,  4.78s/it]"
     ]
    },
    {
     "name": "stdout",
     "output_type": "stream",
     "text": [
      "Training Loss: 0.4904836308804975\n",
      "Validation Loss: 1.0539416875158036\n",
      "Training Accuracy of the network: 81 %\n",
      "Validation Accuracy of the network: 56 %\n",
      "EarlyStopping counter: 25 out of 50\n"
     ]
    },
    {
     "name": "stderr",
     "output_type": "stream",
     "text": [
      " 11%|█████████████████▍                                                                                                                                              | 109/1000 [08:36<1:11:05,  4.79s/it]"
     ]
    },
    {
     "name": "stdout",
     "output_type": "stream",
     "text": [
      "Training Loss: 0.4847703072903813\n",
      "Validation Loss: 1.0799760111740657\n",
      "Training Accuracy of the network: 82 %\n",
      "Validation Accuracy of the network: 55 %\n",
      "EarlyStopping counter: 26 out of 50\n"
     ]
    },
    {
     "name": "stderr",
     "output_type": "stream",
     "text": [
      " 11%|█████████████████▌                                                                                                                                              | 110/1000 [08:41<1:10:18,  4.74s/it]"
     ]
    },
    {
     "name": "stdout",
     "output_type": "stream",
     "text": [
      "Training Loss: 0.47997481886135496\n",
      "Validation Loss: 1.045394412960325\n",
      "Training Accuracy of the network: 83 %\n",
      "Validation Accuracy of the network: 58 %\n",
      "EarlyStopping counter: 27 out of 50\n"
     ]
    },
    {
     "name": "stderr",
     "output_type": "stream",
     "text": [
      " 11%|█████████████████▊                                                                                                                                              | 111/1000 [08:46<1:10:33,  4.76s/it]"
     ]
    },
    {
     "name": "stdout",
     "output_type": "stream",
     "text": [
      "Training Loss: 0.47436817862309405\n",
      "Validation Loss: 1.0562907040119172\n",
      "Training Accuracy of the network: 82 %\n",
      "Validation Accuracy of the network: 56 %\n",
      "EarlyStopping counter: 28 out of 50\n"
     ]
    },
    {
     "name": "stderr",
     "output_type": "stream",
     "text": [
      " 11%|█████████████████▉                                                                                                                                              | 112/1000 [08:50<1:10:40,  4.78s/it]"
     ]
    },
    {
     "name": "stdout",
     "output_type": "stream",
     "text": [
      "Training Loss: 0.47332832389983576\n",
      "Validation Loss: 1.0257340592997415\n",
      "Training Accuracy of the network: 83 %\n",
      "Validation Accuracy of the network: 58 %\n",
      "EarlyStopping counter: 29 out of 50\n"
     ]
    },
    {
     "name": "stderr",
     "output_type": "stream",
     "text": [
      " 11%|██████████████████                                                                                                                                              | 113/1000 [08:55<1:10:58,  4.80s/it]"
     ]
    },
    {
     "name": "stdout",
     "output_type": "stream",
     "text": [
      "Training Loss: 0.46673401132010034\n",
      "Validation Loss: 1.0708082377910615\n",
      "Training Accuracy of the network: 83 %\n",
      "Validation Accuracy of the network: 55 %\n",
      "EarlyStopping counter: 30 out of 50\n"
     ]
    },
    {
     "name": "stderr",
     "output_type": "stream",
     "text": [
      " 11%|██████████████████▏                                                                                                                                             | 114/1000 [09:00<1:10:08,  4.75s/it]"
     ]
    },
    {
     "name": "stdout",
     "output_type": "stream",
     "text": [
      "Training Loss: 0.47621508541962376\n",
      "Validation Loss: 1.047971178804125\n",
      "Training Accuracy of the network: 83 %\n",
      "Validation Accuracy of the network: 56 %\n",
      "EarlyStopping counter: 31 out of 50\n"
     ]
    },
    {
     "name": "stderr",
     "output_type": "stream",
     "text": [
      " 12%|██████████████████▍                                                                                                                                             | 115/1000 [09:05<1:09:58,  4.74s/it]"
     ]
    },
    {
     "name": "stdout",
     "output_type": "stream",
     "text": [
      "Training Loss: 0.45692804652819596\n",
      "Validation Loss: 1.0616828075477056\n",
      "Training Accuracy of the network: 84 %\n",
      "Validation Accuracy of the network: 55 %\n",
      "EarlyStopping counter: 32 out of 50\n"
     ]
    },
    {
     "name": "stderr",
     "output_type": "stream",
     "text": [
      " 12%|██████████████████▌                                                                                                                                             | 116/1000 [09:09<1:10:18,  4.77s/it]"
     ]
    },
    {
     "name": "stdout",
     "output_type": "stream",
     "text": [
      "Training Loss: 0.4767888787647952\n",
      "Validation Loss: 1.0559508749416897\n",
      "Training Accuracy of the network: 83 %\n",
      "Validation Accuracy of the network: 56 %\n",
      "EarlyStopping counter: 33 out of 50\n"
     ]
    },
    {
     "name": "stderr",
     "output_type": "stream",
     "text": [
      " 12%|██████████████████▋                                                                                                                                             | 117/1000 [09:14<1:09:55,  4.75s/it]"
     ]
    },
    {
     "name": "stdout",
     "output_type": "stream",
     "text": [
      "Training Loss: 0.4644771534949541\n",
      "Validation Loss: 1.1127548728670393\n",
      "Training Accuracy of the network: 83 %\n",
      "Validation Accuracy of the network: 55 %\n",
      "EarlyStopping counter: 34 out of 50\n"
     ]
    },
    {
     "name": "stderr",
     "output_type": "stream",
     "text": [
      " 12%|██████████████████▉                                                                                                                                             | 118/1000 [09:19<1:09:20,  4.72s/it]"
     ]
    },
    {
     "name": "stdout",
     "output_type": "stream",
     "text": [
      "Training Loss: 0.4559542707073084\n",
      "Validation Loss: 1.061902610744749\n",
      "Training Accuracy of the network: 84 %\n",
      "Validation Accuracy of the network: 56 %\n",
      "EarlyStopping counter: 35 out of 50\n"
     ]
    },
    {
     "name": "stderr",
     "output_type": "stream",
     "text": [
      " 12%|███████████████████                                                                                                                                             | 119/1000 [09:23<1:08:57,  4.70s/it]"
     ]
    },
    {
     "name": "stdout",
     "output_type": "stream",
     "text": [
      "Training Loss: 0.4713365450447452\n",
      "Validation Loss: 1.0849562321390425\n",
      "Training Accuracy of the network: 83 %\n",
      "Validation Accuracy of the network: 55 %\n",
      "EarlyStopping counter: 36 out of 50\n"
     ]
    },
    {
     "name": "stderr",
     "output_type": "stream",
     "text": [
      " 12%|███████████████████▏                                                                                                                                            | 120/1000 [09:28<1:09:13,  4.72s/it]"
     ]
    },
    {
     "name": "stdout",
     "output_type": "stream",
     "text": [
      "Training Loss: 0.4313053130779577\n",
      "Validation Loss: 1.0421311608382633\n",
      "Training Accuracy of the network: 84 %\n",
      "Validation Accuracy of the network: 57 %\n",
      "EarlyStopping counter: 37 out of 50\n"
     ]
    },
    {
     "name": "stderr",
     "output_type": "stream",
     "text": [
      " 12%|███████████████████▎                                                                                                                                            | 121/1000 [09:33<1:09:42,  4.76s/it]"
     ]
    },
    {
     "name": "stdout",
     "output_type": "stream",
     "text": [
      "Training Loss: 0.45134343139395333\n",
      "Validation Loss: 1.0609555218900952\n",
      "Training Accuracy of the network: 84 %\n",
      "Validation Accuracy of the network: 56 %\n",
      "EarlyStopping counter: 38 out of 50\n"
     ]
    },
    {
     "name": "stderr",
     "output_type": "stream",
     "text": [
      " 12%|███████████████████▌                                                                                                                                            | 122/1000 [09:38<1:09:08,  4.73s/it]"
     ]
    },
    {
     "name": "stdout",
     "output_type": "stream",
     "text": [
      "Training Loss: 0.4559419320329376\n",
      "Validation Loss: 1.0638507110731943\n",
      "Training Accuracy of the network: 83 %\n",
      "Validation Accuracy of the network: 55 %\n",
      "EarlyStopping counter: 39 out of 50\n"
     ]
    },
    {
     "name": "stderr",
     "output_type": "stream",
     "text": [
      " 12%|███████████████████▋                                                                                                                                            | 123/1000 [09:42<1:09:07,  4.73s/it]"
     ]
    },
    {
     "name": "stdout",
     "output_type": "stream",
     "text": [
      "Training Loss: 0.4592643014114836\n",
      "Validation Loss: 1.0455525304589952\n",
      "Training Accuracy of the network: 84 %\n",
      "Validation Accuracy of the network: 54 %\n",
      "EarlyStopping counter: 40 out of 50\n"
     ]
    },
    {
     "name": "stderr",
     "output_type": "stream",
     "text": [
      " 12%|███████████████████▊                                                                                                                                            | 124/1000 [09:47<1:09:12,  4.74s/it]"
     ]
    },
    {
     "name": "stdout",
     "output_type": "stream",
     "text": [
      "Training Loss: 0.44737396454033646\n",
      "Validation Loss: 1.0609100946358272\n",
      "Training Accuracy of the network: 85 %\n",
      "Validation Accuracy of the network: 56 %\n",
      "EarlyStopping counter: 41 out of 50\n"
     ]
    },
    {
     "name": "stderr",
     "output_type": "stream",
     "text": [
      " 12%|████████████████████                                                                                                                                            | 125/1000 [09:52<1:08:43,  4.71s/it]"
     ]
    },
    {
     "name": "stdout",
     "output_type": "stream",
     "text": [
      "Training Loss: 0.4370153385983861\n",
      "Validation Loss: 1.082265612908772\n",
      "Training Accuracy of the network: 85 %\n",
      "Validation Accuracy of the network: 54 %\n",
      "EarlyStopping counter: 42 out of 50\n"
     ]
    },
    {
     "name": "stderr",
     "output_type": "stream",
     "text": [
      " 13%|████████████████████▏                                                                                                                                           | 126/1000 [09:57<1:08:32,  4.71s/it]"
     ]
    },
    {
     "name": "stdout",
     "output_type": "stream",
     "text": [
      "Training Loss: 0.4505873480136844\n",
      "Validation Loss: 1.0572882507528578\n",
      "Training Accuracy of the network: 83 %\n",
      "Validation Accuracy of the network: 57 %\n",
      "EarlyStopping counter: 43 out of 50\n"
     ]
    },
    {
     "name": "stderr",
     "output_type": "stream",
     "text": [
      " 13%|████████████████████▎                                                                                                                                           | 127/1000 [10:01<1:08:58,  4.74s/it]"
     ]
    },
    {
     "name": "stdout",
     "output_type": "stream",
     "text": [
      "Training Loss: 0.43419374058536\n",
      "Validation Loss: 1.0526130727359226\n",
      "Training Accuracy of the network: 85 %\n",
      "Validation Accuracy of the network: 55 %\n",
      "EarlyStopping counter: 44 out of 50\n"
     ]
    },
    {
     "name": "stderr",
     "output_type": "stream",
     "text": [
      " 13%|████████████████████▍                                                                                                                                           | 128/1000 [10:06<1:08:59,  4.75s/it]"
     ]
    },
    {
     "name": "stdout",
     "output_type": "stream",
     "text": [
      "Training Loss: 0.43139141927594726\n",
      "Validation Loss: 1.0726819285324642\n",
      "Training Accuracy of the network: 85 %\n",
      "Validation Accuracy of the network: 56 %\n",
      "EarlyStopping counter: 45 out of 50\n"
     ]
    },
    {
     "name": "stderr",
     "output_type": "stream",
     "text": [
      " 13%|████████████████████▋                                                                                                                                           | 129/1000 [10:11<1:07:51,  4.67s/it]"
     ]
    },
    {
     "name": "stdout",
     "output_type": "stream",
     "text": [
      "Training Loss: 0.40805213096673076\n",
      "Validation Loss: 1.046324895109449\n",
      "Training Accuracy of the network: 86 %\n",
      "Validation Accuracy of the network: 57 %\n",
      "EarlyStopping counter: 46 out of 50\n"
     ]
    },
    {
     "name": "stderr",
     "output_type": "stream",
     "text": [
      " 13%|████████████████████▊                                                                                                                                           | 130/1000 [10:15<1:07:56,  4.69s/it]"
     ]
    },
    {
     "name": "stdout",
     "output_type": "stream",
     "text": [
      "Training Loss: 0.4367623333481775\n",
      "Validation Loss: 1.0727735272475651\n",
      "Training Accuracy of the network: 84 %\n",
      "Validation Accuracy of the network: 56 %\n",
      "EarlyStopping counter: 47 out of 50\n"
     ]
    },
    {
     "name": "stderr",
     "output_type": "stream",
     "text": [
      " 13%|████████████████████▉                                                                                                                                           | 131/1000 [10:20<1:08:25,  4.72s/it]"
     ]
    },
    {
     "name": "stdout",
     "output_type": "stream",
     "text": [
      "Training Loss: 0.4198238964637984\n",
      "Validation Loss: 1.088266341175352\n",
      "Training Accuracy of the network: 85 %\n",
      "Validation Accuracy of the network: 56 %\n",
      "EarlyStopping counter: 48 out of 50\n"
     ]
    },
    {
     "name": "stderr",
     "output_type": "stream",
     "text": [
      " 13%|█████████████████████                                                                                                                                           | 132/1000 [10:25<1:08:32,  4.74s/it]"
     ]
    },
    {
     "name": "stdout",
     "output_type": "stream",
     "text": [
      "Training Loss: 0.4062225274957608\n",
      "Validation Loss: 1.0792910618441445\n",
      "Training Accuracy of the network: 85 %\n",
      "Validation Accuracy of the network: 55 %\n",
      "EarlyStopping counter: 49 out of 50\n"
     ]
    },
    {
     "name": "stderr",
     "output_type": "stream",
     "text": [
      " 13%|█████████████████████                                                                                                                                           | 132/1000 [10:30<1:09:03,  4.77s/it]\n"
     ]
    },
    {
     "name": "stdout",
     "output_type": "stream",
     "text": [
      "Training Loss: 0.4126205646797367\n",
      "Validation Loss: 1.1040597362177713\n",
      "Training Accuracy of the network: 86 %\n",
      "Validation Accuracy of the network: 55 %\n",
      "EarlyStopping counter: 50 out of 50\n",
      "Early Stopping\n"
     ]
    },
    {
     "name": "stderr",
     "output_type": "stream",
     "text": [
      "100%|███████████████████████████████████████████████████████████████████████████████████████████████████████████████████████████████████████████████████████████████████████| 1/1 [00:00<00:00,  5.64it/s]\n"
     ]
    },
    {
     "name": "stdout",
     "output_type": "stream",
     "text": [
      "Extra Training Loss: 1.1770359403811967\n",
      "Extra Training Accuracy of the network: 61 %\n",
      "Extra Testing Loss: 1.175408959388733\n",
      "Extra Testing Accuracy of the network: 50 %\n"
     ]
    },
    {
     "name": "stderr",
     "output_type": "stream",
     "text": [
      "  0%|▏                                                                                                                                                                 | 1/1000 [00:04<1:20:16,  4.82s/it]"
     ]
    },
    {
     "name": "stdout",
     "output_type": "stream",
     "text": [
      "Training Loss: 1.560025289438773\n",
      "Validation Loss: 1.415913929258074\n",
      "Training Accuracy of the network: 25 %\n",
      "Validation Accuracy of the network: 24 %\n",
      "Validation loss decreased (inf --> 1.415914).  Saving model ...\n"
     ]
    },
    {
     "name": "stderr",
     "output_type": "stream",
     "text": [
      "  0%|▎                                                                                                                                                                 | 2/1000 [00:09<1:17:48,  4.68s/it]"
     ]
    },
    {
     "name": "stdout",
     "output_type": "stream",
     "text": [
      "Training Loss: 1.5375245489935945\n",
      "Validation Loss: 1.3986293758664812\n",
      "Training Accuracy of the network: 26 %\n",
      "Validation Accuracy of the network: 27 %\n",
      "Validation loss decreased (1.415914 --> 1.398629).  Saving model ...\n"
     ]
    },
    {
     "name": "stderr",
     "output_type": "stream",
     "text": [
      "  0%|▍                                                                                                                                                                 | 3/1000 [00:14<1:19:29,  4.78s/it]"
     ]
    },
    {
     "name": "stdout",
     "output_type": "stream",
     "text": [
      "Training Loss: 1.49159690608149\n",
      "Validation Loss: 1.385707872254508\n",
      "Training Accuracy of the network: 27 %\n",
      "Validation Accuracy of the network: 28 %\n",
      "Validation loss decreased (1.398629 --> 1.385708).  Saving model ...\n"
     ]
    },
    {
     "name": "stderr",
     "output_type": "stream",
     "text": [
      "  0%|▋                                                                                                                                                                 | 4/1000 [00:19<1:18:50,  4.75s/it]"
     ]
    },
    {
     "name": "stdout",
     "output_type": "stream",
     "text": [
      "Training Loss: 1.4624771182087883\n",
      "Validation Loss: 1.3659268038613455\n",
      "Training Accuracy of the network: 27 %\n",
      "Validation Accuracy of the network: 30 %\n",
      "Validation loss decreased (1.385708 --> 1.365927).  Saving model ...\n"
     ]
    },
    {
     "name": "stderr",
     "output_type": "stream",
     "text": [
      "  0%|▊                                                                                                                                                                 | 5/1000 [00:23<1:18:29,  4.73s/it]"
     ]
    },
    {
     "name": "stdout",
     "output_type": "stream",
     "text": [
      "Training Loss: 1.4205391571141672\n",
      "Validation Loss: 1.3644709927695138\n",
      "Training Accuracy of the network: 32 %\n",
      "Validation Accuracy of the network: 30 %\n",
      "Validation loss decreased (1.365927 --> 1.364471).  Saving model ...\n"
     ]
    },
    {
     "name": "stderr",
     "output_type": "stream",
     "text": [
      "  1%|▉                                                                                                                                                                 | 6/1000 [00:28<1:18:06,  4.72s/it]"
     ]
    },
    {
     "name": "stdout",
     "output_type": "stream",
     "text": [
      "Training Loss: 1.3940352771593176\n",
      "Validation Loss: 1.34961382320949\n",
      "Training Accuracy of the network: 34 %\n",
      "Validation Accuracy of the network: 32 %\n",
      "Validation loss decreased (1.364471 --> 1.349614).  Saving model ...\n"
     ]
    },
    {
     "name": "stderr",
     "output_type": "stream",
     "text": [
      "  1%|█▏                                                                                                                                                                | 7/1000 [00:33<1:18:24,  4.74s/it]"
     ]
    },
    {
     "name": "stdout",
     "output_type": "stream",
     "text": [
      "Training Loss: 1.3784537842308267\n",
      "Validation Loss: 1.33061614717756\n",
      "Training Accuracy of the network: 34 %\n",
      "Validation Accuracy of the network: 37 %\n",
      "Validation loss decreased (1.349614 --> 1.330616).  Saving model ...\n"
     ]
    },
    {
     "name": "stderr",
     "output_type": "stream",
     "text": [
      "  1%|█▎                                                                                                                                                                | 8/1000 [00:38<1:19:21,  4.80s/it]"
     ]
    },
    {
     "name": "stdout",
     "output_type": "stream",
     "text": [
      "Training Loss: 1.349005357078884\n",
      "Validation Loss: 1.3105916295732771\n",
      "Training Accuracy of the network: 34 %\n",
      "Validation Accuracy of the network: 39 %\n",
      "Validation loss decreased (1.330616 --> 1.310592).  Saving model ...\n"
     ]
    },
    {
     "name": "stderr",
     "output_type": "stream",
     "text": [
      "  1%|█▍                                                                                                                                                                | 9/1000 [00:42<1:18:46,  4.77s/it]"
     ]
    },
    {
     "name": "stdout",
     "output_type": "stream",
     "text": [
      "Training Loss: 1.3296953487223473\n",
      "Validation Loss: 1.3059506961277554\n",
      "Training Accuracy of the network: 38 %\n",
      "Validation Accuracy of the network: 38 %\n",
      "Validation loss decreased (1.310592 --> 1.305951).  Saving model ...\n"
     ]
    },
    {
     "name": "stderr",
     "output_type": "stream",
     "text": [
      "  1%|█▌                                                                                                                                                               | 10/1000 [00:47<1:19:21,  4.81s/it]"
     ]
    },
    {
     "name": "stdout",
     "output_type": "stream",
     "text": [
      "Training Loss: 1.2919487728588823\n",
      "Validation Loss: 1.2983287777219499\n",
      "Training Accuracy of the network: 40 %\n",
      "Validation Accuracy of the network: 39 %\n",
      "Validation loss decreased (1.305951 --> 1.298329).  Saving model ...\n"
     ]
    },
    {
     "name": "stderr",
     "output_type": "stream",
     "text": [
      "  1%|█▊                                                                                                                                                               | 11/1000 [00:52<1:19:02,  4.80s/it]"
     ]
    },
    {
     "name": "stdout",
     "output_type": "stream",
     "text": [
      "Training Loss: 1.2792918509331301\n",
      "Validation Loss: 1.2804623978478569\n",
      "Training Accuracy of the network: 41 %\n",
      "Validation Accuracy of the network: 39 %\n",
      "Validation loss decreased (1.298329 --> 1.280462).  Saving model ...\n"
     ]
    },
    {
     "name": "stderr",
     "output_type": "stream",
     "text": [
      "  1%|█▉                                                                                                                                                               | 12/1000 [00:57<1:18:30,  4.77s/it]"
     ]
    },
    {
     "name": "stdout",
     "output_type": "stream",
     "text": [
      "Training Loss: 1.2624795691690582\n",
      "Validation Loss: 1.2785781179155622\n",
      "Training Accuracy of the network: 42 %\n",
      "Validation Accuracy of the network: 37 %\n",
      "Validation loss decreased (1.280462 --> 1.278578).  Saving model ...\n"
     ]
    },
    {
     "name": "stderr",
     "output_type": "stream",
     "text": [
      "  1%|██                                                                                                                                                               | 13/1000 [01:01<1:17:48,  4.73s/it]"
     ]
    },
    {
     "name": "stdout",
     "output_type": "stream",
     "text": [
      "Training Loss: 1.2506996699865314\n",
      "Validation Loss: 1.2689843586512974\n",
      "Training Accuracy of the network: 44 %\n",
      "Validation Accuracy of the network: 39 %\n",
      "Validation loss decreased (1.278578 --> 1.268984).  Saving model ...\n"
     ]
    },
    {
     "name": "stderr",
     "output_type": "stream",
     "text": [
      "  1%|██▎                                                                                                                                                              | 14/1000 [01:06<1:18:09,  4.76s/it]"
     ]
    },
    {
     "name": "stdout",
     "output_type": "stream",
     "text": [
      "Training Loss: 1.2401553379452748\n",
      "Validation Loss: 1.2563296011516025\n",
      "Training Accuracy of the network: 44 %\n",
      "Validation Accuracy of the network: 40 %\n",
      "Validation loss decreased (1.268984 --> 1.256330).  Saving model ...\n"
     ]
    },
    {
     "name": "stderr",
     "output_type": "stream",
     "text": [
      "  2%|██▍                                                                                                                                                              | 15/1000 [01:11<1:17:54,  4.75s/it]"
     ]
    },
    {
     "name": "stdout",
     "output_type": "stream",
     "text": [
      "Training Loss: 1.2176962395509083\n",
      "Validation Loss: 1.2534938505717685\n",
      "Training Accuracy of the network: 46 %\n",
      "Validation Accuracy of the network: 38 %\n",
      "Validation loss decreased (1.256330 --> 1.253494).  Saving model ...\n"
     ]
    },
    {
     "name": "stderr",
     "output_type": "stream",
     "text": [
      "  2%|██▌                                                                                                                                                              | 16/1000 [01:16<1:17:21,  4.72s/it]"
     ]
    },
    {
     "name": "stdout",
     "output_type": "stream",
     "text": [
      "Training Loss: 1.2073589844116266\n",
      "Validation Loss: 1.2469124214989797\n",
      "Training Accuracy of the network: 47 %\n",
      "Validation Accuracy of the network: 38 %\n",
      "Validation loss decreased (1.253494 --> 1.246912).  Saving model ...\n"
     ]
    },
    {
     "name": "stderr",
     "output_type": "stream",
     "text": [
      "  2%|██▋                                                                                                                                                              | 17/1000 [01:20<1:16:37,  4.68s/it]"
     ]
    },
    {
     "name": "stdout",
     "output_type": "stream",
     "text": [
      "Training Loss: 1.1992472090582917\n",
      "Validation Loss: 1.2384677682604108\n",
      "Training Accuracy of the network: 48 %\n",
      "Validation Accuracy of the network: 41 %\n",
      "Validation loss decreased (1.246912 --> 1.238468).  Saving model ...\n"
     ]
    },
    {
     "name": "stderr",
     "output_type": "stream",
     "text": [
      "  2%|██▉                                                                                                                                                              | 18/1000 [01:25<1:16:56,  4.70s/it]"
     ]
    },
    {
     "name": "stdout",
     "output_type": "stream",
     "text": [
      "Training Loss: 1.1809531022673068\n",
      "Validation Loss: 1.2420305354254586\n",
      "Training Accuracy of the network: 48 %\n",
      "Validation Accuracy of the network: 40 %\n",
      "EarlyStopping counter: 1 out of 50\n"
     ]
    },
    {
     "name": "stderr",
     "output_type": "stream",
     "text": [
      "  2%|███                                                                                                                                                              | 19/1000 [01:29<1:16:12,  4.66s/it]"
     ]
    },
    {
     "name": "stdout",
     "output_type": "stream",
     "text": [
      "Training Loss: 1.1746660561665245\n",
      "Validation Loss: 1.2312635966709682\n",
      "Training Accuracy of the network: 49 %\n",
      "Validation Accuracy of the network: 41 %\n",
      "Validation loss decreased (1.238468 --> 1.231264).  Saving model ...\n"
     ]
    },
    {
     "name": "stderr",
     "output_type": "stream",
     "text": [
      "  2%|███▏                                                                                                                                                             | 20/1000 [01:34<1:16:46,  4.70s/it]"
     ]
    },
    {
     "name": "stdout",
     "output_type": "stream",
     "text": [
      "Training Loss: 1.1526964725791544\n",
      "Validation Loss: 1.2269915682928902\n",
      "Training Accuracy of the network: 51 %\n",
      "Validation Accuracy of the network: 42 %\n",
      "Validation loss decreased (1.231264 --> 1.226992).  Saving model ...\n"
     ]
    },
    {
     "name": "stderr",
     "output_type": "stream",
     "text": [
      "  2%|███▍                                                                                                                                                             | 21/1000 [01:39<1:16:51,  4.71s/it]"
     ]
    },
    {
     "name": "stdout",
     "output_type": "stream",
     "text": [
      "Training Loss: 1.150493039601091\n",
      "Validation Loss: 1.2213074598993574\n",
      "Training Accuracy of the network: 50 %\n",
      "Validation Accuracy of the network: 41 %\n",
      "Validation loss decreased (1.226992 --> 1.221307).  Saving model ...\n"
     ]
    },
    {
     "name": "stderr",
     "output_type": "stream",
     "text": [
      "  2%|███▌                                                                                                                                                             | 22/1000 [01:44<1:17:22,  4.75s/it]"
     ]
    },
    {
     "name": "stdout",
     "output_type": "stream",
     "text": [
      "Training Loss: 1.1282582831555519\n",
      "Validation Loss: 1.2275460277284895\n",
      "Training Accuracy of the network: 53 %\n",
      "Validation Accuracy of the network: 41 %\n",
      "EarlyStopping counter: 1 out of 50\n"
     ]
    },
    {
     "name": "stderr",
     "output_type": "stream",
     "text": [
      "  2%|███▋                                                                                                                                                             | 23/1000 [01:48<1:17:04,  4.73s/it]"
     ]
    },
    {
     "name": "stdout",
     "output_type": "stream",
     "text": [
      "Training Loss: 1.123256510582523\n",
      "Validation Loss: 1.2053802302905492\n",
      "Training Accuracy of the network: 52 %\n",
      "Validation Accuracy of the network: 42 %\n",
      "Validation loss decreased (1.221307 --> 1.205380).  Saving model ...\n"
     ]
    },
    {
     "name": "stderr",
     "output_type": "stream",
     "text": [
      "  2%|███▊                                                                                                                                                             | 24/1000 [01:53<1:16:16,  4.69s/it]"
     ]
    },
    {
     "name": "stdout",
     "output_type": "stream",
     "text": [
      "Training Loss: 1.0969255795513375\n",
      "Validation Loss: 1.192168492930276\n",
      "Training Accuracy of the network: 55 %\n",
      "Validation Accuracy of the network: 43 %\n",
      "Validation loss decreased (1.205380 --> 1.192168).  Saving model ...\n"
     ]
    },
    {
     "name": "stderr",
     "output_type": "stream",
     "text": [
      "  2%|████                                                                                                                                                             | 25/1000 [01:58<1:16:58,  4.74s/it]"
     ]
    },
    {
     "name": "stdout",
     "output_type": "stream",
     "text": [
      "Training Loss: 1.081654388403547\n",
      "Validation Loss: 1.192672712462289\n",
      "Training Accuracy of the network: 55 %\n",
      "Validation Accuracy of the network: 43 %\n",
      "EarlyStopping counter: 1 out of 50\n"
     ]
    },
    {
     "name": "stderr",
     "output_type": "stream",
     "text": [
      "  3%|████▏                                                                                                                                                            | 26/1000 [02:03<1:17:18,  4.76s/it]"
     ]
    },
    {
     "name": "stdout",
     "output_type": "stream",
     "text": [
      "Training Loss: 1.0730173695778502\n",
      "Validation Loss: 1.1796379821641105\n",
      "Training Accuracy of the network: 57 %\n",
      "Validation Accuracy of the network: 46 %\n",
      "Validation loss decreased (1.192168 --> 1.179638).  Saving model ...\n"
     ]
    },
    {
     "name": "stderr",
     "output_type": "stream",
     "text": [
      "  3%|████▎                                                                                                                                                            | 27/1000 [02:07<1:16:53,  4.74s/it]"
     ]
    },
    {
     "name": "stdout",
     "output_type": "stream",
     "text": [
      "Training Loss: 1.0587564283523008\n",
      "Validation Loss: 1.1823442237717765\n",
      "Training Accuracy of the network: 56 %\n",
      "Validation Accuracy of the network: 47 %\n",
      "EarlyStopping counter: 1 out of 50\n"
     ]
    },
    {
     "name": "stderr",
     "output_type": "stream",
     "text": [
      "  3%|████▌                                                                                                                                                            | 28/1000 [02:12<1:15:49,  4.68s/it]"
     ]
    },
    {
     "name": "stdout",
     "output_type": "stream",
     "text": [
      "Training Loss: 1.0443965775379236\n",
      "Validation Loss: 1.1788135358265468\n",
      "Training Accuracy of the network: 58 %\n",
      "Validation Accuracy of the network: 44 %\n",
      "Validation loss decreased (1.179638 --> 1.178814).  Saving model ...\n"
     ]
    },
    {
     "name": "stderr",
     "output_type": "stream",
     "text": [
      "  3%|████▋                                                                                                                                                            | 29/1000 [02:17<1:15:31,  4.67s/it]"
     ]
    },
    {
     "name": "stdout",
     "output_type": "stream",
     "text": [
      "Training Loss: 1.0347820710444795\n",
      "Validation Loss: 1.177325907775334\n",
      "Training Accuracy of the network: 58 %\n",
      "Validation Accuracy of the network: 46 %\n",
      "Validation loss decreased (1.178814 --> 1.177326).  Saving model ...\n"
     ]
    },
    {
     "name": "stderr",
     "output_type": "stream",
     "text": [
      "  3%|████▊                                                                                                                                                            | 30/1000 [02:21<1:15:56,  4.70s/it]"
     ]
    },
    {
     "name": "stdout",
     "output_type": "stream",
     "text": [
      "Training Loss: 1.0286041256310283\n",
      "Validation Loss: 1.1578621659960067\n",
      "Training Accuracy of the network: 60 %\n",
      "Validation Accuracy of the network: 46 %\n",
      "Validation loss decreased (1.177326 --> 1.157862).  Saving model ...\n"
     ]
    },
    {
     "name": "stderr",
     "output_type": "stream",
     "text": [
      "  3%|████▉                                                                                                                                                            | 31/1000 [02:26<1:15:40,  4.69s/it]"
     ]
    },
    {
     "name": "stdout",
     "output_type": "stream",
     "text": [
      "Training Loss: 1.0174333060133285\n",
      "Validation Loss: 1.153554880619049\n",
      "Training Accuracy of the network: 60 %\n",
      "Validation Accuracy of the network: 47 %\n",
      "Validation loss decreased (1.157862 --> 1.153555).  Saving model ...\n"
     ]
    },
    {
     "name": "stderr",
     "output_type": "stream",
     "text": [
      "  3%|█████▏                                                                                                                                                           | 32/1000 [02:31<1:15:54,  4.70s/it]"
     ]
    },
    {
     "name": "stdout",
     "output_type": "stream",
     "text": [
      "Training Loss: 0.9917962166710176\n",
      "Validation Loss: 1.1425592984472002\n",
      "Training Accuracy of the network: 62 %\n",
      "Validation Accuracy of the network: 46 %\n",
      "Validation loss decreased (1.153555 --> 1.142559).  Saving model ...\n"
     ]
    },
    {
     "name": "stderr",
     "output_type": "stream",
     "text": [
      "  3%|█████▎                                                                                                                                                           | 33/1000 [02:36<1:16:23,  4.74s/it]"
     ]
    },
    {
     "name": "stdout",
     "output_type": "stream",
     "text": [
      "Training Loss: 0.977535933688067\n",
      "Validation Loss: 1.141726267337799\n",
      "Training Accuracy of the network: 62 %\n",
      "Validation Accuracy of the network: 46 %\n",
      "Validation loss decreased (1.142559 --> 1.141726).  Saving model ...\n"
     ]
    },
    {
     "name": "stderr",
     "output_type": "stream",
     "text": [
      "  3%|█████▍                                                                                                                                                           | 34/1000 [02:40<1:15:59,  4.72s/it]"
     ]
    },
    {
     "name": "stdout",
     "output_type": "stream",
     "text": [
      "Training Loss: 0.974381799283235\n",
      "Validation Loss: 1.1333529131753104\n",
      "Training Accuracy of the network: 61 %\n",
      "Validation Accuracy of the network: 48 %\n",
      "Validation loss decreased (1.141726 --> 1.133353).  Saving model ...\n"
     ]
    },
    {
     "name": "stderr",
     "output_type": "stream",
     "text": [
      "  4%|█████▋                                                                                                                                                           | 35/1000 [02:45<1:14:58,  4.66s/it]"
     ]
    },
    {
     "name": "stdout",
     "output_type": "stream",
     "text": [
      "Training Loss: 0.9481791910054027\n",
      "Validation Loss: 1.1196510110582625\n",
      "Training Accuracy of the network: 63 %\n",
      "Validation Accuracy of the network: 51 %\n",
      "Validation loss decreased (1.133353 --> 1.119651).  Saving model ...\n"
     ]
    },
    {
     "name": "stderr",
     "output_type": "stream",
     "text": [
      "  4%|█████▊                                                                                                                                                           | 36/1000 [02:50<1:15:28,  4.70s/it]"
     ]
    },
    {
     "name": "stdout",
     "output_type": "stream",
     "text": [
      "Training Loss: 0.9385698446329089\n",
      "Validation Loss: 1.1143977761268615\n",
      "Training Accuracy of the network: 64 %\n",
      "Validation Accuracy of the network: 50 %\n",
      "Validation loss decreased (1.119651 --> 1.114398).  Saving model ...\n"
     ]
    },
    {
     "name": "stderr",
     "output_type": "stream",
     "text": [
      "  4%|█████▉                                                                                                                                                           | 37/1000 [02:54<1:15:22,  4.70s/it]"
     ]
    },
    {
     "name": "stdout",
     "output_type": "stream",
     "text": [
      "Training Loss: 0.9248553514480591\n",
      "Validation Loss: 1.1204466462135314\n",
      "Training Accuracy of the network: 65 %\n",
      "Validation Accuracy of the network: 49 %\n",
      "EarlyStopping counter: 1 out of 50\n"
     ]
    },
    {
     "name": "stderr",
     "output_type": "stream",
     "text": [
      "  4%|██████                                                                                                                                                           | 38/1000 [02:59<1:14:49,  4.67s/it]"
     ]
    },
    {
     "name": "stdout",
     "output_type": "stream",
     "text": [
      "Training Loss: 0.9299061078092327\n",
      "Validation Loss: 1.1181293453489032\n",
      "Training Accuracy of the network: 64 %\n",
      "Validation Accuracy of the network: 50 %\n",
      "EarlyStopping counter: 2 out of 50\n"
     ]
    },
    {
     "name": "stderr",
     "output_type": "stream",
     "text": [
      "  4%|██████▎                                                                                                                                                          | 39/1000 [03:04<1:15:21,  4.71s/it]"
     ]
    },
    {
     "name": "stdout",
     "output_type": "stream",
     "text": [
      "Training Loss: 0.8924575543058091\n",
      "Validation Loss: 1.1104696699551173\n",
      "Training Accuracy of the network: 66 %\n",
      "Validation Accuracy of the network: 51 %\n",
      "Validation loss decreased (1.114398 --> 1.110470).  Saving model ...\n"
     ]
    },
    {
     "name": "stderr",
     "output_type": "stream",
     "text": [
      "  4%|██████▍                                                                                                                                                          | 40/1000 [03:09<1:16:40,  4.79s/it]"
     ]
    },
    {
     "name": "stdout",
     "output_type": "stream",
     "text": [
      "Training Loss: 0.900255024433136\n",
      "Validation Loss: 1.1104054161480494\n",
      "Training Accuracy of the network: 66 %\n",
      "Validation Accuracy of the network: 50 %\n",
      "Validation loss decreased (1.110470 --> 1.110405).  Saving model ...\n"
     ]
    },
    {
     "name": "stderr",
     "output_type": "stream",
     "text": [
      "  4%|██████▌                                                                                                                                                          | 41/1000 [03:13<1:16:48,  4.81s/it]"
     ]
    },
    {
     "name": "stdout",
     "output_type": "stream",
     "text": [
      "Training Loss: 0.8694719659245532\n",
      "Validation Loss: 1.104272096497672\n",
      "Training Accuracy of the network: 67 %\n",
      "Validation Accuracy of the network: 52 %\n",
      "Validation loss decreased (1.110405 --> 1.104272).  Saving model ...\n"
     ]
    },
    {
     "name": "stderr",
     "output_type": "stream",
     "text": [
      "  4%|██████▊                                                                                                                                                          | 42/1000 [03:18<1:16:20,  4.78s/it]"
     ]
    },
    {
     "name": "stdout",
     "output_type": "stream",
     "text": [
      "Training Loss: 0.8822696010271708\n",
      "Validation Loss: 1.101136347225734\n",
      "Training Accuracy of the network: 65 %\n",
      "Validation Accuracy of the network: 51 %\n",
      "Validation loss decreased (1.104272 --> 1.101136).  Saving model ...\n"
     ]
    },
    {
     "name": "stderr",
     "output_type": "stream",
     "text": [
      "  4%|██████▉                                                                                                                                                          | 43/1000 [03:23<1:16:03,  4.77s/it]"
     ]
    },
    {
     "name": "stdout",
     "output_type": "stream",
     "text": [
      "Training Loss: 0.8672511223433674\n",
      "Validation Loss: 1.1077038168907165\n",
      "Training Accuracy of the network: 66 %\n",
      "Validation Accuracy of the network: 49 %\n",
      "EarlyStopping counter: 1 out of 50\n"
     ]
    },
    {
     "name": "stderr",
     "output_type": "stream",
     "text": [
      "  4%|███████                                                                                                                                                          | 44/1000 [03:28<1:16:10,  4.78s/it]"
     ]
    },
    {
     "name": "stdout",
     "output_type": "stream",
     "text": [
      "Training Loss: 0.8596386389024016\n",
      "Validation Loss: 1.0941853829792567\n",
      "Training Accuracy of the network: 68 %\n",
      "Validation Accuracy of the network: 51 %\n",
      "Validation loss decreased (1.101136 --> 1.094185).  Saving model ...\n"
     ]
    },
    {
     "name": "stderr",
     "output_type": "stream",
     "text": [
      "  4%|███████▏                                                                                                                                                         | 45/1000 [03:32<1:15:31,  4.75s/it]"
     ]
    },
    {
     "name": "stdout",
     "output_type": "stream",
     "text": [
      "Training Loss: 0.8464545115180637\n",
      "Validation Loss: 1.0965635078293936\n",
      "Training Accuracy of the network: 68 %\n",
      "Validation Accuracy of the network: 51 %\n",
      "EarlyStopping counter: 1 out of 50\n"
     ]
    },
    {
     "name": "stderr",
     "output_type": "stream",
     "text": [
      "  5%|███████▍                                                                                                                                                         | 46/1000 [03:37<1:15:48,  4.77s/it]"
     ]
    },
    {
     "name": "stdout",
     "output_type": "stream",
     "text": [
      "Training Loss: 0.8310436051392901\n",
      "Validation Loss: 1.080953960759299\n",
      "Training Accuracy of the network: 68 %\n",
      "Validation Accuracy of the network: 53 %\n",
      "Validation loss decreased (1.094185 --> 1.080954).  Saving model ...\n"
     ]
    },
    {
     "name": "stderr",
     "output_type": "stream",
     "text": [
      "  5%|███████▌                                                                                                                                                         | 47/1000 [03:42<1:15:45,  4.77s/it]"
     ]
    },
    {
     "name": "stdout",
     "output_type": "stream",
     "text": [
      "Training Loss: 0.8303171936152638\n",
      "Validation Loss: 1.0852571896144323\n",
      "Training Accuracy of the network: 70 %\n",
      "Validation Accuracy of the network: 52 %\n",
      "EarlyStopping counter: 1 out of 50\n"
     ]
    },
    {
     "name": "stderr",
     "output_type": "stream",
     "text": [
      "  5%|███████▋                                                                                                                                                         | 48/1000 [03:47<1:15:43,  4.77s/it]"
     ]
    },
    {
     "name": "stdout",
     "output_type": "stream",
     "text": [
      "Training Loss: 0.8096636358810507\n",
      "Validation Loss: 1.0809160896709986\n",
      "Training Accuracy of the network: 71 %\n",
      "Validation Accuracy of the network: 54 %\n",
      "Validation loss decreased (1.080954 --> 1.080916).  Saving model ...\n"
     ]
    },
    {
     "name": "stderr",
     "output_type": "stream",
     "text": [
      "  5%|███████▉                                                                                                                                                         | 49/1000 [03:51<1:15:01,  4.73s/it]"
     ]
    },
    {
     "name": "stdout",
     "output_type": "stream",
     "text": [
      "Training Loss: 0.8137021950189618\n",
      "Validation Loss: 1.0767598458698817\n",
      "Training Accuracy of the network: 69 %\n",
      "Validation Accuracy of the network: 53 %\n",
      "Validation loss decreased (1.080916 --> 1.076760).  Saving model ...\n"
     ]
    },
    {
     "name": "stderr",
     "output_type": "stream",
     "text": [
      "  5%|████████                                                                                                                                                         | 50/1000 [03:56<1:14:58,  4.74s/it]"
     ]
    },
    {
     "name": "stdout",
     "output_type": "stream",
     "text": [
      "Training Loss: 0.7955900314061538\n",
      "Validation Loss: 1.0715420484542846\n",
      "Training Accuracy of the network: 70 %\n",
      "Validation Accuracy of the network: 54 %\n",
      "Validation loss decreased (1.076760 --> 1.071542).  Saving model ...\n"
     ]
    },
    {
     "name": "stderr",
     "output_type": "stream",
     "text": [
      "  5%|████████▏                                                                                                                                                        | 51/1000 [04:01<1:15:02,  4.74s/it]"
     ]
    },
    {
     "name": "stdout",
     "output_type": "stream",
     "text": [
      "Training Loss: 0.7929870404195094\n",
      "Validation Loss: 1.06875216790608\n",
      "Training Accuracy of the network: 71 %\n",
      "Validation Accuracy of the network: 54 %\n",
      "Validation loss decreased (1.071542 --> 1.068752).  Saving model ...\n"
     ]
    },
    {
     "name": "stderr",
     "output_type": "stream",
     "text": [
      "  5%|████████▎                                                                                                                                                        | 52/1000 [04:05<1:13:47,  4.67s/it]"
     ]
    },
    {
     "name": "stdout",
     "output_type": "stream",
     "text": [
      "Training Loss: 0.7696916838918907\n",
      "Validation Loss: 1.0555912392480034\n",
      "Training Accuracy of the network: 72 %\n",
      "Validation Accuracy of the network: 54 %\n",
      "Validation loss decreased (1.068752 --> 1.055591).  Saving model ...\n"
     ]
    },
    {
     "name": "stderr",
     "output_type": "stream",
     "text": [
      "  5%|████████▌                                                                                                                                                        | 53/1000 [04:10<1:14:51,  4.74s/it]"
     ]
    },
    {
     "name": "stdout",
     "output_type": "stream",
     "text": [
      "Training Loss: 0.778728849645974\n",
      "Validation Loss: 1.0621838791029794\n",
      "Training Accuracy of the network: 71 %\n",
      "Validation Accuracy of the network: 53 %\n",
      "EarlyStopping counter: 1 out of 50\n"
     ]
    },
    {
     "name": "stderr",
     "output_type": "stream",
     "text": [
      "  5%|████████▋                                                                                                                                                        | 54/1000 [04:15<1:15:05,  4.76s/it]"
     ]
    },
    {
     "name": "stdout",
     "output_type": "stream",
     "text": [
      "Training Loss: 0.7706678200891053\n",
      "Validation Loss: 1.0593818954059055\n",
      "Training Accuracy of the network: 71 %\n",
      "Validation Accuracy of the network: 55 %\n",
      "EarlyStopping counter: 2 out of 50\n"
     ]
    },
    {
     "name": "stderr",
     "output_type": "stream",
     "text": [
      "  6%|████████▊                                                                                                                                                        | 55/1000 [04:20<1:14:48,  4.75s/it]"
     ]
    },
    {
     "name": "stdout",
     "output_type": "stream",
     "text": [
      "Training Loss: 0.7466822195312252\n",
      "Validation Loss: 1.0586197291101729\n",
      "Training Accuracy of the network: 73 %\n",
      "Validation Accuracy of the network: 55 %\n",
      "EarlyStopping counter: 3 out of 50\n"
     ]
    },
    {
     "name": "stderr",
     "output_type": "stream",
     "text": [
      "  6%|█████████                                                                                                                                                        | 56/1000 [04:25<1:14:30,  4.74s/it]"
     ]
    },
    {
     "name": "stdout",
     "output_type": "stream",
     "text": [
      "Training Loss: 0.7572370888530344\n",
      "Validation Loss: 1.0512238127844675\n",
      "Training Accuracy of the network: 72 %\n",
      "Validation Accuracy of the network: 55 %\n",
      "Validation loss decreased (1.055591 --> 1.051224).  Saving model ...\n"
     ]
    },
    {
     "name": "stderr",
     "output_type": "stream",
     "text": [
      "  6%|█████████▏                                                                                                                                                       | 57/1000 [04:29<1:14:21,  4.73s/it]"
     ]
    },
    {
     "name": "stdout",
     "output_type": "stream",
     "text": [
      "Training Loss: 0.7409764588743016\n",
      "Validation Loss: 1.0536165850503103\n",
      "Training Accuracy of the network: 73 %\n",
      "Validation Accuracy of the network: 54 %\n",
      "EarlyStopping counter: 1 out of 50\n"
     ]
    },
    {
     "name": "stderr",
     "output_type": "stream",
     "text": [
      "  6%|█████████▎                                                                                                                                                       | 58/1000 [04:34<1:14:23,  4.74s/it]"
     ]
    },
    {
     "name": "stdout",
     "output_type": "stream",
     "text": [
      "Training Loss: 0.742637728219447\n",
      "Validation Loss: 1.0524220960480826\n",
      "Training Accuracy of the network: 73 %\n",
      "Validation Accuracy of the network: 54 %\n",
      "EarlyStopping counter: 2 out of 50\n"
     ]
    },
    {
     "name": "stderr",
     "output_type": "stream",
     "text": [
      "  6%|█████████▍                                                                                                                                                       | 59/1000 [04:39<1:13:30,  4.69s/it]"
     ]
    },
    {
     "name": "stdout",
     "output_type": "stream",
     "text": [
      "Training Loss: 0.7331278255020363\n",
      "Validation Loss: 1.065469651562827\n",
      "Training Accuracy of the network: 72 %\n",
      "Validation Accuracy of the network: 53 %\n",
      "EarlyStopping counter: 3 out of 50\n"
     ]
    },
    {
     "name": "stderr",
     "output_type": "stream",
     "text": [
      "  6%|█████████▋                                                                                                                                                       | 60/1000 [04:43<1:13:44,  4.71s/it]"
     ]
    },
    {
     "name": "stdout",
     "output_type": "stream",
     "text": [
      "Training Loss: 0.7287585800108702\n",
      "Validation Loss: 1.0632005538259233\n",
      "Training Accuracy of the network: 73 %\n",
      "Validation Accuracy of the network: 54 %\n",
      "EarlyStopping counter: 4 out of 50\n"
     ]
    },
    {
     "name": "stderr",
     "output_type": "stream",
     "text": [
      "  6%|█████████▊                                                                                                                                                       | 61/1000 [04:48<1:14:01,  4.73s/it]"
     ]
    },
    {
     "name": "stdout",
     "output_type": "stream",
     "text": [
      "Training Loss: 0.7230388850405596\n",
      "Validation Loss: 1.0591132385390145\n",
      "Training Accuracy of the network: 75 %\n",
      "Validation Accuracy of the network: 55 %\n",
      "EarlyStopping counter: 5 out of 50\n"
     ]
    },
    {
     "name": "stderr",
     "output_type": "stream",
     "text": [
      "  6%|█████████▉                                                                                                                                                       | 62/1000 [04:53<1:13:47,  4.72s/it]"
     ]
    },
    {
     "name": "stdout",
     "output_type": "stream",
     "text": [
      "Training Loss: 0.7036856773538865\n",
      "Validation Loss: 1.052878701686859\n",
      "Training Accuracy of the network: 75 %\n",
      "Validation Accuracy of the network: 55 %\n",
      "EarlyStopping counter: 6 out of 50\n"
     ]
    },
    {
     "name": "stderr",
     "output_type": "stream",
     "text": [
      "  6%|██████████▏                                                                                                                                                      | 63/1000 [04:58<1:14:09,  4.75s/it]"
     ]
    },
    {
     "name": "stdout",
     "output_type": "stream",
     "text": [
      "Training Loss: 0.6940996554018795\n",
      "Validation Loss: 1.0295137303216118\n",
      "Training Accuracy of the network: 75 %\n",
      "Validation Accuracy of the network: 57 %\n",
      "Validation loss decreased (1.051224 --> 1.029514).  Saving model ...\n"
     ]
    },
    {
     "name": "stderr",
     "output_type": "stream",
     "text": [
      "  6%|██████████▎                                                                                                                                                      | 64/1000 [05:02<1:14:08,  4.75s/it]"
     ]
    },
    {
     "name": "stdout",
     "output_type": "stream",
     "text": [
      "Training Loss: 0.7055004331944645\n",
      "Validation Loss: 1.054561378274645\n",
      "Training Accuracy of the network: 74 %\n",
      "Validation Accuracy of the network: 54 %\n",
      "EarlyStopping counter: 1 out of 50\n"
     ]
    },
    {
     "name": "stderr",
     "output_type": "stream",
     "text": [
      "  6%|██████████▍                                                                                                                                                      | 65/1000 [05:07<1:13:53,  4.74s/it]"
     ]
    },
    {
     "name": "stdout",
     "output_type": "stream",
     "text": [
      "Training Loss: 0.6727998442407968\n",
      "Validation Loss: 1.0414641959326607\n",
      "Training Accuracy of the network: 76 %\n",
      "Validation Accuracy of the network: 55 %\n",
      "EarlyStopping counter: 2 out of 50\n"
     ]
    },
    {
     "name": "stderr",
     "output_type": "stream",
     "text": [
      "  7%|██████████▋                                                                                                                                                      | 66/1000 [05:12<1:13:10,  4.70s/it]"
     ]
    },
    {
     "name": "stdout",
     "output_type": "stream",
     "text": [
      "Training Loss: 0.6632273035204929\n",
      "Validation Loss: 1.0386259078979492\n",
      "Training Accuracy of the network: 76 %\n",
      "Validation Accuracy of the network: 56 %\n",
      "EarlyStopping counter: 3 out of 50\n"
     ]
    },
    {
     "name": "stderr",
     "output_type": "stream",
     "text": [
      "  7%|██████████▊                                                                                                                                                      | 67/1000 [05:17<1:13:40,  4.74s/it]"
     ]
    },
    {
     "name": "stdout",
     "output_type": "stream",
     "text": [
      "Training Loss: 0.6703680812016778\n",
      "Validation Loss: 1.0394010169165475\n",
      "Training Accuracy of the network: 76 %\n",
      "Validation Accuracy of the network: 55 %\n",
      "EarlyStopping counter: 4 out of 50\n"
     ]
    },
    {
     "name": "stderr",
     "output_type": "stream",
     "text": [
      "  7%|██████████▉                                                                                                                                                      | 68/1000 [05:21<1:13:46,  4.75s/it]"
     ]
    },
    {
     "name": "stdout",
     "output_type": "stream",
     "text": [
      "Training Loss: 0.6650993186926496\n",
      "Validation Loss: 1.0419649192265101\n",
      "Training Accuracy of the network: 75 %\n",
      "Validation Accuracy of the network: 56 %\n",
      "EarlyStopping counter: 5 out of 50\n"
     ]
    },
    {
     "name": "stderr",
     "output_type": "stream",
     "text": [
      "  7%|███████████                                                                                                                                                      | 69/1000 [05:26<1:14:18,  4.79s/it]"
     ]
    },
    {
     "name": "stdout",
     "output_type": "stream",
     "text": [
      "Training Loss: 0.6499721412209497\n",
      "Validation Loss: 1.0575756532805307\n",
      "Training Accuracy of the network: 76 %\n",
      "Validation Accuracy of the network: 55 %\n",
      "EarlyStopping counter: 6 out of 50\n"
     ]
    },
    {
     "name": "stderr",
     "output_type": "stream",
     "text": [
      "  7%|███████████▎                                                                                                                                                     | 70/1000 [05:31<1:13:39,  4.75s/it]"
     ]
    },
    {
     "name": "stdout",
     "output_type": "stream",
     "text": [
      "Training Loss: 0.6436219922658326\n",
      "Validation Loss: 1.0603889312062944\n",
      "Training Accuracy of the network: 77 %\n",
      "Validation Accuracy of the network: 56 %\n",
      "EarlyStopping counter: 7 out of 50\n"
     ]
    },
    {
     "name": "stderr",
     "output_type": "stream",
     "text": [
      "  7%|███████████▍                                                                                                                                                     | 71/1000 [05:36<1:13:22,  4.74s/it]"
     ]
    },
    {
     "name": "stdout",
     "output_type": "stream",
     "text": [
      "Training Loss: 0.645329074367233\n",
      "Validation Loss: 1.0525006243160793\n",
      "Training Accuracy of the network: 76 %\n",
      "Validation Accuracy of the network: 56 %\n",
      "EarlyStopping counter: 8 out of 50\n"
     ]
    },
    {
     "name": "stderr",
     "output_type": "stream",
     "text": [
      "  7%|███████████▌                                                                                                                                                     | 72/1000 [05:40<1:13:31,  4.75s/it]"
     ]
    },
    {
     "name": "stdout",
     "output_type": "stream",
     "text": [
      "Training Loss: 0.6418432851416477\n",
      "Validation Loss: 1.0438086697033473\n",
      "Training Accuracy of the network: 77 %\n",
      "Validation Accuracy of the network: 57 %\n",
      "EarlyStopping counter: 9 out of 50\n"
     ]
    },
    {
     "name": "stderr",
     "output_type": "stream",
     "text": [
      "  7%|███████████▊                                                                                                                                                     | 73/1000 [05:45<1:13:23,  4.75s/it]"
     ]
    },
    {
     "name": "stdout",
     "output_type": "stream",
     "text": [
      "Training Loss: 0.6336944310561471\n",
      "Validation Loss: 1.0562405143465314\n",
      "Training Accuracy of the network: 76 %\n",
      "Validation Accuracy of the network: 56 %\n",
      "EarlyStopping counter: 10 out of 50\n"
     ]
    },
    {
     "name": "stderr",
     "output_type": "stream",
     "text": [
      "  7%|███████████▉                                                                                                                                                     | 74/1000 [05:50<1:13:10,  4.74s/it]"
     ]
    },
    {
     "name": "stdout",
     "output_type": "stream",
     "text": [
      "Training Loss: 0.6438928488372029\n",
      "Validation Loss: 1.0389134458133154\n",
      "Training Accuracy of the network: 77 %\n",
      "Validation Accuracy of the network: 57 %\n",
      "EarlyStopping counter: 11 out of 50\n"
     ]
    },
    {
     "name": "stderr",
     "output_type": "stream",
     "text": [
      "  8%|████████████                                                                                                                                                     | 75/1000 [05:55<1:12:51,  4.73s/it]"
     ]
    },
    {
     "name": "stdout",
     "output_type": "stream",
     "text": [
      "Training Loss: 0.6307237960290217\n",
      "Validation Loss: 1.053451555115836\n",
      "Training Accuracy of the network: 78 %\n",
      "Validation Accuracy of the network: 54 %\n",
      "EarlyStopping counter: 12 out of 50\n"
     ]
    },
    {
     "name": "stderr",
     "output_type": "stream",
     "text": [
      "  8%|████████████▏                                                                                                                                                    | 76/1000 [05:59<1:12:31,  4.71s/it]"
     ]
    },
    {
     "name": "stdout",
     "output_type": "stream",
     "text": [
      "Training Loss: 0.6211656388165294\n",
      "Validation Loss: 1.059802624157497\n",
      "Training Accuracy of the network: 77 %\n",
      "Validation Accuracy of the network: 56 %\n",
      "EarlyStopping counter: 13 out of 50\n"
     ]
    },
    {
     "name": "stderr",
     "output_type": "stream",
     "text": [
      "  8%|████████████▍                                                                                                                                                    | 77/1000 [06:04<1:12:11,  4.69s/it]"
     ]
    },
    {
     "name": "stdout",
     "output_type": "stream",
     "text": [
      "Training Loss: 0.6103136481150336\n",
      "Validation Loss: 1.0401356509753636\n",
      "Training Accuracy of the network: 77 %\n",
      "Validation Accuracy of the network: 59 %\n",
      "EarlyStopping counter: 14 out of 50\n"
     ]
    },
    {
     "name": "stderr",
     "output_type": "stream",
     "text": [
      "  8%|████████████▌                                                                                                                                                    | 78/1000 [06:09<1:12:03,  4.69s/it]"
     ]
    },
    {
     "name": "stdout",
     "output_type": "stream",
     "text": [
      "Training Loss: 0.5938131331965544\n",
      "Validation Loss: 1.0309055260249547\n",
      "Training Accuracy of the network: 79 %\n",
      "Validation Accuracy of the network: 58 %\n",
      "EarlyStopping counter: 15 out of 50\n"
     ]
    },
    {
     "name": "stderr",
     "output_type": "stream",
     "text": [
      "  8%|████████████▋                                                                                                                                                    | 79/1000 [06:13<1:12:02,  4.69s/it]"
     ]
    },
    {
     "name": "stdout",
     "output_type": "stream",
     "text": [
      "Training Loss: 0.5991152028242747\n",
      "Validation Loss: 1.0276880996567863\n",
      "Training Accuracy of the network: 78 %\n",
      "Validation Accuracy of the network: 57 %\n",
      "Validation loss decreased (1.029514 --> 1.027688).  Saving model ...\n"
     ]
    },
    {
     "name": "stderr",
     "output_type": "stream",
     "text": [
      "  8%|████████████▉                                                                                                                                                    | 80/1000 [06:18<1:12:06,  4.70s/it]"
     ]
    },
    {
     "name": "stdout",
     "output_type": "stream",
     "text": [
      "Training Loss: 0.6138668173681134\n",
      "Validation Loss: 1.049538996389934\n",
      "Training Accuracy of the network: 78 %\n",
      "Validation Accuracy of the network: 57 %\n",
      "EarlyStopping counter: 1 out of 50\n"
     ]
    },
    {
     "name": "stderr",
     "output_type": "stream",
     "text": [
      "  8%|█████████████                                                                                                                                                    | 81/1000 [06:23<1:12:16,  4.72s/it]"
     ]
    },
    {
     "name": "stdout",
     "output_type": "stream",
     "text": [
      "Training Loss: 0.6083869569111562\n",
      "Validation Loss: 1.0564420410564968\n",
      "Training Accuracy of the network: 77 %\n",
      "Validation Accuracy of the network: 56 %\n",
      "EarlyStopping counter: 2 out of 50\n"
     ]
    },
    {
     "name": "stderr",
     "output_type": "stream",
     "text": [
      "  8%|█████████████▏                                                                                                                                                   | 82/1000 [06:28<1:12:38,  4.75s/it]"
     ]
    },
    {
     "name": "stdout",
     "output_type": "stream",
     "text": [
      "Training Loss: 0.6039623212123263\n",
      "Validation Loss: 1.0677040355546135\n",
      "Training Accuracy of the network: 78 %\n",
      "Validation Accuracy of the network: 55 %\n",
      "EarlyStopping counter: 3 out of 50\n"
     ]
    },
    {
     "name": "stderr",
     "output_type": "stream",
     "text": [
      "  8%|█████████████▎                                                                                                                                                   | 83/1000 [06:32<1:12:51,  4.77s/it]"
     ]
    },
    {
     "name": "stdout",
     "output_type": "stream",
     "text": [
      "Training Loss: 0.5780145530251489\n",
      "Validation Loss: 1.0508471659251621\n",
      "Training Accuracy of the network: 80 %\n",
      "Validation Accuracy of the network: 57 %\n",
      "EarlyStopping counter: 4 out of 50\n"
     ]
    },
    {
     "name": "stderr",
     "output_type": "stream",
     "text": [
      "  8%|█████████████▌                                                                                                                                                   | 84/1000 [06:37<1:13:00,  4.78s/it]"
     ]
    },
    {
     "name": "stdout",
     "output_type": "stream",
     "text": [
      "Training Loss: 0.5868609030393587\n",
      "Validation Loss: 1.0370946594647\n",
      "Training Accuracy of the network: 79 %\n",
      "Validation Accuracy of the network: 55 %\n",
      "EarlyStopping counter: 5 out of 50\n"
     ]
    },
    {
     "name": "stderr",
     "output_type": "stream",
     "text": [
      "  8%|█████████████▋                                                                                                                                                   | 85/1000 [06:42<1:12:59,  4.79s/it]"
     ]
    },
    {
     "name": "stdout",
     "output_type": "stream",
     "text": [
      "Training Loss: 0.5950912653967955\n",
      "Validation Loss: 1.0328815690108708\n",
      "Training Accuracy of the network: 77 %\n",
      "Validation Accuracy of the network: 57 %\n",
      "EarlyStopping counter: 6 out of 50\n"
     ]
    },
    {
     "name": "stderr",
     "output_type": "stream",
     "text": [
      "  9%|█████████████▊                                                                                                                                                   | 86/1000 [06:47<1:13:56,  4.85s/it]"
     ]
    },
    {
     "name": "stdout",
     "output_type": "stream",
     "text": [
      "Training Loss: 0.5668382223533548\n",
      "Validation Loss: 1.0515826395579746\n",
      "Training Accuracy of the network: 80 %\n",
      "Validation Accuracy of the network: 59 %\n",
      "EarlyStopping counter: 7 out of 50\n"
     ]
    },
    {
     "name": "stderr",
     "output_type": "stream",
     "text": [
      "  9%|██████████████                                                                                                                                                   | 87/1000 [06:52<1:12:52,  4.79s/it]"
     ]
    },
    {
     "name": "stdout",
     "output_type": "stream",
     "text": [
      "Training Loss: 0.5609689436960912\n",
      "Validation Loss: 1.0510186995778765\n",
      "Training Accuracy of the network: 80 %\n",
      "Validation Accuracy of the network: 57 %\n",
      "EarlyStopping counter: 8 out of 50\n"
     ]
    },
    {
     "name": "stderr",
     "output_type": "stream",
     "text": [
      "  9%|██████████████▏                                                                                                                                                  | 88/1000 [06:56<1:12:54,  4.80s/it]"
     ]
    },
    {
     "name": "stdout",
     "output_type": "stream",
     "text": [
      "Training Loss: 0.5547966132129448\n",
      "Validation Loss: 1.0437671031270708\n",
      "Training Accuracy of the network: 80 %\n",
      "Validation Accuracy of the network: 58 %\n",
      "EarlyStopping counter: 9 out of 50\n"
     ]
    },
    {
     "name": "stderr",
     "output_type": "stream",
     "text": [
      "  9%|██████████████▎                                                                                                                                                  | 89/1000 [07:01<1:12:52,  4.80s/it]"
     ]
    },
    {
     "name": "stdout",
     "output_type": "stream",
     "text": [
      "Training Loss: 0.5803755325251732\n",
      "Validation Loss: 1.0374880279813494\n",
      "Training Accuracy of the network: 79 %\n",
      "Validation Accuracy of the network: 56 %\n",
      "EarlyStopping counter: 10 out of 50\n"
     ]
    },
    {
     "name": "stderr",
     "output_type": "stream",
     "text": [
      "  9%|██████████████▍                                                                                                                                                  | 90/1000 [07:06<1:12:58,  4.81s/it]"
     ]
    },
    {
     "name": "stdout",
     "output_type": "stream",
     "text": [
      "Training Loss: 0.5463211956447449\n",
      "Validation Loss: 1.0533234902790614\n",
      "Training Accuracy of the network: 80 %\n",
      "Validation Accuracy of the network: 56 %\n",
      "EarlyStopping counter: 11 out of 50\n"
     ]
    },
    {
     "name": "stderr",
     "output_type": "stream",
     "text": [
      "  9%|██████████████▋                                                                                                                                                  | 91/1000 [07:11<1:12:50,  4.81s/it]"
     ]
    },
    {
     "name": "stdout",
     "output_type": "stream",
     "text": [
      "Training Loss: 0.5345010607354883\n",
      "Validation Loss: 1.0367877219404493\n",
      "Training Accuracy of the network: 81 %\n",
      "Validation Accuracy of the network: 57 %\n",
      "EarlyStopping counter: 12 out of 50\n"
     ]
    },
    {
     "name": "stderr",
     "output_type": "stream",
     "text": [
      "  9%|██████████████▊                                                                                                                                                  | 92/1000 [07:15<1:11:38,  4.73s/it]"
     ]
    },
    {
     "name": "stdout",
     "output_type": "stream",
     "text": [
      "Training Loss: 0.5696207855058752\n",
      "Validation Loss: 1.0676505821091788\n",
      "Training Accuracy of the network: 80 %\n",
      "Validation Accuracy of the network: 56 %\n",
      "EarlyStopping counter: 13 out of 50\n"
     ]
    },
    {
     "name": "stderr",
     "output_type": "stream",
     "text": [
      "  9%|██████████████▉                                                                                                                                                  | 93/1000 [07:20<1:11:47,  4.75s/it]"
     ]
    },
    {
     "name": "stdout",
     "output_type": "stream",
     "text": [
      "Training Loss: 0.5363689067139141\n",
      "Validation Loss: 1.041574148620878\n",
      "Training Accuracy of the network: 82 %\n",
      "Validation Accuracy of the network: 58 %\n",
      "EarlyStopping counter: 14 out of 50\n"
     ]
    },
    {
     "name": "stderr",
     "output_type": "stream",
     "text": [
      "  9%|███████████████▏                                                                                                                                                 | 94/1000 [07:25<1:10:45,  4.69s/it]"
     ]
    },
    {
     "name": "stdout",
     "output_type": "stream",
     "text": [
      "Training Loss: 0.5440883119253145\n",
      "Validation Loss: 1.0541837045124598\n",
      "Training Accuracy of the network: 81 %\n",
      "Validation Accuracy of the network: 57 %\n",
      "EarlyStopping counter: 15 out of 50\n"
     ]
    },
    {
     "name": "stderr",
     "output_type": "stream",
     "text": [
      " 10%|███████████████▎                                                                                                                                                 | 95/1000 [07:30<1:11:03,  4.71s/it]"
     ]
    },
    {
     "name": "stdout",
     "output_type": "stream",
     "text": [
      "Training Loss: 0.5379876685531243\n",
      "Validation Loss: 1.052444532939366\n",
      "Training Accuracy of the network: 81 %\n",
      "Validation Accuracy of the network: 57 %\n",
      "EarlyStopping counter: 16 out of 50\n"
     ]
    },
    {
     "name": "stderr",
     "output_type": "stream",
     "text": [
      " 10%|███████████████▍                                                                                                                                                 | 96/1000 [07:34<1:10:57,  4.71s/it]"
     ]
    },
    {
     "name": "stdout",
     "output_type": "stream",
     "text": [
      "Training Loss: 0.518292095458162\n",
      "Validation Loss: 1.0632811903953552\n",
      "Training Accuracy of the network: 83 %\n",
      "Validation Accuracy of the network: 56 %\n",
      "EarlyStopping counter: 17 out of 50\n"
     ]
    },
    {
     "name": "stderr",
     "output_type": "stream",
     "text": [
      " 10%|███████████████▌                                                                                                                                                 | 97/1000 [07:39<1:11:01,  4.72s/it]"
     ]
    },
    {
     "name": "stdout",
     "output_type": "stream",
     "text": [
      "Training Loss: 0.5363062116978825\n",
      "Validation Loss: 1.0587815574237278\n",
      "Training Accuracy of the network: 81 %\n",
      "Validation Accuracy of the network: 57 %\n",
      "EarlyStopping counter: 18 out of 50\n"
     ]
    },
    {
     "name": "stderr",
     "output_type": "stream",
     "text": [
      " 10%|███████████████▊                                                                                                                                                 | 98/1000 [07:44<1:10:56,  4.72s/it]"
     ]
    },
    {
     "name": "stdout",
     "output_type": "stream",
     "text": [
      "Training Loss: 0.5055508868417878\n",
      "Validation Loss: 1.0412236418042864\n",
      "Training Accuracy of the network: 82 %\n",
      "Validation Accuracy of the network: 59 %\n",
      "EarlyStopping counter: 19 out of 50\n"
     ]
    },
    {
     "name": "stderr",
     "output_type": "stream",
     "text": [
      " 10%|███████████████▉                                                                                                                                                 | 99/1000 [07:48<1:10:16,  4.68s/it]"
     ]
    },
    {
     "name": "stdout",
     "output_type": "stream",
     "text": [
      "Training Loss: 0.5351661929617757\n",
      "Validation Loss: 1.0849716544151307\n",
      "Training Accuracy of the network: 81 %\n",
      "Validation Accuracy of the network: 56 %\n",
      "EarlyStopping counter: 20 out of 50\n"
     ]
    },
    {
     "name": "stderr",
     "output_type": "stream",
     "text": [
      " 10%|████████████████                                                                                                                                                | 100/1000 [07:53<1:10:08,  4.68s/it]"
     ]
    },
    {
     "name": "stdout",
     "output_type": "stream",
     "text": [
      "Training Loss: 0.5299600811972134\n",
      "Validation Loss: 1.0659207207815988\n",
      "Training Accuracy of the network: 81 %\n",
      "Validation Accuracy of the network: 55 %\n",
      "EarlyStopping counter: 21 out of 50\n"
     ]
    },
    {
     "name": "stderr",
     "output_type": "stream",
     "text": [
      " 10%|████████████████▏                                                                                                                                               | 101/1000 [07:58<1:09:52,  4.66s/it]"
     ]
    },
    {
     "name": "stdout",
     "output_type": "stream",
     "text": [
      "Training Loss: 0.504885028777779\n",
      "Validation Loss: 1.0686270236968993\n",
      "Training Accuracy of the network: 83 %\n",
      "Validation Accuracy of the network: 56 %\n",
      "EarlyStopping counter: 22 out of 50\n"
     ]
    },
    {
     "name": "stderr",
     "output_type": "stream",
     "text": [
      " 10%|████████████████▎                                                                                                                                               | 102/1000 [08:02<1:10:05,  4.68s/it]"
     ]
    },
    {
     "name": "stdout",
     "output_type": "stream",
     "text": [
      "Training Loss: 0.5162052312406941\n",
      "Validation Loss: 1.0615015268325805\n",
      "Training Accuracy of the network: 82 %\n",
      "Validation Accuracy of the network: 56 %\n",
      "EarlyStopping counter: 23 out of 50\n"
     ]
    },
    {
     "name": "stderr",
     "output_type": "stream",
     "text": [
      " 10%|████████████████▍                                                                                                                                               | 103/1000 [08:07<1:10:08,  4.69s/it]"
     ]
    },
    {
     "name": "stdout",
     "output_type": "stream",
     "text": [
      "Training Loss: 0.5170044592325238\n",
      "Validation Loss: 1.0960911921092442\n",
      "Training Accuracy of the network: 82 %\n",
      "Validation Accuracy of the network: 56 %\n",
      "EarlyStopping counter: 24 out of 50\n"
     ]
    },
    {
     "name": "stderr",
     "output_type": "stream",
     "text": [
      " 10%|████████████████▋                                                                                                                                               | 104/1000 [08:12<1:10:45,  4.74s/it]"
     ]
    },
    {
     "name": "stdout",
     "output_type": "stream",
     "text": [
      "Training Loss: 0.5061648713721745\n",
      "Validation Loss: 1.0755502700805664\n",
      "Training Accuracy of the network: 82 %\n",
      "Validation Accuracy of the network: 56 %\n",
      "EarlyStopping counter: 25 out of 50\n"
     ]
    },
    {
     "name": "stderr",
     "output_type": "stream",
     "text": [
      " 10%|████████████████▊                                                                                                                                               | 105/1000 [08:17<1:10:59,  4.76s/it]"
     ]
    },
    {
     "name": "stdout",
     "output_type": "stream",
     "text": [
      "Training Loss: 0.5092174360069676\n",
      "Validation Loss: 1.0724006908280508\n",
      "Training Accuracy of the network: 82 %\n",
      "Validation Accuracy of the network: 57 %\n",
      "EarlyStopping counter: 26 out of 50\n"
     ]
    },
    {
     "name": "stderr",
     "output_type": "stream",
     "text": [
      " 11%|████████████████▉                                                                                                                                               | 106/1000 [08:21<1:10:56,  4.76s/it]"
     ]
    },
    {
     "name": "stdout",
     "output_type": "stream",
     "text": [
      "Training Loss: 0.47800017007883044\n",
      "Validation Loss: 1.0985032847949436\n",
      "Training Accuracy of the network: 83 %\n",
      "Validation Accuracy of the network: 55 %\n",
      "EarlyStopping counter: 27 out of 50\n"
     ]
    },
    {
     "name": "stderr",
     "output_type": "stream",
     "text": [
      " 11%|█████████████████                                                                                                                                               | 107/1000 [08:26<1:10:40,  4.75s/it]"
     ]
    },
    {
     "name": "stdout",
     "output_type": "stream",
     "text": [
      "Training Loss: 0.49673934507629147\n",
      "Validation Loss: 1.0775995424815588\n",
      "Training Accuracy of the network: 83 %\n",
      "Validation Accuracy of the network: 58 %\n",
      "EarlyStopping counter: 28 out of 50\n"
     ]
    },
    {
     "name": "stderr",
     "output_type": "stream",
     "text": [
      " 11%|█████████████████▎                                                                                                                                              | 108/1000 [08:31<1:10:28,  4.74s/it]"
     ]
    },
    {
     "name": "stdout",
     "output_type": "stream",
     "text": [
      "Training Loss: 0.5001860832174619\n",
      "Validation Loss: 1.07784275497709\n",
      "Training Accuracy of the network: 83 %\n",
      "Validation Accuracy of the network: 58 %\n",
      "EarlyStopping counter: 29 out of 50\n"
     ]
    },
    {
     "name": "stderr",
     "output_type": "stream",
     "text": [
      " 11%|█████████████████▍                                                                                                                                              | 109/1000 [08:35<1:09:25,  4.67s/it]"
     ]
    },
    {
     "name": "stdout",
     "output_type": "stream",
     "text": [
      "Training Loss: 0.4855369954113511\n",
      "Validation Loss: 1.0908997314316886\n",
      "Training Accuracy of the network: 83 %\n",
      "Validation Accuracy of the network: 56 %\n",
      "EarlyStopping counter: 30 out of 50\n"
     ]
    },
    {
     "name": "stderr",
     "output_type": "stream",
     "text": [
      " 11%|█████████████████▌                                                                                                                                              | 110/1000 [08:40<1:09:40,  4.70s/it]"
     ]
    },
    {
     "name": "stdout",
     "output_type": "stream",
     "text": [
      "Training Loss: 0.4962167668601741\n",
      "Validation Loss: 1.0707411289215087\n",
      "Training Accuracy of the network: 82 %\n",
      "Validation Accuracy of the network: 56 %\n",
      "EarlyStopping counter: 31 out of 50\n"
     ]
    },
    {
     "name": "stderr",
     "output_type": "stream",
     "text": [
      " 11%|█████████████████▊                                                                                                                                              | 111/1000 [08:45<1:09:47,  4.71s/it]"
     ]
    },
    {
     "name": "stdout",
     "output_type": "stream",
     "text": [
      "Training Loss: 0.47215350749699964\n",
      "Validation Loss: 1.0975622926439559\n",
      "Training Accuracy of the network: 84 %\n",
      "Validation Accuracy of the network: 56 %\n",
      "EarlyStopping counter: 32 out of 50\n"
     ]
    },
    {
     "name": "stderr",
     "output_type": "stream",
     "text": [
      " 11%|█████████████████▉                                                                                                                                              | 112/1000 [08:50<1:10:04,  4.73s/it]"
     ]
    },
    {
     "name": "stdout",
     "output_type": "stream",
     "text": [
      "Training Loss: 0.47150734142548795\n",
      "Validation Loss: 1.0966628789901733\n",
      "Training Accuracy of the network: 83 %\n",
      "Validation Accuracy of the network: 59 %\n",
      "EarlyStopping counter: 33 out of 50\n"
     ]
    },
    {
     "name": "stderr",
     "output_type": "stream",
     "text": [
      " 11%|██████████████████                                                                                                                                              | 113/1000 [08:55<1:10:39,  4.78s/it]"
     ]
    },
    {
     "name": "stdout",
     "output_type": "stream",
     "text": [
      "Training Loss: 0.4875410679673803\n",
      "Validation Loss: 1.0713720824037278\n",
      "Training Accuracy of the network: 83 %\n",
      "Validation Accuracy of the network: 58 %\n",
      "EarlyStopping counter: 34 out of 50\n"
     ]
    },
    {
     "name": "stderr",
     "output_type": "stream",
     "text": [
      " 11%|██████████████████▏                                                                                                                                             | 114/1000 [08:59<1:10:05,  4.75s/it]"
     ]
    },
    {
     "name": "stdout",
     "output_type": "stream",
     "text": [
      "Training Loss: 0.4844721780307051\n",
      "Validation Loss: 1.08923088823046\n",
      "Training Accuracy of the network: 84 %\n",
      "Validation Accuracy of the network: 57 %\n",
      "EarlyStopping counter: 35 out of 50\n"
     ]
    },
    {
     "name": "stderr",
     "output_type": "stream",
     "text": [
      " 12%|██████████████████▍                                                                                                                                             | 115/1000 [09:04<1:10:02,  4.75s/it]"
     ]
    },
    {
     "name": "stdout",
     "output_type": "stream",
     "text": [
      "Training Loss: 0.45874769532162213\n",
      "Validation Loss: 1.1114274791308811\n",
      "Training Accuracy of the network: 84 %\n",
      "Validation Accuracy of the network: 57 %\n",
      "EarlyStopping counter: 36 out of 50\n"
     ]
    },
    {
     "name": "stderr",
     "output_type": "stream",
     "text": [
      " 12%|██████████████████▌                                                                                                                                             | 116/1000 [09:09<1:09:37,  4.73s/it]"
     ]
    },
    {
     "name": "stdout",
     "output_type": "stream",
     "text": [
      "Training Loss: 0.46071597383074137\n",
      "Validation Loss: 1.1062809433255876\n",
      "Training Accuracy of the network: 85 %\n",
      "Validation Accuracy of the network: 57 %\n",
      "EarlyStopping counter: 37 out of 50\n"
     ]
    },
    {
     "name": "stderr",
     "output_type": "stream",
     "text": [
      " 12%|██████████████████▋                                                                                                                                             | 117/1000 [09:13<1:09:49,  4.74s/it]"
     ]
    },
    {
     "name": "stdout",
     "output_type": "stream",
     "text": [
      "Training Loss: 0.5023410111881684\n",
      "Validation Loss: 1.0940626093319483\n",
      "Training Accuracy of the network: 82 %\n",
      "Validation Accuracy of the network: 57 %\n",
      "EarlyStopping counter: 38 out of 50\n"
     ]
    },
    {
     "name": "stderr",
     "output_type": "stream",
     "text": [
      " 12%|██████████████████▉                                                                                                                                             | 118/1000 [09:18<1:09:54,  4.76s/it]"
     ]
    },
    {
     "name": "stdout",
     "output_type": "stream",
     "text": [
      "Training Loss: 0.46498811460923456\n",
      "Validation Loss: 1.1315369180270605\n",
      "Training Accuracy of the network: 84 %\n",
      "Validation Accuracy of the network: 54 %\n",
      "EarlyStopping counter: 39 out of 50\n"
     ]
    },
    {
     "name": "stderr",
     "output_type": "stream",
     "text": [
      " 12%|███████████████████                                                                                                                                             | 119/1000 [09:23<1:09:08,  4.71s/it]"
     ]
    },
    {
     "name": "stdout",
     "output_type": "stream",
     "text": [
      "Training Loss: 0.4518403701916121\n",
      "Validation Loss: 1.1574205330439977\n",
      "Training Accuracy of the network: 85 %\n",
      "Validation Accuracy of the network: 55 %\n",
      "EarlyStopping counter: 40 out of 50\n"
     ]
    },
    {
     "name": "stderr",
     "output_type": "stream",
     "text": [
      " 12%|███████████████████▏                                                                                                                                            | 120/1000 [09:28<1:09:27,  4.74s/it]"
     ]
    },
    {
     "name": "stdout",
     "output_type": "stream",
     "text": [
      "Training Loss: 0.4682680521754251\n",
      "Validation Loss: 1.0771152547427587\n",
      "Training Accuracy of the network: 85 %\n",
      "Validation Accuracy of the network: 56 %\n",
      "EarlyStopping counter: 41 out of 50\n"
     ]
    },
    {
     "name": "stderr",
     "output_type": "stream",
     "text": [
      " 12%|███████████████████▎                                                                                                                                            | 121/1000 [09:32<1:09:35,  4.75s/it]"
     ]
    },
    {
     "name": "stdout",
     "output_type": "stream",
     "text": [
      "Training Loss: 0.46881730822117434\n",
      "Validation Loss: 1.096316225188119\n",
      "Training Accuracy of the network: 84 %\n",
      "Validation Accuracy of the network: 58 %\n",
      "EarlyStopping counter: 42 out of 50\n"
     ]
    },
    {
     "name": "stderr",
     "output_type": "stream",
     "text": [
      " 12%|███████████████████▌                                                                                                                                            | 122/1000 [09:37<1:09:29,  4.75s/it]"
     ]
    },
    {
     "name": "stdout",
     "output_type": "stream",
     "text": [
      "Training Loss: 0.47690692570978316\n",
      "Validation Loss: 1.0591398222105843\n",
      "Training Accuracy of the network: 84 %\n",
      "Validation Accuracy of the network: 56 %\n",
      "EarlyStopping counter: 43 out of 50\n"
     ]
    },
    {
     "name": "stderr",
     "output_type": "stream",
     "text": [
      " 12%|███████████████████▋                                                                                                                                            | 123/1000 [09:42<1:08:29,  4.69s/it]"
     ]
    },
    {
     "name": "stdout",
     "output_type": "stream",
     "text": [
      "Training Loss: 0.44259655184071994\n",
      "Validation Loss: 1.141069381577628\n",
      "Training Accuracy of the network: 85 %\n",
      "Validation Accuracy of the network: 54 %\n",
      "EarlyStopping counter: 44 out of 50\n"
     ]
    },
    {
     "name": "stderr",
     "output_type": "stream",
     "text": [
      " 12%|███████████████████▊                                                                                                                                            | 124/1000 [09:47<1:09:05,  4.73s/it]"
     ]
    },
    {
     "name": "stdout",
     "output_type": "stream",
     "text": [
      "Training Loss: 0.4285819787478101\n",
      "Validation Loss: 1.0945909891809735\n",
      "Training Accuracy of the network: 85 %\n",
      "Validation Accuracy of the network: 57 %\n",
      "EarlyStopping counter: 45 out of 50\n"
     ]
    },
    {
     "name": "stderr",
     "output_type": "stream",
     "text": [
      " 12%|████████████████████                                                                                                                                            | 125/1000 [09:51<1:09:11,  4.74s/it]"
     ]
    },
    {
     "name": "stdout",
     "output_type": "stream",
     "text": [
      "Training Loss: 0.4457394777648691\n",
      "Validation Loss: 1.1371872595378332\n",
      "Training Accuracy of the network: 85 %\n",
      "Validation Accuracy of the network: 56 %\n",
      "EarlyStopping counter: 46 out of 50\n"
     ]
    },
    {
     "name": "stderr",
     "output_type": "stream",
     "text": [
      " 13%|████████████████████▏                                                                                                                                           | 126/1000 [09:56<1:09:11,  4.75s/it]"
     ]
    },
    {
     "name": "stdout",
     "output_type": "stream",
     "text": [
      "Training Loss: 0.44183464888213336\n",
      "Validation Loss: 1.1594619461468287\n",
      "Training Accuracy of the network: 85 %\n",
      "Validation Accuracy of the network: 53 %\n",
      "EarlyStopping counter: 47 out of 50\n"
     ]
    },
    {
     "name": "stderr",
     "output_type": "stream",
     "text": [
      " 13%|████████████████████▎                                                                                                                                           | 127/1000 [10:01<1:08:59,  4.74s/it]"
     ]
    },
    {
     "name": "stdout",
     "output_type": "stream",
     "text": [
      "Training Loss: 0.42701244159885077\n",
      "Validation Loss: 1.094073360306876\n",
      "Training Accuracy of the network: 86 %\n",
      "Validation Accuracy of the network: 57 %\n",
      "EarlyStopping counter: 48 out of 50\n"
     ]
    },
    {
     "name": "stderr",
     "output_type": "stream",
     "text": [
      " 13%|████████████████████▍                                                                                                                                           | 128/1000 [10:05<1:08:31,  4.72s/it]"
     ]
    },
    {
     "name": "stdout",
     "output_type": "stream",
     "text": [
      "Training Loss: 0.4295480893789858\n",
      "Validation Loss: 1.146065626825605\n",
      "Training Accuracy of the network: 85 %\n",
      "Validation Accuracy of the network: 55 %\n",
      "EarlyStopping counter: 49 out of 50\n"
     ]
    },
    {
     "name": "stderr",
     "output_type": "stream",
     "text": [
      " 13%|████████████████████▍                                                                                                                                           | 128/1000 [10:10<1:09:20,  4.77s/it]\n"
     ]
    },
    {
     "name": "stdout",
     "output_type": "stream",
     "text": [
      "Training Loss: 0.44205066432123596\n",
      "Validation Loss: 1.1024259907858713\n",
      "Training Accuracy of the network: 85 %\n",
      "Validation Accuracy of the network: 55 %\n",
      "EarlyStopping counter: 50 out of 50\n",
      "Early Stopping\n"
     ]
    },
    {
     "name": "stderr",
     "output_type": "stream",
     "text": [
      "100%|███████████████████████████████████████████████████████████████████████████████████████████████████████████████████████████████████████████████████████████████████████| 1/1 [00:00<00:00,  6.73it/s]\n"
     ]
    },
    {
     "name": "stdout",
     "output_type": "stream",
     "text": [
      "Extra Training Loss: 1.234868597955658\n",
      "Extra Training Accuracy of the network: 53 %\n",
      "Extra Testing Loss: 1.1326558589935303\n",
      "Extra Testing Accuracy of the network: 57 %\n"
     ]
    },
    {
     "name": "stderr",
     "output_type": "stream",
     "text": [
      "  0%|▏                                                                                                                                                                 | 1/1000 [00:04<1:16:03,  4.57s/it]"
     ]
    },
    {
     "name": "stdout",
     "output_type": "stream",
     "text": [
      "Training Loss: 1.5865876887525832\n",
      "Validation Loss: 1.4214964015143259\n",
      "Training Accuracy of the network: 23 %\n",
      "Validation Accuracy of the network: 22 %\n",
      "Validation loss decreased (inf --> 1.421496).  Saving model ...\n"
     ]
    },
    {
     "name": "stderr",
     "output_type": "stream",
     "text": [
      "  0%|▎                                                                                                                                                                 | 2/1000 [00:09<1:19:23,  4.77s/it]"
     ]
    },
    {
     "name": "stdout",
     "output_type": "stream",
     "text": [
      "Training Loss: 1.530764808825084\n",
      "Validation Loss: 1.4161798647471837\n",
      "Training Accuracy of the network: 25 %\n",
      "Validation Accuracy of the network: 22 %\n",
      "Validation loss decreased (1.421496 --> 1.416180).  Saving model ...\n"
     ]
    },
    {
     "name": "stderr",
     "output_type": "stream",
     "text": [
      "  0%|▍                                                                                                                                                                 | 3/1000 [00:14<1:20:43,  4.86s/it]"
     ]
    },
    {
     "name": "stdout",
     "output_type": "stream",
     "text": [
      "Training Loss: 1.470093777350017\n",
      "Validation Loss: 1.4062357255390712\n",
      "Training Accuracy of the network: 27 %\n",
      "Validation Accuracy of the network: 22 %\n",
      "Validation loss decreased (1.416180 --> 1.406236).  Saving model ...\n"
     ]
    },
    {
     "name": "stderr",
     "output_type": "stream",
     "text": [
      "  0%|▋                                                                                                                                                                 | 4/1000 [00:19<1:20:11,  4.83s/it]"
     ]
    },
    {
     "name": "stdout",
     "output_type": "stream",
     "text": [
      "Training Loss: 1.443052408524922\n",
      "Validation Loss: 1.3823366267340524\n",
      "Training Accuracy of the network: 31 %\n",
      "Validation Accuracy of the network: 27 %\n",
      "Validation loss decreased (1.406236 --> 1.382337).  Saving model ...\n"
     ]
    },
    {
     "name": "stderr",
     "output_type": "stream",
     "text": [
      "  0%|▊                                                                                                                                                                 | 5/1000 [00:24<1:19:54,  4.82s/it]"
     ]
    },
    {
     "name": "stdout",
     "output_type": "stream",
     "text": [
      "Training Loss: 1.4145761736801692\n",
      "Validation Loss: 1.3655919075012206\n",
      "Training Accuracy of the network: 31 %\n",
      "Validation Accuracy of the network: 32 %\n",
      "Validation loss decreased (1.382337 --> 1.365592).  Saving model ...\n"
     ]
    },
    {
     "name": "stderr",
     "output_type": "stream",
     "text": [
      "  1%|▉                                                                                                                                                                 | 6/1000 [00:28<1:19:17,  4.79s/it]"
     ]
    },
    {
     "name": "stdout",
     "output_type": "stream",
     "text": [
      "Training Loss: 1.4029975857053485\n",
      "Validation Loss: 1.359960583278111\n",
      "Training Accuracy of the network: 31 %\n",
      "Validation Accuracy of the network: 33 %\n",
      "Validation loss decreased (1.365592 --> 1.359961).  Saving model ...\n"
     ]
    },
    {
     "name": "stderr",
     "output_type": "stream",
     "text": [
      "  1%|█▏                                                                                                                                                                | 7/1000 [00:33<1:18:40,  4.75s/it]"
     ]
    },
    {
     "name": "stdout",
     "output_type": "stream",
     "text": [
      "Training Loss: 1.3619146334273475\n",
      "Validation Loss: 1.3540178946086339\n",
      "Training Accuracy of the network: 34 %\n",
      "Validation Accuracy of the network: 35 %\n",
      "Validation loss decreased (1.359961 --> 1.354018).  Saving model ...\n"
     ]
    },
    {
     "name": "stderr",
     "output_type": "stream",
     "text": [
      "  1%|█▎                                                                                                                                                                | 8/1000 [00:38<1:19:24,  4.80s/it]"
     ]
    },
    {
     "name": "stdout",
     "output_type": "stream",
     "text": [
      "Training Loss: 1.3450123395238605\n",
      "Validation Loss: 1.344799028124128\n",
      "Training Accuracy of the network: 36 %\n",
      "Validation Accuracy of the network: 35 %\n",
      "Validation loss decreased (1.354018 --> 1.344799).  Saving model ...\n"
     ]
    },
    {
     "name": "stderr",
     "output_type": "stream",
     "text": [
      "  1%|█▍                                                                                                                                                                | 9/1000 [00:43<1:19:20,  4.80s/it]"
     ]
    },
    {
     "name": "stdout",
     "output_type": "stream",
     "text": [
      "Training Loss: 1.3148725254195077\n",
      "Validation Loss: 1.3305368287222725\n",
      "Training Accuracy of the network: 37 %\n",
      "Validation Accuracy of the network: 36 %\n",
      "Validation loss decreased (1.344799 --> 1.330537).  Saving model ...\n"
     ]
    },
    {
     "name": "stderr",
     "output_type": "stream",
     "text": [
      "  1%|█▌                                                                                                                                                               | 10/1000 [00:48<1:19:31,  4.82s/it]"
     ]
    },
    {
     "name": "stdout",
     "output_type": "stream",
     "text": [
      "Training Loss: 1.3208692069564547\n",
      "Validation Loss: 1.3298954452787126\n",
      "Training Accuracy of the network: 37 %\n",
      "Validation Accuracy of the network: 38 %\n",
      "Validation loss decreased (1.330537 --> 1.329895).  Saving model ...\n"
     ]
    },
    {
     "name": "stderr",
     "output_type": "stream",
     "text": [
      "  1%|█▊                                                                                                                                                               | 11/1000 [00:52<1:19:56,  4.85s/it]"
     ]
    },
    {
     "name": "stdout",
     "output_type": "stream",
     "text": [
      "Training Loss: 1.285617156965392\n",
      "Validation Loss: 1.317564446585519\n",
      "Training Accuracy of the network: 41 %\n",
      "Validation Accuracy of the network: 38 %\n",
      "Validation loss decreased (1.329895 --> 1.317564).  Saving model ...\n"
     ]
    },
    {
     "name": "stderr",
     "output_type": "stream",
     "text": [
      "  1%|█▉                                                                                                                                                               | 12/1000 [00:57<1:20:36,  4.89s/it]"
     ]
    },
    {
     "name": "stdout",
     "output_type": "stream",
     "text": [
      "Training Loss: 1.2773247884852545\n",
      "Validation Loss: 1.3126754556383406\n",
      "Training Accuracy of the network: 42 %\n",
      "Validation Accuracy of the network: 39 %\n",
      "Validation loss decreased (1.317564 --> 1.312675).  Saving model ...\n"
     ]
    },
    {
     "name": "stderr",
     "output_type": "stream",
     "text": [
      "  1%|██                                                                                                                                                               | 13/1000 [01:02<1:19:27,  4.83s/it]"
     ]
    },
    {
     "name": "stdout",
     "output_type": "stream",
     "text": [
      "Training Loss: 1.2676981721605574\n",
      "Validation Loss: 1.3067034891673497\n",
      "Training Accuracy of the network: 42 %\n",
      "Validation Accuracy of the network: 38 %\n",
      "Validation loss decreased (1.312675 --> 1.306703).  Saving model ...\n"
     ]
    },
    {
     "name": "stderr",
     "output_type": "stream",
     "text": [
      "  1%|██▎                                                                                                                                                              | 14/1000 [01:07<1:17:50,  4.74s/it]"
     ]
    },
    {
     "name": "stdout",
     "output_type": "stream",
     "text": [
      "Training Loss: 1.2467749378510884\n",
      "Validation Loss: 1.2965283155441285\n",
      "Training Accuracy of the network: 42 %\n",
      "Validation Accuracy of the network: 42 %\n",
      "Validation loss decreased (1.306703 --> 1.296528).  Saving model ...\n"
     ]
    },
    {
     "name": "stderr",
     "output_type": "stream",
     "text": [
      "  2%|██▍                                                                                                                                                              | 15/1000 [01:11<1:13:35,  4.48s/it]"
     ]
    },
    {
     "name": "stdout",
     "output_type": "stream",
     "text": [
      "Training Loss: 1.2473184308835439\n",
      "Validation Loss: 1.2953385182789394\n",
      "Training Accuracy of the network: 43 %\n",
      "Validation Accuracy of the network: 38 %\n",
      "Validation loss decreased (1.296528 --> 1.295339).  Saving model ...\n"
     ]
    },
    {
     "name": "stderr",
     "output_type": "stream",
     "text": [
      "  2%|██▌                                                                                                                                                              | 16/1000 [01:14<1:09:31,  4.24s/it]"
     ]
    },
    {
     "name": "stdout",
     "output_type": "stream",
     "text": [
      "Training Loss: 1.203321978875569\n",
      "Validation Loss: 1.2894764763968332\n",
      "Training Accuracy of the network: 46 %\n",
      "Validation Accuracy of the network: 40 %\n",
      "Validation loss decreased (1.295339 --> 1.289476).  Saving model ...\n"
     ]
    },
    {
     "name": "stderr",
     "output_type": "stream",
     "text": [
      "  2%|██▋                                                                                                                                                              | 17/1000 [01:18<1:06:53,  4.08s/it]"
     ]
    },
    {
     "name": "stdout",
     "output_type": "stream",
     "text": [
      "Training Loss: 1.1905821753399712\n",
      "Validation Loss: 1.2833252838679723\n",
      "Training Accuracy of the network: 47 %\n",
      "Validation Accuracy of the network: 42 %\n",
      "Validation loss decreased (1.289476 --> 1.283325).  Saving model ...\n"
     ]
    },
    {
     "name": "stderr",
     "output_type": "stream",
     "text": [
      "  2%|██▉                                                                                                                                                              | 18/1000 [01:22<1:05:43,  4.02s/it]"
     ]
    },
    {
     "name": "stdout",
     "output_type": "stream",
     "text": [
      "Training Loss: 1.1814809671470097\n",
      "Validation Loss: 1.2736769131251744\n",
      "Training Accuracy of the network: 45 %\n",
      "Validation Accuracy of the network: 40 %\n",
      "Validation loss decreased (1.283325 --> 1.273677).  Saving model ...\n"
     ]
    },
    {
     "name": "stderr",
     "output_type": "stream",
     "text": [
      "  2%|███                                                                                                                                                              | 19/1000 [01:26<1:04:33,  3.95s/it]"
     ]
    },
    {
     "name": "stdout",
     "output_type": "stream",
     "text": [
      "Training Loss: 1.1685847363301687\n",
      "Validation Loss: 1.2713811942509243\n",
      "Training Accuracy of the network: 46 %\n",
      "Validation Accuracy of the network: 41 %\n",
      "Validation loss decreased (1.273677 --> 1.271381).  Saving model ...\n"
     ]
    },
    {
     "name": "stderr",
     "output_type": "stream",
     "text": [
      "  2%|███▏                                                                                                                                                             | 20/1000 [01:29<1:02:57,  3.85s/it]"
     ]
    },
    {
     "name": "stdout",
     "output_type": "stream",
     "text": [
      "Training Loss: 1.1511991441249847\n",
      "Validation Loss: 1.2657529762813022\n",
      "Training Accuracy of the network: 49 %\n",
      "Validation Accuracy of the network: 40 %\n",
      "Validation loss decreased (1.271381 --> 1.265753).  Saving model ...\n"
     ]
    },
    {
     "name": "stderr",
     "output_type": "stream",
     "text": [
      "  2%|███▍                                                                                                                                                             | 21/1000 [01:33<1:01:33,  3.77s/it]"
     ]
    },
    {
     "name": "stdout",
     "output_type": "stream",
     "text": [
      "Training Loss: 1.135169974395207\n",
      "Validation Loss: 1.2538274713924953\n",
      "Training Accuracy of the network: 50 %\n",
      "Validation Accuracy of the network: 42 %\n",
      "Validation loss decreased (1.265753 --> 1.253827).  Saving model ...\n"
     ]
    },
    {
     "name": "stderr",
     "output_type": "stream",
     "text": [
      "  2%|███▌                                                                                                                                                             | 22/1000 [01:36<1:00:37,  3.72s/it]"
     ]
    },
    {
     "name": "stdout",
     "output_type": "stream",
     "text": [
      "Training Loss: 1.1253152711050851\n",
      "Validation Loss: 1.2573688983917237\n",
      "Training Accuracy of the network: 51 %\n",
      "Validation Accuracy of the network: 41 %\n",
      "EarlyStopping counter: 1 out of 50\n"
     ]
    },
    {
     "name": "stderr",
     "output_type": "stream",
     "text": [
      "  2%|███▋                                                                                                                                                             | 23/1000 [01:40<1:00:46,  3.73s/it]"
     ]
    },
    {
     "name": "stdout",
     "output_type": "stream",
     "text": [
      "Training Loss: 1.0916181411061967\n",
      "Validation Loss: 1.2536696195602417\n",
      "Training Accuracy of the network: 53 %\n",
      "Validation Accuracy of the network: 41 %\n",
      "Validation loss decreased (1.253827 --> 1.253670).  Saving model ...\n"
     ]
    },
    {
     "name": "stderr",
     "output_type": "stream",
     "text": [
      "  2%|███▊                                                                                                                                                             | 24/1000 [01:44<1:02:42,  3.86s/it]"
     ]
    },
    {
     "name": "stdout",
     "output_type": "stream",
     "text": [
      "Training Loss: 1.094429914866175\n",
      "Validation Loss: 1.2346960033689227\n",
      "Training Accuracy of the network: 53 %\n",
      "Validation Accuracy of the network: 42 %\n",
      "Validation loss decreased (1.253670 --> 1.234696).  Saving model ...\n"
     ]
    },
    {
     "name": "stderr",
     "output_type": "stream",
     "text": [
      "  2%|████                                                                                                                                                             | 25/1000 [01:49<1:07:46,  4.17s/it]"
     ]
    },
    {
     "name": "stdout",
     "output_type": "stream",
     "text": [
      "Training Loss: 1.0746811764580864\n",
      "Validation Loss: 1.231257084437779\n",
      "Training Accuracy of the network: 55 %\n",
      "Validation Accuracy of the network: 45 %\n",
      "Validation loss decreased (1.234696 --> 1.231257).  Saving model ...\n"
     ]
    },
    {
     "name": "stderr",
     "output_type": "stream",
     "text": [
      "  3%|████▏                                                                                                                                                            | 26/1000 [01:54<1:11:22,  4.40s/it]"
     ]
    },
    {
     "name": "stdout",
     "output_type": "stream",
     "text": [
      "Training Loss: 1.0717745304107666\n",
      "Validation Loss: 1.2102502482278006\n",
      "Training Accuracy of the network: 56 %\n",
      "Validation Accuracy of the network: 43 %\n",
      "Validation loss decreased (1.231257 --> 1.210250).  Saving model ...\n"
     ]
    },
    {
     "name": "stderr",
     "output_type": "stream",
     "text": [
      "  3%|████▎                                                                                                                                                            | 27/1000 [01:59<1:13:24,  4.53s/it]"
     ]
    },
    {
     "name": "stdout",
     "output_type": "stream",
     "text": [
      "Training Loss: 1.0468142875603268\n",
      "Validation Loss: 1.2134752324649265\n",
      "Training Accuracy of the network: 58 %\n",
      "Validation Accuracy of the network: 44 %\n",
      "EarlyStopping counter: 1 out of 50\n"
     ]
    },
    {
     "name": "stderr",
     "output_type": "stream",
     "text": [
      "  3%|████▌                                                                                                                                                            | 28/1000 [02:04<1:15:24,  4.66s/it]"
     ]
    },
    {
     "name": "stdout",
     "output_type": "stream",
     "text": [
      "Training Loss: 1.0316661306789943\n",
      "Validation Loss: 1.1976454394204277\n",
      "Training Accuracy of the network: 58 %\n",
      "Validation Accuracy of the network: 42 %\n",
      "Validation loss decreased (1.210250 --> 1.197645).  Saving model ...\n"
     ]
    },
    {
     "name": "stderr",
     "output_type": "stream",
     "text": [
      "  3%|████▋                                                                                                                                                            | 29/1000 [02:09<1:16:22,  4.72s/it]"
     ]
    },
    {
     "name": "stdout",
     "output_type": "stream",
     "text": [
      "Training Loss: 1.011762050645692\n",
      "Validation Loss: 1.1898756197520666\n",
      "Training Accuracy of the network: 59 %\n",
      "Validation Accuracy of the network: 45 %\n",
      "Validation loss decreased (1.197645 --> 1.189876).  Saving model ...\n"
     ]
    },
    {
     "name": "stderr",
     "output_type": "stream",
     "text": [
      "  3%|████▊                                                                                                                                                            | 30/1000 [02:14<1:17:18,  4.78s/it]"
     ]
    },
    {
     "name": "stdout",
     "output_type": "stream",
     "text": [
      "Training Loss: 1.0055675996201379\n",
      "Validation Loss: 1.1815229569162642\n",
      "Training Accuracy of the network: 60 %\n",
      "Validation Accuracy of the network: 45 %\n",
      "Validation loss decreased (1.189876 --> 1.181523).  Saving model ...\n"
     ]
    },
    {
     "name": "stderr",
     "output_type": "stream",
     "text": [
      "  3%|████▉                                                                                                                                                            | 31/1000 [02:18<1:17:19,  4.79s/it]"
     ]
    },
    {
     "name": "stdout",
     "output_type": "stream",
     "text": [
      "Training Loss: 0.9942547319190843\n",
      "Validation Loss: 1.182463950770242\n",
      "Training Accuracy of the network: 60 %\n",
      "Validation Accuracy of the network: 46 %\n",
      "EarlyStopping counter: 1 out of 50\n"
     ]
    },
    {
     "name": "stderr",
     "output_type": "stream",
     "text": [
      "  3%|█████▏                                                                                                                                                           | 32/1000 [02:23<1:17:01,  4.77s/it]"
     ]
    },
    {
     "name": "stdout",
     "output_type": "stream",
     "text": [
      "Training Loss: 0.9882584307874952\n",
      "Validation Loss: 1.1870088475091116\n",
      "Training Accuracy of the network: 60 %\n",
      "Validation Accuracy of the network: 46 %\n",
      "EarlyStopping counter: 2 out of 50\n"
     ]
    },
    {
     "name": "stderr",
     "output_type": "stream",
     "text": [
      "  3%|█████▎                                                                                                                                                           | 33/1000 [02:28<1:17:13,  4.79s/it]"
     ]
    },
    {
     "name": "stdout",
     "output_type": "stream",
     "text": [
      "Training Loss: 0.966841807109969\n",
      "Validation Loss: 1.1715596352304731\n",
      "Training Accuracy of the network: 60 %\n",
      "Validation Accuracy of the network: 45 %\n",
      "Validation loss decreased (1.181523 --> 1.171560).  Saving model ...\n"
     ]
    },
    {
     "name": "stderr",
     "output_type": "stream",
     "text": [
      "  3%|█████▍                                                                                                                                                           | 34/1000 [02:33<1:16:53,  4.78s/it]"
     ]
    },
    {
     "name": "stdout",
     "output_type": "stream",
     "text": [
      "Training Loss: 0.9554440368499074\n",
      "Validation Loss: 1.1685734680720739\n",
      "Training Accuracy of the network: 62 %\n",
      "Validation Accuracy of the network: 46 %\n",
      "Validation loss decreased (1.171560 --> 1.168573).  Saving model ...\n"
     ]
    },
    {
     "name": "stderr",
     "output_type": "stream",
     "text": [
      "  4%|█████▋                                                                                                                                                           | 35/1000 [02:38<1:17:00,  4.79s/it]"
     ]
    },
    {
     "name": "stdout",
     "output_type": "stream",
     "text": [
      "Training Loss: 0.9418312962566103\n",
      "Validation Loss: 1.1584010669163296\n",
      "Training Accuracy of the network: 63 %\n",
      "Validation Accuracy of the network: 47 %\n",
      "Validation loss decreased (1.168573 --> 1.158401).  Saving model ...\n"
     ]
    },
    {
     "name": "stderr",
     "output_type": "stream",
     "text": [
      "  4%|█████▊                                                                                                                                                           | 36/1000 [02:43<1:17:22,  4.82s/it]"
     ]
    },
    {
     "name": "stdout",
     "output_type": "stream",
     "text": [
      "Training Loss: 0.9217127672263554\n",
      "Validation Loss: 1.1518335717064994\n",
      "Training Accuracy of the network: 64 %\n",
      "Validation Accuracy of the network: 47 %\n",
      "Validation loss decreased (1.158401 --> 1.151834).  Saving model ...\n"
     ]
    },
    {
     "name": "stderr",
     "output_type": "stream",
     "text": [
      "  4%|█████▉                                                                                                                                                           | 37/1000 [02:47<1:16:58,  4.80s/it]"
     ]
    },
    {
     "name": "stdout",
     "output_type": "stream",
     "text": [
      "Training Loss: 0.9244167919669832\n",
      "Validation Loss: 1.1363490888050625\n",
      "Training Accuracy of the network: 64 %\n",
      "Validation Accuracy of the network: 47 %\n",
      "Validation loss decreased (1.151834 --> 1.136349).  Saving model ...\n"
     ]
    },
    {
     "name": "stderr",
     "output_type": "stream",
     "text": [
      "  4%|██████                                                                                                                                                           | 38/1000 [02:52<1:16:07,  4.75s/it]"
     ]
    },
    {
     "name": "stdout",
     "output_type": "stream",
     "text": [
      "Training Loss: 0.9086582083787237\n",
      "Validation Loss: 1.1444642526762827\n",
      "Training Accuracy of the network: 65 %\n",
      "Validation Accuracy of the network: 47 %\n",
      "EarlyStopping counter: 1 out of 50\n"
     ]
    },
    {
     "name": "stderr",
     "output_type": "stream",
     "text": [
      "  4%|██████▎                                                                                                                                                          | 39/1000 [02:57<1:16:21,  4.77s/it]"
     ]
    },
    {
     "name": "stdout",
     "output_type": "stream",
     "text": [
      "Training Loss: 0.8808818344558988\n",
      "Validation Loss: 1.1374857068061828\n",
      "Training Accuracy of the network: 66 %\n",
      "Validation Accuracy of the network: 47 %\n",
      "EarlyStopping counter: 2 out of 50\n"
     ]
    },
    {
     "name": "stderr",
     "output_type": "stream",
     "text": [
      "  4%|██████▍                                                                                                                                                          | 40/1000 [03:01<1:16:24,  4.78s/it]"
     ]
    },
    {
     "name": "stdout",
     "output_type": "stream",
     "text": [
      "Training Loss: 0.8741790337221963\n",
      "Validation Loss: 1.132147058418819\n",
      "Training Accuracy of the network: 67 %\n",
      "Validation Accuracy of the network: 49 %\n",
      "Validation loss decreased (1.136349 --> 1.132147).  Saving model ...\n"
     ]
    },
    {
     "name": "stderr",
     "output_type": "stream",
     "text": [
      "  4%|██████▌                                                                                                                                                          | 41/1000 [03:06<1:16:29,  4.79s/it]"
     ]
    },
    {
     "name": "stdout",
     "output_type": "stream",
     "text": [
      "Training Loss: 0.8732232087424823\n",
      "Validation Loss: 1.1172835758754185\n",
      "Training Accuracy of the network: 66 %\n",
      "Validation Accuracy of the network: 49 %\n",
      "Validation loss decreased (1.132147 --> 1.117284).  Saving model ...\n"
     ]
    },
    {
     "name": "stderr",
     "output_type": "stream",
     "text": [
      "  4%|██████▊                                                                                                                                                          | 42/1000 [03:11<1:17:22,  4.85s/it]"
     ]
    },
    {
     "name": "stdout",
     "output_type": "stream",
     "text": [
      "Training Loss: 0.861750893507685\n",
      "Validation Loss: 1.1300495318004062\n",
      "Training Accuracy of the network: 67 %\n",
      "Validation Accuracy of the network: 49 %\n",
      "EarlyStopping counter: 1 out of 50\n"
     ]
    },
    {
     "name": "stderr",
     "output_type": "stream",
     "text": [
      "  4%|██████▉                                                                                                                                                          | 43/1000 [03:16<1:17:55,  4.89s/it]"
     ]
    },
    {
     "name": "stdout",
     "output_type": "stream",
     "text": [
      "Training Loss: 0.8519161409565381\n",
      "Validation Loss: 1.1312524795532226\n",
      "Training Accuracy of the network: 68 %\n",
      "Validation Accuracy of the network: 47 %\n",
      "EarlyStopping counter: 2 out of 50\n"
     ]
    },
    {
     "name": "stderr",
     "output_type": "stream",
     "text": [
      "  4%|███████                                                                                                                                                          | 44/1000 [03:21<1:17:44,  4.88s/it]"
     ]
    },
    {
     "name": "stdout",
     "output_type": "stream",
     "text": [
      "Training Loss: 0.8339574558394296\n",
      "Validation Loss: 1.1206527403422764\n",
      "Training Accuracy of the network: 67 %\n",
      "Validation Accuracy of the network: 49 %\n",
      "EarlyStopping counter: 3 out of 50\n"
     ]
    },
    {
     "name": "stderr",
     "output_type": "stream",
     "text": [
      "  4%|███████▏                                                                                                                                                         | 45/1000 [03:26<1:17:11,  4.85s/it]"
     ]
    },
    {
     "name": "stdout",
     "output_type": "stream",
     "text": [
      "Training Loss: 0.8353241594774382\n",
      "Validation Loss: 1.1248074190957205\n",
      "Training Accuracy of the network: 70 %\n",
      "Validation Accuracy of the network: 51 %\n",
      "EarlyStopping counter: 4 out of 50\n"
     ]
    },
    {
     "name": "stderr",
     "output_type": "stream",
     "text": [
      "  5%|███████▍                                                                                                                                                         | 46/1000 [03:31<1:17:08,  4.85s/it]"
     ]
    },
    {
     "name": "stdout",
     "output_type": "stream",
     "text": [
      "Training Loss: 0.8184160741312163\n",
      "Validation Loss: 1.1167216386113847\n",
      "Training Accuracy of the network: 68 %\n",
      "Validation Accuracy of the network: 49 %\n",
      "Validation loss decreased (1.117284 --> 1.116722).  Saving model ...\n"
     ]
    },
    {
     "name": "stderr",
     "output_type": "stream",
     "text": [
      "  5%|███████▌                                                                                                                                                         | 47/1000 [03:35<1:16:13,  4.80s/it]"
     ]
    },
    {
     "name": "stdout",
     "output_type": "stream",
     "text": [
      "Training Loss: 0.8170948103070259\n",
      "Validation Loss: 1.1123140488352095\n",
      "Training Accuracy of the network: 69 %\n",
      "Validation Accuracy of the network: 49 %\n",
      "Validation loss decreased (1.116722 --> 1.112314).  Saving model ...\n"
     ]
    },
    {
     "name": "stderr",
     "output_type": "stream",
     "text": [
      "  5%|███████▋                                                                                                                                                         | 48/1000 [03:40<1:15:58,  4.79s/it]"
     ]
    },
    {
     "name": "stdout",
     "output_type": "stream",
     "text": [
      "Training Loss: 0.8198531874588557\n",
      "Validation Loss: 1.1279663903372628\n",
      "Training Accuracy of the network: 68 %\n",
      "Validation Accuracy of the network: 51 %\n",
      "EarlyStopping counter: 1 out of 50\n"
     ]
    },
    {
     "name": "stderr",
     "output_type": "stream",
     "text": [
      "  5%|███████▉                                                                                                                                                         | 49/1000 [03:45<1:16:36,  4.83s/it]"
     ]
    },
    {
     "name": "stdout",
     "output_type": "stream",
     "text": [
      "Training Loss: 0.796408762889249\n",
      "Validation Loss: 1.1033741065434046\n",
      "Training Accuracy of the network: 70 %\n",
      "Validation Accuracy of the network: 49 %\n",
      "Validation loss decreased (1.112314 --> 1.103374).  Saving model ...\n"
     ]
    },
    {
     "name": "stderr",
     "output_type": "stream",
     "text": [
      "  5%|████████                                                                                                                                                         | 50/1000 [03:50<1:16:45,  4.85s/it]"
     ]
    },
    {
     "name": "stdout",
     "output_type": "stream",
     "text": [
      "Training Loss: 0.7807818700160299\n",
      "Validation Loss: 1.1029299804142543\n",
      "Training Accuracy of the network: 70 %\n",
      "Validation Accuracy of the network: 48 %\n",
      "Validation loss decreased (1.103374 --> 1.102930).  Saving model ...\n"
     ]
    },
    {
     "name": "stderr",
     "output_type": "stream",
     "text": [
      "  5%|████████▏                                                                                                                                                        | 51/1000 [03:55<1:16:23,  4.83s/it]"
     ]
    },
    {
     "name": "stdout",
     "output_type": "stream",
     "text": [
      "Training Loss: 0.766055985220841\n",
      "Validation Loss: 1.113744808946337\n",
      "Training Accuracy of the network: 71 %\n",
      "Validation Accuracy of the network: 48 %\n",
      "EarlyStopping counter: 1 out of 50\n"
     ]
    },
    {
     "name": "stderr",
     "output_type": "stream",
     "text": [
      "  5%|████████▎                                                                                                                                                        | 52/1000 [04:00<1:15:45,  4.79s/it]"
     ]
    },
    {
     "name": "stdout",
     "output_type": "stream",
     "text": [
      "Training Loss: 0.7714946691479002\n",
      "Validation Loss: 1.097534159251622\n",
      "Training Accuracy of the network: 71 %\n",
      "Validation Accuracy of the network: 50 %\n",
      "Validation loss decreased (1.102930 --> 1.097534).  Saving model ...\n"
     ]
    },
    {
     "name": "stderr",
     "output_type": "stream",
     "text": [
      "  5%|████████▌                                                                                                                                                        | 53/1000 [04:04<1:16:20,  4.84s/it]"
     ]
    },
    {
     "name": "stdout",
     "output_type": "stream",
     "text": [
      "Training Loss: 0.7608980242695127\n",
      "Validation Loss: 1.0857524190630232\n",
      "Training Accuracy of the network: 70 %\n",
      "Validation Accuracy of the network: 51 %\n",
      "Validation loss decreased (1.097534 --> 1.085752).  Saving model ...\n"
     ]
    },
    {
     "name": "stderr",
     "output_type": "stream",
     "text": [
      "  5%|████████▋                                                                                                                                                        | 54/1000 [04:10<1:17:18,  4.90s/it]"
     ]
    },
    {
     "name": "stdout",
     "output_type": "stream",
     "text": [
      "Training Loss: 0.7529799880725997\n",
      "Validation Loss: 1.0968680041176933\n",
      "Training Accuracy of the network: 73 %\n",
      "Validation Accuracy of the network: 50 %\n",
      "EarlyStopping counter: 1 out of 50\n"
     ]
    },
    {
     "name": "stderr",
     "output_type": "stream",
     "text": [
      "  6%|████████▊                                                                                                                                                        | 55/1000 [04:14<1:16:24,  4.85s/it]"
     ]
    },
    {
     "name": "stdout",
     "output_type": "stream",
     "text": [
      "Training Loss: 0.749410451735769\n",
      "Validation Loss: 1.0810381736074175\n",
      "Training Accuracy of the network: 72 %\n",
      "Validation Accuracy of the network: 52 %\n",
      "Validation loss decreased (1.085752 --> 1.081038).  Saving model ...\n"
     ]
    },
    {
     "name": "stderr",
     "output_type": "stream",
     "text": [
      "  6%|█████████                                                                                                                                                        | 56/1000 [04:19<1:16:43,  4.88s/it]"
     ]
    },
    {
     "name": "stdout",
     "output_type": "stream",
     "text": [
      "Training Loss: 0.7310349635779858\n",
      "Validation Loss: 1.1023684688976834\n",
      "Training Accuracy of the network: 73 %\n",
      "Validation Accuracy of the network: 50 %\n",
      "EarlyStopping counter: 1 out of 50\n"
     ]
    },
    {
     "name": "stderr",
     "output_type": "stream",
     "text": [
      "  6%|█████████▏                                                                                                                                                       | 57/1000 [04:24<1:16:17,  4.85s/it]"
     ]
    },
    {
     "name": "stdout",
     "output_type": "stream",
     "text": [
      "Training Loss: 0.7134363246815545\n",
      "Validation Loss: 1.1055140478270395\n",
      "Training Accuracy of the network: 74 %\n",
      "Validation Accuracy of the network: 49 %\n",
      "EarlyStopping counter: 2 out of 50\n"
     ]
    },
    {
     "name": "stderr",
     "output_type": "stream",
     "text": [
      "  6%|█████████▎                                                                                                                                                       | 58/1000 [04:29<1:15:56,  4.84s/it]"
     ]
    },
    {
     "name": "stdout",
     "output_type": "stream",
     "text": [
      "Training Loss: 0.7052244541900499\n",
      "Validation Loss: 1.0898520486695427\n",
      "Training Accuracy of the network: 74 %\n",
      "Validation Accuracy of the network: 51 %\n",
      "EarlyStopping counter: 3 out of 50\n"
     ]
    },
    {
     "name": "stderr",
     "output_type": "stream",
     "text": [
      "  6%|█████████▍                                                                                                                                                       | 59/1000 [04:33<1:15:04,  4.79s/it]"
     ]
    },
    {
     "name": "stdout",
     "output_type": "stream",
     "text": [
      "Training Loss: 0.7105020390025207\n",
      "Validation Loss: 1.0951623456818718\n",
      "Training Accuracy of the network: 73 %\n",
      "Validation Accuracy of the network: 52 %\n",
      "EarlyStopping counter: 4 out of 50\n"
     ]
    },
    {
     "name": "stderr",
     "output_type": "stream",
     "text": [
      "  6%|█████████▋                                                                                                                                                       | 60/1000 [04:38<1:14:48,  4.77s/it]"
     ]
    },
    {
     "name": "stdout",
     "output_type": "stream",
     "text": [
      "Training Loss: 0.7152027601642268\n",
      "Validation Loss: 1.1047210267611913\n",
      "Training Accuracy of the network: 73 %\n",
      "Validation Accuracy of the network: 51 %\n",
      "EarlyStopping counter: 5 out of 50\n"
     ]
    },
    {
     "name": "stderr",
     "output_type": "stream",
     "text": [
      "  6%|█████████▊                                                                                                                                                       | 61/1000 [04:43<1:15:23,  4.82s/it]"
     ]
    },
    {
     "name": "stdout",
     "output_type": "stream",
     "text": [
      "Training Loss: 0.7024918173040663\n",
      "Validation Loss: 1.0955822263445174\n",
      "Training Accuracy of the network: 74 %\n",
      "Validation Accuracy of the network: 52 %\n",
      "EarlyStopping counter: 6 out of 50\n"
     ]
    },
    {
     "name": "stderr",
     "output_type": "stream",
     "text": [
      "  6%|█████████▉                                                                                                                                                       | 62/1000 [04:48<1:13:21,  4.69s/it]"
     ]
    },
    {
     "name": "stdout",
     "output_type": "stream",
     "text": [
      "Training Loss: 0.6859164565801621\n",
      "Validation Loss: 1.078802159854344\n",
      "Training Accuracy of the network: 75 %\n",
      "Validation Accuracy of the network: 51 %\n",
      "Validation loss decreased (1.081038 --> 1.078802).  Saving model ...\n"
     ]
    },
    {
     "name": "stderr",
     "output_type": "stream",
     "text": [
      "  6%|██████████▏                                                                                                                                                      | 63/1000 [04:51<1:08:25,  4.38s/it]"
     ]
    },
    {
     "name": "stdout",
     "output_type": "stream",
     "text": [
      "Training Loss: 0.6854370227881841\n",
      "Validation Loss: 1.0789291398865837\n",
      "Training Accuracy of the network: 74 %\n",
      "Validation Accuracy of the network: 52 %\n",
      "EarlyStopping counter: 1 out of 50\n"
     ]
    },
    {
     "name": "stderr",
     "output_type": "stream",
     "text": [
      "  6%|██████████▎                                                                                                                                                      | 64/1000 [04:55<1:05:26,  4.20s/it]"
     ]
    },
    {
     "name": "stdout",
     "output_type": "stream",
     "text": [
      "Training Loss: 0.6874204034251826\n",
      "Validation Loss: 1.0715782914842877\n",
      "Training Accuracy of the network: 74 %\n",
      "Validation Accuracy of the network: 51 %\n",
      "Validation loss decreased (1.078802 --> 1.071578).  Saving model ...\n"
     ]
    },
    {
     "name": "stderr",
     "output_type": "stream",
     "text": [
      "  6%|██████████▍                                                                                                                                                      | 65/1000 [04:59<1:03:27,  4.07s/it]"
     ]
    },
    {
     "name": "stdout",
     "output_type": "stream",
     "text": [
      "Training Loss: 0.6641621749315944\n",
      "Validation Loss: 1.081812766620091\n",
      "Training Accuracy of the network: 76 %\n",
      "Validation Accuracy of the network: 52 %\n",
      "EarlyStopping counter: 1 out of 50\n"
     ]
    },
    {
     "name": "stderr",
     "output_type": "stream",
     "text": [
      "  7%|██████████▋                                                                                                                                                      | 66/1000 [05:02<1:01:33,  3.95s/it]"
     ]
    },
    {
     "name": "stdout",
     "output_type": "stream",
     "text": [
      "Training Loss: 0.6672091765595334\n",
      "Validation Loss: 1.0730368682316371\n",
      "Training Accuracy of the network: 75 %\n",
      "Validation Accuracy of the network: 51 %\n",
      "EarlyStopping counter: 2 out of 50\n"
     ]
    },
    {
     "name": "stderr",
     "output_type": "stream",
     "text": [
      "  7%|██████████▊                                                                                                                                                      | 67/1000 [05:06<1:00:26,  3.89s/it]"
     ]
    },
    {
     "name": "stdout",
     "output_type": "stream",
     "text": [
      "Training Loss: 0.6594215967825481\n",
      "Validation Loss: 1.0719074198177883\n",
      "Training Accuracy of the network: 76 %\n",
      "Validation Accuracy of the network: 52 %\n",
      "EarlyStopping counter: 3 out of 50\n"
     ]
    },
    {
     "name": "stderr",
     "output_type": "stream",
     "text": [
      "  7%|██████████▉                                                                                                                                                      | 68/1000 [05:10<1:00:12,  3.88s/it]"
     ]
    },
    {
     "name": "stdout",
     "output_type": "stream",
     "text": [
      "Training Loss: 0.6380647560315472\n",
      "Validation Loss: 1.0822052615029472\n",
      "Training Accuracy of the network: 76 %\n",
      "Validation Accuracy of the network: 53 %\n",
      "EarlyStopping counter: 4 out of 50\n"
     ]
    },
    {
     "name": "stderr",
     "output_type": "stream",
     "text": [
      "  7%|███████████▏                                                                                                                                                       | 69/1000 [05:14<59:57,  3.86s/it]"
     ]
    },
    {
     "name": "stdout",
     "output_type": "stream",
     "text": [
      "Training Loss: 0.6484195678894009\n",
      "Validation Loss: 1.059515140737806\n",
      "Training Accuracy of the network: 76 %\n",
      "Validation Accuracy of the network: 53 %\n",
      "Validation loss decreased (1.071578 --> 1.059515).  Saving model ...\n"
     ]
    },
    {
     "name": "stderr",
     "output_type": "stream",
     "text": [
      "  7%|███████████▍                                                                                                                                                       | 70/1000 [05:18<59:35,  3.85s/it]"
     ]
    },
    {
     "name": "stdout",
     "output_type": "stream",
     "text": [
      "Training Loss: 0.6289046269442354\n",
      "Validation Loss: 1.0470256073134285\n",
      "Training Accuracy of the network: 77 %\n",
      "Validation Accuracy of the network: 53 %\n",
      "Validation loss decreased (1.059515 --> 1.047026).  Saving model ...\n"
     ]
    },
    {
     "name": "stderr",
     "output_type": "stream",
     "text": [
      "  7%|███████████▍                                                                                                                                                     | 71/1000 [05:22<1:02:03,  4.01s/it]"
     ]
    },
    {
     "name": "stdout",
     "output_type": "stream",
     "text": [
      "Training Loss: 0.6428553788789682\n",
      "Validation Loss: 1.0835604803902763\n",
      "Training Accuracy of the network: 77 %\n",
      "Validation Accuracy of the network: 54 %\n",
      "EarlyStopping counter: 1 out of 50\n"
     ]
    },
    {
     "name": "stderr",
     "output_type": "stream",
     "text": [
      "  7%|███████████▌                                                                                                                                                     | 72/1000 [05:27<1:06:29,  4.30s/it]"
     ]
    },
    {
     "name": "stdout",
     "output_type": "stream",
     "text": [
      "Training Loss: 0.6381960995495319\n",
      "Validation Loss: 1.07392886195864\n",
      "Training Accuracy of the network: 77 %\n",
      "Validation Accuracy of the network: 53 %\n",
      "EarlyStopping counter: 2 out of 50\n"
     ]
    },
    {
     "name": "stderr",
     "output_type": "stream",
     "text": [
      "  7%|███████████▊                                                                                                                                                     | 73/1000 [05:32<1:08:41,  4.45s/it]"
     ]
    },
    {
     "name": "stdout",
     "output_type": "stream",
     "text": [
      "Training Loss: 0.6308678150177002\n",
      "Validation Loss: 1.0639676196234567\n",
      "Training Accuracy of the network: 77 %\n",
      "Validation Accuracy of the network: 53 %\n",
      "EarlyStopping counter: 3 out of 50\n"
     ]
    },
    {
     "name": "stderr",
     "output_type": "stream",
     "text": [
      "  7%|███████████▉                                                                                                                                                     | 74/1000 [05:37<1:10:28,  4.57s/it]"
     ]
    },
    {
     "name": "stdout",
     "output_type": "stream",
     "text": [
      "Training Loss: 0.6090052375836031\n",
      "Validation Loss: 1.0306118879999433\n",
      "Training Accuracy of the network: 79 %\n",
      "Validation Accuracy of the network: 55 %\n",
      "Validation loss decreased (1.047026 --> 1.030612).  Saving model ...\n"
     ]
    },
    {
     "name": "stderr",
     "output_type": "stream",
     "text": [
      "  8%|████████████                                                                                                                                                     | 75/1000 [05:41<1:11:46,  4.66s/it]"
     ]
    },
    {
     "name": "stdout",
     "output_type": "stream",
     "text": [
      "Training Loss: 0.6089563280344009\n",
      "Validation Loss: 1.0732077922139849\n",
      "Training Accuracy of the network: 77 %\n",
      "Validation Accuracy of the network: 53 %\n",
      "EarlyStopping counter: 1 out of 50\n"
     ]
    },
    {
     "name": "stderr",
     "output_type": "stream",
     "text": [
      "  8%|████████████▏                                                                                                                                                    | 76/1000 [05:46<1:12:24,  4.70s/it]"
     ]
    },
    {
     "name": "stdout",
     "output_type": "stream",
     "text": [
      "Training Loss: 0.5932061778115375\n",
      "Validation Loss: 1.0666205797876631\n",
      "Training Accuracy of the network: 78 %\n",
      "Validation Accuracy of the network: 54 %\n",
      "EarlyStopping counter: 2 out of 50\n"
     ]
    },
    {
     "name": "stderr",
     "output_type": "stream",
     "text": [
      "  8%|████████████▍                                                                                                                                                    | 77/1000 [05:51<1:12:51,  4.74s/it]"
     ]
    },
    {
     "name": "stdout",
     "output_type": "stream",
     "text": [
      "Training Loss: 0.5990808347506182\n",
      "Validation Loss: 1.0725732122148786\n",
      "Training Accuracy of the network: 79 %\n",
      "Validation Accuracy of the network: 52 %\n",
      "EarlyStopping counter: 3 out of 50\n"
     ]
    },
    {
     "name": "stderr",
     "output_type": "stream",
     "text": [
      "  8%|████████████▌                                                                                                                                                    | 78/1000 [05:56<1:13:11,  4.76s/it]"
     ]
    },
    {
     "name": "stdout",
     "output_type": "stream",
     "text": [
      "Training Loss: 0.5952737254755838\n",
      "Validation Loss: 1.0607440846306937\n",
      "Training Accuracy of the network: 79 %\n",
      "Validation Accuracy of the network: 54 %\n",
      "EarlyStopping counter: 4 out of 50\n"
     ]
    },
    {
     "name": "stderr",
     "output_type": "stream",
     "text": [
      "  8%|████████████▋                                                                                                                                                    | 79/1000 [06:01<1:13:43,  4.80s/it]"
     ]
    },
    {
     "name": "stdout",
     "output_type": "stream",
     "text": [
      "Training Loss: 0.5678205799843584\n",
      "Validation Loss: 1.0560982022966658\n",
      "Training Accuracy of the network: 79 %\n",
      "Validation Accuracy of the network: 55 %\n",
      "EarlyStopping counter: 5 out of 50\n"
     ]
    },
    {
     "name": "stderr",
     "output_type": "stream",
     "text": [
      "  8%|████████████▉                                                                                                                                                    | 80/1000 [06:05<1:12:46,  4.75s/it]"
     ]
    },
    {
     "name": "stdout",
     "output_type": "stream",
     "text": [
      "Training Loss: 0.5837411058800561\n",
      "Validation Loss: 1.0741782699312483\n",
      "Training Accuracy of the network: 79 %\n",
      "Validation Accuracy of the network: 53 %\n",
      "EarlyStopping counter: 6 out of 50\n"
     ]
    },
    {
     "name": "stderr",
     "output_type": "stream",
     "text": [
      "  8%|█████████████                                                                                                                                                    | 81/1000 [06:10<1:13:05,  4.77s/it]"
     ]
    },
    {
     "name": "stdout",
     "output_type": "stream",
     "text": [
      "Training Loss: 0.5763435414859227\n",
      "Validation Loss: 1.0880020754677908\n",
      "Training Accuracy of the network: 80 %\n",
      "Validation Accuracy of the network: 51 %\n",
      "EarlyStopping counter: 7 out of 50\n"
     ]
    },
    {
     "name": "stderr",
     "output_type": "stream",
     "text": [
      "  8%|█████████████▏                                                                                                                                                   | 82/1000 [06:15<1:13:24,  4.80s/it]"
     ]
    },
    {
     "name": "stdout",
     "output_type": "stream",
     "text": [
      "Training Loss: 0.5713656708065953\n",
      "Validation Loss: 1.0818582926477704\n",
      "Training Accuracy of the network: 79 %\n",
      "Validation Accuracy of the network: 53 %\n",
      "EarlyStopping counter: 8 out of 50\n"
     ]
    },
    {
     "name": "stderr",
     "output_type": "stream",
     "text": [
      "  8%|█████████████▎                                                                                                                                                   | 83/1000 [06:20<1:13:35,  4.82s/it]"
     ]
    },
    {
     "name": "stdout",
     "output_type": "stream",
     "text": [
      "Training Loss: 0.5853732480534486\n",
      "Validation Loss: 1.075703377383096\n",
      "Training Accuracy of the network: 79 %\n",
      "Validation Accuracy of the network: 52 %\n",
      "EarlyStopping counter: 9 out of 50\n"
     ]
    },
    {
     "name": "stderr",
     "output_type": "stream",
     "text": [
      "  8%|█████████████▌                                                                                                                                                   | 84/1000 [06:25<1:13:25,  4.81s/it]"
     ]
    },
    {
     "name": "stdout",
     "output_type": "stream",
     "text": [
      "Training Loss: 0.5630535479635\n",
      "Validation Loss: 1.0814974972179958\n",
      "Training Accuracy of the network: 79 %\n",
      "Validation Accuracy of the network: 52 %\n",
      "EarlyStopping counter: 10 out of 50\n"
     ]
    },
    {
     "name": "stderr",
     "output_type": "stream",
     "text": [
      "  8%|█████████████▋                                                                                                                                                   | 85/1000 [06:30<1:13:16,  4.81s/it]"
     ]
    },
    {
     "name": "stdout",
     "output_type": "stream",
     "text": [
      "Training Loss: 0.5579306287424904\n",
      "Validation Loss: 1.0996754782540457\n",
      "Training Accuracy of the network: 81 %\n",
      "Validation Accuracy of the network: 52 %\n",
      "EarlyStopping counter: 11 out of 50\n"
     ]
    },
    {
     "name": "stderr",
     "output_type": "stream",
     "text": [
      "  9%|█████████████▊                                                                                                                                                   | 86/1000 [06:34<1:13:37,  4.83s/it]"
     ]
    },
    {
     "name": "stdout",
     "output_type": "stream",
     "text": [
      "Training Loss: 0.5612115158566406\n",
      "Validation Loss: 1.1066984117031098\n",
      "Training Accuracy of the network: 79 %\n",
      "Validation Accuracy of the network: 51 %\n",
      "EarlyStopping counter: 12 out of 50\n"
     ]
    },
    {
     "name": "stderr",
     "output_type": "stream",
     "text": [
      "  9%|██████████████                                                                                                                                                   | 87/1000 [06:39<1:12:52,  4.79s/it]"
     ]
    },
    {
     "name": "stdout",
     "output_type": "stream",
     "text": [
      "Training Loss: 0.5572878966374056\n",
      "Validation Loss: 1.0898675509861537\n",
      "Training Accuracy of the network: 80 %\n",
      "Validation Accuracy of the network: 52 %\n",
      "EarlyStopping counter: 13 out of 50\n"
     ]
    },
    {
     "name": "stderr",
     "output_type": "stream",
     "text": [
      "  9%|██████████████▏                                                                                                                                                  | 88/1000 [06:44<1:13:27,  4.83s/it]"
     ]
    },
    {
     "name": "stdout",
     "output_type": "stream",
     "text": [
      "Training Loss: 0.5468426176479885\n",
      "Validation Loss: 1.094997843674251\n",
      "Training Accuracy of the network: 80 %\n",
      "Validation Accuracy of the network: 52 %\n",
      "EarlyStopping counter: 14 out of 50\n"
     ]
    },
    {
     "name": "stderr",
     "output_type": "stream",
     "text": [
      "  9%|██████████████▎                                                                                                                                                  | 89/1000 [06:49<1:13:21,  4.83s/it]"
     ]
    },
    {
     "name": "stdout",
     "output_type": "stream",
     "text": [
      "Training Loss: 0.5315481923520565\n",
      "Validation Loss: 1.100562049661364\n",
      "Training Accuracy of the network: 81 %\n",
      "Validation Accuracy of the network: 50 %\n",
      "EarlyStopping counter: 15 out of 50\n"
     ]
    },
    {
     "name": "stderr",
     "output_type": "stream",
     "text": [
      "  9%|██████████████▍                                                                                                                                                  | 90/1000 [06:54<1:13:57,  4.88s/it]"
     ]
    },
    {
     "name": "stdout",
     "output_type": "stream",
     "text": [
      "Training Loss: 0.5489763643060411\n",
      "Validation Loss: 1.1316503592899867\n",
      "Training Accuracy of the network: 80 %\n",
      "Validation Accuracy of the network: 51 %\n",
      "EarlyStopping counter: 16 out of 50\n"
     ]
    },
    {
     "name": "stderr",
     "output_type": "stream",
     "text": [
      "  9%|██████████████▋                                                                                                                                                  | 91/1000 [06:59<1:13:22,  4.84s/it]"
     ]
    },
    {
     "name": "stdout",
     "output_type": "stream",
     "text": [
      "Training Loss: 0.5410227179527283\n",
      "Validation Loss: 1.1081953593662808\n",
      "Training Accuracy of the network: 81 %\n",
      "Validation Accuracy of the network: 52 %\n",
      "EarlyStopping counter: 17 out of 50\n"
     ]
    },
    {
     "name": "stderr",
     "output_type": "stream",
     "text": [
      "  9%|██████████████▊                                                                                                                                                  | 92/1000 [07:03<1:12:54,  4.82s/it]"
     ]
    },
    {
     "name": "stdout",
     "output_type": "stream",
     "text": [
      "Training Loss: 0.5251800186932087\n",
      "Validation Loss: 1.0963470305715288\n",
      "Training Accuracy of the network: 80 %\n",
      "Validation Accuracy of the network: 51 %\n",
      "EarlyStopping counter: 18 out of 50\n"
     ]
    },
    {
     "name": "stderr",
     "output_type": "stream",
     "text": [
      "  9%|██████████████▉                                                                                                                                                  | 93/1000 [07:08<1:12:04,  4.77s/it]"
     ]
    },
    {
     "name": "stdout",
     "output_type": "stream",
     "text": [
      "Training Loss: 0.5202853183661188\n",
      "Validation Loss: 1.0893886481012618\n",
      "Training Accuracy of the network: 82 %\n",
      "Validation Accuracy of the network: 51 %\n",
      "EarlyStopping counter: 19 out of 50\n"
     ]
    },
    {
     "name": "stderr",
     "output_type": "stream",
     "text": [
      "  9%|███████████████▏                                                                                                                                                 | 94/1000 [07:13<1:11:37,  4.74s/it]"
     ]
    },
    {
     "name": "stdout",
     "output_type": "stream",
     "text": [
      "Training Loss: 0.5171939924359321\n",
      "Validation Loss: 1.0947189194815499\n",
      "Training Accuracy of the network: 82 %\n",
      "Validation Accuracy of the network: 52 %\n",
      "EarlyStopping counter: 20 out of 50\n"
     ]
    },
    {
     "name": "stderr",
     "output_type": "stream",
     "text": [
      " 10%|███████████████▎                                                                                                                                                 | 95/1000 [07:18<1:11:41,  4.75s/it]"
     ]
    },
    {
     "name": "stdout",
     "output_type": "stream",
     "text": [
      "Training Loss: 0.5176793998373407\n",
      "Validation Loss: 1.078827670642308\n",
      "Training Accuracy of the network: 82 %\n",
      "Validation Accuracy of the network: 53 %\n",
      "EarlyStopping counter: 21 out of 50\n"
     ]
    },
    {
     "name": "stderr",
     "output_type": "stream",
     "text": [
      " 10%|███████████████▍                                                                                                                                                 | 96/1000 [07:22<1:11:50,  4.77s/it]"
     ]
    },
    {
     "name": "stdout",
     "output_type": "stream",
     "text": [
      "Training Loss: 0.5115736190761838\n",
      "Validation Loss: 1.084633239677974\n",
      "Training Accuracy of the network: 81 %\n",
      "Validation Accuracy of the network: 53 %\n",
      "EarlyStopping counter: 22 out of 50\n"
     ]
    },
    {
     "name": "stderr",
     "output_type": "stream",
     "text": [
      " 10%|███████████████▌                                                                                                                                                 | 97/1000 [07:27<1:11:58,  4.78s/it]"
     ]
    },
    {
     "name": "stdout",
     "output_type": "stream",
     "text": [
      "Training Loss: 0.5037543105227607\n",
      "Validation Loss: 1.1045591746057783\n",
      "Training Accuracy of the network: 82 %\n",
      "Validation Accuracy of the network: 52 %\n",
      "EarlyStopping counter: 23 out of 50\n"
     ]
    },
    {
     "name": "stderr",
     "output_type": "stream",
     "text": [
      " 10%|███████████████▊                                                                                                                                                 | 98/1000 [07:32<1:12:04,  4.79s/it]"
     ]
    },
    {
     "name": "stdout",
     "output_type": "stream",
     "text": [
      "Training Loss: 0.5046315231493541\n",
      "Validation Loss: 1.1002016365528107\n",
      "Training Accuracy of the network: 82 %\n",
      "Validation Accuracy of the network: 53 %\n",
      "EarlyStopping counter: 24 out of 50\n"
     ]
    },
    {
     "name": "stderr",
     "output_type": "stream",
     "text": [
      " 10%|███████████████▉                                                                                                                                                 | 99/1000 [07:37<1:12:52,  4.85s/it]"
     ]
    },
    {
     "name": "stdout",
     "output_type": "stream",
     "text": [
      "Training Loss: 0.5020303065755538\n",
      "Validation Loss: 1.1093186838286264\n",
      "Training Accuracy of the network: 82 %\n",
      "Validation Accuracy of the network: 52 %\n",
      "EarlyStopping counter: 25 out of 50\n"
     ]
    },
    {
     "name": "stderr",
     "output_type": "stream",
     "text": [
      " 10%|████████████████                                                                                                                                                | 100/1000 [07:42<1:12:18,  4.82s/it]"
     ]
    },
    {
     "name": "stdout",
     "output_type": "stream",
     "text": [
      "Training Loss: 0.5032558714704854\n",
      "Validation Loss: 1.1210808277130127\n",
      "Training Accuracy of the network: 81 %\n",
      "Validation Accuracy of the network: 52 %\n",
      "EarlyStopping counter: 26 out of 50\n"
     ]
    },
    {
     "name": "stderr",
     "output_type": "stream",
     "text": [
      " 10%|████████████████▏                                                                                                                                               | 101/1000 [07:46<1:11:59,  4.80s/it]"
     ]
    },
    {
     "name": "stdout",
     "output_type": "stream",
     "text": [
      "Training Loss: 0.49419877337557927\n",
      "Validation Loss: 1.0711649017674583\n",
      "Training Accuracy of the network: 83 %\n",
      "Validation Accuracy of the network: 52 %\n",
      "EarlyStopping counter: 27 out of 50\n"
     ]
    },
    {
     "name": "stderr",
     "output_type": "stream",
     "text": [
      " 10%|████████████████▎                                                                                                                                               | 102/1000 [07:51<1:12:15,  4.83s/it]"
     ]
    },
    {
     "name": "stdout",
     "output_type": "stream",
     "text": [
      "Training Loss: 0.5074986113501446\n",
      "Validation Loss: 1.1219076003347124\n",
      "Training Accuracy of the network: 82 %\n",
      "Validation Accuracy of the network: 52 %\n",
      "EarlyStopping counter: 28 out of 50\n"
     ]
    },
    {
     "name": "stderr",
     "output_type": "stream",
     "text": [
      " 10%|████████████████▍                                                                                                                                               | 103/1000 [07:56<1:12:12,  4.83s/it]"
     ]
    },
    {
     "name": "stdout",
     "output_type": "stream",
     "text": [
      "Training Loss: 0.49818069839051793\n",
      "Validation Loss: 1.1050773365156992\n",
      "Training Accuracy of the network: 81 %\n",
      "Validation Accuracy of the network: 52 %\n",
      "EarlyStopping counter: 29 out of 50\n"
     ]
    },
    {
     "name": "stderr",
     "output_type": "stream",
     "text": [
      " 10%|████████████████▋                                                                                                                                               | 104/1000 [08:01<1:11:37,  4.80s/it]"
     ]
    },
    {
     "name": "stdout",
     "output_type": "stream",
     "text": [
      "Training Loss: 0.48769602929907185\n",
      "Validation Loss: 1.109576633998326\n",
      "Training Accuracy of the network: 83 %\n",
      "Validation Accuracy of the network: 53 %\n",
      "EarlyStopping counter: 30 out of 50\n"
     ]
    },
    {
     "name": "stderr",
     "output_type": "stream",
     "text": [
      " 10%|████████████████▊                                                                                                                                               | 105/1000 [08:06<1:12:22,  4.85s/it]"
     ]
    },
    {
     "name": "stdout",
     "output_type": "stream",
     "text": [
      "Training Loss: 0.4935536727309227\n",
      "Validation Loss: 1.0986807141985213\n",
      "Training Accuracy of the network: 82 %\n",
      "Validation Accuracy of the network: 54 %\n",
      "EarlyStopping counter: 31 out of 50\n"
     ]
    },
    {
     "name": "stderr",
     "output_type": "stream",
     "text": [
      " 11%|████████████████▉                                                                                                                                               | 106/1000 [08:11<1:12:08,  4.84s/it]"
     ]
    },
    {
     "name": "stdout",
     "output_type": "stream",
     "text": [
      "Training Loss: 0.4694918955011027\n",
      "Validation Loss: 1.120383095741272\n",
      "Training Accuracy of the network: 84 %\n",
      "Validation Accuracy of the network: 52 %\n",
      "EarlyStopping counter: 32 out of 50\n"
     ]
    },
    {
     "name": "stderr",
     "output_type": "stream",
     "text": [
      " 11%|█████████████████                                                                                                                                               | 107/1000 [08:15<1:11:17,  4.79s/it]"
     ]
    },
    {
     "name": "stdout",
     "output_type": "stream",
     "text": [
      "Training Loss: 0.46953070807669844\n",
      "Validation Loss: 1.107391996043069\n",
      "Training Accuracy of the network: 83 %\n",
      "Validation Accuracy of the network: 52 %\n",
      "EarlyStopping counter: 33 out of 50\n"
     ]
    },
    {
     "name": "stderr",
     "output_type": "stream",
     "text": [
      " 11%|█████████████████▎                                                                                                                                              | 108/1000 [08:20<1:10:50,  4.76s/it]"
     ]
    },
    {
     "name": "stdout",
     "output_type": "stream",
     "text": [
      "Training Loss: 0.4667184698794569\n",
      "Validation Loss: 1.1015673492636\n",
      "Training Accuracy of the network: 84 %\n",
      "Validation Accuracy of the network: 53 %\n",
      "EarlyStopping counter: 34 out of 50\n"
     ]
    },
    {
     "name": "stderr",
     "output_type": "stream",
     "text": [
      " 11%|█████████████████▍                                                                                                                                              | 109/1000 [08:25<1:11:02,  4.78s/it]"
     ]
    },
    {
     "name": "stdout",
     "output_type": "stream",
     "text": [
      "Training Loss: 0.4571974005017962\n",
      "Validation Loss: 1.127092146873474\n",
      "Training Accuracy of the network: 84 %\n",
      "Validation Accuracy of the network: 53 %\n",
      "EarlyStopping counter: 35 out of 50\n"
     ]
    },
    {
     "name": "stderr",
     "output_type": "stream",
     "text": [
      " 11%|█████████████████▌                                                                                                                                              | 110/1000 [08:30<1:11:35,  4.83s/it]"
     ]
    },
    {
     "name": "stdout",
     "output_type": "stream",
     "text": [
      "Training Loss: 0.47589281744190626\n",
      "Validation Loss: 1.1164473227092198\n",
      "Training Accuracy of the network: 83 %\n",
      "Validation Accuracy of the network: 52 %\n",
      "EarlyStopping counter: 36 out of 50\n"
     ]
    },
    {
     "name": "stderr",
     "output_type": "stream",
     "text": [
      " 11%|█████████████████▊                                                                                                                                              | 111/1000 [08:35<1:12:05,  4.87s/it]"
     ]
    },
    {
     "name": "stdout",
     "output_type": "stream",
     "text": [
      "Training Loss: 0.46406138204038144\n",
      "Validation Loss: 1.142502520765577\n",
      "Training Accuracy of the network: 84 %\n",
      "Validation Accuracy of the network: 52 %\n",
      "EarlyStopping counter: 37 out of 50\n"
     ]
    },
    {
     "name": "stderr",
     "output_type": "stream",
     "text": [
      " 11%|█████████████████▉                                                                                                                                              | 112/1000 [08:39<1:10:45,  4.78s/it]"
     ]
    },
    {
     "name": "stdout",
     "output_type": "stream",
     "text": [
      "Training Loss: 0.45719400154692785\n",
      "Validation Loss: 1.1139027288981846\n",
      "Training Accuracy of the network: 83 %\n",
      "Validation Accuracy of the network: 53 %\n",
      "EarlyStopping counter: 38 out of 50\n"
     ]
    },
    {
     "name": "stderr",
     "output_type": "stream",
     "text": [
      " 11%|██████████████████                                                                                                                                              | 113/1000 [08:44<1:10:40,  4.78s/it]"
     ]
    },
    {
     "name": "stdout",
     "output_type": "stream",
     "text": [
      "Training Loss: 0.44590879061392374\n",
      "Validation Loss: 1.108491369656154\n",
      "Training Accuracy of the network: 84 %\n",
      "Validation Accuracy of the network: 52 %\n",
      "EarlyStopping counter: 39 out of 50\n"
     ]
    },
    {
     "name": "stderr",
     "output_type": "stream",
     "text": [
      " 11%|██████████████████▏                                                                                                                                             | 114/1000 [08:49<1:10:34,  4.78s/it]"
     ]
    },
    {
     "name": "stdout",
     "output_type": "stream",
     "text": [
      "Training Loss: 0.453487632263984\n",
      "Validation Loss: 1.0967197281973702\n",
      "Training Accuracy of the network: 84 %\n",
      "Validation Accuracy of the network: 53 %\n",
      "EarlyStopping counter: 40 out of 50\n"
     ]
    },
    {
     "name": "stderr",
     "output_type": "stream",
     "text": [
      " 12%|██████████████████▍                                                                                                                                             | 115/1000 [08:54<1:10:57,  4.81s/it]"
     ]
    },
    {
     "name": "stdout",
     "output_type": "stream",
     "text": [
      "Training Loss: 0.43885455834014075\n",
      "Validation Loss: 1.1449212219033922\n",
      "Training Accuracy of the network: 84 %\n",
      "Validation Accuracy of the network: 51 %\n",
      "EarlyStopping counter: 41 out of 50\n"
     ]
    },
    {
     "name": "stderr",
     "output_type": "stream",
     "text": [
      " 12%|██████████████████▌                                                                                                                                             | 116/1000 [08:59<1:11:17,  4.84s/it]"
     ]
    },
    {
     "name": "stdout",
     "output_type": "stream",
     "text": [
      "Training Loss: 0.440255473873445\n",
      "Validation Loss: 1.1486001150948661\n",
      "Training Accuracy of the network: 84 %\n",
      "Validation Accuracy of the network: 52 %\n",
      "EarlyStopping counter: 42 out of 50\n"
     ]
    },
    {
     "name": "stderr",
     "output_type": "stream",
     "text": [
      " 12%|██████████████████▋                                                                                                                                             | 117/1000 [09:04<1:12:12,  4.91s/it]"
     ]
    },
    {
     "name": "stdout",
     "output_type": "stream",
     "text": [
      "Training Loss: 0.4572633438876697\n",
      "Validation Loss: 1.113374274969101\n",
      "Training Accuracy of the network: 84 %\n",
      "Validation Accuracy of the network: 53 %\n",
      "EarlyStopping counter: 43 out of 50\n"
     ]
    },
    {
     "name": "stderr",
     "output_type": "stream",
     "text": [
      " 12%|██████████████████▉                                                                                                                                             | 118/1000 [09:09<1:12:14,  4.91s/it]"
     ]
    },
    {
     "name": "stdout",
     "output_type": "stream",
     "text": [
      "Training Loss: 0.43340763955243994\n",
      "Validation Loss: 1.0854771878038134\n",
      "Training Accuracy of the network: 85 %\n",
      "Validation Accuracy of the network: 54 %\n",
      "EarlyStopping counter: 44 out of 50\n"
     ]
    },
    {
     "name": "stderr",
     "output_type": "stream",
     "text": [
      " 12%|███████████████████                                                                                                                                             | 119/1000 [09:14<1:12:19,  4.93s/it]"
     ]
    },
    {
     "name": "stdout",
     "output_type": "stream",
     "text": [
      "Training Loss: 0.45107603381787026\n",
      "Validation Loss: 1.1638391971588136\n",
      "Training Accuracy of the network: 84 %\n",
      "Validation Accuracy of the network: 52 %\n",
      "EarlyStopping counter: 45 out of 50\n"
     ]
    },
    {
     "name": "stderr",
     "output_type": "stream",
     "text": [
      " 12%|███████████████████▏                                                                                                                                            | 120/1000 [09:19<1:11:43,  4.89s/it]"
     ]
    },
    {
     "name": "stdout",
     "output_type": "stream",
     "text": [
      "Training Loss: 0.42981622527752605\n",
      "Validation Loss: 1.123077859197344\n",
      "Training Accuracy of the network: 86 %\n",
      "Validation Accuracy of the network: 53 %\n",
      "EarlyStopping counter: 46 out of 50\n"
     ]
    },
    {
     "name": "stderr",
     "output_type": "stream",
     "text": [
      " 12%|███████████████████▎                                                                                                                                            | 121/1000 [09:23<1:11:19,  4.87s/it]"
     ]
    },
    {
     "name": "stdout",
     "output_type": "stream",
     "text": [
      "Training Loss: 0.42935182553316864\n",
      "Validation Loss: 1.1414214866501944\n",
      "Training Accuracy of the network: 85 %\n",
      "Validation Accuracy of the network: 54 %\n",
      "EarlyStopping counter: 47 out of 50\n"
     ]
    },
    {
     "name": "stderr",
     "output_type": "stream",
     "text": [
      " 12%|███████████████████▌                                                                                                                                            | 122/1000 [09:28<1:10:23,  4.81s/it]"
     ]
    },
    {
     "name": "stdout",
     "output_type": "stream",
     "text": [
      "Training Loss: 0.4435083265283278\n",
      "Validation Loss: 1.130969296182905\n",
      "Training Accuracy of the network: 84 %\n",
      "Validation Accuracy of the network: 53 %\n",
      "EarlyStopping counter: 48 out of 50\n"
     ]
    },
    {
     "name": "stderr",
     "output_type": "stream",
     "text": [
      " 12%|███████████████████▋                                                                                                                                            | 123/1000 [09:33<1:10:37,  4.83s/it]"
     ]
    },
    {
     "name": "stdout",
     "output_type": "stream",
     "text": [
      "Training Loss: 0.4176501717418432\n",
      "Validation Loss: 1.1536770216056278\n",
      "Training Accuracy of the network: 86 %\n",
      "Validation Accuracy of the network: 52 %\n",
      "EarlyStopping counter: 49 out of 50\n"
     ]
    },
    {
     "name": "stderr",
     "output_type": "stream",
     "text": [
      " 12%|███████████████████▋                                                                                                                                            | 123/1000 [09:38<1:08:42,  4.70s/it]\n"
     ]
    },
    {
     "name": "stdout",
     "output_type": "stream",
     "text": [
      "Training Loss: 0.3984500525785344\n",
      "Validation Loss: 1.1432289166109904\n",
      "Training Accuracy of the network: 86 %\n",
      "Validation Accuracy of the network: 53 %\n",
      "EarlyStopping counter: 50 out of 50\n",
      "Early Stopping\n"
     ]
    },
    {
     "name": "stderr",
     "output_type": "stream",
     "text": [
      "100%|███████████████████████████████████████████████████████████████████████████████████████████████████████████████████████████████████████████████████████████████████████| 1/1 [00:00<00:00,  6.91it/s]"
     ]
    },
    {
     "name": "stdout",
     "output_type": "stream",
     "text": [
      "Extra Training Loss: 0.9239721858704631\n",
      "Extra Training Accuracy of the network: 72 %\n",
      "Extra Testing Loss: 1.3857566118240356\n",
      "Extra Testing Accuracy of the network: 52 %\n"
     ]
    },
    {
     "name": "stderr",
     "output_type": "stream",
     "text": [
      "\n"
     ]
    }
   ],
   "source": [
    "for batch_size, lr, lrQM, lmbd, subject in product([batch_size],[lr],[lrQM],[lmbd],range(total_subjects)): #iteratively selects subject to leave out\n",
    "    torch.manual_seed(0)\n",
    "    torch.cuda.manual_seed(0)\n",
    "    torch.cuda.manual_seed_all(0)\n",
    "    np.random.seed(0)\n",
    "    random.seed(0)\n",
    "\n",
    "    XS, YS, XL, YL = subject_out(X,Y,subject)\n",
    "    \n",
    "    DT = DTNet().cuda()\n",
    "    model = EEGNet().cuda()\n",
    "    criterion = nn.CrossEntropyLoss()\n",
    "    \n",
    "    DTs = {}\n",
    "    \n",
    "    for i in range(total_subjects):\n",
    "        DTs[i] = copy.deepcopy(DT)\n",
    "\n",
    "\n",
    "    optimizer = optim.Adam(model.parameters() , lr=lr)\n",
    "    \n",
    "    params = []\n",
    "    for m in DTs.values():\n",
    "        params+=list(m.parameters())\n",
    "    \n",
    "    optimizerDT = optim.Adam(params, lr=lr*lrQM)\n",
    "\n",
    "    \n",
    "    trainingSUbjects = list(range(total_subjects))\n",
    "    trainingSUbjects.remove(subject)\n",
    " \n",
    "\n",
    "    L = lmbd\n",
    "    trainLoss = [] \n",
    "    valLoss = []\n",
    "    train_acc = []\n",
    "    val_acc = []\n",
    "\n",
    "    early_stopping = EarlyStopping(patience, verbose=True)\n",
    "\n",
    " \n",
    "\n",
    "    trainloader, testloader, scaler = preploaders(XS, YS, nchannels, batch_size)\n",
    "    \n",
    "\n",
    "\n",
    "    for epoch in tqdm(range(num_epoch)):  \n",
    "        training_loss = 0\n",
    "        validation_loss = 0\n",
    "        total_train = 0\n",
    "        correct_train = 0\n",
    "\n",
    "        for dt in DTs.values(): dt.train()\n",
    "        model.train()\n",
    "\n",
    "        for i, data in enumerate(trainloader,0):\n",
    "            inputs, labels = data\n",
    "\n",
    "        \n",
    "            optimizer.zero_grad()\n",
    "            optimizerDT.zero_grad()\n",
    "            \n",
    "            inputNew = [DTs[i](inp.unsqueeze(0).unsqueeze(0)) for inp, i in zip(inputs,labels[:,0].long().cpu().numpy())]\n",
    "            inputNew = torch.cat(inputNew)\n",
    "            \n",
    "    \n",
    "            outputs = model(inputNew)\n",
    "            loss = criterion(outputs, labels[:,1].long())\n",
    "            \n",
    "            ws = [DTs[i].conv1.weight  for   i in  trainingSUbjects ]\n",
    "            wavg = torch.mean(torch.stack(ws),axis=0)\n",
    "            Rw = torch.mean(torch.stack([ torch.norm(DTs[i].conv1.weight-wavg)**2  for   i in  range(1,total_subjects) ]))\n",
    "\n",
    "            bs = [DTs[i].conv1.bias  for   i in  trainingSUbjects ]\n",
    "            bavg = torch.mean(torch.stack(bs),axis=0)\n",
    "            Rb = torch.mean(torch.stack([ torch.norm(DTs[i].conv1.bias-bavg)**2  for   i in  range(1,total_subjects) ]))\n",
    "\n",
    "            Rw, Rb\n",
    "            loss = loss + L*(Rw+Rb)\n",
    "\n",
    "            \n",
    "            \n",
    "            \n",
    "            \n",
    "            \n",
    "            loss.backward()\n",
    "            optimizer.step()\n",
    "            optimizerDT.step()\n",
    "\n",
    "            training_loss += loss.item()\n",
    "            _, predicted = torch.max(outputs.data, 1)\n",
    "            total_train += labels.size(0)\n",
    "\n",
    "            correct_train += (predicted == labels[:,1].long()).sum().item()\n",
    "\n",
    "\n",
    "\n",
    "        correct = 0\n",
    "        total = 0\n",
    "\n",
    "        for dt in DTs.values(): dt.eval()\n",
    "        model.eval() \n",
    "\n",
    "        with torch.no_grad():\n",
    "            for data in testloader:\n",
    "                inputs, labels = data\n",
    "                \n",
    "                inputNew = [DTs[i](inp.unsqueeze(0).unsqueeze(0)) for inp, i in zip(inputs,labels[:,0].long().cpu().numpy())]\n",
    "                inputNew = torch.cat(inputNew)\n",
    "                \n",
    "\n",
    "                outputs = model(inputNew)\n",
    "\n",
    "                loss = criterion(outputs, labels[:,1].long()) \n",
    "                _, predicted = torch.max(outputs.data, 1)\n",
    "                total += labels.size(0)\n",
    "                correct += (predicted == labels[:,1].long()).sum().item()\n",
    "                validation_loss += loss.item()\n",
    "\n",
    "\n",
    "\n",
    "        acc_train = 100 * correct_train // total_train\n",
    "        acc_val = 100 * correct // total\n",
    "        training_loss = training_loss/(len(trainloader))\n",
    "        validation_loss = validation_loss/(len(testloader))\n",
    "        trainLoss.append(training_loss)\n",
    "        valLoss.append(validation_loss)\n",
    "        train_acc.append(acc_train)\n",
    "        val_acc.append(acc_val)\n",
    "        print(f\"Training Loss: {training_loss}\")\n",
    "        print(f\"Validation Loss: {validation_loss}\")\n",
    "        print(f'Training Accuracy of the network: {acc_train} %')\n",
    "        print(f'Validation Accuracy of the network: {acc_val} %')\n",
    "\n",
    "\n",
    "        early_stopping(validation_loss,model)\n",
    "        if early_stopping.bestFound:\n",
    "            iterationOfBestModel = epoch\n",
    "            ws = [DTs[i].conv1.weight  for   i in  trainingSUbjects ]\n",
    "            wavg = torch.mean(torch.stack(ws),axis=0)\n",
    "\n",
    "            bs = [DTs[i].conv1.bias  for   i in  trainingSUbjects ]\n",
    "            bavg = torch.mean(torch.stack(bs),axis=0)\n",
    "            \n",
    "        if early_stopping.early_stop:\n",
    "            print(\"Early Stopping\")\n",
    "            break\n",
    "    model = early_stopping.bestModel\n",
    "    \n",
    "    \n",
    "    for dt in DTs.values(): dt.eval()\n",
    "    model.eval()\n",
    "    with torch.no_grad():\n",
    "        DTs[subject].conv1.bias.set_(bavg)\n",
    "        DTs[subject].conv1.weight.set_(wavg) \n",
    "\n",
    "\n",
    "    XL_train, XL_test, YL_train, YL_test = train_test_split(XL,YL, test_size=0.95, random_state=0)\n",
    "    loader = prepdataloader(XL_train,YL_train,scaler,nchannels,batch_size1)\n",
    "    subjectloader = prepdataloader(XL_test,YL_test,scaler,nchannels,batch_size1=XL_test.shape[0])\n",
    "    \n",
    "    optimizerDTNew = optim.Adam(DTs[subject].parameters(), lr=lr*lrQM)\n",
    "    \n",
    "    # Train additional epoch and optimize DTNew \n",
    "    EtrainLoss = [] \n",
    "    Etrain_acc = []\n",
    "    Etest_acc = []\n",
    "    \n",
    "    model.eval()\n",
    "    testLoss = []\n",
    "    test_acc = []\n",
    "    \n",
    "    for epoch in tqdm(range(1)):\n",
    "        etraining_loss = 0\n",
    "        etotal_train = 0\n",
    "        ecorrect_train = 0\n",
    "\n",
    "        for dt in DTs.values(): dt.train()\n",
    "        \n",
    "\n",
    "        for i, data in enumerate(loader,0):\n",
    "            inputs, labels = data\n",
    "\n",
    "\n",
    "            optimizerDTNew.zero_grad()\n",
    "\n",
    "            inputNew = [DTs[i](inp.unsqueeze(0).unsqueeze(0)) for inp, i in zip(inputs,labels[:,0].long().cpu().numpy())]\n",
    "            inputNew = torch.cat(inputNew)\n",
    "\n",
    "\n",
    "            outputs = model(inputNew)\n",
    "            loss = criterion(outputs, labels[:,1].long())\n",
    "            loss.backward()\n",
    "            optimizerDTNew.step()\n",
    "\n",
    "\n",
    "\n",
    "            etraining_loss += loss.item()\n",
    "            _, predicted = torch.max(outputs.data, 1)\n",
    "            etotal_train += labels.size(0)\n",
    "\n",
    "            ecorrect_train += (predicted == labels[:,1].long()).sum().item()\n",
    "\n",
    "        eacc_train = 100 * ecorrect_train // etotal_train\n",
    "        etraining_loss = etraining_loss/(len(loader))\n",
    "        EtrainLoss.append(etraining_loss)\n",
    "        Etrain_acc.append(eacc_train)\n",
    "        print(f\"Extra Training Loss: {etraining_loss}\")\n",
    "        print(f'Extra Training Accuracy of the network: {eacc_train} %') \n",
    "        \n",
    "        \n",
    "\n",
    "\n",
    "        correct_test = 0\n",
    "        total_test = 0\n",
    "        testing_loss = 0\n",
    "        \n",
    "\n",
    "        for dt in DTs.values(): dt.eval()\n",
    "     \n",
    "\n",
    "        with torch.no_grad():\n",
    "            for data in subjectloader:\n",
    "                inputs, labels = data\n",
    "\n",
    "                inputNew = [DTs[i](inp.unsqueeze(0).unsqueeze(0)) for inp, i in zip(inputs,labels[:,0].long().cpu().numpy())]\n",
    "                inputNew = torch.cat(inputNew)\n",
    "\n",
    "\n",
    "                outputs = model(inputNew)\n",
    "\n",
    "                loss = criterion(outputs, labels[:,1].long()) \n",
    "                _, predicted = torch.max(outputs.data, 1)\n",
    "                total_test += labels.size(0)\n",
    "                correct_test += (predicted == labels[:,1].long()).sum().item()\n",
    "                testing_loss += loss.item()\n",
    "\n",
    "        acc_test = 100 * correct_test // total_test\n",
    "        testing_loss = testing_loss/(len(subjectloader))\n",
    "        testLoss.append(testing_loss)\n",
    "        test_acc.append(acc_test)\n",
    "        print(f\"Extra Testing Loss: {testing_loss}\")\n",
    "        print(f'Extra Testing Accuracy of the network: {acc_test} %')"
   ]
  },
  {
   "cell_type": "code",
   "execution_count": null,
   "id": "f75f5abc",
   "metadata": {},
   "outputs": [],
   "source": []
  }
 ],
 "metadata": {
  "kernelspec": {
   "display_name": "eegtf2",
   "language": "python",
   "name": "eegtf2"
  },
  "language_info": {
   "codemirror_mode": {
    "name": "ipython",
    "version": 3
   },
   "file_extension": ".py",
   "mimetype": "text/x-python",
   "name": "python",
   "nbconvert_exporter": "python",
   "pygments_lexer": "ipython3",
   "version": "3.8.13"
  }
 },
 "nbformat": 4,
 "nbformat_minor": 5
}
