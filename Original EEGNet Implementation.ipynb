{
 "cells": [
  {
   "cell_type": "markdown",
   "id": "afcce337",
   "metadata": {},
   "source": [
    "#### Import Dependencies "
   ]
  },
  {
   "cell_type": "code",
   "execution_count": 1,
   "id": "7ce1d35b",
   "metadata": {},
   "outputs": [],
   "source": [
    "import os\n",
    "import sys\n",
    "import random\n",
    "import numpy as np\n",
    "import pandas as pd\n",
    "import scipy\n",
    "import matplotlib.pyplot as plt\n",
    "import torch\n",
    "import torchvision\n",
    "import torch.nn as nn\n",
    "import torch.optim as optim\n",
    "from torch.utils.data import DataLoader, Dataset, Subset\n",
    "import torchvision.transforms as transforms\n",
    "from sklearn.model_selection import train_test_split\n",
    "from sklearn.preprocessing import OneHotEncoder , StandardScaler\n",
    "from tqdm import tqdm\n",
    "import copy\n",
    "import pickle\n",
    "from itertools import product\n",
    "import pickle\n",
    "from pytorchtools import EarlyStopping"
   ]
  },
  {
   "cell_type": "code",
   "execution_count": 2,
   "id": "f7110ce4",
   "metadata": {},
   "outputs": [],
   "source": [
    "torch.backends.cudnn.benchmark = False\n",
    "torch.backends.cudnn.deterministic = True "
   ]
  },
  {
   "cell_type": "markdown",
   "id": "b17d2ac2",
   "metadata": {},
   "source": [
    "#### Load Dataset\n",
    "- Data must be in the following shape: \n",
    "    - X.shape = (number of trials for all subjects, timestamp, number of channels)\n",
    "    - Y.shape = (number of trials for all subjects, 2) (shape of 2 for an array([subject id, label])"
   ]
  },
  {
   "cell_type": "code",
   "execution_count": 3,
   "id": "52d974e7",
   "metadata": {},
   "outputs": [],
   "source": [
    "X, Y = pickle.load(open('CrossSubjects.pkl', \"rb\"))"
   ]
  },
  {
   "cell_type": "code",
   "execution_count": 4,
   "id": "6c5d7600",
   "metadata": {},
   "outputs": [
    {
     "data": {
      "text/plain": [
       "((2328, 1750, 22), (2328, 2))"
      ]
     },
     "execution_count": 4,
     "metadata": {},
     "output_type": "execute_result"
    }
   ],
   "source": [
    "X.shape, Y.shape"
   ]
  },
  {
   "cell_type": "markdown",
   "id": "7a2f6a1f",
   "metadata": {},
   "source": [
    "#### Define Variables"
   ]
  },
  {
   "cell_type": "code",
   "execution_count": 5,
   "id": "219dc9aa",
   "metadata": {},
   "outputs": [],
   "source": [
    "subject = 0 # subject to leave out from training and then test on \n",
    "total_subjects = 9 #total number of subjects in dataset\n",
    "nchannels = 22 # number of EEG channels\n",
    "batch_size = 12 # batch size for training \n",
    "batch_size1 = 1 # batch size for testing \n",
    "num_epoch = 1000 # number of epochs for training \n",
    "lr = 1e-4 #learning rate \n",
    "patience = 50 # patience for early stopping\n",
    "timestamp = 1750 #timestamp recorded in trials\n",
    "nclasses = 4 #number of label classes "
   ]
  },
  {
   "cell_type": "markdown",
   "id": "9c302ddd",
   "metadata": {},
   "source": [
    "#### Data Preprocessing"
   ]
  },
  {
   "cell_type": "code",
   "execution_count": 6,
   "id": "bf0361c1",
   "metadata": {},
   "outputs": [],
   "source": [
    "#Specify which subject you want to leave out \n",
    "def subject_out(X,Y,subject=0):\n",
    "    XS = []\n",
    "    YS = []\n",
    "    XL = []\n",
    "    YL = []\n",
    "    for i in range(len(X)):\n",
    "        if Y[i][0] == subject:\n",
    "            XL.append(X[i])\n",
    "            YL.append(Y[i])\n",
    "        else:\n",
    "            XS.append(X[i])\n",
    "            YS.append(Y[i])\n",
    "    XS = np.array(XS)\n",
    "    YS = np.array(YS)\n",
    "    XL = np.array(XL)\n",
    "    YL = np.array(YL)\n",
    "    return XS, YS, XL, YL"
   ]
  },
  {
   "cell_type": "code",
   "execution_count": 7,
   "id": "b68232cb",
   "metadata": {},
   "outputs": [],
   "source": [
    "#Normalize the data per the number of EEG channels \n",
    "def prepsubdata(X,Y,nchannels):\n",
    "    X_train, X_test, y_train, y_test = train_test_split(X,Y, test_size=0.20, random_state=0)\n",
    "    \n",
    "    scaler = StandardScaler()\n",
    "    scaler.fit(X_train.reshape([-1,nchannels]))\n",
    "    X1_train = scaler.transform(X_train.reshape([-1,nchannels])).reshape(X_train.shape)\n",
    "    X1_test = scaler.transform(X_test.reshape([-1,nchannels])).reshape(X_test.shape)\n",
    "    \n",
    "    ########\n",
    "    \n",
    "    X1_train = torch.FloatTensor(X1_train).cuda()\n",
    "    Y1_train = torch.FloatTensor(y_train).cuda()\n",
    "    X1_test = torch.FloatTensor(X1_test).cuda()\n",
    "    Y1_test = torch.FloatTensor(y_test).cuda()\n",
    "\n",
    "    \n",
    "    return X1_train, X1_test, Y1_train, Y1_test, scaler\n",
    "\n",
    "def preploaders(X,Y,batch_size):\n",
    "    X_train, X_test, Y_train, Y_test, scaler = prepsubdata(X,Y,nchannels)\n",
    "    train_data =[]\n",
    "    for i in range(len(X_train)):\n",
    "        train_data.append([X_train[i], Y_train[i]])\n",
    "    test_data =[]\n",
    "    for i in range(len(X_test)):\n",
    "        test_data.append([X_test[i], Y_test[i]])\n",
    "    \n",
    "    trainloader = DataLoader(train_data, batch_size) \n",
    "    testloader = DataLoader(test_data, batch_size)    \n",
    "    \n",
    "    return trainloader, testloader, scaler\n"
   ]
  },
  {
   "cell_type": "code",
   "execution_count": 8,
   "id": "9de59fe0",
   "metadata": {},
   "outputs": [],
   "source": [
    "#Load the data for the test subject \n",
    "def prepdataloader(X,Y,scaler,nchannels,batch_size1):\n",
    "    \n",
    "    #Normalize\n",
    "    XT = scaler.transform(X.reshape([-1,nchannels])).reshape(X.shape)\n",
    "    \n",
    "    XT = torch.FloatTensor(XT).cuda()\n",
    "    Y = torch.FloatTensor(Y).cuda()\n",
    "    \n",
    "\n",
    "    \n",
    "    #Prep Loader\n",
    "    data =[]\n",
    "    for i in range(len(XT)):\n",
    "        data.append([XT[i], Y[i]])\n",
    "    \n",
    "    xloader = DataLoader(data,batch_size1)\n",
    "    \n",
    "    return xloader\n",
    " \n"
   ]
  },
  {
   "cell_type": "markdown",
   "id": "54dd0af4",
   "metadata": {},
   "source": [
    "#### Define Network"
   ]
  },
  {
   "cell_type": "code",
   "execution_count": 9,
   "id": "df73b2eb",
   "metadata": {},
   "outputs": [],
   "source": [
    "class EEGNet1(nn.Module):\n",
    "    def __init__(self):\n",
    "        super(EEGNet1, self).__init__()\n",
    "        self.T = timestamp\n",
    "        \n",
    "        # Layer 1\n",
    "        self.conv1 = nn.Conv2d(1, 16, (1, nchannels), padding = 0)\n",
    "        self.batchnorm1 = nn.BatchNorm2d(16, False)\n",
    "        self.dropout1 = nn.Dropout(p=0.25)\n",
    "        self.elu = nn.ELU()\n",
    "      \n",
    "        \n",
    "        # Layer 2\n",
    "        self.padding1 = nn.ZeroPad2d((16, 17, 0, 1))\n",
    "        self.conv2 = nn.Conv2d(1, 4, (2, 32))\n",
    "        self.batchnorm2 = nn.BatchNorm2d(4, False)\n",
    "        self.pooling2 = nn.MaxPool2d(2, 4)\n",
    "        \n",
    "        # Layer 3\n",
    "        self.padding2 = nn.ZeroPad2d((2, 1, 4, 3))\n",
    "        self.conv3 = nn.Conv2d(4, 4, (8, 4))\n",
    "        self.batchnorm3 = nn.BatchNorm2d(4, False)\n",
    "        self.pooling3 = nn.MaxPool2d((2, 4))\n",
    "        \n",
    "        # FC Layer \n",
    "        self.fc1 = nn.Linear(4*2*109, nclasses)\n",
    "\n",
    "        \n",
    "\n",
    "    def forward(self, x):\n",
    "        # Layer 1\n",
    "        x = self.elu(self.conv1(x))\n",
    "        x = self.batchnorm1(x)\n",
    "        x = self.dropout1(x)\n",
    "        x = x.permute(0, 3, 1, 2)\n",
    "        \n",
    "        # Layer 2\n",
    "        x = self.padding1(x)\n",
    "        x = self.elu(self.conv2(x))\n",
    "        x = self.batchnorm2(x)\n",
    "        x = self.dropout1(x)\n",
    "        x = self.pooling2(x)\n",
    "        \n",
    "        # Layer 3\n",
    "        x = self.padding2(x)\n",
    "        x = self.elu(self.conv3(x))\n",
    "        x = self.batchnorm3(x)\n",
    "        x = self.dropout1(x)\n",
    "        x = self.pooling3(x)\n",
    "   \n",
    "        \n",
    "        # FC Layer\n",
    "        x = x.reshape([x.shape[0],x.shape[1]*x.shape[2]*x.shape[3]]) #flatten\n",
    "        x = self.fc1(x) #removed sigmoid \n",
    "        return x "
   ]
  },
  {
   "cell_type": "markdown",
   "id": "38e398ff",
   "metadata": {},
   "source": [
    "#### Train & Test Model\n",
    "- Run the following for cross-subject training/testing\n",
    "- Can try out different learning rates"
   ]
  },
  {
   "cell_type": "code",
   "execution_count": 10,
   "id": "bb4bc28b",
   "metadata": {},
   "outputs": [
    {
     "name": "stderr",
     "output_type": "stream",
     "text": [
      "  0%|▏                                                                                                                                                                 | 1/1000 [00:04<1:13:57,  4.44s/it]"
     ]
    },
    {
     "name": "stdout",
     "output_type": "stream",
     "text": [
      "Training Loss: 1.5586490274345788\n",
      "Validation Loss: 1.4326368195669992\n",
      "Training Accuracy of the network: 24 %\n",
      "Validation Accuracy of the network: 23 %\n",
      "Validation loss decreased (inf --> 1.432637).  Saving model ...\n"
     ]
    },
    {
     "name": "stderr",
     "output_type": "stream",
     "text": [
      "  0%|▎                                                                                                                                                                   | 2/1000 [00:06<55:19,  3.33s/it]"
     ]
    },
    {
     "name": "stdout",
     "output_type": "stream",
     "text": [
      "Training Loss: 1.5078786559348558\n",
      "Validation Loss: 1.4208858592169626\n",
      "Training Accuracy of the network: 26 %\n",
      "Validation Accuracy of the network: 24 %\n",
      "Validation loss decreased (1.432637 --> 1.420886).  Saving model ...\n"
     ]
    },
    {
     "name": "stderr",
     "output_type": "stream",
     "text": [
      "  0%|▍                                                                                                                                                                   | 3/1000 [00:09<49:31,  2.98s/it]"
     ]
    },
    {
     "name": "stdout",
     "output_type": "stream",
     "text": [
      "Training Loss: 1.4577442572934785\n",
      "Validation Loss: 1.4105123111179896\n",
      "Training Accuracy of the network: 27 %\n",
      "Validation Accuracy of the network: 22 %\n",
      "Validation loss decreased (1.420886 --> 1.410512).  Saving model ...\n"
     ]
    },
    {
     "name": "stderr",
     "output_type": "stream",
     "text": [
      "  0%|▋                                                                                                                                                                   | 4/1000 [00:12<46:24,  2.80s/it]"
     ]
    },
    {
     "name": "stdout",
     "output_type": "stream",
     "text": [
      "Training Loss: 1.4305770980180614\n",
      "Validation Loss: 1.3948199680873326\n",
      "Training Accuracy of the network: 30 %\n",
      "Validation Accuracy of the network: 24 %\n",
      "Validation loss decreased (1.410512 --> 1.394820).  Saving model ...\n"
     ]
    },
    {
     "name": "stderr",
     "output_type": "stream",
     "text": [
      "  0%|▊                                                                                                                                                                   | 5/1000 [00:14<44:49,  2.70s/it]"
     ]
    },
    {
     "name": "stdout",
     "output_type": "stream",
     "text": [
      "Training Loss: 1.389077145687855\n",
      "Validation Loss: 1.3883702175957815\n",
      "Training Accuracy of the network: 31 %\n",
      "Validation Accuracy of the network: 27 %\n",
      "Validation loss decreased (1.394820 --> 1.388370).  Saving model ...\n"
     ]
    },
    {
     "name": "stderr",
     "output_type": "stream",
     "text": [
      "  1%|▉                                                                                                                                                                   | 6/1000 [00:17<44:00,  2.66s/it]"
     ]
    },
    {
     "name": "stdout",
     "output_type": "stream",
     "text": [
      "Training Loss: 1.3745386078409905\n",
      "Validation Loss: 1.3786666461399624\n",
      "Training Accuracy of the network: 34 %\n",
      "Validation Accuracy of the network: 28 %\n",
      "Validation loss decreased (1.388370 --> 1.378667).  Saving model ...\n"
     ]
    },
    {
     "name": "stderr",
     "output_type": "stream",
     "text": [
      "  1%|█▏                                                                                                                                                                  | 7/1000 [00:19<43:25,  2.62s/it]"
     ]
    },
    {
     "name": "stdout",
     "output_type": "stream",
     "text": [
      "Training Loss: 1.353371818570325\n",
      "Validation Loss: 1.374040389060974\n",
      "Training Accuracy of the network: 33 %\n",
      "Validation Accuracy of the network: 28 %\n",
      "Validation loss decreased (1.378667 --> 1.374040).  Saving model ...\n"
     ]
    },
    {
     "name": "stderr",
     "output_type": "stream",
     "text": [
      "  1%|█▎                                                                                                                                                                  | 8/1000 [00:22<43:27,  2.63s/it]"
     ]
    },
    {
     "name": "stdout",
     "output_type": "stream",
     "text": [
      "Training Loss: 1.3343056596978737\n",
      "Validation Loss: 1.3676677227020264\n",
      "Training Accuracy of the network: 37 %\n",
      "Validation Accuracy of the network: 30 %\n",
      "Validation loss decreased (1.374040 --> 1.367668).  Saving model ...\n"
     ]
    },
    {
     "name": "stderr",
     "output_type": "stream",
     "text": [
      "  1%|█▍                                                                                                                                                                  | 9/1000 [00:25<43:31,  2.63s/it]"
     ]
    },
    {
     "name": "stdout",
     "output_type": "stream",
     "text": [
      "Training Loss: 1.3238314868759935\n",
      "Validation Loss: 1.3620436327798027\n",
      "Training Accuracy of the network: 36 %\n",
      "Validation Accuracy of the network: 30 %\n",
      "Validation loss decreased (1.367668 --> 1.362044).  Saving model ...\n"
     ]
    },
    {
     "name": "stderr",
     "output_type": "stream",
     "text": [
      "  1%|█▋                                                                                                                                                                 | 10/1000 [00:27<43:37,  2.64s/it]"
     ]
    },
    {
     "name": "stdout",
     "output_type": "stream",
     "text": [
      "Training Loss: 1.2987474342332268\n",
      "Validation Loss: 1.3571160043988908\n",
      "Training Accuracy of the network: 38 %\n",
      "Validation Accuracy of the network: 30 %\n",
      "Validation loss decreased (1.362044 --> 1.357116).  Saving model ...\n"
     ]
    },
    {
     "name": "stderr",
     "output_type": "stream",
     "text": [
      "  1%|█▊                                                                                                                                                                 | 11/1000 [00:30<42:43,  2.59s/it]"
     ]
    },
    {
     "name": "stdout",
     "output_type": "stream",
     "text": [
      "Training Loss: 1.2832705474247899\n",
      "Validation Loss: 1.3521252053124564\n",
      "Training Accuracy of the network: 40 %\n",
      "Validation Accuracy of the network: 30 %\n",
      "Validation loss decreased (1.357116 --> 1.352125).  Saving model ...\n"
     ]
    },
    {
     "name": "stderr",
     "output_type": "stream",
     "text": [
      "  1%|█▉                                                                                                                                                                 | 12/1000 [00:32<42:24,  2.58s/it]"
     ]
    },
    {
     "name": "stdout",
     "output_type": "stream",
     "text": [
      "Training Loss: 1.2818242446349486\n",
      "Validation Loss: 1.3441250051770892\n",
      "Training Accuracy of the network: 40 %\n",
      "Validation Accuracy of the network: 31 %\n",
      "Validation loss decreased (1.352125 --> 1.344125).  Saving model ...\n"
     ]
    },
    {
     "name": "stderr",
     "output_type": "stream",
     "text": [
      "  1%|██                                                                                                                                                                 | 13/1000 [00:35<42:01,  2.55s/it]"
     ]
    },
    {
     "name": "stdout",
     "output_type": "stream",
     "text": [
      "Training Loss: 1.2665505435344946\n",
      "Validation Loss: 1.3413324083600726\n",
      "Training Accuracy of the network: 40 %\n",
      "Validation Accuracy of the network: 31 %\n",
      "Validation loss decreased (1.344125 --> 1.341332).  Saving model ...\n"
     ]
    },
    {
     "name": "stderr",
     "output_type": "stream",
     "text": [
      "  1%|██▎                                                                                                                                                                | 14/1000 [00:37<41:57,  2.55s/it]"
     ]
    },
    {
     "name": "stdout",
     "output_type": "stream",
     "text": [
      "Training Loss: 1.2503370420776145\n",
      "Validation Loss: 1.3342636346817016\n",
      "Training Accuracy of the network: 42 %\n",
      "Validation Accuracy of the network: 32 %\n",
      "Validation loss decreased (1.341332 --> 1.334264).  Saving model ...\n"
     ]
    },
    {
     "name": "stderr",
     "output_type": "stream",
     "text": [
      "  2%|██▍                                                                                                                                                                | 15/1000 [00:40<41:21,  2.52s/it]"
     ]
    },
    {
     "name": "stdout",
     "output_type": "stream",
     "text": [
      "Training Loss: 1.232330576781809\n",
      "Validation Loss: 1.3273613793509347\n",
      "Training Accuracy of the network: 43 %\n",
      "Validation Accuracy of the network: 33 %\n",
      "Validation loss decreased (1.334264 --> 1.327361).  Saving model ...\n"
     ]
    },
    {
     "name": "stderr",
     "output_type": "stream",
     "text": [
      "  2%|██▌                                                                                                                                                                | 16/1000 [00:42<39:35,  2.41s/it]"
     ]
    },
    {
     "name": "stdout",
     "output_type": "stream",
     "text": [
      "Training Loss: 1.219691343986205\n",
      "Validation Loss: 1.3212529863630023\n",
      "Training Accuracy of the network: 43 %\n",
      "Validation Accuracy of the network: 34 %\n",
      "Validation loss decreased (1.327361 --> 1.321253).  Saving model ...\n"
     ]
    },
    {
     "name": "stderr",
     "output_type": "stream",
     "text": [
      "  2%|██▊                                                                                                                                                                | 17/1000 [00:44<39:47,  2.43s/it]"
     ]
    },
    {
     "name": "stdout",
     "output_type": "stream",
     "text": [
      "Training Loss: 1.1966591225053271\n",
      "Validation Loss: 1.318407198360988\n",
      "Training Accuracy of the network: 45 %\n",
      "Validation Accuracy of the network: 35 %\n",
      "Validation loss decreased (1.321253 --> 1.318407).  Saving model ...\n"
     ]
    },
    {
     "name": "stderr",
     "output_type": "stream",
     "text": [
      "  2%|██▉                                                                                                                                                                | 18/1000 [00:47<40:17,  2.46s/it]"
     ]
    },
    {
     "name": "stdout",
     "output_type": "stream",
     "text": [
      "Training Loss: 1.1915400859213223\n",
      "Validation Loss: 1.3091009616851808\n",
      "Training Accuracy of the network: 46 %\n",
      "Validation Accuracy of the network: 34 %\n",
      "Validation loss decreased (1.318407 --> 1.309101).  Saving model ...\n"
     ]
    },
    {
     "name": "stderr",
     "output_type": "stream",
     "text": [
      "  2%|███                                                                                                                                                                | 19/1000 [00:49<40:28,  2.48s/it]"
     ]
    },
    {
     "name": "stdout",
     "output_type": "stream",
     "text": [
      "Training Loss: 1.171958783247175\n",
      "Validation Loss: 1.3047096320561\n",
      "Training Accuracy of the network: 48 %\n",
      "Validation Accuracy of the network: 36 %\n",
      "Validation loss decreased (1.309101 --> 1.304710).  Saving model ...\n"
     ]
    },
    {
     "name": "stderr",
     "output_type": "stream",
     "text": [
      "  2%|███▎                                                                                                                                                               | 20/1000 [00:52<40:46,  2.50s/it]"
     ]
    },
    {
     "name": "stdout",
     "output_type": "stream",
     "text": [
      "Training Loss: 1.153711879775472\n",
      "Validation Loss: 1.302474866594587\n",
      "Training Accuracy of the network: 49 %\n",
      "Validation Accuracy of the network: 37 %\n",
      "Validation loss decreased (1.304710 --> 1.302475).  Saving model ...\n"
     ]
    },
    {
     "name": "stderr",
     "output_type": "stream",
     "text": [
      "  2%|███▍                                                                                                                                                               | 21/1000 [00:55<41:19,  2.53s/it]"
     ]
    },
    {
     "name": "stdout",
     "output_type": "stream",
     "text": [
      "Training Loss: 1.1391224404321099\n",
      "Validation Loss: 1.2962640660149711\n",
      "Training Accuracy of the network: 50 %\n",
      "Validation Accuracy of the network: 38 %\n",
      "Validation loss decreased (1.302475 --> 1.296264).  Saving model ...\n"
     ]
    },
    {
     "name": "stderr",
     "output_type": "stream",
     "text": [
      "  2%|███▌                                                                                                                                                               | 22/1000 [00:57<41:16,  2.53s/it]"
     ]
    },
    {
     "name": "stdout",
     "output_type": "stream",
     "text": [
      "Training Loss: 1.1235908000138555\n",
      "Validation Loss: 1.2911844560078212\n",
      "Training Accuracy of the network: 51 %\n",
      "Validation Accuracy of the network: 37 %\n",
      "Validation loss decreased (1.296264 --> 1.291184).  Saving model ...\n"
     ]
    },
    {
     "name": "stderr",
     "output_type": "stream",
     "text": [
      "  2%|███▋                                                                                                                                                               | 23/1000 [01:00<41:13,  2.53s/it]"
     ]
    },
    {
     "name": "stdout",
     "output_type": "stream",
     "text": [
      "Training Loss: 1.1109601637742814\n",
      "Validation Loss: 1.2837488072259085\n",
      "Training Accuracy of the network: 52 %\n",
      "Validation Accuracy of the network: 37 %\n",
      "Validation loss decreased (1.291184 --> 1.283749).  Saving model ...\n"
     ]
    },
    {
     "name": "stderr",
     "output_type": "stream",
     "text": [
      "  2%|███▉                                                                                                                                                               | 24/1000 [01:02<41:46,  2.57s/it]"
     ]
    },
    {
     "name": "stdout",
     "output_type": "stream",
     "text": [
      "Training Loss: 1.092400872794381\n",
      "Validation Loss: 1.271607756614685\n",
      "Training Accuracy of the network: 54 %\n",
      "Validation Accuracy of the network: 37 %\n",
      "Validation loss decreased (1.283749 --> 1.271608).  Saving model ...\n"
     ]
    },
    {
     "name": "stderr",
     "output_type": "stream",
     "text": [
      "  2%|████                                                                                                                                                               | 25/1000 [01:05<41:45,  2.57s/it]"
     ]
    },
    {
     "name": "stdout",
     "output_type": "stream",
     "text": [
      "Training Loss: 1.0724424702407669\n",
      "Validation Loss: 1.268830830710275\n",
      "Training Accuracy of the network: 54 %\n",
      "Validation Accuracy of the network: 39 %\n",
      "Validation loss decreased (1.271608 --> 1.268831).  Saving model ...\n"
     ]
    },
    {
     "name": "stderr",
     "output_type": "stream",
     "text": [
      "  3%|████▏                                                                                                                                                              | 26/1000 [01:07<41:03,  2.53s/it]"
     ]
    },
    {
     "name": "stdout",
     "output_type": "stream",
     "text": [
      "Training Loss: 1.059096434255586\n",
      "Validation Loss: 1.263735978943961\n",
      "Training Accuracy of the network: 56 %\n",
      "Validation Accuracy of the network: 40 %\n",
      "Validation loss decreased (1.268831 --> 1.263736).  Saving model ...\n"
     ]
    },
    {
     "name": "stderr",
     "output_type": "stream",
     "text": [
      "  3%|████▍                                                                                                                                                              | 27/1000 [01:10<40:56,  2.52s/it]"
     ]
    },
    {
     "name": "stdout",
     "output_type": "stream",
     "text": [
      "Training Loss: 1.0304790791803904\n",
      "Validation Loss: 1.2543650082179478\n",
      "Training Accuracy of the network: 57 %\n",
      "Validation Accuracy of the network: 41 %\n",
      "Validation loss decreased (1.263736 --> 1.254365).  Saving model ...\n"
     ]
    },
    {
     "name": "stderr",
     "output_type": "stream",
     "text": [
      "  3%|████▌                                                                                                                                                              | 28/1000 [01:12<40:31,  2.50s/it]"
     ]
    },
    {
     "name": "stdout",
     "output_type": "stream",
     "text": [
      "Training Loss: 1.0256195812329758\n",
      "Validation Loss: 1.2485485519681658\n",
      "Training Accuracy of the network: 58 %\n",
      "Validation Accuracy of the network: 42 %\n",
      "Validation loss decreased (1.254365 --> 1.248549).  Saving model ...\n"
     ]
    },
    {
     "name": "stderr",
     "output_type": "stream",
     "text": [
      "  3%|████▋                                                                                                                                                              | 29/1000 [01:15<40:47,  2.52s/it]"
     ]
    },
    {
     "name": "stdout",
     "output_type": "stream",
     "text": [
      "Training Loss: 1.0086079840242428\n",
      "Validation Loss: 1.235006662777492\n",
      "Training Accuracy of the network: 58 %\n",
      "Validation Accuracy of the network: 42 %\n",
      "Validation loss decreased (1.248549 --> 1.235007).  Saving model ...\n"
     ]
    },
    {
     "name": "stderr",
     "output_type": "stream",
     "text": [
      "  3%|████▉                                                                                                                                                              | 30/1000 [01:17<41:01,  2.54s/it]"
     ]
    },
    {
     "name": "stdout",
     "output_type": "stream",
     "text": [
      "Training Loss: 0.9885934017000407\n",
      "Validation Loss: 1.2278878603662764\n",
      "Training Accuracy of the network: 59 %\n",
      "Validation Accuracy of the network: 44 %\n",
      "Validation loss decreased (1.235007 --> 1.227888).  Saving model ...\n"
     ]
    },
    {
     "name": "stderr",
     "output_type": "stream",
     "text": [
      "  3%|█████                                                                                                                                                              | 31/1000 [01:20<40:57,  2.54s/it]"
     ]
    },
    {
     "name": "stdout",
     "output_type": "stream",
     "text": [
      "Training Loss: 0.9791582165843379\n",
      "Validation Loss: 1.2172786406108311\n",
      "Training Accuracy of the network: 60 %\n",
      "Validation Accuracy of the network: 44 %\n",
      "Validation loss decreased (1.227888 --> 1.217279).  Saving model ...\n"
     ]
    },
    {
     "name": "stderr",
     "output_type": "stream",
     "text": [
      "  3%|█████▏                                                                                                                                                             | 32/1000 [01:22<40:11,  2.49s/it]"
     ]
    },
    {
     "name": "stdout",
     "output_type": "stream",
     "text": [
      "Training Loss: 0.9641694683228096\n",
      "Validation Loss: 1.2150007622582573\n",
      "Training Accuracy of the network: 60 %\n",
      "Validation Accuracy of the network: 44 %\n",
      "Validation loss decreased (1.217279 --> 1.215001).  Saving model ...\n"
     ]
    },
    {
     "name": "stderr",
     "output_type": "stream",
     "text": [
      "  3%|█████▍                                                                                                                                                             | 33/1000 [01:25<40:46,  2.53s/it]"
     ]
    },
    {
     "name": "stdout",
     "output_type": "stream",
     "text": [
      "Training Loss: 0.9551499699154039\n",
      "Validation Loss: 1.2088104724884032\n",
      "Training Accuracy of the network: 61 %\n",
      "Validation Accuracy of the network: 45 %\n",
      "Validation loss decreased (1.215001 --> 1.208810).  Saving model ...\n"
     ]
    },
    {
     "name": "stderr",
     "output_type": "stream",
     "text": [
      "  3%|█████▌                                                                                                                                                             | 34/1000 [01:27<40:49,  2.54s/it]"
     ]
    },
    {
     "name": "stdout",
     "output_type": "stream",
     "text": [
      "Training Loss: 0.9397152035775846\n",
      "Validation Loss: 1.200079916204725\n",
      "Training Accuracy of the network: 64 %\n",
      "Validation Accuracy of the network: 46 %\n",
      "Validation loss decreased (1.208810 --> 1.200080).  Saving model ...\n"
     ]
    },
    {
     "name": "stderr",
     "output_type": "stream",
     "text": [
      "  4%|█████▋                                                                                                                                                             | 35/1000 [01:30<41:01,  2.55s/it]"
     ]
    },
    {
     "name": "stdout",
     "output_type": "stream",
     "text": [
      "Training Loss: 0.9108455964248546\n",
      "Validation Loss: 1.1947372930390494\n",
      "Training Accuracy of the network: 63 %\n",
      "Validation Accuracy of the network: 46 %\n",
      "Validation loss decreased (1.200080 --> 1.194737).  Saving model ...\n"
     ]
    },
    {
     "name": "stderr",
     "output_type": "stream",
     "text": [
      "  4%|█████▊                                                                                                                                                             | 36/1000 [01:33<41:02,  2.55s/it]"
     ]
    },
    {
     "name": "stdout",
     "output_type": "stream",
     "text": [
      "Training Loss: 0.9002963978878773\n",
      "Validation Loss: 1.19080513886043\n",
      "Training Accuracy of the network: 64 %\n",
      "Validation Accuracy of the network: 47 %\n",
      "Validation loss decreased (1.194737 --> 1.190805).  Saving model ...\n"
     ]
    },
    {
     "name": "stderr",
     "output_type": "stream",
     "text": [
      "  4%|██████                                                                                                                                                             | 37/1000 [01:35<40:53,  2.55s/it]"
     ]
    },
    {
     "name": "stdout",
     "output_type": "stream",
     "text": [
      "Training Loss: 0.8871956017330616\n",
      "Validation Loss: 1.1809332609176635\n",
      "Training Accuracy of the network: 65 %\n",
      "Validation Accuracy of the network: 48 %\n",
      "Validation loss decreased (1.190805 --> 1.180933).  Saving model ...\n"
     ]
    },
    {
     "name": "stderr",
     "output_type": "stream",
     "text": [
      "  4%|██████▏                                                                                                                                                            | 38/1000 [01:38<40:59,  2.56s/it]"
     ]
    },
    {
     "name": "stdout",
     "output_type": "stream",
     "text": [
      "Training Loss: 0.8850628685777204\n",
      "Validation Loss: 1.1768585903303963\n",
      "Training Accuracy of the network: 64 %\n",
      "Validation Accuracy of the network: 49 %\n",
      "Validation loss decreased (1.180933 --> 1.176859).  Saving model ...\n"
     ]
    },
    {
     "name": "stderr",
     "output_type": "stream",
     "text": [
      "  4%|██████▎                                                                                                                                                            | 39/1000 [01:40<40:50,  2.55s/it]"
     ]
    },
    {
     "name": "stdout",
     "output_type": "stream",
     "text": [
      "Training Loss: 0.8567720969227979\n",
      "Validation Loss: 1.1828666142054967\n",
      "Training Accuracy of the network: 67 %\n",
      "Validation Accuracy of the network: 48 %\n",
      "EarlyStopping counter: 1 out of 50\n"
     ]
    },
    {
     "name": "stderr",
     "output_type": "stream",
     "text": [
      "  4%|██████▌                                                                                                                                                            | 40/1000 [01:43<40:56,  2.56s/it]"
     ]
    },
    {
     "name": "stdout",
     "output_type": "stream",
     "text": [
      "Training Loss: 0.8673537225618849\n",
      "Validation Loss: 1.1706627454076495\n",
      "Training Accuracy of the network: 66 %\n",
      "Validation Accuracy of the network: 50 %\n",
      "Validation loss decreased (1.176859 --> 1.170663).  Saving model ...\n"
     ]
    },
    {
     "name": "stderr",
     "output_type": "stream",
     "text": [
      "  4%|██████▋                                                                                                                                                            | 41/1000 [01:45<40:51,  2.56s/it]"
     ]
    },
    {
     "name": "stdout",
     "output_type": "stream",
     "text": [
      "Training Loss: 0.8421622595212755\n",
      "Validation Loss: 1.1704849311283656\n",
      "Training Accuracy of the network: 66 %\n",
      "Validation Accuracy of the network: 48 %\n",
      "Validation loss decreased (1.170663 --> 1.170485).  Saving model ...\n"
     ]
    },
    {
     "name": "stderr",
     "output_type": "stream",
     "text": [
      "  4%|██████▊                                                                                                                                                            | 42/1000 [01:48<40:54,  2.56s/it]"
     ]
    },
    {
     "name": "stdout",
     "output_type": "stream",
     "text": [
      "Training Loss: 0.8380155522022804\n",
      "Validation Loss: 1.1673317193984984\n",
      "Training Accuracy of the network: 66 %\n",
      "Validation Accuracy of the network: 50 %\n",
      "Validation loss decreased (1.170485 --> 1.167332).  Saving model ...\n"
     ]
    },
    {
     "name": "stderr",
     "output_type": "stream",
     "text": [
      "  4%|███████                                                                                                                                                            | 43/1000 [01:50<40:46,  2.56s/it]"
     ]
    },
    {
     "name": "stdout",
     "output_type": "stream",
     "text": [
      "Training Loss: 0.8340320576281444\n",
      "Validation Loss: 1.1624954700469972\n",
      "Training Accuracy of the network: 66 %\n",
      "Validation Accuracy of the network: 50 %\n",
      "Validation loss decreased (1.167332 --> 1.162495).  Saving model ...\n"
     ]
    },
    {
     "name": "stderr",
     "output_type": "stream",
     "text": [
      "  4%|███████▏                                                                                                                                                           | 44/1000 [01:53<40:52,  2.56s/it]"
     ]
    },
    {
     "name": "stdout",
     "output_type": "stream",
     "text": [
      "Training Loss: 0.8284884199608852\n",
      "Validation Loss: 1.159935350077493\n",
      "Training Accuracy of the network: 68 %\n",
      "Validation Accuracy of the network: 51 %\n",
      "Validation loss decreased (1.162495 --> 1.159935).  Saving model ...\n"
     ]
    },
    {
     "name": "stderr",
     "output_type": "stream",
     "text": [
      "  4%|███████▎                                                                                                                                                           | 45/1000 [01:56<40:46,  2.56s/it]"
     ]
    },
    {
     "name": "stdout",
     "output_type": "stream",
     "text": [
      "Training Loss: 0.8066379362649291\n",
      "Validation Loss: 1.15641793182918\n",
      "Training Accuracy of the network: 68 %\n",
      "Validation Accuracy of the network: 51 %\n",
      "Validation loss decreased (1.159935 --> 1.156418).  Saving model ...\n"
     ]
    },
    {
     "name": "stderr",
     "output_type": "stream",
     "text": [
      "  5%|███████▍                                                                                                                                                           | 46/1000 [01:58<40:45,  2.56s/it]"
     ]
    },
    {
     "name": "stdout",
     "output_type": "stream",
     "text": [
      "Training Loss: 0.7889150633429088\n",
      "Validation Loss: 1.1504789471626282\n",
      "Training Accuracy of the network: 69 %\n",
      "Validation Accuracy of the network: 50 %\n",
      "Validation loss decreased (1.156418 --> 1.150479).  Saving model ...\n"
     ]
    },
    {
     "name": "stderr",
     "output_type": "stream",
     "text": [
      "  5%|███████▋                                                                                                                                                           | 47/1000 [02:01<40:26,  2.55s/it]"
     ]
    },
    {
     "name": "stdout",
     "output_type": "stream",
     "text": [
      "Training Loss: 0.7904914771988444\n",
      "Validation Loss: 1.1455829875809806\n",
      "Training Accuracy of the network: 69 %\n",
      "Validation Accuracy of the network: 50 %\n",
      "Validation loss decreased (1.150479 --> 1.145583).  Saving model ...\n"
     ]
    },
    {
     "name": "stderr",
     "output_type": "stream",
     "text": [
      "  5%|███████▊                                                                                                                                                           | 48/1000 [02:03<38:57,  2.46s/it]"
     ]
    },
    {
     "name": "stdout",
     "output_type": "stream",
     "text": [
      "Training Loss: 0.7737333942068755\n",
      "Validation Loss: 1.151847118990762\n",
      "Training Accuracy of the network: 69 %\n",
      "Validation Accuracy of the network: 50 %\n",
      "EarlyStopping counter: 1 out of 50\n"
     ]
    },
    {
     "name": "stderr",
     "output_type": "stream",
     "text": [
      "  5%|███████▉                                                                                                                                                           | 49/1000 [02:06<39:28,  2.49s/it]"
     ]
    },
    {
     "name": "stdout",
     "output_type": "stream",
     "text": [
      "Training Loss: 0.7754934040734368\n",
      "Validation Loss: 1.1544294919286455\n",
      "Training Accuracy of the network: 69 %\n",
      "Validation Accuracy of the network: 49 %\n",
      "EarlyStopping counter: 2 out of 50\n"
     ]
    },
    {
     "name": "stderr",
     "output_type": "stream",
     "text": [
      "  5%|████████▏                                                                                                                                                          | 50/1000 [02:08<39:29,  2.49s/it]"
     ]
    },
    {
     "name": "stdout",
     "output_type": "stream",
     "text": [
      "Training Loss: 0.7586458384120551\n",
      "Validation Loss: 1.1533530013901847\n",
      "Training Accuracy of the network: 69 %\n",
      "Validation Accuracy of the network: 49 %\n",
      "EarlyStopping counter: 3 out of 50\n"
     ]
    },
    {
     "name": "stderr",
     "output_type": "stream",
     "text": [
      "  5%|████████▎                                                                                                                                                          | 51/1000 [02:11<39:31,  2.50s/it]"
     ]
    },
    {
     "name": "stdout",
     "output_type": "stream",
     "text": [
      "Training Loss: 0.75775132344587\n",
      "Validation Loss: 1.1562287620135716\n",
      "Training Accuracy of the network: 70 %\n",
      "Validation Accuracy of the network: 49 %\n",
      "EarlyStopping counter: 4 out of 50\n"
     ]
    },
    {
     "name": "stderr",
     "output_type": "stream",
     "text": [
      "  5%|████████▍                                                                                                                                                          | 52/1000 [02:13<39:26,  2.50s/it]"
     ]
    },
    {
     "name": "stdout",
     "output_type": "stream",
     "text": [
      "Training Loss: 0.746513311445278\n",
      "Validation Loss: 1.1408466390201024\n",
      "Training Accuracy of the network: 71 %\n",
      "Validation Accuracy of the network: 50 %\n",
      "Validation loss decreased (1.145583 --> 1.140847).  Saving model ...\n"
     ]
    },
    {
     "name": "stderr",
     "output_type": "stream",
     "text": [
      "  5%|████████▋                                                                                                                                                          | 53/1000 [02:16<39:47,  2.52s/it]"
     ]
    },
    {
     "name": "stdout",
     "output_type": "stream",
     "text": [
      "Training Loss: 0.7327433972463121\n",
      "Validation Loss: 1.1573092937469482\n",
      "Training Accuracy of the network: 70 %\n",
      "Validation Accuracy of the network: 51 %\n",
      "EarlyStopping counter: 1 out of 50\n"
     ]
    },
    {
     "name": "stderr",
     "output_type": "stream",
     "text": [
      "  5%|████████▊                                                                                                                                                          | 54/1000 [02:18<40:06,  2.54s/it]"
     ]
    },
    {
     "name": "stdout",
     "output_type": "stream",
     "text": [
      "Training Loss: 0.7073527661553265\n",
      "Validation Loss: 1.1426567775862557\n",
      "Training Accuracy of the network: 72 %\n",
      "Validation Accuracy of the network: 52 %\n",
      "EarlyStopping counter: 2 out of 50\n"
     ]
    },
    {
     "name": "stderr",
     "output_type": "stream",
     "text": [
      "  6%|████████▉                                                                                                                                                          | 55/1000 [02:21<39:50,  2.53s/it]"
     ]
    },
    {
     "name": "stdout",
     "output_type": "stream",
     "text": [
      "Training Loss: 0.7195857941669269\n",
      "Validation Loss: 1.1480418971606663\n",
      "Training Accuracy of the network: 72 %\n",
      "Validation Accuracy of the network: 51 %\n",
      "EarlyStopping counter: 3 out of 50\n"
     ]
    },
    {
     "name": "stderr",
     "output_type": "stream",
     "text": [
      "  6%|█████████▏                                                                                                                                                         | 56/1000 [02:23<39:47,  2.53s/it]"
     ]
    },
    {
     "name": "stdout",
     "output_type": "stream",
     "text": [
      "Training Loss: 0.7099263961732822\n",
      "Validation Loss: 1.1546722139630998\n",
      "Training Accuracy of the network: 71 %\n",
      "Validation Accuracy of the network: 50 %\n",
      "EarlyStopping counter: 4 out of 50\n"
     ]
    },
    {
     "name": "stderr",
     "output_type": "stream",
     "text": [
      "  6%|█████████▎                                                                                                                                                         | 57/1000 [02:26<39:37,  2.52s/it]"
     ]
    },
    {
     "name": "stdout",
     "output_type": "stream",
     "text": [
      "Training Loss: 0.6966375249580745\n",
      "Validation Loss: 1.1517287305423192\n",
      "Training Accuracy of the network: 73 %\n",
      "Validation Accuracy of the network: 50 %\n",
      "EarlyStopping counter: 5 out of 50\n"
     ]
    },
    {
     "name": "stderr",
     "output_type": "stream",
     "text": [
      "  6%|█████████▍                                                                                                                                                         | 58/1000 [02:28<40:24,  2.57s/it]"
     ]
    },
    {
     "name": "stdout",
     "output_type": "stream",
     "text": [
      "Training Loss: 0.7094340048132152\n",
      "Validation Loss: 1.1406438231468201\n",
      "Training Accuracy of the network: 72 %\n",
      "Validation Accuracy of the network: 51 %\n",
      "Validation loss decreased (1.140847 --> 1.140644).  Saving model ...\n"
     ]
    },
    {
     "name": "stderr",
     "output_type": "stream",
     "text": [
      "  6%|█████████▌                                                                                                                                                         | 59/1000 [02:31<40:34,  2.59s/it]"
     ]
    },
    {
     "name": "stdout",
     "output_type": "stream",
     "text": [
      "Training Loss: 0.6799300778521239\n",
      "Validation Loss: 1.1578951801572528\n",
      "Training Accuracy of the network: 73 %\n",
      "Validation Accuracy of the network: 50 %\n",
      "EarlyStopping counter: 1 out of 50\n"
     ]
    },
    {
     "name": "stderr",
     "output_type": "stream",
     "text": [
      "  6%|█████████▊                                                                                                                                                         | 60/1000 [02:34<40:54,  2.61s/it]"
     ]
    },
    {
     "name": "stdout",
     "output_type": "stream",
     "text": [
      "Training Loss: 0.667760006267659\n",
      "Validation Loss: 1.166068492616926\n",
      "Training Accuracy of the network: 74 %\n",
      "Validation Accuracy of the network: 50 %\n",
      "EarlyStopping counter: 2 out of 50\n"
     ]
    },
    {
     "name": "stderr",
     "output_type": "stream",
     "text": [
      "  6%|█████████▉                                                                                                                                                         | 61/1000 [02:36<40:49,  2.61s/it]"
     ]
    },
    {
     "name": "stdout",
     "output_type": "stream",
     "text": [
      "Training Loss: 0.6592349214275388\n",
      "Validation Loss: 1.1612276894705635\n",
      "Training Accuracy of the network: 75 %\n",
      "Validation Accuracy of the network: 51 %\n",
      "EarlyStopping counter: 3 out of 50\n"
     ]
    },
    {
     "name": "stderr",
     "output_type": "stream",
     "text": [
      "  6%|██████████                                                                                                                                                         | 62/1000 [02:39<41:06,  2.63s/it]"
     ]
    },
    {
     "name": "stdout",
     "output_type": "stream",
     "text": [
      "Training Loss: 0.651021338292282\n",
      "Validation Loss: 1.147124183177948\n",
      "Training Accuracy of the network: 75 %\n",
      "Validation Accuracy of the network: 51 %\n",
      "EarlyStopping counter: 4 out of 50\n"
     ]
    },
    {
     "name": "stderr",
     "output_type": "stream",
     "text": [
      "  6%|██████████▎                                                                                                                                                        | 63/1000 [02:42<40:44,  2.61s/it]"
     ]
    },
    {
     "name": "stdout",
     "output_type": "stream",
     "text": [
      "Training Loss: 0.6419991014430123\n",
      "Validation Loss: 1.1664122530392238\n",
      "Training Accuracy of the network: 76 %\n",
      "Validation Accuracy of the network: 50 %\n",
      "EarlyStopping counter: 5 out of 50\n"
     ]
    },
    {
     "name": "stderr",
     "output_type": "stream",
     "text": [
      "  6%|██████████▍                                                                                                                                                        | 64/1000 [02:44<39:39,  2.54s/it]"
     ]
    },
    {
     "name": "stdout",
     "output_type": "stream",
     "text": [
      "Training Loss: 0.6411845269646957\n",
      "Validation Loss: 1.1528590270451138\n",
      "Training Accuracy of the network: 75 %\n",
      "Validation Accuracy of the network: 51 %\n",
      "EarlyStopping counter: 6 out of 50\n"
     ]
    },
    {
     "name": "stderr",
     "output_type": "stream",
     "text": [
      "  6%|██████████▌                                                                                                                                                        | 65/1000 [02:46<39:28,  2.53s/it]"
     ]
    },
    {
     "name": "stdout",
     "output_type": "stream",
     "text": [
      "Training Loss: 0.628019895214234\n",
      "Validation Loss: 1.1590434193611145\n",
      "Training Accuracy of the network: 75 %\n",
      "Validation Accuracy of the network: 52 %\n",
      "EarlyStopping counter: 7 out of 50\n"
     ]
    },
    {
     "name": "stderr",
     "output_type": "stream",
     "text": [
      "  7%|██████████▊                                                                                                                                                        | 66/1000 [02:49<39:36,  2.54s/it]"
     ]
    },
    {
     "name": "stdout",
     "output_type": "stream",
     "text": [
      "Training Loss: 0.6367440503226579\n",
      "Validation Loss: 1.1681759851319449\n",
      "Training Accuracy of the network: 74 %\n",
      "Validation Accuracy of the network: 51 %\n",
      "EarlyStopping counter: 8 out of 50\n"
     ]
    },
    {
     "name": "stderr",
     "output_type": "stream",
     "text": [
      "  7%|██████████▉                                                                                                                                                        | 67/1000 [02:52<39:38,  2.55s/it]"
     ]
    },
    {
     "name": "stdout",
     "output_type": "stream",
     "text": [
      "Training Loss: 0.6532081030581119\n",
      "Validation Loss: 1.1540853755814688\n",
      "Training Accuracy of the network: 74 %\n",
      "Validation Accuracy of the network: 52 %\n",
      "EarlyStopping counter: 9 out of 50\n"
     ]
    },
    {
     "name": "stderr",
     "output_type": "stream",
     "text": [
      "  7%|███████████                                                                                                                                                        | 68/1000 [02:54<39:23,  2.54s/it]"
     ]
    },
    {
     "name": "stdout",
     "output_type": "stream",
     "text": [
      "Training Loss: 0.6200427274851903\n",
      "Validation Loss: 1.1672762938908168\n",
      "Training Accuracy of the network: 76 %\n",
      "Validation Accuracy of the network: 49 %\n",
      "EarlyStopping counter: 10 out of 50\n"
     ]
    },
    {
     "name": "stderr",
     "output_type": "stream",
     "text": [
      "  7%|███████████▏                                                                                                                                                       | 69/1000 [02:57<38:50,  2.50s/it]"
     ]
    },
    {
     "name": "stdout",
     "output_type": "stream",
     "text": [
      "Training Loss: 0.6028658926051899\n",
      "Validation Loss: 1.1746287516185216\n",
      "Training Accuracy of the network: 77 %\n",
      "Validation Accuracy of the network: 52 %\n",
      "EarlyStopping counter: 11 out of 50\n"
     ]
    },
    {
     "name": "stderr",
     "output_type": "stream",
     "text": [
      "  7%|███████████▍                                                                                                                                                       | 70/1000 [02:59<38:43,  2.50s/it]"
     ]
    },
    {
     "name": "stdout",
     "output_type": "stream",
     "text": [
      "Training Loss: 0.6137929931826835\n",
      "Validation Loss: 1.1699535063334874\n",
      "Training Accuracy of the network: 77 %\n",
      "Validation Accuracy of the network: 51 %\n",
      "EarlyStopping counter: 12 out of 50\n"
     ]
    },
    {
     "name": "stderr",
     "output_type": "stream",
     "text": [
      "  7%|███████████▌                                                                                                                                                       | 71/1000 [03:02<38:55,  2.51s/it]"
     ]
    },
    {
     "name": "stdout",
     "output_type": "stream",
     "text": [
      "Training Loss: 0.5888548855581422\n",
      "Validation Loss: 1.1767646176474436\n",
      "Training Accuracy of the network: 77 %\n",
      "Validation Accuracy of the network: 51 %\n",
      "EarlyStopping counter: 13 out of 50\n"
     ]
    },
    {
     "name": "stderr",
     "output_type": "stream",
     "text": [
      "  7%|███████████▋                                                                                                                                                       | 72/1000 [03:04<39:11,  2.53s/it]"
     ]
    },
    {
     "name": "stdout",
     "output_type": "stream",
     "text": [
      "Training Loss: 0.5841523118480278\n",
      "Validation Loss: 1.176837478365217\n",
      "Training Accuracy of the network: 77 %\n",
      "Validation Accuracy of the network: 52 %\n",
      "EarlyStopping counter: 14 out of 50\n"
     ]
    },
    {
     "name": "stderr",
     "output_type": "stream",
     "text": [
      "  7%|███████████▉                                                                                                                                                       | 73/1000 [03:07<39:11,  2.54s/it]"
     ]
    },
    {
     "name": "stdout",
     "output_type": "stream",
     "text": [
      "Training Loss: 0.6060501675318627\n",
      "Validation Loss: 1.189685869216919\n",
      "Training Accuracy of the network: 76 %\n",
      "Validation Accuracy of the network: 50 %\n",
      "EarlyStopping counter: 15 out of 50\n"
     ]
    },
    {
     "name": "stderr",
     "output_type": "stream",
     "text": [
      "  7%|████████████                                                                                                                                                       | 74/1000 [03:09<38:51,  2.52s/it]"
     ]
    },
    {
     "name": "stdout",
     "output_type": "stream",
     "text": [
      "Training Loss: 0.5863786978225638\n",
      "Validation Loss: 1.1787685888154167\n",
      "Training Accuracy of the network: 78 %\n",
      "Validation Accuracy of the network: 51 %\n",
      "EarlyStopping counter: 16 out of 50\n"
     ]
    },
    {
     "name": "stderr",
     "output_type": "stream",
     "text": [
      "  8%|████████████▏                                                                                                                                                      | 75/1000 [03:12<38:48,  2.52s/it]"
     ]
    },
    {
     "name": "stdout",
     "output_type": "stream",
     "text": [
      "Training Loss: 0.5697454519733025\n",
      "Validation Loss: 1.1809887834957669\n",
      "Training Accuracy of the network: 79 %\n",
      "Validation Accuracy of the network: 51 %\n",
      "EarlyStopping counter: 17 out of 50\n"
     ]
    },
    {
     "name": "stderr",
     "output_type": "stream",
     "text": [
      "  8%|████████████▍                                                                                                                                                      | 76/1000 [03:14<39:00,  2.53s/it]"
     ]
    },
    {
     "name": "stdout",
     "output_type": "stream",
     "text": [
      "Training Loss: 0.5679730434704872\n",
      "Validation Loss: 1.185854160785675\n",
      "Training Accuracy of the network: 78 %\n",
      "Validation Accuracy of the network: 50 %\n",
      "EarlyStopping counter: 18 out of 50\n"
     ]
    },
    {
     "name": "stderr",
     "output_type": "stream",
     "text": [
      "  8%|████████████▌                                                                                                                                                      | 77/1000 [03:17<39:12,  2.55s/it]"
     ]
    },
    {
     "name": "stdout",
     "output_type": "stream",
     "text": [
      "Training Loss: 0.5671122449375418\n",
      "Validation Loss: 1.1903848699160984\n",
      "Training Accuracy of the network: 78 %\n",
      "Validation Accuracy of the network: 50 %\n",
      "EarlyStopping counter: 19 out of 50\n"
     ]
    },
    {
     "name": "stderr",
     "output_type": "stream",
     "text": [
      "  8%|████████████▋                                                                                                                                                      | 78/1000 [03:19<38:38,  2.51s/it]"
     ]
    },
    {
     "name": "stdout",
     "output_type": "stream",
     "text": [
      "Training Loss: 0.5545954778246636\n",
      "Validation Loss: 1.196418697493417\n",
      "Training Accuracy of the network: 79 %\n",
      "Validation Accuracy of the network: 51 %\n",
      "EarlyStopping counter: 20 out of 50\n"
     ]
    },
    {
     "name": "stderr",
     "output_type": "stream",
     "text": [
      "  8%|████████████▉                                                                                                                                                      | 79/1000 [03:22<38:15,  2.49s/it]"
     ]
    },
    {
     "name": "stdout",
     "output_type": "stream",
     "text": [
      "Training Loss: 0.5604830286363616\n",
      "Validation Loss: 1.2123583946909224\n",
      "Training Accuracy of the network: 78 %\n",
      "Validation Accuracy of the network: 50 %\n",
      "EarlyStopping counter: 21 out of 50\n"
     ]
    },
    {
     "name": "stderr",
     "output_type": "stream",
     "text": [
      "  8%|█████████████                                                                                                                                                      | 80/1000 [03:24<37:09,  2.42s/it]"
     ]
    },
    {
     "name": "stdout",
     "output_type": "stream",
     "text": [
      "Training Loss: 0.5427968782665086\n",
      "Validation Loss: 1.1856259448187692\n",
      "Training Accuracy of the network: 80 %\n",
      "Validation Accuracy of the network: 52 %\n",
      "EarlyStopping counter: 22 out of 50\n"
     ]
    },
    {
     "name": "stderr",
     "output_type": "stream",
     "text": [
      "  8%|█████████████▏                                                                                                                                                     | 81/1000 [03:27<37:45,  2.47s/it]"
     ]
    },
    {
     "name": "stdout",
     "output_type": "stream",
     "text": [
      "Training Loss: 0.5363679508658221\n",
      "Validation Loss: 1.2017937541007995\n",
      "Training Accuracy of the network: 80 %\n",
      "Validation Accuracy of the network: 50 %\n",
      "EarlyStopping counter: 23 out of 50\n"
     ]
    },
    {
     "name": "stderr",
     "output_type": "stream",
     "text": [
      "  8%|█████████████▎                                                                                                                                                     | 82/1000 [03:29<38:09,  2.49s/it]"
     ]
    },
    {
     "name": "stdout",
     "output_type": "stream",
     "text": [
      "Training Loss: 0.5457739003383331\n",
      "Validation Loss: 1.2177992905889239\n",
      "Training Accuracy of the network: 79 %\n",
      "Validation Accuracy of the network: 50 %\n",
      "EarlyStopping counter: 24 out of 50\n"
     ]
    },
    {
     "name": "stderr",
     "output_type": "stream",
     "text": [
      "  8%|█████████████▌                                                                                                                                                     | 83/1000 [03:32<38:25,  2.51s/it]"
     ]
    },
    {
     "name": "stdout",
     "output_type": "stream",
     "text": [
      "Training Loss: 0.556972057062344\n",
      "Validation Loss: 1.1957407065800258\n",
      "Training Accuracy of the network: 78 %\n",
      "Validation Accuracy of the network: 53 %\n",
      "EarlyStopping counter: 25 out of 50\n"
     ]
    },
    {
     "name": "stderr",
     "output_type": "stream",
     "text": [
      "  8%|█████████████▋                                                                                                                                                     | 84/1000 [03:34<38:23,  2.51s/it]"
     ]
    },
    {
     "name": "stdout",
     "output_type": "stream",
     "text": [
      "Training Loss: 0.5337129719283459\n",
      "Validation Loss: 1.2228540113994053\n",
      "Training Accuracy of the network: 80 %\n",
      "Validation Accuracy of the network: 51 %\n",
      "EarlyStopping counter: 26 out of 50\n"
     ]
    },
    {
     "name": "stderr",
     "output_type": "stream",
     "text": [
      "  8%|█████████████▊                                                                                                                                                     | 85/1000 [03:37<38:22,  2.52s/it]"
     ]
    },
    {
     "name": "stdout",
     "output_type": "stream",
     "text": [
      "Training Loss: 0.5261093131164565\n",
      "Validation Loss: 1.2344950590814863\n",
      "Training Accuracy of the network: 80 %\n",
      "Validation Accuracy of the network: 51 %\n",
      "EarlyStopping counter: 27 out of 50\n"
     ]
    },
    {
     "name": "stderr",
     "output_type": "stream",
     "text": [
      "  9%|██████████████                                                                                                                                                     | 86/1000 [03:39<38:40,  2.54s/it]"
     ]
    },
    {
     "name": "stdout",
     "output_type": "stream",
     "text": [
      "Training Loss: 0.5264734343020585\n",
      "Validation Loss: 1.2377317990575518\n",
      "Training Accuracy of the network: 79 %\n",
      "Validation Accuracy of the network: 51 %\n",
      "EarlyStopping counter: 28 out of 50\n"
     ]
    },
    {
     "name": "stderr",
     "output_type": "stream",
     "text": [
      "  9%|██████████████▏                                                                                                                                                    | 87/1000 [03:42<38:14,  2.51s/it]"
     ]
    },
    {
     "name": "stdout",
     "output_type": "stream",
     "text": [
      "Training Loss: 0.5068212769871211\n",
      "Validation Loss: 1.2434888499123709\n",
      "Training Accuracy of the network: 81 %\n",
      "Validation Accuracy of the network: 52 %\n",
      "EarlyStopping counter: 29 out of 50\n"
     ]
    },
    {
     "name": "stderr",
     "output_type": "stream",
     "text": [
      "  9%|██████████████▎                                                                                                                                                    | 88/1000 [03:44<38:07,  2.51s/it]"
     ]
    },
    {
     "name": "stdout",
     "output_type": "stream",
     "text": [
      "Training Loss: 0.5084265333457585\n",
      "Validation Loss: 1.2454237716538565\n",
      "Training Accuracy of the network: 80 %\n",
      "Validation Accuracy of the network: 51 %\n",
      "EarlyStopping counter: 30 out of 50\n"
     ]
    },
    {
     "name": "stderr",
     "output_type": "stream",
     "text": [
      "  9%|██████████████▌                                                                                                                                                    | 89/1000 [03:47<38:04,  2.51s/it]"
     ]
    },
    {
     "name": "stdout",
     "output_type": "stream",
     "text": [
      "Training Loss: 0.5188833592581923\n",
      "Validation Loss: 1.2229210547038487\n",
      "Training Accuracy of the network: 80 %\n",
      "Validation Accuracy of the network: 52 %\n",
      "EarlyStopping counter: 31 out of 50\n"
     ]
    },
    {
     "name": "stderr",
     "output_type": "stream",
     "text": [
      "  9%|██████████████▋                                                                                                                                                    | 90/1000 [03:49<37:55,  2.50s/it]"
     ]
    },
    {
     "name": "stdout",
     "output_type": "stream",
     "text": [
      "Training Loss: 0.5107784153771227\n",
      "Validation Loss: 1.2624231559889658\n",
      "Training Accuracy of the network: 80 %\n",
      "Validation Accuracy of the network: 50 %\n",
      "EarlyStopping counter: 32 out of 50\n"
     ]
    },
    {
     "name": "stderr",
     "output_type": "stream",
     "text": [
      "  9%|██████████████▊                                                                                                                                                    | 91/1000 [03:52<37:53,  2.50s/it]"
     ]
    },
    {
     "name": "stdout",
     "output_type": "stream",
     "text": [
      "Training Loss: 0.5029665431837096\n",
      "Validation Loss: 1.2524752480643135\n",
      "Training Accuracy of the network: 80 %\n",
      "Validation Accuracy of the network: 51 %\n",
      "EarlyStopping counter: 33 out of 50\n"
     ]
    },
    {
     "name": "stderr",
     "output_type": "stream",
     "text": [
      "  9%|██████████████▉                                                                                                                                                    | 92/1000 [03:54<38:24,  2.54s/it]"
     ]
    },
    {
     "name": "stdout",
     "output_type": "stream",
     "text": [
      "Training Loss: 0.4924227341900777\n",
      "Validation Loss: 1.254226519380297\n",
      "Training Accuracy of the network: 81 %\n",
      "Validation Accuracy of the network: 51 %\n",
      "EarlyStopping counter: 34 out of 50\n"
     ]
    },
    {
     "name": "stderr",
     "output_type": "stream",
     "text": [
      "  9%|███████████████▏                                                                                                                                                   | 93/1000 [03:57<38:29,  2.55s/it]"
     ]
    },
    {
     "name": "stdout",
     "output_type": "stream",
     "text": [
      "Training Loss: 0.49475647030520614\n",
      "Validation Loss: 1.2470711435590471\n",
      "Training Accuracy of the network: 81 %\n",
      "Validation Accuracy of the network: 52 %\n",
      "EarlyStopping counter: 35 out of 50\n"
     ]
    },
    {
     "name": "stderr",
     "output_type": "stream",
     "text": [
      "  9%|███████████████▎                                                                                                                                                   | 94/1000 [03:59<38:10,  2.53s/it]"
     ]
    },
    {
     "name": "stdout",
     "output_type": "stream",
     "text": [
      "Training Loss: 0.49553456597954687\n",
      "Validation Loss: 1.266202756336757\n",
      "Training Accuracy of the network: 81 %\n",
      "Validation Accuracy of the network: 52 %\n",
      "EarlyStopping counter: 36 out of 50\n"
     ]
    },
    {
     "name": "stderr",
     "output_type": "stream",
     "text": [
      " 10%|███████████████▍                                                                                                                                                   | 95/1000 [04:02<38:15,  2.54s/it]"
     ]
    },
    {
     "name": "stdout",
     "output_type": "stream",
     "text": [
      "Training Loss: 0.48490047351504767\n",
      "Validation Loss: 1.240833168370383\n",
      "Training Accuracy of the network: 81 %\n",
      "Validation Accuracy of the network: 54 %\n",
      "EarlyStopping counter: 37 out of 50\n"
     ]
    },
    {
     "name": "stderr",
     "output_type": "stream",
     "text": [
      " 10%|███████████████▋                                                                                                                                                   | 96/1000 [04:04<36:52,  2.45s/it]"
     ]
    },
    {
     "name": "stdout",
     "output_type": "stream",
     "text": [
      "Training Loss: 0.48522744904251863\n",
      "Validation Loss: 1.2555003183228628\n",
      "Training Accuracy of the network: 82 %\n",
      "Validation Accuracy of the network: 52 %\n",
      "EarlyStopping counter: 38 out of 50\n"
     ]
    },
    {
     "name": "stderr",
     "output_type": "stream",
     "text": [
      " 10%|███████████████▊                                                                                                                                                   | 97/1000 [04:07<36:52,  2.45s/it]"
     ]
    },
    {
     "name": "stdout",
     "output_type": "stream",
     "text": [
      "Training Loss: 0.48554928198347996\n",
      "Validation Loss: 1.2525383421352931\n",
      "Training Accuracy of the network: 82 %\n",
      "Validation Accuracy of the network: 54 %\n",
      "EarlyStopping counter: 39 out of 50\n"
     ]
    },
    {
     "name": "stderr",
     "output_type": "stream",
     "text": [
      " 10%|███████████████▉                                                                                                                                                   | 98/1000 [04:09<38:20,  2.55s/it]"
     ]
    },
    {
     "name": "stdout",
     "output_type": "stream",
     "text": [
      "Training Loss: 0.47859139528370254\n",
      "Validation Loss: 1.2937858479363578\n",
      "Training Accuracy of the network: 82 %\n",
      "Validation Accuracy of the network: 51 %\n",
      "EarlyStopping counter: 40 out of 50\n"
     ]
    },
    {
     "name": "stderr",
     "output_type": "stream",
     "text": [
      " 10%|████████████████▏                                                                                                                                                  | 99/1000 [04:12<38:26,  2.56s/it]"
     ]
    },
    {
     "name": "stdout",
     "output_type": "stream",
     "text": [
      "Training Loss: 0.4872328106069217\n",
      "Validation Loss: 1.2692653502736773\n",
      "Training Accuracy of the network: 82 %\n",
      "Validation Accuracy of the network: 52 %\n",
      "EarlyStopping counter: 41 out of 50\n"
     ]
    },
    {
     "name": "stderr",
     "output_type": "stream",
     "text": [
      " 10%|████████████████▏                                                                                                                                                 | 100/1000 [04:15<39:09,  2.61s/it]"
     ]
    },
    {
     "name": "stdout",
     "output_type": "stream",
     "text": [
      "Training Loss: 0.46142054066388277\n",
      "Validation Loss: 1.2917107326643809\n",
      "Training Accuracy of the network: 83 %\n",
      "Validation Accuracy of the network: 53 %\n",
      "EarlyStopping counter: 42 out of 50\n"
     ]
    },
    {
     "name": "stderr",
     "output_type": "stream",
     "text": [
      " 10%|████████████████▎                                                                                                                                                 | 101/1000 [04:17<38:39,  2.58s/it]"
     ]
    },
    {
     "name": "stdout",
     "output_type": "stream",
     "text": [
      "Training Loss: 0.48618124012094344\n",
      "Validation Loss: 1.2941104786736624\n",
      "Training Accuracy of the network: 82 %\n",
      "Validation Accuracy of the network: 52 %\n",
      "EarlyStopping counter: 43 out of 50\n"
     ]
    },
    {
     "name": "stderr",
     "output_type": "stream",
     "text": [
      " 10%|████████████████▌                                                                                                                                                 | 102/1000 [04:20<38:23,  2.57s/it]"
     ]
    },
    {
     "name": "stdout",
     "output_type": "stream",
     "text": [
      "Training Loss: 0.47507303452839816\n",
      "Validation Loss: 1.2839778883116586\n",
      "Training Accuracy of the network: 82 %\n",
      "Validation Accuracy of the network: 52 %\n",
      "EarlyStopping counter: 44 out of 50\n"
     ]
    },
    {
     "name": "stderr",
     "output_type": "stream",
     "text": [
      " 10%|████████████████▋                                                                                                                                                 | 103/1000 [04:22<38:12,  2.56s/it]"
     ]
    },
    {
     "name": "stdout",
     "output_type": "stream",
     "text": [
      "Training Loss: 0.45498982767989166\n",
      "Validation Loss: 1.2823602216584342\n",
      "Training Accuracy of the network: 83 %\n",
      "Validation Accuracy of the network: 53 %\n",
      "EarlyStopping counter: 45 out of 50\n"
     ]
    },
    {
     "name": "stderr",
     "output_type": "stream",
     "text": [
      " 10%|████████████████▊                                                                                                                                                 | 104/1000 [04:25<38:21,  2.57s/it]"
     ]
    },
    {
     "name": "stdout",
     "output_type": "stream",
     "text": [
      "Training Loss: 0.4658815907518359\n",
      "Validation Loss: 1.3055820873805455\n",
      "Training Accuracy of the network: 82 %\n",
      "Validation Accuracy of the network: 53 %\n",
      "EarlyStopping counter: 46 out of 50\n"
     ]
    },
    {
     "name": "stderr",
     "output_type": "stream",
     "text": [
      " 10%|█████████████████                                                                                                                                                 | 105/1000 [04:27<38:08,  2.56s/it]"
     ]
    },
    {
     "name": "stdout",
     "output_type": "stream",
     "text": [
      "Training Loss: 0.44935378062464026\n",
      "Validation Loss: 1.3054813998086112\n",
      "Training Accuracy of the network: 83 %\n",
      "Validation Accuracy of the network: 53 %\n",
      "EarlyStopping counter: 47 out of 50\n"
     ]
    },
    {
     "name": "stderr",
     "output_type": "stream",
     "text": [
      " 11%|█████████████████▏                                                                                                                                                | 106/1000 [04:30<37:49,  2.54s/it]"
     ]
    },
    {
     "name": "stdout",
     "output_type": "stream",
     "text": [
      "Training Loss: 0.46927063580412065\n",
      "Validation Loss: 1.2918097921780178\n",
      "Training Accuracy of the network: 82 %\n",
      "Validation Accuracy of the network: 52 %\n",
      "EarlyStopping counter: 48 out of 50\n"
     ]
    },
    {
     "name": "stderr",
     "output_type": "stream",
     "text": [
      " 11%|█████████████████▎                                                                                                                                                | 107/1000 [04:33<38:13,  2.57s/it]"
     ]
    },
    {
     "name": "stdout",
     "output_type": "stream",
     "text": [
      "Training Loss: 0.4491163256177067\n",
      "Validation Loss: 1.3002401351928712\n",
      "Training Accuracy of the network: 82 %\n",
      "Validation Accuracy of the network: 52 %\n",
      "EarlyStopping counter: 49 out of 50\n"
     ]
    },
    {
     "name": "stderr",
     "output_type": "stream",
     "text": [
      " 11%|█████████████████▎                                                                                                                                                | 107/1000 [04:35<38:20,  2.58s/it]"
     ]
    },
    {
     "name": "stdout",
     "output_type": "stream",
     "text": [
      "Training Loss: 0.44416896047165794\n",
      "Validation Loss: 1.29370356798172\n",
      "Training Accuracy of the network: 84 %\n",
      "Validation Accuracy of the network: 54 %\n",
      "EarlyStopping counter: 50 out of 50\n",
      "Early Stopping\n",
      "Testing Loss: 1.2601078748703003\n",
      "Testing Accuracy of the network: 48 %\n"
     ]
    },
    {
     "name": "stderr",
     "output_type": "stream",
     "text": [
      "\n",
      "  0%|▏                                                                                                                                                                   | 1/1000 [00:02<42:27,  2.55s/it]"
     ]
    },
    {
     "name": "stdout",
     "output_type": "stream",
     "text": [
      "Training Loss: 1.5820893688478332\n",
      "Validation Loss: 1.434010546548026\n",
      "Training Accuracy of the network: 23 %\n",
      "Validation Accuracy of the network: 21 %\n",
      "Validation loss decreased (inf --> 1.434011).  Saving model ...\n"
     ]
    },
    {
     "name": "stderr",
     "output_type": "stream",
     "text": [
      "  0%|▎                                                                                                                                                                   | 2/1000 [00:04<41:13,  2.48s/it]"
     ]
    },
    {
     "name": "stdout",
     "output_type": "stream",
     "text": [
      "Training Loss: 1.5068705211515012\n",
      "Validation Loss: 1.4114403486251832\n",
      "Training Accuracy of the network: 25 %\n",
      "Validation Accuracy of the network: 25 %\n",
      "Validation loss decreased (1.434011 --> 1.411440).  Saving model ...\n"
     ]
    },
    {
     "name": "stderr",
     "output_type": "stream",
     "text": [
      "  0%|▍                                                                                                                                                                   | 3/1000 [00:07<40:19,  2.43s/it]"
     ]
    },
    {
     "name": "stdout",
     "output_type": "stream",
     "text": [
      "Training Loss: 1.468838271887406\n",
      "Validation Loss: 1.3933773483548846\n",
      "Training Accuracy of the network: 26 %\n",
      "Validation Accuracy of the network: 25 %\n",
      "Validation loss decreased (1.411440 --> 1.393377).  Saving model ...\n"
     ]
    },
    {
     "name": "stderr",
     "output_type": "stream",
     "text": [
      "  0%|▋                                                                                                                                                                   | 4/1000 [00:09<41:16,  2.49s/it]"
     ]
    },
    {
     "name": "stdout",
     "output_type": "stream",
     "text": [
      "Training Loss: 1.4338279185087786\n",
      "Validation Loss: 1.3776442493711198\n",
      "Training Accuracy of the network: 31 %\n",
      "Validation Accuracy of the network: 27 %\n",
      "Validation loss decreased (1.393377 --> 1.377644).  Saving model ...\n"
     ]
    },
    {
     "name": "stderr",
     "output_type": "stream",
     "text": [
      "  0%|▊                                                                                                                                                                   | 5/1000 [00:12<41:21,  2.49s/it]"
     ]
    },
    {
     "name": "stdout",
     "output_type": "stream",
     "text": [
      "Training Loss: 1.391567093738611\n",
      "Validation Loss: 1.3653965166636877\n",
      "Training Accuracy of the network: 30 %\n",
      "Validation Accuracy of the network: 28 %\n",
      "Validation loss decreased (1.377644 --> 1.365397).  Saving model ...\n"
     ]
    },
    {
     "name": "stderr",
     "output_type": "stream",
     "text": [
      "  1%|▉                                                                                                                                                                   | 6/1000 [00:14<41:38,  2.51s/it]"
     ]
    },
    {
     "name": "stdout",
     "output_type": "stream",
     "text": [
      "Training Loss: 1.3710194420123445\n",
      "Validation Loss: 1.3521036386489869\n",
      "Training Accuracy of the network: 33 %\n",
      "Validation Accuracy of the network: 30 %\n",
      "Validation loss decreased (1.365397 --> 1.352104).  Saving model ...\n"
     ]
    },
    {
     "name": "stderr",
     "output_type": "stream",
     "text": [
      "  1%|█▏                                                                                                                                                                  | 7/1000 [00:17<41:42,  2.52s/it]"
     ]
    },
    {
     "name": "stdout",
     "output_type": "stream",
     "text": [
      "Training Loss: 1.3483052966387377\n",
      "Validation Loss: 1.341364734513419\n",
      "Training Accuracy of the network: 34 %\n",
      "Validation Accuracy of the network: 32 %\n",
      "Validation loss decreased (1.352104 --> 1.341365).  Saving model ...\n"
     ]
    },
    {
     "name": "stderr",
     "output_type": "stream",
     "text": [
      "  1%|█▎                                                                                                                                                                  | 8/1000 [00:20<41:32,  2.51s/it]"
     ]
    },
    {
     "name": "stdout",
     "output_type": "stream",
     "text": [
      "Training Loss: 1.3213957885037297\n",
      "Validation Loss: 1.3315832546779087\n",
      "Training Accuracy of the network: 37 %\n",
      "Validation Accuracy of the network: 35 %\n",
      "Validation loss decreased (1.341365 --> 1.331583).  Saving model ...\n"
     ]
    },
    {
     "name": "stderr",
     "output_type": "stream",
     "text": [
      "  1%|█▍                                                                                                                                                                  | 9/1000 [00:22<41:21,  2.50s/it]"
     ]
    },
    {
     "name": "stdout",
     "output_type": "stream",
     "text": [
      "Training Loss: 1.311635662680087\n",
      "Validation Loss: 1.320470496586391\n",
      "Training Accuracy of the network: 37 %\n",
      "Validation Accuracy of the network: 36 %\n",
      "Validation loss decreased (1.331583 --> 1.320470).  Saving model ...\n"
     ]
    },
    {
     "name": "stderr",
     "output_type": "stream",
     "text": [
      "  1%|█▋                                                                                                                                                                 | 10/1000 [00:24<40:59,  2.48s/it]"
     ]
    },
    {
     "name": "stdout",
     "output_type": "stream",
     "text": [
      "Training Loss: 1.2765614204648612\n",
      "Validation Loss: 1.31001341683524\n",
      "Training Accuracy of the network: 39 %\n",
      "Validation Accuracy of the network: 36 %\n",
      "Validation loss decreased (1.320470 --> 1.310013).  Saving model ...\n"
     ]
    },
    {
     "name": "stderr",
     "output_type": "stream",
     "text": [
      "  1%|█▊                                                                                                                                                                 | 11/1000 [00:27<41:31,  2.52s/it]"
     ]
    },
    {
     "name": "stdout",
     "output_type": "stream",
     "text": [
      "Training Loss: 1.2766063049219656\n",
      "Validation Loss: 1.3035677126475742\n",
      "Training Accuracy of the network: 39 %\n",
      "Validation Accuracy of the network: 36 %\n",
      "Validation loss decreased (1.310013 --> 1.303568).  Saving model ...\n"
     ]
    },
    {
     "name": "stderr",
     "output_type": "stream",
     "text": [
      "  1%|█▉                                                                                                                                                                 | 12/1000 [00:30<41:57,  2.55s/it]"
     ]
    },
    {
     "name": "stdout",
     "output_type": "stream",
     "text": [
      "Training Loss: 1.260894523150679\n",
      "Validation Loss: 1.2974452563694545\n",
      "Training Accuracy of the network: 40 %\n",
      "Validation Accuracy of the network: 36 %\n",
      "Validation loss decreased (1.303568 --> 1.297445).  Saving model ...\n"
     ]
    },
    {
     "name": "stderr",
     "output_type": "stream",
     "text": [
      "  1%|██                                                                                                                                                                 | 13/1000 [00:32<41:46,  2.54s/it]"
     ]
    },
    {
     "name": "stdout",
     "output_type": "stream",
     "text": [
      "Training Loss: 1.245043279900067\n",
      "Validation Loss: 1.2905719757080079\n",
      "Training Accuracy of the network: 42 %\n",
      "Validation Accuracy of the network: 35 %\n",
      "Validation loss decreased (1.297445 --> 1.290572).  Saving model ...\n"
     ]
    },
    {
     "name": "stderr",
     "output_type": "stream",
     "text": [
      "  1%|██▎                                                                                                                                                                | 14/1000 [00:35<42:17,  2.57s/it]"
     ]
    },
    {
     "name": "stdout",
     "output_type": "stream",
     "text": [
      "Training Loss: 1.2325551328451738\n",
      "Validation Loss: 1.2824136393410819\n",
      "Training Accuracy of the network: 44 %\n",
      "Validation Accuracy of the network: 36 %\n",
      "Validation loss decreased (1.290572 --> 1.282414).  Saving model ...\n"
     ]
    },
    {
     "name": "stderr",
     "output_type": "stream",
     "text": [
      "  2%|██▍                                                                                                                                                                | 15/1000 [00:38<42:56,  2.62s/it]"
     ]
    },
    {
     "name": "stdout",
     "output_type": "stream",
     "text": [
      "Training Loss: 1.213916043440501\n",
      "Validation Loss: 1.278907002721514\n",
      "Training Accuracy of the network: 44 %\n",
      "Validation Accuracy of the network: 37 %\n",
      "Validation loss decreased (1.282414 --> 1.278907).  Saving model ...\n"
     ]
    },
    {
     "name": "stderr",
     "output_type": "stream",
     "text": [
      "  2%|██▌                                                                                                                                                                | 16/1000 [00:40<42:27,  2.59s/it]"
     ]
    },
    {
     "name": "stdout",
     "output_type": "stream",
     "text": [
      "Training Loss: 1.2094138264656067\n",
      "Validation Loss: 1.2736060517174856\n",
      "Training Accuracy of the network: 45 %\n",
      "Validation Accuracy of the network: 38 %\n",
      "Validation loss decreased (1.278907 --> 1.273606).  Saving model ...\n"
     ]
    },
    {
     "name": "stderr",
     "output_type": "stream",
     "text": [
      "  2%|██▊                                                                                                                                                                | 17/1000 [00:43<42:10,  2.57s/it]"
     ]
    },
    {
     "name": "stdout",
     "output_type": "stream",
     "text": [
      "Training Loss: 1.1947411065516265\n",
      "Validation Loss: 1.268616362980434\n",
      "Training Accuracy of the network: 45 %\n",
      "Validation Accuracy of the network: 37 %\n",
      "Validation loss decreased (1.273606 --> 1.268616).  Saving model ...\n"
     ]
    },
    {
     "name": "stderr",
     "output_type": "stream",
     "text": [
      "  2%|██▉                                                                                                                                                                | 18/1000 [00:45<41:47,  2.55s/it]"
     ]
    },
    {
     "name": "stdout",
     "output_type": "stream",
     "text": [
      "Training Loss: 1.1776267320349596\n",
      "Validation Loss: 1.2672032151903425\n",
      "Training Accuracy of the network: 46 %\n",
      "Validation Accuracy of the network: 39 %\n",
      "Validation loss decreased (1.268616 --> 1.267203).  Saving model ...\n"
     ]
    },
    {
     "name": "stderr",
     "output_type": "stream",
     "text": [
      "  2%|███                                                                                                                                                                | 19/1000 [00:47<40:24,  2.47s/it]"
     ]
    },
    {
     "name": "stdout",
     "output_type": "stream",
     "text": [
      "Training Loss: 1.1648369254409403\n",
      "Validation Loss: 1.2634900433676584\n",
      "Training Accuracy of the network: 48 %\n",
      "Validation Accuracy of the network: 40 %\n",
      "Validation loss decreased (1.267203 --> 1.263490).  Saving model ...\n"
     ]
    },
    {
     "name": "stderr",
     "output_type": "stream",
     "text": [
      "  2%|███▎                                                                                                                                                               | 20/1000 [00:50<41:21,  2.53s/it]"
     ]
    },
    {
     "name": "stdout",
     "output_type": "stream",
     "text": [
      "Training Loss: 1.1533765054267386\n",
      "Validation Loss: 1.2576069729668753\n",
      "Training Accuracy of the network: 48 %\n",
      "Validation Accuracy of the network: 40 %\n",
      "Validation loss decreased (1.263490 --> 1.257607).  Saving model ...\n"
     ]
    },
    {
     "name": "stderr",
     "output_type": "stream",
     "text": [
      "  2%|███▍                                                                                                                                                               | 21/1000 [00:53<42:10,  2.58s/it]"
     ]
    },
    {
     "name": "stdout",
     "output_type": "stream",
     "text": [
      "Training Loss: 1.1448169834371926\n",
      "Validation Loss: 1.251370518548148\n",
      "Training Accuracy of the network: 47 %\n",
      "Validation Accuracy of the network: 41 %\n",
      "Validation loss decreased (1.257607 --> 1.251371).  Saving model ...\n"
     ]
    },
    {
     "name": "stderr",
     "output_type": "stream",
     "text": [
      "  2%|███▌                                                                                                                                                               | 22/1000 [00:55<42:16,  2.59s/it]"
     ]
    },
    {
     "name": "stdout",
     "output_type": "stream",
     "text": [
      "Training Loss: 1.1341131057428278\n",
      "Validation Loss: 1.2461124113627842\n",
      "Training Accuracy of the network: 50 %\n",
      "Validation Accuracy of the network: 41 %\n",
      "Validation loss decreased (1.251371 --> 1.246112).  Saving model ...\n"
     ]
    },
    {
     "name": "stderr",
     "output_type": "stream",
     "text": [
      "  2%|███▋                                                                                                                                                               | 23/1000 [00:58<41:44,  2.56s/it]"
     ]
    },
    {
     "name": "stdout",
     "output_type": "stream",
     "text": [
      "Training Loss: 1.1165563580782518\n",
      "Validation Loss: 1.2406107732227871\n",
      "Training Accuracy of the network: 51 %\n",
      "Validation Accuracy of the network: 41 %\n",
      "Validation loss decreased (1.246112 --> 1.240611).  Saving model ...\n"
     ]
    },
    {
     "name": "stderr",
     "output_type": "stream",
     "text": [
      "  2%|███▉                                                                                                                                                               | 24/1000 [01:00<41:49,  2.57s/it]"
     ]
    },
    {
     "name": "stdout",
     "output_type": "stream",
     "text": [
      "Training Loss: 1.1122412314449532\n",
      "Validation Loss: 1.2365219490868704\n",
      "Training Accuracy of the network: 51 %\n",
      "Validation Accuracy of the network: 42 %\n",
      "Validation loss decreased (1.240611 --> 1.236522).  Saving model ...\n"
     ]
    },
    {
     "name": "stderr",
     "output_type": "stream",
     "text": [
      "  2%|████                                                                                                                                                               | 25/1000 [01:03<41:42,  2.57s/it]"
     ]
    },
    {
     "name": "stdout",
     "output_type": "stream",
     "text": [
      "Training Loss: 1.0908553686694822\n",
      "Validation Loss: 1.2240540470395769\n",
      "Training Accuracy of the network: 52 %\n",
      "Validation Accuracy of the network: 43 %\n",
      "Validation loss decreased (1.236522 --> 1.224054).  Saving model ...\n"
     ]
    },
    {
     "name": "stderr",
     "output_type": "stream",
     "text": [
      "  3%|████▏                                                                                                                                                              | 26/1000 [01:06<41:43,  2.57s/it]"
     ]
    },
    {
     "name": "stdout",
     "output_type": "stream",
     "text": [
      "Training Loss: 1.0792870359576268\n",
      "Validation Loss: 1.2151258604867117\n",
      "Training Accuracy of the network: 53 %\n",
      "Validation Accuracy of the network: 43 %\n",
      "Validation loss decreased (1.224054 --> 1.215126).  Saving model ...\n"
     ]
    },
    {
     "name": "stderr",
     "output_type": "stream",
     "text": [
      "  3%|████▍                                                                                                                                                              | 27/1000 [01:08<42:04,  2.59s/it]"
     ]
    },
    {
     "name": "stdout",
     "output_type": "stream",
     "text": [
      "Training Loss: 1.078482019296591\n",
      "Validation Loss: 1.2077119656971522\n",
      "Training Accuracy of the network: 54 %\n",
      "Validation Accuracy of the network: 43 %\n",
      "Validation loss decreased (1.215126 --> 1.207712).  Saving model ...\n"
     ]
    },
    {
     "name": "stderr",
     "output_type": "stream",
     "text": [
      "  3%|████▌                                                                                                                                                              | 28/1000 [01:11<42:24,  2.62s/it]"
     ]
    },
    {
     "name": "stdout",
     "output_type": "stream",
     "text": [
      "Training Loss: 1.0441895917705868\n",
      "Validation Loss: 1.200193020275661\n",
      "Training Accuracy of the network: 57 %\n",
      "Validation Accuracy of the network: 44 %\n",
      "Validation loss decreased (1.207712 --> 1.200193).  Saving model ...\n"
     ]
    },
    {
     "name": "stderr",
     "output_type": "stream",
     "text": [
      "  3%|████▋                                                                                                                                                              | 29/1000 [01:14<42:13,  2.61s/it]"
     ]
    },
    {
     "name": "stdout",
     "output_type": "stream",
     "text": [
      "Training Loss: 1.0328213792780172\n",
      "Validation Loss: 1.1945611817496165\n",
      "Training Accuracy of the network: 55 %\n",
      "Validation Accuracy of the network: 44 %\n",
      "Validation loss decreased (1.200193 --> 1.194561).  Saving model ...\n"
     ]
    },
    {
     "name": "stderr",
     "output_type": "stream",
     "text": [
      "  3%|████▉                                                                                                                                                              | 30/1000 [01:16<42:03,  2.60s/it]"
     ]
    },
    {
     "name": "stdout",
     "output_type": "stream",
     "text": [
      "Training Loss: 1.0125363153823908\n",
      "Validation Loss: 1.1867325476237707\n",
      "Training Accuracy of the network: 56 %\n",
      "Validation Accuracy of the network: 43 %\n",
      "Validation loss decreased (1.194561 --> 1.186733).  Saving model ...\n"
     ]
    },
    {
     "name": "stderr",
     "output_type": "stream",
     "text": [
      "  3%|█████                                                                                                                                                              | 31/1000 [01:19<42:24,  2.63s/it]"
     ]
    },
    {
     "name": "stdout",
     "output_type": "stream",
     "text": [
      "Training Loss: 1.0122055206177891\n",
      "Validation Loss: 1.18201584815979\n",
      "Training Accuracy of the network: 57 %\n",
      "Validation Accuracy of the network: 45 %\n",
      "Validation loss decreased (1.186733 --> 1.182016).  Saving model ...\n"
     ]
    },
    {
     "name": "stderr",
     "output_type": "stream",
     "text": [
      "  3%|█████▏                                                                                                                                                             | 32/1000 [01:21<42:10,  2.61s/it]"
     ]
    },
    {
     "name": "stdout",
     "output_type": "stream",
     "text": [
      "Training Loss: 0.9976653191058532\n",
      "Validation Loss: 1.1728345360074723\n",
      "Training Accuracy of the network: 58 %\n",
      "Validation Accuracy of the network: 45 %\n",
      "Validation loss decreased (1.182016 --> 1.172835).  Saving model ...\n"
     ]
    },
    {
     "name": "stderr",
     "output_type": "stream",
     "text": [
      "  3%|█████▍                                                                                                                                                             | 33/1000 [01:24<42:25,  2.63s/it]"
     ]
    },
    {
     "name": "stdout",
     "output_type": "stream",
     "text": [
      "Training Loss: 0.9765436001445936\n",
      "Validation Loss: 1.163965288230351\n",
      "Training Accuracy of the network: 59 %\n",
      "Validation Accuracy of the network: 45 %\n",
      "Validation loss decreased (1.172835 --> 1.163965).  Saving model ...\n"
     ]
    },
    {
     "name": "stderr",
     "output_type": "stream",
     "text": [
      "  3%|█████▌                                                                                                                                                             | 34/1000 [01:26<41:28,  2.58s/it]"
     ]
    },
    {
     "name": "stdout",
     "output_type": "stream",
     "text": [
      "Training Loss: 0.9754428026684816\n",
      "Validation Loss: 1.1586301173482623\n",
      "Training Accuracy of the network: 60 %\n",
      "Validation Accuracy of the network: 47 %\n",
      "Validation loss decreased (1.163965 --> 1.158630).  Saving model ...\n"
     ]
    },
    {
     "name": "stderr",
     "output_type": "stream",
     "text": [
      "  4%|█████▋                                                                                                                                                             | 35/1000 [01:29<41:51,  2.60s/it]"
     ]
    },
    {
     "name": "stdout",
     "output_type": "stream",
     "text": [
      "Training Loss: 0.9618056716694348\n",
      "Validation Loss: 1.1526791266032628\n",
      "Training Accuracy of the network: 60 %\n",
      "Validation Accuracy of the network: 46 %\n",
      "Validation loss decreased (1.158630 --> 1.152679).  Saving model ...\n"
     ]
    },
    {
     "name": "stderr",
     "output_type": "stream",
     "text": [
      "  4%|█████▊                                                                                                                                                             | 36/1000 [01:32<42:04,  2.62s/it]"
     ]
    },
    {
     "name": "stdout",
     "output_type": "stream",
     "text": [
      "Training Loss: 0.9311744417401328\n",
      "Validation Loss: 1.1439835395131792\n",
      "Training Accuracy of the network: 62 %\n",
      "Validation Accuracy of the network: 47 %\n",
      "Validation loss decreased (1.152679 --> 1.143984).  Saving model ...\n"
     ]
    },
    {
     "name": "stderr",
     "output_type": "stream",
     "text": [
      "  4%|██████                                                                                                                                                             | 37/1000 [01:34<41:35,  2.59s/it]"
     ]
    },
    {
     "name": "stdout",
     "output_type": "stream",
     "text": [
      "Training Loss: 0.9292908891819526\n",
      "Validation Loss: 1.1402393766811916\n",
      "Training Accuracy of the network: 62 %\n",
      "Validation Accuracy of the network: 46 %\n",
      "Validation loss decreased (1.143984 --> 1.140239).  Saving model ...\n"
     ]
    },
    {
     "name": "stderr",
     "output_type": "stream",
     "text": [
      "  4%|██████▏                                                                                                                                                            | 38/1000 [01:37<42:09,  2.63s/it]"
     ]
    },
    {
     "name": "stdout",
     "output_type": "stream",
     "text": [
      "Training Loss: 0.916218592852786\n",
      "Validation Loss: 1.1302996499197824\n",
      "Training Accuracy of the network: 63 %\n",
      "Validation Accuracy of the network: 48 %\n",
      "Validation loss decreased (1.140239 --> 1.130300).  Saving model ...\n"
     ]
    },
    {
     "name": "stderr",
     "output_type": "stream",
     "text": [
      "  4%|██████▎                                                                                                                                                            | 39/1000 [01:40<41:54,  2.62s/it]"
     ]
    },
    {
     "name": "stdout",
     "output_type": "stream",
     "text": [
      "Training Loss: 0.9059932005146275\n",
      "Validation Loss: 1.126166910784585\n",
      "Training Accuracy of the network: 63 %\n",
      "Validation Accuracy of the network: 48 %\n",
      "Validation loss decreased (1.130300 --> 1.126167).  Saving model ...\n"
     ]
    },
    {
     "name": "stderr",
     "output_type": "stream",
     "text": [
      "  4%|██████▌                                                                                                                                                            | 40/1000 [01:42<41:44,  2.61s/it]"
     ]
    },
    {
     "name": "stdout",
     "output_type": "stream",
     "text": [
      "Training Loss: 0.8973225523596224\n",
      "Validation Loss: 1.1240233608654566\n",
      "Training Accuracy of the network: 63 %\n",
      "Validation Accuracy of the network: 49 %\n",
      "Validation loss decreased (1.126167 --> 1.124023).  Saving model ...\n"
     ]
    },
    {
     "name": "stderr",
     "output_type": "stream",
     "text": [
      "  4%|██████▋                                                                                                                                                            | 41/1000 [01:45<41:44,  2.61s/it]"
     ]
    },
    {
     "name": "stdout",
     "output_type": "stream",
     "text": [
      "Training Loss: 0.8804069149537362\n",
      "Validation Loss: 1.1133724587304252\n",
      "Training Accuracy of the network: 64 %\n",
      "Validation Accuracy of the network: 49 %\n",
      "Validation loss decreased (1.124023 --> 1.113372).  Saving model ...\n"
     ]
    },
    {
     "name": "stderr",
     "output_type": "stream",
     "text": [
      "  4%|██████▊                                                                                                                                                            | 42/1000 [01:48<42:04,  2.64s/it]"
     ]
    },
    {
     "name": "stdout",
     "output_type": "stream",
     "text": [
      "Training Loss: 0.8596459031105042\n",
      "Validation Loss: 1.106176371233804\n",
      "Training Accuracy of the network: 65 %\n",
      "Validation Accuracy of the network: 50 %\n",
      "Validation loss decreased (1.113372 --> 1.106176).  Saving model ...\n"
     ]
    },
    {
     "name": "stderr",
     "output_type": "stream",
     "text": [
      "  4%|███████                                                                                                                                                            | 43/1000 [01:50<41:20,  2.59s/it]"
     ]
    },
    {
     "name": "stdout",
     "output_type": "stream",
     "text": [
      "Training Loss: 0.8578046603479247\n",
      "Validation Loss: 1.1011311428887502\n",
      "Training Accuracy of the network: 65 %\n",
      "Validation Accuracy of the network: 50 %\n",
      "Validation loss decreased (1.106176 --> 1.101131).  Saving model ...\n"
     ]
    },
    {
     "name": "stderr",
     "output_type": "stream",
     "text": [
      "  4%|███████▏                                                                                                                                                           | 44/1000 [01:53<41:17,  2.59s/it]"
     ]
    },
    {
     "name": "stdout",
     "output_type": "stream",
     "text": [
      "Training Loss: 0.8455417766303256\n",
      "Validation Loss: 1.0914197887693133\n",
      "Training Accuracy of the network: 66 %\n",
      "Validation Accuracy of the network: 51 %\n",
      "Validation loss decreased (1.101131 --> 1.091420).  Saving model ...\n"
     ]
    },
    {
     "name": "stderr",
     "output_type": "stream",
     "text": [
      "  4%|███████▎                                                                                                                                                           | 45/1000 [01:55<41:16,  2.59s/it]"
     ]
    },
    {
     "name": "stdout",
     "output_type": "stream",
     "text": [
      "Training Loss: 0.8382735902416534\n",
      "Validation Loss: 1.0948495251791819\n",
      "Training Accuracy of the network: 65 %\n",
      "Validation Accuracy of the network: 50 %\n",
      "EarlyStopping counter: 1 out of 50\n"
     ]
    },
    {
     "name": "stderr",
     "output_type": "stream",
     "text": [
      "  5%|███████▍                                                                                                                                                           | 46/1000 [01:58<40:43,  2.56s/it]"
     ]
    },
    {
     "name": "stdout",
     "output_type": "stream",
     "text": [
      "Training Loss: 0.8062332151592642\n",
      "Validation Loss: 1.0859793305397034\n",
      "Training Accuracy of the network: 68 %\n",
      "Validation Accuracy of the network: 51 %\n",
      "Validation loss decreased (1.091420 --> 1.085979).  Saving model ...\n"
     ]
    },
    {
     "name": "stderr",
     "output_type": "stream",
     "text": [
      "  5%|███████▋                                                                                                                                                           | 47/1000 [02:00<40:25,  2.54s/it]"
     ]
    },
    {
     "name": "stdout",
     "output_type": "stream",
     "text": [
      "Training Loss: 0.7984094238583592\n",
      "Validation Loss: 1.083464196750096\n",
      "Training Accuracy of the network: 68 %\n",
      "Validation Accuracy of the network: 51 %\n",
      "Validation loss decreased (1.085979 --> 1.083464).  Saving model ...\n"
     ]
    },
    {
     "name": "stderr",
     "output_type": "stream",
     "text": [
      "  5%|███████▊                                                                                                                                                           | 48/1000 [02:03<40:47,  2.57s/it]"
     ]
    },
    {
     "name": "stdout",
     "output_type": "stream",
     "text": [
      "Training Loss: 0.7962690589112648\n",
      "Validation Loss: 1.0760885766574315\n",
      "Training Accuracy of the network: 69 %\n",
      "Validation Accuracy of the network: 51 %\n",
      "Validation loss decreased (1.083464 --> 1.076089).  Saving model ...\n"
     ]
    },
    {
     "name": "stderr",
     "output_type": "stream",
     "text": [
      "  5%|███████▉                                                                                                                                                           | 49/1000 [02:05<39:59,  2.52s/it]"
     ]
    },
    {
     "name": "stdout",
     "output_type": "stream",
     "text": [
      "Training Loss: 0.8030923390086147\n",
      "Validation Loss: 1.075378598485674\n",
      "Training Accuracy of the network: 67 %\n",
      "Validation Accuracy of the network: 51 %\n",
      "Validation loss decreased (1.076089 --> 1.075379).  Saving model ...\n"
     ]
    },
    {
     "name": "stderr",
     "output_type": "stream",
     "text": [
      "  5%|████████▏                                                                                                                                                          | 50/1000 [02:08<39:09,  2.47s/it]"
     ]
    },
    {
     "name": "stdout",
     "output_type": "stream",
     "text": [
      "Training Loss: 0.7938866655247799\n",
      "Validation Loss: 1.0762379884719848\n",
      "Training Accuracy of the network: 69 %\n",
      "Validation Accuracy of the network: 51 %\n",
      "EarlyStopping counter: 1 out of 50\n"
     ]
    },
    {
     "name": "stderr",
     "output_type": "stream",
     "text": [
      "  5%|████████▎                                                                                                                                                          | 51/1000 [02:10<39:17,  2.48s/it]"
     ]
    },
    {
     "name": "stdout",
     "output_type": "stream",
     "text": [
      "Training Loss: 0.7927869511903196\n",
      "Validation Loss: 1.0737244027001518\n",
      "Training Accuracy of the network: 70 %\n",
      "Validation Accuracy of the network: 50 %\n",
      "Validation loss decreased (1.075379 --> 1.073724).  Saving model ...\n"
     ]
    },
    {
     "name": "stderr",
     "output_type": "stream",
     "text": [
      "  5%|████████▍                                                                                                                                                          | 52/1000 [02:13<40:08,  2.54s/it]"
     ]
    },
    {
     "name": "stdout",
     "output_type": "stream",
     "text": [
      "Training Loss: 0.780842196142328\n",
      "Validation Loss: 1.0648862412997655\n",
      "Training Accuracy of the network: 69 %\n",
      "Validation Accuracy of the network: 52 %\n",
      "Validation loss decreased (1.073724 --> 1.064886).  Saving model ...\n"
     ]
    },
    {
     "name": "stderr",
     "output_type": "stream",
     "text": [
      "  5%|████████▋                                                                                                                                                          | 53/1000 [02:15<40:02,  2.54s/it]"
     ]
    },
    {
     "name": "stdout",
     "output_type": "stream",
     "text": [
      "Training Loss: 0.7573964096929716\n",
      "Validation Loss: 1.0638533677373614\n",
      "Training Accuracy of the network: 71 %\n",
      "Validation Accuracy of the network: 53 %\n",
      "Validation loss decreased (1.064886 --> 1.063853).  Saving model ...\n"
     ]
    },
    {
     "name": "stderr",
     "output_type": "stream",
     "text": [
      "  5%|████████▊                                                                                                                                                          | 54/1000 [02:18<39:56,  2.53s/it]"
     ]
    },
    {
     "name": "stdout",
     "output_type": "stream",
     "text": [
      "Training Loss: 0.760957299043303\n",
      "Validation Loss: 1.0644239476748876\n",
      "Training Accuracy of the network: 70 %\n",
      "Validation Accuracy of the network: 54 %\n",
      "EarlyStopping counter: 1 out of 50\n"
     ]
    },
    {
     "name": "stderr",
     "output_type": "stream",
     "text": [
      "  6%|████████▉                                                                                                                                                          | 55/1000 [02:20<39:49,  2.53s/it]"
     ]
    },
    {
     "name": "stdout",
     "output_type": "stream",
     "text": [
      "Training Loss: 0.7451463362229043\n",
      "Validation Loss: 1.0632179617881774\n",
      "Training Accuracy of the network: 71 %\n",
      "Validation Accuracy of the network: 53 %\n",
      "Validation loss decreased (1.063853 --> 1.063218).  Saving model ...\n"
     ]
    },
    {
     "name": "stderr",
     "output_type": "stream",
     "text": [
      "  6%|█████████▏                                                                                                                                                         | 56/1000 [02:23<39:48,  2.53s/it]"
     ]
    },
    {
     "name": "stdout",
     "output_type": "stream",
     "text": [
      "Training Loss: 0.735513346404701\n",
      "Validation Loss: 1.0629282031740461\n",
      "Training Accuracy of the network: 72 %\n",
      "Validation Accuracy of the network: 52 %\n",
      "Validation loss decreased (1.063218 --> 1.062928).  Saving model ...\n"
     ]
    },
    {
     "name": "stderr",
     "output_type": "stream",
     "text": [
      "  6%|█████████▎                                                                                                                                                         | 57/1000 [02:25<39:37,  2.52s/it]"
     ]
    },
    {
     "name": "stdout",
     "output_type": "stream",
     "text": [
      "Training Loss: 0.7292676454652911\n",
      "Validation Loss: 1.0561785919325692\n",
      "Training Accuracy of the network: 71 %\n",
      "Validation Accuracy of the network: 53 %\n",
      "Validation loss decreased (1.062928 --> 1.056179).  Saving model ...\n"
     ]
    },
    {
     "name": "stderr",
     "output_type": "stream",
     "text": [
      "  6%|█████████▍                                                                                                                                                         | 58/1000 [02:28<39:50,  2.54s/it]"
     ]
    },
    {
     "name": "stdout",
     "output_type": "stream",
     "text": [
      "Training Loss: 0.7247541966321676\n",
      "Validation Loss: 1.0570186121123177\n",
      "Training Accuracy of the network: 71 %\n",
      "Validation Accuracy of the network: 53 %\n",
      "EarlyStopping counter: 1 out of 50\n"
     ]
    },
    {
     "name": "stderr",
     "output_type": "stream",
     "text": [
      "  6%|█████████▌                                                                                                                                                         | 59/1000 [02:30<39:38,  2.53s/it]"
     ]
    },
    {
     "name": "stdout",
     "output_type": "stream",
     "text": [
      "Training Loss: 0.70333581984691\n",
      "Validation Loss: 1.0526412861687797\n",
      "Training Accuracy of the network: 72 %\n",
      "Validation Accuracy of the network: 53 %\n",
      "Validation loss decreased (1.056179 --> 1.052641).  Saving model ...\n"
     ]
    },
    {
     "name": "stderr",
     "output_type": "stream",
     "text": [
      "  6%|█████████▊                                                                                                                                                         | 60/1000 [02:33<39:28,  2.52s/it]"
     ]
    },
    {
     "name": "stdout",
     "output_type": "stream",
     "text": [
      "Training Loss: 0.7017599722721438\n",
      "Validation Loss: 1.0568808317184448\n",
      "Training Accuracy of the network: 73 %\n",
      "Validation Accuracy of the network: 53 %\n",
      "EarlyStopping counter: 1 out of 50\n"
     ]
    },
    {
     "name": "stderr",
     "output_type": "stream",
     "text": [
      "  6%|█████████▉                                                                                                                                                         | 61/1000 [02:35<39:25,  2.52s/it]"
     ]
    },
    {
     "name": "stdout",
     "output_type": "stream",
     "text": [
      "Training Loss: 0.7041805107956347\n",
      "Validation Loss: 1.0459048134940012\n",
      "Training Accuracy of the network: 71 %\n",
      "Validation Accuracy of the network: 54 %\n",
      "Validation loss decreased (1.052641 --> 1.045905).  Saving model ...\n"
     ]
    },
    {
     "name": "stderr",
     "output_type": "stream",
     "text": [
      "  6%|██████████                                                                                                                                                         | 62/1000 [02:38<40:02,  2.56s/it]"
     ]
    },
    {
     "name": "stdout",
     "output_type": "stream",
     "text": [
      "Training Loss: 0.6951875860492388\n",
      "Validation Loss: 1.0472251193864004\n",
      "Training Accuracy of the network: 72 %\n",
      "Validation Accuracy of the network: 53 %\n",
      "EarlyStopping counter: 1 out of 50\n"
     ]
    },
    {
     "name": "stderr",
     "output_type": "stream",
     "text": [
      "  6%|██████████▎                                                                                                                                                        | 63/1000 [02:41<40:27,  2.59s/it]"
     ]
    },
    {
     "name": "stdout",
     "output_type": "stream",
     "text": [
      "Training Loss: 0.6772824490739815\n",
      "Validation Loss: 1.0445892555373055\n",
      "Training Accuracy of the network: 74 %\n",
      "Validation Accuracy of the network: 54 %\n",
      "Validation loss decreased (1.045905 --> 1.044589).  Saving model ...\n"
     ]
    },
    {
     "name": "stderr",
     "output_type": "stream",
     "text": [
      "  6%|██████████▍                                                                                                                                                        | 64/1000 [02:43<40:09,  2.57s/it]"
     ]
    },
    {
     "name": "stdout",
     "output_type": "stream",
     "text": [
      "Training Loss: 0.6706868520789389\n",
      "Validation Loss: 1.0459177987916128\n",
      "Training Accuracy of the network: 75 %\n",
      "Validation Accuracy of the network: 53 %\n",
      "EarlyStopping counter: 1 out of 50\n"
     ]
    },
    {
     "name": "stderr",
     "output_type": "stream",
     "text": [
      "  6%|██████████▌                                                                                                                                                        | 65/1000 [02:46<39:07,  2.51s/it]"
     ]
    },
    {
     "name": "stdout",
     "output_type": "stream",
     "text": [
      "Training Loss: 0.6880145494056784\n",
      "Validation Loss: 1.039319614001683\n",
      "Training Accuracy of the network: 74 %\n",
      "Validation Accuracy of the network: 54 %\n",
      "Validation loss decreased (1.044589 --> 1.039320).  Saving model ...\n"
     ]
    },
    {
     "name": "stderr",
     "output_type": "stream",
     "text": [
      "  7%|██████████▊                                                                                                                                                        | 66/1000 [02:48<37:55,  2.44s/it]"
     ]
    },
    {
     "name": "stdout",
     "output_type": "stream",
     "text": [
      "Training Loss: 0.6753095654311819\n",
      "Validation Loss: 1.0492850490978787\n",
      "Training Accuracy of the network: 73 %\n",
      "Validation Accuracy of the network: 54 %\n",
      "EarlyStopping counter: 1 out of 50\n"
     ]
    },
    {
     "name": "stderr",
     "output_type": "stream",
     "text": [
      "  7%|██████████▉                                                                                                                                                        | 67/1000 [02:51<38:36,  2.48s/it]"
     ]
    },
    {
     "name": "stdout",
     "output_type": "stream",
     "text": [
      "Training Loss: 0.6631524682152963\n",
      "Validation Loss: 1.0487088016101291\n",
      "Training Accuracy of the network: 75 %\n",
      "Validation Accuracy of the network: 53 %\n",
      "EarlyStopping counter: 2 out of 50\n"
     ]
    },
    {
     "name": "stderr",
     "output_type": "stream",
     "text": [
      "  7%|███████████                                                                                                                                                        | 68/1000 [02:53<38:49,  2.50s/it]"
     ]
    },
    {
     "name": "stdout",
     "output_type": "stream",
     "text": [
      "Training Loss: 0.6523934217250865\n",
      "Validation Loss: 1.0424574051584516\n",
      "Training Accuracy of the network: 75 %\n",
      "Validation Accuracy of the network: 55 %\n",
      "EarlyStopping counter: 3 out of 50\n"
     ]
    },
    {
     "name": "stderr",
     "output_type": "stream",
     "text": [
      "  7%|███████████▏                                                                                                                                                       | 69/1000 [02:56<38:41,  2.49s/it]"
     ]
    },
    {
     "name": "stdout",
     "output_type": "stream",
     "text": [
      "Training Loss: 0.6262238991001378\n",
      "Validation Loss: 1.044947123527527\n",
      "Training Accuracy of the network: 76 %\n",
      "Validation Accuracy of the network: 54 %\n",
      "EarlyStopping counter: 4 out of 50\n"
     ]
    },
    {
     "name": "stderr",
     "output_type": "stream",
     "text": [
      "  7%|███████████▍                                                                                                                                                       | 70/1000 [02:58<38:42,  2.50s/it]"
     ]
    },
    {
     "name": "stdout",
     "output_type": "stream",
     "text": [
      "Training Loss: 0.6376139246791169\n",
      "Validation Loss: 1.0401536975588117\n",
      "Training Accuracy of the network: 75 %\n",
      "Validation Accuracy of the network: 53 %\n",
      "EarlyStopping counter: 5 out of 50\n"
     ]
    },
    {
     "name": "stderr",
     "output_type": "stream",
     "text": [
      "  7%|███████████▌                                                                                                                                                       | 71/1000 [03:01<38:50,  2.51s/it]"
     ]
    },
    {
     "name": "stdout",
     "output_type": "stream",
     "text": [
      "Training Loss: 0.63084558305749\n",
      "Validation Loss: 1.0491322500365121\n",
      "Training Accuracy of the network: 76 %\n",
      "Validation Accuracy of the network: 55 %\n",
      "EarlyStopping counter: 6 out of 50\n"
     ]
    },
    {
     "name": "stderr",
     "output_type": "stream",
     "text": [
      "  7%|███████████▋                                                                                                                                                       | 72/1000 [03:03<39:17,  2.54s/it]"
     ]
    },
    {
     "name": "stdout",
     "output_type": "stream",
     "text": [
      "Training Loss: 0.627377728243237\n",
      "Validation Loss: 1.038332780769893\n",
      "Training Accuracy of the network: 76 %\n",
      "Validation Accuracy of the network: 54 %\n",
      "Validation loss decreased (1.039320 --> 1.038333).  Saving model ...\n"
     ]
    },
    {
     "name": "stderr",
     "output_type": "stream",
     "text": [
      "  7%|███████████▉                                                                                                                                                       | 73/1000 [03:06<39:34,  2.56s/it]"
     ]
    },
    {
     "name": "stdout",
     "output_type": "stream",
     "text": [
      "Training Loss: 0.6338467284281185\n",
      "Validation Loss: 1.0340716532298497\n",
      "Training Accuracy of the network: 76 %\n",
      "Validation Accuracy of the network: 54 %\n",
      "Validation loss decreased (1.038333 --> 1.034072).  Saving model ...\n"
     ]
    },
    {
     "name": "stderr",
     "output_type": "stream",
     "text": [
      "  7%|████████████                                                                                                                                                       | 74/1000 [03:08<39:17,  2.55s/it]"
     ]
    },
    {
     "name": "stdout",
     "output_type": "stream",
     "text": [
      "Training Loss: 0.6166999038254869\n",
      "Validation Loss: 1.030977383681706\n",
      "Training Accuracy of the network: 76 %\n",
      "Validation Accuracy of the network: 56 %\n",
      "Validation loss decreased (1.034072 --> 1.030977).  Saving model ...\n"
     ]
    },
    {
     "name": "stderr",
     "output_type": "stream",
     "text": [
      "  8%|████████████▏                                                                                                                                                      | 75/1000 [03:11<39:35,  2.57s/it]"
     ]
    },
    {
     "name": "stdout",
     "output_type": "stream",
     "text": [
      "Training Loss: 0.6280176722701045\n",
      "Validation Loss: 1.0389022145952498\n",
      "Training Accuracy of the network: 75 %\n",
      "Validation Accuracy of the network: 55 %\n",
      "EarlyStopping counter: 1 out of 50\n"
     ]
    },
    {
     "name": "stderr",
     "output_type": "stream",
     "text": [
      "  8%|████████████▍                                                                                                                                                      | 76/1000 [03:13<38:51,  2.52s/it]"
     ]
    },
    {
     "name": "stdout",
     "output_type": "stream",
     "text": [
      "Training Loss: 0.6031191687815\n",
      "Validation Loss: 1.0269948584692818\n",
      "Training Accuracy of the network: 76 %\n",
      "Validation Accuracy of the network: 56 %\n",
      "Validation loss decreased (1.030977 --> 1.026995).  Saving model ...\n"
     ]
    },
    {
     "name": "stderr",
     "output_type": "stream",
     "text": [
      "  8%|████████████▌                                                                                                                                                      | 77/1000 [03:16<38:33,  2.51s/it]"
     ]
    },
    {
     "name": "stdout",
     "output_type": "stream",
     "text": [
      "Training Loss: 0.5914031042029029\n",
      "Validation Loss: 1.0327596613339016\n",
      "Training Accuracy of the network: 76 %\n",
      "Validation Accuracy of the network: 57 %\n",
      "EarlyStopping counter: 1 out of 50\n"
     ]
    },
    {
     "name": "stderr",
     "output_type": "stream",
     "text": [
      "  8%|████████████▋                                                                                                                                                      | 78/1000 [03:18<38:42,  2.52s/it]"
     ]
    },
    {
     "name": "stdout",
     "output_type": "stream",
     "text": [
      "Training Loss: 0.5851982412454875\n",
      "Validation Loss: 1.0292662807873316\n",
      "Training Accuracy of the network: 78 %\n",
      "Validation Accuracy of the network: 56 %\n",
      "EarlyStopping counter: 2 out of 50\n"
     ]
    },
    {
     "name": "stderr",
     "output_type": "stream",
     "text": [
      "  8%|████████████▉                                                                                                                                                      | 79/1000 [03:21<39:06,  2.55s/it]"
     ]
    },
    {
     "name": "stdout",
     "output_type": "stream",
     "text": [
      "Training Loss: 0.5969258669385875\n",
      "Validation Loss: 1.0415215986115591\n",
      "Training Accuracy of the network: 75 %\n",
      "Validation Accuracy of the network: 56 %\n",
      "EarlyStopping counter: 3 out of 50\n"
     ]
    },
    {
     "name": "stderr",
     "output_type": "stream",
     "text": [
      "  8%|█████████████                                                                                                                                                      | 80/1000 [03:24<38:58,  2.54s/it]"
     ]
    },
    {
     "name": "stdout",
     "output_type": "stream",
     "text": [
      "Training Loss: 0.5889536070812872\n",
      "Validation Loss: 1.030919929913112\n",
      "Training Accuracy of the network: 78 %\n",
      "Validation Accuracy of the network: 57 %\n",
      "EarlyStopping counter: 4 out of 50\n"
     ]
    },
    {
     "name": "stderr",
     "output_type": "stream",
     "text": [
      "  8%|█████████████▏                                                                                                                                                     | 81/1000 [03:26<38:19,  2.50s/it]"
     ]
    },
    {
     "name": "stdout",
     "output_type": "stream",
     "text": [
      "Training Loss: 0.5580080857068517\n",
      "Validation Loss: 1.0282616666385105\n",
      "Training Accuracy of the network: 77 %\n",
      "Validation Accuracy of the network: 56 %\n",
      "EarlyStopping counter: 5 out of 50\n"
     ]
    },
    {
     "name": "stderr",
     "output_type": "stream",
     "text": [
      "  8%|█████████████▎                                                                                                                                                     | 82/1000 [03:28<37:59,  2.48s/it]"
     ]
    },
    {
     "name": "stdout",
     "output_type": "stream",
     "text": [
      "Training Loss: 0.5773376620415113\n",
      "Validation Loss: 1.0262669852801731\n",
      "Training Accuracy of the network: 78 %\n",
      "Validation Accuracy of the network: 57 %\n",
      "Validation loss decreased (1.026995 --> 1.026267).  Saving model ...\n"
     ]
    },
    {
     "name": "stderr",
     "output_type": "stream",
     "text": [
      "  8%|█████████████▌                                                                                                                                                     | 83/1000 [03:31<37:50,  2.48s/it]"
     ]
    },
    {
     "name": "stdout",
     "output_type": "stream",
     "text": [
      "Training Loss: 0.5837912594062694\n",
      "Validation Loss: 1.0307994399751936\n",
      "Training Accuracy of the network: 76 %\n",
      "Validation Accuracy of the network: 56 %\n",
      "EarlyStopping counter: 1 out of 50\n"
     ]
    },
    {
     "name": "stderr",
     "output_type": "stream",
     "text": [
      "  8%|█████████████▋                                                                                                                                                     | 84/1000 [03:33<38:09,  2.50s/it]"
     ]
    },
    {
     "name": "stdout",
     "output_type": "stream",
     "text": [
      "Training Loss: 0.5583782827184685\n",
      "Validation Loss: 1.0272113493510655\n",
      "Training Accuracy of the network: 79 %\n",
      "Validation Accuracy of the network: 55 %\n",
      "EarlyStopping counter: 2 out of 50\n"
     ]
    },
    {
     "name": "stderr",
     "output_type": "stream",
     "text": [
      "  8%|█████████████▊                                                                                                                                                     | 85/1000 [03:36<38:36,  2.53s/it]"
     ]
    },
    {
     "name": "stdout",
     "output_type": "stream",
     "text": [
      "Training Loss: 0.5498122582077116\n",
      "Validation Loss: 1.0363607559885297\n",
      "Training Accuracy of the network: 79 %\n",
      "Validation Accuracy of the network: 56 %\n",
      "EarlyStopping counter: 3 out of 50\n"
     ]
    },
    {
     "name": "stderr",
     "output_type": "stream",
     "text": [
      "  9%|██████████████                                                                                                                                                     | 86/1000 [03:39<38:44,  2.54s/it]"
     ]
    },
    {
     "name": "stdout",
     "output_type": "stream",
     "text": [
      "Training Loss: 0.5564628443208294\n",
      "Validation Loss: 1.028360331058502\n",
      "Training Accuracy of the network: 78 %\n",
      "Validation Accuracy of the network: 56 %\n",
      "EarlyStopping counter: 4 out of 50\n"
     ]
    },
    {
     "name": "stderr",
     "output_type": "stream",
     "text": [
      "  9%|██████████████▏                                                                                                                                                    | 87/1000 [03:41<38:46,  2.55s/it]"
     ]
    },
    {
     "name": "stdout",
     "output_type": "stream",
     "text": [
      "Training Loss: 0.5479402165266051\n",
      "Validation Loss: 1.0349777000291007\n",
      "Training Accuracy of the network: 79 %\n",
      "Validation Accuracy of the network: 56 %\n",
      "EarlyStopping counter: 5 out of 50\n"
     ]
    },
    {
     "name": "stderr",
     "output_type": "stream",
     "text": [
      "  9%|██████████████▎                                                                                                                                                    | 88/1000 [03:44<38:50,  2.55s/it]"
     ]
    },
    {
     "name": "stdout",
     "output_type": "stream",
     "text": [
      "Training Loss: 0.54743025796083\n",
      "Validation Loss: 1.0360960517610822\n",
      "Training Accuracy of the network: 79 %\n",
      "Validation Accuracy of the network: 55 %\n",
      "EarlyStopping counter: 6 out of 50\n"
     ]
    },
    {
     "name": "stderr",
     "output_type": "stream",
     "text": [
      "  9%|██████████████▌                                                                                                                                                    | 89/1000 [03:46<38:38,  2.54s/it]"
     ]
    },
    {
     "name": "stdout",
     "output_type": "stream",
     "text": [
      "Training Loss: 0.5450088358011799\n",
      "Validation Loss: 1.0307606475693838\n",
      "Training Accuracy of the network: 79 %\n",
      "Validation Accuracy of the network: 55 %\n",
      "EarlyStopping counter: 7 out of 50\n"
     ]
    },
    {
     "name": "stderr",
     "output_type": "stream",
     "text": [
      "  9%|██████████████▋                                                                                                                                                    | 90/1000 [03:49<39:10,  2.58s/it]"
     ]
    },
    {
     "name": "stdout",
     "output_type": "stream",
     "text": [
      "Training Loss: 0.5343281876133836\n",
      "Validation Loss: 1.0215572442327228\n",
      "Training Accuracy of the network: 80 %\n",
      "Validation Accuracy of the network: 56 %\n",
      "Validation loss decreased (1.026267 --> 1.021557).  Saving model ...\n"
     ]
    },
    {
     "name": "stderr",
     "output_type": "stream",
     "text": [
      "  9%|██████████████▊                                                                                                                                                    | 91/1000 [03:51<38:59,  2.57s/it]"
     ]
    },
    {
     "name": "stdout",
     "output_type": "stream",
     "text": [
      "Training Loss: 0.521952117509816\n",
      "Validation Loss: 1.0189851352146693\n",
      "Training Accuracy of the network: 79 %\n",
      "Validation Accuracy of the network: 57 %\n",
      "Validation loss decreased (1.021557 --> 1.018985).  Saving model ...\n"
     ]
    },
    {
     "name": "stderr",
     "output_type": "stream",
     "text": [
      "  9%|██████████████▉                                                                                                                                                    | 92/1000 [03:54<38:43,  2.56s/it]"
     ]
    },
    {
     "name": "stdout",
     "output_type": "stream",
     "text": [
      "Training Loss: 0.518046174198389\n",
      "Validation Loss: 1.016228401660919\n",
      "Training Accuracy of the network: 80 %\n",
      "Validation Accuracy of the network: 57 %\n",
      "Validation loss decreased (1.018985 --> 1.016228).  Saving model ...\n"
     ]
    },
    {
     "name": "stderr",
     "output_type": "stream",
     "text": [
      "  9%|███████████████▏                                                                                                                                                   | 93/1000 [03:56<38:13,  2.53s/it]"
     ]
    },
    {
     "name": "stdout",
     "output_type": "stream",
     "text": [
      "Training Loss: 0.523522891158211\n",
      "Validation Loss: 1.0189699036734445\n",
      "Training Accuracy of the network: 79 %\n",
      "Validation Accuracy of the network: 58 %\n",
      "EarlyStopping counter: 1 out of 50\n"
     ]
    },
    {
     "name": "stderr",
     "output_type": "stream",
     "text": [
      "  9%|███████████████▎                                                                                                                                                   | 94/1000 [03:59<37:47,  2.50s/it]"
     ]
    },
    {
     "name": "stdout",
     "output_type": "stream",
     "text": [
      "Training Loss: 0.5090931471086283\n",
      "Validation Loss: 1.0288792712347847\n",
      "Training Accuracy of the network: 80 %\n",
      "Validation Accuracy of the network: 56 %\n",
      "EarlyStopping counter: 2 out of 50\n"
     ]
    },
    {
     "name": "stderr",
     "output_type": "stream",
     "text": [
      " 10%|███████████████▍                                                                                                                                                   | 95/1000 [04:01<37:53,  2.51s/it]"
     ]
    },
    {
     "name": "stdout",
     "output_type": "stream",
     "text": [
      "Training Loss: 0.5108154352376426\n",
      "Validation Loss: 1.0254064934594291\n",
      "Training Accuracy of the network: 80 %\n",
      "Validation Accuracy of the network: 58 %\n",
      "EarlyStopping counter: 3 out of 50\n"
     ]
    },
    {
     "name": "stderr",
     "output_type": "stream",
     "text": [
      " 10%|███████████████▋                                                                                                                                                   | 96/1000 [04:04<38:04,  2.53s/it]"
     ]
    },
    {
     "name": "stdout",
     "output_type": "stream",
     "text": [
      "Training Loss: 0.5040598998818061\n",
      "Validation Loss: 1.031932304586683\n",
      "Training Accuracy of the network: 81 %\n",
      "Validation Accuracy of the network: 57 %\n",
      "EarlyStopping counter: 4 out of 50\n"
     ]
    },
    {
     "name": "stderr",
     "output_type": "stream",
     "text": [
      " 10%|███████████████▊                                                                                                                                                   | 97/1000 [04:06<37:15,  2.48s/it]"
     ]
    },
    {
     "name": "stdout",
     "output_type": "stream",
     "text": [
      "Training Loss: 0.4942814630010854\n",
      "Validation Loss: 1.028691680090768\n",
      "Training Accuracy of the network: 81 %\n",
      "Validation Accuracy of the network: 57 %\n",
      "EarlyStopping counter: 5 out of 50\n"
     ]
    },
    {
     "name": "stderr",
     "output_type": "stream",
     "text": [
      " 10%|███████████████▉                                                                                                                                                   | 98/1000 [04:09<36:57,  2.46s/it]"
     ]
    },
    {
     "name": "stdout",
     "output_type": "stream",
     "text": [
      "Training Loss: 0.5065839861290179\n",
      "Validation Loss: 1.032473509652274\n",
      "Training Accuracy of the network: 80 %\n",
      "Validation Accuracy of the network: 58 %\n",
      "EarlyStopping counter: 6 out of 50\n"
     ]
    },
    {
     "name": "stderr",
     "output_type": "stream",
     "text": [
      " 10%|████████████████▏                                                                                                                                                  | 99/1000 [04:11<37:09,  2.47s/it]"
     ]
    },
    {
     "name": "stdout",
     "output_type": "stream",
     "text": [
      "Training Loss: 0.5089208477352193\n",
      "Validation Loss: 1.034851144041334\n",
      "Training Accuracy of the network: 81 %\n",
      "Validation Accuracy of the network: 57 %\n",
      "EarlyStopping counter: 7 out of 50\n"
     ]
    },
    {
     "name": "stderr",
     "output_type": "stream",
     "text": [
      " 10%|████████████████▏                                                                                                                                                 | 100/1000 [04:14<38:09,  2.54s/it]"
     ]
    },
    {
     "name": "stdout",
     "output_type": "stream",
     "text": [
      "Training Loss: 0.48806103019286756\n",
      "Validation Loss: 1.019773258481707\n",
      "Training Accuracy of the network: 82 %\n",
      "Validation Accuracy of the network: 59 %\n",
      "EarlyStopping counter: 8 out of 50\n"
     ]
    },
    {
     "name": "stderr",
     "output_type": "stream",
     "text": [
      " 10%|████████████████▎                                                                                                                                                 | 101/1000 [04:17<39:02,  2.61s/it]"
     ]
    },
    {
     "name": "stdout",
     "output_type": "stream",
     "text": [
      "Training Loss: 0.4935689829289913\n",
      "Validation Loss: 1.0146766356059482\n",
      "Training Accuracy of the network: 80 %\n",
      "Validation Accuracy of the network: 60 %\n",
      "Validation loss decreased (1.016228 --> 1.014677).  Saving model ...\n"
     ]
    },
    {
     "name": "stderr",
     "output_type": "stream",
     "text": [
      " 10%|████████████████▌                                                                                                                                                 | 102/1000 [04:19<38:54,  2.60s/it]"
     ]
    },
    {
     "name": "stdout",
     "output_type": "stream",
     "text": [
      "Training Loss: 0.4836427681148052\n",
      "Validation Loss: 1.0212291547230312\n",
      "Training Accuracy of the network: 81 %\n",
      "Validation Accuracy of the network: 59 %\n",
      "EarlyStopping counter: 1 out of 50\n"
     ]
    },
    {
     "name": "stderr",
     "output_type": "stream",
     "text": [
      " 10%|████████████████▋                                                                                                                                                 | 103/1000 [04:22<38:39,  2.59s/it]"
     ]
    },
    {
     "name": "stdout",
     "output_type": "stream",
     "text": [
      "Training Loss: 0.4802250335046995\n",
      "Validation Loss: 1.0185837779726301\n",
      "Training Accuracy of the network: 82 %\n",
      "Validation Accuracy of the network: 59 %\n",
      "EarlyStopping counter: 2 out of 50\n"
     ]
    },
    {
     "name": "stderr",
     "output_type": "stream",
     "text": [
      " 10%|████████████████▊                                                                                                                                                 | 104/1000 [04:24<38:29,  2.58s/it]"
     ]
    },
    {
     "name": "stdout",
     "output_type": "stream",
     "text": [
      "Training Loss: 0.4715178659104783\n",
      "Validation Loss: 1.0272717390741621\n",
      "Training Accuracy of the network: 82 %\n",
      "Validation Accuracy of the network: 59 %\n",
      "EarlyStopping counter: 3 out of 50\n"
     ]
    },
    {
     "name": "stderr",
     "output_type": "stream",
     "text": [
      " 10%|█████████████████                                                                                                                                                 | 105/1000 [04:27<38:34,  2.59s/it]"
     ]
    },
    {
     "name": "stdout",
     "output_type": "stream",
     "text": [
      "Training Loss: 0.4737818950544233\n",
      "Validation Loss: 1.0344176547867912\n",
      "Training Accuracy of the network: 80 %\n",
      "Validation Accuracy of the network: 58 %\n",
      "EarlyStopping counter: 4 out of 50\n"
     ]
    },
    {
     "name": "stderr",
     "output_type": "stream",
     "text": [
      " 11%|█████████████████▏                                                                                                                                                | 106/1000 [04:30<38:21,  2.57s/it]"
     ]
    },
    {
     "name": "stdout",
     "output_type": "stream",
     "text": [
      "Training Loss: 0.46369954621068377\n",
      "Validation Loss: 1.0222053050994873\n",
      "Training Accuracy of the network: 82 %\n",
      "Validation Accuracy of the network: 59 %\n",
      "EarlyStopping counter: 5 out of 50\n"
     ]
    },
    {
     "name": "stderr",
     "output_type": "stream",
     "text": [
      " 11%|█████████████████▎                                                                                                                                                | 107/1000 [04:32<38:15,  2.57s/it]"
     ]
    },
    {
     "name": "stdout",
     "output_type": "stream",
     "text": [
      "Training Loss: 0.47901025986757834\n",
      "Validation Loss: 1.0379314780235291\n",
      "Training Accuracy of the network: 80 %\n",
      "Validation Accuracy of the network: 57 %\n",
      "EarlyStopping counter: 6 out of 50\n"
     ]
    },
    {
     "name": "stderr",
     "output_type": "stream",
     "text": [
      " 11%|█████████████████▍                                                                                                                                                | 108/1000 [04:35<38:06,  2.56s/it]"
     ]
    },
    {
     "name": "stdout",
     "output_type": "stream",
     "text": [
      "Training Loss: 0.47243692134709464\n",
      "Validation Loss: 1.0284515448978968\n",
      "Training Accuracy of the network: 82 %\n",
      "Validation Accuracy of the network: 58 %\n",
      "EarlyStopping counter: 7 out of 50\n"
     ]
    },
    {
     "name": "stderr",
     "output_type": "stream",
     "text": [
      " 11%|█████████████████▋                                                                                                                                                | 109/1000 [04:37<37:48,  2.55s/it]"
     ]
    },
    {
     "name": "stdout",
     "output_type": "stream",
     "text": [
      "Training Loss: 0.4655993009337049\n",
      "Validation Loss: 1.027864226273128\n",
      "Training Accuracy of the network: 82 %\n",
      "Validation Accuracy of the network: 58 %\n",
      "EarlyStopping counter: 8 out of 50\n"
     ]
    },
    {
     "name": "stderr",
     "output_type": "stream",
     "text": [
      " 11%|█████████████████▊                                                                                                                                                | 110/1000 [04:40<37:38,  2.54s/it]"
     ]
    },
    {
     "name": "stdout",
     "output_type": "stream",
     "text": [
      "Training Loss: 0.48293364968528785\n",
      "Validation Loss: 1.026427526133401\n",
      "Training Accuracy of the network: 81 %\n",
      "Validation Accuracy of the network: 58 %\n",
      "EarlyStopping counter: 9 out of 50\n"
     ]
    },
    {
     "name": "stderr",
     "output_type": "stream",
     "text": [
      " 11%|█████████████████▉                                                                                                                                                | 111/1000 [04:42<37:42,  2.55s/it]"
     ]
    },
    {
     "name": "stdout",
     "output_type": "stream",
     "text": [
      "Training Loss: 0.47244713190889015\n",
      "Validation Loss: 1.0341090883527484\n",
      "Training Accuracy of the network: 82 %\n",
      "Validation Accuracy of the network: 58 %\n",
      "EarlyStopping counter: 10 out of 50\n"
     ]
    },
    {
     "name": "stderr",
     "output_type": "stream",
     "text": [
      " 11%|██████████████████▏                                                                                                                                               | 112/1000 [04:45<37:33,  2.54s/it]"
     ]
    },
    {
     "name": "stdout",
     "output_type": "stream",
     "text": [
      "Training Loss: 0.4525265716340231\n",
      "Validation Loss: 1.0338847722326006\n",
      "Training Accuracy of the network: 82 %\n",
      "Validation Accuracy of the network: 59 %\n",
      "EarlyStopping counter: 11 out of 50\n"
     ]
    },
    {
     "name": "stderr",
     "output_type": "stream",
     "text": [
      " 11%|██████████████████▎                                                                                                                                               | 113/1000 [04:47<37:02,  2.51s/it]"
     ]
    },
    {
     "name": "stdout",
     "output_type": "stream",
     "text": [
      "Training Loss: 0.4443385564195721\n",
      "Validation Loss: 1.0330477714538575\n",
      "Training Accuracy of the network: 83 %\n",
      "Validation Accuracy of the network: 59 %\n",
      "EarlyStopping counter: 12 out of 50\n"
     ]
    },
    {
     "name": "stderr",
     "output_type": "stream",
     "text": [
      " 11%|██████████████████▍                                                                                                                                               | 114/1000 [04:50<37:08,  2.51s/it]"
     ]
    },
    {
     "name": "stdout",
     "output_type": "stream",
     "text": [
      "Training Loss: 0.4445670648491469\n",
      "Validation Loss: 1.0435586656842912\n",
      "Training Accuracy of the network: 82 %\n",
      "Validation Accuracy of the network: 58 %\n",
      "EarlyStopping counter: 13 out of 50\n"
     ]
    },
    {
     "name": "stderr",
     "output_type": "stream",
     "text": [
      " 12%|██████████████████▋                                                                                                                                               | 115/1000 [04:52<37:50,  2.57s/it]"
     ]
    },
    {
     "name": "stdout",
     "output_type": "stream",
     "text": [
      "Training Loss: 0.423505659458106\n",
      "Validation Loss: 1.0463725771222796\n",
      "Training Accuracy of the network: 84 %\n",
      "Validation Accuracy of the network: 59 %\n",
      "EarlyStopping counter: 14 out of 50\n"
     ]
    },
    {
     "name": "stderr",
     "output_type": "stream",
     "text": [
      " 12%|██████████████████▊                                                                                                                                               | 116/1000 [04:55<38:03,  2.58s/it]"
     ]
    },
    {
     "name": "stdout",
     "output_type": "stream",
     "text": [
      "Training Loss: 0.43628252697163733\n",
      "Validation Loss: 1.0433812277657646\n",
      "Training Accuracy of the network: 83 %\n",
      "Validation Accuracy of the network: 58 %\n",
      "EarlyStopping counter: 15 out of 50\n"
     ]
    },
    {
     "name": "stderr",
     "output_type": "stream",
     "text": [
      " 12%|██████████████████▉                                                                                                                                               | 117/1000 [04:58<37:42,  2.56s/it]"
     ]
    },
    {
     "name": "stdout",
     "output_type": "stream",
     "text": [
      "Training Loss: 0.4389932514640732\n",
      "Validation Loss: 1.0522837451526097\n",
      "Training Accuracy of the network: 83 %\n",
      "Validation Accuracy of the network: 58 %\n",
      "EarlyStopping counter: 16 out of 50\n"
     ]
    },
    {
     "name": "stderr",
     "output_type": "stream",
     "text": [
      " 12%|███████████████████                                                                                                                                               | 118/1000 [05:00<37:33,  2.55s/it]"
     ]
    },
    {
     "name": "stdout",
     "output_type": "stream",
     "text": [
      "Training Loss: 0.44067860691659694\n",
      "Validation Loss: 1.0570634416171483\n",
      "Training Accuracy of the network: 83 %\n",
      "Validation Accuracy of the network: 57 %\n",
      "EarlyStopping counter: 17 out of 50\n"
     ]
    },
    {
     "name": "stderr",
     "output_type": "stream",
     "text": [
      " 12%|███████████████████▎                                                                                                                                              | 119/1000 [05:03<37:51,  2.58s/it]"
     ]
    },
    {
     "name": "stdout",
     "output_type": "stream",
     "text": [
      "Training Loss: 0.4422709821871873\n",
      "Validation Loss: 1.050156090940748\n",
      "Training Accuracy of the network: 84 %\n",
      "Validation Accuracy of the network: 59 %\n",
      "EarlyStopping counter: 18 out of 50\n"
     ]
    },
    {
     "name": "stderr",
     "output_type": "stream",
     "text": [
      " 12%|███████████████████▍                                                                                                                                              | 120/1000 [05:05<37:44,  2.57s/it]"
     ]
    },
    {
     "name": "stdout",
     "output_type": "stream",
     "text": [
      "Training Loss: 0.440191765356323\n",
      "Validation Loss: 1.0414183378219604\n",
      "Training Accuracy of the network: 82 %\n",
      "Validation Accuracy of the network: 60 %\n",
      "EarlyStopping counter: 19 out of 50\n"
     ]
    },
    {
     "name": "stderr",
     "output_type": "stream",
     "text": [
      " 12%|███████████████████▌                                                                                                                                              | 121/1000 [05:08<37:54,  2.59s/it]"
     ]
    },
    {
     "name": "stdout",
     "output_type": "stream",
     "text": [
      "Training Loss: 0.438781229077258\n",
      "Validation Loss: 1.0388552308082581\n",
      "Training Accuracy of the network: 83 %\n",
      "Validation Accuracy of the network: 60 %\n",
      "EarlyStopping counter: 20 out of 50\n"
     ]
    },
    {
     "name": "stderr",
     "output_type": "stream",
     "text": [
      " 12%|███████████████████▊                                                                                                                                              | 122/1000 [05:11<38:44,  2.65s/it]"
     ]
    },
    {
     "name": "stdout",
     "output_type": "stream",
     "text": [
      "Training Loss: 0.41721716378747986\n",
      "Validation Loss: 1.0371839812823704\n",
      "Training Accuracy of the network: 84 %\n",
      "Validation Accuracy of the network: 59 %\n",
      "EarlyStopping counter: 21 out of 50\n"
     ]
    },
    {
     "name": "stderr",
     "output_type": "stream",
     "text": [
      " 12%|███████████████████▉                                                                                                                                              | 123/1000 [05:13<38:20,  2.62s/it]"
     ]
    },
    {
     "name": "stdout",
     "output_type": "stream",
     "text": [
      "Training Loss: 0.43570186707960523\n",
      "Validation Loss: 1.0466487918581282\n",
      "Training Accuracy of the network: 83 %\n",
      "Validation Accuracy of the network: 58 %\n",
      "EarlyStopping counter: 22 out of 50\n"
     ]
    },
    {
     "name": "stderr",
     "output_type": "stream",
     "text": [
      " 12%|████████████████████                                                                                                                                              | 124/1000 [05:16<37:39,  2.58s/it]"
     ]
    },
    {
     "name": "stdout",
     "output_type": "stream",
     "text": [
      "Training Loss: 0.4145009882370199\n",
      "Validation Loss: 1.0448281475475856\n",
      "Training Accuracy of the network: 84 %\n",
      "Validation Accuracy of the network: 58 %\n",
      "EarlyStopping counter: 23 out of 50\n"
     ]
    },
    {
     "name": "stderr",
     "output_type": "stream",
     "text": [
      " 12%|████████████████████▎                                                                                                                                             | 125/1000 [05:18<37:09,  2.55s/it]"
     ]
    },
    {
     "name": "stdout",
     "output_type": "stream",
     "text": [
      "Training Loss: 0.4194444788052984\n",
      "Validation Loss: 1.062752001626151\n",
      "Training Accuracy of the network: 84 %\n",
      "Validation Accuracy of the network: 59 %\n",
      "EarlyStopping counter: 24 out of 50\n"
     ]
    },
    {
     "name": "stderr",
     "output_type": "stream",
     "text": [
      " 13%|████████████████████▍                                                                                                                                             | 126/1000 [05:21<36:35,  2.51s/it]"
     ]
    },
    {
     "name": "stdout",
     "output_type": "stream",
     "text": [
      "Training Loss: 0.41257491531660373\n",
      "Validation Loss: 1.0455184629985264\n",
      "Training Accuracy of the network: 84 %\n",
      "Validation Accuracy of the network: 59 %\n",
      "EarlyStopping counter: 25 out of 50\n"
     ]
    },
    {
     "name": "stderr",
     "output_type": "stream",
     "text": [
      " 13%|████████████████████▌                                                                                                                                             | 127/1000 [05:23<35:59,  2.47s/it]"
     ]
    },
    {
     "name": "stdout",
     "output_type": "stream",
     "text": [
      "Training Loss: 0.396613335992763\n",
      "Validation Loss: 1.0528972796031406\n",
      "Training Accuracy of the network: 85 %\n",
      "Validation Accuracy of the network: 60 %\n",
      "EarlyStopping counter: 26 out of 50\n"
     ]
    },
    {
     "name": "stderr",
     "output_type": "stream",
     "text": [
      " 13%|████████████████████▋                                                                                                                                             | 128/1000 [05:26<37:04,  2.55s/it]"
     ]
    },
    {
     "name": "stdout",
     "output_type": "stream",
     "text": [
      "Training Loss: 0.42361016984543076\n",
      "Validation Loss: 1.057058014188494\n",
      "Training Accuracy of the network: 83 %\n",
      "Validation Accuracy of the network: 59 %\n",
      "EarlyStopping counter: 27 out of 50\n"
     ]
    },
    {
     "name": "stderr",
     "output_type": "stream",
     "text": [
      " 13%|████████████████████▉                                                                                                                                             | 129/1000 [05:28<35:49,  2.47s/it]"
     ]
    },
    {
     "name": "stdout",
     "output_type": "stream",
     "text": [
      "Training Loss: 0.3832602673952562\n",
      "Validation Loss: 1.045604806286948\n",
      "Training Accuracy of the network: 85 %\n",
      "Validation Accuracy of the network: 59 %\n",
      "EarlyStopping counter: 28 out of 50\n"
     ]
    },
    {
     "name": "stderr",
     "output_type": "stream",
     "text": [
      " 13%|█████████████████████                                                                                                                                             | 130/1000 [05:31<35:51,  2.47s/it]"
     ]
    },
    {
     "name": "stdout",
     "output_type": "stream",
     "text": [
      "Training Loss: 0.3966892038107566\n",
      "Validation Loss: 1.0510077561650957\n",
      "Training Accuracy of the network: 85 %\n",
      "Validation Accuracy of the network: 58 %\n",
      "EarlyStopping counter: 29 out of 50\n"
     ]
    },
    {
     "name": "stderr",
     "output_type": "stream",
     "text": [
      " 13%|█████████████████████▏                                                                                                                                            | 131/1000 [05:33<36:01,  2.49s/it]"
     ]
    },
    {
     "name": "stdout",
     "output_type": "stream",
     "text": [
      "Training Loss: 0.4067636155590847\n",
      "Validation Loss: 1.0566878727504185\n",
      "Training Accuracy of the network: 85 %\n",
      "Validation Accuracy of the network: 59 %\n",
      "EarlyStopping counter: 30 out of 50\n"
     ]
    },
    {
     "name": "stderr",
     "output_type": "stream",
     "text": [
      " 13%|█████████████████████▍                                                                                                                                            | 132/1000 [05:36<36:46,  2.54s/it]"
     ]
    },
    {
     "name": "stdout",
     "output_type": "stream",
     "text": [
      "Training Loss: 0.39139232374187827\n",
      "Validation Loss: 1.0634690233639308\n",
      "Training Accuracy of the network: 85 %\n",
      "Validation Accuracy of the network: 59 %\n",
      "EarlyStopping counter: 31 out of 50\n"
     ]
    },
    {
     "name": "stderr",
     "output_type": "stream",
     "text": [
      " 13%|█████████████████████▌                                                                                                                                            | 133/1000 [05:38<36:26,  2.52s/it]"
     ]
    },
    {
     "name": "stdout",
     "output_type": "stream",
     "text": [
      "Training Loss: 0.3962071015351061\n",
      "Validation Loss: 1.0622816545622689\n",
      "Training Accuracy of the network: 86 %\n",
      "Validation Accuracy of the network: 59 %\n",
      "EarlyStopping counter: 32 out of 50\n"
     ]
    },
    {
     "name": "stderr",
     "output_type": "stream",
     "text": [
      " 13%|█████████████████████▋                                                                                                                                            | 134/1000 [05:41<36:41,  2.54s/it]"
     ]
    },
    {
     "name": "stdout",
     "output_type": "stream",
     "text": [
      "Training Loss: 0.42321564148490626\n",
      "Validation Loss: 1.0648246118000575\n",
      "Training Accuracy of the network: 83 %\n",
      "Validation Accuracy of the network: 59 %\n",
      "EarlyStopping counter: 33 out of 50\n"
     ]
    },
    {
     "name": "stderr",
     "output_type": "stream",
     "text": [
      " 14%|█████████████████████▊                                                                                                                                            | 135/1000 [05:43<36:26,  2.53s/it]"
     ]
    },
    {
     "name": "stdout",
     "output_type": "stream",
     "text": [
      "Training Loss: 0.4008621370446855\n",
      "Validation Loss: 1.0514337301254273\n",
      "Training Accuracy of the network: 85 %\n",
      "Validation Accuracy of the network: 60 %\n",
      "EarlyStopping counter: 34 out of 50\n"
     ]
    },
    {
     "name": "stderr",
     "output_type": "stream",
     "text": [
      " 14%|██████████████████████                                                                                                                                            | 136/1000 [05:46<36:42,  2.55s/it]"
     ]
    },
    {
     "name": "stdout",
     "output_type": "stream",
     "text": [
      "Training Loss: 0.3927034428883074\n",
      "Validation Loss: 1.046294449056898\n",
      "Training Accuracy of the network: 84 %\n",
      "Validation Accuracy of the network: 60 %\n",
      "EarlyStopping counter: 35 out of 50\n"
     ]
    },
    {
     "name": "stderr",
     "output_type": "stream",
     "text": [
      " 14%|██████████████████████▏                                                                                                                                           | 137/1000 [05:48<36:25,  2.53s/it]"
     ]
    },
    {
     "name": "stdout",
     "output_type": "stream",
     "text": [
      "Training Loss: 0.3836275527415716\n",
      "Validation Loss: 1.0749175991330828\n",
      "Training Accuracy of the network: 85 %\n",
      "Validation Accuracy of the network: 59 %\n",
      "EarlyStopping counter: 36 out of 50\n"
     ]
    },
    {
     "name": "stderr",
     "output_type": "stream",
     "text": [
      " 14%|██████████████████████▎                                                                                                                                           | 138/1000 [05:51<36:56,  2.57s/it]"
     ]
    },
    {
     "name": "stdout",
     "output_type": "stream",
     "text": [
      "Training Loss: 0.3699240447224482\n",
      "Validation Loss: 1.06201354435512\n",
      "Training Accuracy of the network: 86 %\n",
      "Validation Accuracy of the network: 59 %\n",
      "EarlyStopping counter: 37 out of 50\n"
     ]
    },
    {
     "name": "stderr",
     "output_type": "stream",
     "text": [
      " 14%|██████████████████████▌                                                                                                                                           | 139/1000 [05:54<36:58,  2.58s/it]"
     ]
    },
    {
     "name": "stdout",
     "output_type": "stream",
     "text": [
      "Training Loss: 0.3623741598988789\n",
      "Validation Loss: 1.0671550444194249\n",
      "Training Accuracy of the network: 86 %\n",
      "Validation Accuracy of the network: 59 %\n",
      "EarlyStopping counter: 38 out of 50\n"
     ]
    },
    {
     "name": "stderr",
     "output_type": "stream",
     "text": [
      " 14%|██████████████████████▋                                                                                                                                           | 140/1000 [05:56<36:39,  2.56s/it]"
     ]
    },
    {
     "name": "stdout",
     "output_type": "stream",
     "text": [
      "Training Loss: 0.36828486444563535\n",
      "Validation Loss: 1.065541798727853\n",
      "Training Accuracy of the network: 86 %\n",
      "Validation Accuracy of the network: 60 %\n",
      "EarlyStopping counter: 39 out of 50\n"
     ]
    },
    {
     "name": "stderr",
     "output_type": "stream",
     "text": [
      " 14%|██████████████████████▊                                                                                                                                           | 141/1000 [05:59<36:18,  2.54s/it]"
     ]
    },
    {
     "name": "stdout",
     "output_type": "stream",
     "text": [
      "Training Loss: 0.38277050157658\n",
      "Validation Loss: 1.0704143643379211\n",
      "Training Accuracy of the network: 85 %\n",
      "Validation Accuracy of the network: 59 %\n",
      "EarlyStopping counter: 40 out of 50\n"
     ]
    },
    {
     "name": "stderr",
     "output_type": "stream",
     "text": [
      " 14%|███████████████████████                                                                                                                                           | 142/1000 [06:01<36:09,  2.53s/it]"
     ]
    },
    {
     "name": "stdout",
     "output_type": "stream",
     "text": [
      "Training Loss: 0.3670522094083329\n",
      "Validation Loss: 1.0613550560814993\n",
      "Training Accuracy of the network: 86 %\n",
      "Validation Accuracy of the network: 59 %\n",
      "EarlyStopping counter: 41 out of 50\n"
     ]
    },
    {
     "name": "stderr",
     "output_type": "stream",
     "text": [
      " 14%|███████████████████████▏                                                                                                                                          | 143/1000 [06:04<36:15,  2.54s/it]"
     ]
    },
    {
     "name": "stdout",
     "output_type": "stream",
     "text": [
      "Training Loss: 0.3798781021369918\n",
      "Validation Loss: 1.0649734394890922\n",
      "Training Accuracy of the network: 85 %\n",
      "Validation Accuracy of the network: 61 %\n",
      "EarlyStopping counter: 42 out of 50\n"
     ]
    },
    {
     "name": "stderr",
     "output_type": "stream",
     "text": [
      " 14%|███████████████████████▎                                                                                                                                          | 144/1000 [06:06<36:04,  2.53s/it]"
     ]
    },
    {
     "name": "stdout",
     "output_type": "stream",
     "text": [
      "Training Loss: 0.36282882648452686\n",
      "Validation Loss: 1.0728634868349347\n",
      "Training Accuracy of the network: 86 %\n",
      "Validation Accuracy of the network: 59 %\n",
      "EarlyStopping counter: 43 out of 50\n"
     ]
    },
    {
     "name": "stderr",
     "output_type": "stream",
     "text": [
      " 14%|███████████████████████▍                                                                                                                                          | 145/1000 [06:08<34:47,  2.44s/it]"
     ]
    },
    {
     "name": "stdout",
     "output_type": "stream",
     "text": [
      "Training Loss: 0.37022982055888226\n",
      "Validation Loss: 1.079860327925001\n",
      "Training Accuracy of the network: 86 %\n",
      "Validation Accuracy of the network: 59 %\n",
      "EarlyStopping counter: 44 out of 50\n"
     ]
    },
    {
     "name": "stderr",
     "output_type": "stream",
     "text": [
      " 15%|███████████████████████▋                                                                                                                                          | 146/1000 [06:11<34:55,  2.45s/it]"
     ]
    },
    {
     "name": "stdout",
     "output_type": "stream",
     "text": [
      "Training Loss: 0.37575452288855676\n",
      "Validation Loss: 1.0743807639394487\n",
      "Training Accuracy of the network: 85 %\n",
      "Validation Accuracy of the network: 60 %\n",
      "EarlyStopping counter: 45 out of 50\n"
     ]
    },
    {
     "name": "stderr",
     "output_type": "stream",
     "text": [
      " 15%|███████████████████████▊                                                                                                                                          | 147/1000 [06:13<35:05,  2.47s/it]"
     ]
    },
    {
     "name": "stdout",
     "output_type": "stream",
     "text": [
      "Training Loss: 0.36035729515487736\n",
      "Validation Loss: 1.069905035836356\n",
      "Training Accuracy of the network: 86 %\n",
      "Validation Accuracy of the network: 59 %\n",
      "EarlyStopping counter: 46 out of 50\n"
     ]
    },
    {
     "name": "stderr",
     "output_type": "stream",
     "text": [
      " 15%|███████████████████████▉                                                                                                                                          | 148/1000 [06:16<35:19,  2.49s/it]"
     ]
    },
    {
     "name": "stdout",
     "output_type": "stream",
     "text": [
      "Training Loss: 0.3656069195113968\n",
      "Validation Loss: 1.082876784460885\n",
      "Training Accuracy of the network: 86 %\n",
      "Validation Accuracy of the network: 59 %\n",
      "EarlyStopping counter: 47 out of 50\n"
     ]
    },
    {
     "name": "stderr",
     "output_type": "stream",
     "text": [
      " 15%|████████████████████████▏                                                                                                                                         | 149/1000 [06:19<35:27,  2.50s/it]"
     ]
    },
    {
     "name": "stdout",
     "output_type": "stream",
     "text": [
      "Training Loss: 0.35824266516778996\n",
      "Validation Loss: 1.1040173768997192\n",
      "Training Accuracy of the network: 86 %\n",
      "Validation Accuracy of the network: 58 %\n",
      "EarlyStopping counter: 48 out of 50\n"
     ]
    },
    {
     "name": "stderr",
     "output_type": "stream",
     "text": [
      " 15%|████████████████████████▎                                                                                                                                         | 150/1000 [06:21<35:49,  2.53s/it]"
     ]
    },
    {
     "name": "stdout",
     "output_type": "stream",
     "text": [
      "Training Loss: 0.369032387557588\n",
      "Validation Loss: 1.0718207240104676\n",
      "Training Accuracy of the network: 86 %\n",
      "Validation Accuracy of the network: 59 %\n",
      "EarlyStopping counter: 49 out of 50\n"
     ]
    },
    {
     "name": "stderr",
     "output_type": "stream",
     "text": [
      " 15%|████████████████████████▎                                                                                                                                         | 150/1000 [06:24<36:16,  2.56s/it]"
     ]
    },
    {
     "name": "stdout",
     "output_type": "stream",
     "text": [
      "Training Loss: 0.36400956249512406\n",
      "Validation Loss: 1.0746808852468217\n",
      "Training Accuracy of the network: 86 %\n",
      "Validation Accuracy of the network: 59 %\n",
      "EarlyStopping counter: 50 out of 50\n",
      "Early Stopping\n",
      "Testing Loss: 1.2957698106765747\n",
      "Testing Accuracy of the network: 43 %\n"
     ]
    },
    {
     "name": "stderr",
     "output_type": "stream",
     "text": [
      "\n",
      "  0%|▏                                                                                                                                                                   | 1/1000 [00:02<42:03,  2.53s/it]"
     ]
    },
    {
     "name": "stdout",
     "output_type": "stream",
     "text": [
      "Training Loss: 1.5730314617571624\n",
      "Validation Loss: 1.4227403913225447\n",
      "Training Accuracy of the network: 23 %\n",
      "Validation Accuracy of the network: 25 %\n",
      "Validation loss decreased (inf --> 1.422740).  Saving model ...\n"
     ]
    },
    {
     "name": "stderr",
     "output_type": "stream",
     "text": [
      "  0%|▎                                                                                                                                                                   | 2/1000 [00:04<41:17,  2.48s/it]"
     ]
    },
    {
     "name": "stdout",
     "output_type": "stream",
     "text": [
      "Training Loss: 1.507685509280882\n",
      "Validation Loss: 1.4052224227360317\n",
      "Training Accuracy of the network: 25 %\n",
      "Validation Accuracy of the network: 27 %\n",
      "Validation loss decreased (1.422740 --> 1.405222).  Saving model ...\n"
     ]
    },
    {
     "name": "stderr",
     "output_type": "stream",
     "text": [
      "  0%|▍                                                                                                                                                                   | 3/1000 [00:07<41:34,  2.50s/it]"
     ]
    },
    {
     "name": "stdout",
     "output_type": "stream",
     "text": [
      "Training Loss: 1.4754964052766995\n",
      "Validation Loss: 1.3871702977589198\n",
      "Training Accuracy of the network: 26 %\n",
      "Validation Accuracy of the network: 29 %\n",
      "Validation loss decreased (1.405222 --> 1.387170).  Saving model ...\n"
     ]
    },
    {
     "name": "stderr",
     "output_type": "stream",
     "text": [
      "  0%|▋                                                                                                                                                                   | 4/1000 [00:10<41:55,  2.53s/it]"
     ]
    },
    {
     "name": "stdout",
     "output_type": "stream",
     "text": [
      "Training Loss: 1.4385773384052774\n",
      "Validation Loss: 1.3738806418010168\n",
      "Training Accuracy of the network: 30 %\n",
      "Validation Accuracy of the network: 29 %\n",
      "Validation loss decreased (1.387170 --> 1.373881).  Saving model ...\n"
     ]
    },
    {
     "name": "stderr",
     "output_type": "stream",
     "text": [
      "  0%|▊                                                                                                                                                                   | 5/1000 [00:12<41:36,  2.51s/it]"
     ]
    },
    {
     "name": "stdout",
     "output_type": "stream",
     "text": [
      "Training Loss: 1.397822860358418\n",
      "Validation Loss: 1.364781277520316\n",
      "Training Accuracy of the network: 29 %\n",
      "Validation Accuracy of the network: 30 %\n",
      "Validation loss decreased (1.373881 --> 1.364781).  Saving model ...\n"
     ]
    },
    {
     "name": "stderr",
     "output_type": "stream",
     "text": [
      "  1%|▉                                                                                                                                                                   | 6/1000 [00:15<41:38,  2.51s/it]"
     ]
    },
    {
     "name": "stdout",
     "output_type": "stream",
     "text": [
      "Training Loss: 1.3781475658002107\n",
      "Validation Loss: 1.3538716793060304\n",
      "Training Accuracy of the network: 32 %\n",
      "Validation Accuracy of the network: 32 %\n",
      "Validation loss decreased (1.364781 --> 1.353872).  Saving model ...\n"
     ]
    },
    {
     "name": "stderr",
     "output_type": "stream",
     "text": [
      "  1%|█▏                                                                                                                                                                  | 7/1000 [00:17<41:59,  2.54s/it]"
     ]
    },
    {
     "name": "stdout",
     "output_type": "stream",
     "text": [
      "Training Loss: 1.3682560531989387\n",
      "Validation Loss: 1.345169360297067\n",
      "Training Accuracy of the network: 32 %\n",
      "Validation Accuracy of the network: 33 %\n",
      "Validation loss decreased (1.353872 --> 1.345169).  Saving model ...\n"
     ]
    },
    {
     "name": "stderr",
     "output_type": "stream",
     "text": [
      "  1%|█▎                                                                                                                                                                  | 8/1000 [00:20<41:52,  2.53s/it]"
     ]
    },
    {
     "name": "stdout",
     "output_type": "stream",
     "text": [
      "Training Loss: 1.3341663332952969\n",
      "Validation Loss: 1.3383795533861433\n",
      "Training Accuracy of the network: 35 %\n",
      "Validation Accuracy of the network: 35 %\n",
      "Validation loss decreased (1.345169 --> 1.338380).  Saving model ...\n"
     ]
    },
    {
     "name": "stderr",
     "output_type": "stream",
     "text": [
      "  1%|█▍                                                                                                                                                                  | 9/1000 [00:22<41:04,  2.49s/it]"
     ]
    },
    {
     "name": "stdout",
     "output_type": "stream",
     "text": [
      "Training Loss: 1.3163298567136128\n",
      "Validation Loss: 1.3310047694614955\n",
      "Training Accuracy of the network: 37 %\n",
      "Validation Accuracy of the network: 35 %\n",
      "Validation loss decreased (1.338380 --> 1.331005).  Saving model ...\n"
     ]
    },
    {
     "name": "stderr",
     "output_type": "stream",
     "text": [
      "  1%|█▋                                                                                                                                                                 | 10/1000 [00:25<41:06,  2.49s/it]"
     ]
    },
    {
     "name": "stdout",
     "output_type": "stream",
     "text": [
      "Training Loss: 1.295313444690428\n",
      "Validation Loss: 1.3250910145895822\n",
      "Training Accuracy of the network: 39 %\n",
      "Validation Accuracy of the network: 35 %\n",
      "Validation loss decreased (1.331005 --> 1.325091).  Saving model ...\n"
     ]
    },
    {
     "name": "stderr",
     "output_type": "stream",
     "text": [
      "  1%|█▊                                                                                                                                                                 | 11/1000 [00:27<41:39,  2.53s/it]"
     ]
    },
    {
     "name": "stdout",
     "output_type": "stream",
     "text": [
      "Training Loss: 1.2879528787688932\n",
      "Validation Loss: 1.320589814867292\n",
      "Training Accuracy of the network: 39 %\n",
      "Validation Accuracy of the network: 36 %\n",
      "Validation loss decreased (1.325091 --> 1.320590).  Saving model ...\n"
     ]
    },
    {
     "name": "stderr",
     "output_type": "stream",
     "text": [
      "  1%|█▉                                                                                                                                                                 | 12/1000 [00:30<41:52,  2.54s/it]"
     ]
    },
    {
     "name": "stdout",
     "output_type": "stream",
     "text": [
      "Training Loss: 1.2768565511357957\n",
      "Validation Loss: 1.3170250347682408\n",
      "Training Accuracy of the network: 39 %\n",
      "Validation Accuracy of the network: 36 %\n",
      "Validation loss decreased (1.320590 --> 1.317025).  Saving model ...\n"
     ]
    },
    {
     "name": "stderr",
     "output_type": "stream",
     "text": [
      "  1%|██                                                                                                                                                                 | 13/1000 [00:32<41:56,  2.55s/it]"
     ]
    },
    {
     "name": "stdout",
     "output_type": "stream",
     "text": [
      "Training Loss: 1.258589483257653\n",
      "Validation Loss: 1.3114981651306152\n",
      "Training Accuracy of the network: 42 %\n",
      "Validation Accuracy of the network: 36 %\n",
      "Validation loss decreased (1.317025 --> 1.311498).  Saving model ...\n"
     ]
    },
    {
     "name": "stderr",
     "output_type": "stream",
     "text": [
      "  1%|██▎                                                                                                                                                                | 14/1000 [00:35<41:41,  2.54s/it]"
     ]
    },
    {
     "name": "stdout",
     "output_type": "stream",
     "text": [
      "Training Loss: 1.2467505491298179\n",
      "Validation Loss: 1.3073559011731828\n",
      "Training Accuracy of the network: 42 %\n",
      "Validation Accuracy of the network: 37 %\n",
      "Validation loss decreased (1.311498 --> 1.307356).  Saving model ...\n"
     ]
    },
    {
     "name": "stderr",
     "output_type": "stream",
     "text": [
      "  2%|██▍                                                                                                                                                                | 15/1000 [00:37<41:39,  2.54s/it]"
     ]
    },
    {
     "name": "stdout",
     "output_type": "stream",
     "text": [
      "Training Loss: 1.229178451973459\n",
      "Validation Loss: 1.3029828684670584\n",
      "Training Accuracy of the network: 43 %\n",
      "Validation Accuracy of the network: 37 %\n",
      "Validation loss decreased (1.307356 --> 1.302983).  Saving model ...\n"
     ]
    },
    {
     "name": "stderr",
     "output_type": "stream",
     "text": [
      "  2%|██▌                                                                                                                                                                | 16/1000 [00:40<41:38,  2.54s/it]"
     ]
    },
    {
     "name": "stdout",
     "output_type": "stream",
     "text": [
      "Training Loss: 1.216290156910385\n",
      "Validation Loss: 1.3004031147275652\n",
      "Training Accuracy of the network: 44 %\n",
      "Validation Accuracy of the network: 37 %\n",
      "Validation loss decreased (1.302983 --> 1.300403).  Saving model ...\n"
     ]
    },
    {
     "name": "stderr",
     "output_type": "stream",
     "text": [
      "  2%|██▊                                                                                                                                                                | 17/1000 [00:42<41:20,  2.52s/it]"
     ]
    },
    {
     "name": "stdout",
     "output_type": "stream",
     "text": [
      "Training Loss: 1.206362986046335\n",
      "Validation Loss: 1.2973228113991873\n",
      "Training Accuracy of the network: 45 %\n",
      "Validation Accuracy of the network: 37 %\n",
      "Validation loss decreased (1.300403 --> 1.297323).  Saving model ...\n"
     ]
    },
    {
     "name": "stderr",
     "output_type": "stream",
     "text": [
      "  2%|██▉                                                                                                                                                                | 18/1000 [00:45<41:21,  2.53s/it]"
     ]
    },
    {
     "name": "stdout",
     "output_type": "stream",
     "text": [
      "Training Loss: 1.184114554653997\n",
      "Validation Loss: 1.2954116310392108\n",
      "Training Accuracy of the network: 47 %\n",
      "Validation Accuracy of the network: 38 %\n",
      "Validation loss decreased (1.297323 --> 1.295412).  Saving model ...\n"
     ]
    },
    {
     "name": "stderr",
     "output_type": "stream",
     "text": [
      "  2%|███                                                                                                                                                                | 19/1000 [00:48<41:51,  2.56s/it]"
     ]
    },
    {
     "name": "stdout",
     "output_type": "stream",
     "text": [
      "Training Loss: 1.176374535197797\n",
      "Validation Loss: 1.2875798974718367\n",
      "Training Accuracy of the network: 47 %\n",
      "Validation Accuracy of the network: 38 %\n",
      "Validation loss decreased (1.295412 --> 1.287580).  Saving model ...\n"
     ]
    },
    {
     "name": "stderr",
     "output_type": "stream",
     "text": [
      "  2%|███▎                                                                                                                                                               | 20/1000 [00:50<41:27,  2.54s/it]"
     ]
    },
    {
     "name": "stdout",
     "output_type": "stream",
     "text": [
      "Training Loss: 1.157131955675457\n",
      "Validation Loss: 1.2800609827041627\n",
      "Training Accuracy of the network: 50 %\n",
      "Validation Accuracy of the network: 38 %\n",
      "Validation loss decreased (1.287580 --> 1.280061).  Saving model ...\n"
     ]
    },
    {
     "name": "stderr",
     "output_type": "stream",
     "text": [
      "  2%|███▍                                                                                                                                                               | 21/1000 [00:53<41:24,  2.54s/it]"
     ]
    },
    {
     "name": "stdout",
     "output_type": "stream",
     "text": [
      "Training Loss: 1.149974781965864\n",
      "Validation Loss: 1.274185367992946\n",
      "Training Accuracy of the network: 50 %\n",
      "Validation Accuracy of the network: 38 %\n",
      "Validation loss decreased (1.280061 --> 1.274185).  Saving model ...\n"
     ]
    },
    {
     "name": "stderr",
     "output_type": "stream",
     "text": [
      "  2%|███▌                                                                                                                                                               | 22/1000 [00:55<41:28,  2.54s/it]"
     ]
    },
    {
     "name": "stdout",
     "output_type": "stream",
     "text": [
      "Training Loss: 1.1265137854261675\n",
      "Validation Loss: 1.2682627064841134\n",
      "Training Accuracy of the network: 51 %\n",
      "Validation Accuracy of the network: 39 %\n",
      "Validation loss decreased (1.274185 --> 1.268263).  Saving model ...\n"
     ]
    },
    {
     "name": "stderr",
     "output_type": "stream",
     "text": [
      "  2%|███▋                                                                                                                                                               | 23/1000 [00:58<41:38,  2.56s/it]"
     ]
    },
    {
     "name": "stdout",
     "output_type": "stream",
     "text": [
      "Training Loss: 1.1111418093028276\n",
      "Validation Loss: 1.2649093968527658\n",
      "Training Accuracy of the network: 52 %\n",
      "Validation Accuracy of the network: 39 %\n",
      "Validation loss decreased (1.268263 --> 1.264909).  Saving model ...\n"
     ]
    },
    {
     "name": "stderr",
     "output_type": "stream",
     "text": [
      "  2%|███▉                                                                                                                                                               | 24/1000 [01:00<41:35,  2.56s/it]"
     ]
    },
    {
     "name": "stdout",
     "output_type": "stream",
     "text": [
      "Training Loss: 1.1134617177472599\n",
      "Validation Loss: 1.2628358091626848\n",
      "Training Accuracy of the network: 51 %\n",
      "Validation Accuracy of the network: 39 %\n",
      "Validation loss decreased (1.264909 --> 1.262836).  Saving model ...\n"
     ]
    },
    {
     "name": "stderr",
     "output_type": "stream",
     "text": [
      "  2%|████                                                                                                                                                               | 25/1000 [01:03<40:00,  2.46s/it]"
     ]
    },
    {
     "name": "stdout",
     "output_type": "stream",
     "text": [
      "Training Loss: 1.0801358512346295\n",
      "Validation Loss: 1.252554978643145\n",
      "Training Accuracy of the network: 54 %\n",
      "Validation Accuracy of the network: 42 %\n",
      "Validation loss decreased (1.262836 --> 1.252555).  Saving model ...\n"
     ]
    },
    {
     "name": "stderr",
     "output_type": "stream",
     "text": [
      "  3%|████▏                                                                                                                                                              | 26/1000 [01:05<39:33,  2.44s/it]"
     ]
    },
    {
     "name": "stdout",
     "output_type": "stream",
     "text": [
      "Training Loss: 1.0733867127826249\n",
      "Validation Loss: 1.2454889093126569\n",
      "Training Accuracy of the network: 54 %\n",
      "Validation Accuracy of the network: 41 %\n",
      "Validation loss decreased (1.252555 --> 1.245489).  Saving model ...\n"
     ]
    },
    {
     "name": "stderr",
     "output_type": "stream",
     "text": [
      "  3%|████▍                                                                                                                                                              | 27/1000 [01:08<40:18,  2.49s/it]"
     ]
    },
    {
     "name": "stdout",
     "output_type": "stream",
     "text": [
      "Training Loss: 1.071059290697609\n",
      "Validation Loss: 1.2349667719432287\n",
      "Training Accuracy of the network: 56 %\n",
      "Validation Accuracy of the network: 44 %\n",
      "Validation loss decreased (1.245489 --> 1.234967).  Saving model ...\n"
     ]
    },
    {
     "name": "stderr",
     "output_type": "stream",
     "text": [
      "  3%|████▌                                                                                                                                                              | 28/1000 [01:10<40:57,  2.53s/it]"
     ]
    },
    {
     "name": "stdout",
     "output_type": "stream",
     "text": [
      "Training Loss: 1.0404052876907846\n",
      "Validation Loss: 1.2320943593978881\n",
      "Training Accuracy of the network: 57 %\n",
      "Validation Accuracy of the network: 43 %\n",
      "Validation loss decreased (1.234967 --> 1.232094).  Saving model ...\n"
     ]
    },
    {
     "name": "stderr",
     "output_type": "stream",
     "text": [
      "  3%|████▋                                                                                                                                                              | 29/1000 [01:13<41:03,  2.54s/it]"
     ]
    },
    {
     "name": "stdout",
     "output_type": "stream",
     "text": [
      "Training Loss: 1.0170372145763342\n",
      "Validation Loss: 1.2262174810682025\n",
      "Training Accuracy of the network: 57 %\n",
      "Validation Accuracy of the network: 43 %\n",
      "Validation loss decreased (1.232094 --> 1.226217).  Saving model ...\n"
     ]
    },
    {
     "name": "stderr",
     "output_type": "stream",
     "text": [
      "  3%|████▉                                                                                                                                                              | 30/1000 [01:15<41:09,  2.55s/it]"
     ]
    },
    {
     "name": "stdout",
     "output_type": "stream",
     "text": [
      "Training Loss: 1.0060379777265631\n",
      "Validation Loss: 1.2195915801184518\n",
      "Training Accuracy of the network: 59 %\n",
      "Validation Accuracy of the network: 42 %\n",
      "Validation loss decreased (1.226217 --> 1.219592).  Saving model ...\n"
     ]
    },
    {
     "name": "stderr",
     "output_type": "stream",
     "text": [
      "  3%|█████                                                                                                                                                              | 31/1000 [01:18<41:12,  2.55s/it]"
     ]
    },
    {
     "name": "stdout",
     "output_type": "stream",
     "text": [
      "Training Loss: 0.9889387515360031\n",
      "Validation Loss: 1.2155434148652213\n",
      "Training Accuracy of the network: 59 %\n",
      "Validation Accuracy of the network: 43 %\n",
      "Validation loss decreased (1.219592 --> 1.215543).  Saving model ...\n"
     ]
    },
    {
     "name": "stderr",
     "output_type": "stream",
     "text": [
      "  3%|█████▏                                                                                                                                                             | 32/1000 [01:20<41:15,  2.56s/it]"
     ]
    },
    {
     "name": "stdout",
     "output_type": "stream",
     "text": [
      "Training Loss: 0.9831112528192825\n",
      "Validation Loss: 1.2078461033957346\n",
      "Training Accuracy of the network: 59 %\n",
      "Validation Accuracy of the network: 45 %\n",
      "Validation loss decreased (1.215543 --> 1.207846).  Saving model ...\n"
     ]
    },
    {
     "name": "stderr",
     "output_type": "stream",
     "text": [
      "  3%|█████▍                                                                                                                                                             | 33/1000 [01:23<41:17,  2.56s/it]"
     ]
    },
    {
     "name": "stdout",
     "output_type": "stream",
     "text": [
      "Training Loss: 0.9628201289021451\n",
      "Validation Loss: 1.2037930624825615\n",
      "Training Accuracy of the network: 60 %\n",
      "Validation Accuracy of the network: 46 %\n",
      "Validation loss decreased (1.207846 --> 1.203793).  Saving model ...\n"
     ]
    },
    {
     "name": "stderr",
     "output_type": "stream",
     "text": [
      "  3%|█████▌                                                                                                                                                             | 34/1000 [01:25<40:59,  2.55s/it]"
     ]
    },
    {
     "name": "stdout",
     "output_type": "stream",
     "text": [
      "Training Loss: 0.9571511138608491\n",
      "Validation Loss: 1.1999656285558429\n",
      "Training Accuracy of the network: 60 %\n",
      "Validation Accuracy of the network: 45 %\n",
      "Validation loss decreased (1.203793 --> 1.199966).  Saving model ...\n"
     ]
    },
    {
     "name": "stderr",
     "output_type": "stream",
     "text": [
      "  4%|█████▋                                                                                                                                                             | 35/1000 [01:28<40:59,  2.55s/it]"
     ]
    },
    {
     "name": "stdout",
     "output_type": "stream",
     "text": [
      "Training Loss: 0.9515584577684817\n",
      "Validation Loss: 1.1991973723684037\n",
      "Training Accuracy of the network: 61 %\n",
      "Validation Accuracy of the network: 47 %\n",
      "Validation loss decreased (1.199966 --> 1.199197).  Saving model ...\n"
     ]
    },
    {
     "name": "stderr",
     "output_type": "stream",
     "text": [
      "  4%|█████▊                                                                                                                                                             | 36/1000 [01:31<41:07,  2.56s/it]"
     ]
    },
    {
     "name": "stdout",
     "output_type": "stream",
     "text": [
      "Training Loss: 0.9233875447425289\n",
      "Validation Loss: 1.1935258558818271\n",
      "Training Accuracy of the network: 63 %\n",
      "Validation Accuracy of the network: 47 %\n",
      "Validation loss decreased (1.199197 --> 1.193526).  Saving model ...\n"
     ]
    },
    {
     "name": "stderr",
     "output_type": "stream",
     "text": [
      "  4%|██████                                                                                                                                                             | 37/1000 [01:33<41:07,  2.56s/it]"
     ]
    },
    {
     "name": "stdout",
     "output_type": "stream",
     "text": [
      "Training Loss: 0.9224434264976046\n",
      "Validation Loss: 1.1929116300174167\n",
      "Training Accuracy of the network: 63 %\n",
      "Validation Accuracy of the network: 47 %\n",
      "Validation loss decreased (1.193526 --> 1.192912).  Saving model ...\n"
     ]
    },
    {
     "name": "stderr",
     "output_type": "stream",
     "text": [
      "  4%|██████▏                                                                                                                                                            | 38/1000 [01:36<41:18,  2.58s/it]"
     ]
    },
    {
     "name": "stdout",
     "output_type": "stream",
     "text": [
      "Training Loss: 0.8962367665076602\n",
      "Validation Loss: 1.184808271271842\n",
      "Training Accuracy of the network: 63 %\n",
      "Validation Accuracy of the network: 48 %\n",
      "Validation loss decreased (1.192912 --> 1.184808).  Saving model ...\n"
     ]
    },
    {
     "name": "stderr",
     "output_type": "stream",
     "text": [
      "  4%|██████▎                                                                                                                                                            | 39/1000 [01:38<41:19,  2.58s/it]"
     ]
    },
    {
     "name": "stdout",
     "output_type": "stream",
     "text": [
      "Training Loss: 0.8944106189453084\n",
      "Validation Loss: 1.182602620124817\n",
      "Training Accuracy of the network: 64 %\n",
      "Validation Accuracy of the network: 49 %\n",
      "Validation loss decreased (1.184808 --> 1.182603).  Saving model ...\n"
     ]
    },
    {
     "name": "stderr",
     "output_type": "stream",
     "text": [
      "  4%|██████▌                                                                                                                                                            | 40/1000 [01:41<40:55,  2.56s/it]"
     ]
    },
    {
     "name": "stdout",
     "output_type": "stream",
     "text": [
      "Training Loss: 0.8922880648270898\n",
      "Validation Loss: 1.1731244615146093\n",
      "Training Accuracy of the network: 63 %\n",
      "Validation Accuracy of the network: 50 %\n",
      "Validation loss decreased (1.182603 --> 1.173124).  Saving model ...\n"
     ]
    },
    {
     "name": "stderr",
     "output_type": "stream",
     "text": [
      "  4%|██████▋                                                                                                                                                            | 41/1000 [01:43<40:01,  2.50s/it]"
     ]
    },
    {
     "name": "stdout",
     "output_type": "stream",
     "text": [
      "Training Loss: 0.8762193088946135\n",
      "Validation Loss: 1.1719171370778765\n",
      "Training Accuracy of the network: 65 %\n",
      "Validation Accuracy of the network: 50 %\n",
      "Validation loss decreased (1.173124 --> 1.171917).  Saving model ...\n"
     ]
    },
    {
     "name": "stderr",
     "output_type": "stream",
     "text": [
      "  4%|██████▊                                                                                                                                                            | 42/1000 [01:46<39:42,  2.49s/it]"
     ]
    },
    {
     "name": "stdout",
     "output_type": "stream",
     "text": [
      "Training Loss: 0.8570922610984333\n",
      "Validation Loss: 1.1741246325629098\n",
      "Training Accuracy of the network: 66 %\n",
      "Validation Accuracy of the network: 50 %\n",
      "EarlyStopping counter: 1 out of 50\n"
     ]
    },
    {
     "name": "stderr",
     "output_type": "stream",
     "text": [
      "  4%|███████                                                                                                                                                            | 43/1000 [01:48<40:06,  2.51s/it]"
     ]
    },
    {
     "name": "stdout",
     "output_type": "stream",
     "text": [
      "Training Loss: 0.8495656267024468\n",
      "Validation Loss: 1.172204657963344\n",
      "Training Accuracy of the network: 66 %\n",
      "Validation Accuracy of the network: 50 %\n",
      "EarlyStopping counter: 2 out of 50\n"
     ]
    },
    {
     "name": "stderr",
     "output_type": "stream",
     "text": [
      "  4%|███████▏                                                                                                                                                           | 44/1000 [01:51<40:21,  2.53s/it]"
     ]
    },
    {
     "name": "stdout",
     "output_type": "stream",
     "text": [
      "Training Loss: 0.8387580608436163\n",
      "Validation Loss: 1.1618600862366812\n",
      "Training Accuracy of the network: 67 %\n",
      "Validation Accuracy of the network: 50 %\n",
      "Validation loss decreased (1.171917 --> 1.161860).  Saving model ...\n"
     ]
    },
    {
     "name": "stderr",
     "output_type": "stream",
     "text": [
      "  4%|███████▎                                                                                                                                                           | 45/1000 [01:54<41:01,  2.58s/it]"
     ]
    },
    {
     "name": "stdout",
     "output_type": "stream",
     "text": [
      "Training Loss: 0.8328759573076082\n",
      "Validation Loss: 1.1651889749935695\n",
      "Training Accuracy of the network: 67 %\n",
      "Validation Accuracy of the network: 50 %\n",
      "EarlyStopping counter: 1 out of 50\n"
     ]
    },
    {
     "name": "stderr",
     "output_type": "stream",
     "text": [
      "  5%|███████▍                                                                                                                                                           | 46/1000 [01:56<40:58,  2.58s/it]"
     ]
    },
    {
     "name": "stdout",
     "output_type": "stream",
     "text": [
      "Training Loss: 0.7987959268840327\n",
      "Validation Loss: 1.1576973063605172\n",
      "Training Accuracy of the network: 69 %\n",
      "Validation Accuracy of the network: 49 %\n",
      "Validation loss decreased (1.161860 --> 1.157697).  Saving model ...\n"
     ]
    },
    {
     "name": "stderr",
     "output_type": "stream",
     "text": [
      "  5%|███████▋                                                                                                                                                           | 47/1000 [01:59<40:57,  2.58s/it]"
     ]
    },
    {
     "name": "stdout",
     "output_type": "stream",
     "text": [
      "Training Loss: 0.7959355086736057\n",
      "Validation Loss: 1.1638187851224626\n",
      "Training Accuracy of the network: 68 %\n",
      "Validation Accuracy of the network: 48 %\n",
      "EarlyStopping counter: 1 out of 50\n"
     ]
    },
    {
     "name": "stderr",
     "output_type": "stream",
     "text": [
      "  5%|███████▊                                                                                                                                                           | 48/1000 [02:01<41:09,  2.59s/it]"
     ]
    },
    {
     "name": "stdout",
     "output_type": "stream",
     "text": [
      "Training Loss: 0.8034583920801895\n",
      "Validation Loss: 1.1593426976885115\n",
      "Training Accuracy of the network: 68 %\n",
      "Validation Accuracy of the network: 49 %\n",
      "EarlyStopping counter: 2 out of 50\n"
     ]
    },
    {
     "name": "stderr",
     "output_type": "stream",
     "text": [
      "  5%|███████▉                                                                                                                                                           | 49/1000 [02:04<40:43,  2.57s/it]"
     ]
    },
    {
     "name": "stdout",
     "output_type": "stream",
     "text": [
      "Training Loss: 0.8006616882655931\n",
      "Validation Loss: 1.1536841630935668\n",
      "Training Accuracy of the network: 68 %\n",
      "Validation Accuracy of the network: 50 %\n",
      "Validation loss decreased (1.157697 --> 1.153684).  Saving model ...\n"
     ]
    },
    {
     "name": "stderr",
     "output_type": "stream",
     "text": [
      "  5%|████████▏                                                                                                                                                          | 50/1000 [02:07<41:07,  2.60s/it]"
     ]
    },
    {
     "name": "stdout",
     "output_type": "stream",
     "text": [
      "Training Loss: 0.7859630915943695\n",
      "Validation Loss: 1.1564015643937247\n",
      "Training Accuracy of the network: 68 %\n",
      "Validation Accuracy of the network: 50 %\n",
      "EarlyStopping counter: 1 out of 50\n"
     ]
    },
    {
     "name": "stderr",
     "output_type": "stream",
     "text": [
      "  5%|████████▎                                                                                                                                                          | 51/1000 [02:09<40:56,  2.59s/it]"
     ]
    },
    {
     "name": "stdout",
     "output_type": "stream",
     "text": [
      "Training Loss: 0.7834428339332774\n",
      "Validation Loss: 1.1568589414869035\n",
      "Training Accuracy of the network: 69 %\n",
      "Validation Accuracy of the network: 50 %\n",
      "EarlyStopping counter: 2 out of 50\n"
     ]
    },
    {
     "name": "stderr",
     "output_type": "stream",
     "text": [
      "  5%|████████▍                                                                                                                                                          | 52/1000 [02:12<40:50,  2.58s/it]"
     ]
    },
    {
     "name": "stdout",
     "output_type": "stream",
     "text": [
      "Training Loss: 0.7693873371092089\n",
      "Validation Loss: 1.1588317206927707\n",
      "Training Accuracy of the network: 69 %\n",
      "Validation Accuracy of the network: 49 %\n",
      "EarlyStopping counter: 3 out of 50\n"
     ]
    },
    {
     "name": "stderr",
     "output_type": "stream",
     "text": [
      "  5%|████████▋                                                                                                                                                          | 53/1000 [02:14<40:49,  2.59s/it]"
     ]
    },
    {
     "name": "stdout",
     "output_type": "stream",
     "text": [
      "Training Loss: 0.7619803233639054\n",
      "Validation Loss: 1.1481597900390625\n",
      "Training Accuracy of the network: 70 %\n",
      "Validation Accuracy of the network: 49 %\n",
      "Validation loss decreased (1.153684 --> 1.148160).  Saving model ...\n"
     ]
    },
    {
     "name": "stderr",
     "output_type": "stream",
     "text": [
      "  5%|████████▊                                                                                                                                                          | 54/1000 [02:17<41:09,  2.61s/it]"
     ]
    },
    {
     "name": "stdout",
     "output_type": "stream",
     "text": [
      "Training Loss: 0.7478145790164885\n",
      "Validation Loss: 1.1541658554758345\n",
      "Training Accuracy of the network: 70 %\n",
      "Validation Accuracy of the network: 50 %\n",
      "EarlyStopping counter: 1 out of 50\n"
     ]
    },
    {
     "name": "stderr",
     "output_type": "stream",
     "text": [
      "  6%|████████▉                                                                                                                                                          | 55/1000 [02:20<41:13,  2.62s/it]"
     ]
    },
    {
     "name": "stdout",
     "output_type": "stream",
     "text": [
      "Training Loss: 0.7379677461973135\n",
      "Validation Loss: 1.1544336915016173\n",
      "Training Accuracy of the network: 71 %\n",
      "Validation Accuracy of the network: 50 %\n",
      "EarlyStopping counter: 2 out of 50\n"
     ]
    },
    {
     "name": "stderr",
     "output_type": "stream",
     "text": [
      "  6%|█████████▏                                                                                                                                                         | 56/1000 [02:22<40:46,  2.59s/it]"
     ]
    },
    {
     "name": "stdout",
     "output_type": "stream",
     "text": [
      "Training Loss: 0.7286996670283269\n",
      "Validation Loss: 1.1507159147943768\n",
      "Training Accuracy of the network: 71 %\n",
      "Validation Accuracy of the network: 50 %\n",
      "EarlyStopping counter: 3 out of 50\n"
     ]
    },
    {
     "name": "stderr",
     "output_type": "stream",
     "text": [
      "  6%|█████████▎                                                                                                                                                         | 57/1000 [02:25<39:59,  2.54s/it]"
     ]
    },
    {
     "name": "stdout",
     "output_type": "stream",
     "text": [
      "Training Loss: 0.7222492403850176\n",
      "Validation Loss: 1.146930972167424\n",
      "Training Accuracy of the network: 71 %\n",
      "Validation Accuracy of the network: 49 %\n",
      "Validation loss decreased (1.148160 --> 1.146931).  Saving model ...\n"
     ]
    },
    {
     "name": "stderr",
     "output_type": "stream",
     "text": [
      "  6%|█████████▍                                                                                                                                                         | 58/1000 [02:27<40:19,  2.57s/it]"
     ]
    },
    {
     "name": "stdout",
     "output_type": "stream",
     "text": [
      "Training Loss: 0.7195068777039431\n",
      "Validation Loss: 1.1438966751098634\n",
      "Training Accuracy of the network: 71 %\n",
      "Validation Accuracy of the network: 49 %\n",
      "Validation loss decreased (1.146931 --> 1.143897).  Saving model ...\n"
     ]
    },
    {
     "name": "stderr",
     "output_type": "stream",
     "text": [
      "  6%|█████████▌                                                                                                                                                         | 59/1000 [02:30<39:56,  2.55s/it]"
     ]
    },
    {
     "name": "stdout",
     "output_type": "stream",
     "text": [
      "Training Loss: 0.7009698706476585\n",
      "Validation Loss: 1.145551679815565\n",
      "Training Accuracy of the network: 72 %\n",
      "Validation Accuracy of the network: 50 %\n",
      "EarlyStopping counter: 1 out of 50\n"
     ]
    },
    {
     "name": "stderr",
     "output_type": "stream",
     "text": [
      "  6%|█████████▊                                                                                                                                                         | 60/1000 [02:32<40:09,  2.56s/it]"
     ]
    },
    {
     "name": "stdout",
     "output_type": "stream",
     "text": [
      "Training Loss: 0.7021931800181451\n",
      "Validation Loss: 1.1574111597878591\n",
      "Training Accuracy of the network: 72 %\n",
      "Validation Accuracy of the network: 50 %\n",
      "EarlyStopping counter: 2 out of 50\n"
     ]
    },
    {
     "name": "stderr",
     "output_type": "stream",
     "text": [
      "  6%|█████████▉                                                                                                                                                         | 61/1000 [02:35<39:27,  2.52s/it]"
     ]
    },
    {
     "name": "stdout",
     "output_type": "stream",
     "text": [
      "Training Loss: 0.70208111949319\n",
      "Validation Loss: 1.1427014401980808\n",
      "Training Accuracy of the network: 71 %\n",
      "Validation Accuracy of the network: 49 %\n",
      "Validation loss decreased (1.143897 --> 1.142701).  Saving model ...\n"
     ]
    },
    {
     "name": "stderr",
     "output_type": "stream",
     "text": [
      "  6%|██████████                                                                                                                                                         | 62/1000 [02:37<39:24,  2.52s/it]"
     ]
    },
    {
     "name": "stdout",
     "output_type": "stream",
     "text": [
      "Training Loss: 0.6856207145998875\n",
      "Validation Loss: 1.1455478685242788\n",
      "Training Accuracy of the network: 72 %\n",
      "Validation Accuracy of the network: 49 %\n",
      "EarlyStopping counter: 1 out of 50\n"
     ]
    },
    {
     "name": "stderr",
     "output_type": "stream",
     "text": [
      "  6%|██████████▎                                                                                                                                                        | 63/1000 [02:40<39:56,  2.56s/it]"
     ]
    },
    {
     "name": "stdout",
     "output_type": "stream",
     "text": [
      "Training Loss: 0.6797969559666471\n",
      "Validation Loss: 1.1394304190363203\n",
      "Training Accuracy of the network: 73 %\n",
      "Validation Accuracy of the network: 49 %\n",
      "Validation loss decreased (1.142701 --> 1.139430).  Saving model ...\n"
     ]
    },
    {
     "name": "stderr",
     "output_type": "stream",
     "text": [
      "  6%|██████████▍                                                                                                                                                        | 64/1000 [02:42<40:01,  2.57s/it]"
     ]
    },
    {
     "name": "stdout",
     "output_type": "stream",
     "text": [
      "Training Loss: 0.6849139315494592\n",
      "Validation Loss: 1.1418365342276438\n",
      "Training Accuracy of the network: 73 %\n",
      "Validation Accuracy of the network: 49 %\n",
      "EarlyStopping counter: 1 out of 50\n"
     ]
    },
    {
     "name": "stderr",
     "output_type": "stream",
     "text": [
      "  6%|██████████▌                                                                                                                                                        | 65/1000 [02:45<40:14,  2.58s/it]"
     ]
    },
    {
     "name": "stdout",
     "output_type": "stream",
     "text": [
      "Training Loss: 0.6892590189649574\n",
      "Validation Loss: 1.1479040997368948\n",
      "Training Accuracy of the network: 72 %\n",
      "Validation Accuracy of the network: 50 %\n",
      "EarlyStopping counter: 2 out of 50\n"
     ]
    },
    {
     "name": "stderr",
     "output_type": "stream",
     "text": [
      "  7%|██████████▊                                                                                                                                                        | 66/1000 [02:48<40:31,  2.60s/it]"
     ]
    },
    {
     "name": "stdout",
     "output_type": "stream",
     "text": [
      "Training Loss: 0.6738335953998393\n",
      "Validation Loss: 1.1468993527548654\n",
      "Training Accuracy of the network: 73 %\n",
      "Validation Accuracy of the network: 48 %\n",
      "EarlyStopping counter: 3 out of 50\n"
     ]
    },
    {
     "name": "stderr",
     "output_type": "stream",
     "text": [
      "  7%|██████████▉                                                                                                                                                        | 67/1000 [02:50<39:53,  2.57s/it]"
     ]
    },
    {
     "name": "stdout",
     "output_type": "stream",
     "text": [
      "Training Loss: 0.6644341784353921\n",
      "Validation Loss: 1.1457230142184667\n",
      "Training Accuracy of the network: 75 %\n",
      "Validation Accuracy of the network: 50 %\n",
      "EarlyStopping counter: 4 out of 50\n"
     ]
    },
    {
     "name": "stderr",
     "output_type": "stream",
     "text": [
      "  7%|███████████                                                                                                                                                        | 68/1000 [02:53<39:30,  2.54s/it]"
     ]
    },
    {
     "name": "stdout",
     "output_type": "stream",
     "text": [
      "Training Loss: 0.663872075577577\n",
      "Validation Loss: 1.1412518995148795\n",
      "Training Accuracy of the network: 74 %\n",
      "Validation Accuracy of the network: 49 %\n",
      "EarlyStopping counter: 5 out of 50\n"
     ]
    },
    {
     "name": "stderr",
     "output_type": "stream",
     "text": [
      "  7%|███████████▏                                                                                                                                                       | 69/1000 [02:55<39:39,  2.56s/it]"
     ]
    },
    {
     "name": "stdout",
     "output_type": "stream",
     "text": [
      "Training Loss: 0.6195212465616456\n",
      "Validation Loss: 1.1405965549605233\n",
      "Training Accuracy of the network: 76 %\n",
      "Validation Accuracy of the network: 50 %\n",
      "EarlyStopping counter: 6 out of 50\n"
     ]
    },
    {
     "name": "stderr",
     "output_type": "stream",
     "text": [
      "  7%|███████████▍                                                                                                                                                       | 70/1000 [02:58<40:06,  2.59s/it]"
     ]
    },
    {
     "name": "stdout",
     "output_type": "stream",
     "text": [
      "Training Loss: 0.6370162045772093\n",
      "Validation Loss: 1.1431089861052377\n",
      "Training Accuracy of the network: 76 %\n",
      "Validation Accuracy of the network: 50 %\n",
      "EarlyStopping counter: 7 out of 50\n"
     ]
    },
    {
     "name": "stderr",
     "output_type": "stream",
     "text": [
      "  7%|███████████▌                                                                                                                                                       | 71/1000 [03:00<39:59,  2.58s/it]"
     ]
    },
    {
     "name": "stdout",
     "output_type": "stream",
     "text": [
      "Training Loss: 0.6352584446523932\n",
      "Validation Loss: 1.1386056576456343\n",
      "Training Accuracy of the network: 75 %\n",
      "Validation Accuracy of the network: 49 %\n",
      "Validation loss decreased (1.139430 --> 1.138606).  Saving model ...\n"
     ]
    },
    {
     "name": "stderr",
     "output_type": "stream",
     "text": [
      "  7%|███████████▋                                                                                                                                                       | 72/1000 [03:03<39:02,  2.52s/it]"
     ]
    },
    {
     "name": "stdout",
     "output_type": "stream",
     "text": [
      "Training Loss: 0.6268689037449118\n",
      "Validation Loss: 1.13778521163123\n",
      "Training Accuracy of the network: 74 %\n",
      "Validation Accuracy of the network: 50 %\n",
      "Validation loss decreased (1.138606 --> 1.137785).  Saving model ...\n"
     ]
    },
    {
     "name": "stderr",
     "output_type": "stream",
     "text": [
      "  7%|███████████▉                                                                                                                                                       | 73/1000 [03:05<38:23,  2.49s/it]"
     ]
    },
    {
     "name": "stdout",
     "output_type": "stream",
     "text": [
      "Training Loss: 0.6332399899382954\n",
      "Validation Loss: 1.1410195657185145\n",
      "Training Accuracy of the network: 74 %\n",
      "Validation Accuracy of the network: 48 %\n",
      "EarlyStopping counter: 1 out of 50\n"
     ]
    },
    {
     "name": "stderr",
     "output_type": "stream",
     "text": [
      "  7%|████████████                                                                                                                                                       | 74/1000 [03:08<38:49,  2.52s/it]"
     ]
    },
    {
     "name": "stdout",
     "output_type": "stream",
     "text": [
      "Training Loss: 0.6105953063005987\n",
      "Validation Loss: 1.1410686237471444\n",
      "Training Accuracy of the network: 76 %\n",
      "Validation Accuracy of the network: 49 %\n",
      "EarlyStopping counter: 2 out of 50\n"
     ]
    },
    {
     "name": "stderr",
     "output_type": "stream",
     "text": [
      "  8%|████████████▏                                                                                                                                                      | 75/1000 [03:11<39:27,  2.56s/it]"
     ]
    },
    {
     "name": "stdout",
     "output_type": "stream",
     "text": [
      "Training Loss: 0.6173289300522943\n",
      "Validation Loss: 1.1426592946052552\n",
      "Training Accuracy of the network: 76 %\n",
      "Validation Accuracy of the network: 50 %\n",
      "EarlyStopping counter: 3 out of 50\n"
     ]
    },
    {
     "name": "stderr",
     "output_type": "stream",
     "text": [
      "  8%|████████████▍                                                                                                                                                      | 76/1000 [03:13<38:54,  2.53s/it]"
     ]
    },
    {
     "name": "stdout",
     "output_type": "stream",
     "text": [
      "Training Loss: 0.6078181313620745\n",
      "Validation Loss: 1.137879421029772\n",
      "Training Accuracy of the network: 75 %\n",
      "Validation Accuracy of the network: 50 %\n",
      "EarlyStopping counter: 4 out of 50\n"
     ]
    },
    {
     "name": "stderr",
     "output_type": "stream",
     "text": [
      "  8%|████████████▌                                                                                                                                                      | 77/1000 [03:15<38:27,  2.50s/it]"
     ]
    },
    {
     "name": "stdout",
     "output_type": "stream",
     "text": [
      "Training Loss: 0.5951596491605692\n",
      "Validation Loss: 1.1367223381996154\n",
      "Training Accuracy of the network: 77 %\n",
      "Validation Accuracy of the network: 50 %\n",
      "Validation loss decreased (1.137785 --> 1.136722).  Saving model ...\n"
     ]
    },
    {
     "name": "stderr",
     "output_type": "stream",
     "text": [
      "  8%|████████████▋                                                                                                                                                      | 78/1000 [03:18<38:54,  2.53s/it]"
     ]
    },
    {
     "name": "stdout",
     "output_type": "stream",
     "text": [
      "Training Loss: 0.5801019222354111\n",
      "Validation Loss: 1.1421113916805812\n",
      "Training Accuracy of the network: 78 %\n",
      "Validation Accuracy of the network: 50 %\n",
      "EarlyStopping counter: 1 out of 50\n"
     ]
    },
    {
     "name": "stderr",
     "output_type": "stream",
     "text": [
      "  8%|████████████▉                                                                                                                                                      | 79/1000 [03:20<38:38,  2.52s/it]"
     ]
    },
    {
     "name": "stdout",
     "output_type": "stream",
     "text": [
      "Training Loss: 0.5774249686198174\n",
      "Validation Loss: 1.1435031397002084\n",
      "Training Accuracy of the network: 78 %\n",
      "Validation Accuracy of the network: 50 %\n",
      "EarlyStopping counter: 2 out of 50\n"
     ]
    },
    {
     "name": "stderr",
     "output_type": "stream",
     "text": [
      "  8%|█████████████                                                                                                                                                      | 80/1000 [03:23<38:40,  2.52s/it]"
     ]
    },
    {
     "name": "stdout",
     "output_type": "stream",
     "text": [
      "Training Loss: 0.5756893762508812\n",
      "Validation Loss: 1.1456797957420348\n",
      "Training Accuracy of the network: 78 %\n",
      "Validation Accuracy of the network: 50 %\n",
      "EarlyStopping counter: 3 out of 50\n"
     ]
    },
    {
     "name": "stderr",
     "output_type": "stream",
     "text": [
      "  8%|█████████████▏                                                                                                                                                     | 81/1000 [03:25<38:27,  2.51s/it]"
     ]
    },
    {
     "name": "stdout",
     "output_type": "stream",
     "text": [
      "Training Loss: 0.5760062031542369\n",
      "Validation Loss: 1.1468423298427037\n",
      "Training Accuracy of the network: 77 %\n",
      "Validation Accuracy of the network: 51 %\n",
      "EarlyStopping counter: 4 out of 50\n"
     ]
    },
    {
     "name": "stderr",
     "output_type": "stream",
     "text": [
      "  8%|█████████████▎                                                                                                                                                     | 82/1000 [03:28<38:31,  2.52s/it]"
     ]
    },
    {
     "name": "stdout",
     "output_type": "stream",
     "text": [
      "Training Loss: 0.5643685670515549\n",
      "Validation Loss: 1.1455016800335476\n",
      "Training Accuracy of the network: 78 %\n",
      "Validation Accuracy of the network: 50 %\n",
      "EarlyStopping counter: 5 out of 50\n"
     ]
    },
    {
     "name": "stderr",
     "output_type": "stream",
     "text": [
      "  8%|█████████████▌                                                                                                                                                     | 83/1000 [03:31<39:00,  2.55s/it]"
     ]
    },
    {
     "name": "stdout",
     "output_type": "stream",
     "text": [
      "Training Loss: 0.5584823644139628\n",
      "Validation Loss: 1.1513659034456525\n",
      "Training Accuracy of the network: 78 %\n",
      "Validation Accuracy of the network: 50 %\n",
      "EarlyStopping counter: 6 out of 50\n"
     ]
    },
    {
     "name": "stderr",
     "output_type": "stream",
     "text": [
      "  8%|█████████████▋                                                                                                                                                     | 84/1000 [03:33<39:00,  2.56s/it]"
     ]
    },
    {
     "name": "stdout",
     "output_type": "stream",
     "text": [
      "Training Loss: 0.5584290582362724\n",
      "Validation Loss: 1.1510356324059623\n",
      "Training Accuracy of the network: 78 %\n",
      "Validation Accuracy of the network: 50 %\n",
      "EarlyStopping counter: 7 out of 50\n"
     ]
    },
    {
     "name": "stderr",
     "output_type": "stream",
     "text": [
      "  8%|█████████████▊                                                                                                                                                     | 85/1000 [03:36<39:01,  2.56s/it]"
     ]
    },
    {
     "name": "stdout",
     "output_type": "stream",
     "text": [
      "Training Loss: 0.5546715576269164\n",
      "Validation Loss: 1.1507260646138873\n",
      "Training Accuracy of the network: 78 %\n",
      "Validation Accuracy of the network: 51 %\n",
      "EarlyStopping counter: 8 out of 50\n"
     ]
    },
    {
     "name": "stderr",
     "output_type": "stream",
     "text": [
      "  9%|██████████████                                                                                                                                                     | 86/1000 [03:39<39:42,  2.61s/it]"
     ]
    },
    {
     "name": "stdout",
     "output_type": "stream",
     "text": [
      "Training Loss: 0.5540387774345236\n",
      "Validation Loss: 1.1547059501920427\n",
      "Training Accuracy of the network: 78 %\n",
      "Validation Accuracy of the network: 51 %\n",
      "EarlyStopping counter: 9 out of 50\n"
     ]
    },
    {
     "name": "stderr",
     "output_type": "stream",
     "text": [
      "  9%|██████████████▏                                                                                                                                                    | 87/1000 [03:41<39:37,  2.60s/it]"
     ]
    },
    {
     "name": "stdout",
     "output_type": "stream",
     "text": [
      "Training Loss: 0.5429047846329816\n",
      "Validation Loss: 1.157444087096623\n",
      "Training Accuracy of the network: 80 %\n",
      "Validation Accuracy of the network: 51 %\n",
      "EarlyStopping counter: 10 out of 50\n"
     ]
    },
    {
     "name": "stderr",
     "output_type": "stream",
     "text": [
      "  9%|██████████████▎                                                                                                                                                    | 88/1000 [03:44<38:50,  2.56s/it]"
     ]
    },
    {
     "name": "stdout",
     "output_type": "stream",
     "text": [
      "Training Loss: 0.5443709183052399\n",
      "Validation Loss: 1.1695893457957676\n",
      "Training Accuracy of the network: 79 %\n",
      "Validation Accuracy of the network: 51 %\n",
      "EarlyStopping counter: 11 out of 50\n"
     ]
    },
    {
     "name": "stderr",
     "output_type": "stream",
     "text": [
      "  9%|██████████████▌                                                                                                                                                    | 89/1000 [03:46<38:28,  2.53s/it]"
     ]
    },
    {
     "name": "stdout",
     "output_type": "stream",
     "text": [
      "Training Loss: 0.5454889990767275\n",
      "Validation Loss: 1.1514820269175938\n",
      "Training Accuracy of the network: 78 %\n",
      "Validation Accuracy of the network: 52 %\n",
      "EarlyStopping counter: 12 out of 50\n"
     ]
    },
    {
     "name": "stderr",
     "output_type": "stream",
     "text": [
      "  9%|██████████████▋                                                                                                                                                    | 90/1000 [03:49<38:18,  2.53s/it]"
     ]
    },
    {
     "name": "stdout",
     "output_type": "stream",
     "text": [
      "Training Loss: 0.5278901975277973\n",
      "Validation Loss: 1.1501498000962393\n",
      "Training Accuracy of the network: 79 %\n",
      "Validation Accuracy of the network: 52 %\n",
      "EarlyStopping counter: 13 out of 50\n"
     ]
    },
    {
     "name": "stderr",
     "output_type": "stream",
     "text": [
      "  9%|██████████████▊                                                                                                                                                    | 91/1000 [03:51<38:10,  2.52s/it]"
     ]
    },
    {
     "name": "stdout",
     "output_type": "stream",
     "text": [
      "Training Loss: 0.536840297592183\n",
      "Validation Loss: 1.146164117540632\n",
      "Training Accuracy of the network: 78 %\n",
      "Validation Accuracy of the network: 52 %\n",
      "EarlyStopping counter: 14 out of 50\n"
     ]
    },
    {
     "name": "stderr",
     "output_type": "stream",
     "text": [
      "  9%|██████████████▉                                                                                                                                                    | 92/1000 [03:54<38:20,  2.53s/it]"
     ]
    },
    {
     "name": "stdout",
     "output_type": "stream",
     "text": [
      "Training Loss: 0.5270636793684916\n",
      "Validation Loss: 1.145404236657279\n",
      "Training Accuracy of the network: 80 %\n",
      "Validation Accuracy of the network: 52 %\n",
      "EarlyStopping counter: 15 out of 50\n"
     ]
    },
    {
     "name": "stderr",
     "output_type": "stream",
     "text": [
      "  9%|███████████████▏                                                                                                                                                   | 93/1000 [03:56<38:48,  2.57s/it]"
     ]
    },
    {
     "name": "stdout",
     "output_type": "stream",
     "text": [
      "Training Loss: 0.5266658665774309\n",
      "Validation Loss: 1.1466018063681467\n",
      "Training Accuracy of the network: 79 %\n",
      "Validation Accuracy of the network: 51 %\n",
      "EarlyStopping counter: 16 out of 50\n"
     ]
    },
    {
     "name": "stderr",
     "output_type": "stream",
     "text": [
      "  9%|███████████████▎                                                                                                                                                   | 94/1000 [03:59<38:29,  2.55s/it]"
     ]
    },
    {
     "name": "stdout",
     "output_type": "stream",
     "text": [
      "Training Loss: 0.5088386946641232\n",
      "Validation Loss: 1.1593433669635227\n",
      "Training Accuracy of the network: 80 %\n",
      "Validation Accuracy of the network: 51 %\n",
      "EarlyStopping counter: 17 out of 50\n"
     ]
    },
    {
     "name": "stderr",
     "output_type": "stream",
     "text": [
      " 10%|███████████████▍                                                                                                                                                   | 95/1000 [04:01<39:11,  2.60s/it]"
     ]
    },
    {
     "name": "stdout",
     "output_type": "stream",
     "text": [
      "Training Loss: 0.5065050260636254\n",
      "Validation Loss: 1.1609140464237757\n",
      "Training Accuracy of the network: 80 %\n",
      "Validation Accuracy of the network: 50 %\n",
      "EarlyStopping counter: 18 out of 50\n"
     ]
    },
    {
     "name": "stderr",
     "output_type": "stream",
     "text": [
      " 10%|███████████████▋                                                                                                                                                   | 96/1000 [04:04<38:54,  2.58s/it]"
     ]
    },
    {
     "name": "stdout",
     "output_type": "stream",
     "text": [
      "Training Loss: 0.5055715428476316\n",
      "Validation Loss: 1.1614083119801113\n",
      "Training Accuracy of the network: 81 %\n",
      "Validation Accuracy of the network: 51 %\n",
      "EarlyStopping counter: 19 out of 50\n"
     ]
    },
    {
     "name": "stderr",
     "output_type": "stream",
     "text": [
      " 10%|███████████████▊                                                                                                                                                   | 97/1000 [04:07<38:47,  2.58s/it]"
     ]
    },
    {
     "name": "stdout",
     "output_type": "stream",
     "text": [
      "Training Loss: 0.4847770649804801\n",
      "Validation Loss: 1.1541784150259835\n",
      "Training Accuracy of the network: 82 %\n",
      "Validation Accuracy of the network: 52 %\n",
      "EarlyStopping counter: 20 out of 50\n"
     ]
    },
    {
     "name": "stderr",
     "output_type": "stream",
     "text": [
      " 10%|███████████████▉                                                                                                                                                   | 98/1000 [04:09<38:37,  2.57s/it]"
     ]
    },
    {
     "name": "stdout",
     "output_type": "stream",
     "text": [
      "Training Loss: 0.5028623446714187\n",
      "Validation Loss: 1.1669022457940237\n",
      "Training Accuracy of the network: 80 %\n",
      "Validation Accuracy of the network: 50 %\n",
      "EarlyStopping counter: 21 out of 50\n"
     ]
    },
    {
     "name": "stderr",
     "output_type": "stream",
     "text": [
      " 10%|████████████████▏                                                                                                                                                  | 99/1000 [04:12<38:43,  2.58s/it]"
     ]
    },
    {
     "name": "stdout",
     "output_type": "stream",
     "text": [
      "Training Loss: 0.49690676226780034\n",
      "Validation Loss: 1.163363996573857\n",
      "Training Accuracy of the network: 81 %\n",
      "Validation Accuracy of the network: 51 %\n",
      "EarlyStopping counter: 22 out of 50\n"
     ]
    },
    {
     "name": "stderr",
     "output_type": "stream",
     "text": [
      " 10%|████████████████▏                                                                                                                                                 | 100/1000 [04:14<38:52,  2.59s/it]"
     ]
    },
    {
     "name": "stdout",
     "output_type": "stream",
     "text": [
      "Training Loss: 0.499042157303083\n",
      "Validation Loss: 1.1651225004877364\n",
      "Training Accuracy of the network: 80 %\n",
      "Validation Accuracy of the network: 52 %\n",
      "EarlyStopping counter: 23 out of 50\n"
     ]
    },
    {
     "name": "stderr",
     "output_type": "stream",
     "text": [
      " 10%|████████████████▎                                                                                                                                                 | 101/1000 [04:17<39:02,  2.61s/it]"
     ]
    },
    {
     "name": "stdout",
     "output_type": "stream",
     "text": [
      "Training Loss: 0.48366898805766867\n",
      "Validation Loss: 1.1672467947006226\n",
      "Training Accuracy of the network: 81 %\n",
      "Validation Accuracy of the network: 52 %\n",
      "EarlyStopping counter: 24 out of 50\n"
     ]
    },
    {
     "name": "stderr",
     "output_type": "stream",
     "text": [
      " 10%|████████████████▌                                                                                                                                                 | 102/1000 [04:20<39:01,  2.61s/it]"
     ]
    },
    {
     "name": "stdout",
     "output_type": "stream",
     "text": [
      "Training Loss: 0.48490687823462963\n",
      "Validation Loss: 1.1644762635231019\n",
      "Training Accuracy of the network: 81 %\n",
      "Validation Accuracy of the network: 52 %\n",
      "EarlyStopping counter: 25 out of 50\n"
     ]
    },
    {
     "name": "stderr",
     "output_type": "stream",
     "text": [
      " 10%|████████████████▋                                                                                                                                                 | 103/1000 [04:22<38:54,  2.60s/it]"
     ]
    },
    {
     "name": "stdout",
     "output_type": "stream",
     "text": [
      "Training Loss: 0.4816611190478358\n",
      "Validation Loss: 1.1624920776912144\n",
      "Training Accuracy of the network: 80 %\n",
      "Validation Accuracy of the network: 53 %\n",
      "EarlyStopping counter: 26 out of 50\n"
     ]
    },
    {
     "name": "stderr",
     "output_type": "stream",
     "text": [
      " 10%|████████████████▊                                                                                                                                                 | 104/1000 [04:24<37:27,  2.51s/it]"
     ]
    },
    {
     "name": "stdout",
     "output_type": "stream",
     "text": [
      "Training Loss: 0.4665570151789681\n",
      "Validation Loss: 1.1683370130402702\n",
      "Training Accuracy of the network: 82 %\n",
      "Validation Accuracy of the network: 53 %\n",
      "EarlyStopping counter: 27 out of 50\n"
     ]
    },
    {
     "name": "stderr",
     "output_type": "stream",
     "text": [
      " 10%|█████████████████                                                                                                                                                 | 105/1000 [04:27<37:38,  2.52s/it]"
     ]
    },
    {
     "name": "stdout",
     "output_type": "stream",
     "text": [
      "Training Loss: 0.4760395893354671\n",
      "Validation Loss: 1.1718116981642588\n",
      "Training Accuracy of the network: 81 %\n",
      "Validation Accuracy of the network: 52 %\n",
      "EarlyStopping counter: 28 out of 50\n"
     ]
    },
    {
     "name": "stderr",
     "output_type": "stream",
     "text": [
      " 11%|█████████████████▏                                                                                                                                                | 106/1000 [04:30<37:41,  2.53s/it]"
     ]
    },
    {
     "name": "stdout",
     "output_type": "stream",
     "text": [
      "Training Loss: 0.469407975356486\n",
      "Validation Loss: 1.1725983313151769\n",
      "Training Accuracy of the network: 81 %\n",
      "Validation Accuracy of the network: 51 %\n",
      "EarlyStopping counter: 29 out of 50\n"
     ]
    },
    {
     "name": "stderr",
     "output_type": "stream",
     "text": [
      " 11%|█████████████████▎                                                                                                                                                | 107/1000 [04:32<37:42,  2.53s/it]"
     ]
    },
    {
     "name": "stdout",
     "output_type": "stream",
     "text": [
      "Training Loss: 0.46569963032548467\n",
      "Validation Loss: 1.161228540965489\n",
      "Training Accuracy of the network: 82 %\n",
      "Validation Accuracy of the network: 52 %\n",
      "EarlyStopping counter: 30 out of 50\n"
     ]
    },
    {
     "name": "stderr",
     "output_type": "stream",
     "text": [
      " 11%|█████████████████▍                                                                                                                                                | 108/1000 [04:35<37:09,  2.50s/it]"
     ]
    },
    {
     "name": "stdout",
     "output_type": "stream",
     "text": [
      "Training Loss: 0.4773793974351408\n",
      "Validation Loss: 1.1651335324559893\n",
      "Training Accuracy of the network: 81 %\n",
      "Validation Accuracy of the network: 53 %\n",
      "EarlyStopping counter: 31 out of 50\n"
     ]
    },
    {
     "name": "stderr",
     "output_type": "stream",
     "text": [
      " 11%|█████████████████▋                                                                                                                                                | 109/1000 [04:37<36:58,  2.49s/it]"
     ]
    },
    {
     "name": "stdout",
     "output_type": "stream",
     "text": [
      "Training Loss: 0.4681555565406123\n",
      "Validation Loss: 1.1655208383287703\n",
      "Training Accuracy of the network: 82 %\n",
      "Validation Accuracy of the network: 52 %\n",
      "EarlyStopping counter: 32 out of 50\n"
     ]
    },
    {
     "name": "stderr",
     "output_type": "stream",
     "text": [
      " 11%|█████████████████▊                                                                                                                                                | 110/1000 [04:40<37:06,  2.50s/it]"
     ]
    },
    {
     "name": "stdout",
     "output_type": "stream",
     "text": [
      "Training Loss: 0.45704542965277273\n",
      "Validation Loss: 1.1597483481679645\n",
      "Training Accuracy of the network: 82 %\n",
      "Validation Accuracy of the network: 54 %\n",
      "EarlyStopping counter: 33 out of 50\n"
     ]
    },
    {
     "name": "stderr",
     "output_type": "stream",
     "text": [
      " 11%|█████████████████▉                                                                                                                                                | 111/1000 [04:42<37:29,  2.53s/it]"
     ]
    },
    {
     "name": "stdout",
     "output_type": "stream",
     "text": [
      "Training Loss: 0.4550975872392672\n",
      "Validation Loss: 1.180886891910008\n",
      "Training Accuracy of the network: 82 %\n",
      "Validation Accuracy of the network: 52 %\n",
      "EarlyStopping counter: 34 out of 50\n"
     ]
    },
    {
     "name": "stderr",
     "output_type": "stream",
     "text": [
      " 11%|██████████████████▏                                                                                                                                               | 112/1000 [04:45<37:36,  2.54s/it]"
     ]
    },
    {
     "name": "stdout",
     "output_type": "stream",
     "text": [
      "Training Loss: 0.45093922548508947\n",
      "Validation Loss: 1.181471245629447\n",
      "Training Accuracy of the network: 83 %\n",
      "Validation Accuracy of the network: 51 %\n",
      "EarlyStopping counter: 35 out of 50\n"
     ]
    },
    {
     "name": "stderr",
     "output_type": "stream",
     "text": [
      " 11%|██████████████████▎                                                                                                                                               | 113/1000 [04:47<37:25,  2.53s/it]"
     ]
    },
    {
     "name": "stdout",
     "output_type": "stream",
     "text": [
      "Training Loss: 0.4614139710455134\n",
      "Validation Loss: 1.1826063190187728\n",
      "Training Accuracy of the network: 82 %\n",
      "Validation Accuracy of the network: 52 %\n",
      "EarlyStopping counter: 36 out of 50\n"
     ]
    },
    {
     "name": "stderr",
     "output_type": "stream",
     "text": [
      " 11%|██████████████████▍                                                                                                                                               | 114/1000 [04:50<37:10,  2.52s/it]"
     ]
    },
    {
     "name": "stdout",
     "output_type": "stream",
     "text": [
      "Training Loss: 0.45457202671736857\n",
      "Validation Loss: 1.1860038587025235\n",
      "Training Accuracy of the network: 82 %\n",
      "Validation Accuracy of the network: 52 %\n",
      "EarlyStopping counter: 37 out of 50\n"
     ]
    },
    {
     "name": "stderr",
     "output_type": "stream",
     "text": [
      " 12%|██████████████████▋                                                                                                                                               | 115/1000 [04:52<37:24,  2.54s/it]"
     ]
    },
    {
     "name": "stdout",
     "output_type": "stream",
     "text": [
      "Training Loss: 0.424250756548144\n",
      "Validation Loss: 1.1834540367126465\n",
      "Training Accuracy of the network: 84 %\n",
      "Validation Accuracy of the network: 53 %\n",
      "EarlyStopping counter: 38 out of 50\n"
     ]
    },
    {
     "name": "stderr",
     "output_type": "stream",
     "text": [
      " 12%|██████████████████▊                                                                                                                                               | 116/1000 [04:55<37:13,  2.53s/it]"
     ]
    },
    {
     "name": "stdout",
     "output_type": "stream",
     "text": [
      "Training Loss: 0.44036999444706715\n",
      "Validation Loss: 1.18217522587095\n",
      "Training Accuracy of the network: 83 %\n",
      "Validation Accuracy of the network: 53 %\n",
      "EarlyStopping counter: 39 out of 50\n"
     ]
    },
    {
     "name": "stderr",
     "output_type": "stream",
     "text": [
      " 12%|██████████████████▉                                                                                                                                               | 117/1000 [04:57<36:48,  2.50s/it]"
     ]
    },
    {
     "name": "stdout",
     "output_type": "stream",
     "text": [
      "Training Loss: 0.43948858070686675\n",
      "Validation Loss: 1.1835954189300537\n",
      "Training Accuracy of the network: 83 %\n",
      "Validation Accuracy of the network: 52 %\n",
      "EarlyStopping counter: 40 out of 50\n"
     ]
    },
    {
     "name": "stderr",
     "output_type": "stream",
     "text": [
      " 12%|███████████████████                                                                                                                                               | 118/1000 [05:00<36:46,  2.50s/it]"
     ]
    },
    {
     "name": "stdout",
     "output_type": "stream",
     "text": [
      "Training Loss: 0.44920140055372665\n",
      "Validation Loss: 1.1801123431750706\n",
      "Training Accuracy of the network: 82 %\n",
      "Validation Accuracy of the network: 54 %\n",
      "EarlyStopping counter: 41 out of 50\n"
     ]
    },
    {
     "name": "stderr",
     "output_type": "stream",
     "text": [
      " 12%|███████████████████▎                                                                                                                                              | 119/1000 [05:02<37:28,  2.55s/it]"
     ]
    },
    {
     "name": "stdout",
     "output_type": "stream",
     "text": [
      "Training Loss: 0.45696271278396033\n",
      "Validation Loss: 1.1928193552153452\n",
      "Training Accuracy of the network: 82 %\n",
      "Validation Accuracy of the network: 51 %\n",
      "EarlyStopping counter: 42 out of 50\n"
     ]
    },
    {
     "name": "stderr",
     "output_type": "stream",
     "text": [
      " 12%|███████████████████▍                                                                                                                                              | 120/1000 [05:05<36:37,  2.50s/it]"
     ]
    },
    {
     "name": "stdout",
     "output_type": "stream",
     "text": [
      "Training Loss: 0.43953857288790354\n",
      "Validation Loss: 1.1820520418030875\n",
      "Training Accuracy of the network: 83 %\n",
      "Validation Accuracy of the network: 53 %\n",
      "EarlyStopping counter: 43 out of 50\n"
     ]
    },
    {
     "name": "stderr",
     "output_type": "stream",
     "text": [
      " 12%|███████████████████▌                                                                                                                                              | 121/1000 [05:07<36:56,  2.52s/it]"
     ]
    },
    {
     "name": "stdout",
     "output_type": "stream",
     "text": [
      "Training Loss: 0.426581644270893\n",
      "Validation Loss: 1.179823659147535\n",
      "Training Accuracy of the network: 83 %\n",
      "Validation Accuracy of the network: 54 %\n",
      "EarlyStopping counter: 44 out of 50\n"
     ]
    },
    {
     "name": "stderr",
     "output_type": "stream",
     "text": [
      " 12%|███████████████████▊                                                                                                                                              | 122/1000 [05:10<36:49,  2.52s/it]"
     ]
    },
    {
     "name": "stdout",
     "output_type": "stream",
     "text": [
      "Training Loss: 0.4331052627522444\n",
      "Validation Loss: 1.1766251870564053\n",
      "Training Accuracy of the network: 83 %\n",
      "Validation Accuracy of the network: 52 %\n",
      "EarlyStopping counter: 45 out of 50\n"
     ]
    },
    {
     "name": "stderr",
     "output_type": "stream",
     "text": [
      " 12%|███████████████████▉                                                                                                                                              | 123/1000 [05:12<36:42,  2.51s/it]"
     ]
    },
    {
     "name": "stdout",
     "output_type": "stream",
     "text": [
      "Training Loss: 0.43038905409596645\n",
      "Validation Loss: 1.1744014024734497\n",
      "Training Accuracy of the network: 83 %\n",
      "Validation Accuracy of the network: 53 %\n",
      "EarlyStopping counter: 46 out of 50\n"
     ]
    },
    {
     "name": "stderr",
     "output_type": "stream",
     "text": [
      " 12%|████████████████████                                                                                                                                              | 124/1000 [05:15<36:34,  2.50s/it]"
     ]
    },
    {
     "name": "stdout",
     "output_type": "stream",
     "text": [
      "Training Loss: 0.4066632897525594\n",
      "Validation Loss: 1.1774370329720634\n",
      "Training Accuracy of the network: 84 %\n",
      "Validation Accuracy of the network: 53 %\n",
      "EarlyStopping counter: 47 out of 50\n"
     ]
    },
    {
     "name": "stderr",
     "output_type": "stream",
     "text": [
      " 12%|████████████████████▎                                                                                                                                             | 125/1000 [05:17<36:48,  2.52s/it]"
     ]
    },
    {
     "name": "stdout",
     "output_type": "stream",
     "text": [
      "Training Loss: 0.41515713521157915\n",
      "Validation Loss: 1.17899340902056\n",
      "Training Accuracy of the network: 84 %\n",
      "Validation Accuracy of the network: 55 %\n",
      "EarlyStopping counter: 48 out of 50\n"
     ]
    },
    {
     "name": "stderr",
     "output_type": "stream",
     "text": [
      " 13%|████████████████████▍                                                                                                                                             | 126/1000 [05:20<37:14,  2.56s/it]"
     ]
    },
    {
     "name": "stdout",
     "output_type": "stream",
     "text": [
      "Training Loss: 0.4142927102343031\n",
      "Validation Loss: 1.1839601244245257\n",
      "Training Accuracy of the network: 84 %\n",
      "Validation Accuracy of the network: 53 %\n",
      "EarlyStopping counter: 49 out of 50\n"
     ]
    },
    {
     "name": "stderr",
     "output_type": "stream",
     "text": [
      " 13%|████████████████████▍                                                                                                                                             | 126/1000 [05:23<37:21,  2.56s/it]"
     ]
    },
    {
     "name": "stdout",
     "output_type": "stream",
     "text": [
      "Training Loss: 0.4056018101375388\n",
      "Validation Loss: 1.1793294548988342\n",
      "Training Accuracy of the network: 86 %\n",
      "Validation Accuracy of the network: 54 %\n",
      "EarlyStopping counter: 50 out of 50\n",
      "Early Stopping\n",
      "Testing Loss: 1.1394407749176025\n",
      "Testing Accuracy of the network: 51 %\n"
     ]
    },
    {
     "name": "stderr",
     "output_type": "stream",
     "text": [
      "\n",
      "  0%|▏                                                                                                                                                                   | 1/1000 [00:02<45:33,  2.74s/it]"
     ]
    },
    {
     "name": "stdout",
     "output_type": "stream",
     "text": [
      "Training Loss: 1.5849353774734165\n",
      "Validation Loss: 1.4128742728914534\n",
      "Training Accuracy of the network: 23 %\n",
      "Validation Accuracy of the network: 28 %\n",
      "Validation loss decreased (inf --> 1.412874).  Saving model ...\n"
     ]
    },
    {
     "name": "stderr",
     "output_type": "stream",
     "text": [
      "  0%|▎                                                                                                                                                                   | 2/1000 [00:05<44:38,  2.68s/it]"
     ]
    },
    {
     "name": "stdout",
     "output_type": "stream",
     "text": [
      "Training Loss: 1.4742196340491807\n",
      "Validation Loss: 1.395287357057844\n",
      "Training Accuracy of the network: 27 %\n",
      "Validation Accuracy of the network: 29 %\n",
      "Validation loss decreased (1.412874 --> 1.395287).  Saving model ...\n"
     ]
    },
    {
     "name": "stderr",
     "output_type": "stream",
     "text": [
      "  0%|▍                                                                                                                                                                   | 3/1000 [00:08<44:34,  2.68s/it]"
     ]
    },
    {
     "name": "stdout",
     "output_type": "stream",
     "text": [
      "Training Loss: 1.4605622334756714\n",
      "Validation Loss: 1.3844441516058785\n",
      "Training Accuracy of the network: 28 %\n",
      "Validation Accuracy of the network: 30 %\n",
      "Validation loss decreased (1.395287 --> 1.384444).  Saving model ...\n"
     ]
    },
    {
     "name": "stderr",
     "output_type": "stream",
     "text": [
      "  0%|▋                                                                                                                                                                   | 4/1000 [00:10<44:04,  2.66s/it]"
     ]
    },
    {
     "name": "stdout",
     "output_type": "stream",
     "text": [
      "Training Loss: 1.4357838820720064\n",
      "Validation Loss: 1.3761375529425486\n",
      "Training Accuracy of the network: 29 %\n",
      "Validation Accuracy of the network: 31 %\n",
      "Validation loss decreased (1.384444 --> 1.376138).  Saving model ...\n"
     ]
    },
    {
     "name": "stderr",
     "output_type": "stream",
     "text": [
      "  0%|▊                                                                                                                                                                   | 5/1000 [00:13<43:45,  2.64s/it]"
     ]
    },
    {
     "name": "stdout",
     "output_type": "stream",
     "text": [
      "Training Loss: 1.4170177734416465\n",
      "Validation Loss: 1.364326068333217\n",
      "Training Accuracy of the network: 29 %\n",
      "Validation Accuracy of the network: 30 %\n",
      "Validation loss decreased (1.376138 --> 1.364326).  Saving model ...\n"
     ]
    },
    {
     "name": "stderr",
     "output_type": "stream",
     "text": [
      "  1%|▉                                                                                                                                                                   | 6/1000 [00:15<43:33,  2.63s/it]"
     ]
    },
    {
     "name": "stdout",
     "output_type": "stream",
     "text": [
      "Training Loss: 1.3736695936624554\n",
      "Validation Loss: 1.360831550189427\n",
      "Training Accuracy of the network: 33 %\n",
      "Validation Accuracy of the network: 31 %\n",
      "Validation loss decreased (1.364326 --> 1.360832).  Saving model ...\n"
     ]
    },
    {
     "name": "stderr",
     "output_type": "stream",
     "text": [
      "  1%|█▏                                                                                                                                                                  | 7/1000 [00:18<43:11,  2.61s/it]"
     ]
    },
    {
     "name": "stdout",
     "output_type": "stream",
     "text": [
      "Training Loss: 1.3409100209457288\n",
      "Validation Loss: 1.354824243273054\n",
      "Training Accuracy of the network: 36 %\n",
      "Validation Accuracy of the network: 33 %\n",
      "Validation loss decreased (1.360832 --> 1.354824).  Saving model ...\n"
     ]
    },
    {
     "name": "stderr",
     "output_type": "stream",
     "text": [
      "  1%|█▎                                                                                                                                                                  | 8/1000 [00:21<42:45,  2.59s/it]"
     ]
    },
    {
     "name": "stdout",
     "output_type": "stream",
     "text": [
      "Training Loss: 1.329866644696913\n",
      "Validation Loss: 1.3475868940353393\n",
      "Training Accuracy of the network: 36 %\n",
      "Validation Accuracy of the network: 32 %\n",
      "Validation loss decreased (1.354824 --> 1.347587).  Saving model ...\n"
     ]
    },
    {
     "name": "stderr",
     "output_type": "stream",
     "text": [
      "  1%|█▍                                                                                                                                                                  | 9/1000 [00:23<43:29,  2.63s/it]"
     ]
    },
    {
     "name": "stdout",
     "output_type": "stream",
     "text": [
      "Training Loss: 1.3131148879942687\n",
      "Validation Loss: 1.3425962141581944\n",
      "Training Accuracy of the network: 38 %\n",
      "Validation Accuracy of the network: 33 %\n",
      "Validation loss decreased (1.347587 --> 1.342596).  Saving model ...\n"
     ]
    },
    {
     "name": "stderr",
     "output_type": "stream",
     "text": [
      "  1%|█▋                                                                                                                                                                 | 10/1000 [00:26<42:48,  2.59s/it]"
     ]
    },
    {
     "name": "stdout",
     "output_type": "stream",
     "text": [
      "Training Loss: 1.2842576438966005\n",
      "Validation Loss: 1.3399579695292883\n",
      "Training Accuracy of the network: 39 %\n",
      "Validation Accuracy of the network: 33 %\n",
      "Validation loss decreased (1.342596 --> 1.339958).  Saving model ...\n"
     ]
    },
    {
     "name": "stderr",
     "output_type": "stream",
     "text": [
      "  1%|█▊                                                                                                                                                                 | 11/1000 [00:28<42:30,  2.58s/it]"
     ]
    },
    {
     "name": "stdout",
     "output_type": "stream",
     "text": [
      "Training Loss: 1.2690403349157693\n",
      "Validation Loss: 1.3357038327625819\n",
      "Training Accuracy of the network: 39 %\n",
      "Validation Accuracy of the network: 35 %\n",
      "Validation loss decreased (1.339958 --> 1.335704).  Saving model ...\n"
     ]
    },
    {
     "name": "stderr",
     "output_type": "stream",
     "text": [
      "  1%|█▉                                                                                                                                                                 | 12/1000 [00:31<41:51,  2.54s/it]"
     ]
    },
    {
     "name": "stdout",
     "output_type": "stream",
     "text": [
      "Training Loss: 1.2520088894643646\n",
      "Validation Loss: 1.3328545263835363\n",
      "Training Accuracy of the network: 41 %\n",
      "Validation Accuracy of the network: 35 %\n",
      "Validation loss decreased (1.335704 --> 1.332855).  Saving model ...\n"
     ]
    },
    {
     "name": "stderr",
     "output_type": "stream",
     "text": [
      "  1%|██                                                                                                                                                                 | 13/1000 [00:33<42:07,  2.56s/it]"
     ]
    },
    {
     "name": "stdout",
     "output_type": "stream",
     "text": [
      "Training Loss: 1.2445836702118749\n",
      "Validation Loss: 1.329529414858137\n",
      "Training Accuracy of the network: 42 %\n",
      "Validation Accuracy of the network: 35 %\n",
      "Validation loss decreased (1.332855 --> 1.329529).  Saving model ...\n"
     ]
    },
    {
     "name": "stderr",
     "output_type": "stream",
     "text": [
      "  1%|██▎                                                                                                                                                                | 14/1000 [00:36<42:14,  2.57s/it]"
     ]
    },
    {
     "name": "stdout",
     "output_type": "stream",
     "text": [
      "Training Loss: 1.2166914231535317\n",
      "Validation Loss: 1.3228829622268676\n",
      "Training Accuracy of the network: 45 %\n",
      "Validation Accuracy of the network: 36 %\n",
      "Validation loss decreased (1.329529 --> 1.322883).  Saving model ...\n"
     ]
    },
    {
     "name": "stderr",
     "output_type": "stream",
     "text": [
      "  2%|██▍                                                                                                                                                                | 15/1000 [00:39<42:25,  2.58s/it]"
     ]
    },
    {
     "name": "stdout",
     "output_type": "stream",
     "text": [
      "Training Loss: 1.202380319868309\n",
      "Validation Loss: 1.3200810704912458\n",
      "Training Accuracy of the network: 45 %\n",
      "Validation Accuracy of the network: 36 %\n",
      "Validation loss decreased (1.322883 --> 1.320081).  Saving model ...\n"
     ]
    },
    {
     "name": "stderr",
     "output_type": "stream",
     "text": [
      "  2%|██▌                                                                                                                                                                | 16/1000 [00:41<42:20,  2.58s/it]"
     ]
    },
    {
     "name": "stdout",
     "output_type": "stream",
     "text": [
      "Training Loss: 1.180704920620158\n",
      "Validation Loss: 1.3140052148274013\n",
      "Training Accuracy of the network: 47 %\n",
      "Validation Accuracy of the network: 37 %\n",
      "Validation loss decreased (1.320081 --> 1.314005).  Saving model ...\n"
     ]
    },
    {
     "name": "stderr",
     "output_type": "stream",
     "text": [
      "  2%|██▊                                                                                                                                                                | 17/1000 [00:44<41:40,  2.54s/it]"
     ]
    },
    {
     "name": "stdout",
     "output_type": "stream",
     "text": [
      "Training Loss: 1.173729474129884\n",
      "Validation Loss: 1.3084222112383161\n",
      "Training Accuracy of the network: 47 %\n",
      "Validation Accuracy of the network: 38 %\n",
      "Validation loss decreased (1.314005 --> 1.308422).  Saving model ...\n"
     ]
    },
    {
     "name": "stderr",
     "output_type": "stream",
     "text": [
      "  2%|██▉                                                                                                                                                                | 18/1000 [00:46<41:42,  2.55s/it]"
     ]
    },
    {
     "name": "stdout",
     "output_type": "stream",
     "text": [
      "Training Loss: 1.1559437686118528\n",
      "Validation Loss: 1.3066899061203003\n",
      "Training Accuracy of the network: 48 %\n",
      "Validation Accuracy of the network: 37 %\n",
      "Validation loss decreased (1.308422 --> 1.306690).  Saving model ...\n"
     ]
    },
    {
     "name": "stderr",
     "output_type": "stream",
     "text": [
      "  2%|███                                                                                                                                                                | 19/1000 [00:49<41:31,  2.54s/it]"
     ]
    },
    {
     "name": "stdout",
     "output_type": "stream",
     "text": [
      "Training Loss: 1.145606627498848\n",
      "Validation Loss: 1.3015540429524013\n",
      "Training Accuracy of the network: 50 %\n",
      "Validation Accuracy of the network: 39 %\n",
      "Validation loss decreased (1.306690 --> 1.301554).  Saving model ...\n"
     ]
    },
    {
     "name": "stderr",
     "output_type": "stream",
     "text": [
      "  2%|███▎                                                                                                                                                               | 20/1000 [00:51<42:12,  2.58s/it]"
     ]
    },
    {
     "name": "stdout",
     "output_type": "stream",
     "text": [
      "Training Loss: 1.1308655423530634\n",
      "Validation Loss: 1.2949722971235003\n",
      "Training Accuracy of the network: 51 %\n",
      "Validation Accuracy of the network: 39 %\n",
      "Validation loss decreased (1.301554 --> 1.294972).  Saving model ...\n"
     ]
    },
    {
     "name": "stderr",
     "output_type": "stream",
     "text": [
      "  2%|███▍                                                                                                                                                               | 21/1000 [00:54<41:49,  2.56s/it]"
     ]
    },
    {
     "name": "stdout",
     "output_type": "stream",
     "text": [
      "Training Loss: 1.110748628343361\n",
      "Validation Loss: 1.2938824313027517\n",
      "Training Accuracy of the network: 51 %\n",
      "Validation Accuracy of the network: 38 %\n",
      "Validation loss decreased (1.294972 --> 1.293882).  Saving model ...\n"
     ]
    },
    {
     "name": "stderr",
     "output_type": "stream",
     "text": [
      "  2%|███▌                                                                                                                                                               | 22/1000 [00:56<41:25,  2.54s/it]"
     ]
    },
    {
     "name": "stdout",
     "output_type": "stream",
     "text": [
      "Training Loss: 1.0935726865478184\n",
      "Validation Loss: 1.2892529964447021\n",
      "Training Accuracy of the network: 53 %\n",
      "Validation Accuracy of the network: 38 %\n",
      "Validation loss decreased (1.293882 --> 1.289253).  Saving model ...\n"
     ]
    },
    {
     "name": "stderr",
     "output_type": "stream",
     "text": [
      "  2%|███▋                                                                                                                                                               | 23/1000 [00:59<40:07,  2.46s/it]"
     ]
    },
    {
     "name": "stdout",
     "output_type": "stream",
     "text": [
      "Training Loss: 1.0830197576163472\n",
      "Validation Loss: 1.2818896991865976\n",
      "Training Accuracy of the network: 53 %\n",
      "Validation Accuracy of the network: 41 %\n",
      "Validation loss decreased (1.289253 --> 1.281890).  Saving model ...\n"
     ]
    },
    {
     "name": "stderr",
     "output_type": "stream",
     "text": [
      "  2%|███▉                                                                                                                                                               | 24/1000 [01:01<40:26,  2.49s/it]"
     ]
    },
    {
     "name": "stdout",
     "output_type": "stream",
     "text": [
      "Training Loss: 1.0716645778089329\n",
      "Validation Loss: 1.2766195161002023\n",
      "Training Accuracy of the network: 54 %\n",
      "Validation Accuracy of the network: 41 %\n",
      "Validation loss decreased (1.281890 --> 1.276620).  Saving model ...\n"
     ]
    },
    {
     "name": "stderr",
     "output_type": "stream",
     "text": [
      "  2%|████                                                                                                                                                               | 25/1000 [01:04<40:50,  2.51s/it]"
     ]
    },
    {
     "name": "stdout",
     "output_type": "stream",
     "text": [
      "Training Loss: 1.0482897058777187\n",
      "Validation Loss: 1.268527923311506\n",
      "Training Accuracy of the network: 56 %\n",
      "Validation Accuracy of the network: 42 %\n",
      "Validation loss decreased (1.276620 --> 1.268528).  Saving model ...\n"
     ]
    },
    {
     "name": "stderr",
     "output_type": "stream",
     "text": [
      "  3%|████▏                                                                                                                                                              | 26/1000 [01:06<41:34,  2.56s/it]"
     ]
    },
    {
     "name": "stdout",
     "output_type": "stream",
     "text": [
      "Training Loss: 1.0287101765473683\n",
      "Validation Loss: 1.2633639080183847\n",
      "Training Accuracy of the network: 57 %\n",
      "Validation Accuracy of the network: 42 %\n",
      "Validation loss decreased (1.268528 --> 1.263364).  Saving model ...\n"
     ]
    },
    {
     "name": "stderr",
     "output_type": "stream",
     "text": [
      "  3%|████▍                                                                                                                                                              | 27/1000 [01:09<41:44,  2.57s/it]"
     ]
    },
    {
     "name": "stdout",
     "output_type": "stream",
     "text": [
      "Training Loss: 1.0262577710808187\n",
      "Validation Loss: 1.2572121892656598\n",
      "Training Accuracy of the network: 57 %\n",
      "Validation Accuracy of the network: 43 %\n",
      "Validation loss decreased (1.263364 --> 1.257212).  Saving model ...\n"
     ]
    },
    {
     "name": "stderr",
     "output_type": "stream",
     "text": [
      "  3%|████▌                                                                                                                                                              | 28/1000 [01:12<41:47,  2.58s/it]"
     ]
    },
    {
     "name": "stdout",
     "output_type": "stream",
     "text": [
      "Training Loss: 1.0031916183837946\n",
      "Validation Loss: 1.2595412492752076\n",
      "Training Accuracy of the network: 58 %\n",
      "Validation Accuracy of the network: 42 %\n",
      "EarlyStopping counter: 1 out of 50\n"
     ]
    },
    {
     "name": "stderr",
     "output_type": "stream",
     "text": [
      "  3%|████▋                                                                                                                                                              | 29/1000 [01:14<41:33,  2.57s/it]"
     ]
    },
    {
     "name": "stdout",
     "output_type": "stream",
     "text": [
      "Training Loss: 0.9873557203057883\n",
      "Validation Loss: 1.2524153198514665\n",
      "Training Accuracy of the network: 59 %\n",
      "Validation Accuracy of the network: 42 %\n",
      "Validation loss decreased (1.257212 --> 1.252415).  Saving model ...\n"
     ]
    },
    {
     "name": "stderr",
     "output_type": "stream",
     "text": [
      "  3%|████▉                                                                                                                                                              | 30/1000 [01:17<42:04,  2.60s/it]"
     ]
    },
    {
     "name": "stdout",
     "output_type": "stream",
     "text": [
      "Training Loss: 0.9720008610815242\n",
      "Validation Loss: 1.2460921679224286\n",
      "Training Accuracy of the network: 60 %\n",
      "Validation Accuracy of the network: 43 %\n",
      "Validation loss decreased (1.252415 --> 1.246092).  Saving model ...\n"
     ]
    },
    {
     "name": "stderr",
     "output_type": "stream",
     "text": [
      "  3%|█████                                                                                                                                                              | 31/1000 [01:19<41:23,  2.56s/it]"
     ]
    },
    {
     "name": "stdout",
     "output_type": "stream",
     "text": [
      "Training Loss: 0.9703457536904708\n",
      "Validation Loss: 1.2436633944511413\n",
      "Training Accuracy of the network: 60 %\n",
      "Validation Accuracy of the network: 44 %\n",
      "Validation loss decreased (1.246092 --> 1.243663).  Saving model ...\n"
     ]
    },
    {
     "name": "stderr",
     "output_type": "stream",
     "text": [
      "  3%|█████▏                                                                                                                                                             | 32/1000 [01:22<41:21,  2.56s/it]"
     ]
    },
    {
     "name": "stdout",
     "output_type": "stream",
     "text": [
      "Training Loss: 0.9654549610787544\n",
      "Validation Loss: 1.2417550291333879\n",
      "Training Accuracy of the network: 59 %\n",
      "Validation Accuracy of the network: 43 %\n",
      "Validation loss decreased (1.243663 --> 1.241755).  Saving model ...\n"
     ]
    },
    {
     "name": "stderr",
     "output_type": "stream",
     "text": [
      "  3%|█████▍                                                                                                                                                             | 33/1000 [01:24<41:12,  2.56s/it]"
     ]
    },
    {
     "name": "stdout",
     "output_type": "stream",
     "text": [
      "Training Loss: 0.9439649996550187\n",
      "Validation Loss: 1.2367954186030796\n",
      "Training Accuracy of the network: 63 %\n",
      "Validation Accuracy of the network: 44 %\n",
      "Validation loss decreased (1.241755 --> 1.236795).  Saving model ...\n"
     ]
    },
    {
     "name": "stderr",
     "output_type": "stream",
     "text": [
      "  3%|█████▌                                                                                                                                                             | 34/1000 [01:27<41:16,  2.56s/it]"
     ]
    },
    {
     "name": "stdout",
     "output_type": "stream",
     "text": [
      "Training Loss: 0.9315336385498876\n",
      "Validation Loss: 1.2330565214157105\n",
      "Training Accuracy of the network: 62 %\n",
      "Validation Accuracy of the network: 44 %\n",
      "Validation loss decreased (1.236795 --> 1.233057).  Saving model ...\n"
     ]
    },
    {
     "name": "stderr",
     "output_type": "stream",
     "text": [
      "  4%|█████▋                                                                                                                                                             | 35/1000 [01:30<41:21,  2.57s/it]"
     ]
    },
    {
     "name": "stdout",
     "output_type": "stream",
     "text": [
      "Training Loss: 0.9132063760273699\n",
      "Validation Loss: 1.2303102118628366\n",
      "Training Accuracy of the network: 63 %\n",
      "Validation Accuracy of the network: 44 %\n",
      "Validation loss decreased (1.233057 --> 1.230310).  Saving model ...\n"
     ]
    },
    {
     "name": "stderr",
     "output_type": "stream",
     "text": [
      "  4%|█████▊                                                                                                                                                             | 36/1000 [01:32<41:28,  2.58s/it]"
     ]
    },
    {
     "name": "stdout",
     "output_type": "stream",
     "text": [
      "Training Loss: 0.9126343204491381\n",
      "Validation Loss: 1.2319410375186375\n",
      "Training Accuracy of the network: 64 %\n",
      "Validation Accuracy of the network: 44 %\n",
      "EarlyStopping counter: 1 out of 50\n"
     ]
    },
    {
     "name": "stderr",
     "output_type": "stream",
     "text": [
      "  4%|██████                                                                                                                                                             | 37/1000 [01:35<41:00,  2.55s/it]"
     ]
    },
    {
     "name": "stdout",
     "output_type": "stream",
     "text": [
      "Training Loss: 0.8989964660958968\n",
      "Validation Loss: 1.22222284419196\n",
      "Training Accuracy of the network: 65 %\n",
      "Validation Accuracy of the network: 45 %\n",
      "Validation loss decreased (1.230310 --> 1.222223).  Saving model ...\n"
     ]
    },
    {
     "name": "stderr",
     "output_type": "stream",
     "text": [
      "  4%|██████▏                                                                                                                                                            | 38/1000 [01:37<41:04,  2.56s/it]"
     ]
    },
    {
     "name": "stdout",
     "output_type": "stream",
     "text": [
      "Training Loss: 0.8789221920828888\n",
      "Validation Loss: 1.2212115134511674\n",
      "Training Accuracy of the network: 65 %\n",
      "Validation Accuracy of the network: 44 %\n",
      "Validation loss decreased (1.222223 --> 1.221212).  Saving model ...\n"
     ]
    },
    {
     "name": "stderr",
     "output_type": "stream",
     "text": [
      "  4%|██████▎                                                                                                                                                            | 39/1000 [01:40<39:45,  2.48s/it]"
     ]
    },
    {
     "name": "stdout",
     "output_type": "stream",
     "text": [
      "Training Loss: 0.8690446299919183\n",
      "Validation Loss: 1.225617732320513\n",
      "Training Accuracy of the network: 65 %\n",
      "Validation Accuracy of the network: 45 %\n",
      "EarlyStopping counter: 1 out of 50\n"
     ]
    },
    {
     "name": "stderr",
     "output_type": "stream",
     "text": [
      "  4%|██████▌                                                                                                                                                            | 40/1000 [01:42<40:09,  2.51s/it]"
     ]
    },
    {
     "name": "stdout",
     "output_type": "stream",
     "text": [
      "Training Loss: 0.8660784041967945\n",
      "Validation Loss: 1.2238057953970773\n",
      "Training Accuracy of the network: 65 %\n",
      "Validation Accuracy of the network: 45 %\n",
      "EarlyStopping counter: 2 out of 50\n"
     ]
    },
    {
     "name": "stderr",
     "output_type": "stream",
     "text": [
      "  4%|██████▋                                                                                                                                                            | 41/1000 [01:45<40:20,  2.52s/it]"
     ]
    },
    {
     "name": "stdout",
     "output_type": "stream",
     "text": [
      "Training Loss: 0.8637483770000762\n",
      "Validation Loss: 1.2178482072693961\n",
      "Training Accuracy of the network: 65 %\n",
      "Validation Accuracy of the network: 46 %\n",
      "Validation loss decreased (1.221212 --> 1.217848).  Saving model ...\n"
     ]
    },
    {
     "name": "stderr",
     "output_type": "stream",
     "text": [
      "  4%|██████▊                                                                                                                                                            | 42/1000 [01:47<40:45,  2.55s/it]"
     ]
    },
    {
     "name": "stdout",
     "output_type": "stream",
     "text": [
      "Training Loss: 0.8429144605778266\n",
      "Validation Loss: 1.2095044715063912\n",
      "Training Accuracy of the network: 67 %\n",
      "Validation Accuracy of the network: 46 %\n",
      "Validation loss decreased (1.217848 --> 1.209504).  Saving model ...\n"
     ]
    },
    {
     "name": "stderr",
     "output_type": "stream",
     "text": [
      "  4%|███████                                                                                                                                                            | 43/1000 [01:50<41:03,  2.57s/it]"
     ]
    },
    {
     "name": "stdout",
     "output_type": "stream",
     "text": [
      "Training Loss: 0.8380864271219226\n",
      "Validation Loss: 1.2080078942435128\n",
      "Training Accuracy of the network: 67 %\n",
      "Validation Accuracy of the network: 47 %\n",
      "Validation loss decreased (1.209504 --> 1.208008).  Saving model ...\n"
     ]
    },
    {
     "name": "stderr",
     "output_type": "stream",
     "text": [
      "  4%|███████▏                                                                                                                                                           | 44/1000 [01:52<40:34,  2.55s/it]"
     ]
    },
    {
     "name": "stdout",
     "output_type": "stream",
     "text": [
      "Training Loss: 0.8272671103477478\n",
      "Validation Loss: 1.2138165031160628\n",
      "Training Accuracy of the network: 67 %\n",
      "Validation Accuracy of the network: 47 %\n",
      "EarlyStopping counter: 1 out of 50\n"
     ]
    },
    {
     "name": "stderr",
     "output_type": "stream",
     "text": [
      "  4%|███████▎                                                                                                                                                           | 45/1000 [01:55<41:05,  2.58s/it]"
     ]
    },
    {
     "name": "stdout",
     "output_type": "stream",
     "text": [
      "Training Loss: 0.8255765766337297\n",
      "Validation Loss: 1.2078003082956588\n",
      "Training Accuracy of the network: 67 %\n",
      "Validation Accuracy of the network: 47 %\n",
      "Validation loss decreased (1.208008 --> 1.207800).  Saving model ...\n"
     ]
    },
    {
     "name": "stderr",
     "output_type": "stream",
     "text": [
      "  5%|███████▍                                                                                                                                                           | 46/1000 [01:58<40:47,  2.57s/it]"
     ]
    },
    {
     "name": "stdout",
     "output_type": "stream",
     "text": [
      "Training Loss: 0.807665476548499\n",
      "Validation Loss: 1.2083585466657365\n",
      "Training Accuracy of the network: 68 %\n",
      "Validation Accuracy of the network: 46 %\n",
      "EarlyStopping counter: 1 out of 50\n"
     ]
    },
    {
     "name": "stderr",
     "output_type": "stream",
     "text": [
      "  5%|███████▋                                                                                                                                                           | 47/1000 [02:00<41:35,  2.62s/it]"
     ]
    },
    {
     "name": "stdout",
     "output_type": "stream",
     "text": [
      "Training Loss: 0.7887019050725992\n",
      "Validation Loss: 1.2058194654328482\n",
      "Training Accuracy of the network: 68 %\n",
      "Validation Accuracy of the network: 47 %\n",
      "Validation loss decreased (1.207800 --> 1.205819).  Saving model ...\n"
     ]
    },
    {
     "name": "stderr",
     "output_type": "stream",
     "text": [
      "  5%|███████▊                                                                                                                                                           | 48/1000 [02:03<41:34,  2.62s/it]"
     ]
    },
    {
     "name": "stdout",
     "output_type": "stream",
     "text": [
      "Training Loss: 0.778815927280896\n",
      "Validation Loss: 1.2100012796265738\n",
      "Training Accuracy of the network: 71 %\n",
      "Validation Accuracy of the network: 47 %\n",
      "EarlyStopping counter: 1 out of 50\n"
     ]
    },
    {
     "name": "stderr",
     "output_type": "stream",
     "text": [
      "  5%|███████▉                                                                                                                                                           | 49/1000 [02:05<40:58,  2.59s/it]"
     ]
    },
    {
     "name": "stdout",
     "output_type": "stream",
     "text": [
      "Training Loss: 0.7733163174943648\n",
      "Validation Loss: 1.2207958459854127\n",
      "Training Accuracy of the network: 70 %\n",
      "Validation Accuracy of the network: 45 %\n",
      "EarlyStopping counter: 2 out of 50\n"
     ]
    },
    {
     "name": "stderr",
     "output_type": "stream",
     "text": [
      "  5%|████████▏                                                                                                                                                          | 50/1000 [02:08<40:54,  2.58s/it]"
     ]
    },
    {
     "name": "stdout",
     "output_type": "stream",
     "text": [
      "Training Loss: 0.775896571252657\n",
      "Validation Loss: 1.207160597188132\n",
      "Training Accuracy of the network: 69 %\n",
      "Validation Accuracy of the network: 48 %\n",
      "EarlyStopping counter: 3 out of 50\n"
     ]
    },
    {
     "name": "stderr",
     "output_type": "stream",
     "text": [
      "  5%|████████▎                                                                                                                                                          | 51/1000 [02:11<40:30,  2.56s/it]"
     ]
    },
    {
     "name": "stdout",
     "output_type": "stream",
     "text": [
      "Training Loss: 0.7578583258217659\n",
      "Validation Loss: 1.2126486335481916\n",
      "Training Accuracy of the network: 70 %\n",
      "Validation Accuracy of the network: 46 %\n",
      "EarlyStopping counter: 4 out of 50\n"
     ]
    },
    {
     "name": "stderr",
     "output_type": "stream",
     "text": [
      "  5%|████████▍                                                                                                                                                          | 52/1000 [02:13<40:11,  2.54s/it]"
     ]
    },
    {
     "name": "stdout",
     "output_type": "stream",
     "text": [
      "Training Loss: 0.7423673604709514\n",
      "Validation Loss: 1.2039700082370213\n",
      "Training Accuracy of the network: 71 %\n",
      "Validation Accuracy of the network: 49 %\n",
      "Validation loss decreased (1.205819 --> 1.203970).  Saving model ...\n"
     ]
    },
    {
     "name": "stderr",
     "output_type": "stream",
     "text": [
      "  5%|████████▋                                                                                                                                                          | 53/1000 [02:16<40:28,  2.56s/it]"
     ]
    },
    {
     "name": "stdout",
     "output_type": "stream",
     "text": [
      "Training Loss: 0.7420732942612275\n",
      "Validation Loss: 1.2182672330311366\n",
      "Training Accuracy of the network: 71 %\n",
      "Validation Accuracy of the network: 47 %\n",
      "EarlyStopping counter: 1 out of 50\n"
     ]
    },
    {
     "name": "stderr",
     "output_type": "stream",
     "text": [
      "  5%|████████▊                                                                                                                                                          | 54/1000 [02:18<39:38,  2.51s/it]"
     ]
    },
    {
     "name": "stdout",
     "output_type": "stream",
     "text": [
      "Training Loss: 0.7443560478479966\n",
      "Validation Loss: 1.207944176878248\n",
      "Training Accuracy of the network: 70 %\n",
      "Validation Accuracy of the network: 48 %\n",
      "EarlyStopping counter: 2 out of 50\n"
     ]
    },
    {
     "name": "stderr",
     "output_type": "stream",
     "text": [
      "  6%|████████▉                                                                                                                                                          | 55/1000 [02:20<38:57,  2.47s/it]"
     ]
    },
    {
     "name": "stdout",
     "output_type": "stream",
     "text": [
      "Training Loss: 0.7217225391363752\n",
      "Validation Loss: 1.21923713854381\n",
      "Training Accuracy of the network: 71 %\n",
      "Validation Accuracy of the network: 46 %\n",
      "EarlyStopping counter: 3 out of 50\n"
     ]
    },
    {
     "name": "stderr",
     "output_type": "stream",
     "text": [
      "  6%|█████████▏                                                                                                                                                         | 56/1000 [02:23<39:10,  2.49s/it]"
     ]
    },
    {
     "name": "stdout",
     "output_type": "stream",
     "text": [
      "Training Loss: 0.714789788360181\n",
      "Validation Loss: 1.2144927331379483\n",
      "Training Accuracy of the network: 72 %\n",
      "Validation Accuracy of the network: 46 %\n",
      "EarlyStopping counter: 4 out of 50\n"
     ]
    },
    {
     "name": "stderr",
     "output_type": "stream",
     "text": [
      "  6%|█████████▎                                                                                                                                                         | 57/1000 [02:26<39:24,  2.51s/it]"
     ]
    },
    {
     "name": "stdout",
     "output_type": "stream",
     "text": [
      "Training Loss: 0.711869807994884\n",
      "Validation Loss: 1.210216738496508\n",
      "Training Accuracy of the network: 73 %\n",
      "Validation Accuracy of the network: 48 %\n",
      "EarlyStopping counter: 5 out of 50\n"
     ]
    },
    {
     "name": "stderr",
     "output_type": "stream",
     "text": [
      "  6%|█████████▍                                                                                                                                                         | 58/1000 [02:28<39:46,  2.53s/it]"
     ]
    },
    {
     "name": "stdout",
     "output_type": "stream",
     "text": [
      "Training Loss: 0.7199041376943174\n",
      "Validation Loss: 1.2067470141819545\n",
      "Training Accuracy of the network: 72 %\n",
      "Validation Accuracy of the network: 47 %\n",
      "EarlyStopping counter: 6 out of 50\n"
     ]
    },
    {
     "name": "stderr",
     "output_type": "stream",
     "text": [
      "  6%|█████████▌                                                                                                                                                         | 59/1000 [02:31<39:59,  2.55s/it]"
     ]
    },
    {
     "name": "stdout",
     "output_type": "stream",
     "text": [
      "Training Loss: 0.7006603373565535\n",
      "Validation Loss: 1.2233914290155683\n",
      "Training Accuracy of the network: 74 %\n",
      "Validation Accuracy of the network: 45 %\n",
      "EarlyStopping counter: 7 out of 50\n"
     ]
    },
    {
     "name": "stderr",
     "output_type": "stream",
     "text": [
      "  6%|█████████▊                                                                                                                                                         | 60/1000 [02:33<40:06,  2.56s/it]"
     ]
    },
    {
     "name": "stdout",
     "output_type": "stream",
     "text": [
      "Training Loss: 0.6969126376552858\n",
      "Validation Loss: 1.211179987021855\n",
      "Training Accuracy of the network: 74 %\n",
      "Validation Accuracy of the network: 46 %\n",
      "EarlyStopping counter: 8 out of 50\n"
     ]
    },
    {
     "name": "stderr",
     "output_type": "stream",
     "text": [
      "  6%|█████████▉                                                                                                                                                         | 61/1000 [02:36<40:24,  2.58s/it]"
     ]
    },
    {
     "name": "stdout",
     "output_type": "stream",
     "text": [
      "Training Loss: 0.6817418598178504\n",
      "Validation Loss: 1.2127950055258614\n",
      "Training Accuracy of the network: 73 %\n",
      "Validation Accuracy of the network: 46 %\n",
      "EarlyStopping counter: 9 out of 50\n"
     ]
    },
    {
     "name": "stderr",
     "output_type": "stream",
     "text": [
      "  6%|██████████                                                                                                                                                         | 62/1000 [02:38<40:06,  2.57s/it]"
     ]
    },
    {
     "name": "stdout",
     "output_type": "stream",
     "text": [
      "Training Loss: 0.6852719520313152\n",
      "Validation Loss: 1.208112107004438\n",
      "Training Accuracy of the network: 73 %\n",
      "Validation Accuracy of the network: 47 %\n",
      "EarlyStopping counter: 10 out of 50\n"
     ]
    },
    {
     "name": "stderr",
     "output_type": "stream",
     "text": [
      "  6%|██████████▎                                                                                                                                                        | 63/1000 [02:41<40:06,  2.57s/it]"
     ]
    },
    {
     "name": "stdout",
     "output_type": "stream",
     "text": [
      "Training Loss: 0.6775075083841449\n",
      "Validation Loss: 1.2140552316393172\n",
      "Training Accuracy of the network: 73 %\n",
      "Validation Accuracy of the network: 46 %\n",
      "EarlyStopping counter: 11 out of 50\n"
     ]
    },
    {
     "name": "stderr",
     "output_type": "stream",
     "text": [
      "  6%|██████████▍                                                                                                                                                        | 64/1000 [02:44<40:05,  2.57s/it]"
     ]
    },
    {
     "name": "stdout",
     "output_type": "stream",
     "text": [
      "Training Loss: 0.6655539941528569\n",
      "Validation Loss: 1.219251413004739\n",
      "Training Accuracy of the network: 75 %\n",
      "Validation Accuracy of the network: 46 %\n",
      "EarlyStopping counter: 12 out of 50\n"
     ]
    },
    {
     "name": "stderr",
     "output_type": "stream",
     "text": [
      "  6%|██████████▌                                                                                                                                                        | 65/1000 [02:46<39:57,  2.56s/it]"
     ]
    },
    {
     "name": "stdout",
     "output_type": "stream",
     "text": [
      "Training Loss: 0.6582360567821972\n",
      "Validation Loss: 1.23174980367933\n",
      "Training Accuracy of the network: 74 %\n",
      "Validation Accuracy of the network: 47 %\n",
      "EarlyStopping counter: 13 out of 50\n"
     ]
    },
    {
     "name": "stderr",
     "output_type": "stream",
     "text": [
      "  7%|██████████▊                                                                                                                                                        | 66/1000 [02:49<39:54,  2.56s/it]"
     ]
    },
    {
     "name": "stdout",
     "output_type": "stream",
     "text": [
      "Training Loss: 0.6423750161260798\n",
      "Validation Loss: 1.2193373032978603\n",
      "Training Accuracy of the network: 76 %\n",
      "Validation Accuracy of the network: 47 %\n",
      "EarlyStopping counter: 14 out of 50\n"
     ]
    },
    {
     "name": "stderr",
     "output_type": "stream",
     "text": [
      "  7%|██████████▉                                                                                                                                                        | 67/1000 [02:51<40:02,  2.57s/it]"
     ]
    },
    {
     "name": "stdout",
     "output_type": "stream",
     "text": [
      "Training Loss: 0.6304491000330966\n",
      "Validation Loss: 1.231642074244363\n",
      "Training Accuracy of the network: 76 %\n",
      "Validation Accuracy of the network: 47 %\n",
      "EarlyStopping counter: 15 out of 50\n"
     ]
    },
    {
     "name": "stderr",
     "output_type": "stream",
     "text": [
      "  7%|███████████                                                                                                                                                        | 68/1000 [02:54<39:48,  2.56s/it]"
     ]
    },
    {
     "name": "stdout",
     "output_type": "stream",
     "text": [
      "Training Loss: 0.6274223014496375\n",
      "Validation Loss: 1.22444429397583\n",
      "Training Accuracy of the network: 76 %\n",
      "Validation Accuracy of the network: 47 %\n",
      "EarlyStopping counter: 16 out of 50\n"
     ]
    },
    {
     "name": "stderr",
     "output_type": "stream",
     "text": [
      "  7%|███████████▏                                                                                                                                                       | 69/1000 [02:56<39:45,  2.56s/it]"
     ]
    },
    {
     "name": "stdout",
     "output_type": "stream",
     "text": [
      "Training Loss: 0.6471711526746335\n",
      "Validation Loss: 1.2282869986125402\n",
      "Training Accuracy of the network: 75 %\n",
      "Validation Accuracy of the network: 47 %\n",
      "EarlyStopping counter: 17 out of 50\n"
     ]
    },
    {
     "name": "stderr",
     "output_type": "stream",
     "text": [
      "  7%|███████████▍                                                                                                                                                       | 70/1000 [02:59<38:56,  2.51s/it]"
     ]
    },
    {
     "name": "stdout",
     "output_type": "stream",
     "text": [
      "Training Loss: 0.6348670507254808\n",
      "Validation Loss: 1.220132625102997\n",
      "Training Accuracy of the network: 76 %\n",
      "Validation Accuracy of the network: 48 %\n",
      "EarlyStopping counter: 18 out of 50\n"
     ]
    },
    {
     "name": "stderr",
     "output_type": "stream",
     "text": [
      "  7%|███████████▌                                                                                                                                                       | 71/1000 [03:01<38:48,  2.51s/it]"
     ]
    },
    {
     "name": "stdout",
     "output_type": "stream",
     "text": [
      "Training Loss: 0.6231523918500845\n",
      "Validation Loss: 1.2189600586891174\n",
      "Training Accuracy of the network: 76 %\n",
      "Validation Accuracy of the network: 48 %\n",
      "EarlyStopping counter: 19 out of 50\n"
     ]
    },
    {
     "name": "stderr",
     "output_type": "stream",
     "text": [
      "  7%|███████████▋                                                                                                                                                       | 72/1000 [03:04<38:40,  2.50s/it]"
     ]
    },
    {
     "name": "stdout",
     "output_type": "stream",
     "text": [
      "Training Loss: 0.6166063966094584\n",
      "Validation Loss: 1.2385153021131243\n",
      "Training Accuracy of the network: 77 %\n",
      "Validation Accuracy of the network: 47 %\n",
      "EarlyStopping counter: 20 out of 50\n"
     ]
    },
    {
     "name": "stderr",
     "output_type": "stream",
     "text": [
      "  7%|███████████▉                                                                                                                                                       | 73/1000 [03:06<38:52,  2.52s/it]"
     ]
    },
    {
     "name": "stdout",
     "output_type": "stream",
     "text": [
      "Training Loss: 0.6099264585021613\n",
      "Validation Loss: 1.2208922811916896\n",
      "Training Accuracy of the network: 76 %\n",
      "Validation Accuracy of the network: 48 %\n",
      "EarlyStopping counter: 21 out of 50\n"
     ]
    },
    {
     "name": "stderr",
     "output_type": "stream",
     "text": [
      "  7%|████████████                                                                                                                                                       | 74/1000 [03:09<38:44,  2.51s/it]"
     ]
    },
    {
     "name": "stdout",
     "output_type": "stream",
     "text": [
      "Training Loss: 0.59216786791449\n",
      "Validation Loss: 1.2252613084656852\n",
      "Training Accuracy of the network: 78 %\n",
      "Validation Accuracy of the network: 47 %\n",
      "EarlyStopping counter: 22 out of 50\n"
     ]
    },
    {
     "name": "stderr",
     "output_type": "stream",
     "text": [
      "  8%|████████████▏                                                                                                                                                      | 75/1000 [03:11<38:39,  2.51s/it]"
     ]
    },
    {
     "name": "stdout",
     "output_type": "stream",
     "text": [
      "Training Loss: 0.5950049157591834\n",
      "Validation Loss: 1.2186060530798777\n",
      "Training Accuracy of the network: 78 %\n",
      "Validation Accuracy of the network: 49 %\n",
      "EarlyStopping counter: 23 out of 50\n"
     ]
    },
    {
     "name": "stderr",
     "output_type": "stream",
     "text": [
      "  8%|████████████▍                                                                                                                                                      | 76/1000 [03:14<39:02,  2.53s/it]"
     ]
    },
    {
     "name": "stdout",
     "output_type": "stream",
     "text": [
      "Training Loss: 0.596864342905473\n",
      "Validation Loss: 1.2465540562357222\n",
      "Training Accuracy of the network: 76 %\n",
      "Validation Accuracy of the network: 48 %\n",
      "EarlyStopping counter: 24 out of 50\n"
     ]
    },
    {
     "name": "stderr",
     "output_type": "stream",
     "text": [
      "  8%|████████████▌                                                                                                                                                      | 77/1000 [03:16<38:35,  2.51s/it]"
     ]
    },
    {
     "name": "stdout",
     "output_type": "stream",
     "text": [
      "Training Loss: 0.5979382783390473\n",
      "Validation Loss: 1.2441646235329764\n",
      "Training Accuracy of the network: 76 %\n",
      "Validation Accuracy of the network: 47 %\n",
      "EarlyStopping counter: 25 out of 50\n"
     ]
    },
    {
     "name": "stderr",
     "output_type": "stream",
     "text": [
      "  8%|████████████▋                                                                                                                                                      | 78/1000 [03:19<39:09,  2.55s/it]"
     ]
    },
    {
     "name": "stdout",
     "output_type": "stream",
     "text": [
      "Training Loss: 0.5837994854951251\n",
      "Validation Loss: 1.2391585758754184\n",
      "Training Accuracy of the network: 78 %\n",
      "Validation Accuracy of the network: 46 %\n",
      "EarlyStopping counter: 26 out of 50\n"
     ]
    },
    {
     "name": "stderr",
     "output_type": "stream",
     "text": [
      "  8%|████████████▉                                                                                                                                                      | 79/1000 [03:22<39:19,  2.56s/it]"
     ]
    },
    {
     "name": "stdout",
     "output_type": "stream",
     "text": [
      "Training Loss: 0.5879455522998519\n",
      "Validation Loss: 1.2462882144110543\n",
      "Training Accuracy of the network: 78 %\n",
      "Validation Accuracy of the network: 46 %\n",
      "EarlyStopping counter: 27 out of 50\n"
     ]
    },
    {
     "name": "stderr",
     "output_type": "stream",
     "text": [
      "  8%|█████████████                                                                                                                                                      | 80/1000 [03:24<40:05,  2.61s/it]"
     ]
    },
    {
     "name": "stdout",
     "output_type": "stream",
     "text": [
      "Training Loss: 0.562182837098405\n",
      "Validation Loss: 1.2373100093432836\n",
      "Training Accuracy of the network: 79 %\n",
      "Validation Accuracy of the network: 47 %\n",
      "EarlyStopping counter: 28 out of 50\n"
     ]
    },
    {
     "name": "stderr",
     "output_type": "stream",
     "text": [
      "  8%|█████████████▏                                                                                                                                                     | 81/1000 [03:27<40:09,  2.62s/it]"
     ]
    },
    {
     "name": "stdout",
     "output_type": "stream",
     "text": [
      "Training Loss: 0.5549593267665394\n",
      "Validation Loss: 1.2395609872681754\n",
      "Training Accuracy of the network: 78 %\n",
      "Validation Accuracy of the network: 47 %\n",
      "EarlyStopping counter: 29 out of 50\n"
     ]
    },
    {
     "name": "stderr",
     "output_type": "stream",
     "text": [
      "  8%|█████████████▎                                                                                                                                                     | 82/1000 [03:30<39:45,  2.60s/it]"
     ]
    },
    {
     "name": "stdout",
     "output_type": "stream",
     "text": [
      "Training Loss: 0.5549367513993512\n",
      "Validation Loss: 1.2332061495099749\n",
      "Training Accuracy of the network: 78 %\n",
      "Validation Accuracy of the network: 48 %\n",
      "EarlyStopping counter: 30 out of 50\n"
     ]
    },
    {
     "name": "stderr",
     "output_type": "stream",
     "text": [
      "  8%|█████████████▌                                                                                                                                                     | 83/1000 [03:32<39:38,  2.59s/it]"
     ]
    },
    {
     "name": "stdout",
     "output_type": "stream",
     "text": [
      "Training Loss: 0.56012095629737\n",
      "Validation Loss: 1.2384989993912834\n",
      "Training Accuracy of the network: 78 %\n",
      "Validation Accuracy of the network: 47 %\n",
      "EarlyStopping counter: 31 out of 50\n"
     ]
    },
    {
     "name": "stderr",
     "output_type": "stream",
     "text": [
      "  8%|█████████████▋                                                                                                                                                     | 84/1000 [03:35<39:36,  2.59s/it]"
     ]
    },
    {
     "name": "stdout",
     "output_type": "stream",
     "text": [
      "Training Loss: 0.5428237132188203\n",
      "Validation Loss: 1.254365120615278\n",
      "Training Accuracy of the network: 80 %\n",
      "Validation Accuracy of the network: 46 %\n",
      "EarlyStopping counter: 32 out of 50\n"
     ]
    },
    {
     "name": "stderr",
     "output_type": "stream",
     "text": [
      "  8%|█████████████▊                                                                                                                                                     | 85/1000 [03:37<39:49,  2.61s/it]"
     ]
    },
    {
     "name": "stdout",
     "output_type": "stream",
     "text": [
      "Training Loss: 0.5438752824413604\n",
      "Validation Loss: 1.2428004247801645\n",
      "Training Accuracy of the network: 79 %\n",
      "Validation Accuracy of the network: 48 %\n",
      "EarlyStopping counter: 33 out of 50\n"
     ]
    },
    {
     "name": "stderr",
     "output_type": "stream",
     "text": [
      "  9%|██████████████                                                                                                                                                     | 86/1000 [03:40<37:57,  2.49s/it]"
     ]
    },
    {
     "name": "stdout",
     "output_type": "stream",
     "text": [
      "Training Loss: 0.5358412978441819\n",
      "Validation Loss: 1.245791893345969\n",
      "Training Accuracy of the network: 80 %\n",
      "Validation Accuracy of the network: 47 %\n",
      "EarlyStopping counter: 34 out of 50\n"
     ]
    },
    {
     "name": "stderr",
     "output_type": "stream",
     "text": [
      "  9%|██████████████▏                                                                                                                                                    | 87/1000 [03:42<38:30,  2.53s/it]"
     ]
    },
    {
     "name": "stdout",
     "output_type": "stream",
     "text": [
      "Training Loss: 0.5439189100179119\n",
      "Validation Loss: 1.2527343698910305\n",
      "Training Accuracy of the network: 79 %\n",
      "Validation Accuracy of the network: 49 %\n",
      "EarlyStopping counter: 35 out of 50\n"
     ]
    },
    {
     "name": "stderr",
     "output_type": "stream",
     "text": [
      "  9%|██████████████▎                                                                                                                                                    | 88/1000 [03:45<38:46,  2.55s/it]"
     ]
    },
    {
     "name": "stdout",
     "output_type": "stream",
     "text": [
      "Training Loss: 0.5158672990358394\n",
      "Validation Loss: 1.2552324618612016\n",
      "Training Accuracy of the network: 80 %\n",
      "Validation Accuracy of the network: 47 %\n",
      "EarlyStopping counter: 36 out of 50\n"
     ]
    },
    {
     "name": "stderr",
     "output_type": "stream",
     "text": [
      "  9%|██████████████▌                                                                                                                                                    | 89/1000 [03:47<38:58,  2.57s/it]"
     ]
    },
    {
     "name": "stdout",
     "output_type": "stream",
     "text": [
      "Training Loss: 0.5246114229270513\n",
      "Validation Loss: 1.2410274471555438\n",
      "Training Accuracy of the network: 80 %\n",
      "Validation Accuracy of the network: 48 %\n",
      "EarlyStopping counter: 37 out of 50\n"
     ]
    },
    {
     "name": "stderr",
     "output_type": "stream",
     "text": [
      "  9%|██████████████▋                                                                                                                                                    | 90/1000 [03:50<38:29,  2.54s/it]"
     ]
    },
    {
     "name": "stdout",
     "output_type": "stream",
     "text": [
      "Training Loss: 0.5085380408858907\n",
      "Validation Loss: 1.2479643055370875\n",
      "Training Accuracy of the network: 80 %\n",
      "Validation Accuracy of the network: 47 %\n",
      "EarlyStopping counter: 38 out of 50\n"
     ]
    },
    {
     "name": "stderr",
     "output_type": "stream",
     "text": [
      "  9%|██████████████▊                                                                                                                                                    | 91/1000 [03:52<38:33,  2.55s/it]"
     ]
    },
    {
     "name": "stdout",
     "output_type": "stream",
     "text": [
      "Training Loss: 0.5299126334164453\n",
      "Validation Loss: 1.2487168312072754\n",
      "Training Accuracy of the network: 79 %\n",
      "Validation Accuracy of the network: 47 %\n",
      "EarlyStopping counter: 39 out of 50\n"
     ]
    },
    {
     "name": "stderr",
     "output_type": "stream",
     "text": [
      "  9%|██████████████▉                                                                                                                                                    | 92/1000 [03:55<38:52,  2.57s/it]"
     ]
    },
    {
     "name": "stdout",
     "output_type": "stream",
     "text": [
      "Training Loss: 0.5137216590236926\n",
      "Validation Loss: 1.2464783583368575\n",
      "Training Accuracy of the network: 80 %\n",
      "Validation Accuracy of the network: 46 %\n",
      "EarlyStopping counter: 40 out of 50\n"
     ]
    },
    {
     "name": "stderr",
     "output_type": "stream",
     "text": [
      "  9%|███████████████▏                                                                                                                                                   | 93/1000 [03:58<38:32,  2.55s/it]"
     ]
    },
    {
     "name": "stdout",
     "output_type": "stream",
     "text": [
      "Training Loss: 0.502548220688882\n",
      "Validation Loss: 1.2462702989578247\n",
      "Training Accuracy of the network: 81 %\n",
      "Validation Accuracy of the network: 48 %\n",
      "EarlyStopping counter: 41 out of 50\n"
     ]
    },
    {
     "name": "stderr",
     "output_type": "stream",
     "text": [
      "  9%|███████████████▎                                                                                                                                                   | 94/1000 [04:00<37:54,  2.51s/it]"
     ]
    },
    {
     "name": "stdout",
     "output_type": "stream",
     "text": [
      "Training Loss: 0.4955164303166279\n",
      "Validation Loss: 1.2571148565837316\n",
      "Training Accuracy of the network: 81 %\n",
      "Validation Accuracy of the network: 50 %\n",
      "EarlyStopping counter: 42 out of 50\n"
     ]
    },
    {
     "name": "stderr",
     "output_type": "stream",
     "text": [
      " 10%|███████████████▍                                                                                                                                                   | 95/1000 [04:03<38:13,  2.53s/it]"
     ]
    },
    {
     "name": "stdout",
     "output_type": "stream",
     "text": [
      "Training Loss: 0.5010498737295469\n",
      "Validation Loss: 1.2588313800948008\n",
      "Training Accuracy of the network: 81 %\n",
      "Validation Accuracy of the network: 49 %\n",
      "EarlyStopping counter: 43 out of 50\n"
     ]
    },
    {
     "name": "stderr",
     "output_type": "stream",
     "text": [
      " 10%|███████████████▋                                                                                                                                                   | 96/1000 [04:05<38:19,  2.54s/it]"
     ]
    },
    {
     "name": "stdout",
     "output_type": "stream",
     "text": [
      "Training Loss: 0.5149305498470431\n",
      "Validation Loss: 1.2630961724690029\n",
      "Training Accuracy of the network: 80 %\n",
      "Validation Accuracy of the network: 48 %\n",
      "EarlyStopping counter: 44 out of 50\n"
     ]
    },
    {
     "name": "stderr",
     "output_type": "stream",
     "text": [
      " 10%|███████████████▊                                                                                                                                                   | 97/1000 [04:08<38:11,  2.54s/it]"
     ]
    },
    {
     "name": "stdout",
     "output_type": "stream",
     "text": [
      "Training Loss: 0.4892351650025534\n",
      "Validation Loss: 1.2838486756597247\n",
      "Training Accuracy of the network: 82 %\n",
      "Validation Accuracy of the network: 48 %\n",
      "EarlyStopping counter: 45 out of 50\n"
     ]
    },
    {
     "name": "stderr",
     "output_type": "stream",
     "text": [
      " 10%|███████████████▉                                                                                                                                                   | 98/1000 [04:10<38:10,  2.54s/it]"
     ]
    },
    {
     "name": "stdout",
     "output_type": "stream",
     "text": [
      "Training Loss: 0.48623210990774457\n",
      "Validation Loss: 1.2916480251720974\n",
      "Training Accuracy of the network: 81 %\n",
      "Validation Accuracy of the network: 47 %\n",
      "EarlyStopping counter: 46 out of 50\n"
     ]
    },
    {
     "name": "stderr",
     "output_type": "stream",
     "text": [
      " 10%|████████████████▏                                                                                                                                                  | 99/1000 [04:13<37:53,  2.52s/it]"
     ]
    },
    {
     "name": "stdout",
     "output_type": "stream",
     "text": [
      "Training Loss: 0.4862431937801665\n",
      "Validation Loss: 1.2787333573613848\n",
      "Training Accuracy of the network: 82 %\n",
      "Validation Accuracy of the network: 46 %\n",
      "EarlyStopping counter: 47 out of 50\n"
     ]
    },
    {
     "name": "stderr",
     "output_type": "stream",
     "text": [
      " 10%|████████████████▏                                                                                                                                                 | 100/1000 [04:15<37:48,  2.52s/it]"
     ]
    },
    {
     "name": "stdout",
     "output_type": "stream",
     "text": [
      "Training Loss: 0.47381824492544367\n",
      "Validation Loss: 1.2744548525129045\n",
      "Training Accuracy of the network: 82 %\n",
      "Validation Accuracy of the network: 48 %\n",
      "EarlyStopping counter: 48 out of 50\n"
     ]
    },
    {
     "name": "stderr",
     "output_type": "stream",
     "text": [
      " 10%|████████████████▎                                                                                                                                                 | 101/1000 [04:18<37:27,  2.50s/it]"
     ]
    },
    {
     "name": "stdout",
     "output_type": "stream",
     "text": [
      "Training Loss: 0.4754238978460215\n",
      "Validation Loss: 1.2920219608715602\n",
      "Training Accuracy of the network: 81 %\n",
      "Validation Accuracy of the network: 47 %\n",
      "EarlyStopping counter: 49 out of 50\n"
     ]
    },
    {
     "name": "stderr",
     "output_type": "stream",
     "text": [
      " 10%|████████████████▎                                                                                                                                                 | 101/1000 [04:20<38:39,  2.58s/it]"
     ]
    },
    {
     "name": "stdout",
     "output_type": "stream",
     "text": [
      "Training Loss: 0.4644537078405636\n",
      "Validation Loss: 1.2731009704726084\n",
      "Training Accuracy of the network: 82 %\n",
      "Validation Accuracy of the network: 47 %\n",
      "EarlyStopping counter: 50 out of 50\n",
      "Early Stopping\n",
      "Testing Loss: 1.2623279094696045\n",
      "Testing Accuracy of the network: 39 %\n"
     ]
    },
    {
     "name": "stderr",
     "output_type": "stream",
     "text": [
      "\n",
      "  0%|▏                                                                                                                                                                   | 1/1000 [00:02<40:54,  2.46s/it]"
     ]
    },
    {
     "name": "stdout",
     "output_type": "stream",
     "text": [
      "Training Loss: 1.579749047756195\n",
      "Validation Loss: 1.4130932773862566\n",
      "Training Accuracy of the network: 23 %\n",
      "Validation Accuracy of the network: 28 %\n",
      "Validation loss decreased (inf --> 1.413093).  Saving model ...\n"
     ]
    },
    {
     "name": "stderr",
     "output_type": "stream",
     "text": [
      "  0%|▎                                                                                                                                                                   | 2/1000 [00:05<42:43,  2.57s/it]"
     ]
    },
    {
     "name": "stdout",
     "output_type": "stream",
     "text": [
      "Training Loss: 1.4760844854341038\n",
      "Validation Loss: 1.3932907887867518\n",
      "Training Accuracy of the network: 27 %\n",
      "Validation Accuracy of the network: 29 %\n",
      "Validation loss decreased (1.413093 --> 1.393291).  Saving model ...\n"
     ]
    },
    {
     "name": "stderr",
     "output_type": "stream",
     "text": [
      "  0%|▍                                                                                                                                                                   | 3/1000 [00:07<41:53,  2.52s/it]"
     ]
    },
    {
     "name": "stdout",
     "output_type": "stream",
     "text": [
      "Training Loss: 1.4593784636345462\n",
      "Validation Loss: 1.3811500310897826\n",
      "Training Accuracy of the network: 28 %\n",
      "Validation Accuracy of the network: 30 %\n",
      "Validation loss decreased (1.393291 --> 1.381150).  Saving model ...\n"
     ]
    },
    {
     "name": "stderr",
     "output_type": "stream",
     "text": [
      "  0%|▋                                                                                                                                                                   | 4/1000 [00:10<42:45,  2.58s/it]"
     ]
    },
    {
     "name": "stdout",
     "output_type": "stream",
     "text": [
      "Training Loss: 1.4308891270471655\n",
      "Validation Loss: 1.371278589112418\n",
      "Training Accuracy of the network: 30 %\n",
      "Validation Accuracy of the network: 31 %\n",
      "Validation loss decreased (1.381150 --> 1.371279).  Saving model ...\n"
     ]
    },
    {
     "name": "stderr",
     "output_type": "stream",
     "text": [
      "  0%|▊                                                                                                                                                                   | 5/1000 [00:12<42:43,  2.58s/it]"
     ]
    },
    {
     "name": "stdout",
     "output_type": "stream",
     "text": [
      "Training Loss: 1.409127628457719\n",
      "Validation Loss: 1.3584808792386736\n",
      "Training Accuracy of the network: 31 %\n",
      "Validation Accuracy of the network: 32 %\n",
      "Validation loss decreased (1.371279 --> 1.358481).  Saving model ...\n"
     ]
    },
    {
     "name": "stderr",
     "output_type": "stream",
     "text": [
      "  1%|▉                                                                                                                                                                   | 6/1000 [00:15<42:47,  2.58s/it]"
     ]
    },
    {
     "name": "stdout",
     "output_type": "stream",
     "text": [
      "Training Loss: 1.3609905661880106\n",
      "Validation Loss: 1.3522679260798862\n",
      "Training Accuracy of the network: 34 %\n",
      "Validation Accuracy of the network: 32 %\n",
      "Validation loss decreased (1.358481 --> 1.352268).  Saving model ...\n"
     ]
    },
    {
     "name": "stderr",
     "output_type": "stream",
     "text": [
      "  1%|█▏                                                                                                                                                                  | 7/1000 [00:18<43:05,  2.60s/it]"
     ]
    },
    {
     "name": "stdout",
     "output_type": "stream",
     "text": [
      "Training Loss: 1.333284984032313\n",
      "Validation Loss: 1.3450282062802996\n",
      "Training Accuracy of the network: 37 %\n",
      "Validation Accuracy of the network: 32 %\n",
      "Validation loss decreased (1.352268 --> 1.345028).  Saving model ...\n"
     ]
    },
    {
     "name": "stderr",
     "output_type": "stream",
     "text": [
      "  1%|█▎                                                                                                                                                                  | 8/1000 [00:20<43:36,  2.64s/it]"
     ]
    },
    {
     "name": "stdout",
     "output_type": "stream",
     "text": [
      "Training Loss: 1.320082616114962\n",
      "Validation Loss: 1.3360096079962593\n",
      "Training Accuracy of the network: 37 %\n",
      "Validation Accuracy of the network: 34 %\n",
      "Validation loss decreased (1.345028 --> 1.336010).  Saving model ...\n"
     ]
    },
    {
     "name": "stderr",
     "output_type": "stream",
     "text": [
      "  1%|█▍                                                                                                                                                                  | 9/1000 [00:23<43:15,  2.62s/it]"
     ]
    },
    {
     "name": "stdout",
     "output_type": "stream",
     "text": [
      "Training Loss: 1.305267425119013\n",
      "Validation Loss: 1.3268295390265328\n",
      "Training Accuracy of the network: 38 %\n",
      "Validation Accuracy of the network: 35 %\n",
      "Validation loss decreased (1.336010 --> 1.326830).  Saving model ...\n"
     ]
    },
    {
     "name": "stderr",
     "output_type": "stream",
     "text": [
      "  1%|█▋                                                                                                                                                                 | 10/1000 [00:26<43:44,  2.65s/it]"
     ]
    },
    {
     "name": "stdout",
     "output_type": "stream",
     "text": [
      "Training Loss: 1.2743429399054984\n",
      "Validation Loss: 1.3229054280689785\n",
      "Training Accuracy of the network: 39 %\n",
      "Validation Accuracy of the network: 35 %\n",
      "Validation loss decreased (1.326830 --> 1.322905).  Saving model ...\n"
     ]
    },
    {
     "name": "stderr",
     "output_type": "stream",
     "text": [
      "  1%|█▊                                                                                                                                                                 | 11/1000 [00:28<43:17,  2.63s/it]"
     ]
    },
    {
     "name": "stdout",
     "output_type": "stream",
     "text": [
      "Training Loss: 1.25646815524585\n",
      "Validation Loss: 1.3173605373927526\n",
      "Training Accuracy of the network: 41 %\n",
      "Validation Accuracy of the network: 36 %\n",
      "Validation loss decreased (1.322905 --> 1.317361).  Saving model ...\n"
     ]
    },
    {
     "name": "stderr",
     "output_type": "stream",
     "text": [
      "  1%|█▉                                                                                                                                                                 | 12/1000 [00:31<43:07,  2.62s/it]"
     ]
    },
    {
     "name": "stdout",
     "output_type": "stream",
     "text": [
      "Training Loss: 1.2375995542692102\n",
      "Validation Loss: 1.3121491500309534\n",
      "Training Accuracy of the network: 43 %\n",
      "Validation Accuracy of the network: 36 %\n",
      "Validation loss decreased (1.317361 --> 1.312149).  Saving model ...\n"
     ]
    },
    {
     "name": "stderr",
     "output_type": "stream",
     "text": [
      "  1%|██                                                                                                                                                                 | 13/1000 [00:33<42:48,  2.60s/it]"
     ]
    },
    {
     "name": "stdout",
     "output_type": "stream",
     "text": [
      "Training Loss: 1.2251392568367114\n",
      "Validation Loss: 1.3077246631894792\n",
      "Training Accuracy of the network: 44 %\n",
      "Validation Accuracy of the network: 36 %\n",
      "Validation loss decreased (1.312149 --> 1.307725).  Saving model ...\n"
     ]
    },
    {
     "name": "stderr",
     "output_type": "stream",
     "text": [
      "  1%|██▎                                                                                                                                                                | 14/1000 [00:36<42:12,  2.57s/it]"
     ]
    },
    {
     "name": "stdout",
     "output_type": "stream",
     "text": [
      "Training Loss: 1.2020200650761093\n",
      "Validation Loss: 1.3027022804532733\n",
      "Training Accuracy of the network: 46 %\n",
      "Validation Accuracy of the network: 37 %\n",
      "Validation loss decreased (1.307725 --> 1.302702).  Saving model ...\n"
     ]
    },
    {
     "name": "stderr",
     "output_type": "stream",
     "text": [
      "  2%|██▍                                                                                                                                                                | 15/1000 [00:38<40:39,  2.48s/it]"
     ]
    },
    {
     "name": "stdout",
     "output_type": "stream",
     "text": [
      "Training Loss: 1.1911167428977247\n",
      "Validation Loss: 1.2996611322675433\n",
      "Training Accuracy of the network: 46 %\n",
      "Validation Accuracy of the network: 38 %\n",
      "Validation loss decreased (1.302702 --> 1.299661).  Saving model ...\n"
     ]
    },
    {
     "name": "stderr",
     "output_type": "stream",
     "text": [
      "  2%|██▌                                                                                                                                                                | 16/1000 [00:41<40:31,  2.47s/it]"
     ]
    },
    {
     "name": "stdout",
     "output_type": "stream",
     "text": [
      "Training Loss: 1.1702896045601887\n",
      "Validation Loss: 1.294630115372794\n",
      "Training Accuracy of the network: 49 %\n",
      "Validation Accuracy of the network: 37 %\n",
      "Validation loss decreased (1.299661 --> 1.294630).  Saving model ...\n"
     ]
    },
    {
     "name": "stderr",
     "output_type": "stream",
     "text": [
      "  2%|██▊                                                                                                                                                                | 17/1000 [00:43<40:48,  2.49s/it]"
     ]
    },
    {
     "name": "stdout",
     "output_type": "stream",
     "text": [
      "Training Loss: 1.165422230527021\n",
      "Validation Loss: 1.2865370716367448\n",
      "Training Accuracy of the network: 48 %\n",
      "Validation Accuracy of the network: 37 %\n",
      "Validation loss decreased (1.294630 --> 1.286537).  Saving model ...\n"
     ]
    },
    {
     "name": "stderr",
     "output_type": "stream",
     "text": [
      "  2%|██▉                                                                                                                                                                | 18/1000 [00:46<41:17,  2.52s/it]"
     ]
    },
    {
     "name": "stdout",
     "output_type": "stream",
     "text": [
      "Training Loss: 1.150051612784897\n",
      "Validation Loss: 1.283862863268171\n",
      "Training Accuracy of the network: 49 %\n",
      "Validation Accuracy of the network: 37 %\n",
      "Validation loss decreased (1.286537 --> 1.283863).  Saving model ...\n"
     ]
    },
    {
     "name": "stderr",
     "output_type": "stream",
     "text": [
      "  2%|███                                                                                                                                                                | 19/1000 [00:48<41:25,  2.53s/it]"
     ]
    },
    {
     "name": "stdout",
     "output_type": "stream",
     "text": [
      "Training Loss: 1.1384114255939706\n",
      "Validation Loss: 1.2790959664753505\n",
      "Training Accuracy of the network: 50 %\n",
      "Validation Accuracy of the network: 38 %\n",
      "Validation loss decreased (1.283863 --> 1.279096).  Saving model ...\n"
     ]
    },
    {
     "name": "stderr",
     "output_type": "stream",
     "text": [
      "  2%|███▎                                                                                                                                                               | 20/1000 [00:51<41:13,  2.52s/it]"
     ]
    },
    {
     "name": "stdout",
     "output_type": "stream",
     "text": [
      "Training Loss: 1.1282664351705192\n",
      "Validation Loss: 1.2748250416346958\n",
      "Training Accuracy of the network: 51 %\n",
      "Validation Accuracy of the network: 38 %\n",
      "Validation loss decreased (1.279096 --> 1.274825).  Saving model ...\n"
     ]
    },
    {
     "name": "stderr",
     "output_type": "stream",
     "text": [
      "  2%|███▍                                                                                                                                                               | 21/1000 [00:53<41:01,  2.51s/it]"
     ]
    },
    {
     "name": "stdout",
     "output_type": "stream",
     "text": [
      "Training Loss: 1.1067961691946224\n",
      "Validation Loss: 1.272935370036534\n",
      "Training Accuracy of the network: 51 %\n",
      "Validation Accuracy of the network: 39 %\n",
      "Validation loss decreased (1.274825 --> 1.272935).  Saving model ...\n"
     ]
    },
    {
     "name": "stderr",
     "output_type": "stream",
     "text": [
      "  2%|███▌                                                                                                                                                               | 22/1000 [00:56<40:51,  2.51s/it]"
     ]
    },
    {
     "name": "stdout",
     "output_type": "stream",
     "text": [
      "Training Loss: 1.0907690019711205\n",
      "Validation Loss: 1.2685227939060757\n",
      "Training Accuracy of the network: 53 %\n",
      "Validation Accuracy of the network: 40 %\n",
      "Validation loss decreased (1.272935 --> 1.268523).  Saving model ...\n"
     ]
    },
    {
     "name": "stderr",
     "output_type": "stream",
     "text": [
      "  2%|███▋                                                                                                                                                               | 23/1000 [00:58<40:47,  2.51s/it]"
     ]
    },
    {
     "name": "stdout",
     "output_type": "stream",
     "text": [
      "Training Loss: 1.0802989347257477\n",
      "Validation Loss: 1.2626539877482823\n",
      "Training Accuracy of the network: 52 %\n",
      "Validation Accuracy of the network: 41 %\n",
      "Validation loss decreased (1.268523 --> 1.262654).  Saving model ...\n"
     ]
    },
    {
     "name": "stderr",
     "output_type": "stream",
     "text": [
      "  2%|███▉                                                                                                                                                               | 24/1000 [01:01<41:20,  2.54s/it]"
     ]
    },
    {
     "name": "stdout",
     "output_type": "stream",
     "text": [
      "Training Loss: 1.070313855357792\n",
      "Validation Loss: 1.2595565250941685\n",
      "Training Accuracy of the network: 54 %\n",
      "Validation Accuracy of the network: 41 %\n",
      "Validation loss decreased (1.262654 --> 1.259557).  Saving model ...\n"
     ]
    },
    {
     "name": "stderr",
     "output_type": "stream",
     "text": [
      "  2%|████                                                                                                                                                               | 25/1000 [01:03<41:11,  2.54s/it]"
     ]
    },
    {
     "name": "stdout",
     "output_type": "stream",
     "text": [
      "Training Loss: 1.0517387839331143\n",
      "Validation Loss: 1.251375549180167\n",
      "Training Accuracy of the network: 56 %\n",
      "Validation Accuracy of the network: 42 %\n",
      "Validation loss decreased (1.259557 --> 1.251376).  Saving model ...\n"
     ]
    },
    {
     "name": "stderr",
     "output_type": "stream",
     "text": [
      "  3%|████▏                                                                                                                                                              | 26/1000 [01:06<41:10,  2.54s/it]"
     ]
    },
    {
     "name": "stdout",
     "output_type": "stream",
     "text": [
      "Training Loss: 1.038991471995478\n",
      "Validation Loss: 1.246816677706582\n",
      "Training Accuracy of the network: 56 %\n",
      "Validation Accuracy of the network: 41 %\n",
      "Validation loss decreased (1.251376 --> 1.246817).  Saving model ...\n"
     ]
    },
    {
     "name": "stderr",
     "output_type": "stream",
     "text": [
      "  3%|████▍                                                                                                                                                              | 27/1000 [01:08<41:20,  2.55s/it]"
     ]
    },
    {
     "name": "stdout",
     "output_type": "stream",
     "text": [
      "Training Loss: 1.031297539887221\n",
      "Validation Loss: 1.2407435604504176\n",
      "Training Accuracy of the network: 56 %\n",
      "Validation Accuracy of the network: 42 %\n",
      "Validation loss decreased (1.246817 --> 1.240744).  Saving model ...\n"
     ]
    },
    {
     "name": "stderr",
     "output_type": "stream",
     "text": [
      "  3%|████▌                                                                                                                                                              | 28/1000 [01:11<41:33,  2.57s/it]"
     ]
    },
    {
     "name": "stdout",
     "output_type": "stream",
     "text": [
      "Training Loss: 1.0063569057678832\n",
      "Validation Loss: 1.2367121475083487\n",
      "Training Accuracy of the network: 58 %\n",
      "Validation Accuracy of the network: 43 %\n",
      "Validation loss decreased (1.240744 --> 1.236712).  Saving model ...\n"
     ]
    },
    {
     "name": "stderr",
     "output_type": "stream",
     "text": [
      "  3%|████▋                                                                                                                                                              | 29/1000 [01:14<41:18,  2.55s/it]"
     ]
    },
    {
     "name": "stdout",
     "output_type": "stream",
     "text": [
      "Training Loss: 0.9897651776023533\n",
      "Validation Loss: 1.2288338899612428\n",
      "Training Accuracy of the network: 59 %\n",
      "Validation Accuracy of the network: 43 %\n",
      "Validation loss decreased (1.236712 --> 1.228834).  Saving model ...\n"
     ]
    },
    {
     "name": "stderr",
     "output_type": "stream",
     "text": [
      "  3%|████▉                                                                                                                                                              | 30/1000 [01:16<41:21,  2.56s/it]"
     ]
    },
    {
     "name": "stdout",
     "output_type": "stream",
     "text": [
      "Training Loss: 0.9833724576493968\n",
      "Validation Loss: 1.2255650520324708\n",
      "Training Accuracy of the network: 59 %\n",
      "Validation Accuracy of the network: 43 %\n",
      "Validation loss decreased (1.228834 --> 1.225565).  Saving model ...\n"
     ]
    },
    {
     "name": "stderr",
     "output_type": "stream",
     "text": [
      "  3%|█████                                                                                                                                                              | 31/1000 [01:18<39:49,  2.47s/it]"
     ]
    },
    {
     "name": "stdout",
     "output_type": "stream",
     "text": [
      "Training Loss: 0.9857597199903019\n",
      "Validation Loss: 1.2209992068154472\n",
      "Training Accuracy of the network: 59 %\n",
      "Validation Accuracy of the network: 44 %\n",
      "Validation loss decreased (1.225565 --> 1.220999).  Saving model ...\n"
     ]
    },
    {
     "name": "stderr",
     "output_type": "stream",
     "text": [
      "  3%|█████▏                                                                                                                                                             | 32/1000 [01:21<40:09,  2.49s/it]"
     ]
    },
    {
     "name": "stdout",
     "output_type": "stream",
     "text": [
      "Training Loss: 0.9727047556552334\n",
      "Validation Loss: 1.2215095298630851\n",
      "Training Accuracy of the network: 59 %\n",
      "Validation Accuracy of the network: 43 %\n",
      "EarlyStopping counter: 1 out of 50\n"
     ]
    },
    {
     "name": "stderr",
     "output_type": "stream",
     "text": [
      "  3%|█████▍                                                                                                                                                             | 33/1000 [01:23<40:19,  2.50s/it]"
     ]
    },
    {
     "name": "stdout",
     "output_type": "stream",
     "text": [
      "Training Loss: 0.9552952318951704\n",
      "Validation Loss: 1.216496271746499\n",
      "Training Accuracy of the network: 61 %\n",
      "Validation Accuracy of the network: 43 %\n",
      "Validation loss decreased (1.220999 --> 1.216496).  Saving model ...\n"
     ]
    },
    {
     "name": "stderr",
     "output_type": "stream",
     "text": [
      "  3%|█████▌                                                                                                                                                             | 34/1000 [01:26<40:41,  2.53s/it]"
     ]
    },
    {
     "name": "stdout",
     "output_type": "stream",
     "text": [
      "Training Loss: 0.9443969445815985\n",
      "Validation Loss: 1.2128679973738534\n",
      "Training Accuracy of the network: 60 %\n",
      "Validation Accuracy of the network: 43 %\n",
      "Validation loss decreased (1.216496 --> 1.212868).  Saving model ...\n"
     ]
    },
    {
     "name": "stderr",
     "output_type": "stream",
     "text": [
      "  4%|█████▋                                                                                                                                                             | 35/1000 [01:29<40:48,  2.54s/it]"
     ]
    },
    {
     "name": "stdout",
     "output_type": "stream",
     "text": [
      "Training Loss: 0.9255259615787561\n",
      "Validation Loss: 1.211337207044874\n",
      "Training Accuracy of the network: 62 %\n",
      "Validation Accuracy of the network: 44 %\n",
      "Validation loss decreased (1.212868 --> 1.211337).  Saving model ...\n"
     ]
    },
    {
     "name": "stderr",
     "output_type": "stream",
     "text": [
      "  4%|█████▊                                                                                                                                                             | 36/1000 [01:31<41:21,  2.57s/it]"
     ]
    },
    {
     "name": "stdout",
     "output_type": "stream",
     "text": [
      "Training Loss: 0.9285949403825013\n",
      "Validation Loss: 1.2098962477275303\n",
      "Training Accuracy of the network: 62 %\n",
      "Validation Accuracy of the network: 44 %\n",
      "Validation loss decreased (1.211337 --> 1.209896).  Saving model ...\n"
     ]
    },
    {
     "name": "stderr",
     "output_type": "stream",
     "text": [
      "  4%|██████                                                                                                                                                             | 37/1000 [01:34<41:31,  2.59s/it]"
     ]
    },
    {
     "name": "stdout",
     "output_type": "stream",
     "text": [
      "Training Loss: 0.9073429438083068\n",
      "Validation Loss: 1.2032051256724767\n",
      "Training Accuracy of the network: 63 %\n",
      "Validation Accuracy of the network: 46 %\n",
      "Validation loss decreased (1.209896 --> 1.203205).  Saving model ...\n"
     ]
    },
    {
     "name": "stderr",
     "output_type": "stream",
     "text": [
      "  4%|██████▏                                                                                                                                                            | 38/1000 [01:36<41:31,  2.59s/it]"
     ]
    },
    {
     "name": "stdout",
     "output_type": "stream",
     "text": [
      "Training Loss: 0.8955664928408636\n",
      "Validation Loss: 1.2012366362980433\n",
      "Training Accuracy of the network: 64 %\n",
      "Validation Accuracy of the network: 45 %\n",
      "Validation loss decreased (1.203205 --> 1.201237).  Saving model ...\n"
     ]
    },
    {
     "name": "stderr",
     "output_type": "stream",
     "text": [
      "  4%|██████▎                                                                                                                                                            | 39/1000 [01:39<41:12,  2.57s/it]"
     ]
    },
    {
     "name": "stdout",
     "output_type": "stream",
     "text": [
      "Training Loss: 0.8832017315038736\n",
      "Validation Loss: 1.202385996069227\n",
      "Training Accuracy of the network: 64 %\n",
      "Validation Accuracy of the network: 45 %\n",
      "EarlyStopping counter: 1 out of 50\n"
     ]
    },
    {
     "name": "stderr",
     "output_type": "stream",
     "text": [
      "  4%|██████▌                                                                                                                                                            | 40/1000 [01:41<40:38,  2.54s/it]"
     ]
    },
    {
     "name": "stdout",
     "output_type": "stream",
     "text": [
      "Training Loss: 0.8795137498257817\n",
      "Validation Loss: 1.1986811212130954\n",
      "Training Accuracy of the network: 64 %\n",
      "Validation Accuracy of the network: 46 %\n",
      "Validation loss decreased (1.201237 --> 1.198681).  Saving model ...\n"
     ]
    },
    {
     "name": "stderr",
     "output_type": "stream",
     "text": [
      "  4%|██████▋                                                                                                                                                            | 41/1000 [01:44<40:17,  2.52s/it]"
     ]
    },
    {
     "name": "stdout",
     "output_type": "stream",
     "text": [
      "Training Loss: 0.8827065102000168\n",
      "Validation Loss: 1.1946034669876098\n",
      "Training Accuracy of the network: 63 %\n",
      "Validation Accuracy of the network: 46 %\n",
      "Validation loss decreased (1.198681 --> 1.194603).  Saving model ...\n"
     ]
    },
    {
     "name": "stderr",
     "output_type": "stream",
     "text": [
      "  4%|██████▊                                                                                                                                                            | 42/1000 [01:46<40:02,  2.51s/it]"
     ]
    },
    {
     "name": "stdout",
     "output_type": "stream",
     "text": [
      "Training Loss: 0.8545366350723349\n",
      "Validation Loss: 1.1880580271993364\n",
      "Training Accuracy of the network: 65 %\n",
      "Validation Accuracy of the network: 47 %\n",
      "Validation loss decreased (1.194603 --> 1.188058).  Saving model ...\n"
     ]
    },
    {
     "name": "stderr",
     "output_type": "stream",
     "text": [
      "  4%|███████                                                                                                                                                            | 43/1000 [01:49<40:24,  2.53s/it]"
     ]
    },
    {
     "name": "stdout",
     "output_type": "stream",
     "text": [
      "Training Loss: 0.8532352093337239\n",
      "Validation Loss: 1.183812609740666\n",
      "Training Accuracy of the network: 65 %\n",
      "Validation Accuracy of the network: 47 %\n",
      "Validation loss decreased (1.188058 --> 1.183813).  Saving model ...\n"
     ]
    },
    {
     "name": "stderr",
     "output_type": "stream",
     "text": [
      "  4%|███████▏                                                                                                                                                           | 44/1000 [01:52<40:52,  2.57s/it]"
     ]
    },
    {
     "name": "stdout",
     "output_type": "stream",
     "text": [
      "Training Loss: 0.8392348730045817\n",
      "Validation Loss: 1.1905519264084952\n",
      "Training Accuracy of the network: 67 %\n",
      "Validation Accuracy of the network: 47 %\n",
      "EarlyStopping counter: 1 out of 50\n"
     ]
    },
    {
     "name": "stderr",
     "output_type": "stream",
     "text": [
      "  4%|███████▎                                                                                                                                                           | 45/1000 [01:54<41:13,  2.59s/it]"
     ]
    },
    {
     "name": "stdout",
     "output_type": "stream",
     "text": [
      "Training Loss: 0.8382062302983325\n",
      "Validation Loss: 1.1894149167197092\n",
      "Training Accuracy of the network: 66 %\n",
      "Validation Accuracy of the network: 47 %\n",
      "EarlyStopping counter: 2 out of 50\n"
     ]
    },
    {
     "name": "stderr",
     "output_type": "stream",
     "text": [
      "  5%|███████▍                                                                                                                                                           | 46/1000 [01:57<41:01,  2.58s/it]"
     ]
    },
    {
     "name": "stdout",
     "output_type": "stream",
     "text": [
      "Training Loss: 0.8218177060286204\n",
      "Validation Loss: 1.1862448453903198\n",
      "Training Accuracy of the network: 67 %\n",
      "Validation Accuracy of the network: 46 %\n",
      "EarlyStopping counter: 3 out of 50\n"
     ]
    },
    {
     "name": "stderr",
     "output_type": "stream",
     "text": [
      "  5%|███████▋                                                                                                                                                           | 47/1000 [01:59<39:19,  2.48s/it]"
     ]
    },
    {
     "name": "stdout",
     "output_type": "stream",
     "text": [
      "Training Loss: 0.8136606162440949\n",
      "Validation Loss: 1.1827400258609226\n",
      "Training Accuracy of the network: 68 %\n",
      "Validation Accuracy of the network: 48 %\n",
      "Validation loss decreased (1.183813 --> 1.182740).  Saving model ...\n"
     ]
    },
    {
     "name": "stderr",
     "output_type": "stream",
     "text": [
      "  5%|███████▊                                                                                                                                                           | 48/1000 [02:02<39:33,  2.49s/it]"
     ]
    },
    {
     "name": "stdout",
     "output_type": "stream",
     "text": [
      "Training Loss: 0.8091855956160504\n",
      "Validation Loss: 1.1827013305255345\n",
      "Training Accuracy of the network: 67 %\n",
      "Validation Accuracy of the network: 47 %\n",
      "Validation loss decreased (1.182740 --> 1.182701).  Saving model ...\n"
     ]
    },
    {
     "name": "stderr",
     "output_type": "stream",
     "text": [
      "  5%|███████▉                                                                                                                                                           | 49/1000 [02:04<39:04,  2.47s/it]"
     ]
    },
    {
     "name": "stdout",
     "output_type": "stream",
     "text": [
      "Training Loss: 0.7879436469596365\n",
      "Validation Loss: 1.190093389579228\n",
      "Training Accuracy of the network: 68 %\n",
      "Validation Accuracy of the network: 48 %\n",
      "EarlyStopping counter: 1 out of 50\n"
     ]
    },
    {
     "name": "stderr",
     "output_type": "stream",
     "text": [
      "  5%|████████▏                                                                                                                                                          | 50/1000 [02:07<39:39,  2.50s/it]"
     ]
    },
    {
     "name": "stdout",
     "output_type": "stream",
     "text": [
      "Training Loss: 0.7901450946279194\n",
      "Validation Loss: 1.1886934450694493\n",
      "Training Accuracy of the network: 68 %\n",
      "Validation Accuracy of the network: 47 %\n",
      "EarlyStopping counter: 2 out of 50\n"
     ]
    },
    {
     "name": "stderr",
     "output_type": "stream",
     "text": [
      "  5%|████████▎                                                                                                                                                          | 51/1000 [02:09<40:11,  2.54s/it]"
     ]
    },
    {
     "name": "stdout",
     "output_type": "stream",
     "text": [
      "Training Loss: 0.7798750957717067\n",
      "Validation Loss: 1.1919564161981855\n",
      "Training Accuracy of the network: 68 %\n",
      "Validation Accuracy of the network: 48 %\n",
      "EarlyStopping counter: 3 out of 50\n"
     ]
    },
    {
     "name": "stderr",
     "output_type": "stream",
     "text": [
      "  5%|████████▍                                                                                                                                                          | 52/1000 [02:12<40:00,  2.53s/it]"
     ]
    },
    {
     "name": "stdout",
     "output_type": "stream",
     "text": [
      "Training Loss: 0.7660982179037039\n",
      "Validation Loss: 1.176663839817047\n",
      "Training Accuracy of the network: 71 %\n",
      "Validation Accuracy of the network: 48 %\n",
      "Validation loss decreased (1.182701 --> 1.176664).  Saving model ...\n"
     ]
    },
    {
     "name": "stderr",
     "output_type": "stream",
     "text": [
      "  5%|████████▋                                                                                                                                                          | 53/1000 [02:14<40:01,  2.54s/it]"
     ]
    },
    {
     "name": "stdout",
     "output_type": "stream",
     "text": [
      "Training Loss: 0.7686844882757767\n",
      "Validation Loss: 1.1866846919059753\n",
      "Training Accuracy of the network: 69 %\n",
      "Validation Accuracy of the network: 48 %\n",
      "EarlyStopping counter: 1 out of 50\n"
     ]
    },
    {
     "name": "stderr",
     "output_type": "stream",
     "text": [
      "  5%|████████▊                                                                                                                                                          | 54/1000 [02:17<39:53,  2.53s/it]"
     ]
    },
    {
     "name": "stdout",
     "output_type": "stream",
     "text": [
      "Training Loss: 0.7564825638048891\n",
      "Validation Loss: 1.1825622524533952\n",
      "Training Accuracy of the network: 69 %\n",
      "Validation Accuracy of the network: 46 %\n",
      "EarlyStopping counter: 2 out of 50\n"
     ]
    },
    {
     "name": "stderr",
     "output_type": "stream",
     "text": [
      "  6%|████████▉                                                                                                                                                          | 55/1000 [02:19<39:36,  2.51s/it]"
     ]
    },
    {
     "name": "stdout",
     "output_type": "stream",
     "text": [
      "Training Loss: 0.7562160254388616\n",
      "Validation Loss: 1.1902707168034146\n",
      "Training Accuracy of the network: 69 %\n",
      "Validation Accuracy of the network: 48 %\n",
      "EarlyStopping counter: 3 out of 50\n"
     ]
    },
    {
     "name": "stderr",
     "output_type": "stream",
     "text": [
      "  6%|█████████▏                                                                                                                                                         | 56/1000 [02:22<39:14,  2.49s/it]"
     ]
    },
    {
     "name": "stdout",
     "output_type": "stream",
     "text": [
      "Training Loss: 0.7380631447270296\n",
      "Validation Loss: 1.191748034954071\n",
      "Training Accuracy of the network: 70 %\n",
      "Validation Accuracy of the network: 48 %\n",
      "EarlyStopping counter: 4 out of 50\n"
     ]
    },
    {
     "name": "stderr",
     "output_type": "stream",
     "text": [
      "  6%|█████████▎                                                                                                                                                         | 57/1000 [02:24<39:17,  2.50s/it]"
     ]
    },
    {
     "name": "stdout",
     "output_type": "stream",
     "text": [
      "Training Loss: 0.7457521525414094\n",
      "Validation Loss: 1.1841313600540162\n",
      "Training Accuracy of the network: 71 %\n",
      "Validation Accuracy of the network: 49 %\n",
      "EarlyStopping counter: 5 out of 50\n"
     ]
    },
    {
     "name": "stderr",
     "output_type": "stream",
     "text": [
      "  6%|█████████▍                                                                                                                                                         | 58/1000 [02:27<39:24,  2.51s/it]"
     ]
    },
    {
     "name": "stdout",
     "output_type": "stream",
     "text": [
      "Training Loss: 0.7496603673350983\n",
      "Validation Loss: 1.180906661919185\n",
      "Training Accuracy of the network: 70 %\n",
      "Validation Accuracy of the network: 48 %\n",
      "EarlyStopping counter: 6 out of 50\n"
     ]
    },
    {
     "name": "stderr",
     "output_type": "stream",
     "text": [
      "  6%|█████████▌                                                                                                                                                         | 59/1000 [02:29<39:17,  2.51s/it]"
     ]
    },
    {
     "name": "stdout",
     "output_type": "stream",
     "text": [
      "Training Loss: 0.7275353931430457\n",
      "Validation Loss: 1.2032301272664752\n",
      "Training Accuracy of the network: 71 %\n",
      "Validation Accuracy of the network: 47 %\n",
      "EarlyStopping counter: 7 out of 50\n"
     ]
    },
    {
     "name": "stderr",
     "output_type": "stream",
     "text": [
      "  6%|█████████▊                                                                                                                                                         | 60/1000 [02:32<39:22,  2.51s/it]"
     ]
    },
    {
     "name": "stdout",
     "output_type": "stream",
     "text": [
      "Training Loss: 0.7266078226376271\n",
      "Validation Loss: 1.183759616102491\n",
      "Training Accuracy of the network: 71 %\n",
      "Validation Accuracy of the network: 48 %\n",
      "EarlyStopping counter: 8 out of 50\n"
     ]
    },
    {
     "name": "stderr",
     "output_type": "stream",
     "text": [
      "  6%|█████████▉                                                                                                                                                         | 61/1000 [02:34<39:43,  2.54s/it]"
     ]
    },
    {
     "name": "stdout",
     "output_type": "stream",
     "text": [
      "Training Loss: 0.7161212950081065\n",
      "Validation Loss: 1.1889377662113734\n",
      "Training Accuracy of the network: 72 %\n",
      "Validation Accuracy of the network: 46 %\n",
      "EarlyStopping counter: 9 out of 50\n"
     ]
    },
    {
     "name": "stderr",
     "output_type": "stream",
     "text": [
      "  6%|██████████                                                                                                                                                         | 62/1000 [02:37<39:50,  2.55s/it]"
     ]
    },
    {
     "name": "stdout",
     "output_type": "stream",
     "text": [
      "Training Loss: 0.707325380133546\n",
      "Validation Loss: 1.1838735342025757\n",
      "Training Accuracy of the network: 71 %\n",
      "Validation Accuracy of the network: 47 %\n",
      "EarlyStopping counter: 10 out of 50\n"
     ]
    },
    {
     "name": "stderr",
     "output_type": "stream",
     "text": [
      "  6%|██████████▎                                                                                                                                                        | 63/1000 [02:39<38:59,  2.50s/it]"
     ]
    },
    {
     "name": "stdout",
     "output_type": "stream",
     "text": [
      "Training Loss: 0.7013788028903629\n",
      "Validation Loss: 1.1952156015804836\n",
      "Training Accuracy of the network: 72 %\n",
      "Validation Accuracy of the network: 47 %\n",
      "EarlyStopping counter: 11 out of 50\n"
     ]
    },
    {
     "name": "stderr",
     "output_type": "stream",
     "text": [
      "  6%|██████████▍                                                                                                                                                        | 64/1000 [02:42<38:56,  2.50s/it]"
     ]
    },
    {
     "name": "stdout",
     "output_type": "stream",
     "text": [
      "Training Loss: 0.6897147766489914\n",
      "Validation Loss: 1.1909010308129446\n",
      "Training Accuracy of the network: 72 %\n",
      "Validation Accuracy of the network: 47 %\n",
      "EarlyStopping counter: 12 out of 50\n"
     ]
    },
    {
     "name": "stderr",
     "output_type": "stream",
     "text": [
      "  6%|██████████▌                                                                                                                                                        | 65/1000 [02:44<38:30,  2.47s/it]"
     ]
    },
    {
     "name": "stdout",
     "output_type": "stream",
     "text": [
      "Training Loss: 0.6917332764984905\n",
      "Validation Loss: 1.2032206654548645\n",
      "Training Accuracy of the network: 73 %\n",
      "Validation Accuracy of the network: 46 %\n",
      "EarlyStopping counter: 13 out of 50\n"
     ]
    },
    {
     "name": "stderr",
     "output_type": "stream",
     "text": [
      "  7%|██████████▊                                                                                                                                                        | 66/1000 [02:47<38:27,  2.47s/it]"
     ]
    },
    {
     "name": "stdout",
     "output_type": "stream",
     "text": [
      "Training Loss: 0.6784302836311036\n",
      "Validation Loss: 1.1952074902398246\n",
      "Training Accuracy of the network: 73 %\n",
      "Validation Accuracy of the network: 47 %\n",
      "EarlyStopping counter: 14 out of 50\n"
     ]
    },
    {
     "name": "stderr",
     "output_type": "stream",
     "text": [
      "  7%|██████████▉                                                                                                                                                        | 67/1000 [02:49<37:57,  2.44s/it]"
     ]
    },
    {
     "name": "stdout",
     "output_type": "stream",
     "text": [
      "Training Loss: 0.6652944474548533\n",
      "Validation Loss: 1.2065432599612644\n",
      "Training Accuracy of the network: 74 %\n",
      "Validation Accuracy of the network: 48 %\n",
      "EarlyStopping counter: 15 out of 50\n"
     ]
    },
    {
     "name": "stderr",
     "output_type": "stream",
     "text": [
      "  7%|███████████                                                                                                                                                        | 68/1000 [02:52<38:30,  2.48s/it]"
     ]
    },
    {
     "name": "stdout",
     "output_type": "stream",
     "text": [
      "Training Loss: 0.6612771153450012\n",
      "Validation Loss: 1.20355681010655\n",
      "Training Accuracy of the network: 73 %\n",
      "Validation Accuracy of the network: 46 %\n",
      "EarlyStopping counter: 16 out of 50\n"
     ]
    },
    {
     "name": "stderr",
     "output_type": "stream",
     "text": [
      "  7%|███████████▏                                                                                                                                                       | 69/1000 [02:54<38:14,  2.46s/it]"
     ]
    },
    {
     "name": "stdout",
     "output_type": "stream",
     "text": [
      "Training Loss: 0.6746011778064396\n",
      "Validation Loss: 1.2109168086733137\n",
      "Training Accuracy of the network: 74 %\n",
      "Validation Accuracy of the network: 48 %\n",
      "EarlyStopping counter: 17 out of 50\n"
     ]
    },
    {
     "name": "stderr",
     "output_type": "stream",
     "text": [
      "  7%|███████████▍                                                                                                                                                       | 70/1000 [02:57<38:10,  2.46s/it]"
     ]
    },
    {
     "name": "stdout",
     "output_type": "stream",
     "text": [
      "Training Loss: 0.6570427875587905\n",
      "Validation Loss: 1.195602217742375\n",
      "Training Accuracy of the network: 75 %\n",
      "Validation Accuracy of the network: 46 %\n",
      "EarlyStopping counter: 18 out of 50\n"
     ]
    },
    {
     "name": "stderr",
     "output_type": "stream",
     "text": [
      "  7%|███████████▌                                                                                                                                                       | 71/1000 [02:59<38:07,  2.46s/it]"
     ]
    },
    {
     "name": "stdout",
     "output_type": "stream",
     "text": [
      "Training Loss: 0.6600447327330492\n",
      "Validation Loss: 1.204000791481563\n",
      "Training Accuracy of the network: 74 %\n",
      "Validation Accuracy of the network: 47 %\n",
      "EarlyStopping counter: 19 out of 50\n"
     ]
    },
    {
     "name": "stderr",
     "output_type": "stream",
     "text": [
      "  7%|███████████▋                                                                                                                                                       | 72/1000 [03:02<38:20,  2.48s/it]"
     ]
    },
    {
     "name": "stdout",
     "output_type": "stream",
     "text": [
      "Training Loss: 0.6533778663994609\n",
      "Validation Loss: 1.213792017527989\n",
      "Training Accuracy of the network: 74 %\n",
      "Validation Accuracy of the network: 48 %\n",
      "EarlyStopping counter: 20 out of 50\n"
     ]
    },
    {
     "name": "stderr",
     "output_type": "stream",
     "text": [
      "  7%|███████████▉                                                                                                                                                       | 73/1000 [03:04<38:32,  2.49s/it]"
     ]
    },
    {
     "name": "stdout",
     "output_type": "stream",
     "text": [
      "Training Loss: 0.6560599713221841\n",
      "Validation Loss: 1.208408864906856\n",
      "Training Accuracy of the network: 74 %\n",
      "Validation Accuracy of the network: 49 %\n",
      "EarlyStopping counter: 21 out of 50\n"
     ]
    },
    {
     "name": "stderr",
     "output_type": "stream",
     "text": [
      "  7%|████████████                                                                                                                                                       | 74/1000 [03:07<38:34,  2.50s/it]"
     ]
    },
    {
     "name": "stdout",
     "output_type": "stream",
     "text": [
      "Training Loss: 0.6216297320265701\n",
      "Validation Loss: 1.198262333869934\n",
      "Training Accuracy of the network: 76 %\n",
      "Validation Accuracy of the network: 49 %\n",
      "EarlyStopping counter: 22 out of 50\n"
     ]
    },
    {
     "name": "stderr",
     "output_type": "stream",
     "text": [
      "  8%|████████████▏                                                                                                                                                      | 75/1000 [03:09<38:55,  2.53s/it]"
     ]
    },
    {
     "name": "stdout",
     "output_type": "stream",
     "text": [
      "Training Loss: 0.6402141422681187\n",
      "Validation Loss: 1.1974236522402082\n",
      "Training Accuracy of the network: 75 %\n",
      "Validation Accuracy of the network: 49 %\n",
      "EarlyStopping counter: 23 out of 50\n"
     ]
    },
    {
     "name": "stderr",
     "output_type": "stream",
     "text": [
      "  8%|████████████▍                                                                                                                                                      | 76/1000 [03:12<38:45,  2.52s/it]"
     ]
    },
    {
     "name": "stdout",
     "output_type": "stream",
     "text": [
      "Training Loss: 0.6346919333589249\n",
      "Validation Loss: 1.227571645804814\n",
      "Training Accuracy of the network: 74 %\n",
      "Validation Accuracy of the network: 49 %\n",
      "EarlyStopping counter: 24 out of 50\n"
     ]
    },
    {
     "name": "stderr",
     "output_type": "stream",
     "text": [
      "  8%|████████████▌                                                                                                                                                      | 77/1000 [03:14<39:40,  2.58s/it]"
     ]
    },
    {
     "name": "stdout",
     "output_type": "stream",
     "text": [
      "Training Loss: 0.6227040243321571\n",
      "Validation Loss: 1.2175853167261397\n",
      "Training Accuracy of the network: 75 %\n",
      "Validation Accuracy of the network: 49 %\n",
      "EarlyStopping counter: 25 out of 50\n"
     ]
    },
    {
     "name": "stderr",
     "output_type": "stream",
     "text": [
      "  8%|████████████▋                                                                                                                                                      | 78/1000 [03:17<39:27,  2.57s/it]"
     ]
    },
    {
     "name": "stdout",
     "output_type": "stream",
     "text": [
      "Training Loss: 0.6243751338426617\n",
      "Validation Loss: 1.2166837351662771\n",
      "Training Accuracy of the network: 75 %\n",
      "Validation Accuracy of the network: 49 %\n",
      "EarlyStopping counter: 26 out of 50\n"
     ]
    },
    {
     "name": "stderr",
     "output_type": "stream",
     "text": [
      "  8%|████████████▉                                                                                                                                                      | 79/1000 [03:19<37:24,  2.44s/it]"
     ]
    },
    {
     "name": "stdout",
     "output_type": "stream",
     "text": [
      "Training Loss: 0.6189853659142619\n",
      "Validation Loss: 1.2261138916015626\n",
      "Training Accuracy of the network: 76 %\n",
      "Validation Accuracy of the network: 49 %\n",
      "EarlyStopping counter: 27 out of 50\n"
     ]
    },
    {
     "name": "stderr",
     "output_type": "stream",
     "text": [
      "  8%|█████████████                                                                                                                                                      | 80/1000 [03:21<36:42,  2.39s/it]"
     ]
    },
    {
     "name": "stdout",
     "output_type": "stream",
     "text": [
      "Training Loss: 0.6040789104890132\n",
      "Validation Loss: 1.2003086413655961\n",
      "Training Accuracy of the network: 76 %\n",
      "Validation Accuracy of the network: 49 %\n",
      "EarlyStopping counter: 28 out of 50\n"
     ]
    },
    {
     "name": "stderr",
     "output_type": "stream",
     "text": [
      "  8%|█████████████▏                                                                                                                                                     | 81/1000 [03:24<36:50,  2.41s/it]"
     ]
    },
    {
     "name": "stdout",
     "output_type": "stream",
     "text": [
      "Training Loss: 0.595599920961304\n",
      "Validation Loss: 1.2068318128585815\n",
      "Training Accuracy of the network: 76 %\n",
      "Validation Accuracy of the network: 49 %\n",
      "EarlyStopping counter: 29 out of 50\n"
     ]
    },
    {
     "name": "stderr",
     "output_type": "stream",
     "text": [
      "  8%|█████████████▎                                                                                                                                                     | 82/1000 [03:26<37:11,  2.43s/it]"
     ]
    },
    {
     "name": "stdout",
     "output_type": "stream",
     "text": [
      "Training Loss: 0.585718566848748\n",
      "Validation Loss: 1.2000241262572153\n",
      "Training Accuracy of the network: 77 %\n",
      "Validation Accuracy of the network: 50 %\n",
      "EarlyStopping counter: 30 out of 50\n"
     ]
    },
    {
     "name": "stderr",
     "output_type": "stream",
     "text": [
      "  8%|█████████████▌                                                                                                                                                     | 83/1000 [03:29<37:38,  2.46s/it]"
     ]
    },
    {
     "name": "stdout",
     "output_type": "stream",
     "text": [
      "Training Loss: 0.5928776412122492\n",
      "Validation Loss: 1.2048188124384198\n",
      "Training Accuracy of the network: 77 %\n",
      "Validation Accuracy of the network: 50 %\n",
      "EarlyStopping counter: 31 out of 50\n"
     ]
    },
    {
     "name": "stderr",
     "output_type": "stream",
     "text": [
      "  8%|█████████████▋                                                                                                                                                     | 84/1000 [03:31<37:50,  2.48s/it]"
     ]
    },
    {
     "name": "stdout",
     "output_type": "stream",
     "text": [
      "Training Loss: 0.5773243608250134\n",
      "Validation Loss: 1.221699709551675\n",
      "Training Accuracy of the network: 78 %\n",
      "Validation Accuracy of the network: 50 %\n",
      "EarlyStopping counter: 32 out of 50\n"
     ]
    },
    {
     "name": "stderr",
     "output_type": "stream",
     "text": [
      "  8%|█████████████▊                                                                                                                                                     | 85/1000 [03:34<38:34,  2.53s/it]"
     ]
    },
    {
     "name": "stdout",
     "output_type": "stream",
     "text": [
      "Training Loss: 0.574531909564267\n",
      "Validation Loss: 1.2192999907902309\n",
      "Training Accuracy of the network: 78 %\n",
      "Validation Accuracy of the network: 50 %\n",
      "EarlyStopping counter: 33 out of 50\n"
     ]
    },
    {
     "name": "stderr",
     "output_type": "stream",
     "text": [
      "  9%|██████████████                                                                                                                                                     | 86/1000 [03:37<38:33,  2.53s/it]"
     ]
    },
    {
     "name": "stdout",
     "output_type": "stream",
     "text": [
      "Training Loss: 0.5683700125934421\n",
      "Validation Loss: 1.2180294615881784\n",
      "Training Accuracy of the network: 77 %\n",
      "Validation Accuracy of the network: 50 %\n",
      "EarlyStopping counter: 34 out of 50\n"
     ]
    },
    {
     "name": "stderr",
     "output_type": "stream",
     "text": [
      "  9%|██████████████▏                                                                                                                                                    | 87/1000 [03:39<38:31,  2.53s/it]"
     ]
    },
    {
     "name": "stdout",
     "output_type": "stream",
     "text": [
      "Training Loss: 0.569642540121424\n",
      "Validation Loss: 1.231358960696629\n",
      "Training Accuracy of the network: 78 %\n",
      "Validation Accuracy of the network: 48 %\n",
      "EarlyStopping counter: 35 out of 50\n"
     ]
    },
    {
     "name": "stderr",
     "output_type": "stream",
     "text": [
      "  9%|██████████████▎                                                                                                                                                    | 88/1000 [03:42<38:27,  2.53s/it]"
     ]
    },
    {
     "name": "stdout",
     "output_type": "stream",
     "text": [
      "Training Loss: 0.5621189407032469\n",
      "Validation Loss: 1.225599878174918\n",
      "Training Accuracy of the network: 78 %\n",
      "Validation Accuracy of the network: 50 %\n",
      "EarlyStopping counter: 36 out of 50\n"
     ]
    },
    {
     "name": "stderr",
     "output_type": "stream",
     "text": [
      "  9%|██████████████▌                                                                                                                                                    | 89/1000 [03:44<38:19,  2.52s/it]"
     ]
    },
    {
     "name": "stdout",
     "output_type": "stream",
     "text": [
      "Training Loss: 0.5567069749037424\n",
      "Validation Loss: 1.207579583781106\n",
      "Training Accuracy of the network: 78 %\n",
      "Validation Accuracy of the network: 49 %\n",
      "EarlyStopping counter: 37 out of 50\n"
     ]
    },
    {
     "name": "stderr",
     "output_type": "stream",
     "text": [
      "  9%|██████████████▋                                                                                                                                                    | 90/1000 [03:47<38:54,  2.57s/it]"
     ]
    },
    {
     "name": "stdout",
     "output_type": "stream",
     "text": [
      "Training Loss: 0.5450704372015552\n",
      "Validation Loss: 1.229780227797372\n",
      "Training Accuracy of the network: 78 %\n",
      "Validation Accuracy of the network: 50 %\n",
      "EarlyStopping counter: 38 out of 50\n"
     ]
    },
    {
     "name": "stderr",
     "output_type": "stream",
     "text": [
      "  9%|██████████████▊                                                                                                                                                    | 91/1000 [03:49<38:53,  2.57s/it]"
     ]
    },
    {
     "name": "stdout",
     "output_type": "stream",
     "text": [
      "Training Loss: 0.5625171326640723\n",
      "Validation Loss: 1.2112166847501482\n",
      "Training Accuracy of the network: 78 %\n",
      "Validation Accuracy of the network: 48 %\n",
      "EarlyStopping counter: 39 out of 50\n"
     ]
    },
    {
     "name": "stderr",
     "output_type": "stream",
     "text": [
      "  9%|██████████████▉                                                                                                                                                    | 92/1000 [03:52<39:13,  2.59s/it]"
     ]
    },
    {
     "name": "stdout",
     "output_type": "stream",
     "text": [
      "Training Loss: 0.5493630526074464\n",
      "Validation Loss: 1.2136292730058942\n",
      "Training Accuracy of the network: 78 %\n",
      "Validation Accuracy of the network: 48 %\n",
      "EarlyStopping counter: 40 out of 50\n"
     ]
    },
    {
     "name": "stderr",
     "output_type": "stream",
     "text": [
      "  9%|███████████████▏                                                                                                                                                   | 93/1000 [03:55<38:50,  2.57s/it]"
     ]
    },
    {
     "name": "stdout",
     "output_type": "stream",
     "text": [
      "Training Loss: 0.5407484522548275\n",
      "Validation Loss: 1.2244785325867789\n",
      "Training Accuracy of the network: 79 %\n",
      "Validation Accuracy of the network: 48 %\n",
      "EarlyStopping counter: 41 out of 50\n"
     ]
    },
    {
     "name": "stderr",
     "output_type": "stream",
     "text": [
      "  9%|███████████████▎                                                                                                                                                   | 94/1000 [03:57<38:31,  2.55s/it]"
     ]
    },
    {
     "name": "stdout",
     "output_type": "stream",
     "text": [
      "Training Loss: 0.5340245123142782\n",
      "Validation Loss: 1.255094141619546\n",
      "Training Accuracy of the network: 79 %\n",
      "Validation Accuracy of the network: 49 %\n",
      "EarlyStopping counter: 42 out of 50\n"
     ]
    },
    {
     "name": "stderr",
     "output_type": "stream",
     "text": [
      " 10%|███████████████▍                                                                                                                                                   | 95/1000 [03:59<37:30,  2.49s/it]"
     ]
    },
    {
     "name": "stdout",
     "output_type": "stream",
     "text": [
      "Training Loss: 0.5527595470564953\n",
      "Validation Loss: 1.243486079147884\n",
      "Training Accuracy of the network: 78 %\n",
      "Validation Accuracy of the network: 48 %\n",
      "EarlyStopping counter: 43 out of 50\n"
     ]
    },
    {
     "name": "stderr",
     "output_type": "stream",
     "text": [
      " 10%|███████████████▋                                                                                                                                                   | 96/1000 [04:02<37:11,  2.47s/it]"
     ]
    },
    {
     "name": "stdout",
     "output_type": "stream",
     "text": [
      "Training Loss: 0.5446290399717248\n",
      "Validation Loss: 1.2480359877858842\n",
      "Training Accuracy of the network: 78 %\n",
      "Validation Accuracy of the network: 50 %\n",
      "EarlyStopping counter: 44 out of 50\n"
     ]
    },
    {
     "name": "stderr",
     "output_type": "stream",
     "text": [
      " 10%|███████████████▊                                                                                                                                                   | 97/1000 [04:04<37:25,  2.49s/it]"
     ]
    },
    {
     "name": "stdout",
     "output_type": "stream",
     "text": [
      "Training Loss: 0.519927369079728\n",
      "Validation Loss: 1.2640204463686262\n",
      "Training Accuracy of the network: 80 %\n",
      "Validation Accuracy of the network: 50 %\n",
      "EarlyStopping counter: 45 out of 50\n"
     ]
    },
    {
     "name": "stderr",
     "output_type": "stream",
     "text": [
      " 10%|███████████████▉                                                                                                                                                   | 98/1000 [04:07<37:36,  2.50s/it]"
     ]
    },
    {
     "name": "stdout",
     "output_type": "stream",
     "text": [
      "Training Loss: 0.5239609754171924\n",
      "Validation Loss: 1.2507539868354798\n",
      "Training Accuracy of the network: 79 %\n",
      "Validation Accuracy of the network: 49 %\n",
      "EarlyStopping counter: 46 out of 50\n"
     ]
    },
    {
     "name": "stderr",
     "output_type": "stream",
     "text": [
      " 10%|████████████████▏                                                                                                                                                  | 99/1000 [04:09<37:54,  2.52s/it]"
     ]
    },
    {
     "name": "stdout",
     "output_type": "stream",
     "text": [
      "Training Loss: 0.5307905904516794\n",
      "Validation Loss: 1.2333336744989667\n",
      "Training Accuracy of the network: 79 %\n",
      "Validation Accuracy of the network: 48 %\n",
      "EarlyStopping counter: 47 out of 50\n"
     ]
    },
    {
     "name": "stderr",
     "output_type": "stream",
     "text": [
      " 10%|████████████████▏                                                                                                                                                 | 100/1000 [04:12<38:24,  2.56s/it]"
     ]
    },
    {
     "name": "stdout",
     "output_type": "stream",
     "text": [
      "Training Loss: 0.5227261386487795\n",
      "Validation Loss: 1.2610379661832536\n",
      "Training Accuracy of the network: 79 %\n",
      "Validation Accuracy of the network: 49 %\n",
      "EarlyStopping counter: 48 out of 50\n"
     ]
    },
    {
     "name": "stderr",
     "output_type": "stream",
     "text": [
      " 10%|████████████████▎                                                                                                                                                 | 101/1000 [04:15<37:51,  2.53s/it]"
     ]
    },
    {
     "name": "stdout",
     "output_type": "stream",
     "text": [
      "Training Loss: 0.5274706992550172\n",
      "Validation Loss: 1.2651760969843184\n",
      "Training Accuracy of the network: 79 %\n",
      "Validation Accuracy of the network: 49 %\n",
      "EarlyStopping counter: 49 out of 50\n"
     ]
    },
    {
     "name": "stderr",
     "output_type": "stream",
     "text": [
      " 10%|████████████████▎                                                                                                                                                 | 101/1000 [04:17<38:13,  2.55s/it]"
     ]
    },
    {
     "name": "stdout",
     "output_type": "stream",
     "text": [
      "Training Loss: 0.5040570712391881\n",
      "Validation Loss: 1.233777710369655\n",
      "Training Accuracy of the network: 80 %\n",
      "Validation Accuracy of the network: 49 %\n",
      "EarlyStopping counter: 50 out of 50\n",
      "Early Stopping\n",
      "Testing Loss: 1.288115382194519\n",
      "Testing Accuracy of the network: 40 %\n"
     ]
    },
    {
     "name": "stderr",
     "output_type": "stream",
     "text": [
      "\n",
      "  0%|▏                                                                                                                                                                   | 1/1000 [00:02<44:53,  2.70s/it]"
     ]
    },
    {
     "name": "stdout",
     "output_type": "stream",
     "text": [
      "Training Loss: 1.576345459789249\n",
      "Validation Loss: 1.394137485159768\n",
      "Training Accuracy of the network: 22 %\n",
      "Validation Accuracy of the network: 27 %\n",
      "Validation loss decreased (inf --> 1.394137).  Saving model ...\n"
     ]
    },
    {
     "name": "stderr",
     "output_type": "stream",
     "text": [
      "  0%|▎                                                                                                                                                                   | 2/1000 [00:05<43:18,  2.60s/it]"
     ]
    },
    {
     "name": "stdout",
     "output_type": "stream",
     "text": [
      "Training Loss: 1.5074856704008495\n",
      "Validation Loss: 1.3798140320512984\n",
      "Training Accuracy of the network: 26 %\n",
      "Validation Accuracy of the network: 28 %\n",
      "Validation loss decreased (1.394137 --> 1.379814).  Saving model ...\n"
     ]
    },
    {
     "name": "stderr",
     "output_type": "stream",
     "text": [
      "  0%|▍                                                                                                                                                                   | 3/1000 [00:07<43:19,  2.61s/it]"
     ]
    },
    {
     "name": "stdout",
     "output_type": "stream",
     "text": [
      "Training Loss: 1.4614333311716716\n",
      "Validation Loss: 1.367525703377194\n",
      "Training Accuracy of the network: 27 %\n",
      "Validation Accuracy of the network: 31 %\n",
      "Validation loss decreased (1.379814 --> 1.367526).  Saving model ...\n"
     ]
    },
    {
     "name": "stderr",
     "output_type": "stream",
     "text": [
      "  0%|▋                                                                                                                                                                   | 4/1000 [00:10<42:38,  2.57s/it]"
     ]
    },
    {
     "name": "stdout",
     "output_type": "stream",
     "text": [
      "Training Loss: 1.4141904048040403\n",
      "Validation Loss: 1.35513922240999\n",
      "Training Accuracy of the network: 29 %\n",
      "Validation Accuracy of the network: 33 %\n",
      "Validation loss decreased (1.367526 --> 1.355139).  Saving model ...\n"
     ]
    },
    {
     "name": "stderr",
     "output_type": "stream",
     "text": [
      "  0%|▊                                                                                                                                                                   | 5/1000 [00:12<42:51,  2.58s/it]"
     ]
    },
    {
     "name": "stdout",
     "output_type": "stream",
     "text": [
      "Training Loss: 1.387915665376271\n",
      "Validation Loss: 1.346280253595776\n",
      "Training Accuracy of the network: 32 %\n",
      "Validation Accuracy of the network: 33 %\n",
      "Validation loss decreased (1.355139 --> 1.346280).  Saving model ...\n"
     ]
    },
    {
     "name": "stderr",
     "output_type": "stream",
     "text": [
      "  1%|▉                                                                                                                                                                   | 6/1000 [00:15<43:32,  2.63s/it]"
     ]
    },
    {
     "name": "stdout",
     "output_type": "stream",
     "text": [
      "Training Loss: 1.3710467375762074\n",
      "Validation Loss: 1.3388680617014568\n",
      "Training Accuracy of the network: 33 %\n",
      "Validation Accuracy of the network: 32 %\n",
      "Validation loss decreased (1.346280 --> 1.338868).  Saving model ...\n"
     ]
    },
    {
     "name": "stderr",
     "output_type": "stream",
     "text": [
      "  1%|█▏                                                                                                                                                                  | 7/1000 [00:18<43:41,  2.64s/it]"
     ]
    },
    {
     "name": "stdout",
     "output_type": "stream",
     "text": [
      "Training Loss: 1.3547093910528414\n",
      "Validation Loss: 1.3279792699548933\n",
      "Training Accuracy of the network: 34 %\n",
      "Validation Accuracy of the network: 35 %\n",
      "Validation loss decreased (1.338868 --> 1.327979).  Saving model ...\n"
     ]
    },
    {
     "name": "stderr",
     "output_type": "stream",
     "text": [
      "  1%|█▎                                                                                                                                                                  | 8/1000 [00:20<42:42,  2.58s/it]"
     ]
    },
    {
     "name": "stdout",
     "output_type": "stream",
     "text": [
      "Training Loss: 1.335110345208053\n",
      "Validation Loss: 1.320319841305415\n",
      "Training Accuracy of the network: 35 %\n",
      "Validation Accuracy of the network: 35 %\n",
      "Validation loss decreased (1.327979 --> 1.320320).  Saving model ...\n"
     ]
    },
    {
     "name": "stderr",
     "output_type": "stream",
     "text": [
      "  1%|█▍                                                                                                                                                                  | 9/1000 [00:23<42:40,  2.58s/it]"
     ]
    },
    {
     "name": "stdout",
     "output_type": "stream",
     "text": [
      "Training Loss: 1.3106044120822393\n",
      "Validation Loss: 1.3110789855321248\n",
      "Training Accuracy of the network: 38 %\n",
      "Validation Accuracy of the network: 36 %\n",
      "Validation loss decreased (1.320320 --> 1.311079).  Saving model ...\n"
     ]
    },
    {
     "name": "stderr",
     "output_type": "stream",
     "text": [
      "  1%|█▋                                                                                                                                                                 | 10/1000 [00:26<42:45,  2.59s/it]"
     ]
    },
    {
     "name": "stdout",
     "output_type": "stream",
     "text": [
      "Training Loss: 1.2860268536188924\n",
      "Validation Loss: 1.3045336935255263\n",
      "Training Accuracy of the network: 39 %\n",
      "Validation Accuracy of the network: 37 %\n",
      "Validation loss decreased (1.311079 --> 1.304534).  Saving model ...\n"
     ]
    },
    {
     "name": "stderr",
     "output_type": "stream",
     "text": [
      "  1%|█▊                                                                                                                                                                 | 11/1000 [00:28<43:11,  2.62s/it]"
     ]
    },
    {
     "name": "stdout",
     "output_type": "stream",
     "text": [
      "Training Loss: 1.273005797507915\n",
      "Validation Loss: 1.296346561776267\n",
      "Training Accuracy of the network: 41 %\n",
      "Validation Accuracy of the network: 37 %\n",
      "Validation loss decreased (1.304534 --> 1.296347).  Saving model ...\n"
     ]
    },
    {
     "name": "stderr",
     "output_type": "stream",
     "text": [
      "  1%|█▉                                                                                                                                                                 | 12/1000 [00:31<43:07,  2.62s/it]"
     ]
    },
    {
     "name": "stdout",
     "output_type": "stream",
     "text": [
      "Training Loss: 1.2589457821338734\n",
      "Validation Loss: 1.2902973824077182\n",
      "Training Accuracy of the network: 42 %\n",
      "Validation Accuracy of the network: 38 %\n",
      "Validation loss decreased (1.296347 --> 1.290297).  Saving model ...\n"
     ]
    },
    {
     "name": "stderr",
     "output_type": "stream",
     "text": [
      "  1%|██                                                                                                                                                                 | 13/1000 [00:33<42:53,  2.61s/it]"
     ]
    },
    {
     "name": "stdout",
     "output_type": "stream",
     "text": [
      "Training Loss: 1.239929793574286\n",
      "Validation Loss: 1.2867901225884755\n",
      "Training Accuracy of the network: 42 %\n",
      "Validation Accuracy of the network: 37 %\n",
      "Validation loss decreased (1.290297 --> 1.286790).  Saving model ...\n"
     ]
    },
    {
     "name": "stderr",
     "output_type": "stream",
     "text": [
      "  1%|██▎                                                                                                                                                                | 14/1000 [00:36<42:49,  2.61s/it]"
     ]
    },
    {
     "name": "stdout",
     "output_type": "stream",
     "text": [
      "Training Loss: 1.2277688553147281\n",
      "Validation Loss: 1.2810168200069003\n",
      "Training Accuracy of the network: 44 %\n",
      "Validation Accuracy of the network: 38 %\n",
      "Validation loss decreased (1.286790 --> 1.281017).  Saving model ...\n"
     ]
    },
    {
     "name": "stderr",
     "output_type": "stream",
     "text": [
      "  2%|██▍                                                                                                                                                                | 15/1000 [00:39<42:58,  2.62s/it]"
     ]
    },
    {
     "name": "stdout",
     "output_type": "stream",
     "text": [
      "Training Loss: 1.2189635034148574\n",
      "Validation Loss: 1.2759165432718065\n",
      "Training Accuracy of the network: 44 %\n",
      "Validation Accuracy of the network: 37 %\n",
      "Validation loss decreased (1.281017 --> 1.275917).  Saving model ...\n"
     ]
    },
    {
     "name": "stderr",
     "output_type": "stream",
     "text": [
      "  2%|██▌                                                                                                                                                                | 16/1000 [00:41<42:56,  2.62s/it]"
     ]
    },
    {
     "name": "stdout",
     "output_type": "stream",
     "text": [
      "Training Loss: 1.192966063817342\n",
      "Validation Loss: 1.2677103645271726\n",
      "Training Accuracy of the network: 47 %\n",
      "Validation Accuracy of the network: 37 %\n",
      "Validation loss decreased (1.275917 --> 1.267710).  Saving model ...\n"
     ]
    },
    {
     "name": "stderr",
     "output_type": "stream",
     "text": [
      "  2%|██▊                                                                                                                                                                | 17/1000 [00:44<43:02,  2.63s/it]"
     ]
    },
    {
     "name": "stdout",
     "output_type": "stream",
     "text": [
      "Training Loss: 1.1866279764378325\n",
      "Validation Loss: 1.2642233537303076\n",
      "Training Accuracy of the network: 46 %\n",
      "Validation Accuracy of the network: 36 %\n",
      "Validation loss decreased (1.267710 --> 1.264223).  Saving model ...\n"
     ]
    },
    {
     "name": "stderr",
     "output_type": "stream",
     "text": [
      "  2%|██▉                                                                                                                                                                | 18/1000 [00:47<42:52,  2.62s/it]"
     ]
    },
    {
     "name": "stdout",
     "output_type": "stream",
     "text": [
      "Training Loss: 1.1727729532735567\n",
      "Validation Loss: 1.2610541085402172\n",
      "Training Accuracy of the network: 47 %\n",
      "Validation Accuracy of the network: 37 %\n",
      "Validation loss decreased (1.264223 --> 1.261054).  Saving model ...\n"
     ]
    },
    {
     "name": "stderr",
     "output_type": "stream",
     "text": [
      "  2%|███                                                                                                                                                                | 19/1000 [00:49<42:29,  2.60s/it]"
     ]
    },
    {
     "name": "stdout",
     "output_type": "stream",
     "text": [
      "Training Loss: 1.1505650784952421\n",
      "Validation Loss: 1.2536559369828966\n",
      "Training Accuracy of the network: 50 %\n",
      "Validation Accuracy of the network: 38 %\n",
      "Validation loss decreased (1.261054 --> 1.253656).  Saving model ...\n"
     ]
    },
    {
     "name": "stderr",
     "output_type": "stream",
     "text": [
      "  2%|███▎                                                                                                                                                               | 20/1000 [00:52<43:06,  2.64s/it]"
     ]
    },
    {
     "name": "stdout",
     "output_type": "stream",
     "text": [
      "Training Loss: 1.1537431351681973\n",
      "Validation Loss: 1.2488011850251093\n",
      "Training Accuracy of the network: 47 %\n",
      "Validation Accuracy of the network: 38 %\n",
      "Validation loss decreased (1.253656 --> 1.248801).  Saving model ...\n"
     ]
    },
    {
     "name": "stderr",
     "output_type": "stream",
     "text": [
      "  2%|███▍                                                                                                                                                               | 21/1000 [00:54<42:15,  2.59s/it]"
     ]
    },
    {
     "name": "stdout",
     "output_type": "stream",
     "text": [
      "Training Loss: 1.1320977925408817\n",
      "Validation Loss: 1.2433660626411438\n",
      "Training Accuracy of the network: 51 %\n",
      "Validation Accuracy of the network: 39 %\n",
      "Validation loss decreased (1.248801 --> 1.243366).  Saving model ...\n"
     ]
    },
    {
     "name": "stderr",
     "output_type": "stream",
     "text": [
      "  2%|███▌                                                                                                                                                               | 22/1000 [00:57<42:59,  2.64s/it]"
     ]
    },
    {
     "name": "stdout",
     "output_type": "stream",
     "text": [
      "Training Loss: 1.1064429409960483\n",
      "Validation Loss: 1.2403815819157495\n",
      "Training Accuracy of the network: 51 %\n",
      "Validation Accuracy of the network: 39 %\n",
      "Validation loss decreased (1.243366 --> 1.240382).  Saving model ...\n"
     ]
    },
    {
     "name": "stderr",
     "output_type": "stream",
     "text": [
      "  2%|███▋                                                                                                                                                               | 23/1000 [00:59<42:11,  2.59s/it]"
     ]
    },
    {
     "name": "stdout",
     "output_type": "stream",
     "text": [
      "Training Loss: 1.077526127192991\n",
      "Validation Loss: 1.232287781106101\n",
      "Training Accuracy of the network: 53 %\n",
      "Validation Accuracy of the network: 40 %\n",
      "Validation loss decreased (1.240382 --> 1.232288).  Saving model ...\n"
     ]
    },
    {
     "name": "stderr",
     "output_type": "stream",
     "text": [
      "  2%|███▉                                                                                                                                                               | 24/1000 [01:02<41:07,  2.53s/it]"
     ]
    },
    {
     "name": "stdout",
     "output_type": "stream",
     "text": [
      "Training Loss: 1.0741078194151534\n",
      "Validation Loss: 1.223084153400527\n",
      "Training Accuracy of the network: 53 %\n",
      "Validation Accuracy of the network: 40 %\n",
      "Validation loss decreased (1.232288 --> 1.223084).  Saving model ...\n"
     ]
    },
    {
     "name": "stderr",
     "output_type": "stream",
     "text": [
      "  2%|████                                                                                                                                                               | 25/1000 [01:04<40:59,  2.52s/it]"
     ]
    },
    {
     "name": "stdout",
     "output_type": "stream",
     "text": [
      "Training Loss: 1.062278724308555\n",
      "Validation Loss: 1.2184452282057867\n",
      "Training Accuracy of the network: 55 %\n",
      "Validation Accuracy of the network: 41 %\n",
      "Validation loss decreased (1.223084 --> 1.218445).  Saving model ...\n"
     ]
    },
    {
     "name": "stderr",
     "output_type": "stream",
     "text": [
      "  3%|████▏                                                                                                                                                              | 26/1000 [01:07<41:20,  2.55s/it]"
     ]
    },
    {
     "name": "stdout",
     "output_type": "stream",
     "text": [
      "Training Loss: 1.0536256842579401\n",
      "Validation Loss: 1.214096839229266\n",
      "Training Accuracy of the network: 55 %\n",
      "Validation Accuracy of the network: 41 %\n",
      "Validation loss decreased (1.218445 --> 1.214097).  Saving model ...\n"
     ]
    },
    {
     "name": "stderr",
     "output_type": "stream",
     "text": [
      "  3%|████▍                                                                                                                                                              | 27/1000 [01:10<41:44,  2.57s/it]"
     ]
    },
    {
     "name": "stdout",
     "output_type": "stream",
     "text": [
      "Training Loss: 1.0288983063494905\n",
      "Validation Loss: 1.207844500740369\n",
      "Training Accuracy of the network: 58 %\n",
      "Validation Accuracy of the network: 41 %\n",
      "Validation loss decreased (1.214097 --> 1.207845).  Saving model ...\n"
     ]
    },
    {
     "name": "stderr",
     "output_type": "stream",
     "text": [
      "  3%|████▌                                                                                                                                                              | 28/1000 [01:12<42:04,  2.60s/it]"
     ]
    },
    {
     "name": "stdout",
     "output_type": "stream",
     "text": [
      "Training Loss: 1.0119613886724972\n",
      "Validation Loss: 1.202956000963847\n",
      "Training Accuracy of the network: 58 %\n",
      "Validation Accuracy of the network: 42 %\n",
      "Validation loss decreased (1.207845 --> 1.202956).  Saving model ...\n"
     ]
    },
    {
     "name": "stderr",
     "output_type": "stream",
     "text": [
      "  3%|████▋                                                                                                                                                              | 29/1000 [01:15<42:08,  2.60s/it]"
     ]
    },
    {
     "name": "stdout",
     "output_type": "stream",
     "text": [
      "Training Loss: 0.9938631742558581\n",
      "Validation Loss: 1.1990048040946324\n",
      "Training Accuracy of the network: 59 %\n",
      "Validation Accuracy of the network: 42 %\n",
      "Validation loss decreased (1.202956 --> 1.199005).  Saving model ...\n"
     ]
    },
    {
     "name": "stderr",
     "output_type": "stream",
     "text": [
      "  3%|████▉                                                                                                                                                              | 30/1000 [01:18<42:20,  2.62s/it]"
     ]
    },
    {
     "name": "stdout",
     "output_type": "stream",
     "text": [
      "Training Loss: 0.9928482918874592\n",
      "Validation Loss: 1.1935954342285793\n",
      "Training Accuracy of the network: 58 %\n",
      "Validation Accuracy of the network: 43 %\n",
      "Validation loss decreased (1.199005 --> 1.193595).  Saving model ...\n"
     ]
    },
    {
     "name": "stderr",
     "output_type": "stream",
     "text": [
      "  3%|█████                                                                                                                                                              | 31/1000 [01:20<42:19,  2.62s/it]"
     ]
    },
    {
     "name": "stdout",
     "output_type": "stream",
     "text": [
      "Training Loss: 0.9705742191761098\n",
      "Validation Loss: 1.1890458646747801\n",
      "Training Accuracy of the network: 61 %\n",
      "Validation Accuracy of the network: 43 %\n",
      "Validation loss decreased (1.193595 --> 1.189046).  Saving model ...\n"
     ]
    },
    {
     "name": "stderr",
     "output_type": "stream",
     "text": [
      "  3%|█████▏                                                                                                                                                             | 32/1000 [01:23<42:02,  2.61s/it]"
     ]
    },
    {
     "name": "stdout",
     "output_type": "stream",
     "text": [
      "Training Loss: 0.9645114071825718\n",
      "Validation Loss: 1.187969485918681\n",
      "Training Accuracy of the network: 59 %\n",
      "Validation Accuracy of the network: 44 %\n",
      "Validation loss decreased (1.189046 --> 1.187969).  Saving model ...\n"
     ]
    },
    {
     "name": "stderr",
     "output_type": "stream",
     "text": [
      "  3%|█████▍                                                                                                                                                             | 33/1000 [01:25<41:39,  2.58s/it]"
     ]
    },
    {
     "name": "stdout",
     "output_type": "stream",
     "text": [
      "Training Loss: 0.9477195240927081\n",
      "Validation Loss: 1.1824169307947159\n",
      "Training Accuracy of the network: 59 %\n",
      "Validation Accuracy of the network: 44 %\n",
      "Validation loss decreased (1.187969 --> 1.182417).  Saving model ...\n"
     ]
    },
    {
     "name": "stderr",
     "output_type": "stream",
     "text": [
      "  3%|█████▌                                                                                                                                                             | 34/1000 [01:28<41:32,  2.58s/it]"
     ]
    },
    {
     "name": "stdout",
     "output_type": "stream",
     "text": [
      "Training Loss: 0.930472898567822\n",
      "Validation Loss: 1.1825128197669983\n",
      "Training Accuracy of the network: 62 %\n",
      "Validation Accuracy of the network: 45 %\n",
      "EarlyStopping counter: 1 out of 50\n"
     ]
    },
    {
     "name": "stderr",
     "output_type": "stream",
     "text": [
      "  4%|█████▋                                                                                                                                                             | 35/1000 [01:30<41:42,  2.59s/it]"
     ]
    },
    {
     "name": "stdout",
     "output_type": "stream",
     "text": [
      "Training Loss: 0.9120569622262995\n",
      "Validation Loss: 1.1805098669396505\n",
      "Training Accuracy of the network: 62 %\n",
      "Validation Accuracy of the network: 45 %\n",
      "Validation loss decreased (1.182417 --> 1.180510).  Saving model ...\n"
     ]
    },
    {
     "name": "stderr",
     "output_type": "stream",
     "text": [
      "  4%|█████▊                                                                                                                                                             | 36/1000 [01:33<41:22,  2.58s/it]"
     ]
    },
    {
     "name": "stdout",
     "output_type": "stream",
     "text": [
      "Training Loss: 0.9061352107541781\n",
      "Validation Loss: 1.170859545469284\n",
      "Training Accuracy of the network: 63 %\n",
      "Validation Accuracy of the network: 45 %\n",
      "Validation loss decreased (1.180510 --> 1.170860).  Saving model ...\n"
     ]
    },
    {
     "name": "stderr",
     "output_type": "stream",
     "text": [
      "  4%|██████                                                                                                                                                             | 37/1000 [01:36<41:46,  2.60s/it]"
     ]
    },
    {
     "name": "stdout",
     "output_type": "stream",
     "text": [
      "Training Loss: 0.9029562177387536\n",
      "Validation Loss: 1.1665254003471799\n",
      "Training Accuracy of the network: 62 %\n",
      "Validation Accuracy of the network: 46 %\n",
      "Validation loss decreased (1.170860 --> 1.166525).  Saving model ...\n"
     ]
    },
    {
     "name": "stderr",
     "output_type": "stream",
     "text": [
      "  4%|██████▏                                                                                                                                                            | 38/1000 [01:38<41:50,  2.61s/it]"
     ]
    },
    {
     "name": "stdout",
     "output_type": "stream",
     "text": [
      "Training Loss: 0.8777440410133794\n",
      "Validation Loss: 1.1636676771773233\n",
      "Training Accuracy of the network: 64 %\n",
      "Validation Accuracy of the network: 46 %\n",
      "Validation loss decreased (1.166525 --> 1.163668).  Saving model ...\n"
     ]
    },
    {
     "name": "stderr",
     "output_type": "stream",
     "text": [
      "  4%|██████▎                                                                                                                                                            | 39/1000 [01:41<40:34,  2.53s/it]"
     ]
    },
    {
     "name": "stdout",
     "output_type": "stream",
     "text": [
      "Training Loss: 0.871434158044504\n",
      "Validation Loss: 1.1567837016450033\n",
      "Training Accuracy of the network: 64 %\n",
      "Validation Accuracy of the network: 46 %\n",
      "Validation loss decreased (1.163668 --> 1.156784).  Saving model ...\n"
     ]
    },
    {
     "name": "stderr",
     "output_type": "stream",
     "text": [
      "  4%|██████▌                                                                                                                                                            | 40/1000 [01:43<40:24,  2.53s/it]"
     ]
    },
    {
     "name": "stdout",
     "output_type": "stream",
     "text": [
      "Training Loss: 0.8724350305736488\n",
      "Validation Loss: 1.1597453041209116\n",
      "Training Accuracy of the network: 65 %\n",
      "Validation Accuracy of the network: 47 %\n",
      "EarlyStopping counter: 1 out of 50\n"
     ]
    },
    {
     "name": "stderr",
     "output_type": "stream",
     "text": [
      "  4%|██████▋                                                                                                                                                            | 41/1000 [01:46<41:08,  2.57s/it]"
     ]
    },
    {
     "name": "stdout",
     "output_type": "stream",
     "text": [
      "Training Loss: 0.8496114861035178\n",
      "Validation Loss: 1.156664851639006\n",
      "Training Accuracy of the network: 66 %\n",
      "Validation Accuracy of the network: 47 %\n",
      "Validation loss decreased (1.156784 --> 1.156665).  Saving model ...\n"
     ]
    },
    {
     "name": "stderr",
     "output_type": "stream",
     "text": [
      "  4%|██████▊                                                                                                                                                            | 42/1000 [01:48<41:25,  2.59s/it]"
     ]
    },
    {
     "name": "stdout",
     "output_type": "stream",
     "text": [
      "Training Loss: 0.8469972870451339\n",
      "Validation Loss: 1.152143990000089\n",
      "Training Accuracy of the network: 64 %\n",
      "Validation Accuracy of the network: 48 %\n",
      "Validation loss decreased (1.156665 --> 1.152144).  Saving model ...\n"
     ]
    },
    {
     "name": "stderr",
     "output_type": "stream",
     "text": [
      "  4%|███████                                                                                                                                                            | 43/1000 [01:51<41:19,  2.59s/it]"
     ]
    },
    {
     "name": "stdout",
     "output_type": "stream",
     "text": [
      "Training Loss: 0.8383071004076207\n",
      "Validation Loss: 1.1497480786508985\n",
      "Training Accuracy of the network: 67 %\n",
      "Validation Accuracy of the network: 48 %\n",
      "Validation loss decreased (1.152144 --> 1.149748).  Saving model ...\n"
     ]
    },
    {
     "name": "stderr",
     "output_type": "stream",
     "text": [
      "  4%|███████▏                                                                                                                                                           | 44/1000 [01:54<41:23,  2.60s/it]"
     ]
    },
    {
     "name": "stdout",
     "output_type": "stream",
     "text": [
      "Training Loss: 0.8338960183004961\n",
      "Validation Loss: 1.1518957283761766\n",
      "Training Accuracy of the network: 66 %\n",
      "Validation Accuracy of the network: 47 %\n",
      "EarlyStopping counter: 1 out of 50\n"
     ]
    },
    {
     "name": "stderr",
     "output_type": "stream",
     "text": [
      "  4%|███████▎                                                                                                                                                           | 45/1000 [01:56<41:16,  2.59s/it]"
     ]
    },
    {
     "name": "stdout",
     "output_type": "stream",
     "text": [
      "Training Loss: 0.8093760355989984\n",
      "Validation Loss: 1.1462522877587213\n",
      "Training Accuracy of the network: 68 %\n",
      "Validation Accuracy of the network: 48 %\n",
      "Validation loss decreased (1.149748 --> 1.146252).  Saving model ...\n"
     ]
    },
    {
     "name": "stderr",
     "output_type": "stream",
     "text": [
      "  5%|███████▍                                                                                                                                                           | 46/1000 [01:59<41:29,  2.61s/it]"
     ]
    },
    {
     "name": "stdout",
     "output_type": "stream",
     "text": [
      "Training Loss: 0.8026791933580493\n",
      "Validation Loss: 1.1557881202962663\n",
      "Training Accuracy of the network: 68 %\n",
      "Validation Accuracy of the network: 48 %\n",
      "EarlyStopping counter: 1 out of 50\n"
     ]
    },
    {
     "name": "stderr",
     "output_type": "stream",
     "text": [
      "  5%|███████▋                                                                                                                                                           | 47/1000 [02:02<41:30,  2.61s/it]"
     ]
    },
    {
     "name": "stdout",
     "output_type": "stream",
     "text": [
      "Training Loss: 0.7866272061851853\n",
      "Validation Loss: 1.1494036714235942\n",
      "Training Accuracy of the network: 68 %\n",
      "Validation Accuracy of the network: 48 %\n",
      "EarlyStopping counter: 2 out of 50\n"
     ]
    },
    {
     "name": "stderr",
     "output_type": "stream",
     "text": [
      "  5%|███████▊                                                                                                                                                           | 48/1000 [02:04<41:46,  2.63s/it]"
     ]
    },
    {
     "name": "stdout",
     "output_type": "stream",
     "text": [
      "Training Loss: 0.7880008413013837\n",
      "Validation Loss: 1.1488044990433588\n",
      "Training Accuracy of the network: 68 %\n",
      "Validation Accuracy of the network: 49 %\n",
      "EarlyStopping counter: 3 out of 50\n"
     ]
    },
    {
     "name": "stderr",
     "output_type": "stream",
     "text": [
      "  5%|███████▉                                                                                                                                                           | 49/1000 [02:07<41:53,  2.64s/it]"
     ]
    },
    {
     "name": "stdout",
     "output_type": "stream",
     "text": [
      "Training Loss: 0.7608557981802216\n",
      "Validation Loss: 1.1391105271048017\n",
      "Training Accuracy of the network: 70 %\n",
      "Validation Accuracy of the network: 50 %\n",
      "Validation loss decreased (1.146252 --> 1.139111).  Saving model ...\n"
     ]
    },
    {
     "name": "stderr",
     "output_type": "stream",
     "text": [
      "  5%|████████▏                                                                                                                                                          | 50/1000 [02:09<41:39,  2.63s/it]"
     ]
    },
    {
     "name": "stdout",
     "output_type": "stream",
     "text": [
      "Training Loss: 0.7567681084710656\n",
      "Validation Loss: 1.1441155059470072\n",
      "Training Accuracy of the network: 70 %\n",
      "Validation Accuracy of the network: 50 %\n",
      "EarlyStopping counter: 1 out of 50\n"
     ]
    },
    {
     "name": "stderr",
     "output_type": "stream",
     "text": [
      "  5%|████████▎                                                                                                                                                          | 51/1000 [02:12<41:31,  2.63s/it]"
     ]
    },
    {
     "name": "stdout",
     "output_type": "stream",
     "text": [
      "Training Loss: 0.7550038604448873\n",
      "Validation Loss: 1.1371934281455145\n",
      "Training Accuracy of the network: 70 %\n",
      "Validation Accuracy of the network: 50 %\n",
      "Validation loss decreased (1.139111 --> 1.137193).  Saving model ...\n"
     ]
    },
    {
     "name": "stderr",
     "output_type": "stream",
     "text": [
      "  5%|████████▍                                                                                                                                                          | 52/1000 [02:15<41:10,  2.61s/it]"
     ]
    },
    {
     "name": "stdout",
     "output_type": "stream",
     "text": [
      "Training Loss: 0.7474231362765562\n",
      "Validation Loss: 1.137040803829829\n",
      "Training Accuracy of the network: 71 %\n",
      "Validation Accuracy of the network: 51 %\n",
      "Validation loss decreased (1.137193 --> 1.137041).  Saving model ...\n"
     ]
    },
    {
     "name": "stderr",
     "output_type": "stream",
     "text": [
      "  5%|████████▋                                                                                                                                                          | 53/1000 [02:17<40:42,  2.58s/it]"
     ]
    },
    {
     "name": "stdout",
     "output_type": "stream",
     "text": [
      "Training Loss: 0.7435537621061853\n",
      "Validation Loss: 1.136627099580235\n",
      "Training Accuracy of the network: 70 %\n",
      "Validation Accuracy of the network: 51 %\n",
      "Validation loss decreased (1.137041 --> 1.136627).  Saving model ...\n"
     ]
    },
    {
     "name": "stderr",
     "output_type": "stream",
     "text": [
      "  5%|████████▊                                                                                                                                                          | 54/1000 [02:20<40:28,  2.57s/it]"
     ]
    },
    {
     "name": "stdout",
     "output_type": "stream",
     "text": [
      "Training Loss: 0.7312382928868557\n",
      "Validation Loss: 1.1379779991176393\n",
      "Training Accuracy of the network: 71 %\n",
      "Validation Accuracy of the network: 50 %\n",
      "EarlyStopping counter: 1 out of 50\n"
     ]
    },
    {
     "name": "stderr",
     "output_type": "stream",
     "text": [
      "  6%|████████▉                                                                                                                                                          | 55/1000 [02:22<39:00,  2.48s/it]"
     ]
    },
    {
     "name": "stdout",
     "output_type": "stream",
     "text": [
      "Training Loss: 0.7198417453055687\n",
      "Validation Loss: 1.1294518245591059\n",
      "Training Accuracy of the network: 73 %\n",
      "Validation Accuracy of the network: 51 %\n",
      "Validation loss decreased (1.136627 --> 1.129452).  Saving model ...\n"
     ]
    },
    {
     "name": "stderr",
     "output_type": "stream",
     "text": [
      "  6%|█████████▏                                                                                                                                                         | 56/1000 [02:24<36:29,  2.32s/it]"
     ]
    },
    {
     "name": "stdout",
     "output_type": "stream",
     "text": [
      "Training Loss: 0.7165077024317802\n",
      "Validation Loss: 1.1234139766958025\n",
      "Training Accuracy of the network: 73 %\n",
      "Validation Accuracy of the network: 51 %\n",
      "Validation loss decreased (1.129452 --> 1.123414).  Saving model ...\n"
     ]
    },
    {
     "name": "stderr",
     "output_type": "stream",
     "text": [
      "  6%|█████████▎                                                                                                                                                         | 57/1000 [02:26<34:41,  2.21s/it]"
     ]
    },
    {
     "name": "stdout",
     "output_type": "stream",
     "text": [
      "Training Loss: 0.7086154810080292\n",
      "Validation Loss: 1.1319169518020418\n",
      "Training Accuracy of the network: 73 %\n",
      "Validation Accuracy of the network: 51 %\n",
      "EarlyStopping counter: 1 out of 50\n"
     ]
    },
    {
     "name": "stderr",
     "output_type": "stream",
     "text": [
      "  6%|█████████▍                                                                                                                                                         | 58/1000 [02:28<33:01,  2.10s/it]"
     ]
    },
    {
     "name": "stdout",
     "output_type": "stream",
     "text": [
      "Training Loss: 0.7116663462304055\n",
      "Validation Loss: 1.1327574170298047\n",
      "Training Accuracy of the network: 73 %\n",
      "Validation Accuracy of the network: 50 %\n",
      "EarlyStopping counter: 2 out of 50\n"
     ]
    },
    {
     "name": "stderr",
     "output_type": "stream",
     "text": [
      "  6%|█████████▌                                                                                                                                                         | 59/1000 [02:30<32:10,  2.05s/it]"
     ]
    },
    {
     "name": "stdout",
     "output_type": "stream",
     "text": [
      "Training Loss: 0.675785890496369\n",
      "Validation Loss: 1.1332172718313005\n",
      "Training Accuracy of the network: 73 %\n",
      "Validation Accuracy of the network: 50 %\n",
      "EarlyStopping counter: 3 out of 50\n"
     ]
    },
    {
     "name": "stderr",
     "output_type": "stream",
     "text": [
      "  6%|█████████▊                                                                                                                                                         | 60/1000 [02:32<31:30,  2.01s/it]"
     ]
    },
    {
     "name": "stdout",
     "output_type": "stream",
     "text": [
      "Training Loss: 0.6715422122613758\n",
      "Validation Loss: 1.1333057598935232\n",
      "Training Accuracy of the network: 74 %\n",
      "Validation Accuracy of the network: 50 %\n",
      "EarlyStopping counter: 4 out of 50\n"
     ]
    },
    {
     "name": "stderr",
     "output_type": "stream",
     "text": [
      "  6%|█████████▉                                                                                                                                                         | 61/1000 [02:34<31:11,  1.99s/it]"
     ]
    },
    {
     "name": "stdout",
     "output_type": "stream",
     "text": [
      "Training Loss: 0.693374291590765\n",
      "Validation Loss: 1.1249396022823122\n",
      "Training Accuracy of the network: 74 %\n",
      "Validation Accuracy of the network: 52 %\n",
      "EarlyStopping counter: 5 out of 50\n"
     ]
    },
    {
     "name": "stderr",
     "output_type": "stream",
     "text": [
      "  6%|██████████                                                                                                                                                         | 62/1000 [02:35<30:39,  1.96s/it]"
     ]
    },
    {
     "name": "stdout",
     "output_type": "stream",
     "text": [
      "Training Loss: 0.6723695813764071\n",
      "Validation Loss: 1.1256222592459784\n",
      "Training Accuracy of the network: 75 %\n",
      "Validation Accuracy of the network: 50 %\n",
      "EarlyStopping counter: 6 out of 50\n"
     ]
    },
    {
     "name": "stderr",
     "output_type": "stream",
     "text": [
      "  6%|██████████▎                                                                                                                                                        | 63/1000 [02:37<30:16,  1.94s/it]"
     ]
    },
    {
     "name": "stdout",
     "output_type": "stream",
     "text": [
      "Training Loss: 0.6657386079747626\n",
      "Validation Loss: 1.1358157412873373\n",
      "Training Accuracy of the network: 75 %\n",
      "Validation Accuracy of the network: 50 %\n",
      "EarlyStopping counter: 7 out of 50\n"
     ]
    },
    {
     "name": "stderr",
     "output_type": "stream",
     "text": [
      "  6%|██████████▍                                                                                                                                                        | 64/1000 [02:39<30:09,  1.93s/it]"
     ]
    },
    {
     "name": "stdout",
     "output_type": "stream",
     "text": [
      "Training Loss: 0.6516111824952119\n",
      "Validation Loss: 1.13382969962226\n",
      "Training Accuracy of the network: 76 %\n",
      "Validation Accuracy of the network: 52 %\n",
      "EarlyStopping counter: 8 out of 50\n"
     ]
    },
    {
     "name": "stderr",
     "output_type": "stream",
     "text": [
      "  6%|██████████▌                                                                                                                                                        | 65/1000 [02:41<29:37,  1.90s/it]"
     ]
    },
    {
     "name": "stdout",
     "output_type": "stream",
     "text": [
      "Training Loss: 0.6549612752934719\n",
      "Validation Loss: 1.1330098410447438\n",
      "Training Accuracy of the network: 74 %\n",
      "Validation Accuracy of the network: 50 %\n",
      "EarlyStopping counter: 9 out of 50\n"
     ]
    },
    {
     "name": "stderr",
     "output_type": "stream",
     "text": [
      "  7%|██████████▊                                                                                                                                                        | 66/1000 [02:43<29:57,  1.92s/it]"
     ]
    },
    {
     "name": "stdout",
     "output_type": "stream",
     "text": [
      "Training Loss: 0.6564773354969972\n",
      "Validation Loss: 1.126856158177058\n",
      "Training Accuracy of the network: 74 %\n",
      "Validation Accuracy of the network: 50 %\n",
      "EarlyStopping counter: 10 out of 50\n"
     ]
    },
    {
     "name": "stderr",
     "output_type": "stream",
     "text": [
      "  7%|██████████▉                                                                                                                                                        | 67/1000 [02:45<30:03,  1.93s/it]"
     ]
    },
    {
     "name": "stdout",
     "output_type": "stream",
     "text": [
      "Training Loss: 0.6384341928130346\n",
      "Validation Loss: 1.130869209766388\n",
      "Training Accuracy of the network: 75 %\n",
      "Validation Accuracy of the network: 50 %\n",
      "EarlyStopping counter: 11 out of 50\n"
     ]
    },
    {
     "name": "stderr",
     "output_type": "stream",
     "text": [
      "  7%|███████████                                                                                                                                                        | 68/1000 [02:47<30:01,  1.93s/it]"
     ]
    },
    {
     "name": "stdout",
     "output_type": "stream",
     "text": [
      "Training Loss: 0.6535319844458966\n",
      "Validation Loss: 1.1310783624649048\n",
      "Training Accuracy of the network: 75 %\n",
      "Validation Accuracy of the network: 51 %\n",
      "EarlyStopping counter: 12 out of 50\n"
     ]
    },
    {
     "name": "stderr",
     "output_type": "stream",
     "text": [
      "  7%|███████████▏                                                                                                                                                       | 69/1000 [02:49<29:47,  1.92s/it]"
     ]
    },
    {
     "name": "stdout",
     "output_type": "stream",
     "text": [
      "Training Loss: 0.6425532466130899\n",
      "Validation Loss: 1.121274749437968\n",
      "Training Accuracy of the network: 76 %\n",
      "Validation Accuracy of the network: 50 %\n",
      "Validation loss decreased (1.123414 --> 1.121275).  Saving model ...\n"
     ]
    },
    {
     "name": "stderr",
     "output_type": "stream",
     "text": [
      "  7%|███████████▍                                                                                                                                                       | 70/1000 [02:51<29:39,  1.91s/it]"
     ]
    },
    {
     "name": "stdout",
     "output_type": "stream",
     "text": [
      "Training Loss: 0.6287443128460688\n",
      "Validation Loss: 1.1274876909123526\n",
      "Training Accuracy of the network: 75 %\n",
      "Validation Accuracy of the network: 51 %\n",
      "EarlyStopping counter: 1 out of 50\n"
     ]
    },
    {
     "name": "stderr",
     "output_type": "stream",
     "text": [
      "  7%|███████████▌                                                                                                                                                       | 71/1000 [02:52<29:00,  1.87s/it]"
     ]
    },
    {
     "name": "stdout",
     "output_type": "stream",
     "text": [
      "Training Loss: 0.6191074837606849\n",
      "Validation Loss: 1.1154082831409242\n",
      "Training Accuracy of the network: 76 %\n",
      "Validation Accuracy of the network: 51 %\n",
      "Validation loss decreased (1.121275 --> 1.115408).  Saving model ...\n"
     ]
    },
    {
     "name": "stderr",
     "output_type": "stream",
     "text": [
      "  7%|███████████▋                                                                                                                                                       | 72/1000 [02:54<29:31,  1.91s/it]"
     ]
    },
    {
     "name": "stdout",
     "output_type": "stream",
     "text": [
      "Training Loss: 0.6017526363861476\n",
      "Validation Loss: 1.1374957693947687\n",
      "Training Accuracy of the network: 77 %\n",
      "Validation Accuracy of the network: 51 %\n",
      "EarlyStopping counter: 1 out of 50\n"
     ]
    },
    {
     "name": "stderr",
     "output_type": "stream",
     "text": [
      "  7%|███████████▉                                                                                                                                                       | 73/1000 [02:57<30:39,  1.98s/it]"
     ]
    },
    {
     "name": "stdout",
     "output_type": "stream",
     "text": [
      "Training Loss: 0.5983240354991128\n",
      "Validation Loss: 1.1307695325877931\n",
      "Training Accuracy of the network: 79 %\n",
      "Validation Accuracy of the network: 51 %\n",
      "EarlyStopping counter: 2 out of 50\n"
     ]
    },
    {
     "name": "stderr",
     "output_type": "stream",
     "text": [
      "  7%|████████████                                                                                                                                                       | 74/1000 [02:59<33:11,  2.15s/it]"
     ]
    },
    {
     "name": "stdout",
     "output_type": "stream",
     "text": [
      "Training Loss: 0.574133001426433\n",
      "Validation Loss: 1.1270263493061066\n",
      "Training Accuracy of the network: 79 %\n",
      "Validation Accuracy of the network: 51 %\n",
      "EarlyStopping counter: 3 out of 50\n"
     ]
    },
    {
     "name": "stderr",
     "output_type": "stream",
     "text": [
      "  8%|████████████▏                                                                                                                                                      | 75/1000 [03:02<35:04,  2.28s/it]"
     ]
    },
    {
     "name": "stdout",
     "output_type": "stream",
     "text": [
      "Training Loss: 0.6018608252630167\n",
      "Validation Loss: 1.1281424942943785\n",
      "Training Accuracy of the network: 76 %\n",
      "Validation Accuracy of the network: 51 %\n",
      "EarlyStopping counter: 4 out of 50\n"
     ]
    },
    {
     "name": "stderr",
     "output_type": "stream",
     "text": [
      "  8%|████████████▍                                                                                                                                                      | 76/1000 [03:04<36:38,  2.38s/it]"
     ]
    },
    {
     "name": "stdout",
     "output_type": "stream",
     "text": [
      "Training Loss: 0.5942225587283466\n",
      "Validation Loss: 1.1344094557894602\n",
      "Training Accuracy of the network: 77 %\n",
      "Validation Accuracy of the network: 51 %\n",
      "EarlyStopping counter: 5 out of 50\n"
     ]
    },
    {
     "name": "stderr",
     "output_type": "stream",
     "text": [
      "  8%|████████████▌                                                                                                                                                      | 77/1000 [03:07<37:27,  2.44s/it]"
     ]
    },
    {
     "name": "stdout",
     "output_type": "stream",
     "text": [
      "Training Loss: 0.5808945150240094\n",
      "Validation Loss: 1.1193453007274203\n",
      "Training Accuracy of the network: 78 %\n",
      "Validation Accuracy of the network: 52 %\n",
      "EarlyStopping counter: 6 out of 50\n"
     ]
    },
    {
     "name": "stderr",
     "output_type": "stream",
     "text": [
      "  8%|████████████▋                                                                                                                                                      | 78/1000 [03:10<38:07,  2.48s/it]"
     ]
    },
    {
     "name": "stdout",
     "output_type": "stream",
     "text": [
      "Training Loss: 0.5784272304240693\n",
      "Validation Loss: 1.1383316665887833\n",
      "Training Accuracy of the network: 79 %\n",
      "Validation Accuracy of the network: 51 %\n",
      "EarlyStopping counter: 7 out of 50\n"
     ]
    },
    {
     "name": "stderr",
     "output_type": "stream",
     "text": [
      "  8%|████████████▉                                                                                                                                                      | 79/1000 [03:12<38:23,  2.50s/it]"
     ]
    },
    {
     "name": "stdout",
     "output_type": "stream",
     "text": [
      "Training Loss: 0.5512879378829442\n",
      "Validation Loss: 1.1294615666071575\n",
      "Training Accuracy of the network: 81 %\n",
      "Validation Accuracy of the network: 52 %\n",
      "EarlyStopping counter: 8 out of 50\n"
     ]
    },
    {
     "name": "stderr",
     "output_type": "stream",
     "text": [
      "  8%|█████████████                                                                                                                                                      | 80/1000 [03:15<39:09,  2.55s/it]"
     ]
    },
    {
     "name": "stdout",
     "output_type": "stream",
     "text": [
      "Training Loss: 0.5582037929524767\n",
      "Validation Loss: 1.1406785895427067\n",
      "Training Accuracy of the network: 79 %\n",
      "Validation Accuracy of the network: 52 %\n",
      "EarlyStopping counter: 9 out of 50\n"
     ]
    },
    {
     "name": "stderr",
     "output_type": "stream",
     "text": [
      "  8%|█████████████▏                                                                                                                                                     | 81/1000 [03:17<39:12,  2.56s/it]"
     ]
    },
    {
     "name": "stdout",
     "output_type": "stream",
     "text": [
      "Training Loss: 0.5546668023927838\n",
      "Validation Loss: 1.118450727727678\n",
      "Training Accuracy of the network: 79 %\n",
      "Validation Accuracy of the network: 53 %\n",
      "EarlyStopping counter: 10 out of 50\n"
     ]
    },
    {
     "name": "stderr",
     "output_type": "stream",
     "text": [
      "  8%|█████████████▎                                                                                                                                                     | 82/1000 [03:20<39:00,  2.55s/it]"
     ]
    },
    {
     "name": "stdout",
     "output_type": "stream",
     "text": [
      "Training Loss: 0.5554593764509715\n",
      "Validation Loss: 1.146763414144516\n",
      "Training Accuracy of the network: 79 %\n",
      "Validation Accuracy of the network: 50 %\n",
      "EarlyStopping counter: 11 out of 50\n"
     ]
    },
    {
     "name": "stderr",
     "output_type": "stream",
     "text": [
      "  8%|█████████████▌                                                                                                                                                     | 83/1000 [03:22<39:11,  2.56s/it]"
     ]
    },
    {
     "name": "stdout",
     "output_type": "stream",
     "text": [
      "Training Loss: 0.5374024155292105\n",
      "Validation Loss: 1.1327368236250348\n",
      "Training Accuracy of the network: 80 %\n",
      "Validation Accuracy of the network: 52 %\n",
      "EarlyStopping counter: 12 out of 50\n"
     ]
    },
    {
     "name": "stderr",
     "output_type": "stream",
     "text": [
      "  8%|█████████████▋                                                                                                                                                     | 84/1000 [03:25<39:30,  2.59s/it]"
     ]
    },
    {
     "name": "stdout",
     "output_type": "stream",
     "text": [
      "Training Loss: 0.5565532041145554\n",
      "Validation Loss: 1.1305917004744213\n",
      "Training Accuracy of the network: 79 %\n",
      "Validation Accuracy of the network: 53 %\n",
      "EarlyStopping counter: 13 out of 50\n"
     ]
    },
    {
     "name": "stderr",
     "output_type": "stream",
     "text": [
      "  8%|█████████████▊                                                                                                                                                     | 85/1000 [03:28<39:24,  2.58s/it]"
     ]
    },
    {
     "name": "stdout",
     "output_type": "stream",
     "text": [
      "Training Loss: 0.5499487128240842\n",
      "Validation Loss: 1.135992071694798\n",
      "Training Accuracy of the network: 80 %\n",
      "Validation Accuracy of the network: 53 %\n",
      "EarlyStopping counter: 14 out of 50\n"
     ]
    },
    {
     "name": "stderr",
     "output_type": "stream",
     "text": [
      "  9%|██████████████                                                                                                                                                     | 86/1000 [03:30<39:13,  2.57s/it]"
     ]
    },
    {
     "name": "stdout",
     "output_type": "stream",
     "text": [
      "Training Loss: 0.5146233032569818\n",
      "Validation Loss: 1.1331594073110156\n",
      "Training Accuracy of the network: 81 %\n",
      "Validation Accuracy of the network: 52 %\n",
      "EarlyStopping counter: 15 out of 50\n"
     ]
    },
    {
     "name": "stderr",
     "output_type": "stream",
     "text": [
      "  9%|██████████████▏                                                                                                                                                    | 87/1000 [03:32<37:37,  2.47s/it]"
     ]
    },
    {
     "name": "stdout",
     "output_type": "stream",
     "text": [
      "Training Loss: 0.5258721241608579\n",
      "Validation Loss: 1.1324154088894527\n",
      "Training Accuracy of the network: 79 %\n",
      "Validation Accuracy of the network: 51 %\n",
      "EarlyStopping counter: 16 out of 50\n"
     ]
    },
    {
     "name": "stderr",
     "output_type": "stream",
     "text": [
      "  9%|██████████████▎                                                                                                                                                    | 88/1000 [03:34<34:59,  2.30s/it]"
     ]
    },
    {
     "name": "stdout",
     "output_type": "stream",
     "text": [
      "Training Loss: 0.5401687161296818\n",
      "Validation Loss: 1.1291559123330646\n",
      "Training Accuracy of the network: 79 %\n",
      "Validation Accuracy of the network: 53 %\n",
      "EarlyStopping counter: 17 out of 50\n"
     ]
    },
    {
     "name": "stderr",
     "output_type": "stream",
     "text": [
      "  9%|██████████████▌                                                                                                                                                    | 89/1000 [03:36<32:55,  2.17s/it]"
     ]
    },
    {
     "name": "stdout",
     "output_type": "stream",
     "text": [
      "Training Loss: 0.5148425739496312\n",
      "Validation Loss: 1.1309455649720297\n",
      "Training Accuracy of the network: 82 %\n",
      "Validation Accuracy of the network: 52 %\n",
      "EarlyStopping counter: 18 out of 50\n"
     ]
    },
    {
     "name": "stderr",
     "output_type": "stream",
     "text": [
      "  9%|██████████████▋                                                                                                                                                    | 90/1000 [03:38<31:39,  2.09s/it]"
     ]
    },
    {
     "name": "stdout",
     "output_type": "stream",
     "text": [
      "Training Loss: 0.524707795986047\n",
      "Validation Loss: 1.1499656041463215\n",
      "Training Accuracy of the network: 80 %\n",
      "Validation Accuracy of the network: 54 %\n",
      "EarlyStopping counter: 19 out of 50\n"
     ]
    },
    {
     "name": "stderr",
     "output_type": "stream",
     "text": [
      "  9%|██████████████▊                                                                                                                                                    | 91/1000 [03:40<30:39,  2.02s/it]"
     ]
    },
    {
     "name": "stdout",
     "output_type": "stream",
     "text": [
      "Training Loss: 0.5095459630726077\n",
      "Validation Loss: 1.146162877480189\n",
      "Training Accuracy of the network: 79 %\n",
      "Validation Accuracy of the network: 53 %\n",
      "EarlyStopping counter: 20 out of 50\n"
     ]
    },
    {
     "name": "stderr",
     "output_type": "stream",
     "text": [
      "  9%|██████████████▉                                                                                                                                                    | 92/1000 [03:42<29:56,  1.98s/it]"
     ]
    },
    {
     "name": "stdout",
     "output_type": "stream",
     "text": [
      "Training Loss: 0.5219120951831764\n",
      "Validation Loss: 1.1487389819489584\n",
      "Training Accuracy of the network: 80 %\n",
      "Validation Accuracy of the network: 54 %\n",
      "EarlyStopping counter: 21 out of 50\n"
     ]
    },
    {
     "name": "stderr",
     "output_type": "stream",
     "text": [
      "  9%|███████████████▏                                                                                                                                                   | 93/1000 [03:44<29:30,  1.95s/it]"
     ]
    },
    {
     "name": "stdout",
     "output_type": "stream",
     "text": [
      "Training Loss: 0.5039273169657863\n",
      "Validation Loss: 1.1472127007113562\n",
      "Training Accuracy of the network: 81 %\n",
      "Validation Accuracy of the network: 53 %\n",
      "EarlyStopping counter: 22 out of 50\n"
     ]
    },
    {
     "name": "stderr",
     "output_type": "stream",
     "text": [
      "  9%|███████████████▎                                                                                                                                                   | 94/1000 [03:46<29:20,  1.94s/it]"
     ]
    },
    {
     "name": "stdout",
     "output_type": "stream",
     "text": [
      "Training Loss: 0.5009654406326037\n",
      "Validation Loss: 1.1416111456023321\n",
      "Training Accuracy of the network: 81 %\n",
      "Validation Accuracy of the network: 52 %\n",
      "EarlyStopping counter: 23 out of 50\n"
     ]
    },
    {
     "name": "stderr",
     "output_type": "stream",
     "text": [
      " 10%|███████████████▍                                                                                                                                                   | 95/1000 [03:48<29:13,  1.94s/it]"
     ]
    },
    {
     "name": "stdout",
     "output_type": "stream",
     "text": [
      "Training Loss: 0.49139081438382465\n",
      "Validation Loss: 1.1516076574722927\n",
      "Training Accuracy of the network: 81 %\n",
      "Validation Accuracy of the network: 52 %\n",
      "EarlyStopping counter: 24 out of 50\n"
     ]
    },
    {
     "name": "stderr",
     "output_type": "stream",
     "text": [
      " 10%|███████████████▋                                                                                                                                                   | 96/1000 [03:50<29:08,  1.93s/it]"
     ]
    },
    {
     "name": "stdout",
     "output_type": "stream",
     "text": [
      "Training Loss: 0.4909858135044152\n",
      "Validation Loss: 1.1464597632487614\n",
      "Training Accuracy of the network: 81 %\n",
      "Validation Accuracy of the network: 52 %\n",
      "EarlyStopping counter: 25 out of 50\n"
     ]
    },
    {
     "name": "stderr",
     "output_type": "stream",
     "text": [
      " 10%|███████████████▊                                                                                                                                                   | 97/1000 [03:51<28:56,  1.92s/it]"
     ]
    },
    {
     "name": "stdout",
     "output_type": "stream",
     "text": [
      "Training Loss: 0.5024456603729979\n",
      "Validation Loss: 1.1619480268822775\n",
      "Training Accuracy of the network: 81 %\n",
      "Validation Accuracy of the network: 54 %\n",
      "EarlyStopping counter: 26 out of 50\n"
     ]
    },
    {
     "name": "stderr",
     "output_type": "stream",
     "text": [
      " 10%|███████████████▉                                                                                                                                                   | 98/1000 [03:53<28:56,  1.93s/it]"
     ]
    },
    {
     "name": "stdout",
     "output_type": "stream",
     "text": [
      "Training Loss: 0.4727578095510496\n",
      "Validation Loss: 1.160519419444932\n",
      "Training Accuracy of the network: 83 %\n",
      "Validation Accuracy of the network: 52 %\n",
      "EarlyStopping counter: 27 out of 50\n"
     ]
    },
    {
     "name": "stderr",
     "output_type": "stream",
     "text": [
      " 10%|████████████████▏                                                                                                                                                  | 99/1000 [03:55<28:50,  1.92s/it]"
     ]
    },
    {
     "name": "stdout",
     "output_type": "stream",
     "text": [
      "Training Loss: 0.48944217177993016\n",
      "Validation Loss: 1.1635277817646663\n",
      "Training Accuracy of the network: 82 %\n",
      "Validation Accuracy of the network: 54 %\n",
      "EarlyStopping counter: 28 out of 50\n"
     ]
    },
    {
     "name": "stderr",
     "output_type": "stream",
     "text": [
      " 10%|████████████████▏                                                                                                                                                 | 100/1000 [03:57<28:44,  1.92s/it]"
     ]
    },
    {
     "name": "stdout",
     "output_type": "stream",
     "text": [
      "Training Loss: 0.48038296855933277\n",
      "Validation Loss: 1.1559973226653204\n",
      "Training Accuracy of the network: 81 %\n",
      "Validation Accuracy of the network: 53 %\n",
      "EarlyStopping counter: 29 out of 50\n"
     ]
    },
    {
     "name": "stderr",
     "output_type": "stream",
     "text": [
      " 10%|████████████████▎                                                                                                                                                 | 101/1000 [03:59<28:38,  1.91s/it]"
     ]
    },
    {
     "name": "stdout",
     "output_type": "stream",
     "text": [
      "Training Loss: 0.46417189764638317\n",
      "Validation Loss: 1.1690339148044586\n",
      "Training Accuracy of the network: 82 %\n",
      "Validation Accuracy of the network: 52 %\n",
      "EarlyStopping counter: 30 out of 50\n"
     ]
    },
    {
     "name": "stderr",
     "output_type": "stream",
     "text": [
      " 10%|████████████████▌                                                                                                                                                 | 102/1000 [04:01<28:26,  1.90s/it]"
     ]
    },
    {
     "name": "stdout",
     "output_type": "stream",
     "text": [
      "Training Loss: 0.4816860609443475\n",
      "Validation Loss: 1.161778438422415\n",
      "Training Accuracy of the network: 82 %\n",
      "Validation Accuracy of the network: 53 %\n",
      "EarlyStopping counter: 31 out of 50\n"
     ]
    },
    {
     "name": "stderr",
     "output_type": "stream",
     "text": [
      " 10%|████████████████▋                                                                                                                                                 | 103/1000 [04:03<28:35,  1.91s/it]"
     ]
    },
    {
     "name": "stdout",
     "output_type": "stream",
     "text": [
      "Training Loss: 0.4805647631486257\n",
      "Validation Loss: 1.158871504995558\n",
      "Training Accuracy of the network: 81 %\n",
      "Validation Accuracy of the network: 53 %\n",
      "EarlyStopping counter: 32 out of 50\n"
     ]
    },
    {
     "name": "stderr",
     "output_type": "stream",
     "text": [
      " 10%|████████████████▊                                                                                                                                                 | 104/1000 [04:05<28:59,  1.94s/it]"
     ]
    },
    {
     "name": "stdout",
     "output_type": "stream",
     "text": [
      "Training Loss: 0.45668034488004994\n",
      "Validation Loss: 1.1696397148900561\n",
      "Training Accuracy of the network: 83 %\n",
      "Validation Accuracy of the network: 52 %\n",
      "EarlyStopping counter: 33 out of 50\n"
     ]
    },
    {
     "name": "stderr",
     "output_type": "stream",
     "text": [
      " 10%|█████████████████                                                                                                                                                 | 105/1000 [04:07<28:14,  1.89s/it]"
     ]
    },
    {
     "name": "stdout",
     "output_type": "stream",
     "text": [
      "Training Loss: 0.4711718095849592\n",
      "Validation Loss: 1.1638221856620576\n",
      "Training Accuracy of the network: 82 %\n",
      "Validation Accuracy of the network: 53 %\n",
      "EarlyStopping counter: 34 out of 50\n"
     ]
    },
    {
     "name": "stderr",
     "output_type": "stream",
     "text": [
      " 11%|█████████████████▏                                                                                                                                                | 106/1000 [04:09<28:39,  1.92s/it]"
     ]
    },
    {
     "name": "stdout",
     "output_type": "stream",
     "text": [
      "Training Loss: 0.4569243133490813\n",
      "Validation Loss: 1.15995582110352\n",
      "Training Accuracy of the network: 83 %\n",
      "Validation Accuracy of the network: 54 %\n",
      "EarlyStopping counter: 35 out of 50\n"
     ]
    },
    {
     "name": "stderr",
     "output_type": "stream",
     "text": [
      " 11%|█████████████████▎                                                                                                                                                | 107/1000 [04:11<28:30,  1.92s/it]"
     ]
    },
    {
     "name": "stdout",
     "output_type": "stream",
     "text": [
      "Training Loss: 0.44419336704709006\n",
      "Validation Loss: 1.164955089489619\n",
      "Training Accuracy of the network: 84 %\n",
      "Validation Accuracy of the network: 53 %\n",
      "EarlyStopping counter: 36 out of 50\n"
     ]
    },
    {
     "name": "stderr",
     "output_type": "stream",
     "text": [
      " 11%|█████████████████▍                                                                                                                                                | 108/1000 [04:12<28:12,  1.90s/it]"
     ]
    },
    {
     "name": "stdout",
     "output_type": "stream",
     "text": [
      "Training Loss: 0.46449314004986\n",
      "Validation Loss: 1.1653606361813016\n",
      "Training Accuracy of the network: 82 %\n",
      "Validation Accuracy of the network: 54 %\n",
      "EarlyStopping counter: 37 out of 50\n"
     ]
    },
    {
     "name": "stderr",
     "output_type": "stream",
     "text": [
      " 11%|█████████████████▋                                                                                                                                                | 109/1000 [04:14<28:10,  1.90s/it]"
     ]
    },
    {
     "name": "stdout",
     "output_type": "stream",
     "text": [
      "Training Loss: 0.4540814499483041\n",
      "Validation Loss: 1.1712905880477693\n",
      "Training Accuracy of the network: 83 %\n",
      "Validation Accuracy of the network: 54 %\n",
      "EarlyStopping counter: 38 out of 50\n"
     ]
    },
    {
     "name": "stderr",
     "output_type": "stream",
     "text": [
      " 11%|█████████████████▊                                                                                                                                                | 110/1000 [04:16<28:07,  1.90s/it]"
     ]
    },
    {
     "name": "stdout",
     "output_type": "stream",
     "text": [
      "Training Loss: 0.4440173278992058\n",
      "Validation Loss: 1.1767289804087744\n",
      "Training Accuracy of the network: 83 %\n",
      "Validation Accuracy of the network: 54 %\n",
      "EarlyStopping counter: 39 out of 50\n"
     ]
    },
    {
     "name": "stderr",
     "output_type": "stream",
     "text": [
      " 11%|█████████████████▉                                                                                                                                                | 111/1000 [04:18<28:02,  1.89s/it]"
     ]
    },
    {
     "name": "stdout",
     "output_type": "stream",
     "text": [
      "Training Loss: 0.4623833004887222\n",
      "Validation Loss: 1.1822232570913103\n",
      "Training Accuracy of the network: 83 %\n",
      "Validation Accuracy of the network: 54 %\n",
      "EarlyStopping counter: 40 out of 50\n"
     ]
    },
    {
     "name": "stderr",
     "output_type": "stream",
     "text": [
      " 11%|██████████████████▏                                                                                                                                               | 112/1000 [04:20<28:05,  1.90s/it]"
     ]
    },
    {
     "name": "stdout",
     "output_type": "stream",
     "text": [
      "Training Loss: 0.4638191025096474\n",
      "Validation Loss: 1.1697061392996047\n",
      "Training Accuracy of the network: 83 %\n",
      "Validation Accuracy of the network: 53 %\n",
      "EarlyStopping counter: 41 out of 50\n"
     ]
    },
    {
     "name": "stderr",
     "output_type": "stream",
     "text": [
      " 11%|██████████████████▎                                                                                                                                               | 113/1000 [04:22<28:03,  1.90s/it]"
     ]
    },
    {
     "name": "stdout",
     "output_type": "stream",
     "text": [
      "Training Loss: 0.42738158557009187\n",
      "Validation Loss: 1.1904866364267137\n",
      "Training Accuracy of the network: 83 %\n",
      "Validation Accuracy of the network: 53 %\n",
      "EarlyStopping counter: 42 out of 50\n"
     ]
    },
    {
     "name": "stderr",
     "output_type": "stream",
     "text": [
      " 11%|██████████████████▍                                                                                                                                               | 114/1000 [04:24<27:49,  1.88s/it]"
     ]
    },
    {
     "name": "stdout",
     "output_type": "stream",
     "text": [
      "Training Loss: 0.43551714163511357\n",
      "Validation Loss: 1.172613771425353\n",
      "Training Accuracy of the network: 84 %\n",
      "Validation Accuracy of the network: 54 %\n",
      "EarlyStopping counter: 43 out of 50\n"
     ]
    },
    {
     "name": "stderr",
     "output_type": "stream",
     "text": [
      " 12%|██████████████████▋                                                                                                                                               | 115/1000 [04:26<28:01,  1.90s/it]"
     ]
    },
    {
     "name": "stdout",
     "output_type": "stream",
     "text": [
      "Training Loss: 0.4300859795077473\n",
      "Validation Loss: 1.1768628193272486\n",
      "Training Accuracy of the network: 84 %\n",
      "Validation Accuracy of the network: 54 %\n",
      "EarlyStopping counter: 44 out of 50\n"
     ]
    },
    {
     "name": "stderr",
     "output_type": "stream",
     "text": [
      " 12%|██████████████████▊                                                                                                                                               | 116/1000 [04:28<28:14,  1.92s/it]"
     ]
    },
    {
     "name": "stdout",
     "output_type": "stream",
     "text": [
      "Training Loss: 0.42531956901364293\n",
      "Validation Loss: 1.1794382747676637\n",
      "Training Accuracy of the network: 84 %\n",
      "Validation Accuracy of the network: 54 %\n",
      "EarlyStopping counter: 45 out of 50\n"
     ]
    },
    {
     "name": "stderr",
     "output_type": "stream",
     "text": [
      " 12%|██████████████████▉                                                                                                                                               | 117/1000 [04:30<28:09,  1.91s/it]"
     ]
    },
    {
     "name": "stdout",
     "output_type": "stream",
     "text": [
      "Training Loss: 0.4210278198440024\n",
      "Validation Loss: 1.1831657621595595\n",
      "Training Accuracy of the network: 85 %\n",
      "Validation Accuracy of the network: 55 %\n",
      "EarlyStopping counter: 46 out of 50\n"
     ]
    },
    {
     "name": "stderr",
     "output_type": "stream",
     "text": [
      " 12%|███████████████████                                                                                                                                               | 118/1000 [04:31<27:58,  1.90s/it]"
     ]
    },
    {
     "name": "stdout",
     "output_type": "stream",
     "text": [
      "Training Loss: 0.4194860689817591\n",
      "Validation Loss: 1.1909812407361136\n",
      "Training Accuracy of the network: 84 %\n",
      "Validation Accuracy of the network: 54 %\n",
      "EarlyStopping counter: 47 out of 50\n"
     ]
    },
    {
     "name": "stderr",
     "output_type": "stream",
     "text": [
      " 12%|███████████████████▎                                                                                                                                              | 119/1000 [04:33<28:31,  1.94s/it]"
     ]
    },
    {
     "name": "stdout",
     "output_type": "stream",
     "text": [
      "Training Loss: 0.40536739936111665\n",
      "Validation Loss: 1.195310620798005\n",
      "Training Accuracy of the network: 85 %\n",
      "Validation Accuracy of the network: 54 %\n",
      "EarlyStopping counter: 48 out of 50\n"
     ]
    },
    {
     "name": "stderr",
     "output_type": "stream",
     "text": [
      " 12%|███████████████████▍                                                                                                                                              | 120/1000 [04:35<28:14,  1.93s/it]"
     ]
    },
    {
     "name": "stdout",
     "output_type": "stream",
     "text": [
      "Training Loss: 0.41060535308528456\n",
      "Validation Loss: 1.1891218142377005\n",
      "Training Accuracy of the network: 85 %\n",
      "Validation Accuracy of the network: 53 %\n",
      "EarlyStopping counter: 49 out of 50\n"
     ]
    },
    {
     "name": "stderr",
     "output_type": "stream",
     "text": [
      " 12%|███████████████████▍                                                                                                                                              | 120/1000 [04:37<33:57,  2.31s/it]"
     ]
    },
    {
     "name": "stdout",
     "output_type": "stream",
     "text": [
      "Training Loss: 0.4122963551141269\n",
      "Validation Loss: 1.2036133524444368\n",
      "Training Accuracy of the network: 85 %\n",
      "Validation Accuracy of the network: 53 %\n",
      "EarlyStopping counter: 50 out of 50\n",
      "Early Stopping\n",
      "Testing Loss: 1.4135302305221558\n",
      "Testing Accuracy of the network: 42 %\n"
     ]
    },
    {
     "name": "stderr",
     "output_type": "stream",
     "text": [
      "\n",
      "  0%|▏                                                                                                                                                                   | 1/1000 [00:02<41:19,  2.48s/it]"
     ]
    },
    {
     "name": "stdout",
     "output_type": "stream",
     "text": [
      "Training Loss: 1.561251944389896\n",
      "Validation Loss: 1.4243946552276612\n",
      "Training Accuracy of the network: 24 %\n",
      "Validation Accuracy of the network: 27 %\n",
      "Validation loss decreased (inf --> 1.424395).  Saving model ...\n"
     ]
    },
    {
     "name": "stderr",
     "output_type": "stream",
     "text": [
      "  0%|▎                                                                                                                                                                   | 2/1000 [00:05<42:00,  2.53s/it]"
     ]
    },
    {
     "name": "stdout",
     "output_type": "stream",
     "text": [
      "Training Loss: 1.49629364065502\n",
      "Validation Loss: 1.4111490181514195\n",
      "Training Accuracy of the network: 27 %\n",
      "Validation Accuracy of the network: 28 %\n",
      "Validation loss decreased (1.424395 --> 1.411149).  Saving model ...\n"
     ]
    },
    {
     "name": "stderr",
     "output_type": "stream",
     "text": [
      "  0%|▍                                                                                                                                                                   | 3/1000 [00:07<41:58,  2.53s/it]"
     ]
    },
    {
     "name": "stdout",
     "output_type": "stream",
     "text": [
      "Training Loss: 1.4617266136667002\n",
      "Validation Loss: 1.3913468633379256\n",
      "Training Accuracy of the network: 28 %\n",
      "Validation Accuracy of the network: 29 %\n",
      "Validation loss decreased (1.411149 --> 1.391347).  Saving model ...\n"
     ]
    },
    {
     "name": "stderr",
     "output_type": "stream",
     "text": [
      "  0%|▋                                                                                                                                                                   | 4/1000 [00:10<43:07,  2.60s/it]"
     ]
    },
    {
     "name": "stdout",
     "output_type": "stream",
     "text": [
      "Training Loss: 1.4222024532331936\n",
      "Validation Loss: 1.3843145847320557\n",
      "Training Accuracy of the network: 27 %\n",
      "Validation Accuracy of the network: 29 %\n",
      "Validation loss decreased (1.391347 --> 1.384315).  Saving model ...\n"
     ]
    },
    {
     "name": "stderr",
     "output_type": "stream",
     "text": [
      "  0%|▊                                                                                                                                                                   | 5/1000 [00:12<42:37,  2.57s/it]"
     ]
    },
    {
     "name": "stdout",
     "output_type": "stream",
     "text": [
      "Training Loss: 1.3954644937446152\n",
      "Validation Loss: 1.3749762058258057\n",
      "Training Accuracy of the network: 32 %\n",
      "Validation Accuracy of the network: 29 %\n",
      "Validation loss decreased (1.384315 --> 1.374976).  Saving model ...\n"
     ]
    },
    {
     "name": "stderr",
     "output_type": "stream",
     "text": [
      "  1%|▉                                                                                                                                                                   | 6/1000 [00:15<42:09,  2.54s/it]"
     ]
    },
    {
     "name": "stdout",
     "output_type": "stream",
     "text": [
      "Training Loss: 1.3639979120613872\n",
      "Validation Loss: 1.3621188981192454\n",
      "Training Accuracy of the network: 34 %\n",
      "Validation Accuracy of the network: 31 %\n",
      "Validation loss decreased (1.374976 --> 1.362119).  Saving model ...\n"
     ]
    },
    {
     "name": "stderr",
     "output_type": "stream",
     "text": [
      "  1%|█▏                                                                                                                                                                  | 7/1000 [00:17<41:37,  2.51s/it]"
     ]
    },
    {
     "name": "stdout",
     "output_type": "stream",
     "text": [
      "Training Loss: 1.3546819971955342\n",
      "Validation Loss: 1.3549484831946237\n",
      "Training Accuracy of the network: 34 %\n",
      "Validation Accuracy of the network: 32 %\n",
      "Validation loss decreased (1.362119 --> 1.354948).  Saving model ...\n"
     ]
    },
    {
     "name": "stderr",
     "output_type": "stream",
     "text": [
      "  1%|█▎                                                                                                                                                                  | 8/1000 [00:20<41:31,  2.51s/it]"
     ]
    },
    {
     "name": "stdout",
     "output_type": "stream",
     "text": [
      "Training Loss: 1.321149594541909\n",
      "Validation Loss: 1.3472838265555245\n",
      "Training Accuracy of the network: 37 %\n",
      "Validation Accuracy of the network: 34 %\n",
      "Validation loss decreased (1.354948 --> 1.347284).  Saving model ...\n"
     ]
    },
    {
     "name": "stderr",
     "output_type": "stream",
     "text": [
      "  1%|█▍                                                                                                                                                                  | 9/1000 [00:22<41:49,  2.53s/it]"
     ]
    },
    {
     "name": "stdout",
     "output_type": "stream",
     "text": [
      "Training Loss: 1.2983463842799698\n",
      "Validation Loss: 1.3329543011529106\n",
      "Training Accuracy of the network: 38 %\n",
      "Validation Accuracy of the network: 35 %\n",
      "Validation loss decreased (1.347284 --> 1.332954).  Saving model ...\n"
     ]
    },
    {
     "name": "stderr",
     "output_type": "stream",
     "text": [
      "  1%|█▋                                                                                                                                                                 | 10/1000 [00:25<42:04,  2.55s/it]"
     ]
    },
    {
     "name": "stdout",
     "output_type": "stream",
     "text": [
      "Training Loss: 1.2847864230473836\n",
      "Validation Loss: 1.3330807651792254\n",
      "Training Accuracy of the network: 39 %\n",
      "Validation Accuracy of the network: 35 %\n",
      "EarlyStopping counter: 1 out of 50\n"
     ]
    },
    {
     "name": "stderr",
     "output_type": "stream",
     "text": [
      "  1%|█▊                                                                                                                                                                 | 11/1000 [00:27<41:39,  2.53s/it]"
     ]
    },
    {
     "name": "stdout",
     "output_type": "stream",
     "text": [
      "Training Loss: 1.2753119891968325\n",
      "Validation Loss: 1.3243382011141096\n",
      "Training Accuracy of the network: 40 %\n",
      "Validation Accuracy of the network: 36 %\n",
      "Validation loss decreased (1.332954 --> 1.324338).  Saving model ...\n"
     ]
    },
    {
     "name": "stderr",
     "output_type": "stream",
     "text": [
      "  1%|█▉                                                                                                                                                                 | 12/1000 [00:30<41:44,  2.54s/it]"
     ]
    },
    {
     "name": "stdout",
     "output_type": "stream",
     "text": [
      "Training Loss: 1.2411775459413943\n",
      "Validation Loss: 1.3150432586669922\n",
      "Training Accuracy of the network: 44 %\n",
      "Validation Accuracy of the network: 36 %\n",
      "Validation loss decreased (1.324338 --> 1.315043).  Saving model ...\n"
     ]
    },
    {
     "name": "stderr",
     "output_type": "stream",
     "text": [
      "  1%|██                                                                                                                                                                 | 13/1000 [00:33<41:50,  2.54s/it]"
     ]
    },
    {
     "name": "stdout",
     "output_type": "stream",
     "text": [
      "Training Loss: 1.244689373218495\n",
      "Validation Loss: 1.3109333038330078\n",
      "Training Accuracy of the network: 42 %\n",
      "Validation Accuracy of the network: 38 %\n",
      "Validation loss decreased (1.315043 --> 1.310933).  Saving model ...\n"
     ]
    },
    {
     "name": "stderr",
     "output_type": "stream",
     "text": [
      "  1%|██▎                                                                                                                                                                | 14/1000 [00:35<41:54,  2.55s/it]"
     ]
    },
    {
     "name": "stdout",
     "output_type": "stream",
     "text": [
      "Training Loss: 1.225258000087047\n",
      "Validation Loss: 1.3033608947481428\n",
      "Training Accuracy of the network: 43 %\n",
      "Validation Accuracy of the network: 37 %\n",
      "Validation loss decreased (1.310933 --> 1.303361).  Saving model ...\n"
     ]
    },
    {
     "name": "stderr",
     "output_type": "stream",
     "text": [
      "  2%|██▍                                                                                                                                                                | 15/1000 [00:38<41:21,  2.52s/it]"
     ]
    },
    {
     "name": "stdout",
     "output_type": "stream",
     "text": [
      "Training Loss: 1.2021238626777262\n",
      "Validation Loss: 1.3025930540902273\n",
      "Training Accuracy of the network: 45 %\n",
      "Validation Accuracy of the network: 37 %\n",
      "Validation loss decreased (1.303361 --> 1.302593).  Saving model ...\n"
     ]
    },
    {
     "name": "stderr",
     "output_type": "stream",
     "text": [
      "  2%|██▌                                                                                                                                                                | 16/1000 [00:40<40:18,  2.46s/it]"
     ]
    },
    {
     "name": "stdout",
     "output_type": "stream",
     "text": [
      "Training Loss: 1.1997093899526459\n",
      "Validation Loss: 1.29513840675354\n",
      "Training Accuracy of the network: 46 %\n",
      "Validation Accuracy of the network: 38 %\n",
      "Validation loss decreased (1.302593 --> 1.295138).  Saving model ...\n"
     ]
    },
    {
     "name": "stderr",
     "output_type": "stream",
     "text": [
      "  2%|██▊                                                                                                                                                                | 17/1000 [00:42<40:48,  2.49s/it]"
     ]
    },
    {
     "name": "stdout",
     "output_type": "stream",
     "text": [
      "Training Loss: 1.1866490838752277\n",
      "Validation Loss: 1.2912276438304355\n",
      "Training Accuracy of the network: 45 %\n",
      "Validation Accuracy of the network: 37 %\n",
      "Validation loss decreased (1.295138 --> 1.291228).  Saving model ...\n"
     ]
    },
    {
     "name": "stderr",
     "output_type": "stream",
     "text": [
      "  2%|██▉                                                                                                                                                                | 18/1000 [00:45<40:49,  2.49s/it]"
     ]
    },
    {
     "name": "stdout",
     "output_type": "stream",
     "text": [
      "Training Loss: 1.1672299754792366\n",
      "Validation Loss: 1.2882503441401891\n",
      "Training Accuracy of the network: 47 %\n",
      "Validation Accuracy of the network: 38 %\n",
      "Validation loss decreased (1.291228 --> 1.288250).  Saving model ...\n"
     ]
    },
    {
     "name": "stderr",
     "output_type": "stream",
     "text": [
      "  2%|███                                                                                                                                                                | 19/1000 [00:48<41:25,  2.53s/it]"
     ]
    },
    {
     "name": "stdout",
     "output_type": "stream",
     "text": [
      "Training Loss: 1.159972501837689\n",
      "Validation Loss: 1.2826834440231323\n",
      "Training Accuracy of the network: 46 %\n",
      "Validation Accuracy of the network: 38 %\n",
      "Validation loss decreased (1.288250 --> 1.282683).  Saving model ...\n"
     ]
    },
    {
     "name": "stderr",
     "output_type": "stream",
     "text": [
      "  2%|███▎                                                                                                                                                               | 20/1000 [00:50<41:46,  2.56s/it]"
     ]
    },
    {
     "name": "stdout",
     "output_type": "stream",
     "text": [
      "Training Loss: 1.1454881251506184\n",
      "Validation Loss: 1.2759383065359933\n",
      "Training Accuracy of the network: 48 %\n",
      "Validation Accuracy of the network: 39 %\n",
      "Validation loss decreased (1.282683 --> 1.275938).  Saving model ...\n"
     ]
    },
    {
     "name": "stderr",
     "output_type": "stream",
     "text": [
      "  2%|███▍                                                                                                                                                               | 21/1000 [00:53<41:42,  2.56s/it]"
     ]
    },
    {
     "name": "stdout",
     "output_type": "stream",
     "text": [
      "Training Loss: 1.1337733113247415\n",
      "Validation Loss: 1.272158145904541\n",
      "Training Accuracy of the network: 48 %\n",
      "Validation Accuracy of the network: 38 %\n",
      "Validation loss decreased (1.275938 --> 1.272158).  Saving model ...\n"
     ]
    },
    {
     "name": "stderr",
     "output_type": "stream",
     "text": [
      "  2%|███▌                                                                                                                                                               | 22/1000 [00:55<41:10,  2.53s/it]"
     ]
    },
    {
     "name": "stdout",
     "output_type": "stream",
     "text": [
      "Training Loss: 1.1122960248503133\n",
      "Validation Loss: 1.2643369129725865\n",
      "Training Accuracy of the network: 49 %\n",
      "Validation Accuracy of the network: 39 %\n",
      "Validation loss decreased (1.272158 --> 1.264337).  Saving model ...\n"
     ]
    },
    {
     "name": "stderr",
     "output_type": "stream",
     "text": [
      "  2%|███▋                                                                                                                                                               | 23/1000 [00:58<41:50,  2.57s/it]"
     ]
    },
    {
     "name": "stdout",
     "output_type": "stream",
     "text": [
      "Training Loss: 1.114728829782942\n",
      "Validation Loss: 1.2627530540738787\n",
      "Training Accuracy of the network: 51 %\n",
      "Validation Accuracy of the network: 40 %\n",
      "Validation loss decreased (1.264337 --> 1.262753).  Saving model ...\n"
     ]
    },
    {
     "name": "stderr",
     "output_type": "stream",
     "text": [
      "  2%|███▉                                                                                                                                                               | 24/1000 [01:01<42:28,  2.61s/it]"
     ]
    },
    {
     "name": "stdout",
     "output_type": "stream",
     "text": [
      "Training Loss: 1.0883435740850973\n",
      "Validation Loss: 1.25841326713562\n",
      "Training Accuracy of the network: 52 %\n",
      "Validation Accuracy of the network: 40 %\n",
      "Validation loss decreased (1.262753 --> 1.258413).  Saving model ...\n"
     ]
    },
    {
     "name": "stderr",
     "output_type": "stream",
     "text": [
      "  2%|████                                                                                                                                                               | 25/1000 [01:03<42:07,  2.59s/it]"
     ]
    },
    {
     "name": "stdout",
     "output_type": "stream",
     "text": [
      "Training Loss: 1.0930944733537626\n",
      "Validation Loss: 1.2542121018682206\n",
      "Training Accuracy of the network: 51 %\n",
      "Validation Accuracy of the network: 40 %\n",
      "Validation loss decreased (1.258413 --> 1.254212).  Saving model ...\n"
     ]
    },
    {
     "name": "stderr",
     "output_type": "stream",
     "text": [
      "  3%|████▏                                                                                                                                                              | 26/1000 [01:06<42:19,  2.61s/it]"
     ]
    },
    {
     "name": "stdout",
     "output_type": "stream",
     "text": [
      "Training Loss: 1.0685439759838409\n",
      "Validation Loss: 1.248434613432203\n",
      "Training Accuracy of the network: 53 %\n",
      "Validation Accuracy of the network: 39 %\n",
      "Validation loss decreased (1.254212 --> 1.248435).  Saving model ...\n"
     ]
    },
    {
     "name": "stderr",
     "output_type": "stream",
     "text": [
      "  3%|████▍                                                                                                                                                              | 27/1000 [01:08<41:02,  2.53s/it]"
     ]
    },
    {
     "name": "stdout",
     "output_type": "stream",
     "text": [
      "Training Loss: 1.0568925736714965\n",
      "Validation Loss: 1.245199716091156\n",
      "Training Accuracy of the network: 54 %\n",
      "Validation Accuracy of the network: 40 %\n",
      "Validation loss decreased (1.248435 --> 1.245200).  Saving model ...\n"
     ]
    },
    {
     "name": "stderr",
     "output_type": "stream",
     "text": [
      "  3%|████▌                                                                                                                                                              | 28/1000 [01:10<40:21,  2.49s/it]"
     ]
    },
    {
     "name": "stdout",
     "output_type": "stream",
     "text": [
      "Training Loss: 1.0536701140412386\n",
      "Validation Loss: 1.237871437413352\n",
      "Training Accuracy of the network: 54 %\n",
      "Validation Accuracy of the network: 41 %\n",
      "Validation loss decreased (1.245200 --> 1.237871).  Saving model ...\n"
     ]
    },
    {
     "name": "stderr",
     "output_type": "stream",
     "text": [
      "  3%|████▋                                                                                                                                                              | 29/1000 [01:13<40:58,  2.53s/it]"
     ]
    },
    {
     "name": "stdout",
     "output_type": "stream",
     "text": [
      "Training Loss: 1.030054765658966\n",
      "Validation Loss: 1.2336050408227104\n",
      "Training Accuracy of the network: 56 %\n",
      "Validation Accuracy of the network: 42 %\n",
      "Validation loss decreased (1.237871 --> 1.233605).  Saving model ...\n"
     ]
    },
    {
     "name": "stderr",
     "output_type": "stream",
     "text": [
      "  3%|████▉                                                                                                                                                              | 30/1000 [01:16<41:01,  2.54s/it]"
     ]
    },
    {
     "name": "stdout",
     "output_type": "stream",
     "text": [
      "Training Loss: 1.025011795748403\n",
      "Validation Loss: 1.2306112544877188\n",
      "Training Accuracy of the network: 55 %\n",
      "Validation Accuracy of the network: 42 %\n",
      "Validation loss decreased (1.233605 --> 1.230611).  Saving model ...\n"
     ]
    },
    {
     "name": "stderr",
     "output_type": "stream",
     "text": [
      "  3%|█████                                                                                                                                                              | 31/1000 [01:18<39:45,  2.46s/it]"
     ]
    },
    {
     "name": "stdout",
     "output_type": "stream",
     "text": [
      "Training Loss: 1.0146629011285477\n",
      "Validation Loss: 1.2248087797846112\n",
      "Training Accuracy of the network: 57 %\n",
      "Validation Accuracy of the network: 43 %\n",
      "Validation loss decreased (1.230611 --> 1.224809).  Saving model ...\n"
     ]
    },
    {
     "name": "stderr",
     "output_type": "stream",
     "text": [
      "  3%|█████▏                                                                                                                                                             | 32/1000 [01:20<39:02,  2.42s/it]"
     ]
    },
    {
     "name": "stdout",
     "output_type": "stream",
     "text": [
      "Training Loss: 1.0048217283210892\n",
      "Validation Loss: 1.2183910131454467\n",
      "Training Accuracy of the network: 57 %\n",
      "Validation Accuracy of the network: 41 %\n",
      "Validation loss decreased (1.224809 --> 1.218391).  Saving model ...\n"
     ]
    },
    {
     "name": "stderr",
     "output_type": "stream",
     "text": [
      "  3%|█████▍                                                                                                                                                             | 33/1000 [01:23<39:31,  2.45s/it]"
     ]
    },
    {
     "name": "stdout",
     "output_type": "stream",
     "text": [
      "Training Loss: 0.9974151751485424\n",
      "Validation Loss: 1.217187169619969\n",
      "Training Accuracy of the network: 57 %\n",
      "Validation Accuracy of the network: 42 %\n",
      "Validation loss decreased (1.218391 --> 1.217187).  Saving model ...\n"
     ]
    },
    {
     "name": "stderr",
     "output_type": "stream",
     "text": [
      "  3%|█████▌                                                                                                                                                             | 34/1000 [01:25<40:00,  2.48s/it]"
     ]
    },
    {
     "name": "stdout",
     "output_type": "stream",
     "text": [
      "Training Loss: 0.9761314026039579\n",
      "Validation Loss: 1.2074276174817766\n",
      "Training Accuracy of the network: 59 %\n",
      "Validation Accuracy of the network: 44 %\n",
      "Validation loss decreased (1.217187 --> 1.207428).  Saving model ...\n"
     ]
    },
    {
     "name": "stderr",
     "output_type": "stream",
     "text": [
      "  4%|█████▋                                                                                                                                                             | 35/1000 [01:28<40:45,  2.53s/it]"
     ]
    },
    {
     "name": "stdout",
     "output_type": "stream",
     "text": [
      "Training Loss: 0.9622964452466239\n",
      "Validation Loss: 1.2044558882713319\n",
      "Training Accuracy of the network: 60 %\n",
      "Validation Accuracy of the network: 44 %\n",
      "Validation loss decreased (1.207428 --> 1.204456).  Saving model ...\n"
     ]
    },
    {
     "name": "stderr",
     "output_type": "stream",
     "text": [
      "  4%|█████▊                                                                                                                                                             | 36/1000 [01:31<41:10,  2.56s/it]"
     ]
    },
    {
     "name": "stdout",
     "output_type": "stream",
     "text": [
      "Training Loss: 0.9586716776956683\n",
      "Validation Loss: 1.2009624651500157\n",
      "Training Accuracy of the network: 59 %\n",
      "Validation Accuracy of the network: 44 %\n",
      "Validation loss decreased (1.204456 --> 1.200962).  Saving model ...\n"
     ]
    },
    {
     "name": "stderr",
     "output_type": "stream",
     "text": [
      "  4%|██████                                                                                                                                                             | 37/1000 [01:33<40:56,  2.55s/it]"
     ]
    },
    {
     "name": "stdout",
     "output_type": "stream",
     "text": [
      "Training Loss: 0.9396851826729118\n",
      "Validation Loss: 1.1976228373391287\n",
      "Training Accuracy of the network: 60 %\n",
      "Validation Accuracy of the network: 43 %\n",
      "Validation loss decreased (1.200962 --> 1.197623).  Saving model ...\n"
     ]
    },
    {
     "name": "stderr",
     "output_type": "stream",
     "text": [
      "  4%|██████▏                                                                                                                                                            | 38/1000 [01:36<40:57,  2.55s/it]"
     ]
    },
    {
     "name": "stdout",
     "output_type": "stream",
     "text": [
      "Training Loss: 0.93296401710182\n",
      "Validation Loss: 1.191588956969125\n",
      "Training Accuracy of the network: 60 %\n",
      "Validation Accuracy of the network: 46 %\n",
      "Validation loss decreased (1.197623 --> 1.191589).  Saving model ...\n"
     ]
    },
    {
     "name": "stderr",
     "output_type": "stream",
     "text": [
      "  4%|██████▎                                                                                                                                                            | 39/1000 [01:38<41:02,  2.56s/it]"
     ]
    },
    {
     "name": "stdout",
     "output_type": "stream",
     "text": [
      "Training Loss: 0.9160039550692275\n",
      "Validation Loss: 1.1891921332904272\n",
      "Training Accuracy of the network: 62 %\n",
      "Validation Accuracy of the network: 45 %\n",
      "Validation loss decreased (1.191589 --> 1.189192).  Saving model ...\n"
     ]
    },
    {
     "name": "stderr",
     "output_type": "stream",
     "text": [
      "  4%|██████▌                                                                                                                                                            | 40/1000 [01:41<41:17,  2.58s/it]"
     ]
    },
    {
     "name": "stdout",
     "output_type": "stream",
     "text": [
      "Training Loss: 0.9174923492406589\n",
      "Validation Loss: 1.1848119837897164\n",
      "Training Accuracy of the network: 61 %\n",
      "Validation Accuracy of the network: 44 %\n",
      "Validation loss decreased (1.189192 --> 1.184812).  Saving model ...\n"
     ]
    },
    {
     "name": "stderr",
     "output_type": "stream",
     "text": [
      "  4%|██████▋                                                                                                                                                            | 41/1000 [01:44<41:34,  2.60s/it]"
     ]
    },
    {
     "name": "stdout",
     "output_type": "stream",
     "text": [
      "Training Loss: 0.9054396333901779\n",
      "Validation Loss: 1.1798626014164515\n",
      "Training Accuracy of the network: 62 %\n",
      "Validation Accuracy of the network: 46 %\n",
      "Validation loss decreased (1.184812 --> 1.179863).  Saving model ...\n"
     ]
    },
    {
     "name": "stderr",
     "output_type": "stream",
     "text": [
      "  4%|██████▊                                                                                                                                                            | 42/1000 [01:46<40:26,  2.53s/it]"
     ]
    },
    {
     "name": "stdout",
     "output_type": "stream",
     "text": [
      "Training Loss: 0.8869859849953133\n",
      "Validation Loss: 1.1799949543816703\n",
      "Training Accuracy of the network: 63 %\n",
      "Validation Accuracy of the network: 45 %\n",
      "EarlyStopping counter: 1 out of 50\n"
     ]
    },
    {
     "name": "stderr",
     "output_type": "stream",
     "text": [
      "  4%|███████                                                                                                                                                            | 43/1000 [01:48<40:15,  2.52s/it]"
     ]
    },
    {
     "name": "stdout",
     "output_type": "stream",
     "text": [
      "Training Loss: 0.8707541169571704\n",
      "Validation Loss: 1.1758142828941345\n",
      "Training Accuracy of the network: 64 %\n",
      "Validation Accuracy of the network: 46 %\n",
      "Validation loss decreased (1.179863 --> 1.175814).  Saving model ...\n"
     ]
    },
    {
     "name": "stderr",
     "output_type": "stream",
     "text": [
      "  4%|███████▏                                                                                                                                                           | 44/1000 [01:51<40:19,  2.53s/it]"
     ]
    },
    {
     "name": "stdout",
     "output_type": "stream",
     "text": [
      "Training Loss: 0.8834259618019712\n",
      "Validation Loss: 1.1751852103642055\n",
      "Training Accuracy of the network: 64 %\n",
      "Validation Accuracy of the network: 45 %\n",
      "Validation loss decreased (1.175814 --> 1.175185).  Saving model ...\n"
     ]
    },
    {
     "name": "stderr",
     "output_type": "stream",
     "text": [
      "  4%|███████▎                                                                                                                                                           | 45/1000 [01:54<40:21,  2.54s/it]"
     ]
    },
    {
     "name": "stdout",
     "output_type": "stream",
     "text": [
      "Training Loss: 0.850857220320166\n",
      "Validation Loss: 1.1724612780979702\n",
      "Training Accuracy of the network: 66 %\n",
      "Validation Accuracy of the network: 47 %\n",
      "Validation loss decreased (1.175185 --> 1.172461).  Saving model ...\n"
     ]
    },
    {
     "name": "stderr",
     "output_type": "stream",
     "text": [
      "  5%|███████▍                                                                                                                                                           | 46/1000 [01:56<40:35,  2.55s/it]"
     ]
    },
    {
     "name": "stdout",
     "output_type": "stream",
     "text": [
      "Training Loss: 0.8396658461163009\n",
      "Validation Loss: 1.1793371881757464\n",
      "Training Accuracy of the network: 67 %\n",
      "Validation Accuracy of the network: 47 %\n",
      "EarlyStopping counter: 1 out of 50\n"
     ]
    },
    {
     "name": "stderr",
     "output_type": "stream",
     "text": [
      "  5%|███████▋                                                                                                                                                           | 47/1000 [01:59<40:00,  2.52s/it]"
     ]
    },
    {
     "name": "stdout",
     "output_type": "stream",
     "text": [
      "Training Loss: 0.8397379708543852\n",
      "Validation Loss: 1.1668382235935757\n",
      "Training Accuracy of the network: 66 %\n",
      "Validation Accuracy of the network: 47 %\n",
      "Validation loss decreased (1.172461 --> 1.166838).  Saving model ...\n"
     ]
    },
    {
     "name": "stderr",
     "output_type": "stream",
     "text": [
      "  5%|███████▊                                                                                                                                                           | 48/1000 [02:01<39:19,  2.48s/it]"
     ]
    },
    {
     "name": "stdout",
     "output_type": "stream",
     "text": [
      "Training Loss: 0.8231859107812246\n",
      "Validation Loss: 1.162273073196411\n",
      "Training Accuracy of the network: 67 %\n",
      "Validation Accuracy of the network: 47 %\n",
      "Validation loss decreased (1.166838 --> 1.162273).  Saving model ...\n"
     ]
    },
    {
     "name": "stderr",
     "output_type": "stream",
     "text": [
      "  5%|███████▉                                                                                                                                                           | 49/1000 [02:03<38:56,  2.46s/it]"
     ]
    },
    {
     "name": "stdout",
     "output_type": "stream",
     "text": [
      "Training Loss: 0.8268205344784951\n",
      "Validation Loss: 1.165497853074755\n",
      "Training Accuracy of the network: 66 %\n",
      "Validation Accuracy of the network: 48 %\n",
      "EarlyStopping counter: 1 out of 50\n"
     ]
    },
    {
     "name": "stderr",
     "output_type": "stream",
     "text": [
      "  5%|████████▏                                                                                                                                                          | 50/1000 [02:06<39:02,  2.47s/it]"
     ]
    },
    {
     "name": "stdout",
     "output_type": "stream",
     "text": [
      "Training Loss: 0.8138927884291911\n",
      "Validation Loss: 1.1636314102581569\n",
      "Training Accuracy of the network: 66 %\n",
      "Validation Accuracy of the network: 47 %\n",
      "EarlyStopping counter: 2 out of 50\n"
     ]
    },
    {
     "name": "stderr",
     "output_type": "stream",
     "text": [
      "  5%|████████▎                                                                                                                                                          | 51/1000 [02:08<39:19,  2.49s/it]"
     ]
    },
    {
     "name": "stdout",
     "output_type": "stream",
     "text": [
      "Training Loss: 0.8085471550407617\n",
      "Validation Loss: 1.1572047914777484\n",
      "Training Accuracy of the network: 67 %\n",
      "Validation Accuracy of the network: 49 %\n",
      "Validation loss decreased (1.162273 --> 1.157205).  Saving model ...\n"
     ]
    },
    {
     "name": "stderr",
     "output_type": "stream",
     "text": [
      "  5%|████████▍                                                                                                                                                          | 52/1000 [02:11<39:29,  2.50s/it]"
     ]
    },
    {
     "name": "stdout",
     "output_type": "stream",
     "text": [
      "Training Loss: 0.7976204727546893\n",
      "Validation Loss: 1.1616484505789622\n",
      "Training Accuracy of the network: 68 %\n",
      "Validation Accuracy of the network: 48 %\n",
      "EarlyStopping counter: 1 out of 50\n"
     ]
    },
    {
     "name": "stderr",
     "output_type": "stream",
     "text": [
      "  5%|████████▋                                                                                                                                                          | 53/1000 [02:13<39:15,  2.49s/it]"
     ]
    },
    {
     "name": "stdout",
     "output_type": "stream",
     "text": [
      "Training Loss: 0.77763258304069\n",
      "Validation Loss: 1.1657903177397593\n",
      "Training Accuracy of the network: 69 %\n",
      "Validation Accuracy of the network: 48 %\n",
      "EarlyStopping counter: 2 out of 50\n"
     ]
    },
    {
     "name": "stderr",
     "output_type": "stream",
     "text": [
      "  5%|████████▊                                                                                                                                                          | 54/1000 [02:16<39:01,  2.48s/it]"
     ]
    },
    {
     "name": "stdout",
     "output_type": "stream",
     "text": [
      "Training Loss: 0.7712854372634403\n",
      "Validation Loss: 1.1601598807743618\n",
      "Training Accuracy of the network: 69 %\n",
      "Validation Accuracy of the network: 48 %\n",
      "EarlyStopping counter: 3 out of 50\n"
     ]
    },
    {
     "name": "stderr",
     "output_type": "stream",
     "text": [
      "  6%|████████▉                                                                                                                                                          | 55/1000 [02:18<39:19,  2.50s/it]"
     ]
    },
    {
     "name": "stdout",
     "output_type": "stream",
     "text": [
      "Training Loss: 0.7616788348641949\n",
      "Validation Loss: 1.1619705149105617\n",
      "Training Accuracy of the network: 71 %\n",
      "Validation Accuracy of the network: 47 %\n",
      "EarlyStopping counter: 4 out of 50\n"
     ]
    },
    {
     "name": "stderr",
     "output_type": "stream",
     "text": [
      "  6%|█████████▏                                                                                                                                                         | 56/1000 [02:21<39:05,  2.48s/it]"
     ]
    },
    {
     "name": "stdout",
     "output_type": "stream",
     "text": [
      "Training Loss: 0.7551715700765667\n",
      "Validation Loss: 1.156553224154881\n",
      "Training Accuracy of the network: 70 %\n",
      "Validation Accuracy of the network: 48 %\n",
      "Validation loss decreased (1.157205 --> 1.156553).  Saving model ...\n"
     ]
    },
    {
     "name": "stderr",
     "output_type": "stream",
     "text": [
      "  6%|█████████▎                                                                                                                                                         | 57/1000 [02:23<39:28,  2.51s/it]"
     ]
    },
    {
     "name": "stdout",
     "output_type": "stream",
     "text": [
      "Training Loss: 0.7464468574988238\n",
      "Validation Loss: 1.1546030947140284\n",
      "Training Accuracy of the network: 71 %\n",
      "Validation Accuracy of the network: 49 %\n",
      "Validation loss decreased (1.156553 --> 1.154603).  Saving model ...\n"
     ]
    },
    {
     "name": "stderr",
     "output_type": "stream",
     "text": [
      "  6%|█████████▍                                                                                                                                                         | 58/1000 [02:26<39:32,  2.52s/it]"
     ]
    },
    {
     "name": "stdout",
     "output_type": "stream",
     "text": [
      "Training Loss: 0.7463062370088005\n",
      "Validation Loss: 1.162059760093689\n",
      "Training Accuracy of the network: 72 %\n",
      "Validation Accuracy of the network: 48 %\n",
      "EarlyStopping counter: 1 out of 50\n"
     ]
    },
    {
     "name": "stderr",
     "output_type": "stream",
     "text": [
      "  6%|█████████▌                                                                                                                                                         | 59/1000 [02:28<39:15,  2.50s/it]"
     ]
    },
    {
     "name": "stdout",
     "output_type": "stream",
     "text": [
      "Training Loss: 0.7328530190431554\n",
      "Validation Loss: 1.161718225479126\n",
      "Training Accuracy of the network: 72 %\n",
      "Validation Accuracy of the network: 47 %\n",
      "EarlyStopping counter: 2 out of 50\n"
     ]
    },
    {
     "name": "stderr",
     "output_type": "stream",
     "text": [
      "  6%|█████████▊                                                                                                                                                         | 60/1000 [02:31<39:03,  2.49s/it]"
     ]
    },
    {
     "name": "stdout",
     "output_type": "stream",
     "text": [
      "Training Loss: 0.7212335703813512\n",
      "Validation Loss: 1.1615610701697214\n",
      "Training Accuracy of the network: 72 %\n",
      "Validation Accuracy of the network: 46 %\n",
      "EarlyStopping counter: 3 out of 50\n"
     ]
    },
    {
     "name": "stderr",
     "output_type": "stream",
     "text": [
      "  6%|█████████▉                                                                                                                                                         | 61/1000 [02:33<39:07,  2.50s/it]"
     ]
    },
    {
     "name": "stdout",
     "output_type": "stream",
     "text": [
      "Training Loss: 0.72391644473849\n",
      "Validation Loss: 1.1591810192380632\n",
      "Training Accuracy of the network: 71 %\n",
      "Validation Accuracy of the network: 47 %\n",
      "EarlyStopping counter: 4 out of 50\n"
     ]
    },
    {
     "name": "stderr",
     "output_type": "stream",
     "text": [
      "  6%|██████████                                                                                                                                                         | 62/1000 [02:36<39:23,  2.52s/it]"
     ]
    },
    {
     "name": "stdout",
     "output_type": "stream",
     "text": [
      "Training Loss: 0.7163209612278835\n",
      "Validation Loss: 1.1592928903443473\n",
      "Training Accuracy of the network: 71 %\n",
      "Validation Accuracy of the network: 48 %\n",
      "EarlyStopping counter: 5 out of 50\n"
     ]
    },
    {
     "name": "stderr",
     "output_type": "stream",
     "text": [
      "  6%|██████████▎                                                                                                                                                        | 63/1000 [02:38<38:49,  2.49s/it]"
     ]
    },
    {
     "name": "stdout",
     "output_type": "stream",
     "text": [
      "Training Loss: 0.696208755782657\n",
      "Validation Loss: 1.1683957133974348\n",
      "Training Accuracy of the network: 73 %\n",
      "Validation Accuracy of the network: 47 %\n",
      "EarlyStopping counter: 6 out of 50\n"
     ]
    },
    {
     "name": "stderr",
     "output_type": "stream",
     "text": [
      "  6%|██████████▍                                                                                                                                                        | 64/1000 [02:41<38:35,  2.47s/it]"
     ]
    },
    {
     "name": "stdout",
     "output_type": "stream",
     "text": [
      "Training Loss: 0.7117044886547155\n",
      "Validation Loss: 1.1513297319412232\n",
      "Training Accuracy of the network: 72 %\n",
      "Validation Accuracy of the network: 48 %\n",
      "Validation loss decreased (1.154603 --> 1.151330).  Saving model ...\n"
     ]
    },
    {
     "name": "stderr",
     "output_type": "stream",
     "text": [
      "  6%|██████████▌                                                                                                                                                        | 65/1000 [02:43<38:35,  2.48s/it]"
     ]
    },
    {
     "name": "stdout",
     "output_type": "stream",
     "text": [
      "Training Loss: 0.6708422212766997\n",
      "Validation Loss: 1.1559013417788915\n",
      "Training Accuracy of the network: 74 %\n",
      "Validation Accuracy of the network: 48 %\n",
      "EarlyStopping counter: 1 out of 50\n"
     ]
    },
    {
     "name": "stderr",
     "output_type": "stream",
     "text": [
      "  7%|██████████▊                                                                                                                                                        | 66/1000 [02:46<39:03,  2.51s/it]"
     ]
    },
    {
     "name": "stdout",
     "output_type": "stream",
     "text": [
      "Training Loss: 0.6902215869260439\n",
      "Validation Loss: 1.1535501411982945\n",
      "Training Accuracy of the network: 72 %\n",
      "Validation Accuracy of the network: 48 %\n",
      "EarlyStopping counter: 2 out of 50\n"
     ]
    },
    {
     "name": "stderr",
     "output_type": "stream",
     "text": [
      "  7%|██████████▉                                                                                                                                                        | 67/1000 [02:48<38:57,  2.50s/it]"
     ]
    },
    {
     "name": "stdout",
     "output_type": "stream",
     "text": [
      "Training Loss: 0.6850291801535565\n",
      "Validation Loss: 1.1536740677697317\n",
      "Training Accuracy of the network: 72 %\n",
      "Validation Accuracy of the network: 48 %\n",
      "EarlyStopping counter: 3 out of 50\n"
     ]
    },
    {
     "name": "stderr",
     "output_type": "stream",
     "text": [
      "  7%|███████████                                                                                                                                                        | 68/1000 [02:51<39:22,  2.54s/it]"
     ]
    },
    {
     "name": "stdout",
     "output_type": "stream",
     "text": [
      "Training Loss: 0.6739450913948425\n",
      "Validation Loss: 1.146704193523952\n",
      "Training Accuracy of the network: 74 %\n",
      "Validation Accuracy of the network: 48 %\n",
      "Validation loss decreased (1.151330 --> 1.146704).  Saving model ...\n"
     ]
    },
    {
     "name": "stderr",
     "output_type": "stream",
     "text": [
      "  7%|███████████▏                                                                                                                                                       | 69/1000 [02:54<39:21,  2.54s/it]"
     ]
    },
    {
     "name": "stdout",
     "output_type": "stream",
     "text": [
      "Training Loss: 0.6672257375026095\n",
      "Validation Loss: 1.142678815977914\n",
      "Training Accuracy of the network: 73 %\n",
      "Validation Accuracy of the network: 48 %\n",
      "Validation loss decreased (1.146704 --> 1.142679).  Saving model ...\n"
     ]
    },
    {
     "name": "stderr",
     "output_type": "stream",
     "text": [
      "  7%|███████████▍                                                                                                                                                       | 70/1000 [02:56<39:53,  2.57s/it]"
     ]
    },
    {
     "name": "stdout",
     "output_type": "stream",
     "text": [
      "Training Loss: 0.6485037742236602\n",
      "Validation Loss: 1.1337306022644043\n",
      "Training Accuracy of the network: 74 %\n",
      "Validation Accuracy of the network: 49 %\n",
      "Validation loss decreased (1.142679 --> 1.133731).  Saving model ...\n"
     ]
    },
    {
     "name": "stderr",
     "output_type": "stream",
     "text": [
      "  7%|███████████▌                                                                                                                                                       | 71/1000 [02:59<39:52,  2.58s/it]"
     ]
    },
    {
     "name": "stdout",
     "output_type": "stream",
     "text": [
      "Training Loss: 0.6394388169603611\n",
      "Validation Loss: 1.1488132698195321\n",
      "Training Accuracy of the network: 74 %\n",
      "Validation Accuracy of the network: 48 %\n",
      "EarlyStopping counter: 1 out of 50\n"
     ]
    },
    {
     "name": "stderr",
     "output_type": "stream",
     "text": [
      "  7%|███████████▋                                                                                                                                                       | 72/1000 [03:01<39:29,  2.55s/it]"
     ]
    },
    {
     "name": "stdout",
     "output_type": "stream",
     "text": [
      "Training Loss: 0.6431802509730493\n",
      "Validation Loss: 1.148128160408565\n",
      "Training Accuracy of the network: 75 %\n",
      "Validation Accuracy of the network: 49 %\n",
      "EarlyStopping counter: 2 out of 50\n"
     ]
    },
    {
     "name": "stderr",
     "output_type": "stream",
     "text": [
      "  7%|███████████▉                                                                                                                                                       | 73/1000 [03:04<39:22,  2.55s/it]"
     ]
    },
    {
     "name": "stdout",
     "output_type": "stream",
     "text": [
      "Training Loss: 0.631202159854381\n",
      "Validation Loss: 1.1407180087906974\n",
      "Training Accuracy of the network: 75 %\n",
      "Validation Accuracy of the network: 50 %\n",
      "EarlyStopping counter: 3 out of 50\n"
     ]
    },
    {
     "name": "stderr",
     "output_type": "stream",
     "text": [
      "  7%|████████████                                                                                                                                                       | 74/1000 [03:06<39:31,  2.56s/it]"
     ]
    },
    {
     "name": "stdout",
     "output_type": "stream",
     "text": [
      "Training Loss: 0.6308558475010205\n",
      "Validation Loss: 1.1365711859294347\n",
      "Training Accuracy of the network: 76 %\n",
      "Validation Accuracy of the network: 49 %\n",
      "EarlyStopping counter: 4 out of 50\n"
     ]
    },
    {
     "name": "stderr",
     "output_type": "stream",
     "text": [
      "  8%|████████████▏                                                                                                                                                      | 75/1000 [03:09<39:10,  2.54s/it]"
     ]
    },
    {
     "name": "stdout",
     "output_type": "stream",
     "text": [
      "Training Loss: 0.6325114664176236\n",
      "Validation Loss: 1.1271780661174229\n",
      "Training Accuracy of the network: 76 %\n",
      "Validation Accuracy of the network: 50 %\n",
      "Validation loss decreased (1.133731 --> 1.127178).  Saving model ...\n"
     ]
    },
    {
     "name": "stderr",
     "output_type": "stream",
     "text": [
      "  8%|████████████▍                                                                                                                                                      | 76/1000 [03:11<39:03,  2.54s/it]"
     ]
    },
    {
     "name": "stdout",
     "output_type": "stream",
     "text": [
      "Training Loss: 0.6109530630966892\n",
      "Validation Loss: 1.1409499100276401\n",
      "Training Accuracy of the network: 76 %\n",
      "Validation Accuracy of the network: 50 %\n",
      "EarlyStopping counter: 1 out of 50\n"
     ]
    },
    {
     "name": "stderr",
     "output_type": "stream",
     "text": [
      "  8%|████████████▌                                                                                                                                                      | 77/1000 [03:14<38:23,  2.50s/it]"
     ]
    },
    {
     "name": "stdout",
     "output_type": "stream",
     "text": [
      "Training Loss: 0.6139374656089838\n",
      "Validation Loss: 1.1338017003876821\n",
      "Training Accuracy of the network: 76 %\n",
      "Validation Accuracy of the network: 50 %\n",
      "EarlyStopping counter: 2 out of 50\n"
     ]
    },
    {
     "name": "stderr",
     "output_type": "stream",
     "text": [
      "  8%|████████████▋                                                                                                                                                      | 78/1000 [03:16<37:55,  2.47s/it]"
     ]
    },
    {
     "name": "stdout",
     "output_type": "stream",
     "text": [
      "Training Loss: 0.6188628201075979\n",
      "Validation Loss: 1.1381907054356166\n",
      "Training Accuracy of the network: 75 %\n",
      "Validation Accuracy of the network: 50 %\n",
      "EarlyStopping counter: 3 out of 50\n"
     ]
    },
    {
     "name": "stderr",
     "output_type": "stream",
     "text": [
      "  8%|████████████▉                                                                                                                                                      | 79/1000 [03:19<37:13,  2.42s/it]"
     ]
    },
    {
     "name": "stdout",
     "output_type": "stream",
     "text": [
      "Training Loss: 0.6069364253485549\n",
      "Validation Loss: 1.1410831877163479\n",
      "Training Accuracy of the network: 76 %\n",
      "Validation Accuracy of the network: 49 %\n",
      "EarlyStopping counter: 4 out of 50\n"
     ]
    },
    {
     "name": "stderr",
     "output_type": "stream",
     "text": [
      "  8%|█████████████                                                                                                                                                      | 80/1000 [03:21<37:19,  2.43s/it]"
     ]
    },
    {
     "name": "stdout",
     "output_type": "stream",
     "text": [
      "Training Loss: 0.6001948771350409\n",
      "Validation Loss: 1.1345652052334376\n",
      "Training Accuracy of the network: 77 %\n",
      "Validation Accuracy of the network: 49 %\n",
      "EarlyStopping counter: 5 out of 50\n"
     ]
    },
    {
     "name": "stderr",
     "output_type": "stream",
     "text": [
      "  8%|█████████████▏                                                                                                                                                     | 81/1000 [03:23<36:21,  2.37s/it]"
     ]
    },
    {
     "name": "stdout",
     "output_type": "stream",
     "text": [
      "Training Loss: 0.5903860969279987\n",
      "Validation Loss: 1.144167707647596\n",
      "Training Accuracy of the network: 76 %\n",
      "Validation Accuracy of the network: 50 %\n",
      "EarlyStopping counter: 6 out of 50\n"
     ]
    },
    {
     "name": "stderr",
     "output_type": "stream",
     "text": [
      "  8%|█████████████▎                                                                                                                                                     | 82/1000 [03:26<37:55,  2.48s/it]"
     ]
    },
    {
     "name": "stdout",
     "output_type": "stream",
     "text": [
      "Training Loss: 0.592901398603251\n",
      "Validation Loss: 1.13572016954422\n",
      "Training Accuracy of the network: 77 %\n",
      "Validation Accuracy of the network: 50 %\n",
      "EarlyStopping counter: 7 out of 50\n"
     ]
    },
    {
     "name": "stderr",
     "output_type": "stream",
     "text": [
      "  8%|█████████████▌                                                                                                                                                     | 83/1000 [03:28<38:02,  2.49s/it]"
     ]
    },
    {
     "name": "stdout",
     "output_type": "stream",
     "text": [
      "Training Loss: 0.5942838168500558\n",
      "Validation Loss: 1.1352373020989555\n",
      "Training Accuracy of the network: 76 %\n",
      "Validation Accuracy of the network: 50 %\n",
      "EarlyStopping counter: 8 out of 50\n"
     ]
    },
    {
     "name": "stderr",
     "output_type": "stream",
     "text": [
      "  8%|█████████████▋                                                                                                                                                     | 84/1000 [03:31<38:48,  2.54s/it]"
     ]
    },
    {
     "name": "stdout",
     "output_type": "stream",
     "text": [
      "Training Loss: 0.5774562641222408\n",
      "Validation Loss: 1.1353161760738917\n",
      "Training Accuracy of the network: 78 %\n",
      "Validation Accuracy of the network: 49 %\n",
      "EarlyStopping counter: 9 out of 50\n"
     ]
    },
    {
     "name": "stderr",
     "output_type": "stream",
     "text": [
      "  8%|█████████████▊                                                                                                                                                     | 85/1000 [03:34<39:28,  2.59s/it]"
     ]
    },
    {
     "name": "stdout",
     "output_type": "stream",
     "text": [
      "Training Loss: 0.5674318868086498\n",
      "Validation Loss: 1.127660322189331\n",
      "Training Accuracy of the network: 78 %\n",
      "Validation Accuracy of the network: 49 %\n",
      "EarlyStopping counter: 10 out of 50\n"
     ]
    },
    {
     "name": "stderr",
     "output_type": "stream",
     "text": [
      "  9%|██████████████                                                                                                                                                     | 86/1000 [03:36<39:33,  2.60s/it]"
     ]
    },
    {
     "name": "stdout",
     "output_type": "stream",
     "text": [
      "Training Loss: 0.5723885028636542\n",
      "Validation Loss: 1.1491526109831673\n",
      "Training Accuracy of the network: 77 %\n",
      "Validation Accuracy of the network: 51 %\n",
      "EarlyStopping counter: 11 out of 50\n"
     ]
    },
    {
     "name": "stderr",
     "output_type": "stream",
     "text": [
      "  9%|██████████████▏                                                                                                                                                    | 87/1000 [03:39<39:00,  2.56s/it]"
     ]
    },
    {
     "name": "stdout",
     "output_type": "stream",
     "text": [
      "Training Loss: 0.5551991004874741\n",
      "Validation Loss: 1.1284147313662938\n",
      "Training Accuracy of the network: 80 %\n",
      "Validation Accuracy of the network: 50 %\n",
      "EarlyStopping counter: 12 out of 50\n"
     ]
    },
    {
     "name": "stderr",
     "output_type": "stream",
     "text": [
      "  9%|██████████████▎                                                                                                                                                    | 88/1000 [03:41<38:43,  2.55s/it]"
     ]
    },
    {
     "name": "stdout",
     "output_type": "stream",
     "text": [
      "Training Loss: 0.5746756208709617\n",
      "Validation Loss: 1.1521363156182425\n",
      "Training Accuracy of the network: 78 %\n",
      "Validation Accuracy of the network: 50 %\n",
      "EarlyStopping counter: 13 out of 50\n"
     ]
    },
    {
     "name": "stderr",
     "output_type": "stream",
     "text": [
      "  9%|██████████████▌                                                                                                                                                    | 89/1000 [03:44<38:30,  2.54s/it]"
     ]
    },
    {
     "name": "stdout",
     "output_type": "stream",
     "text": [
      "Training Loss: 0.5582123985649019\n",
      "Validation Loss: 1.1253541844231743\n",
      "Training Accuracy of the network: 78 %\n",
      "Validation Accuracy of the network: 50 %\n",
      "Validation loss decreased (1.127178 --> 1.125354).  Saving model ...\n"
     ]
    },
    {
     "name": "stderr",
     "output_type": "stream",
     "text": [
      "  9%|██████████████▋                                                                                                                                                    | 90/1000 [03:46<38:26,  2.53s/it]"
     ]
    },
    {
     "name": "stdout",
     "output_type": "stream",
     "text": [
      "Training Loss: 0.5638008688347064\n",
      "Validation Loss: 1.1295917119298662\n",
      "Training Accuracy of the network: 79 %\n",
      "Validation Accuracy of the network: 50 %\n",
      "EarlyStopping counter: 1 out of 50\n"
     ]
    },
    {
     "name": "stderr",
     "output_type": "stream",
     "text": [
      "  9%|██████████████▊                                                                                                                                                    | 91/1000 [03:49<39:07,  2.58s/it]"
     ]
    },
    {
     "name": "stdout",
     "output_type": "stream",
     "text": [
      "Training Loss: 0.5488382191279148\n",
      "Validation Loss: 1.134548602785383\n",
      "Training Accuracy of the network: 79 %\n",
      "Validation Accuracy of the network: 50 %\n",
      "EarlyStopping counter: 2 out of 50\n"
     ]
    },
    {
     "name": "stderr",
     "output_type": "stream",
     "text": [
      "  9%|██████████████▉                                                                                                                                                    | 92/1000 [03:52<38:58,  2.58s/it]"
     ]
    },
    {
     "name": "stdout",
     "output_type": "stream",
     "text": [
      "Training Loss: 0.5394118160458173\n",
      "Validation Loss: 1.1250295673097883\n",
      "Training Accuracy of the network: 80 %\n",
      "Validation Accuracy of the network: 49 %\n",
      "Validation loss decreased (1.125354 --> 1.125030).  Saving model ...\n"
     ]
    },
    {
     "name": "stderr",
     "output_type": "stream",
     "text": [
      "  9%|███████████████▏                                                                                                                                                   | 93/1000 [03:55<39:52,  2.64s/it]"
     ]
    },
    {
     "name": "stdout",
     "output_type": "stream",
     "text": [
      "Training Loss: 0.5507941478357204\n",
      "Validation Loss: 1.1359256063188825\n",
      "Training Accuracy of the network: 79 %\n",
      "Validation Accuracy of the network: 50 %\n",
      "EarlyStopping counter: 1 out of 50\n"
     ]
    },
    {
     "name": "stderr",
     "output_type": "stream",
     "text": [
      "  9%|███████████████▎                                                                                                                                                   | 94/1000 [03:57<39:35,  2.62s/it]"
     ]
    },
    {
     "name": "stdout",
     "output_type": "stream",
     "text": [
      "Training Loss: 0.5227087058828793\n",
      "Validation Loss: 1.126511776447296\n",
      "Training Accuracy of the network: 80 %\n",
      "Validation Accuracy of the network: 50 %\n",
      "EarlyStopping counter: 2 out of 50\n"
     ]
    },
    {
     "name": "stderr",
     "output_type": "stream",
     "text": [
      " 10%|███████████████▍                                                                                                                                                   | 95/1000 [03:59<38:22,  2.54s/it]"
     ]
    },
    {
     "name": "stdout",
     "output_type": "stream",
     "text": [
      "Training Loss: 0.5570504168838101\n",
      "Validation Loss: 1.1179889593805585\n",
      "Training Accuracy of the network: 78 %\n",
      "Validation Accuracy of the network: 52 %\n",
      "Validation loss decreased (1.125030 --> 1.117989).  Saving model ...\n"
     ]
    },
    {
     "name": "stderr",
     "output_type": "stream",
     "text": [
      " 10%|███████████████▋                                                                                                                                                   | 96/1000 [04:02<37:43,  2.50s/it]"
     ]
    },
    {
     "name": "stdout",
     "output_type": "stream",
     "text": [
      "Training Loss: 0.5307463227190833\n",
      "Validation Loss: 1.1221330949238368\n",
      "Training Accuracy of the network: 79 %\n",
      "Validation Accuracy of the network: 52 %\n",
      "EarlyStopping counter: 1 out of 50\n"
     ]
    },
    {
     "name": "stderr",
     "output_type": "stream",
     "text": [
      " 10%|███████████████▊                                                                                                                                                   | 97/1000 [04:05<38:22,  2.55s/it]"
     ]
    },
    {
     "name": "stdout",
     "output_type": "stream",
     "text": [
      "Training Loss: 0.5247495287313949\n",
      "Validation Loss: 1.120362973213196\n",
      "Training Accuracy of the network: 80 %\n",
      "Validation Accuracy of the network: 51 %\n",
      "EarlyStopping counter: 2 out of 50\n"
     ]
    },
    {
     "name": "stderr",
     "output_type": "stream",
     "text": [
      " 10%|███████████████▉                                                                                                                                                   | 98/1000 [04:07<38:13,  2.54s/it]"
     ]
    },
    {
     "name": "stdout",
     "output_type": "stream",
     "text": [
      "Training Loss: 0.5292928730664046\n",
      "Validation Loss: 1.1189482365335737\n",
      "Training Accuracy of the network: 79 %\n",
      "Validation Accuracy of the network: 52 %\n",
      "EarlyStopping counter: 3 out of 50\n"
     ]
    },
    {
     "name": "stderr",
     "output_type": "stream",
     "text": [
      " 10%|████████████████▏                                                                                                                                                  | 99/1000 [04:10<38:01,  2.53s/it]"
     ]
    },
    {
     "name": "stdout",
     "output_type": "stream",
     "text": [
      "Training Loss: 0.5034619257987841\n",
      "Validation Loss: 1.1333674328667778\n",
      "Training Accuracy of the network: 80 %\n",
      "Validation Accuracy of the network: 50 %\n",
      "EarlyStopping counter: 4 out of 50\n"
     ]
    },
    {
     "name": "stderr",
     "output_type": "stream",
     "text": [
      " 10%|████████████████▏                                                                                                                                                 | 100/1000 [04:12<38:11,  2.55s/it]"
     ]
    },
    {
     "name": "stdout",
     "output_type": "stream",
     "text": [
      "Training Loss: 0.5101844256716794\n",
      "Validation Loss: 1.1192165953772408\n",
      "Training Accuracy of the network: 80 %\n",
      "Validation Accuracy of the network: 51 %\n",
      "EarlyStopping counter: 5 out of 50\n"
     ]
    },
    {
     "name": "stderr",
     "output_type": "stream",
     "text": [
      " 10%|████████████████▎                                                                                                                                                 | 101/1000 [04:15<38:11,  2.55s/it]"
     ]
    },
    {
     "name": "stdout",
     "output_type": "stream",
     "text": [
      "Training Loss: 0.4956132557405078\n",
      "Validation Loss: 1.1188282438686916\n",
      "Training Accuracy of the network: 81 %\n",
      "Validation Accuracy of the network: 52 %\n",
      "EarlyStopping counter: 6 out of 50\n"
     ]
    },
    {
     "name": "stderr",
     "output_type": "stream",
     "text": [
      " 10%|████████████████▌                                                                                                                                                 | 102/1000 [04:17<38:14,  2.56s/it]"
     ]
    },
    {
     "name": "stdout",
     "output_type": "stream",
     "text": [
      "Training Loss: 0.5100779678888511\n",
      "Validation Loss: 1.1067133034978593\n",
      "Training Accuracy of the network: 80 %\n",
      "Validation Accuracy of the network: 53 %\n",
      "Validation loss decreased (1.117989 --> 1.106713).  Saving model ...\n"
     ]
    },
    {
     "name": "stderr",
     "output_type": "stream",
     "text": [
      " 10%|████████████████▋                                                                                                                                                 | 103/1000 [04:20<37:51,  2.53s/it]"
     ]
    },
    {
     "name": "stdout",
     "output_type": "stream",
     "text": [
      "Training Loss: 0.4972131460149219\n",
      "Validation Loss: 1.1251573290143695\n",
      "Training Accuracy of the network: 81 %\n",
      "Validation Accuracy of the network: 51 %\n",
      "EarlyStopping counter: 1 out of 50\n"
     ]
    },
    {
     "name": "stderr",
     "output_type": "stream",
     "text": [
      " 10%|████████████████▊                                                                                                                                                 | 104/1000 [04:22<37:48,  2.53s/it]"
     ]
    },
    {
     "name": "stdout",
     "output_type": "stream",
     "text": [
      "Training Loss: 0.4890335619152672\n",
      "Validation Loss: 1.129640051296779\n",
      "Training Accuracy of the network: 81 %\n",
      "Validation Accuracy of the network: 51 %\n",
      "EarlyStopping counter: 2 out of 50\n"
     ]
    },
    {
     "name": "stderr",
     "output_type": "stream",
     "text": [
      " 10%|█████████████████                                                                                                                                                 | 105/1000 [04:25<37:54,  2.54s/it]"
     ]
    },
    {
     "name": "stdout",
     "output_type": "stream",
     "text": [
      "Training Loss: 0.5101396969749011\n",
      "Validation Loss: 1.130883651971817\n",
      "Training Accuracy of the network: 81 %\n",
      "Validation Accuracy of the network: 50 %\n",
      "EarlyStopping counter: 3 out of 50\n"
     ]
    },
    {
     "name": "stderr",
     "output_type": "stream",
     "text": [
      " 11%|█████████████████▏                                                                                                                                                | 106/1000 [04:27<38:05,  2.56s/it]"
     ]
    },
    {
     "name": "stdout",
     "output_type": "stream",
     "text": [
      "Training Loss: 0.4984457858338736\n",
      "Validation Loss: 1.1187149337359836\n",
      "Training Accuracy of the network: 81 %\n",
      "Validation Accuracy of the network: 52 %\n",
      "EarlyStopping counter: 4 out of 50\n"
     ]
    },
    {
     "name": "stderr",
     "output_type": "stream",
     "text": [
      " 11%|█████████████████▎                                                                                                                                                | 107/1000 [04:30<38:24,  2.58s/it]"
     ]
    },
    {
     "name": "stdout",
     "output_type": "stream",
     "text": [
      "Training Loss: 0.4977638554840308\n",
      "Validation Loss: 1.1316809219973427\n",
      "Training Accuracy of the network: 80 %\n",
      "Validation Accuracy of the network: 50 %\n",
      "EarlyStopping counter: 5 out of 50\n"
     ]
    },
    {
     "name": "stderr",
     "output_type": "stream",
     "text": [
      " 11%|█████████████████▍                                                                                                                                                | 108/1000 [04:33<38:20,  2.58s/it]"
     ]
    },
    {
     "name": "stdout",
     "output_type": "stream",
     "text": [
      "Training Loss: 0.5053200373237116\n",
      "Validation Loss: 1.1329379728862217\n",
      "Training Accuracy of the network: 81 %\n",
      "Validation Accuracy of the network: 51 %\n",
      "EarlyStopping counter: 6 out of 50\n"
     ]
    },
    {
     "name": "stderr",
     "output_type": "stream",
     "text": [
      " 11%|█████████████████▋                                                                                                                                                | 109/1000 [04:35<37:56,  2.56s/it]"
     ]
    },
    {
     "name": "stdout",
     "output_type": "stream",
     "text": [
      "Training Loss: 0.4929814750895552\n",
      "Validation Loss: 1.1330614158085415\n",
      "Training Accuracy of the network: 81 %\n",
      "Validation Accuracy of the network: 50 %\n",
      "EarlyStopping counter: 7 out of 50\n"
     ]
    },
    {
     "name": "stderr",
     "output_type": "stream",
     "text": [
      " 11%|█████████████████▊                                                                                                                                                | 110/1000 [04:38<37:27,  2.53s/it]"
     ]
    },
    {
     "name": "stdout",
     "output_type": "stream",
     "text": [
      "Training Loss: 0.4822126922832019\n",
      "Validation Loss: 1.131031472342355\n",
      "Training Accuracy of the network: 82 %\n",
      "Validation Accuracy of the network: 51 %\n",
      "EarlyStopping counter: 8 out of 50\n"
     ]
    },
    {
     "name": "stderr",
     "output_type": "stream",
     "text": [
      " 11%|█████████████████▉                                                                                                                                                | 111/1000 [04:40<36:41,  2.48s/it]"
     ]
    },
    {
     "name": "stdout",
     "output_type": "stream",
     "text": [
      "Training Loss: 0.47332754335028754\n",
      "Validation Loss: 1.1312891789845059\n",
      "Training Accuracy of the network: 83 %\n",
      "Validation Accuracy of the network: 50 %\n",
      "EarlyStopping counter: 9 out of 50\n"
     ]
    },
    {
     "name": "stderr",
     "output_type": "stream",
     "text": [
      " 11%|██████████████████▏                                                                                                                                               | 112/1000 [04:42<36:10,  2.44s/it]"
     ]
    },
    {
     "name": "stdout",
     "output_type": "stream",
     "text": [
      "Training Loss: 0.472770718668682\n",
      "Validation Loss: 1.1472692004271916\n",
      "Training Accuracy of the network: 81 %\n",
      "Validation Accuracy of the network: 53 %\n",
      "EarlyStopping counter: 10 out of 50\n"
     ]
    },
    {
     "name": "stderr",
     "output_type": "stream",
     "text": [
      " 11%|██████████████████▎                                                                                                                                               | 113/1000 [04:45<36:43,  2.48s/it]"
     ]
    },
    {
     "name": "stdout",
     "output_type": "stream",
     "text": [
      "Training Loss: 0.472659089697012\n",
      "Validation Loss: 1.1139734634331295\n",
      "Training Accuracy of the network: 81 %\n",
      "Validation Accuracy of the network: 53 %\n",
      "EarlyStopping counter: 11 out of 50\n"
     ]
    },
    {
     "name": "stderr",
     "output_type": "stream",
     "text": [
      " 11%|██████████████████▍                                                                                                                                               | 114/1000 [04:47<36:54,  2.50s/it]"
     ]
    },
    {
     "name": "stdout",
     "output_type": "stream",
     "text": [
      "Training Loss: 0.4733925432327838\n",
      "Validation Loss: 1.129068285226822\n",
      "Training Accuracy of the network: 82 %\n",
      "Validation Accuracy of the network: 52 %\n",
      "EarlyStopping counter: 12 out of 50\n"
     ]
    },
    {
     "name": "stderr",
     "output_type": "stream",
     "text": [
      " 12%|██████████████████▋                                                                                                                                               | 115/1000 [04:50<36:56,  2.50s/it]"
     ]
    },
    {
     "name": "stdout",
     "output_type": "stream",
     "text": [
      "Training Loss: 0.4728507871260408\n",
      "Validation Loss: 1.138232980455671\n",
      "Training Accuracy of the network: 82 %\n",
      "Validation Accuracy of the network: 51 %\n",
      "EarlyStopping counter: 13 out of 50\n"
     ]
    },
    {
     "name": "stderr",
     "output_type": "stream",
     "text": [
      " 12%|██████████████████▊                                                                                                                                               | 116/1000 [04:53<37:12,  2.53s/it]"
     ]
    },
    {
     "name": "stdout",
     "output_type": "stream",
     "text": [
      "Training Loss: 0.4797898245354493\n",
      "Validation Loss: 1.1266110377652305\n",
      "Training Accuracy of the network: 81 %\n",
      "Validation Accuracy of the network: 51 %\n",
      "EarlyStopping counter: 14 out of 50\n"
     ]
    },
    {
     "name": "stderr",
     "output_type": "stream",
     "text": [
      " 12%|██████████████████▉                                                                                                                                               | 117/1000 [04:55<37:29,  2.55s/it]"
     ]
    },
    {
     "name": "stdout",
     "output_type": "stream",
     "text": [
      "Training Loss: 0.46628411318027024\n",
      "Validation Loss: 1.1620013322149003\n",
      "Training Accuracy of the network: 81 %\n",
      "Validation Accuracy of the network: 51 %\n",
      "EarlyStopping counter: 15 out of 50\n"
     ]
    },
    {
     "name": "stderr",
     "output_type": "stream",
     "text": [
      " 12%|███████████████████                                                                                                                                               | 118/1000 [04:58<37:47,  2.57s/it]"
     ]
    },
    {
     "name": "stdout",
     "output_type": "stream",
     "text": [
      "Training Loss: 0.4607504420319869\n",
      "Validation Loss: 1.133974211556571\n",
      "Training Accuracy of the network: 82 %\n",
      "Validation Accuracy of the network: 51 %\n",
      "EarlyStopping counter: 16 out of 50\n"
     ]
    },
    {
     "name": "stderr",
     "output_type": "stream",
     "text": [
      " 12%|███████████████████▎                                                                                                                                              | 119/1000 [05:00<37:46,  2.57s/it]"
     ]
    },
    {
     "name": "stdout",
     "output_type": "stream",
     "text": [
      "Training Loss: 0.47493454581464006\n",
      "Validation Loss: 1.1361715529646192\n",
      "Training Accuracy of the network: 81 %\n",
      "Validation Accuracy of the network: 53 %\n",
      "EarlyStopping counter: 17 out of 50\n"
     ]
    },
    {
     "name": "stderr",
     "output_type": "stream",
     "text": [
      " 12%|███████████████████▍                                                                                                                                              | 120/1000 [05:03<37:59,  2.59s/it]"
     ]
    },
    {
     "name": "stdout",
     "output_type": "stream",
     "text": [
      "Training Loss: 0.4530626659861941\n",
      "Validation Loss: 1.1204811692237855\n",
      "Training Accuracy of the network: 82 %\n",
      "Validation Accuracy of the network: 52 %\n",
      "EarlyStopping counter: 18 out of 50\n"
     ]
    },
    {
     "name": "stderr",
     "output_type": "stream",
     "text": [
      " 12%|███████████████████▌                                                                                                                                              | 121/1000 [05:06<38:14,  2.61s/it]"
     ]
    },
    {
     "name": "stdout",
     "output_type": "stream",
     "text": [
      "Training Loss: 0.4488259205675643\n",
      "Validation Loss: 1.1340996325016022\n",
      "Training Accuracy of the network: 83 %\n",
      "Validation Accuracy of the network: 52 %\n",
      "EarlyStopping counter: 19 out of 50\n"
     ]
    },
    {
     "name": "stderr",
     "output_type": "stream",
     "text": [
      " 12%|███████████████████▊                                                                                                                                              | 122/1000 [05:08<38:34,  2.64s/it]"
     ]
    },
    {
     "name": "stdout",
     "output_type": "stream",
     "text": [
      "Training Loss: 0.46205603801037953\n",
      "Validation Loss: 1.1181843076433455\n",
      "Training Accuracy of the network: 82 %\n",
      "Validation Accuracy of the network: 52 %\n",
      "EarlyStopping counter: 20 out of 50\n"
     ]
    },
    {
     "name": "stderr",
     "output_type": "stream",
     "text": [
      " 12%|███████████████████▉                                                                                                                                              | 123/1000 [05:11<38:21,  2.62s/it]"
     ]
    },
    {
     "name": "stdout",
     "output_type": "stream",
     "text": [
      "Training Loss: 0.46086752625263255\n",
      "Validation Loss: 1.1267147958278656\n",
      "Training Accuracy of the network: 82 %\n",
      "Validation Accuracy of the network: 51 %\n",
      "EarlyStopping counter: 21 out of 50\n"
     ]
    },
    {
     "name": "stderr",
     "output_type": "stream",
     "text": [
      " 12%|████████████████████                                                                                                                                              | 124/1000 [05:13<38:00,  2.60s/it]"
     ]
    },
    {
     "name": "stdout",
     "output_type": "stream",
     "text": [
      "Training Loss: 0.4400216614206632\n",
      "Validation Loss: 1.1297381605420793\n",
      "Training Accuracy of the network: 83 %\n",
      "Validation Accuracy of the network: 53 %\n",
      "EarlyStopping counter: 22 out of 50\n"
     ]
    },
    {
     "name": "stderr",
     "output_type": "stream",
     "text": [
      " 12%|████████████████████▎                                                                                                                                             | 125/1000 [05:16<38:03,  2.61s/it]"
     ]
    },
    {
     "name": "stdout",
     "output_type": "stream",
     "text": [
      "Training Loss: 0.453079494688174\n",
      "Validation Loss: 1.1333749966961997\n",
      "Training Accuracy of the network: 82 %\n",
      "Validation Accuracy of the network: 52 %\n",
      "EarlyStopping counter: 23 out of 50\n"
     ]
    },
    {
     "name": "stderr",
     "output_type": "stream",
     "text": [
      " 13%|████████████████████▍                                                                                                                                             | 126/1000 [05:18<37:08,  2.55s/it]"
     ]
    },
    {
     "name": "stdout",
     "output_type": "stream",
     "text": [
      "Training Loss: 0.45646498741015146\n",
      "Validation Loss: 1.1360536694526673\n",
      "Training Accuracy of the network: 81 %\n",
      "Validation Accuracy of the network: 51 %\n",
      "EarlyStopping counter: 24 out of 50\n"
     ]
    },
    {
     "name": "stderr",
     "output_type": "stream",
     "text": [
      " 13%|████████████████████▌                                                                                                                                             | 127/1000 [05:21<36:44,  2.53s/it]"
     ]
    },
    {
     "name": "stdout",
     "output_type": "stream",
     "text": [
      "Training Loss: 0.4362506528749414\n",
      "Validation Loss: 1.1162849647658213\n",
      "Training Accuracy of the network: 84 %\n",
      "Validation Accuracy of the network: 53 %\n",
      "EarlyStopping counter: 25 out of 50\n"
     ]
    },
    {
     "name": "stderr",
     "output_type": "stream",
     "text": [
      " 13%|████████████████████▋                                                                                                                                             | 128/1000 [05:23<36:07,  2.49s/it]"
     ]
    },
    {
     "name": "stdout",
     "output_type": "stream",
     "text": [
      "Training Loss: 0.4478092348014099\n",
      "Validation Loss: 1.1246195367404392\n",
      "Training Accuracy of the network: 83 %\n",
      "Validation Accuracy of the network: 52 %\n",
      "EarlyStopping counter: 26 out of 50\n"
     ]
    },
    {
     "name": "stderr",
     "output_type": "stream",
     "text": [
      " 13%|████████████████████▉                                                                                                                                             | 129/1000 [05:26<36:44,  2.53s/it]"
     ]
    },
    {
     "name": "stdout",
     "output_type": "stream",
     "text": [
      "Training Loss: 0.43223430691421894\n",
      "Validation Loss: 1.1366496792861394\n",
      "Training Accuracy of the network: 82 %\n",
      "Validation Accuracy of the network: 53 %\n",
      "EarlyStopping counter: 27 out of 50\n"
     ]
    },
    {
     "name": "stderr",
     "output_type": "stream",
     "text": [
      " 13%|█████████████████████                                                                                                                                             | 130/1000 [05:29<36:44,  2.53s/it]"
     ]
    },
    {
     "name": "stdout",
     "output_type": "stream",
     "text": [
      "Training Loss: 0.40992208308391814\n",
      "Validation Loss: 1.1270615126405443\n",
      "Training Accuracy of the network: 84 %\n",
      "Validation Accuracy of the network: 52 %\n",
      "EarlyStopping counter: 28 out of 50\n"
     ]
    },
    {
     "name": "stderr",
     "output_type": "stream",
     "text": [
      " 13%|█████████████████████▏                                                                                                                                            | 131/1000 [05:31<36:32,  2.52s/it]"
     ]
    },
    {
     "name": "stdout",
     "output_type": "stream",
     "text": [
      "Training Loss: 0.4323003776911376\n",
      "Validation Loss: 1.150707334280014\n",
      "Training Accuracy of the network: 84 %\n",
      "Validation Accuracy of the network: 52 %\n",
      "EarlyStopping counter: 29 out of 50\n"
     ]
    },
    {
     "name": "stderr",
     "output_type": "stream",
     "text": [
      " 13%|█████████████████████▍                                                                                                                                            | 132/1000 [05:34<36:17,  2.51s/it]"
     ]
    },
    {
     "name": "stdout",
     "output_type": "stream",
     "text": [
      "Training Loss: 0.4190114771599706\n",
      "Validation Loss: 1.131054995741163\n",
      "Training Accuracy of the network: 84 %\n",
      "Validation Accuracy of the network: 53 %\n",
      "EarlyStopping counter: 30 out of 50\n"
     ]
    },
    {
     "name": "stderr",
     "output_type": "stream",
     "text": [
      " 13%|█████████████████████▌                                                                                                                                            | 133/1000 [05:36<36:11,  2.50s/it]"
     ]
    },
    {
     "name": "stdout",
     "output_type": "stream",
     "text": [
      "Training Loss: 0.4108731593427154\n",
      "Validation Loss: 1.1436101061957222\n",
      "Training Accuracy of the network: 85 %\n",
      "Validation Accuracy of the network: 53 %\n",
      "EarlyStopping counter: 31 out of 50\n"
     ]
    },
    {
     "name": "stderr",
     "output_type": "stream",
     "text": [
      " 13%|█████████████████████▋                                                                                                                                            | 134/1000 [05:39<36:54,  2.56s/it]"
     ]
    },
    {
     "name": "stdout",
     "output_type": "stream",
     "text": [
      "Training Loss: 0.42067873426645563\n",
      "Validation Loss: 1.1402058822768075\n",
      "Training Accuracy of the network: 83 %\n",
      "Validation Accuracy of the network: 52 %\n",
      "EarlyStopping counter: 32 out of 50\n"
     ]
    },
    {
     "name": "stderr",
     "output_type": "stream",
     "text": [
      " 14%|█████████████████████▊                                                                                                                                            | 135/1000 [05:41<37:41,  2.61s/it]"
     ]
    },
    {
     "name": "stdout",
     "output_type": "stream",
     "text": [
      "Training Loss: 0.40902171423996164\n",
      "Validation Loss: 1.1199664345809393\n",
      "Training Accuracy of the network: 84 %\n",
      "Validation Accuracy of the network: 51 %\n",
      "EarlyStopping counter: 33 out of 50\n"
     ]
    },
    {
     "name": "stderr",
     "output_type": "stream",
     "text": [
      " 14%|██████████████████████                                                                                                                                            | 136/1000 [05:44<37:37,  2.61s/it]"
     ]
    },
    {
     "name": "stdout",
     "output_type": "stream",
     "text": [
      "Training Loss: 0.43420639936474786\n",
      "Validation Loss: 1.1619905412197113\n",
      "Training Accuracy of the network: 83 %\n",
      "Validation Accuracy of the network: 52 %\n",
      "EarlyStopping counter: 34 out of 50\n"
     ]
    },
    {
     "name": "stderr",
     "output_type": "stream",
     "text": [
      " 14%|██████████████████████▏                                                                                                                                           | 137/1000 [05:46<36:42,  2.55s/it]"
     ]
    },
    {
     "name": "stdout",
     "output_type": "stream",
     "text": [
      "Training Loss: 0.40703477649240877\n",
      "Validation Loss: 1.1523234120437078\n",
      "Training Accuracy of the network: 84 %\n",
      "Validation Accuracy of the network: 54 %\n",
      "EarlyStopping counter: 35 out of 50\n"
     ]
    },
    {
     "name": "stderr",
     "output_type": "stream",
     "text": [
      " 14%|██████████████████████▎                                                                                                                                           | 138/1000 [05:49<36:40,  2.55s/it]"
     ]
    },
    {
     "name": "stdout",
     "output_type": "stream",
     "text": [
      "Training Loss: 0.402695139789063\n",
      "Validation Loss: 1.1224296859332494\n",
      "Training Accuracy of the network: 85 %\n",
      "Validation Accuracy of the network: 51 %\n",
      "EarlyStopping counter: 36 out of 50\n"
     ]
    },
    {
     "name": "stderr",
     "output_type": "stream",
     "text": [
      " 14%|██████████████████████▌                                                                                                                                           | 139/1000 [05:51<36:18,  2.53s/it]"
     ]
    },
    {
     "name": "stdout",
     "output_type": "stream",
     "text": [
      "Training Loss: 0.41863736931396567\n",
      "Validation Loss: 1.1419604914528982\n",
      "Training Accuracy of the network: 84 %\n",
      "Validation Accuracy of the network: 52 %\n",
      "EarlyStopping counter: 37 out of 50\n"
     ]
    },
    {
     "name": "stderr",
     "output_type": "stream",
     "text": [
      " 14%|██████████████████████▋                                                                                                                                           | 140/1000 [05:54<36:26,  2.54s/it]"
     ]
    },
    {
     "name": "stdout",
     "output_type": "stream",
     "text": [
      "Training Loss: 0.39717558375897183\n",
      "Validation Loss: 1.1323055616446904\n",
      "Training Accuracy of the network: 84 %\n",
      "Validation Accuracy of the network: 53 %\n",
      "EarlyStopping counter: 38 out of 50\n"
     ]
    },
    {
     "name": "stderr",
     "output_type": "stream",
     "text": [
      " 14%|██████████████████████▊                                                                                                                                           | 141/1000 [05:57<36:10,  2.53s/it]"
     ]
    },
    {
     "name": "stdout",
     "output_type": "stream",
     "text": [
      "Training Loss: 0.4160533795754115\n",
      "Validation Loss: 1.1716786103589194\n",
      "Training Accuracy of the network: 84 %\n",
      "Validation Accuracy of the network: 51 %\n",
      "EarlyStopping counter: 39 out of 50\n"
     ]
    },
    {
     "name": "stderr",
     "output_type": "stream",
     "text": [
      " 14%|███████████████████████                                                                                                                                           | 142/1000 [05:59<34:49,  2.43s/it]"
     ]
    },
    {
     "name": "stdout",
     "output_type": "stream",
     "text": [
      "Training Loss: 0.41971562252096506\n",
      "Validation Loss: 1.1398228006703512\n",
      "Training Accuracy of the network: 84 %\n",
      "Validation Accuracy of the network: 52 %\n",
      "EarlyStopping counter: 40 out of 50\n"
     ]
    },
    {
     "name": "stderr",
     "output_type": "stream",
     "text": [
      " 14%|███████████████████████▏                                                                                                                                          | 143/1000 [06:01<35:45,  2.50s/it]"
     ]
    },
    {
     "name": "stdout",
     "output_type": "stream",
     "text": [
      "Training Loss: 0.4044341272741988\n",
      "Validation Loss: 1.1331884154251644\n",
      "Training Accuracy of the network: 85 %\n",
      "Validation Accuracy of the network: 53 %\n",
      "EarlyStopping counter: 41 out of 50\n"
     ]
    },
    {
     "name": "stderr",
     "output_type": "stream",
     "text": [
      " 14%|███████████████████████▎                                                                                                                                          | 144/1000 [06:04<35:06,  2.46s/it]"
     ]
    },
    {
     "name": "stdout",
     "output_type": "stream",
     "text": [
      "Training Loss: 0.4043085815425476\n",
      "Validation Loss: 1.17932020510946\n",
      "Training Accuracy of the network: 84 %\n",
      "Validation Accuracy of the network: 52 %\n",
      "EarlyStopping counter: 42 out of 50\n"
     ]
    },
    {
     "name": "stderr",
     "output_type": "stream",
     "text": [
      " 14%|███████████████████████▍                                                                                                                                          | 145/1000 [06:06<35:22,  2.48s/it]"
     ]
    },
    {
     "name": "stdout",
     "output_type": "stream",
     "text": [
      "Training Loss: 0.40837074098163756\n",
      "Validation Loss: 1.142854573896953\n",
      "Training Accuracy of the network: 84 %\n",
      "Validation Accuracy of the network: 53 %\n",
      "EarlyStopping counter: 43 out of 50\n"
     ]
    },
    {
     "name": "stderr",
     "output_type": "stream",
     "text": [
      " 15%|███████████████████████▋                                                                                                                                          | 146/1000 [06:09<35:45,  2.51s/it]"
     ]
    },
    {
     "name": "stdout",
     "output_type": "stream",
     "text": [
      "Training Loss: 0.41624330650707975\n",
      "Validation Loss: 1.1586036239351545\n",
      "Training Accuracy of the network: 84 %\n",
      "Validation Accuracy of the network: 52 %\n",
      "EarlyStopping counter: 44 out of 50\n"
     ]
    },
    {
     "name": "stderr",
     "output_type": "stream",
     "text": [
      " 15%|███████████████████████▊                                                                                                                                          | 147/1000 [06:11<36:00,  2.53s/it]"
     ]
    },
    {
     "name": "stdout",
     "output_type": "stream",
     "text": [
      "Training Loss: 0.4013500302436127\n",
      "Validation Loss: 1.1488645102296557\n",
      "Training Accuracy of the network: 84 %\n",
      "Validation Accuracy of the network: 52 %\n",
      "EarlyStopping counter: 45 out of 50\n"
     ]
    },
    {
     "name": "stderr",
     "output_type": "stream",
     "text": [
      " 15%|███████████████████████▉                                                                                                                                          | 148/1000 [06:14<35:49,  2.52s/it]"
     ]
    },
    {
     "name": "stdout",
     "output_type": "stream",
     "text": [
      "Training Loss: 0.41846329281511513\n",
      "Validation Loss: 1.141201149565833\n",
      "Training Accuracy of the network: 84 %\n",
      "Validation Accuracy of the network: 52 %\n",
      "EarlyStopping counter: 46 out of 50\n"
     ]
    },
    {
     "name": "stderr",
     "output_type": "stream",
     "text": [
      " 15%|████████████████████████▏                                                                                                                                         | 149/1000 [06:16<35:27,  2.50s/it]"
     ]
    },
    {
     "name": "stdout",
     "output_type": "stream",
     "text": [
      "Training Loss: 0.4157250982766593\n",
      "Validation Loss: 1.133867668254035\n",
      "Training Accuracy of the network: 84 %\n",
      "Validation Accuracy of the network: 53 %\n",
      "EarlyStopping counter: 47 out of 50\n"
     ]
    },
    {
     "name": "stderr",
     "output_type": "stream",
     "text": [
      " 15%|████████████████████████▎                                                                                                                                         | 150/1000 [06:19<35:29,  2.51s/it]"
     ]
    },
    {
     "name": "stdout",
     "output_type": "stream",
     "text": [
      "Training Loss: 0.39959150262892357\n",
      "Validation Loss: 1.1626477556569235\n",
      "Training Accuracy of the network: 84 %\n",
      "Validation Accuracy of the network: 51 %\n",
      "EarlyStopping counter: 48 out of 50\n"
     ]
    },
    {
     "name": "stderr",
     "output_type": "stream",
     "text": [
      " 15%|████████████████████████▍                                                                                                                                         | 151/1000 [06:22<35:45,  2.53s/it]"
     ]
    },
    {
     "name": "stdout",
     "output_type": "stream",
     "text": [
      "Training Loss: 0.3828465036838653\n",
      "Validation Loss: 1.1728286377021244\n",
      "Training Accuracy of the network: 85 %\n",
      "Validation Accuracy of the network: 51 %\n",
      "EarlyStopping counter: 49 out of 50\n"
     ]
    },
    {
     "name": "stderr",
     "output_type": "stream",
     "text": [
      " 15%|████████████████████████▍                                                                                                                                         | 151/1000 [06:24<36:02,  2.55s/it]"
     ]
    },
    {
     "name": "stdout",
     "output_type": "stream",
     "text": [
      "Training Loss: 0.39278055994730926\n",
      "Validation Loss: 1.1690494418144226\n",
      "Training Accuracy of the network: 85 %\n",
      "Validation Accuracy of the network: 52 %\n",
      "EarlyStopping counter: 50 out of 50\n",
      "Early Stopping\n",
      "Testing Loss: 1.1463249921798706\n",
      "Testing Accuracy of the network: 46 %\n"
     ]
    },
    {
     "name": "stderr",
     "output_type": "stream",
     "text": [
      "\n",
      "  0%|▏                                                                                                                                                                   | 1/1000 [00:02<41:06,  2.47s/it]"
     ]
    },
    {
     "name": "stdout",
     "output_type": "stream",
     "text": [
      "Training Loss: 1.5344966727754343\n",
      "Validation Loss: 1.4223890917641775\n",
      "Training Accuracy of the network: 26 %\n",
      "Validation Accuracy of the network: 24 %\n",
      "Validation loss decreased (inf --> 1.422389).  Saving model ...\n"
     ]
    },
    {
     "name": "stderr",
     "output_type": "stream",
     "text": [
      "  0%|▎                                                                                                                                                                   | 2/1000 [00:05<42:11,  2.54s/it]"
     ]
    },
    {
     "name": "stdout",
     "output_type": "stream",
     "text": [
      "Training Loss: 1.5112111784409785\n",
      "Validation Loss: 1.40116879599435\n",
      "Training Accuracy of the network: 27 %\n",
      "Validation Accuracy of the network: 26 %\n",
      "Validation loss decreased (1.422389 --> 1.401169).  Saving model ...\n"
     ]
    },
    {
     "name": "stderr",
     "output_type": "stream",
     "text": [
      "  0%|▍                                                                                                                                                                   | 3/1000 [00:07<42:17,  2.55s/it]"
     ]
    },
    {
     "name": "stdout",
     "output_type": "stream",
     "text": [
      "Training Loss: 1.4649653849394426\n",
      "Validation Loss: 1.3811779839651925\n",
      "Training Accuracy of the network: 28 %\n",
      "Validation Accuracy of the network: 28 %\n",
      "Validation loss decreased (1.401169 --> 1.381178).  Saving model ...\n"
     ]
    },
    {
     "name": "stderr",
     "output_type": "stream",
     "text": [
      "  0%|▋                                                                                                                                                                   | 4/1000 [00:10<42:13,  2.54s/it]"
     ]
    },
    {
     "name": "stdout",
     "output_type": "stream",
     "text": [
      "Training Loss: 1.4355797741724097\n",
      "Validation Loss: 1.3663546289716448\n",
      "Training Accuracy of the network: 27 %\n",
      "Validation Accuracy of the network: 29 %\n",
      "Validation loss decreased (1.381178 --> 1.366355).  Saving model ...\n"
     ]
    },
    {
     "name": "stderr",
     "output_type": "stream",
     "text": [
      "  0%|▊                                                                                                                                                                   | 5/1000 [00:12<40:58,  2.47s/it]"
     ]
    },
    {
     "name": "stdout",
     "output_type": "stream",
     "text": [
      "Training Loss: 1.4020110792007998\n",
      "Validation Loss: 1.3521796601159233\n",
      "Training Accuracy of the network: 31 %\n",
      "Validation Accuracy of the network: 31 %\n",
      "Validation loss decreased (1.366355 --> 1.352180).  Saving model ...\n"
     ]
    },
    {
     "name": "stderr",
     "output_type": "stream",
     "text": [
      "  1%|▉                                                                                                                                                                   | 6/1000 [00:15<41:21,  2.50s/it]"
     ]
    },
    {
     "name": "stdout",
     "output_type": "stream",
     "text": [
      "Training Loss: 1.37954757956491\n",
      "Validation Loss: 1.341787930897304\n",
      "Training Accuracy of the network: 32 %\n",
      "Validation Accuracy of the network: 33 %\n",
      "Validation loss decreased (1.352180 --> 1.341788).  Saving model ...\n"
     ]
    },
    {
     "name": "stderr",
     "output_type": "stream",
     "text": [
      "  1%|█▏                                                                                                                                                                  | 7/1000 [00:17<40:11,  2.43s/it]"
     ]
    },
    {
     "name": "stdout",
     "output_type": "stream",
     "text": [
      "Training Loss: 1.3566051315570222\n",
      "Validation Loss: 1.3297723259244647\n",
      "Training Accuracy of the network: 34 %\n",
      "Validation Accuracy of the network: 35 %\n",
      "Validation loss decreased (1.341788 --> 1.329772).  Saving model ...\n"
     ]
    },
    {
     "name": "stderr",
     "output_type": "stream",
     "text": [
      "  1%|█▎                                                                                                                                                                  | 8/1000 [00:19<40:26,  2.45s/it]"
     ]
    },
    {
     "name": "stdout",
     "output_type": "stream",
     "text": [
      "Training Loss: 1.3314130340797314\n",
      "Validation Loss: 1.3180855819157191\n",
      "Training Accuracy of the network: 34 %\n",
      "Validation Accuracy of the network: 35 %\n",
      "Validation loss decreased (1.329772 --> 1.318086).  Saving model ...\n"
     ]
    },
    {
     "name": "stderr",
     "output_type": "stream",
     "text": [
      "  1%|█▍                                                                                                                                                                  | 9/1000 [00:22<40:57,  2.48s/it]"
     ]
    },
    {
     "name": "stdout",
     "output_type": "stream",
     "text": [
      "Training Loss: 1.3257354333780813\n",
      "Validation Loss: 1.3085562705993652\n",
      "Training Accuracy of the network: 37 %\n",
      "Validation Accuracy of the network: 36 %\n",
      "Validation loss decreased (1.318086 --> 1.308556).  Saving model ...\n"
     ]
    },
    {
     "name": "stderr",
     "output_type": "stream",
     "text": [
      "  1%|█▋                                                                                                                                                                 | 10/1000 [00:24<41:02,  2.49s/it]"
     ]
    },
    {
     "name": "stdout",
     "output_type": "stream",
     "text": [
      "Training Loss: 1.2883073320423348\n",
      "Validation Loss: 1.302950828416007\n",
      "Training Accuracy of the network: 39 %\n",
      "Validation Accuracy of the network: 37 %\n",
      "Validation loss decreased (1.308556 --> 1.302951).  Saving model ...\n"
     ]
    },
    {
     "name": "stderr",
     "output_type": "stream",
     "text": [
      "  1%|█▊                                                                                                                                                                 | 11/1000 [00:27<42:03,  2.55s/it]"
     ]
    },
    {
     "name": "stdout",
     "output_type": "stream",
     "text": [
      "Training Loss: 1.2738416721855386\n",
      "Validation Loss: 1.2951327289853778\n",
      "Training Accuracy of the network: 39 %\n",
      "Validation Accuracy of the network: 37 %\n",
      "Validation loss decreased (1.302951 --> 1.295133).  Saving model ...\n"
     ]
    },
    {
     "name": "stderr",
     "output_type": "stream",
     "text": [
      "  1%|█▉                                                                                                                                                                 | 12/1000 [00:30<42:02,  2.55s/it]"
     ]
    },
    {
     "name": "stdout",
     "output_type": "stream",
     "text": [
      "Training Loss: 1.249663809503334\n",
      "Validation Loss: 1.2871588264192855\n",
      "Training Accuracy of the network: 42 %\n",
      "Validation Accuracy of the network: 38 %\n",
      "Validation loss decreased (1.295133 --> 1.287159).  Saving model ...\n"
     ]
    },
    {
     "name": "stderr",
     "output_type": "stream",
     "text": [
      "  1%|██                                                                                                                                                                 | 13/1000 [00:32<41:59,  2.55s/it]"
     ]
    },
    {
     "name": "stdout",
     "output_type": "stream",
     "text": [
      "Training Loss: 1.2386378326277803\n",
      "Validation Loss: 1.2804576056344168\n",
      "Training Accuracy of the network: 44 %\n",
      "Validation Accuracy of the network: 38 %\n",
      "Validation loss decreased (1.287159 --> 1.280458).  Saving model ...\n"
     ]
    },
    {
     "name": "stderr",
     "output_type": "stream",
     "text": [
      "  1%|██▎                                                                                                                                                                | 14/1000 [00:35<41:57,  2.55s/it]"
     ]
    },
    {
     "name": "stdout",
     "output_type": "stream",
     "text": [
      "Training Loss: 1.230374852816264\n",
      "Validation Loss: 1.2750828198024204\n",
      "Training Accuracy of the network: 44 %\n",
      "Validation Accuracy of the network: 38 %\n",
      "Validation loss decreased (1.280458 --> 1.275083).  Saving model ...\n"
     ]
    },
    {
     "name": "stderr",
     "output_type": "stream",
     "text": [
      "  2%|██▍                                                                                                                                                                | 15/1000 [00:37<42:18,  2.58s/it]"
     ]
    },
    {
     "name": "stdout",
     "output_type": "stream",
     "text": [
      "Training Loss: 1.2078045394973478\n",
      "Validation Loss: 1.2705759286880494\n",
      "Training Accuracy of the network: 46 %\n",
      "Validation Accuracy of the network: 38 %\n",
      "Validation loss decreased (1.275083 --> 1.270576).  Saving model ...\n"
     ]
    },
    {
     "name": "stderr",
     "output_type": "stream",
     "text": [
      "  2%|██▌                                                                                                                                                                | 16/1000 [00:40<42:30,  2.59s/it]"
     ]
    },
    {
     "name": "stdout",
     "output_type": "stream",
     "text": [
      "Training Loss: 1.193870179463124\n",
      "Validation Loss: 1.2669921602521623\n",
      "Training Accuracy of the network: 46 %\n",
      "Validation Accuracy of the network: 37 %\n",
      "Validation loss decreased (1.270576 --> 1.266992).  Saving model ...\n"
     ]
    },
    {
     "name": "stderr",
     "output_type": "stream",
     "text": [
      "  2%|██▊                                                                                                                                                                | 17/1000 [00:42<41:43,  2.55s/it]"
     ]
    },
    {
     "name": "stdout",
     "output_type": "stream",
     "text": [
      "Training Loss: 1.1959030580693397\n",
      "Validation Loss: 1.2620898468153818\n",
      "Training Accuracy of the network: 45 %\n",
      "Validation Accuracy of the network: 38 %\n",
      "Validation loss decreased (1.266992 --> 1.262090).  Saving model ...\n"
     ]
    },
    {
     "name": "stderr",
     "output_type": "stream",
     "text": [
      "  2%|██▉                                                                                                                                                                | 18/1000 [00:45<41:57,  2.56s/it]"
     ]
    },
    {
     "name": "stdout",
     "output_type": "stream",
     "text": [
      "Training Loss: 1.1680671762729036\n",
      "Validation Loss: 1.2572758419173105\n",
      "Training Accuracy of the network: 48 %\n",
      "Validation Accuracy of the network: 38 %\n",
      "Validation loss decreased (1.262090 --> 1.257276).  Saving model ...\n"
     ]
    },
    {
     "name": "stderr",
     "output_type": "stream",
     "text": [
      "  2%|███                                                                                                                                                                | 19/1000 [00:48<41:55,  2.56s/it]"
     ]
    },
    {
     "name": "stdout",
     "output_type": "stream",
     "text": [
      "Training Loss: 1.1558354946150295\n",
      "Validation Loss: 1.2541886125292097\n",
      "Training Accuracy of the network: 48 %\n",
      "Validation Accuracy of the network: 39 %\n",
      "Validation loss decreased (1.257276 --> 1.254189).  Saving model ...\n"
     ]
    },
    {
     "name": "stderr",
     "output_type": "stream",
     "text": [
      "  2%|███▎                                                                                                                                                               | 20/1000 [00:50<41:53,  2.56s/it]"
     ]
    },
    {
     "name": "stdout",
     "output_type": "stream",
     "text": [
      "Training Loss: 1.1432469033676644\n",
      "Validation Loss: 1.2502653275217328\n",
      "Training Accuracy of the network: 50 %\n",
      "Validation Accuracy of the network: 39 %\n",
      "Validation loss decreased (1.254189 --> 1.250265).  Saving model ...\n"
     ]
    },
    {
     "name": "stderr",
     "output_type": "stream",
     "text": [
      "  2%|███▍                                                                                                                                                               | 21/1000 [00:53<40:46,  2.50s/it]"
     ]
    },
    {
     "name": "stdout",
     "output_type": "stream",
     "text": [
      "Training Loss: 1.1427327843679898\n",
      "Validation Loss: 1.2466877784047807\n",
      "Training Accuracy of the network: 49 %\n",
      "Validation Accuracy of the network: 39 %\n",
      "Validation loss decreased (1.250265 --> 1.246688).  Saving model ...\n"
     ]
    },
    {
     "name": "stderr",
     "output_type": "stream",
     "text": [
      "  2%|███▌                                                                                                                                                               | 22/1000 [00:55<41:44,  2.56s/it]"
     ]
    },
    {
     "name": "stdout",
     "output_type": "stream",
     "text": [
      "Training Loss: 1.1381830616273743\n",
      "Validation Loss: 1.2447850329535348\n",
      "Training Accuracy of the network: 50 %\n",
      "Validation Accuracy of the network: 41 %\n",
      "Validation loss decreased (1.246688 --> 1.244785).  Saving model ...\n"
     ]
    },
    {
     "name": "stderr",
     "output_type": "stream",
     "text": [
      "  2%|███▋                                                                                                                                                               | 23/1000 [00:58<40:53,  2.51s/it]"
     ]
    },
    {
     "name": "stdout",
     "output_type": "stream",
     "text": [
      "Training Loss: 1.115131220091944\n",
      "Validation Loss: 1.2379588723182677\n",
      "Training Accuracy of the network: 50 %\n",
      "Validation Accuracy of the network: 42 %\n",
      "Validation loss decreased (1.244785 --> 1.237959).  Saving model ...\n"
     ]
    },
    {
     "name": "stderr",
     "output_type": "stream",
     "text": [
      "  2%|███▉                                                                                                                                                               | 24/1000 [01:00<41:05,  2.53s/it]"
     ]
    },
    {
     "name": "stdout",
     "output_type": "stream",
     "text": [
      "Training Loss: 1.1025640143864397\n",
      "Validation Loss: 1.234954311166491\n",
      "Training Accuracy of the network: 53 %\n",
      "Validation Accuracy of the network: 41 %\n",
      "Validation loss decreased (1.237959 --> 1.234954).  Saving model ...\n"
     ]
    },
    {
     "name": "stderr",
     "output_type": "stream",
     "text": [
      "  2%|████                                                                                                                                                               | 25/1000 [01:03<41:29,  2.55s/it]"
     ]
    },
    {
     "name": "stdout",
     "output_type": "stream",
     "text": [
      "Training Loss: 1.0900226058303446\n",
      "Validation Loss: 1.2283835206712996\n",
      "Training Accuracy of the network: 53 %\n",
      "Validation Accuracy of the network: 42 %\n",
      "Validation loss decreased (1.234954 --> 1.228384).  Saving model ...\n"
     ]
    },
    {
     "name": "stderr",
     "output_type": "stream",
     "text": [
      "  3%|████▏                                                                                                                                                              | 26/1000 [01:05<41:39,  2.57s/it]"
     ]
    },
    {
     "name": "stdout",
     "output_type": "stream",
     "text": [
      "Training Loss: 1.0823489250480265\n",
      "Validation Loss: 1.2236809815679277\n",
      "Training Accuracy of the network: 53 %\n",
      "Validation Accuracy of the network: 42 %\n",
      "Validation loss decreased (1.228384 --> 1.223681).  Saving model ...\n"
     ]
    },
    {
     "name": "stderr",
     "output_type": "stream",
     "text": [
      "  3%|████▍                                                                                                                                                              | 27/1000 [01:08<41:12,  2.54s/it]"
     ]
    },
    {
     "name": "stdout",
     "output_type": "stream",
     "text": [
      "Training Loss: 1.0640597784000894\n",
      "Validation Loss: 1.2181016428130014\n",
      "Training Accuracy of the network: 56 %\n",
      "Validation Accuracy of the network: 42 %\n",
      "Validation loss decreased (1.223681 --> 1.218102).  Saving model ...\n"
     ]
    },
    {
     "name": "stderr",
     "output_type": "stream",
     "text": [
      "  3%|████▌                                                                                                                                                              | 28/1000 [01:10<41:04,  2.54s/it]"
     ]
    },
    {
     "name": "stdout",
     "output_type": "stream",
     "text": [
      "Training Loss: 1.059304924978726\n",
      "Validation Loss: 1.2144714764186315\n",
      "Training Accuracy of the network: 55 %\n",
      "Validation Accuracy of the network: 42 %\n",
      "Validation loss decreased (1.218102 --> 1.214471).  Saving model ...\n"
     ]
    },
    {
     "name": "stderr",
     "output_type": "stream",
     "text": [
      "  3%|████▋                                                                                                                                                              | 29/1000 [01:13<41:36,  2.57s/it]"
     ]
    },
    {
     "name": "stdout",
     "output_type": "stream",
     "text": [
      "Training Loss: 1.0400102920290353\n",
      "Validation Loss: 1.209573827471052\n",
      "Training Accuracy of the network: 56 %\n",
      "Validation Accuracy of the network: 43 %\n",
      "Validation loss decreased (1.214471 --> 1.209574).  Saving model ...\n"
     ]
    },
    {
     "name": "stderr",
     "output_type": "stream",
     "text": [
      "  3%|████▉                                                                                                                                                              | 30/1000 [01:16<41:29,  2.57s/it]"
     ]
    },
    {
     "name": "stdout",
     "output_type": "stream",
     "text": [
      "Training Loss: 1.034537081701168\n",
      "Validation Loss: 1.2035113777433122\n",
      "Training Accuracy of the network: 55 %\n",
      "Validation Accuracy of the network: 44 %\n",
      "Validation loss decreased (1.209574 --> 1.203511).  Saving model ...\n"
     ]
    },
    {
     "name": "stderr",
     "output_type": "stream",
     "text": [
      "  3%|█████                                                                                                                                                              | 31/1000 [01:18<41:24,  2.56s/it]"
     ]
    },
    {
     "name": "stdout",
     "output_type": "stream",
     "text": [
      "Training Loss: 1.0243891766969708\n",
      "Validation Loss: 1.1945276277405874\n",
      "Training Accuracy of the network: 58 %\n",
      "Validation Accuracy of the network: 45 %\n",
      "Validation loss decreased (1.203511 --> 1.194528).  Saving model ...\n"
     ]
    },
    {
     "name": "stderr",
     "output_type": "stream",
     "text": [
      "  3%|█████▏                                                                                                                                                             | 32/1000 [01:21<41:34,  2.58s/it]"
     ]
    },
    {
     "name": "stdout",
     "output_type": "stream",
     "text": [
      "Training Loss: 1.010050624177076\n",
      "Validation Loss: 1.1897959334509713\n",
      "Training Accuracy of the network: 58 %\n",
      "Validation Accuracy of the network: 45 %\n",
      "Validation loss decreased (1.194528 --> 1.189796).  Saving model ...\n"
     ]
    },
    {
     "name": "stderr",
     "output_type": "stream",
     "text": [
      "  3%|█████▍                                                                                                                                                             | 33/1000 [01:23<41:47,  2.59s/it]"
     ]
    },
    {
     "name": "stdout",
     "output_type": "stream",
     "text": [
      "Training Loss: 0.9956450289574222\n",
      "Validation Loss: 1.187825070108686\n",
      "Training Accuracy of the network: 58 %\n",
      "Validation Accuracy of the network: 45 %\n",
      "Validation loss decreased (1.189796 --> 1.187825).  Saving model ...\n"
     ]
    },
    {
     "name": "stderr",
     "output_type": "stream",
     "text": [
      "  3%|█████▌                                                                                                                                                             | 34/1000 [01:26<41:50,  2.60s/it]"
     ]
    },
    {
     "name": "stdout",
     "output_type": "stream",
     "text": [
      "Training Loss: 0.9721558629602626\n",
      "Validation Loss: 1.1833072509084428\n",
      "Training Accuracy of the network: 60 %\n",
      "Validation Accuracy of the network: 47 %\n",
      "Validation loss decreased (1.187825 --> 1.183307).  Saving model ...\n"
     ]
    },
    {
     "name": "stderr",
     "output_type": "stream",
     "text": [
      "  4%|█████▋                                                                                                                                                             | 35/1000 [01:29<41:32,  2.58s/it]"
     ]
    },
    {
     "name": "stdout",
     "output_type": "stream",
     "text": [
      "Training Loss: 0.95943975146266\n",
      "Validation Loss: 1.178236484527588\n",
      "Training Accuracy of the network: 60 %\n",
      "Validation Accuracy of the network: 47 %\n",
      "Validation loss decreased (1.183307 --> 1.178236).  Saving model ...\n"
     ]
    },
    {
     "name": "stderr",
     "output_type": "stream",
     "text": [
      "  4%|█████▊                                                                                                                                                             | 36/1000 [01:31<41:00,  2.55s/it]"
     ]
    },
    {
     "name": "stdout",
     "output_type": "stream",
     "text": [
      "Training Loss: 0.9543146264293919\n",
      "Validation Loss: 1.1689370734351021\n",
      "Training Accuracy of the network: 61 %\n",
      "Validation Accuracy of the network: 48 %\n",
      "Validation loss decreased (1.178236 --> 1.168937).  Saving model ...\n"
     ]
    },
    {
     "name": "stderr",
     "output_type": "stream",
     "text": [
      "  4%|██████                                                                                                                                                             | 37/1000 [01:33<39:30,  2.46s/it]"
     ]
    },
    {
     "name": "stdout",
     "output_type": "stream",
     "text": [
      "Training Loss: 0.9315893736438475\n",
      "Validation Loss: 1.1684808611869812\n",
      "Training Accuracy of the network: 62 %\n",
      "Validation Accuracy of the network: 47 %\n",
      "Validation loss decreased (1.168937 --> 1.168481).  Saving model ...\n"
     ]
    },
    {
     "name": "stderr",
     "output_type": "stream",
     "text": [
      "  4%|██████▏                                                                                                                                                            | 38/1000 [01:36<39:05,  2.44s/it]"
     ]
    },
    {
     "name": "stdout",
     "output_type": "stream",
     "text": [
      "Training Loss: 0.9420238335927328\n",
      "Validation Loss: 1.1660306658063615\n",
      "Training Accuracy of the network: 61 %\n",
      "Validation Accuracy of the network: 47 %\n",
      "Validation loss decreased (1.168481 --> 1.166031).  Saving model ...\n"
     ]
    },
    {
     "name": "stderr",
     "output_type": "stream",
     "text": [
      "  4%|██████▎                                                                                                                                                            | 39/1000 [01:38<38:44,  2.42s/it]"
     ]
    },
    {
     "name": "stdout",
     "output_type": "stream",
     "text": [
      "Training Loss: 0.906534840879233\n",
      "Validation Loss: 1.1614022101674761\n",
      "Training Accuracy of the network: 64 %\n",
      "Validation Accuracy of the network: 49 %\n",
      "Validation loss decreased (1.166031 --> 1.161402).  Saving model ...\n"
     ]
    },
    {
     "name": "stderr",
     "output_type": "stream",
     "text": [
      "  4%|██████▌                                                                                                                                                            | 40/1000 [01:40<38:44,  2.42s/it]"
     ]
    },
    {
     "name": "stdout",
     "output_type": "stream",
     "text": [
      "Training Loss: 0.9007641599662062\n",
      "Validation Loss: 1.1579896773610796\n",
      "Training Accuracy of the network: 63 %\n",
      "Validation Accuracy of the network: 48 %\n",
      "Validation loss decreased (1.161402 --> 1.157990).  Saving model ...\n"
     ]
    },
    {
     "name": "stderr",
     "output_type": "stream",
     "text": [
      "  4%|██████▋                                                                                                                                                            | 41/1000 [01:43<39:06,  2.45s/it]"
     ]
    },
    {
     "name": "stdout",
     "output_type": "stream",
     "text": [
      "Training Loss: 0.8904529846664788\n",
      "Validation Loss: 1.1561050415039062\n",
      "Training Accuracy of the network: 63 %\n",
      "Validation Accuracy of the network: 48 %\n",
      "Validation loss decreased (1.157990 --> 1.156105).  Saving model ...\n"
     ]
    },
    {
     "name": "stderr",
     "output_type": "stream",
     "text": [
      "  4%|██████▊                                                                                                                                                            | 42/1000 [01:46<39:37,  2.48s/it]"
     ]
    },
    {
     "name": "stdout",
     "output_type": "stream",
     "text": [
      "Training Loss: 0.8933809239795243\n",
      "Validation Loss: 1.1528406620025635\n",
      "Training Accuracy of the network: 64 %\n",
      "Validation Accuracy of the network: 49 %\n",
      "Validation loss decreased (1.156105 --> 1.152841).  Saving model ...\n"
     ]
    },
    {
     "name": "stderr",
     "output_type": "stream",
     "text": [
      "  4%|███████                                                                                                                                                            | 43/1000 [01:48<39:58,  2.51s/it]"
     ]
    },
    {
     "name": "stdout",
     "output_type": "stream",
     "text": [
      "Training Loss: 0.8790851393039676\n",
      "Validation Loss: 1.1528101069586618\n",
      "Training Accuracy of the network: 66 %\n",
      "Validation Accuracy of the network: 49 %\n",
      "Validation loss decreased (1.152841 --> 1.152810).  Saving model ...\n"
     ]
    },
    {
     "name": "stderr",
     "output_type": "stream",
     "text": [
      "  4%|███████▏                                                                                                                                                           | 44/1000 [01:51<40:02,  2.51s/it]"
     ]
    },
    {
     "name": "stdout",
     "output_type": "stream",
     "text": [
      "Training Loss: 0.8692574425451998\n",
      "Validation Loss: 1.1501501815659658\n",
      "Training Accuracy of the network: 65 %\n",
      "Validation Accuracy of the network: 50 %\n",
      "Validation loss decreased (1.152810 --> 1.150150).  Saving model ...\n"
     ]
    },
    {
     "name": "stderr",
     "output_type": "stream",
     "text": [
      "  4%|███████▎                                                                                                                                                           | 45/1000 [01:53<40:06,  2.52s/it]"
     ]
    },
    {
     "name": "stdout",
     "output_type": "stream",
     "text": [
      "Training Loss: 0.8566198189189469\n",
      "Validation Loss: 1.1454070806503296\n",
      "Training Accuracy of the network: 65 %\n",
      "Validation Accuracy of the network: 50 %\n",
      "Validation loss decreased (1.150150 --> 1.145407).  Saving model ...\n"
     ]
    },
    {
     "name": "stderr",
     "output_type": "stream",
     "text": [
      "  5%|███████▍                                                                                                                                                           | 46/1000 [01:56<40:36,  2.55s/it]"
     ]
    },
    {
     "name": "stdout",
     "output_type": "stream",
     "text": [
      "Training Loss: 0.8383989923674128\n",
      "Validation Loss: 1.1418571846825736\n",
      "Training Accuracy of the network: 67 %\n",
      "Validation Accuracy of the network: 50 %\n",
      "Validation loss decreased (1.145407 --> 1.141857).  Saving model ...\n"
     ]
    },
    {
     "name": "stderr",
     "output_type": "stream",
     "text": [
      "  5%|███████▋                                                                                                                                                           | 47/1000 [01:58<40:21,  2.54s/it]"
     ]
    },
    {
     "name": "stdout",
     "output_type": "stream",
     "text": [
      "Training Loss: 0.8362817988879439\n",
      "Validation Loss: 1.1437831810542516\n",
      "Training Accuracy of the network: 67 %\n",
      "Validation Accuracy of the network: 50 %\n",
      "EarlyStopping counter: 1 out of 50\n"
     ]
    },
    {
     "name": "stderr",
     "output_type": "stream",
     "text": [
      "  5%|███████▊                                                                                                                                                           | 48/1000 [02:01<40:46,  2.57s/it]"
     ]
    },
    {
     "name": "stdout",
     "output_type": "stream",
     "text": [
      "Training Loss: 0.820741501191388\n",
      "Validation Loss: 1.141260688645499\n",
      "Training Accuracy of the network: 68 %\n",
      "Validation Accuracy of the network: 51 %\n",
      "Validation loss decreased (1.141857 --> 1.141261).  Saving model ...\n"
     ]
    },
    {
     "name": "stderr",
     "output_type": "stream",
     "text": [
      "  5%|███████▉                                                                                                                                                           | 49/1000 [02:04<40:59,  2.59s/it]"
     ]
    },
    {
     "name": "stdout",
     "output_type": "stream",
     "text": [
      "Training Loss: 0.8229908189479855\n",
      "Validation Loss: 1.1417334692818777\n",
      "Training Accuracy of the network: 68 %\n",
      "Validation Accuracy of the network: 52 %\n",
      "EarlyStopping counter: 1 out of 50\n"
     ]
    },
    {
     "name": "stderr",
     "output_type": "stream",
     "text": [
      "  5%|████████▏                                                                                                                                                          | 50/1000 [02:06<41:02,  2.59s/it]"
     ]
    },
    {
     "name": "stdout",
     "output_type": "stream",
     "text": [
      "Training Loss: 0.8106238796659138\n",
      "Validation Loss: 1.141973602771759\n",
      "Training Accuracy of the network: 68 %\n",
      "Validation Accuracy of the network: 50 %\n",
      "EarlyStopping counter: 2 out of 50\n"
     ]
    },
    {
     "name": "stderr",
     "output_type": "stream",
     "text": [
      "  5%|████████▎                                                                                                                                                          | 51/1000 [02:09<40:40,  2.57s/it]"
     ]
    },
    {
     "name": "stdout",
     "output_type": "stream",
     "text": [
      "Training Loss: 0.79809768476348\n",
      "Validation Loss: 1.142289922918592\n",
      "Training Accuracy of the network: 69 %\n",
      "Validation Accuracy of the network: 51 %\n",
      "EarlyStopping counter: 3 out of 50\n"
     ]
    },
    {
     "name": "stderr",
     "output_type": "stream",
     "text": [
      "  5%|████████▍                                                                                                                                                          | 52/1000 [02:11<40:38,  2.57s/it]"
     ]
    },
    {
     "name": "stdout",
     "output_type": "stream",
     "text": [
      "Training Loss: 0.7876560903977656\n",
      "Validation Loss: 1.1441603473254613\n",
      "Training Accuracy of the network: 68 %\n",
      "Validation Accuracy of the network: 50 %\n",
      "EarlyStopping counter: 4 out of 50\n"
     ]
    },
    {
     "name": "stderr",
     "output_type": "stream",
     "text": [
      "  5%|████████▋                                                                                                                                                          | 53/1000 [02:14<39:48,  2.52s/it]"
     ]
    },
    {
     "name": "stdout",
     "output_type": "stream",
     "text": [
      "Training Loss: 0.7819474585678267\n",
      "Validation Loss: 1.1364766972405569\n",
      "Training Accuracy of the network: 70 %\n",
      "Validation Accuracy of the network: 49 %\n",
      "Validation loss decreased (1.141261 --> 1.136477).  Saving model ...\n"
     ]
    },
    {
     "name": "stderr",
     "output_type": "stream",
     "text": [
      "  5%|████████▊                                                                                                                                                          | 54/1000 [02:16<39:42,  2.52s/it]"
     ]
    },
    {
     "name": "stdout",
     "output_type": "stream",
     "text": [
      "Training Loss: 0.7759481009797774\n",
      "Validation Loss: 1.1315037182399206\n",
      "Training Accuracy of the network: 69 %\n",
      "Validation Accuracy of the network: 49 %\n",
      "Validation loss decreased (1.136477 --> 1.131504).  Saving model ...\n"
     ]
    },
    {
     "name": "stderr",
     "output_type": "stream",
     "text": [
      "  6%|████████▉                                                                                                                                                          | 55/1000 [02:18<38:31,  2.45s/it]"
     ]
    },
    {
     "name": "stdout",
     "output_type": "stream",
     "text": [
      "Training Loss: 0.7681694510190383\n",
      "Validation Loss: 1.138727048465184\n",
      "Training Accuracy of the network: 70 %\n",
      "Validation Accuracy of the network: 49 %\n",
      "EarlyStopping counter: 1 out of 50\n"
     ]
    },
    {
     "name": "stderr",
     "output_type": "stream",
     "text": [
      "  6%|█████████▏                                                                                                                                                         | 56/1000 [02:21<38:55,  2.47s/it]"
     ]
    },
    {
     "name": "stdout",
     "output_type": "stream",
     "text": [
      "Training Loss: 0.7592899080203928\n",
      "Validation Loss: 1.131375505243029\n",
      "Training Accuracy of the network: 69 %\n",
      "Validation Accuracy of the network: 49 %\n",
      "Validation loss decreased (1.131504 --> 1.131376).  Saving model ...\n"
     ]
    },
    {
     "name": "stderr",
     "output_type": "stream",
     "text": [
      "  6%|█████████▎                                                                                                                                                         | 57/1000 [02:24<39:22,  2.51s/it]"
     ]
    },
    {
     "name": "stdout",
     "output_type": "stream",
     "text": [
      "Training Loss: 0.7394481145817301\n",
      "Validation Loss: 1.13821222952434\n",
      "Training Accuracy of the network: 71 %\n",
      "Validation Accuracy of the network: 51 %\n",
      "EarlyStopping counter: 1 out of 50\n"
     ]
    },
    {
     "name": "stderr",
     "output_type": "stream",
     "text": [
      "  6%|█████████▍                                                                                                                                                         | 58/1000 [02:26<39:54,  2.54s/it]"
     ]
    },
    {
     "name": "stdout",
     "output_type": "stream",
     "text": [
      "Training Loss: 0.7365441253219825\n",
      "Validation Loss: 1.1318928616387502\n",
      "Training Accuracy of the network: 71 %\n",
      "Validation Accuracy of the network: 50 %\n",
      "EarlyStopping counter: 2 out of 50\n"
     ]
    },
    {
     "name": "stderr",
     "output_type": "stream",
     "text": [
      "  6%|█████████▌                                                                                                                                                         | 59/1000 [02:29<39:43,  2.53s/it]"
     ]
    },
    {
     "name": "stdout",
     "output_type": "stream",
     "text": [
      "Training Loss: 0.7270784962220468\n",
      "Validation Loss: 1.13167519228799\n",
      "Training Accuracy of the network: 72 %\n",
      "Validation Accuracy of the network: 49 %\n",
      "EarlyStopping counter: 3 out of 50\n"
     ]
    },
    {
     "name": "stderr",
     "output_type": "stream",
     "text": [
      "  6%|█████████▊                                                                                                                                                         | 60/1000 [02:31<40:10,  2.56s/it]"
     ]
    },
    {
     "name": "stdout",
     "output_type": "stream",
     "text": [
      "Training Loss: 0.7250188897917236\n",
      "Validation Loss: 1.1367084452084133\n",
      "Training Accuracy of the network: 71 %\n",
      "Validation Accuracy of the network: 49 %\n",
      "EarlyStopping counter: 4 out of 50\n"
     ]
    },
    {
     "name": "stderr",
     "output_type": "stream",
     "text": [
      "  6%|█████████▉                                                                                                                                                         | 61/1000 [02:34<40:11,  2.57s/it]"
     ]
    },
    {
     "name": "stdout",
     "output_type": "stream",
     "text": [
      "Training Loss: 0.7212691624527392\n",
      "Validation Loss: 1.1373016936438425\n",
      "Training Accuracy of the network: 73 %\n",
      "Validation Accuracy of the network: 49 %\n",
      "EarlyStopping counter: 5 out of 50\n"
     ]
    },
    {
     "name": "stderr",
     "output_type": "stream",
     "text": [
      "  6%|██████████                                                                                                                                                         | 62/1000 [02:36<40:04,  2.56s/it]"
     ]
    },
    {
     "name": "stdout",
     "output_type": "stream",
     "text": [
      "Training Loss: 0.719414480354475\n",
      "Validation Loss: 1.1337474840027946\n",
      "Training Accuracy of the network: 72 %\n",
      "Validation Accuracy of the network: 50 %\n",
      "EarlyStopping counter: 6 out of 50\n"
     ]
    },
    {
     "name": "stderr",
     "output_type": "stream",
     "text": [
      "  6%|██████████▎                                                                                                                                                        | 63/1000 [02:39<40:37,  2.60s/it]"
     ]
    },
    {
     "name": "stdout",
     "output_type": "stream",
     "text": [
      "Training Loss: 0.7068121359832045\n",
      "Validation Loss: 1.1331569978169032\n",
      "Training Accuracy of the network: 72 %\n",
      "Validation Accuracy of the network: 51 %\n",
      "EarlyStopping counter: 7 out of 50\n"
     ]
    },
    {
     "name": "stderr",
     "output_type": "stream",
     "text": [
      "  6%|██████████▍                                                                                                                                                        | 64/1000 [02:42<40:38,  2.60s/it]"
     ]
    },
    {
     "name": "stdout",
     "output_type": "stream",
     "text": [
      "Training Loss: 0.7077701588471731\n",
      "Validation Loss: 1.1454026545797076\n",
      "Training Accuracy of the network: 73 %\n",
      "Validation Accuracy of the network: 48 %\n",
      "EarlyStopping counter: 8 out of 50\n"
     ]
    },
    {
     "name": "stderr",
     "output_type": "stream",
     "text": [
      "  6%|██████████▌                                                                                                                                                        | 65/1000 [02:44<40:18,  2.59s/it]"
     ]
    },
    {
     "name": "stdout",
     "output_type": "stream",
     "text": [
      "Training Loss: 0.6883974794460379\n",
      "Validation Loss: 1.1484872613634383\n",
      "Training Accuracy of the network: 73 %\n",
      "Validation Accuracy of the network: 49 %\n",
      "EarlyStopping counter: 9 out of 50\n"
     ]
    },
    {
     "name": "stderr",
     "output_type": "stream",
     "text": [
      "  7%|██████████▊                                                                                                                                                        | 66/1000 [02:47<40:13,  2.58s/it]"
     ]
    },
    {
     "name": "stdout",
     "output_type": "stream",
     "text": [
      "Training Loss: 0.6936764044390209\n",
      "Validation Loss: 1.1366273999214171\n",
      "Training Accuracy of the network: 73 %\n",
      "Validation Accuracy of the network: 49 %\n",
      "EarlyStopping counter: 10 out of 50\n"
     ]
    },
    {
     "name": "stderr",
     "output_type": "stream",
     "text": [
      "  7%|██████████▉                                                                                                                                                        | 67/1000 [02:49<39:54,  2.57s/it]"
     ]
    },
    {
     "name": "stdout",
     "output_type": "stream",
     "text": [
      "Training Loss: 0.6782482958574226\n",
      "Validation Loss: 1.1362334762300763\n",
      "Training Accuracy of the network: 73 %\n",
      "Validation Accuracy of the network: 50 %\n",
      "EarlyStopping counter: 11 out of 50\n"
     ]
    },
    {
     "name": "stderr",
     "output_type": "stream",
     "text": [
      "  7%|███████████                                                                                                                                                        | 68/1000 [02:52<40:06,  2.58s/it]"
     ]
    },
    {
     "name": "stdout",
     "output_type": "stream",
     "text": [
      "Training Loss: 0.6696295811646227\n",
      "Validation Loss: 1.1430329612323216\n",
      "Training Accuracy of the network: 73 %\n",
      "Validation Accuracy of the network: 49 %\n",
      "EarlyStopping counter: 12 out of 50\n"
     ]
    },
    {
     "name": "stderr",
     "output_type": "stream",
     "text": [
      "  7%|███████████▏                                                                                                                                                       | 69/1000 [02:55<39:27,  2.54s/it]"
     ]
    },
    {
     "name": "stdout",
     "output_type": "stream",
     "text": [
      "Training Loss: 0.6618947226932084\n",
      "Validation Loss: 1.1414953180721827\n",
      "Training Accuracy of the network: 74 %\n",
      "Validation Accuracy of the network: 50 %\n",
      "EarlyStopping counter: 13 out of 50\n"
     ]
    },
    {
     "name": "stderr",
     "output_type": "stream",
     "text": [
      "  7%|███████████▍                                                                                                                                                       | 70/1000 [02:57<39:33,  2.55s/it]"
     ]
    },
    {
     "name": "stdout",
     "output_type": "stream",
     "text": [
      "Training Loss: 0.6398371001300605\n",
      "Validation Loss: 1.165635289464678\n",
      "Training Accuracy of the network: 76 %\n",
      "Validation Accuracy of the network: 49 %\n",
      "EarlyStopping counter: 14 out of 50\n"
     ]
    },
    {
     "name": "stderr",
     "output_type": "stream",
     "text": [
      "  7%|███████████▌                                                                                                                                                       | 71/1000 [02:59<38:33,  2.49s/it]"
     ]
    },
    {
     "name": "stdout",
     "output_type": "stream",
     "text": [
      "Training Loss: 0.6689213823149169\n",
      "Validation Loss: 1.1442073770931789\n",
      "Training Accuracy of the network: 74 %\n",
      "Validation Accuracy of the network: 50 %\n",
      "EarlyStopping counter: 15 out of 50\n"
     ]
    },
    {
     "name": "stderr",
     "output_type": "stream",
     "text": [
      "  7%|███████████▋                                                                                                                                                       | 72/1000 [03:02<39:11,  2.53s/it]"
     ]
    },
    {
     "name": "stdout",
     "output_type": "stream",
     "text": [
      "Training Loss: 0.6351473080939141\n",
      "Validation Loss: 1.1470135944230215\n",
      "Training Accuracy of the network: 76 %\n",
      "Validation Accuracy of the network: 50 %\n",
      "EarlyStopping counter: 16 out of 50\n"
     ]
    },
    {
     "name": "stderr",
     "output_type": "stream",
     "text": [
      "  7%|███████████▉                                                                                                                                                       | 73/1000 [03:05<39:26,  2.55s/it]"
     ]
    },
    {
     "name": "stdout",
     "output_type": "stream",
     "text": [
      "Training Loss: 0.6394532746162968\n",
      "Validation Loss: 1.154287416594369\n",
      "Training Accuracy of the network: 76 %\n",
      "Validation Accuracy of the network: 50 %\n",
      "EarlyStopping counter: 17 out of 50\n"
     ]
    },
    {
     "name": "stderr",
     "output_type": "stream",
     "text": [
      "  7%|████████████                                                                                                                                                       | 74/1000 [03:07<39:24,  2.55s/it]"
     ]
    },
    {
     "name": "stdout",
     "output_type": "stream",
     "text": [
      "Training Loss: 0.6438270711164543\n",
      "Validation Loss: 1.147198212146759\n",
      "Training Accuracy of the network: 75 %\n",
      "Validation Accuracy of the network: 51 %\n",
      "EarlyStopping counter: 18 out of 50\n"
     ]
    },
    {
     "name": "stderr",
     "output_type": "stream",
     "text": [
      "  8%|████████████▏                                                                                                                                                      | 75/1000 [03:10<39:16,  2.55s/it]"
     ]
    },
    {
     "name": "stdout",
     "output_type": "stream",
     "text": [
      "Training Loss: 0.6309438030356946\n",
      "Validation Loss: 1.1515494006020681\n",
      "Training Accuracy of the network: 75 %\n",
      "Validation Accuracy of the network: 49 %\n",
      "EarlyStopping counter: 19 out of 50\n"
     ]
    },
    {
     "name": "stderr",
     "output_type": "stream",
     "text": [
      "  8%|████████████▍                                                                                                                                                      | 76/1000 [03:12<39:32,  2.57s/it]"
     ]
    },
    {
     "name": "stdout",
     "output_type": "stream",
     "text": [
      "Training Loss: 0.6209821139556774\n",
      "Validation Loss: 1.1509806105068752\n",
      "Training Accuracy of the network: 75 %\n",
      "Validation Accuracy of the network: 51 %\n",
      "EarlyStopping counter: 20 out of 50\n"
     ]
    },
    {
     "name": "stderr",
     "output_type": "stream",
     "text": [
      "  8%|████████████▌                                                                                                                                                      | 77/1000 [03:15<39:31,  2.57s/it]"
     ]
    },
    {
     "name": "stdout",
     "output_type": "stream",
     "text": [
      "Training Loss: 0.6261600502159285\n",
      "Validation Loss: 1.1549311910356794\n",
      "Training Accuracy of the network: 76 %\n",
      "Validation Accuracy of the network: 50 %\n",
      "EarlyStopping counter: 21 out of 50\n"
     ]
    },
    {
     "name": "stderr",
     "output_type": "stream",
     "text": [
      "  8%|████████████▋                                                                                                                                                      | 78/1000 [03:18<39:36,  2.58s/it]"
     ]
    },
    {
     "name": "stdout",
     "output_type": "stream",
     "text": [
      "Training Loss: 0.6063575006049612\n",
      "Validation Loss: 1.1493559343474251\n",
      "Training Accuracy of the network: 77 %\n",
      "Validation Accuracy of the network: 50 %\n",
      "EarlyStopping counter: 22 out of 50\n"
     ]
    },
    {
     "name": "stderr",
     "output_type": "stream",
     "text": [
      "  8%|████████████▉                                                                                                                                                      | 79/1000 [03:20<39:47,  2.59s/it]"
     ]
    },
    {
     "name": "stdout",
     "output_type": "stream",
     "text": [
      "Training Loss: 0.6143272398174673\n",
      "Validation Loss: 1.1474718587739128\n",
      "Training Accuracy of the network: 76 %\n",
      "Validation Accuracy of the network: 51 %\n",
      "EarlyStopping counter: 23 out of 50\n"
     ]
    },
    {
     "name": "stderr",
     "output_type": "stream",
     "text": [
      "  8%|█████████████                                                                                                                                                      | 80/1000 [03:23<40:03,  2.61s/it]"
     ]
    },
    {
     "name": "stdout",
     "output_type": "stream",
     "text": [
      "Training Loss: 0.602822526641514\n",
      "Validation Loss: 1.14912463085992\n",
      "Training Accuracy of the network: 77 %\n",
      "Validation Accuracy of the network: 51 %\n",
      "EarlyStopping counter: 24 out of 50\n"
     ]
    },
    {
     "name": "stderr",
     "output_type": "stream",
     "text": [
      "  8%|█████████████▏                                                                                                                                                     | 81/1000 [03:25<39:18,  2.57s/it]"
     ]
    },
    {
     "name": "stdout",
     "output_type": "stream",
     "text": [
      "Training Loss: 0.6099395459328872\n",
      "Validation Loss: 1.145369005203247\n",
      "Training Accuracy of the network: 76 %\n",
      "Validation Accuracy of the network: 50 %\n",
      "EarlyStopping counter: 25 out of 50\n"
     ]
    },
    {
     "name": "stderr",
     "output_type": "stream",
     "text": [
      "  8%|█████████████▎                                                                                                                                                     | 82/1000 [03:28<39:02,  2.55s/it]"
     ]
    },
    {
     "name": "stdout",
     "output_type": "stream",
     "text": [
      "Training Loss: 0.5866447119177252\n",
      "Validation Loss: 1.151787281036377\n",
      "Training Accuracy of the network: 78 %\n",
      "Validation Accuracy of the network: 51 %\n",
      "EarlyStopping counter: 26 out of 50\n"
     ]
    },
    {
     "name": "stderr",
     "output_type": "stream",
     "text": [
      "  8%|█████████████▌                                                                                                                                                     | 83/1000 [03:30<39:02,  2.55s/it]"
     ]
    },
    {
     "name": "stdout",
     "output_type": "stream",
     "text": [
      "Training Loss: 0.6102182204308717\n",
      "Validation Loss: 1.1561887638909476\n",
      "Training Accuracy of the network: 76 %\n",
      "Validation Accuracy of the network: 51 %\n",
      "EarlyStopping counter: 27 out of 50\n"
     ]
    },
    {
     "name": "stderr",
     "output_type": "stream",
     "text": [
      "  8%|█████████████▋                                                                                                                                                     | 84/1000 [03:33<38:43,  2.54s/it]"
     ]
    },
    {
     "name": "stdout",
     "output_type": "stream",
     "text": [
      "Training Loss: 0.5844353313247362\n",
      "Validation Loss: 1.1549303225108556\n",
      "Training Accuracy of the network: 77 %\n",
      "Validation Accuracy of the network: 51 %\n",
      "EarlyStopping counter: 28 out of 50\n"
     ]
    },
    {
     "name": "stderr",
     "output_type": "stream",
     "text": [
      "  8%|█████████████▊                                                                                                                                                     | 85/1000 [03:35<38:28,  2.52s/it]"
     ]
    },
    {
     "name": "stdout",
     "output_type": "stream",
     "text": [
      "Training Loss: 0.5818840705830118\n",
      "Validation Loss: 1.152633798122406\n",
      "Training Accuracy of the network: 78 %\n",
      "Validation Accuracy of the network: 51 %\n",
      "EarlyStopping counter: 29 out of 50\n"
     ]
    },
    {
     "name": "stderr",
     "output_type": "stream",
     "text": [
      "  9%|██████████████                                                                                                                                                     | 86/1000 [03:38<38:23,  2.52s/it]"
     ]
    },
    {
     "name": "stdout",
     "output_type": "stream",
     "text": [
      "Training Loss: 0.5744705966849258\n",
      "Validation Loss: 1.1669296094349453\n",
      "Training Accuracy of the network: 78 %\n",
      "Validation Accuracy of the network: 50 %\n",
      "EarlyStopping counter: 30 out of 50\n"
     ]
    },
    {
     "name": "stderr",
     "output_type": "stream",
     "text": [
      "  9%|██████████████▏                                                                                                                                                    | 87/1000 [03:40<37:10,  2.44s/it]"
     ]
    },
    {
     "name": "stdout",
     "output_type": "stream",
     "text": [
      "Training Loss: 0.5649395880923755\n",
      "Validation Loss: 1.1688539964812144\n",
      "Training Accuracy of the network: 78 %\n",
      "Validation Accuracy of the network: 51 %\n",
      "EarlyStopping counter: 31 out of 50\n"
     ]
    },
    {
     "name": "stderr",
     "output_type": "stream",
     "text": [
      "  9%|██████████████▎                                                                                                                                                    | 88/1000 [03:43<36:58,  2.43s/it]"
     ]
    },
    {
     "name": "stdout",
     "output_type": "stream",
     "text": [
      "Training Loss: 0.5633776440568592\n",
      "Validation Loss: 1.1652576906340464\n",
      "Training Accuracy of the network: 77 %\n",
      "Validation Accuracy of the network: 51 %\n",
      "EarlyStopping counter: 32 out of 50\n"
     ]
    },
    {
     "name": "stderr",
     "output_type": "stream",
     "text": [
      "  9%|██████████████▌                                                                                                                                                    | 89/1000 [03:45<37:11,  2.45s/it]"
     ]
    },
    {
     "name": "stdout",
     "output_type": "stream",
     "text": [
      "Training Loss: 0.5656145153486211\n",
      "Validation Loss: 1.1701396005494253\n",
      "Training Accuracy of the network: 78 %\n",
      "Validation Accuracy of the network: 51 %\n",
      "EarlyStopping counter: 33 out of 50\n"
     ]
    },
    {
     "name": "stderr",
     "output_type": "stream",
     "text": [
      "  9%|██████████████▋                                                                                                                                                    | 90/1000 [03:47<36:54,  2.43s/it]"
     ]
    },
    {
     "name": "stdout",
     "output_type": "stream",
     "text": [
      "Training Loss: 0.5420027252664601\n",
      "Validation Loss: 1.172001542363848\n",
      "Training Accuracy of the network: 79 %\n",
      "Validation Accuracy of the network: 52 %\n",
      "EarlyStopping counter: 34 out of 50\n"
     ]
    },
    {
     "name": "stderr",
     "output_type": "stream",
     "text": [
      "  9%|██████████████▊                                                                                                                                                    | 91/1000 [03:50<37:34,  2.48s/it]"
     ]
    },
    {
     "name": "stdout",
     "output_type": "stream",
     "text": [
      "Training Loss: 0.5464423105552576\n",
      "Validation Loss: 1.1917122534343174\n",
      "Training Accuracy of the network: 80 %\n",
      "Validation Accuracy of the network: 51 %\n",
      "EarlyStopping counter: 35 out of 50\n"
     ]
    },
    {
     "name": "stderr",
     "output_type": "stream",
     "text": [
      "  9%|██████████████▉                                                                                                                                                    | 92/1000 [03:52<37:34,  2.48s/it]"
     ]
    },
    {
     "name": "stdout",
     "output_type": "stream",
     "text": [
      "Training Loss: 0.5412738838273546\n",
      "Validation Loss: 1.1752433742795672\n",
      "Training Accuracy of the network: 79 %\n",
      "Validation Accuracy of the network: 52 %\n",
      "EarlyStopping counter: 36 out of 50\n"
     ]
    },
    {
     "name": "stderr",
     "output_type": "stream",
     "text": [
      "  9%|███████████████▏                                                                                                                                                   | 93/1000 [03:55<38:14,  2.53s/it]"
     ]
    },
    {
     "name": "stdout",
     "output_type": "stream",
     "text": [
      "Training Loss: 0.5402775839834973\n",
      "Validation Loss: 1.1780973434448243\n",
      "Training Accuracy of the network: 79 %\n",
      "Validation Accuracy of the network: 53 %\n",
      "EarlyStopping counter: 37 out of 50\n"
     ]
    },
    {
     "name": "stderr",
     "output_type": "stream",
     "text": [
      "  9%|███████████████▎                                                                                                                                                   | 94/1000 [03:58<38:12,  2.53s/it]"
     ]
    },
    {
     "name": "stdout",
     "output_type": "stream",
     "text": [
      "Training Loss: 0.543000353311283\n",
      "Validation Loss: 1.1756476623671395\n",
      "Training Accuracy of the network: 78 %\n",
      "Validation Accuracy of the network: 51 %\n",
      "EarlyStopping counter: 38 out of 50\n"
     ]
    },
    {
     "name": "stderr",
     "output_type": "stream",
     "text": [
      " 10%|███████████████▍                                                                                                                                                   | 95/1000 [04:00<38:14,  2.54s/it]"
     ]
    },
    {
     "name": "stdout",
     "output_type": "stream",
     "text": [
      "Training Loss: 0.5236724537351857\n",
      "Validation Loss: 1.1768521172659738\n",
      "Training Accuracy of the network: 80 %\n",
      "Validation Accuracy of the network: 51 %\n",
      "EarlyStopping counter: 39 out of 50\n"
     ]
    },
    {
     "name": "stderr",
     "output_type": "stream",
     "text": [
      " 10%|███████████████▋                                                                                                                                                   | 96/1000 [04:03<38:00,  2.52s/it]"
     ]
    },
    {
     "name": "stdout",
     "output_type": "stream",
     "text": [
      "Training Loss: 0.531151336118363\n",
      "Validation Loss: 1.1856793999671935\n",
      "Training Accuracy of the network: 80 %\n",
      "Validation Accuracy of the network: 53 %\n",
      "EarlyStopping counter: 40 out of 50\n"
     ]
    },
    {
     "name": "stderr",
     "output_type": "stream",
     "text": [
      " 10%|███████████████▊                                                                                                                                                   | 97/1000 [04:05<37:53,  2.52s/it]"
     ]
    },
    {
     "name": "stdout",
     "output_type": "stream",
     "text": [
      "Training Loss: 0.5217224569532318\n",
      "Validation Loss: 1.1766841496740068\n",
      "Training Accuracy of the network: 79 %\n",
      "Validation Accuracy of the network: 51 %\n",
      "EarlyStopping counter: 41 out of 50\n"
     ]
    },
    {
     "name": "stderr",
     "output_type": "stream",
     "text": [
      " 10%|███████████████▉                                                                                                                                                   | 98/1000 [04:08<38:30,  2.56s/it]"
     ]
    },
    {
     "name": "stdout",
     "output_type": "stream",
     "text": [
      "Training Loss: 0.5125986864871305\n",
      "Validation Loss: 1.180395315374647\n",
      "Training Accuracy of the network: 80 %\n",
      "Validation Accuracy of the network: 52 %\n",
      "EarlyStopping counter: 42 out of 50\n"
     ]
    },
    {
     "name": "stderr",
     "output_type": "stream",
     "text": [
      " 10%|████████████████▏                                                                                                                                                  | 99/1000 [04:10<38:26,  2.56s/it]"
     ]
    },
    {
     "name": "stdout",
     "output_type": "stream",
     "text": [
      "Training Loss: 0.5215864365083583\n",
      "Validation Loss: 1.1820374812398637\n",
      "Training Accuracy of the network: 79 %\n",
      "Validation Accuracy of the network: 53 %\n",
      "EarlyStopping counter: 43 out of 50\n"
     ]
    },
    {
     "name": "stderr",
     "output_type": "stream",
     "text": [
      " 10%|████████████████▏                                                                                                                                                 | 100/1000 [04:13<37:56,  2.53s/it]"
     ]
    },
    {
     "name": "stdout",
     "output_type": "stream",
     "text": [
      "Training Loss: 0.5381191697349583\n",
      "Validation Loss: 1.176788524218968\n",
      "Training Accuracy of the network: 78 %\n",
      "Validation Accuracy of the network: 53 %\n",
      "EarlyStopping counter: 44 out of 50\n"
     ]
    },
    {
     "name": "stderr",
     "output_type": "stream",
     "text": [
      " 10%|████████████████▎                                                                                                                                                 | 101/1000 [04:15<37:11,  2.48s/it]"
     ]
    },
    {
     "name": "stdout",
     "output_type": "stream",
     "text": [
      "Training Loss: 0.4974574839723283\n",
      "Validation Loss: 1.1867836764880588\n",
      "Training Accuracy of the network: 81 %\n",
      "Validation Accuracy of the network: 51 %\n",
      "EarlyStopping counter: 45 out of 50\n"
     ]
    },
    {
     "name": "stderr",
     "output_type": "stream",
     "text": [
      " 10%|████████████████▌                                                                                                                                                 | 102/1000 [04:18<37:05,  2.48s/it]"
     ]
    },
    {
     "name": "stdout",
     "output_type": "stream",
     "text": [
      "Training Loss: 0.5002683911850487\n",
      "Validation Loss: 1.1784124493598938\n",
      "Training Accuracy of the network: 80 %\n",
      "Validation Accuracy of the network: 52 %\n",
      "EarlyStopping counter: 46 out of 50\n"
     ]
    },
    {
     "name": "stderr",
     "output_type": "stream",
     "text": [
      " 10%|████████████████▋                                                                                                                                                 | 103/1000 [04:20<35:43,  2.39s/it]"
     ]
    },
    {
     "name": "stdout",
     "output_type": "stream",
     "text": [
      "Training Loss: 0.5123078819040371\n",
      "Validation Loss: 1.1769600902284896\n",
      "Training Accuracy of the network: 80 %\n",
      "Validation Accuracy of the network: 53 %\n",
      "EarlyStopping counter: 47 out of 50\n"
     ]
    },
    {
     "name": "stderr",
     "output_type": "stream",
     "text": [
      " 10%|████████████████▊                                                                                                                                                 | 104/1000 [04:22<35:55,  2.41s/it]"
     ]
    },
    {
     "name": "stdout",
     "output_type": "stream",
     "text": [
      "Training Loss: 0.4804240601218265\n",
      "Validation Loss: 1.1804346254893712\n",
      "Training Accuracy of the network: 82 %\n",
      "Validation Accuracy of the network: 53 %\n",
      "EarlyStopping counter: 48 out of 50\n"
     ]
    },
    {
     "name": "stderr",
     "output_type": "stream",
     "text": [
      " 10%|█████████████████                                                                                                                                                 | 105/1000 [04:25<36:37,  2.46s/it]"
     ]
    },
    {
     "name": "stdout",
     "output_type": "stream",
     "text": [
      "Training Loss: 0.49834906536599866\n",
      "Validation Loss: 1.206771683692932\n",
      "Training Accuracy of the network: 80 %\n",
      "Validation Accuracy of the network: 52 %\n",
      "EarlyStopping counter: 49 out of 50\n"
     ]
    },
    {
     "name": "stderr",
     "output_type": "stream",
     "text": [
      " 10%|█████████████████                                                                                                                                                 | 105/1000 [04:28<38:04,  2.55s/it]"
     ]
    },
    {
     "name": "stdout",
     "output_type": "stream",
     "text": [
      "Training Loss: 0.48895099888677185\n",
      "Validation Loss: 1.1950132489204406\n",
      "Training Accuracy of the network: 82 %\n",
      "Validation Accuracy of the network: 53 %\n",
      "EarlyStopping counter: 50 out of 50\n",
      "Early Stopping\n",
      "Testing Loss: 1.1964037418365479\n",
      "Testing Accuracy of the network: 49 %\n"
     ]
    },
    {
     "name": "stderr",
     "output_type": "stream",
     "text": [
      "\n",
      "  0%|▏                                                                                                                                                                   | 1/1000 [00:02<44:53,  2.70s/it]"
     ]
    },
    {
     "name": "stdout",
     "output_type": "stream",
     "text": [
      "Training Loss: 1.5582126208714075\n",
      "Validation Loss: 1.4241481917245047\n",
      "Training Accuracy of the network: 24 %\n",
      "Validation Accuracy of the network: 22 %\n",
      "Validation loss decreased (inf --> 1.424148).  Saving model ...\n"
     ]
    },
    {
     "name": "stderr",
     "output_type": "stream",
     "text": [
      "  0%|▎                                                                                                                                                                   | 2/1000 [00:05<44:28,  2.67s/it]"
     ]
    },
    {
     "name": "stdout",
     "output_type": "stream",
     "text": [
      "Training Loss: 1.4983355156012943\n",
      "Validation Loss: 1.4099214962550572\n",
      "Training Accuracy of the network: 26 %\n",
      "Validation Accuracy of the network: 22 %\n",
      "Validation loss decreased (1.424148 --> 1.409921).  Saving model ...\n"
     ]
    },
    {
     "name": "stderr",
     "output_type": "stream",
     "text": [
      "  0%|▍                                                                                                                                                                   | 3/1000 [00:07<43:21,  2.61s/it]"
     ]
    },
    {
     "name": "stdout",
     "output_type": "stream",
     "text": [
      "Training Loss: 1.4495702496596745\n",
      "Validation Loss: 1.3986298867634364\n",
      "Training Accuracy of the network: 28 %\n",
      "Validation Accuracy of the network: 25 %\n",
      "Validation loss decreased (1.409921 --> 1.398630).  Saving model ...\n"
     ]
    },
    {
     "name": "stderr",
     "output_type": "stream",
     "text": [
      "  0%|▋                                                                                                                                                                   | 4/1000 [00:10<43:14,  2.60s/it]"
     ]
    },
    {
     "name": "stdout",
     "output_type": "stream",
     "text": [
      "Training Loss: 1.424419859477452\n",
      "Validation Loss: 1.3873121431895665\n",
      "Training Accuracy of the network: 29 %\n",
      "Validation Accuracy of the network: 27 %\n",
      "Validation loss decreased (1.398630 --> 1.387312).  Saving model ...\n"
     ]
    },
    {
     "name": "stderr",
     "output_type": "stream",
     "text": [
      "  0%|▊                                                                                                                                                                   | 5/1000 [00:13<44:02,  2.66s/it]"
     ]
    },
    {
     "name": "stdout",
     "output_type": "stream",
     "text": [
      "Training Loss: 1.407867203439985\n",
      "Validation Loss: 1.3751652240753174\n",
      "Training Accuracy of the network: 29 %\n",
      "Validation Accuracy of the network: 29 %\n",
      "Validation loss decreased (1.387312 --> 1.375165).  Saving model ...\n"
     ]
    },
    {
     "name": "stderr",
     "output_type": "stream",
     "text": [
      "  1%|▉                                                                                                                                                                   | 6/1000 [00:15<43:56,  2.65s/it]"
     ]
    },
    {
     "name": "stdout",
     "output_type": "stream",
     "text": [
      "Training Loss: 1.3815960390227182\n",
      "Validation Loss: 1.3641840832574026\n",
      "Training Accuracy of the network: 31 %\n",
      "Validation Accuracy of the network: 31 %\n",
      "Validation loss decreased (1.375165 --> 1.364184).  Saving model ...\n"
     ]
    },
    {
     "name": "stderr",
     "output_type": "stream",
     "text": [
      "  1%|█▏                                                                                                                                                                  | 7/1000 [00:18<43:51,  2.65s/it]"
     ]
    },
    {
     "name": "stdout",
     "output_type": "stream",
     "text": [
      "Training Loss: 1.3487757848841804\n",
      "Validation Loss: 1.3592146907533917\n",
      "Training Accuracy of the network: 35 %\n",
      "Validation Accuracy of the network: 32 %\n",
      "Validation loss decreased (1.364184 --> 1.359215).  Saving model ...\n"
     ]
    },
    {
     "name": "stderr",
     "output_type": "stream",
     "text": [
      "  1%|█▎                                                                                                                                                                  | 8/1000 [00:21<44:18,  2.68s/it]"
     ]
    },
    {
     "name": "stdout",
     "output_type": "stream",
     "text": [
      "Training Loss: 1.335599537406649\n",
      "Validation Loss: 1.3521425655909947\n",
      "Training Accuracy of the network: 34 %\n",
      "Validation Accuracy of the network: 34 %\n",
      "Validation loss decreased (1.359215 --> 1.352143).  Saving model ...\n"
     ]
    },
    {
     "name": "stderr",
     "output_type": "stream",
     "text": [
      "  1%|█▍                                                                                                                                                                  | 9/1000 [00:23<43:41,  2.65s/it]"
     ]
    },
    {
     "name": "stdout",
     "output_type": "stream",
     "text": [
      "Training Loss: 1.3108963923794883\n",
      "Validation Loss: 1.3426153455461776\n",
      "Training Accuracy of the network: 36 %\n",
      "Validation Accuracy of the network: 36 %\n",
      "Validation loss decreased (1.352143 --> 1.342615).  Saving model ...\n"
     ]
    },
    {
     "name": "stderr",
     "output_type": "stream",
     "text": [
      "  1%|█▋                                                                                                                                                                 | 10/1000 [00:26<43:42,  2.65s/it]"
     ]
    },
    {
     "name": "stdout",
     "output_type": "stream",
     "text": [
      "Training Loss: 1.3174123240368707\n",
      "Validation Loss: 1.3363298858915056\n",
      "Training Accuracy of the network: 35 %\n",
      "Validation Accuracy of the network: 37 %\n",
      "Validation loss decreased (1.342615 --> 1.336330).  Saving model ...\n"
     ]
    },
    {
     "name": "stderr",
     "output_type": "stream",
     "text": [
      "  1%|█▊                                                                                                                                                                 | 11/1000 [00:29<43:59,  2.67s/it]"
     ]
    },
    {
     "name": "stdout",
     "output_type": "stream",
     "text": [
      "Training Loss: 1.2797414183616638\n",
      "Validation Loss: 1.3292901788439069\n",
      "Training Accuracy of the network: 39 %\n",
      "Validation Accuracy of the network: 37 %\n",
      "Validation loss decreased (1.336330 --> 1.329290).  Saving model ...\n"
     ]
    },
    {
     "name": "stderr",
     "output_type": "stream",
     "text": [
      "  1%|█▉                                                                                                                                                                 | 12/1000 [00:31<43:09,  2.62s/it]"
     ]
    },
    {
     "name": "stdout",
     "output_type": "stream",
     "text": [
      "Training Loss: 1.2827146734510149\n",
      "Validation Loss: 1.3216792719704764\n",
      "Training Accuracy of the network: 39 %\n",
      "Validation Accuracy of the network: 39 %\n",
      "Validation loss decreased (1.329290 --> 1.321679).  Saving model ...\n"
     ]
    },
    {
     "name": "stderr",
     "output_type": "stream",
     "text": [
      "  1%|██                                                                                                                                                                 | 13/1000 [00:34<42:23,  2.58s/it]"
     ]
    },
    {
     "name": "stdout",
     "output_type": "stream",
     "text": [
      "Training Loss: 1.267468160390854\n",
      "Validation Loss: 1.3159058230263847\n",
      "Training Accuracy of the network: 40 %\n",
      "Validation Accuracy of the network: 38 %\n",
      "Validation loss decreased (1.321679 --> 1.315906).  Saving model ...\n"
     ]
    },
    {
     "name": "stderr",
     "output_type": "stream",
     "text": [
      "  1%|██▎                                                                                                                                                                | 14/1000 [00:36<42:15,  2.57s/it]"
     ]
    },
    {
     "name": "stdout",
     "output_type": "stream",
     "text": [
      "Training Loss: 1.2446636642728532\n",
      "Validation Loss: 1.3092695202146258\n",
      "Training Accuracy of the network: 41 %\n",
      "Validation Accuracy of the network: 40 %\n",
      "Validation loss decreased (1.315906 --> 1.309270).  Saving model ...\n"
     ]
    },
    {
     "name": "stderr",
     "output_type": "stream",
     "text": [
      "  2%|██▍                                                                                                                                                                | 15/1000 [00:39<41:36,  2.53s/it]"
     ]
    },
    {
     "name": "stdout",
     "output_type": "stream",
     "text": [
      "Training Loss: 1.237332502433232\n",
      "Validation Loss: 1.3027999707630702\n",
      "Training Accuracy of the network: 41 %\n",
      "Validation Accuracy of the network: 39 %\n",
      "Validation loss decreased (1.309270 --> 1.302800).  Saving model ...\n"
     ]
    },
    {
     "name": "stderr",
     "output_type": "stream",
     "text": [
      "  2%|██▌                                                                                                                                                                | 16/1000 [00:41<41:40,  2.54s/it]"
     ]
    },
    {
     "name": "stdout",
     "output_type": "stream",
     "text": [
      "Training Loss: 1.1981413785900388\n",
      "Validation Loss: 1.2977555649621146\n",
      "Training Accuracy of the network: 44 %\n",
      "Validation Accuracy of the network: 39 %\n",
      "Validation loss decreased (1.302800 --> 1.297756).  Saving model ...\n"
     ]
    },
    {
     "name": "stderr",
     "output_type": "stream",
     "text": [
      "  2%|██▊                                                                                                                                                                | 17/1000 [00:44<41:50,  2.55s/it]"
     ]
    },
    {
     "name": "stdout",
     "output_type": "stream",
     "text": [
      "Training Loss: 1.188526399220739\n",
      "Validation Loss: 1.2940736838749476\n",
      "Training Accuracy of the network: 46 %\n",
      "Validation Accuracy of the network: 39 %\n",
      "Validation loss decreased (1.297756 --> 1.294074).  Saving model ...\n"
     ]
    },
    {
     "name": "stderr",
     "output_type": "stream",
     "text": [
      "  2%|██▉                                                                                                                                                                | 18/1000 [00:46<41:09,  2.52s/it]"
     ]
    },
    {
     "name": "stdout",
     "output_type": "stream",
     "text": [
      "Training Loss: 1.1789485262972967\n",
      "Validation Loss: 1.2893862996782575\n",
      "Training Accuracy of the network: 46 %\n",
      "Validation Accuracy of the network: 40 %\n",
      "Validation loss decreased (1.294074 --> 1.289386).  Saving model ...\n"
     ]
    },
    {
     "name": "stderr",
     "output_type": "stream",
     "text": [
      "  2%|███                                                                                                                                                                | 19/1000 [00:49<41:32,  2.54s/it]"
     ]
    },
    {
     "name": "stdout",
     "output_type": "stream",
     "text": [
      "Training Loss: 1.1676205664873123\n",
      "Validation Loss: 1.2802942514419555\n",
      "Training Accuracy of the network: 47 %\n",
      "Validation Accuracy of the network: 42 %\n",
      "Validation loss decreased (1.289386 --> 1.280294).  Saving model ...\n"
     ]
    },
    {
     "name": "stderr",
     "output_type": "stream",
     "text": [
      "  2%|███▎                                                                                                                                                               | 20/1000 [00:51<41:42,  2.55s/it]"
     ]
    },
    {
     "name": "stdout",
     "output_type": "stream",
     "text": [
      "Training Loss: 1.1494854743991578\n",
      "Validation Loss: 1.2737853458949497\n",
      "Training Accuracy of the network: 49 %\n",
      "Validation Accuracy of the network: 42 %\n",
      "Validation loss decreased (1.280294 --> 1.273785).  Saving model ...\n"
     ]
    },
    {
     "name": "stderr",
     "output_type": "stream",
     "text": [
      "  2%|███▍                                                                                                                                                               | 21/1000 [00:54<42:06,  2.58s/it]"
     ]
    },
    {
     "name": "stdout",
     "output_type": "stream",
     "text": [
      "Training Loss: 1.1255345195531845\n",
      "Validation Loss: 1.26448381287711\n",
      "Training Accuracy of the network: 50 %\n",
      "Validation Accuracy of the network: 43 %\n",
      "Validation loss decreased (1.273785 --> 1.264484).  Saving model ...\n"
     ]
    },
    {
     "name": "stderr",
     "output_type": "stream",
     "text": [
      "  2%|███▌                                                                                                                                                               | 22/1000 [00:57<41:54,  2.57s/it]"
     ]
    },
    {
     "name": "stdout",
     "output_type": "stream",
     "text": [
      "Training Loss: 1.1174739335264479\n",
      "Validation Loss: 1.2551020996911184\n",
      "Training Accuracy of the network: 50 %\n",
      "Validation Accuracy of the network: 44 %\n",
      "Validation loss decreased (1.264484 --> 1.255102).  Saving model ...\n"
     ]
    },
    {
     "name": "stderr",
     "output_type": "stream",
     "text": [
      "  2%|███▋                                                                                                                                                               | 23/1000 [00:59<41:10,  2.53s/it]"
     ]
    },
    {
     "name": "stdout",
     "output_type": "stream",
     "text": [
      "Training Loss: 1.0853998286383493\n",
      "Validation Loss: 1.250335465158735\n",
      "Training Accuracy of the network: 54 %\n",
      "Validation Accuracy of the network: 46 %\n",
      "Validation loss decreased (1.255102 --> 1.250335).  Saving model ...\n"
     ]
    },
    {
     "name": "stderr",
     "output_type": "stream",
     "text": [
      "  2%|███▉                                                                                                                                                               | 24/1000 [01:02<41:04,  2.52s/it]"
     ]
    },
    {
     "name": "stdout",
     "output_type": "stream",
     "text": [
      "Training Loss: 1.084365998847144\n",
      "Validation Loss: 1.2439657739230565\n",
      "Training Accuracy of the network: 53 %\n",
      "Validation Accuracy of the network: 46 %\n",
      "Validation loss decreased (1.250335 --> 1.243966).  Saving model ...\n"
     ]
    },
    {
     "name": "stderr",
     "output_type": "stream",
     "text": [
      "  2%|████                                                                                                                                                               | 25/1000 [01:04<40:47,  2.51s/it]"
     ]
    },
    {
     "name": "stdout",
     "output_type": "stream",
     "text": [
      "Training Loss: 1.0589440562895367\n",
      "Validation Loss: 1.238400147642408\n",
      "Training Accuracy of the network: 55 %\n",
      "Validation Accuracy of the network: 46 %\n",
      "Validation loss decreased (1.243966 --> 1.238400).  Saving model ...\n"
     ]
    },
    {
     "name": "stderr",
     "output_type": "stream",
     "text": [
      "  3%|████▏                                                                                                                                                              | 26/1000 [01:07<40:38,  2.50s/it]"
     ]
    },
    {
     "name": "stdout",
     "output_type": "stream",
     "text": [
      "Training Loss: 1.056863539133753\n",
      "Validation Loss: 1.2312279837472098\n",
      "Training Accuracy of the network: 54 %\n",
      "Validation Accuracy of the network: 48 %\n",
      "Validation loss decreased (1.238400 --> 1.231228).  Saving model ...\n"
     ]
    },
    {
     "name": "stderr",
     "output_type": "stream",
     "text": [
      "  3%|████▍                                                                                                                                                              | 27/1000 [01:09<41:11,  2.54s/it]"
     ]
    },
    {
     "name": "stdout",
     "output_type": "stream",
     "text": [
      "Training Loss: 1.0367746455328806\n",
      "Validation Loss: 1.224059077671596\n",
      "Training Accuracy of the network: 55 %\n",
      "Validation Accuracy of the network: 48 %\n",
      "Validation loss decreased (1.231228 --> 1.224059).  Saving model ...\n"
     ]
    },
    {
     "name": "stderr",
     "output_type": "stream",
     "text": [
      "  3%|████▌                                                                                                                                                              | 28/1000 [01:12<40:35,  2.51s/it]"
     ]
    },
    {
     "name": "stdout",
     "output_type": "stream",
     "text": [
      "Training Loss: 1.019617976461138\n",
      "Validation Loss: 1.2156655056135994\n",
      "Training Accuracy of the network: 56 %\n",
      "Validation Accuracy of the network: 47 %\n",
      "Validation loss decreased (1.224059 --> 1.215666).  Saving model ...\n"
     ]
    },
    {
     "name": "stderr",
     "output_type": "stream",
     "text": [
      "  3%|████▋                                                                                                                                                              | 29/1000 [01:14<41:00,  2.53s/it]"
     ]
    },
    {
     "name": "stdout",
     "output_type": "stream",
     "text": [
      "Training Loss: 1.0062537648848124\n",
      "Validation Loss: 1.2107200878007072\n",
      "Training Accuracy of the network: 58 %\n",
      "Validation Accuracy of the network: 46 %\n",
      "Validation loss decreased (1.215666 --> 1.210720).  Saving model ...\n"
     ]
    },
    {
     "name": "stderr",
     "output_type": "stream",
     "text": [
      "  3%|████▉                                                                                                                                                              | 30/1000 [01:17<41:11,  2.55s/it]"
     ]
    },
    {
     "name": "stdout",
     "output_type": "stream",
     "text": [
      "Training Loss: 0.9772837630340031\n",
      "Validation Loss: 1.1995981676237923\n",
      "Training Accuracy of the network: 59 %\n",
      "Validation Accuracy of the network: 47 %\n",
      "Validation loss decreased (1.210720 --> 1.199598).  Saving model ...\n"
     ]
    },
    {
     "name": "stderr",
     "output_type": "stream",
     "text": [
      "  3%|█████                                                                                                                                                              | 31/1000 [01:19<41:54,  2.60s/it]"
     ]
    },
    {
     "name": "stdout",
     "output_type": "stream",
     "text": [
      "Training Loss: 0.97958433840956\n",
      "Validation Loss: 1.194231803076608\n",
      "Training Accuracy of the network: 59 %\n",
      "Validation Accuracy of the network: 47 %\n",
      "Validation loss decreased (1.199598 --> 1.194232).  Saving model ...\n"
     ]
    },
    {
     "name": "stderr",
     "output_type": "stream",
     "text": [
      "  3%|█████▏                                                                                                                                                             | 32/1000 [01:22<41:34,  2.58s/it]"
     ]
    },
    {
     "name": "stdout",
     "output_type": "stream",
     "text": [
      "Training Loss: 0.9622772574424744\n",
      "Validation Loss: 1.1892602052007402\n",
      "Training Accuracy of the network: 61 %\n",
      "Validation Accuracy of the network: 47 %\n",
      "Validation loss decreased (1.194232 --> 1.189260).  Saving model ...\n"
     ]
    },
    {
     "name": "stderr",
     "output_type": "stream",
     "text": [
      "  3%|█████▍                                                                                                                                                             | 33/1000 [01:25<41:58,  2.60s/it]"
     ]
    },
    {
     "name": "stdout",
     "output_type": "stream",
     "text": [
      "Training Loss: 0.945162131530898\n",
      "Validation Loss: 1.1816850219454085\n",
      "Training Accuracy of the network: 60 %\n",
      "Validation Accuracy of the network: 46 %\n",
      "Validation loss decreased (1.189260 --> 1.181685).  Saving model ...\n"
     ]
    },
    {
     "name": "stderr",
     "output_type": "stream",
     "text": [
      "  3%|█████▌                                                                                                                                                             | 34/1000 [01:27<42:11,  2.62s/it]"
     ]
    },
    {
     "name": "stdout",
     "output_type": "stream",
     "text": [
      "Training Loss: 0.9339844522731645\n",
      "Validation Loss: 1.180749089377267\n",
      "Training Accuracy of the network: 62 %\n",
      "Validation Accuracy of the network: 46 %\n",
      "Validation loss decreased (1.181685 --> 1.180749).  Saving model ...\n"
     ]
    },
    {
     "name": "stderr",
     "output_type": "stream",
     "text": [
      "  4%|█████▋                                                                                                                                                             | 35/1000 [01:30<41:55,  2.61s/it]"
     ]
    },
    {
     "name": "stdout",
     "output_type": "stream",
     "text": [
      "Training Loss: 0.9192990435021264\n",
      "Validation Loss: 1.1753461412021091\n",
      "Training Accuracy of the network: 63 %\n",
      "Validation Accuracy of the network: 48 %\n",
      "Validation loss decreased (1.180749 --> 1.175346).  Saving model ...\n"
     ]
    },
    {
     "name": "stderr",
     "output_type": "stream",
     "text": [
      "  4%|█████▊                                                                                                                                                             | 36/1000 [01:33<42:00,  2.61s/it]"
     ]
    },
    {
     "name": "stdout",
     "output_type": "stream",
     "text": [
      "Training Loss: 0.8996223879711969\n",
      "Validation Loss: 1.1704423529761179\n",
      "Training Accuracy of the network: 63 %\n",
      "Validation Accuracy of the network: 46 %\n",
      "Validation loss decreased (1.175346 --> 1.170442).  Saving model ...\n"
     ]
    },
    {
     "name": "stderr",
     "output_type": "stream",
     "text": [
      "  4%|██████                                                                                                                                                             | 37/1000 [01:35<42:24,  2.64s/it]"
     ]
    },
    {
     "name": "stdout",
     "output_type": "stream",
     "text": [
      "Training Loss: 0.9070787544761385\n",
      "Validation Loss: 1.1640490770339966\n",
      "Training Accuracy of the network: 63 %\n",
      "Validation Accuracy of the network: 47 %\n",
      "Validation loss decreased (1.170442 --> 1.164049).  Saving model ...\n"
     ]
    },
    {
     "name": "stderr",
     "output_type": "stream",
     "text": [
      "  4%|██████▏                                                                                                                                                            | 38/1000 [01:38<41:38,  2.60s/it]"
     ]
    },
    {
     "name": "stdout",
     "output_type": "stream",
     "text": [
      "Training Loss: 0.8886379746454103\n",
      "Validation Loss: 1.160776242188045\n",
      "Training Accuracy of the network: 64 %\n",
      "Validation Accuracy of the network: 48 %\n",
      "Validation loss decreased (1.164049 --> 1.160776).  Saving model ...\n"
     ]
    },
    {
     "name": "stderr",
     "output_type": "stream",
     "text": [
      "  4%|██████▎                                                                                                                                                            | 39/1000 [01:40<41:35,  2.60s/it]"
     ]
    },
    {
     "name": "stdout",
     "output_type": "stream",
     "text": [
      "Training Loss: 0.8611051095383507\n",
      "Validation Loss: 1.1576021245547703\n",
      "Training Accuracy of the network: 66 %\n",
      "Validation Accuracy of the network: 48 %\n",
      "Validation loss decreased (1.160776 --> 1.157602).  Saving model ...\n"
     ]
    },
    {
     "name": "stderr",
     "output_type": "stream",
     "text": [
      "  4%|██████▌                                                                                                                                                            | 40/1000 [01:43<41:18,  2.58s/it]"
     ]
    },
    {
     "name": "stdout",
     "output_type": "stream",
     "text": [
      "Training Loss: 0.863362013229302\n",
      "Validation Loss: 1.1546493240765163\n",
      "Training Accuracy of the network: 65 %\n",
      "Validation Accuracy of the network: 49 %\n",
      "Validation loss decreased (1.157602 --> 1.154649).  Saving model ...\n"
     ]
    },
    {
     "name": "stderr",
     "output_type": "stream",
     "text": [
      "  4%|██████▋                                                                                                                                                            | 41/1000 [01:45<40:43,  2.55s/it]"
     ]
    },
    {
     "name": "stdout",
     "output_type": "stream",
     "text": [
      "Training Loss: 0.8564699724316597\n",
      "Validation Loss: 1.1524500029427664\n",
      "Training Accuracy of the network: 66 %\n",
      "Validation Accuracy of the network: 48 %\n",
      "Validation loss decreased (1.154649 --> 1.152450).  Saving model ...\n"
     ]
    },
    {
     "name": "stderr",
     "output_type": "stream",
     "text": [
      "  4%|██████▊                                                                                                                                                            | 42/1000 [01:48<41:13,  2.58s/it]"
     ]
    },
    {
     "name": "stdout",
     "output_type": "stream",
     "text": [
      "Training Loss: 0.8565665717635836\n",
      "Validation Loss: 1.146439937182835\n",
      "Training Accuracy of the network: 66 %\n",
      "Validation Accuracy of the network: 49 %\n",
      "Validation loss decreased (1.152450 --> 1.146440).  Saving model ...\n"
     ]
    },
    {
     "name": "stderr",
     "output_type": "stream",
     "text": [
      "  4%|███████                                                                                                                                                            | 43/1000 [01:50<40:20,  2.53s/it]"
     ]
    },
    {
     "name": "stdout",
     "output_type": "stream",
     "text": [
      "Training Loss: 0.8295380803091186\n",
      "Validation Loss: 1.1486736604145595\n",
      "Training Accuracy of the network: 67 %\n",
      "Validation Accuracy of the network: 49 %\n",
      "EarlyStopping counter: 1 out of 50\n"
     ]
    },
    {
     "name": "stderr",
     "output_type": "stream",
     "text": [
      "  4%|███████▏                                                                                                                                                           | 44/1000 [01:53<40:42,  2.55s/it]"
     ]
    },
    {
     "name": "stdout",
     "output_type": "stream",
     "text": [
      "Training Loss: 0.8191688390714782\n",
      "Validation Loss: 1.1428031836237227\n",
      "Training Accuracy of the network: 67 %\n",
      "Validation Accuracy of the network: 48 %\n",
      "Validation loss decreased (1.146440 --> 1.142803).  Saving model ...\n"
     ]
    },
    {
     "name": "stderr",
     "output_type": "stream",
     "text": [
      "  4%|███████▎                                                                                                                                                           | 45/1000 [01:56<41:02,  2.58s/it]"
     ]
    },
    {
     "name": "stdout",
     "output_type": "stream",
     "text": [
      "Training Loss: 0.8160534839544977\n",
      "Validation Loss: 1.1422313843454635\n",
      "Training Accuracy of the network: 68 %\n",
      "Validation Accuracy of the network: 49 %\n",
      "Validation loss decreased (1.142803 --> 1.142231).  Saving model ...\n"
     ]
    },
    {
     "name": "stderr",
     "output_type": "stream",
     "text": [
      "  5%|███████▍                                                                                                                                                           | 46/1000 [01:58<40:51,  2.57s/it]"
     ]
    },
    {
     "name": "stdout",
     "output_type": "stream",
     "text": [
      "Training Loss: 0.8174824957336698\n",
      "Validation Loss: 1.139300206729344\n",
      "Training Accuracy of the network: 68 %\n",
      "Validation Accuracy of the network: 50 %\n",
      "Validation loss decreased (1.142231 --> 1.139300).  Saving model ...\n"
     ]
    },
    {
     "name": "stderr",
     "output_type": "stream",
     "text": [
      "  5%|███████▋                                                                                                                                                           | 47/1000 [02:01<40:45,  2.57s/it]"
     ]
    },
    {
     "name": "stdout",
     "output_type": "stream",
     "text": [
      "Training Loss: 0.8083464981189796\n",
      "Validation Loss: 1.1396664193698338\n",
      "Training Accuracy of the network: 68 %\n",
      "Validation Accuracy of the network: 50 %\n",
      "EarlyStopping counter: 1 out of 50\n"
     ]
    },
    {
     "name": "stderr",
     "output_type": "stream",
     "text": [
      "  5%|███████▊                                                                                                                                                           | 48/1000 [02:03<40:24,  2.55s/it]"
     ]
    },
    {
     "name": "stdout",
     "output_type": "stream",
     "text": [
      "Training Loss: 0.8098467743822506\n",
      "Validation Loss: 1.142546044077192\n",
      "Training Accuracy of the network: 68 %\n",
      "Validation Accuracy of the network: 49 %\n",
      "EarlyStopping counter: 2 out of 50\n"
     ]
    },
    {
     "name": "stderr",
     "output_type": "stream",
     "text": [
      "  5%|███████▉                                                                                                                                                           | 49/1000 [02:06<40:51,  2.58s/it]"
     ]
    },
    {
     "name": "stdout",
     "output_type": "stream",
     "text": [
      "Training Loss: 0.784654345044068\n",
      "Validation Loss: 1.1384045549801418\n",
      "Training Accuracy of the network: 69 %\n",
      "Validation Accuracy of the network: 50 %\n",
      "Validation loss decreased (1.139300 --> 1.138405).  Saving model ...\n"
     ]
    },
    {
     "name": "stderr",
     "output_type": "stream",
     "text": [
      "  5%|████████▏                                                                                                                                                          | 50/1000 [02:08<40:34,  2.56s/it]"
     ]
    },
    {
     "name": "stdout",
     "output_type": "stream",
     "text": [
      "Training Loss: 0.775770035811833\n",
      "Validation Loss: 1.1389750020844596\n",
      "Training Accuracy of the network: 69 %\n",
      "Validation Accuracy of the network: 50 %\n",
      "EarlyStopping counter: 1 out of 50\n"
     ]
    },
    {
     "name": "stderr",
     "output_type": "stream",
     "text": [
      "  5%|████████▎                                                                                                                                                          | 51/1000 [02:11<40:43,  2.57s/it]"
     ]
    },
    {
     "name": "stdout",
     "output_type": "stream",
     "text": [
      "Training Loss: 0.7674349910446576\n",
      "Validation Loss: 1.1439975023269653\n",
      "Training Accuracy of the network: 69 %\n",
      "Validation Accuracy of the network: 50 %\n",
      "EarlyStopping counter: 2 out of 50\n"
     ]
    },
    {
     "name": "stderr",
     "output_type": "stream",
     "text": [
      "  5%|████████▍                                                                                                                                                          | 52/1000 [02:14<40:48,  2.58s/it]"
     ]
    },
    {
     "name": "stdout",
     "output_type": "stream",
     "text": [
      "Training Loss: 0.7729961454868317\n",
      "Validation Loss: 1.1336066229002817\n",
      "Training Accuracy of the network: 69 %\n",
      "Validation Accuracy of the network: 51 %\n",
      "Validation loss decreased (1.138405 --> 1.133607).  Saving model ...\n"
     ]
    },
    {
     "name": "stderr",
     "output_type": "stream",
     "text": [
      "  5%|████████▋                                                                                                                                                          | 53/1000 [02:16<41:02,  2.60s/it]"
     ]
    },
    {
     "name": "stdout",
     "output_type": "stream",
     "text": [
      "Training Loss: 0.7571108375276838\n",
      "Validation Loss: 1.1323913489069257\n",
      "Training Accuracy of the network: 70 %\n",
      "Validation Accuracy of the network: 52 %\n",
      "Validation loss decreased (1.133607 --> 1.132391).  Saving model ...\n"
     ]
    },
    {
     "name": "stderr",
     "output_type": "stream",
     "text": [
      "  5%|████████▊                                                                                                                                                          | 54/1000 [02:19<40:53,  2.59s/it]"
     ]
    },
    {
     "name": "stdout",
     "output_type": "stream",
     "text": [
      "Training Loss: 0.7611772901245526\n",
      "Validation Loss: 1.1308957832200186\n",
      "Training Accuracy of the network: 70 %\n",
      "Validation Accuracy of the network: 52 %\n",
      "Validation loss decreased (1.132391 --> 1.130896).  Saving model ...\n"
     ]
    },
    {
     "name": "stderr",
     "output_type": "stream",
     "text": [
      "  6%|████████▉                                                                                                                                                          | 55/1000 [02:21<40:34,  2.58s/it]"
     ]
    },
    {
     "name": "stdout",
     "output_type": "stream",
     "text": [
      "Training Loss: 0.7508627159254891\n",
      "Validation Loss: 1.1279788255691527\n",
      "Training Accuracy of the network: 70 %\n",
      "Validation Accuracy of the network: 52 %\n",
      "Validation loss decreased (1.130896 --> 1.127979).  Saving model ...\n"
     ]
    },
    {
     "name": "stderr",
     "output_type": "stream",
     "text": [
      "  6%|█████████▏                                                                                                                                                         | 56/1000 [02:24<40:38,  2.58s/it]"
     ]
    },
    {
     "name": "stdout",
     "output_type": "stream",
     "text": [
      "Training Loss: 0.7412004230277879\n",
      "Validation Loss: 1.1370963879993983\n",
      "Training Accuracy of the network: 70 %\n",
      "Validation Accuracy of the network: 51 %\n",
      "EarlyStopping counter: 1 out of 50\n"
     ]
    },
    {
     "name": "stderr",
     "output_type": "stream",
     "text": [
      "  6%|█████████▎                                                                                                                                                         | 57/1000 [02:27<40:20,  2.57s/it]"
     ]
    },
    {
     "name": "stdout",
     "output_type": "stream",
     "text": [
      "Training Loss: 0.7245040016514914\n",
      "Validation Loss: 1.1362873111452376\n",
      "Training Accuracy of the network: 71 %\n",
      "Validation Accuracy of the network: 50 %\n",
      "EarlyStopping counter: 2 out of 50\n"
     ]
    },
    {
     "name": "stderr",
     "output_type": "stream",
     "text": [
      "  6%|█████████▍                                                                                                                                                         | 58/1000 [02:29<40:26,  2.58s/it]"
     ]
    },
    {
     "name": "stdout",
     "output_type": "stream",
     "text": [
      "Training Loss: 0.7102914593581643\n",
      "Validation Loss: 1.1262865356036595\n",
      "Training Accuracy of the network: 73 %\n",
      "Validation Accuracy of the network: 52 %\n",
      "Validation loss decreased (1.127979 --> 1.126287).  Saving model ...\n"
     ]
    },
    {
     "name": "stderr",
     "output_type": "stream",
     "text": [
      "  6%|█████████▌                                                                                                                                                         | 59/1000 [02:32<39:42,  2.53s/it]"
     ]
    },
    {
     "name": "stdout",
     "output_type": "stream",
     "text": [
      "Training Loss: 0.7157424951238291\n",
      "Validation Loss: 1.123660796029227\n",
      "Training Accuracy of the network: 71 %\n",
      "Validation Accuracy of the network: 52 %\n",
      "Validation loss decreased (1.126287 --> 1.123661).  Saving model ...\n"
     ]
    },
    {
     "name": "stderr",
     "output_type": "stream",
     "text": [
      "  6%|█████████▊                                                                                                                                                         | 60/1000 [02:34<39:54,  2.55s/it]"
     ]
    },
    {
     "name": "stdout",
     "output_type": "stream",
     "text": [
      "Training Loss: 0.7168951886040824\n",
      "Validation Loss: 1.127575523512704\n",
      "Training Accuracy of the network: 72 %\n",
      "Validation Accuracy of the network: 52 %\n",
      "EarlyStopping counter: 1 out of 50\n"
     ]
    },
    {
     "name": "stderr",
     "output_type": "stream",
     "text": [
      "  6%|█████████▉                                                                                                                                                         | 61/1000 [02:37<40:08,  2.56s/it]"
     ]
    },
    {
     "name": "stdout",
     "output_type": "stream",
     "text": [
      "Training Loss: 0.7070640239332403\n",
      "Validation Loss: 1.130466217654092\n",
      "Training Accuracy of the network: 72 %\n",
      "Validation Accuracy of the network: 51 %\n",
      "EarlyStopping counter: 2 out of 50\n"
     ]
    },
    {
     "name": "stderr",
     "output_type": "stream",
     "text": [
      "  6%|██████████                                                                                                                                                         | 62/1000 [02:39<40:14,  2.57s/it]"
     ]
    },
    {
     "name": "stdout",
     "output_type": "stream",
     "text": [
      "Training Loss: 0.6918373426156385\n",
      "Validation Loss: 1.1235919662884304\n",
      "Training Accuracy of the network: 72 %\n",
      "Validation Accuracy of the network: 52 %\n",
      "Validation loss decreased (1.123661 --> 1.123592).  Saving model ...\n"
     ]
    },
    {
     "name": "stderr",
     "output_type": "stream",
     "text": [
      "  6%|██████████▎                                                                                                                                                        | 63/1000 [02:42<39:53,  2.55s/it]"
     ]
    },
    {
     "name": "stdout",
     "output_type": "stream",
     "text": [
      "Training Loss: 0.7032166743917124\n",
      "Validation Loss: 1.124220837865557\n",
      "Training Accuracy of the network: 72 %\n",
      "Validation Accuracy of the network: 52 %\n",
      "EarlyStopping counter: 1 out of 50\n"
     ]
    },
    {
     "name": "stderr",
     "output_type": "stream",
     "text": [
      "  6%|██████████▍                                                                                                                                                        | 64/1000 [02:44<39:41,  2.54s/it]"
     ]
    },
    {
     "name": "stdout",
     "output_type": "stream",
     "text": [
      "Training Loss: 0.6985351308115891\n",
      "Validation Loss: 1.1299459661756244\n",
      "Training Accuracy of the network: 72 %\n",
      "Validation Accuracy of the network: 51 %\n",
      "EarlyStopping counter: 2 out of 50\n"
     ]
    },
    {
     "name": "stderr",
     "output_type": "stream",
     "text": [
      "  6%|██████████▌                                                                                                                                                        | 65/1000 [02:47<39:16,  2.52s/it]"
     ]
    },
    {
     "name": "stdout",
     "output_type": "stream",
     "text": [
      "Training Loss: 0.6912375269191605\n",
      "Validation Loss: 1.1299525720732553\n",
      "Training Accuracy of the network: 73 %\n",
      "Validation Accuracy of the network: 50 %\n",
      "EarlyStopping counter: 3 out of 50\n"
     ]
    },
    {
     "name": "stderr",
     "output_type": "stream",
     "text": [
      "  7%|██████████▊                                                                                                                                                        | 66/1000 [02:49<38:58,  2.50s/it]"
     ]
    },
    {
     "name": "stdout",
     "output_type": "stream",
     "text": [
      "Training Loss: 0.6768802160663264\n",
      "Validation Loss: 1.1242639286177498\n",
      "Training Accuracy of the network: 73 %\n",
      "Validation Accuracy of the network: 52 %\n",
      "EarlyStopping counter: 4 out of 50\n"
     ]
    },
    {
     "name": "stderr",
     "output_type": "stream",
     "text": [
      "  7%|██████████▉                                                                                                                                                        | 67/1000 [02:52<39:15,  2.52s/it]"
     ]
    },
    {
     "name": "stdout",
     "output_type": "stream",
     "text": [
      "Training Loss: 0.6746929482689925\n",
      "Validation Loss: 1.1236749870436533\n",
      "Training Accuracy of the network: 73 %\n",
      "Validation Accuracy of the network: 51 %\n",
      "EarlyStopping counter: 5 out of 50\n"
     ]
    },
    {
     "name": "stderr",
     "output_type": "stream",
     "text": [
      "  7%|███████████                                                                                                                                                        | 68/1000 [02:54<38:56,  2.51s/it]"
     ]
    },
    {
     "name": "stdout",
     "output_type": "stream",
     "text": [
      "Training Loss: 0.6448573026273932\n",
      "Validation Loss: 1.121847689151764\n",
      "Training Accuracy of the network: 75 %\n",
      "Validation Accuracy of the network: 50 %\n",
      "Validation loss decreased (1.123592 --> 1.121848).  Saving model ...\n"
     ]
    },
    {
     "name": "stderr",
     "output_type": "stream",
     "text": [
      "  7%|███████████▏                                                                                                                                                       | 69/1000 [02:57<38:36,  2.49s/it]"
     ]
    },
    {
     "name": "stdout",
     "output_type": "stream",
     "text": [
      "Training Loss: 0.6627395219568696\n",
      "Validation Loss: 1.1151886020387922\n",
      "Training Accuracy of the network: 72 %\n",
      "Validation Accuracy of the network: 52 %\n",
      "Validation loss decreased (1.121848 --> 1.115189).  Saving model ...\n"
     ]
    },
    {
     "name": "stderr",
     "output_type": "stream",
     "text": [
      "  7%|███████████▍                                                                                                                                                       | 70/1000 [02:59<38:46,  2.50s/it]"
     ]
    },
    {
     "name": "stdout",
     "output_type": "stream",
     "text": [
      "Training Loss: 0.6336736712072577\n",
      "Validation Loss: 1.1285329733576093\n",
      "Training Accuracy of the network: 75 %\n",
      "Validation Accuracy of the network: 50 %\n",
      "EarlyStopping counter: 1 out of 50\n"
     ]
    },
    {
     "name": "stderr",
     "output_type": "stream",
     "text": [
      "  7%|███████████▌                                                                                                                                                       | 71/1000 [03:02<38:53,  2.51s/it]"
     ]
    },
    {
     "name": "stdout",
     "output_type": "stream",
     "text": [
      "Training Loss: 0.6533630285944257\n",
      "Validation Loss: 1.1245898229735238\n",
      "Training Accuracy of the network: 75 %\n",
      "Validation Accuracy of the network: 49 %\n",
      "EarlyStopping counter: 2 out of 50\n"
     ]
    },
    {
     "name": "stderr",
     "output_type": "stream",
     "text": [
      "  7%|███████████▋                                                                                                                                                       | 72/1000 [03:04<38:49,  2.51s/it]"
     ]
    },
    {
     "name": "stdout",
     "output_type": "stream",
     "text": [
      "Training Loss: 0.649731518221753\n",
      "Validation Loss: 1.1140103765896388\n",
      "Training Accuracy of the network: 75 %\n",
      "Validation Accuracy of the network: 51 %\n",
      "Validation loss decreased (1.115189 --> 1.114010).  Saving model ...\n"
     ]
    },
    {
     "name": "stderr",
     "output_type": "stream",
     "text": [
      "  7%|███████████▉                                                                                                                                                       | 73/1000 [03:07<38:36,  2.50s/it]"
     ]
    },
    {
     "name": "stdout",
     "output_type": "stream",
     "text": [
      "Training Loss: 0.6358630897211177\n",
      "Validation Loss: 1.1222177284104484\n",
      "Training Accuracy of the network: 75 %\n",
      "Validation Accuracy of the network: 50 %\n",
      "EarlyStopping counter: 1 out of 50\n"
     ]
    },
    {
     "name": "stderr",
     "output_type": "stream",
     "text": [
      "  7%|████████████                                                                                                                                                       | 74/1000 [03:10<39:34,  2.56s/it]"
     ]
    },
    {
     "name": "stdout",
     "output_type": "stream",
     "text": [
      "Training Loss: 0.6183290438992637\n",
      "Validation Loss: 1.1137334551130023\n",
      "Training Accuracy of the network: 76 %\n",
      "Validation Accuracy of the network: 51 %\n",
      "Validation loss decreased (1.114010 --> 1.113733).  Saving model ...\n"
     ]
    },
    {
     "name": "stderr",
     "output_type": "stream",
     "text": [
      "  8%|████████████▏                                                                                                                                                      | 75/1000 [03:12<38:48,  2.52s/it]"
     ]
    },
    {
     "name": "stdout",
     "output_type": "stream",
     "text": [
      "Training Loss: 0.6191461119268622\n",
      "Validation Loss: 1.1225902642522538\n",
      "Training Accuracy of the network: 75 %\n",
      "Validation Accuracy of the network: 50 %\n",
      "EarlyStopping counter: 1 out of 50\n"
     ]
    },
    {
     "name": "stderr",
     "output_type": "stream",
     "text": [
      "  8%|████████████▍                                                                                                                                                      | 76/1000 [03:15<38:59,  2.53s/it]"
     ]
    },
    {
     "name": "stdout",
     "output_type": "stream",
     "text": [
      "Training Loss: 0.6152836029018675\n",
      "Validation Loss: 1.1236868636948723\n",
      "Training Accuracy of the network: 76 %\n",
      "Validation Accuracy of the network: 51 %\n",
      "EarlyStopping counter: 2 out of 50\n"
     ]
    },
    {
     "name": "stderr",
     "output_type": "stream",
     "text": [
      "  8%|████████████▌                                                                                                                                                      | 77/1000 [03:17<38:39,  2.51s/it]"
     ]
    },
    {
     "name": "stdout",
     "output_type": "stream",
     "text": [
      "Training Loss: 0.6082186334367309\n",
      "Validation Loss: 1.1193924989019122\n",
      "Training Accuracy of the network: 75 %\n",
      "Validation Accuracy of the network: 50 %\n",
      "EarlyStopping counter: 3 out of 50\n"
     ]
    },
    {
     "name": "stderr",
     "output_type": "stream",
     "text": [
      "  8%|████████████▋                                                                                                                                                      | 78/1000 [03:20<39:02,  2.54s/it]"
     ]
    },
    {
     "name": "stdout",
     "output_type": "stream",
     "text": [
      "Training Loss: 0.5944579395864691\n",
      "Validation Loss: 1.1169512033462525\n",
      "Training Accuracy of the network: 77 %\n",
      "Validation Accuracy of the network: 51 %\n",
      "EarlyStopping counter: 4 out of 50\n"
     ]
    },
    {
     "name": "stderr",
     "output_type": "stream",
     "text": [
      "  8%|████████████▉                                                                                                                                                      | 79/1000 [03:22<39:47,  2.59s/it]"
     ]
    },
    {
     "name": "stdout",
     "output_type": "stream",
     "text": [
      "Training Loss: 0.5915717666702611\n",
      "Validation Loss: 1.109777477809361\n",
      "Training Accuracy of the network: 78 %\n",
      "Validation Accuracy of the network: 51 %\n",
      "Validation loss decreased (1.113733 --> 1.109777).  Saving model ...\n"
     ]
    },
    {
     "name": "stderr",
     "output_type": "stream",
     "text": [
      "  8%|█████████████                                                                                                                                                      | 80/1000 [03:25<39:48,  2.60s/it]"
     ]
    },
    {
     "name": "stdout",
     "output_type": "stream",
     "text": [
      "Training Loss: 0.6109246494514602\n",
      "Validation Loss: 1.1090665238244193\n",
      "Training Accuracy of the network: 75 %\n",
      "Validation Accuracy of the network: 52 %\n",
      "Validation loss decreased (1.109777 --> 1.109067).  Saving model ...\n"
     ]
    },
    {
     "name": "stderr",
     "output_type": "stream",
     "text": [
      "  8%|█████████████▏                                                                                                                                                     | 81/1000 [03:28<40:30,  2.65s/it]"
     ]
    },
    {
     "name": "stdout",
     "output_type": "stream",
     "text": [
      "Training Loss: 0.5898246379835265\n",
      "Validation Loss: 1.114887011051178\n",
      "Training Accuracy of the network: 78 %\n",
      "Validation Accuracy of the network: 52 %\n",
      "EarlyStopping counter: 1 out of 50\n"
     ]
    },
    {
     "name": "stderr",
     "output_type": "stream",
     "text": [
      "  8%|█████████████▎                                                                                                                                                     | 82/1000 [03:30<40:27,  2.64s/it]"
     ]
    },
    {
     "name": "stdout",
     "output_type": "stream",
     "text": [
      "Training Loss: 0.5727478129523141\n",
      "Validation Loss: 1.1270686456135341\n",
      "Training Accuracy of the network: 78 %\n",
      "Validation Accuracy of the network: 51 %\n",
      "EarlyStopping counter: 2 out of 50\n"
     ]
    },
    {
     "name": "stderr",
     "output_type": "stream",
     "text": [
      "  8%|█████████████▌                                                                                                                                                     | 83/1000 [03:33<40:28,  2.65s/it]"
     ]
    },
    {
     "name": "stdout",
     "output_type": "stream",
     "text": [
      "Training Loss: 0.5931477212480136\n",
      "Validation Loss: 1.1063760842595782\n",
      "Training Accuracy of the network: 77 %\n",
      "Validation Accuracy of the network: 51 %\n",
      "Validation loss decreased (1.109067 --> 1.106376).  Saving model ...\n"
     ]
    },
    {
     "name": "stderr",
     "output_type": "stream",
     "text": [
      "  8%|█████████████▋                                                                                                                                                     | 84/1000 [03:36<40:10,  2.63s/it]"
     ]
    },
    {
     "name": "stdout",
     "output_type": "stream",
     "text": [
      "Training Loss: 0.573397415929607\n",
      "Validation Loss: 1.1227199673652648\n",
      "Training Accuracy of the network: 76 %\n",
      "Validation Accuracy of the network: 50 %\n",
      "EarlyStopping counter: 1 out of 50\n"
     ]
    },
    {
     "name": "stderr",
     "output_type": "stream",
     "text": [
      "  8%|█████████████▊                                                                                                                                                     | 85/1000 [03:38<40:02,  2.63s/it]"
     ]
    },
    {
     "name": "stdout",
     "output_type": "stream",
     "text": [
      "Training Loss: 0.5701888421816486\n",
      "Validation Loss: 1.1231097851480756\n",
      "Training Accuracy of the network: 77 %\n",
      "Validation Accuracy of the network: 51 %\n",
      "EarlyStopping counter: 2 out of 50\n"
     ]
    },
    {
     "name": "stderr",
     "output_type": "stream",
     "text": [
      "  9%|██████████████                                                                                                                                                     | 86/1000 [03:41<39:59,  2.62s/it]"
     ]
    },
    {
     "name": "stdout",
     "output_type": "stream",
     "text": [
      "Training Loss: 0.5803305007517338\n",
      "Validation Loss: 1.1143901756831578\n",
      "Training Accuracy of the network: 77 %\n",
      "Validation Accuracy of the network: 51 %\n",
      "EarlyStopping counter: 3 out of 50\n"
     ]
    },
    {
     "name": "stderr",
     "output_type": "stream",
     "text": [
      "  9%|██████████████▏                                                                                                                                                    | 87/1000 [03:43<39:44,  2.61s/it]"
     ]
    },
    {
     "name": "stdout",
     "output_type": "stream",
     "text": [
      "Training Loss: 0.5614490693168981\n",
      "Validation Loss: 1.1133419871330261\n",
      "Training Accuracy of the network: 77 %\n",
      "Validation Accuracy of the network: 52 %\n",
      "EarlyStopping counter: 4 out of 50\n"
     ]
    },
    {
     "name": "stderr",
     "output_type": "stream",
     "text": [
      "  9%|██████████████▎                                                                                                                                                    | 88/1000 [03:46<39:02,  2.57s/it]"
     ]
    },
    {
     "name": "stdout",
     "output_type": "stream",
     "text": [
      "Training Loss: 0.5529565487589155\n",
      "Validation Loss: 1.1190651842526027\n",
      "Training Accuracy of the network: 79 %\n",
      "Validation Accuracy of the network: 50 %\n",
      "EarlyStopping counter: 5 out of 50\n"
     ]
    },
    {
     "name": "stderr",
     "output_type": "stream",
     "text": [
      "  9%|██████████████▌                                                                                                                                                    | 89/1000 [03:48<39:09,  2.58s/it]"
     ]
    },
    {
     "name": "stdout",
     "output_type": "stream",
     "text": [
      "Training Loss: 0.5592212847300938\n",
      "Validation Loss: 1.139777169908796\n",
      "Training Accuracy of the network: 77 %\n",
      "Validation Accuracy of the network: 49 %\n",
      "EarlyStopping counter: 6 out of 50\n"
     ]
    },
    {
     "name": "stderr",
     "output_type": "stream",
     "text": [
      "  9%|██████████████▋                                                                                                                                                    | 90/1000 [03:51<39:23,  2.60s/it]"
     ]
    },
    {
     "name": "stdout",
     "output_type": "stream",
     "text": [
      "Training Loss: 0.5662445626088551\n",
      "Validation Loss: 1.12924040385655\n",
      "Training Accuracy of the network: 78 %\n",
      "Validation Accuracy of the network: 50 %\n",
      "EarlyStopping counter: 7 out of 50\n"
     ]
    },
    {
     "name": "stderr",
     "output_type": "stream",
     "text": [
      "  9%|██████████████▊                                                                                                                                                    | 91/1000 [03:54<38:47,  2.56s/it]"
     ]
    },
    {
     "name": "stdout",
     "output_type": "stream",
     "text": [
      "Training Loss: 0.5402891969574349\n",
      "Validation Loss: 1.122358443055834\n",
      "Training Accuracy of the network: 79 %\n",
      "Validation Accuracy of the network: 50 %\n",
      "EarlyStopping counter: 8 out of 50\n"
     ]
    },
    {
     "name": "stderr",
     "output_type": "stream",
     "text": [
      "  9%|██████████████▉                                                                                                                                                    | 92/1000 [03:56<39:01,  2.58s/it]"
     ]
    },
    {
     "name": "stdout",
     "output_type": "stream",
     "text": [
      "Training Loss: 0.5392348269798926\n",
      "Validation Loss: 1.1414198057992118\n",
      "Training Accuracy of the network: 78 %\n",
      "Validation Accuracy of the network: 49 %\n",
      "EarlyStopping counter: 9 out of 50\n"
     ]
    },
    {
     "name": "stderr",
     "output_type": "stream",
     "text": [
      "  9%|███████████████▏                                                                                                                                                   | 93/1000 [03:59<39:20,  2.60s/it]"
     ]
    },
    {
     "name": "stdout",
     "output_type": "stream",
     "text": [
      "Training Loss: 0.5210984025682722\n",
      "Validation Loss: 1.1259817515100752\n",
      "Training Accuracy of the network: 79 %\n",
      "Validation Accuracy of the network: 52 %\n",
      "EarlyStopping counter: 10 out of 50\n"
     ]
    },
    {
     "name": "stderr",
     "output_type": "stream",
     "text": [
      "  9%|███████████████▎                                                                                                                                                   | 94/1000 [04:01<39:06,  2.59s/it]"
     ]
    },
    {
     "name": "stdout",
     "output_type": "stream",
     "text": [
      "Training Loss: 0.5138210269090321\n",
      "Validation Loss: 1.1259953788348607\n",
      "Training Accuracy of the network: 80 %\n",
      "Validation Accuracy of the network: 51 %\n",
      "EarlyStopping counter: 11 out of 50\n"
     ]
    },
    {
     "name": "stderr",
     "output_type": "stream",
     "text": [
      " 10%|███████████████▍                                                                                                                                                   | 95/1000 [04:04<38:33,  2.56s/it]"
     ]
    },
    {
     "name": "stdout",
     "output_type": "stream",
     "text": [
      "Training Loss: 0.537705575515117\n",
      "Validation Loss: 1.1334956765174866\n",
      "Training Accuracy of the network: 79 %\n",
      "Validation Accuracy of the network: 52 %\n",
      "EarlyStopping counter: 12 out of 50\n"
     ]
    },
    {
     "name": "stderr",
     "output_type": "stream",
     "text": [
      " 10%|███████████████▋                                                                                                                                                   | 96/1000 [04:06<38:22,  2.55s/it]"
     ]
    },
    {
     "name": "stdout",
     "output_type": "stream",
     "text": [
      "Training Loss: 0.521775281216417\n",
      "Validation Loss: 1.1223617315292358\n",
      "Training Accuracy of the network: 80 %\n",
      "Validation Accuracy of the network: 52 %\n",
      "EarlyStopping counter: 13 out of 50\n"
     ]
    },
    {
     "name": "stderr",
     "output_type": "stream",
     "text": [
      " 10%|███████████████▊                                                                                                                                                   | 97/1000 [04:09<37:49,  2.51s/it]"
     ]
    },
    {
     "name": "stdout",
     "output_type": "stream",
     "text": [
      "Training Loss: 0.517644291850073\n",
      "Validation Loss: 1.1293493492262705\n",
      "Training Accuracy of the network: 81 %\n",
      "Validation Accuracy of the network: 52 %\n",
      "EarlyStopping counter: 14 out of 50\n"
     ]
    },
    {
     "name": "stderr",
     "output_type": "stream",
     "text": [
      " 10%|███████████████▉                                                                                                                                                   | 98/1000 [04:11<38:11,  2.54s/it]"
     ]
    },
    {
     "name": "stdout",
     "output_type": "stream",
     "text": [
      "Training Loss: 0.5240716152425323\n",
      "Validation Loss: 1.1247720462935311\n",
      "Training Accuracy of the network: 79 %\n",
      "Validation Accuracy of the network: 52 %\n",
      "EarlyStopping counter: 15 out of 50\n"
     ]
    },
    {
     "name": "stderr",
     "output_type": "stream",
     "text": [
      " 10%|████████████████▏                                                                                                                                                  | 99/1000 [04:14<38:16,  2.55s/it]"
     ]
    },
    {
     "name": "stdout",
     "output_type": "stream",
     "text": [
      "Training Loss: 0.5117932486613946\n",
      "Validation Loss: 1.1128590192113603\n",
      "Training Accuracy of the network: 80 %\n",
      "Validation Accuracy of the network: 52 %\n",
      "EarlyStopping counter: 16 out of 50\n"
     ]
    },
    {
     "name": "stderr",
     "output_type": "stream",
     "text": [
      " 10%|████████████████▏                                                                                                                                                 | 100/1000 [04:17<38:30,  2.57s/it]"
     ]
    },
    {
     "name": "stdout",
     "output_type": "stream",
     "text": [
      "Training Loss: 0.49794551345652766\n",
      "Validation Loss: 1.1443331803594317\n",
      "Training Accuracy of the network: 80 %\n",
      "Validation Accuracy of the network: 50 %\n",
      "EarlyStopping counter: 17 out of 50\n"
     ]
    },
    {
     "name": "stderr",
     "output_type": "stream",
     "text": [
      " 10%|████████████████▎                                                                                                                                                 | 101/1000 [04:19<38:12,  2.55s/it]"
     ]
    },
    {
     "name": "stdout",
     "output_type": "stream",
     "text": [
      "Training Loss: 0.5138969130281891\n",
      "Validation Loss: 1.1326246517045158\n",
      "Training Accuracy of the network: 80 %\n",
      "Validation Accuracy of the network: 51 %\n",
      "EarlyStopping counter: 18 out of 50\n"
     ]
    },
    {
     "name": "stderr",
     "output_type": "stream",
     "text": [
      " 10%|████████████████▌                                                                                                                                                 | 102/1000 [04:22<38:01,  2.54s/it]"
     ]
    },
    {
     "name": "stdout",
     "output_type": "stream",
     "text": [
      "Training Loss: 0.5173565211572817\n",
      "Validation Loss: 1.1210348537990025\n",
      "Training Accuracy of the network: 80 %\n",
      "Validation Accuracy of the network: 52 %\n",
      "EarlyStopping counter: 19 out of 50\n"
     ]
    },
    {
     "name": "stderr",
     "output_type": "stream",
     "text": [
      " 10%|████████████████▋                                                                                                                                                 | 103/1000 [04:24<38:01,  2.54s/it]"
     ]
    },
    {
     "name": "stdout",
     "output_type": "stream",
     "text": [
      "Training Loss: 0.49662608932703733\n",
      "Validation Loss: 1.1177406328065054\n",
      "Training Accuracy of the network: 81 %\n",
      "Validation Accuracy of the network: 53 %\n",
      "EarlyStopping counter: 20 out of 50\n"
     ]
    },
    {
     "name": "stderr",
     "output_type": "stream",
     "text": [
      " 10%|████████████████▊                                                                                                                                                 | 104/1000 [04:27<37:24,  2.51s/it]"
     ]
    },
    {
     "name": "stdout",
     "output_type": "stream",
     "text": [
      "Training Loss: 0.49388194701501303\n",
      "Validation Loss: 1.1239355291639055\n",
      "Training Accuracy of the network: 80 %\n",
      "Validation Accuracy of the network: 52 %\n",
      "EarlyStopping counter: 21 out of 50\n"
     ]
    },
    {
     "name": "stderr",
     "output_type": "stream",
     "text": [
      " 10%|█████████████████                                                                                                                                                 | 105/1000 [04:29<37:28,  2.51s/it]"
     ]
    },
    {
     "name": "stdout",
     "output_type": "stream",
     "text": [
      "Training Loss: 0.4964862292366368\n",
      "Validation Loss: 1.1323499628475735\n",
      "Training Accuracy of the network: 80 %\n",
      "Validation Accuracy of the network: 53 %\n",
      "EarlyStopping counter: 22 out of 50\n"
     ]
    },
    {
     "name": "stderr",
     "output_type": "stream",
     "text": [
      " 11%|█████████████████▏                                                                                                                                                | 106/1000 [04:32<37:55,  2.55s/it]"
     ]
    },
    {
     "name": "stdout",
     "output_type": "stream",
     "text": [
      "Training Loss: 0.46368110346208724\n",
      "Validation Loss: 1.1232766151428222\n",
      "Training Accuracy of the network: 83 %\n",
      "Validation Accuracy of the network: 52 %\n",
      "EarlyStopping counter: 23 out of 50\n"
     ]
    },
    {
     "name": "stderr",
     "output_type": "stream",
     "text": [
      " 11%|█████████████████▎                                                                                                                                                | 107/1000 [04:34<37:09,  2.50s/it]"
     ]
    },
    {
     "name": "stdout",
     "output_type": "stream",
     "text": [
      "Training Loss: 0.48836950659751893\n",
      "Validation Loss: 1.1277315139770507\n",
      "Training Accuracy of the network: 80 %\n",
      "Validation Accuracy of the network: 54 %\n",
      "EarlyStopping counter: 24 out of 50\n"
     ]
    },
    {
     "name": "stderr",
     "output_type": "stream",
     "text": [
      " 11%|█████████████████▍                                                                                                                                                | 108/1000 [04:37<37:16,  2.51s/it]"
     ]
    },
    {
     "name": "stdout",
     "output_type": "stream",
     "text": [
      "Training Loss: 0.4678728028599705\n",
      "Validation Loss: 1.1186947005135672\n",
      "Training Accuracy of the network: 82 %\n",
      "Validation Accuracy of the network: 53 %\n",
      "EarlyStopping counter: 25 out of 50\n"
     ]
    },
    {
     "name": "stderr",
     "output_type": "stream",
     "text": [
      " 11%|█████████████████▋                                                                                                                                                | 109/1000 [04:39<37:16,  2.51s/it]"
     ]
    },
    {
     "name": "stdout",
     "output_type": "stream",
     "text": [
      "Training Loss: 0.47405721051618455\n",
      "Validation Loss: 1.1370765515736172\n",
      "Training Accuracy of the network: 82 %\n",
      "Validation Accuracy of the network: 52 %\n",
      "EarlyStopping counter: 26 out of 50\n"
     ]
    },
    {
     "name": "stderr",
     "output_type": "stream",
     "text": [
      " 11%|█████████████████▊                                                                                                                                                | 110/1000 [04:42<37:37,  2.54s/it]"
     ]
    },
    {
     "name": "stdout",
     "output_type": "stream",
     "text": [
      "Training Loss: 0.4738237203497972\n",
      "Validation Loss: 1.1419183152062553\n",
      "Training Accuracy of the network: 82 %\n",
      "Validation Accuracy of the network: 53 %\n",
      "EarlyStopping counter: 27 out of 50\n"
     ]
    },
    {
     "name": "stderr",
     "output_type": "stream",
     "text": [
      " 11%|█████████████████▉                                                                                                                                                | 111/1000 [04:44<37:35,  2.54s/it]"
     ]
    },
    {
     "name": "stdout",
     "output_type": "stream",
     "text": [
      "Training Loss: 0.48197625489639384\n",
      "Validation Loss: 1.1486408880778722\n",
      "Training Accuracy of the network: 81 %\n",
      "Validation Accuracy of the network: 52 %\n",
      "EarlyStopping counter: 28 out of 50\n"
     ]
    },
    {
     "name": "stderr",
     "output_type": "stream",
     "text": [
      " 11%|██████████████████▏                                                                                                                                               | 112/1000 [04:47<36:59,  2.50s/it]"
     ]
    },
    {
     "name": "stdout",
     "output_type": "stream",
     "text": [
      "Training Loss: 0.4704784519970417\n",
      "Validation Loss: 1.1254536543573652\n",
      "Training Accuracy of the network: 82 %\n",
      "Validation Accuracy of the network: 52 %\n",
      "EarlyStopping counter: 29 out of 50\n"
     ]
    },
    {
     "name": "stderr",
     "output_type": "stream",
     "text": [
      " 11%|██████████████████▎                                                                                                                                               | 113/1000 [04:49<37:10,  2.51s/it]"
     ]
    },
    {
     "name": "stdout",
     "output_type": "stream",
     "text": [
      "Training Loss: 0.45349947905966215\n",
      "Validation Loss: 1.1255175505365644\n",
      "Training Accuracy of the network: 83 %\n",
      "Validation Accuracy of the network: 53 %\n",
      "EarlyStopping counter: 30 out of 50\n"
     ]
    },
    {
     "name": "stderr",
     "output_type": "stream",
     "text": [
      " 11%|██████████████████▍                                                                                                                                               | 114/1000 [04:52<37:04,  2.51s/it]"
     ]
    },
    {
     "name": "stdout",
     "output_type": "stream",
     "text": [
      "Training Loss: 0.4827432989009789\n",
      "Validation Loss: 1.1224209955760411\n",
      "Training Accuracy of the network: 80 %\n",
      "Validation Accuracy of the network: 53 %\n",
      "EarlyStopping counter: 31 out of 50\n"
     ]
    },
    {
     "name": "stderr",
     "output_type": "stream",
     "text": [
      " 12%|██████████████████▋                                                                                                                                               | 115/1000 [04:54<37:21,  2.53s/it]"
     ]
    },
    {
     "name": "stdout",
     "output_type": "stream",
     "text": [
      "Training Loss: 0.44606270827353\n",
      "Validation Loss: 1.1369818040302822\n",
      "Training Accuracy of the network: 82 %\n",
      "Validation Accuracy of the network: 53 %\n",
      "EarlyStopping counter: 32 out of 50\n"
     ]
    },
    {
     "name": "stderr",
     "output_type": "stream",
     "text": [
      " 12%|██████████████████▊                                                                                                                                               | 116/1000 [04:57<37:40,  2.56s/it]"
     ]
    },
    {
     "name": "stdout",
     "output_type": "stream",
     "text": [
      "Training Loss: 0.451488733664155\n",
      "Validation Loss: 1.1427358474050249\n",
      "Training Accuracy of the network: 83 %\n",
      "Validation Accuracy of the network: 51 %\n",
      "EarlyStopping counter: 33 out of 50\n"
     ]
    },
    {
     "name": "stderr",
     "output_type": "stream",
     "text": [
      " 12%|██████████████████▉                                                                                                                                               | 117/1000 [05:00<37:44,  2.56s/it]"
     ]
    },
    {
     "name": "stdout",
     "output_type": "stream",
     "text": [
      "Training Loss: 0.45701014742787394\n",
      "Validation Loss: 1.1361403226852418\n",
      "Training Accuracy of the network: 81 %\n",
      "Validation Accuracy of the network: 53 %\n",
      "EarlyStopping counter: 34 out of 50\n"
     ]
    },
    {
     "name": "stderr",
     "output_type": "stream",
     "text": [
      " 12%|███████████████████                                                                                                                                               | 118/1000 [05:02<37:58,  2.58s/it]"
     ]
    },
    {
     "name": "stdout",
     "output_type": "stream",
     "text": [
      "Training Loss: 0.4361310379180525\n",
      "Validation Loss: 1.1311313884598868\n",
      "Training Accuracy of the network: 83 %\n",
      "Validation Accuracy of the network: 53 %\n",
      "EarlyStopping counter: 35 out of 50\n"
     ]
    },
    {
     "name": "stderr",
     "output_type": "stream",
     "text": [
      " 12%|███████████████████▎                                                                                                                                              | 119/1000 [05:05<37:50,  2.58s/it]"
     ]
    },
    {
     "name": "stdout",
     "output_type": "stream",
     "text": [
      "Training Loss: 0.44535939770617655\n",
      "Validation Loss: 1.1631518534251621\n",
      "Training Accuracy of the network: 83 %\n",
      "Validation Accuracy of the network: 52 %\n",
      "EarlyStopping counter: 36 out of 50\n"
     ]
    },
    {
     "name": "stderr",
     "output_type": "stream",
     "text": [
      " 12%|███████████████████▍                                                                                                                                              | 120/1000 [05:07<37:19,  2.54s/it]"
     ]
    },
    {
     "name": "stdout",
     "output_type": "stream",
     "text": [
      "Training Loss: 0.42907361332327126\n",
      "Validation Loss: 1.1333069239343916\n",
      "Training Accuracy of the network: 83 %\n",
      "Validation Accuracy of the network: 53 %\n",
      "EarlyStopping counter: 37 out of 50\n"
     ]
    },
    {
     "name": "stderr",
     "output_type": "stream",
     "text": [
      " 12%|███████████████████▌                                                                                                                                              | 121/1000 [05:10<37:17,  2.55s/it]"
     ]
    },
    {
     "name": "stdout",
     "output_type": "stream",
     "text": [
      "Training Loss: 0.4471500472032598\n",
      "Validation Loss: 1.132675964491708\n",
      "Training Accuracy of the network: 83 %\n",
      "Validation Accuracy of the network: 52 %\n",
      "EarlyStopping counter: 38 out of 50\n"
     ]
    },
    {
     "name": "stderr",
     "output_type": "stream",
     "text": [
      " 12%|███████████████████▊                                                                                                                                              | 122/1000 [05:12<37:18,  2.55s/it]"
     ]
    },
    {
     "name": "stdout",
     "output_type": "stream",
     "text": [
      "Training Loss: 0.44576463074024236\n",
      "Validation Loss: 1.1334283999034336\n",
      "Training Accuracy of the network: 83 %\n",
      "Validation Accuracy of the network: 52 %\n",
      "EarlyStopping counter: 39 out of 50\n"
     ]
    },
    {
     "name": "stderr",
     "output_type": "stream",
     "text": [
      " 12%|███████████████████▉                                                                                                                                              | 123/1000 [05:15<36:33,  2.50s/it]"
     ]
    },
    {
     "name": "stdout",
     "output_type": "stream",
     "text": [
      "Training Loss: 0.41667517522083863\n",
      "Validation Loss: 1.146202998501914\n",
      "Training Accuracy of the network: 84 %\n",
      "Validation Accuracy of the network: 52 %\n",
      "EarlyStopping counter: 40 out of 50\n"
     ]
    },
    {
     "name": "stderr",
     "output_type": "stream",
     "text": [
      " 12%|████████████████████                                                                                                                                              | 124/1000 [05:17<36:31,  2.50s/it]"
     ]
    },
    {
     "name": "stdout",
     "output_type": "stream",
     "text": [
      "Training Loss: 0.42100792154669764\n",
      "Validation Loss: 1.137532559462956\n",
      "Training Accuracy of the network: 83 %\n",
      "Validation Accuracy of the network: 53 %\n",
      "EarlyStopping counter: 41 out of 50\n"
     ]
    },
    {
     "name": "stderr",
     "output_type": "stream",
     "text": [
      " 12%|████████████████████▎                                                                                                                                             | 125/1000 [05:20<36:38,  2.51s/it]"
     ]
    },
    {
     "name": "stdout",
     "output_type": "stream",
     "text": [
      "Training Loss: 0.42315870597958566\n",
      "Validation Loss: 1.1543695296560015\n",
      "Training Accuracy of the network: 84 %\n",
      "Validation Accuracy of the network: 52 %\n",
      "EarlyStopping counter: 42 out of 50\n"
     ]
    },
    {
     "name": "stderr",
     "output_type": "stream",
     "text": [
      " 13%|████████████████████▍                                                                                                                                             | 126/1000 [05:22<36:46,  2.52s/it]"
     ]
    },
    {
     "name": "stdout",
     "output_type": "stream",
     "text": [
      "Training Loss: 0.4229743308387697\n",
      "Validation Loss: 1.1659675734383719\n",
      "Training Accuracy of the network: 83 %\n",
      "Validation Accuracy of the network: 52 %\n",
      "EarlyStopping counter: 43 out of 50\n"
     ]
    },
    {
     "name": "stderr",
     "output_type": "stream",
     "text": [
      " 13%|████████████████████▌                                                                                                                                             | 127/1000 [05:25<36:23,  2.50s/it]"
     ]
    },
    {
     "name": "stdout",
     "output_type": "stream",
     "text": [
      "Training Loss: 0.4260198589281312\n",
      "Validation Loss: 1.1626656464168004\n",
      "Training Accuracy of the network: 84 %\n",
      "Validation Accuracy of the network: 52 %\n",
      "EarlyStopping counter: 44 out of 50\n"
     ]
    },
    {
     "name": "stderr",
     "output_type": "stream",
     "text": [
      " 13%|████████████████████▋                                                                                                                                             | 128/1000 [05:27<36:22,  2.50s/it]"
     ]
    },
    {
     "name": "stdout",
     "output_type": "stream",
     "text": [
      "Training Loss: 0.4043612835130521\n",
      "Validation Loss: 1.1497057676315308\n",
      "Training Accuracy of the network: 85 %\n",
      "Validation Accuracy of the network: 53 %\n",
      "EarlyStopping counter: 45 out of 50\n"
     ]
    },
    {
     "name": "stderr",
     "output_type": "stream",
     "text": [
      " 13%|████████████████████▉                                                                                                                                             | 129/1000 [05:30<36:28,  2.51s/it]"
     ]
    },
    {
     "name": "stdout",
     "output_type": "stream",
     "text": [
      "Training Loss: 0.4207399830754314\n",
      "Validation Loss: 1.1677157640457154\n",
      "Training Accuracy of the network: 84 %\n",
      "Validation Accuracy of the network: 52 %\n",
      "EarlyStopping counter: 46 out of 50\n"
     ]
    },
    {
     "name": "stderr",
     "output_type": "stream",
     "text": [
      " 13%|█████████████████████                                                                                                                                             | 130/1000 [05:32<36:56,  2.55s/it]"
     ]
    },
    {
     "name": "stdout",
     "output_type": "stream",
     "text": [
      "Training Loss: 0.42662049178034067\n",
      "Validation Loss: 1.1440785118511745\n",
      "Training Accuracy of the network: 84 %\n",
      "Validation Accuracy of the network: 54 %\n",
      "EarlyStopping counter: 47 out of 50\n"
     ]
    },
    {
     "name": "stderr",
     "output_type": "stream",
     "text": [
      " 13%|█████████████████████▏                                                                                                                                            | 131/1000 [05:35<36:43,  2.54s/it]"
     ]
    },
    {
     "name": "stdout",
     "output_type": "stream",
     "text": [
      "Training Loss: 0.4117583424784243\n",
      "Validation Loss: 1.1548416784831457\n",
      "Training Accuracy of the network: 83 %\n",
      "Validation Accuracy of the network: 52 %\n",
      "EarlyStopping counter: 48 out of 50\n"
     ]
    },
    {
     "name": "stderr",
     "output_type": "stream",
     "text": [
      " 13%|█████████████████████▍                                                                                                                                            | 132/1000 [05:38<36:50,  2.55s/it]"
     ]
    },
    {
     "name": "stdout",
     "output_type": "stream",
     "text": [
      "Training Loss: 0.41789051563079865\n",
      "Validation Loss: 1.1573468582970756\n",
      "Training Accuracy of the network: 84 %\n",
      "Validation Accuracy of the network: 51 %\n",
      "EarlyStopping counter: 49 out of 50\n"
     ]
    },
    {
     "name": "stderr",
     "output_type": "stream",
     "text": [
      " 13%|█████████████████████▍                                                                                                                                            | 132/1000 [05:40<37:20,  2.58s/it]"
     ]
    },
    {
     "name": "stdout",
     "output_type": "stream",
     "text": [
      "Training Loss: 0.40656701815979823\n",
      "Validation Loss: 1.177463928290776\n",
      "Training Accuracy of the network: 83 %\n",
      "Validation Accuracy of the network: 52 %\n",
      "EarlyStopping counter: 50 out of 50\n",
      "Early Stopping\n",
      "Testing Loss: 1.5091813802719116\n",
      "Testing Accuracy of the network: 47 %\n"
     ]
    },
    {
     "name": "stderr",
     "output_type": "stream",
     "text": [
      "\n"
     ]
    }
   ],
   "source": [
    "for  lr, subject in product([lr], range(total_subjects)): #iteratively selects subject to leave out\n",
    "    torch.manual_seed(0)\n",
    "    torch.cuda.manual_seed(0)\n",
    "    torch.cuda.manual_seed_all(0)\n",
    "    np.random.seed(0)\n",
    "    random.seed(0)\n",
    "\n",
    "    XS, YS, XL, YL = subject_out(X,Y,subject)\n",
    "    \n",
    "    model = EEGNet1().cuda()\n",
    "    criterion = nn.CrossEntropyLoss()\n",
    "\n",
    "\n",
    "    optimizer = optim.Adam(model.parameters() , lr=lr)\n",
    "\n",
    "    \n",
    "    trainingSUbjects = list(range(nchannels))\n",
    "    trainingSUbjects.remove(subject)\n",
    " \n",
    "\n",
    "\n",
    "    trainLoss = [] \n",
    "    valLoss = []\n",
    "    train_acc = []\n",
    "    val_acc = []\n",
    "\n",
    "    early_stopping = EarlyStopping(patience, verbose=True)\n",
    "\n",
    " \n",
    "\n",
    "    trainloader, testloader, scaler = preploaders(XS, YS, batch_size)\n",
    "    \n",
    "\n",
    "\n",
    "    for epoch in tqdm(range(num_epoch)):  \n",
    "        training_loss = 0\n",
    "        validation_loss = 0\n",
    "        total_train = 0\n",
    "        correct_train = 0\n",
    "\n",
    "\n",
    "        model.train()\n",
    "\n",
    "        for i, data in enumerate(trainloader,0):\n",
    "            inputs, labels = data\n",
    "\n",
    "        \n",
    "            optimizer.zero_grad()\n",
    "            inputNew = inputs[:,np.newaxis,:,:]\n",
    "   \n",
    "    \n",
    "            outputs = model(inputNew)\n",
    "            loss = criterion(outputs, labels[:,1].long())\n",
    "            loss.backward()\n",
    "            optimizer.step()\n",
    "\n",
    "            training_loss += loss.item()\n",
    "            _, predicted = torch.max(outputs.data, 1)\n",
    "            total_train += labels.size(0)\n",
    "\n",
    "            correct_train += (predicted == labels[:,1].long()).sum().item()\n",
    "\n",
    "\n",
    "\n",
    "        correct = 0\n",
    "        total = 0\n",
    "\n",
    "        model.eval() \n",
    "\n",
    "        with torch.no_grad():\n",
    "            for data in testloader:\n",
    "                inputs, labels = data\n",
    "                inputNew = inputs[:,np.newaxis,:,:]\n",
    "\n",
    "\n",
    "                outputs = model(inputNew)\n",
    "\n",
    "                loss = criterion(outputs, labels[:,1].long()) \n",
    "                _, predicted = torch.max(outputs.data, 1)\n",
    "                total += labels.size(0)\n",
    "                correct += (predicted == labels[:,1].long()).sum().item()\n",
    "                validation_loss += loss.item()\n",
    "\n",
    "\n",
    "\n",
    "        acc_train = 100 * correct_train // total_train\n",
    "        acc_val = 100 * correct // total\n",
    "        training_loss = training_loss/(len(trainloader))\n",
    "        validation_loss = validation_loss/(len(testloader))\n",
    "        trainLoss.append(training_loss)\n",
    "        valLoss.append(validation_loss)\n",
    "        train_acc.append(acc_train)\n",
    "        val_acc.append(acc_val)\n",
    "        print(f\"Training Loss: {training_loss}\")\n",
    "        print(f\"Validation Loss: {validation_loss}\")\n",
    "        print(f'Training Accuracy of the network: {acc_train} %')\n",
    "        print(f'Validation Accuracy of the network: {acc_val} %')\n",
    "\n",
    "\n",
    "        early_stopping(validation_loss,model)\n",
    "        if early_stopping.bestFound:\n",
    "            iterationOfBestModel = epoch\n",
    "            \n",
    "        if early_stopping.early_stop:\n",
    "            print(\"Early Stopping\")\n",
    "            break\n",
    "    model = early_stopping.bestModel\n",
    "\n",
    "\n",
    "\n",
    "\n",
    "\n",
    "    XL_train, XL_test, YL_train, YL_test = train_test_split(XL,YL, test_size=0.95, random_state=0)\n",
    "    loader = prepdataloader(XL_train,YL_train,scaler,nchannels,batch_size1)\n",
    "    subjectloader = prepdataloader(XL_test,YL_test,scaler,nchannels,batch_size1=XL_test.shape[0])\n",
    "\n",
    "        \n",
    "    \n",
    "\n",
    "    model.eval()\n",
    "    testLoss = []\n",
    "    test_acc = []\n",
    "        \n",
    "\n",
    "     \n",
    "\n",
    "\n",
    "\n",
    "    correct_test = 0\n",
    "    total_test = 0\n",
    "    testing_loss = 0\n",
    "\n",
    "    with torch.no_grad():\n",
    "        for data in subjectloader:\n",
    "            inputs, labels = data\n",
    "            inputNew = inputs[:,np.newaxis,:,:]\n",
    "        \n",
    "            outputs = model(inputNew)\n",
    "\n",
    "            loss = criterion(outputs, labels[:,1].long()) \n",
    "            _, predicted = torch.max(outputs.data, 1)\n",
    "            total_test += labels.size(0)\n",
    "            correct_test += (predicted == labels[:,1].long()).sum().item()\n",
    "            testing_loss += loss.item()\n",
    "\n",
    "    acc_test = 100 * correct_test // total_test\n",
    "    testing_loss = testing_loss/(len(subjectloader))\n",
    "    testLoss.append(testing_loss)\n",
    "    test_acc.append(acc_test)\n",
    "    print(f\"Testing Loss: {testing_loss}\")\n",
    "    print(f'Testing Accuracy of the network: {acc_test} %')  "
   ]
  },
  {
   "cell_type": "code",
   "execution_count": null,
   "id": "f75f5abc",
   "metadata": {},
   "outputs": [],
   "source": []
  }
 ],
 "metadata": {
  "kernelspec": {
   "display_name": "eegtf2",
   "language": "python",
   "name": "eegtf2"
  },
  "language_info": {
   "codemirror_mode": {
    "name": "ipython",
    "version": 3
   },
   "file_extension": ".py",
   "mimetype": "text/x-python",
   "name": "python",
   "nbconvert_exporter": "python",
   "pygments_lexer": "ipython3",
   "version": "3.8.13"
  }
 },
 "nbformat": 4,
 "nbformat_minor": 5
}
