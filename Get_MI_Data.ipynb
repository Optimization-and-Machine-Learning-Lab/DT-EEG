{
 "cells": [
  {
   "cell_type": "code",
   "execution_count": 1,
   "id": "7ce1d35b",
   "metadata": {},
   "outputs": [],
   "source": [
    "import os\n",
    "import sys\n",
    "import random\n",
    "import numpy as np\n",
    "import pandas as pd\n",
    "import scipy\n",
    "import matplotlib.pyplot as plt\n",
    "import torch\n",
    "import torchvision\n",
    "import torch.nn as nn\n",
    "import torch.optim as optim\n",
    "from torch.utils.data import DataLoader, Dataset, Subset\n",
    "import torchvision.transforms as transforms\n",
    "from sklearn.model_selection import train_test_split\n",
    "from sklearn.preprocessing import OneHotEncoder , StandardScaler\n",
    "from tqdm import tqdm\n",
    "import scipy.io as sio\n",
    "import pickle"
   ]
  },
  {
   "cell_type": "code",
   "execution_count": 2,
   "id": "a06ce91f",
   "metadata": {},
   "outputs": [],
   "source": [
    "#Source: https://github.com/MultiScale-BCI/IV-2a/blob/master/get_data.py\n",
    "\n",
    "'''\tLoads the dataset 2a of the BCI Competition IV \n",
    "available on http://bnci-horizon-2020.eu/database/data-sets\n",
    "'''\n",
    "\n",
    "__author__ = \"Michael Hersche and Tino Rellstab\"\n",
    "__email__ = \"herschmi@ethz.ch,tinor@ethz.ch\"\n",
    "\n",
    "def get_data(subject,training,PATH):\n",
    "    '''\n",
    "    Keyword arguments:\n",
    "    subject -- number of subject in [1, .. ,9]\n",
    "    training -- if True: load training data\n",
    "                if False: load testing data\n",
    "    \n",
    "    Return: data_return numpy matrix (nvalid_trial x 22 x 1750)\n",
    "            class_return numpy matrix (nvalid_trial)\n",
    "    '''\n",
    "    nchannels = 22\n",
    "    ntests = 6*48 \n",
    "    windowlength = 7*250 \n",
    "\n",
    "    class_return = np.zeros(ntests)\n",
    "    data_return = np.zeros((ntests,nchannels,windowlength))\n",
    "\n",
    "    nvalid_trial = 0\n",
    "    if training:\n",
    "        a = sio.loadmat(PATH+'A0'+str(subject)+'T.mat')\n",
    "    else:\n",
    "        a = sio.loadmat(PATH+'A0'+str(subject)+'E.mat')\n",
    "    a_data = a['data']\n",
    "    for ii in range(0,a_data.size):\n",
    "        a_data1 = a_data[0,ii]\n",
    "        a_data2=[a_data1[0,0]]\n",
    "        a_data3=a_data2[0]\n",
    "        a_X = a_data3[0]\n",
    "        a_trial = a_data3[1]\n",
    "        a_y = a_data3[2]\n",
    "        a_fs = a_data3[3]\n",
    "        a_classes = a_data3[4]\n",
    "        a_artifacts = a_data3[5]\n",
    "        a_gender = a_data3[6]\n",
    "        a_age = a_data3[7]\n",
    "        for trial in range(0,a_trial.size):\n",
    "            if(a_artifacts[trial]==0):\n",
    "                data_return[nvalid_trial,:,:] = np.transpose(a_X[int(a_trial[trial]):(int(a_trial[trial])+windowlength),:22])\n",
    "                class_return[nvalid_trial] = int(a_y[trial])\n",
    "                nvalid_trial +=1\n",
    "\n",
    "\n",
    "    return data_return[0:nvalid_trial,:,:], class_return[0:nvalid_trial]"
   ]
  },
  {
   "cell_type": "code",
   "execution_count": 3,
   "id": "db362f48",
   "metadata": {},
   "outputs": [],
   "source": [
    "PATH = 'BCI Competition IV/Dataset2/2a/'\n",
    "training = True"
   ]
  },
  {
   "cell_type": "code",
   "execution_count": 4,
   "id": "0eb47fc8",
   "metadata": {},
   "outputs": [],
   "source": [
    "subjs = []\n",
    "num_subjects = 9\n",
    "for i in range(1,num_subjects+1):\n",
    "    data, labels = get_data(i,training,PATH)\n",
    "    subjs.append([data,labels])"
   ]
  },
  {
   "cell_type": "code",
   "execution_count": 5,
   "id": "168f75a7",
   "metadata": {},
   "outputs": [],
   "source": [
    "X = []\n",
    "Y = []\n",
    "for i in range(len(subjs)):\n",
    "    X.append(subjs[i][0])\n",
    "    for j in range(len(subjs[i][0])):\n",
    "        Y.append([i,int(subjs[i][1][j]-1)]) #subject id x label (adjust class labels [1,2,3,4] --> [0,1,2,3])"
   ]
  },
  {
   "cell_type": "code",
   "execution_count": 6,
   "id": "1a8d9399",
   "metadata": {},
   "outputs": [],
   "source": [
    "X = np.concatenate(X)\n",
    "Y = np.array(Y)"
   ]
  },
  {
   "cell_type": "code",
   "execution_count": 7,
   "id": "ff76d73e",
   "metadata": {},
   "outputs": [
    {
     "data": {
      "text/plain": [
       "((2328, 22, 1750), (2328, 2))"
      ]
     },
     "execution_count": 7,
     "metadata": {},
     "output_type": "execute_result"
    }
   ],
   "source": [
    "X.shape, Y.shape"
   ]
  },
  {
   "cell_type": "code",
   "execution_count": 8,
   "id": "62ceafaa",
   "metadata": {},
   "outputs": [
    {
     "data": {
      "text/plain": [
       "(dtype('float64'), dtype('int64'))"
      ]
     },
     "execution_count": 8,
     "metadata": {},
     "output_type": "execute_result"
    }
   ],
   "source": [
    "X.dtype, Y.dtype"
   ]
  },
  {
   "cell_type": "code",
   "execution_count": 9,
   "id": "538a9aaa",
   "metadata": {},
   "outputs": [],
   "source": [
    "X = X.reshape(X.shape[0],X.shape[2],X.shape[1])"
   ]
  },
  {
   "cell_type": "code",
   "execution_count": 10,
   "id": "1d1d268c",
   "metadata": {},
   "outputs": [
    {
     "data": {
      "text/plain": [
       "(2328, 1750, 22)"
      ]
     },
     "execution_count": 10,
     "metadata": {},
     "output_type": "execute_result"
    }
   ],
   "source": [
    "X.shape #trials x timestamp x channels"
   ]
  },
  {
   "cell_type": "code",
   "execution_count": 11,
   "id": "25adb943",
   "metadata": {},
   "outputs": [
    {
     "data": {
      "text/plain": [
       "(2328, 2)"
      ]
     },
     "execution_count": 11,
     "metadata": {},
     "output_type": "execute_result"
    }
   ],
   "source": [
    "Y.shape #trials x (subject_id, label)"
   ]
  },
  {
   "cell_type": "code",
   "execution_count": 12,
   "id": "af9aaa4b",
   "metadata": {},
   "outputs": [],
   "source": [
    "pickle.dump([X,Y] ,open('CrossSubjects_MI.pkl', \"wb\"))"
   ]
  }
 ],
 "metadata": {
  "kernelspec": {
   "display_name": "eegtf2",
   "language": "python",
   "name": "eegtf2"
  },
  "language_info": {
   "codemirror_mode": {
    "name": "ipython",
    "version": 3
   },
   "file_extension": ".py",
   "mimetype": "text/x-python",
   "name": "python",
   "nbconvert_exporter": "python",
   "pygments_lexer": "ipython3",
   "version": "3.8.13"
  }
 },
 "nbformat": 4,
 "nbformat_minor": 5
}
